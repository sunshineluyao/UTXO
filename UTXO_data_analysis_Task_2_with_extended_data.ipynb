{
  "nbformat": 4,
  "nbformat_minor": 0,
  "metadata": {
    "colab": {
      "name": "UTXO_data_analysis Task 2 with extended data.ipynb",
      "provenance": [],
      "include_colab_link": true
    },
    "kernelspec": {
      "name": "python3",
      "display_name": "Python 3"
    }
  },
  "cells": [
    {
      "cell_type": "markdown",
      "metadata": {
        "id": "view-in-github",
        "colab_type": "text"
      },
      "source": [
        "<a href=\"https://colab.research.google.com/github/sunshineluyao/UTXO/blob/main/UTXO_data_analysis_Task_2_with_extended_data.ipynb\" target=\"_parent\"><img src=\"https://colab.research.google.com/assets/colab-badge.svg\" alt=\"Open In Colab\"/></a>"
      ]
    },
    {
      "cell_type": "code",
      "metadata": {
        "id": "6zEL2Q-TvdvF"
      },
      "source": [
        "import numpy as np\n",
        "import pandas as pd\n",
        "import datetime"
      ],
      "execution_count": null,
      "outputs": []
    },
    {
      "cell_type": "code",
      "metadata": {
        "id": "A-BFZR_AwLC2",
        "outputId": "c6985609-62a7-4ea9-be8d-aa0ebaef0ae1",
        "colab": {
          "base_uri": "https://localhost:8080/"
        }
      },
      "source": [
        "!pip install chart_studio"
      ],
      "execution_count": null,
      "outputs": [
        {
          "output_type": "stream",
          "text": [
            "Collecting chart_studio\n",
            "\u001b[?25l  Downloading https://files.pythonhosted.org/packages/ca/ce/330794a6b6ca4b9182c38fc69dd2a9cbff60fd49421cb8648ee5fee352dc/chart_studio-1.1.0-py3-none-any.whl (64kB)\n",
            "\r\u001b[K     |█████                           | 10kB 17.1MB/s eta 0:00:01\r\u001b[K     |██████████▏                     | 20kB 20.7MB/s eta 0:00:01\r\u001b[K     |███████████████▎                | 30kB 9.6MB/s eta 0:00:01\r\u001b[K     |████████████████████▍           | 40kB 9.0MB/s eta 0:00:01\r\u001b[K     |█████████████████████████▍      | 51kB 4.3MB/s eta 0:00:01\r\u001b[K     |██████████████████████████████▌ | 61kB 4.7MB/s eta 0:00:01\r\u001b[K     |████████████████████████████████| 71kB 3.4MB/s \n",
            "\u001b[?25hRequirement already satisfied: retrying>=1.3.3 in /usr/local/lib/python3.6/dist-packages (from chart_studio) (1.3.3)\n",
            "Requirement already satisfied: requests in /usr/local/lib/python3.6/dist-packages (from chart_studio) (2.23.0)\n",
            "Requirement already satisfied: six in /usr/local/lib/python3.6/dist-packages (from chart_studio) (1.15.0)\n",
            "Requirement already satisfied: plotly in /usr/local/lib/python3.6/dist-packages (from chart_studio) (4.4.1)\n",
            "Requirement already satisfied: idna<3,>=2.5 in /usr/local/lib/python3.6/dist-packages (from requests->chart_studio) (2.10)\n",
            "Requirement already satisfied: urllib3!=1.25.0,!=1.25.1,<1.26,>=1.21.1 in /usr/local/lib/python3.6/dist-packages (from requests->chart_studio) (1.24.3)\n",
            "Requirement already satisfied: chardet<4,>=3.0.2 in /usr/local/lib/python3.6/dist-packages (from requests->chart_studio) (3.0.4)\n",
            "Requirement already satisfied: certifi>=2017.4.17 in /usr/local/lib/python3.6/dist-packages (from requests->chart_studio) (2020.6.20)\n",
            "Installing collected packages: chart-studio\n",
            "Successfully installed chart-studio-1.1.0\n"
          ],
          "name": "stdout"
        }
      ]
    },
    {
      "cell_type": "markdown",
      "metadata": {
        "id": "VsvjiDmHvEDp"
      },
      "source": [
        "## Import Data from Google Drive and Data Wrangling"
      ]
    },
    {
      "cell_type": "code",
      "metadata": {
        "id": "-0pbOPfSvAPi",
        "outputId": "6f89451a-0239-4eda-f826-0c39ee6f0b03",
        "colab": {
          "base_uri": "https://localhost:8080/"
        }
      },
      "source": [
        "# Importing drive method from colab for accessing google drive\n",
        "from google.colab import drive\n",
        "\n",
        "# Mounting drive\n",
        "drive.mount('/content/drive')"
      ],
      "execution_count": null,
      "outputs": [
        {
          "output_type": "stream",
          "text": [
            "Drive already mounted at /content/drive; to attempt to forcibly remount, call drive.mount(\"/content/drive\", force_remount=True).\n"
          ],
          "name": "stdout"
        }
      ]
    },
    {
      "cell_type": "code",
      "metadata": {
        "id": "Tdbbzug3vk9X",
        "outputId": "9a0ecac2-da41-44c2-d946-feac159b8bb0",
        "colab": {
          "base_uri": "https://localhost:8080/"
        }
      },
      "source": [
        "import numpy as np\n",
        "import pandas as pd\n",
        "df_2010=pd.read_csv('/content/drive/My Drive/joint_2010.csv')\n",
        "df_2010.head()"
      ],
      "execution_count": null,
      "outputs": [
        {
          "output_type": "execute_result",
          "data": {
            "text/html": [
              "<div>\n",
              "<style scoped>\n",
              "    .dataframe tbody tr th:only-of-type {\n",
              "        vertical-align: middle;\n",
              "    }\n",
              "\n",
              "    .dataframe tbody tr th {\n",
              "        vertical-align: top;\n",
              "    }\n",
              "\n",
              "    .dataframe thead th {\n",
              "        text-align: right;\n",
              "    }\n",
              "</style>\n",
              "<table border=\"1\" class=\"dataframe\">\n",
              "  <thead>\n",
              "    <tr style=\"text-align: right;\">\n",
              "      <th></th>\n",
              "      <th>num</th>\n",
              "      <th>value</th>\n",
              "      <th>block_date</th>\n",
              "      <th>spent_block_date</th>\n",
              "    </tr>\n",
              "  </thead>\n",
              "  <tbody>\n",
              "    <tr>\n",
              "      <th>0</th>\n",
              "      <td>21553</td>\n",
              "      <td>5.000000e+09</td>\n",
              "      <td>1/9/2009</td>\n",
              "      <td>1/12/2009</td>\n",
              "    </tr>\n",
              "    <tr>\n",
              "      <th>1</th>\n",
              "      <td>1</td>\n",
              "      <td>5.000000e+09</td>\n",
              "      <td>1/9/2009</td>\n",
              "      <td>NaN</td>\n",
              "    </tr>\n",
              "    <tr>\n",
              "      <th>2</th>\n",
              "      <td>2</td>\n",
              "      <td>5.000000e+09</td>\n",
              "      <td>1/9/2009</td>\n",
              "      <td>NaN</td>\n",
              "    </tr>\n",
              "    <tr>\n",
              "      <th>3</th>\n",
              "      <td>3</td>\n",
              "      <td>5.000000e+09</td>\n",
              "      <td>1/9/2009</td>\n",
              "      <td>NaN</td>\n",
              "    </tr>\n",
              "    <tr>\n",
              "      <th>4</th>\n",
              "      <td>4</td>\n",
              "      <td>5.000000e+09</td>\n",
              "      <td>1/9/2009</td>\n",
              "      <td>NaN</td>\n",
              "    </tr>\n",
              "  </tbody>\n",
              "</table>\n",
              "</div>"
            ],
            "text/plain": [
              "     num         value block_date spent_block_date\n",
              "0  21553  5.000000e+09   1/9/2009        1/12/2009\n",
              "1      1  5.000000e+09   1/9/2009              NaN\n",
              "2      2  5.000000e+09   1/9/2009              NaN\n",
              "3      3  5.000000e+09   1/9/2009              NaN\n",
              "4      4  5.000000e+09   1/9/2009              NaN"
            ]
          },
          "metadata": {
            "tags": []
          },
          "execution_count": 110
        }
      ]
    },
    {
      "cell_type": "code",
      "metadata": {
        "id": "RBpeltcPe9jY",
        "outputId": "72b593af-27b2-4652-865e-403732c09a59",
        "colab": {
          "base_uri": "https://localhost:8080/"
        }
      },
      "source": [
        "df_2011=pd.read_csv('/content/drive/My Drive/joint_2011.csv')\n",
        "df_2011.tail()"
      ],
      "execution_count": null,
      "outputs": [
        {
          "output_type": "execute_result",
          "data": {
            "text/html": [
              "<div>\n",
              "<style scoped>\n",
              "    .dataframe tbody tr th:only-of-type {\n",
              "        vertical-align: middle;\n",
              "    }\n",
              "\n",
              "    .dataframe tbody tr th {\n",
              "        vertical-align: top;\n",
              "    }\n",
              "\n",
              "    .dataframe thead th {\n",
              "        text-align: right;\n",
              "    }\n",
              "</style>\n",
              "<table border=\"1\" class=\"dataframe\">\n",
              "  <thead>\n",
              "    <tr style=\"text-align: right;\">\n",
              "      <th></th>\n",
              "      <th>num</th>\n",
              "      <th>value</th>\n",
              "      <th>block_date</th>\n",
              "      <th>spent_block_date</th>\n",
              "    </tr>\n",
              "  </thead>\n",
              "  <tbody>\n",
              "    <tr>\n",
              "      <th>1048570</th>\n",
              "      <td>415429</td>\n",
              "      <td>8.496683e+06</td>\n",
              "      <td>8/6/2011</td>\n",
              "      <td>8/8/2011</td>\n",
              "    </tr>\n",
              "    <tr>\n",
              "      <th>1048571</th>\n",
              "      <td>415965</td>\n",
              "      <td>1.200000e+08</td>\n",
              "      <td>8/6/2011</td>\n",
              "      <td>8/8/2011</td>\n",
              "    </tr>\n",
              "    <tr>\n",
              "      <th>1048572</th>\n",
              "      <td>416087</td>\n",
              "      <td>1.700000e+07</td>\n",
              "      <td>8/6/2011</td>\n",
              "      <td>8/8/2011</td>\n",
              "    </tr>\n",
              "    <tr>\n",
              "      <th>1048573</th>\n",
              "      <td>416508</td>\n",
              "      <td>5.884410e+07</td>\n",
              "      <td>8/6/2011</td>\n",
              "      <td>8/8/2011</td>\n",
              "    </tr>\n",
              "    <tr>\n",
              "      <th>1048574</th>\n",
              "      <td>420271</td>\n",
              "      <td>1.222000e+09</td>\n",
              "      <td>8/6/2011</td>\n",
              "      <td>8/8/2011</td>\n",
              "    </tr>\n",
              "  </tbody>\n",
              "</table>\n",
              "</div>"
            ],
            "text/plain": [
              "            num         value block_date spent_block_date\n",
              "1048570  415429  8.496683e+06   8/6/2011         8/8/2011\n",
              "1048571  415965  1.200000e+08   8/6/2011         8/8/2011\n",
              "1048572  416087  1.700000e+07   8/6/2011         8/8/2011\n",
              "1048573  416508  5.884410e+07   8/6/2011         8/8/2011\n",
              "1048574  420271  1.222000e+09   8/6/2011         8/8/2011"
            ]
          },
          "metadata": {
            "tags": []
          },
          "execution_count": 111
        }
      ]
    },
    {
      "cell_type": "code",
      "metadata": {
        "id": "NVPSnrUge-CB",
        "outputId": "03c9d6b4-9a31-4448-f9df-f85163ff8826",
        "colab": {
          "base_uri": "https://localhost:8080/"
        }
      },
      "source": [
        "merge = [df_2010, df_2011]\n",
        "df = pd.concat(merge)\n",
        "df.head()"
      ],
      "execution_count": null,
      "outputs": [
        {
          "output_type": "execute_result",
          "data": {
            "text/html": [
              "<div>\n",
              "<style scoped>\n",
              "    .dataframe tbody tr th:only-of-type {\n",
              "        vertical-align: middle;\n",
              "    }\n",
              "\n",
              "    .dataframe tbody tr th {\n",
              "        vertical-align: top;\n",
              "    }\n",
              "\n",
              "    .dataframe thead th {\n",
              "        text-align: right;\n",
              "    }\n",
              "</style>\n",
              "<table border=\"1\" class=\"dataframe\">\n",
              "  <thead>\n",
              "    <tr style=\"text-align: right;\">\n",
              "      <th></th>\n",
              "      <th>num</th>\n",
              "      <th>value</th>\n",
              "      <th>block_date</th>\n",
              "      <th>spent_block_date</th>\n",
              "    </tr>\n",
              "  </thead>\n",
              "  <tbody>\n",
              "    <tr>\n",
              "      <th>0</th>\n",
              "      <td>21553</td>\n",
              "      <td>5.000000e+09</td>\n",
              "      <td>1/9/2009</td>\n",
              "      <td>1/12/2009</td>\n",
              "    </tr>\n",
              "    <tr>\n",
              "      <th>1</th>\n",
              "      <td>1</td>\n",
              "      <td>5.000000e+09</td>\n",
              "      <td>1/9/2009</td>\n",
              "      <td>NaN</td>\n",
              "    </tr>\n",
              "    <tr>\n",
              "      <th>2</th>\n",
              "      <td>2</td>\n",
              "      <td>5.000000e+09</td>\n",
              "      <td>1/9/2009</td>\n",
              "      <td>NaN</td>\n",
              "    </tr>\n",
              "    <tr>\n",
              "      <th>3</th>\n",
              "      <td>3</td>\n",
              "      <td>5.000000e+09</td>\n",
              "      <td>1/9/2009</td>\n",
              "      <td>NaN</td>\n",
              "    </tr>\n",
              "    <tr>\n",
              "      <th>4</th>\n",
              "      <td>4</td>\n",
              "      <td>5.000000e+09</td>\n",
              "      <td>1/9/2009</td>\n",
              "      <td>NaN</td>\n",
              "    </tr>\n",
              "  </tbody>\n",
              "</table>\n",
              "</div>"
            ],
            "text/plain": [
              "     num         value block_date spent_block_date\n",
              "0  21553  5.000000e+09   1/9/2009        1/12/2009\n",
              "1      1  5.000000e+09   1/9/2009              NaN\n",
              "2      2  5.000000e+09   1/9/2009              NaN\n",
              "3      3  5.000000e+09   1/9/2009              NaN\n",
              "4      4  5.000000e+09   1/9/2009              NaN"
            ]
          },
          "metadata": {
            "tags": []
          },
          "execution_count": 112
        }
      ]
    },
    {
      "cell_type": "code",
      "metadata": {
        "id": "rZ2LTDutvGD5",
        "outputId": "8ebe97a2-dc72-4d34-ff29-90e96967739a",
        "colab": {
          "base_uri": "https://localhost:8080/"
        }
      },
      "source": [
        "# Generate the UTXO value in bitcoin unit, which = $value/10^{8}$\n",
        "df['UTXO'] = df['value']*10**(-8)\n",
        "df = df.reset_index()\n",
        "df = df.drop(['value','index','num'], axis = 1)\n",
        "df.tail()"
      ],
      "execution_count": null,
      "outputs": [
        {
          "output_type": "execute_result",
          "data": {
            "text/html": [
              "<div>\n",
              "<style scoped>\n",
              "    .dataframe tbody tr th:only-of-type {\n",
              "        vertical-align: middle;\n",
              "    }\n",
              "\n",
              "    .dataframe tbody tr th {\n",
              "        vertical-align: top;\n",
              "    }\n",
              "\n",
              "    .dataframe thead th {\n",
              "        text-align: right;\n",
              "    }\n",
              "</style>\n",
              "<table border=\"1\" class=\"dataframe\">\n",
              "  <thead>\n",
              "    <tr style=\"text-align: right;\">\n",
              "      <th></th>\n",
              "      <th>block_date</th>\n",
              "      <th>spent_block_date</th>\n",
              "      <th>UTXO</th>\n",
              "    </tr>\n",
              "  </thead>\n",
              "  <tbody>\n",
              "    <tr>\n",
              "      <th>1186094</th>\n",
              "      <td>8/6/2011</td>\n",
              "      <td>8/8/2011</td>\n",
              "      <td>0.084967</td>\n",
              "    </tr>\n",
              "    <tr>\n",
              "      <th>1186095</th>\n",
              "      <td>8/6/2011</td>\n",
              "      <td>8/8/2011</td>\n",
              "      <td>1.200000</td>\n",
              "    </tr>\n",
              "    <tr>\n",
              "      <th>1186096</th>\n",
              "      <td>8/6/2011</td>\n",
              "      <td>8/8/2011</td>\n",
              "      <td>0.170000</td>\n",
              "    </tr>\n",
              "    <tr>\n",
              "      <th>1186097</th>\n",
              "      <td>8/6/2011</td>\n",
              "      <td>8/8/2011</td>\n",
              "      <td>0.588441</td>\n",
              "    </tr>\n",
              "    <tr>\n",
              "      <th>1186098</th>\n",
              "      <td>8/6/2011</td>\n",
              "      <td>8/8/2011</td>\n",
              "      <td>12.220000</td>\n",
              "    </tr>\n",
              "  </tbody>\n",
              "</table>\n",
              "</div>"
            ],
            "text/plain": [
              "        block_date spent_block_date       UTXO\n",
              "1186094   8/6/2011         8/8/2011   0.084967\n",
              "1186095   8/6/2011         8/8/2011   1.200000\n",
              "1186096   8/6/2011         8/8/2011   0.170000\n",
              "1186097   8/6/2011         8/8/2011   0.588441\n",
              "1186098   8/6/2011         8/8/2011  12.220000"
            ]
          },
          "metadata": {
            "tags": []
          },
          "execution_count": 113
        }
      ]
    },
    {
      "cell_type": "code",
      "metadata": {
        "id": "CdlyR4oBwPXq",
        "outputId": "a6f2e5ed-1ddf-43fe-fe1c-c10d07132c62",
        "colab": {
          "base_uri": "https://localhost:8080/"
        }
      },
      "source": [
        "# Change the block_date and spent_block_date to datatime object\n",
        "df['block_date'] = pd.to_datetime(df['block_date'], format='%m/%d/%Y')\n",
        "df['spent_block_date'] = pd.to_datetime(df['spent_block_date'], format='%m/%d/%Y')\n",
        "df.info()"
      ],
      "execution_count": null,
      "outputs": [
        {
          "output_type": "stream",
          "text": [
            "<class 'pandas.core.frame.DataFrame'>\n",
            "RangeIndex: 1186099 entries, 0 to 1186098\n",
            "Data columns (total 3 columns):\n",
            " #   Column            Non-Null Count    Dtype         \n",
            "---  ------            --------------    -----         \n",
            " 0   block_date        1186099 non-null  datetime64[ns]\n",
            " 1   spent_block_date  1164547 non-null  datetime64[ns]\n",
            " 2   UTXO              1186099 non-null  float64       \n",
            "dtypes: datetime64[ns](2), float64(1)\n",
            "memory usage: 27.1 MB\n"
          ],
          "name": "stdout"
        }
      ]
    },
    {
      "cell_type": "markdown",
      "metadata": {
        "id": "O9XHrH0iv6yV"
      },
      "source": [
        "#Task 2: The Weighted Average of Life Expectancy by UTXO Value\n",
        "\n",
        "We calculate the weighted average life expectancy for all UTXO that has been spent by each date during 2009-01-09 to 2010-12-31\n",
        "\n",
        "*   The weights are UTXO VALUE\n",
        "\n"
      ]
    },
    {
      "cell_type": "code",
      "metadata": {
        "id": "O76VoZLR2Lpa",
        "outputId": "61fa2f84-63e8-40ba-c26f-a3b500db1eab",
        "colab": {
          "base_uri": "https://localhost:8080/",
          "height": 195
        }
      },
      "source": [
        "from datetime import datetime\n",
        "df['Life_Expectancy'] =df['spent_block_date']-df['block_date']\n",
        "df.tail()"
      ],
      "execution_count": null,
      "outputs": [
        {
          "output_type": "execute_result",
          "data": {
            "text/html": [
              "<div>\n",
              "<style scoped>\n",
              "    .dataframe tbody tr th:only-of-type {\n",
              "        vertical-align: middle;\n",
              "    }\n",
              "\n",
              "    .dataframe tbody tr th {\n",
              "        vertical-align: top;\n",
              "    }\n",
              "\n",
              "    .dataframe thead th {\n",
              "        text-align: right;\n",
              "    }\n",
              "</style>\n",
              "<table border=\"1\" class=\"dataframe\">\n",
              "  <thead>\n",
              "    <tr style=\"text-align: right;\">\n",
              "      <th></th>\n",
              "      <th>block_date</th>\n",
              "      <th>spent_block_date</th>\n",
              "      <th>UTXO</th>\n",
              "      <th>Life_Expectancy</th>\n",
              "      <th>WALE</th>\n",
              "    </tr>\n",
              "  </thead>\n",
              "  <tbody>\n",
              "    <tr>\n",
              "      <th>32775</th>\n",
              "      <td>2009-12-31</td>\n",
              "      <td>NaT</td>\n",
              "      <td>50.0</td>\n",
              "      <td>NaT</td>\n",
              "      <td>NaN</td>\n",
              "    </tr>\n",
              "    <tr>\n",
              "      <th>32776</th>\n",
              "      <td>2009-12-31</td>\n",
              "      <td>NaT</td>\n",
              "      <td>50.0</td>\n",
              "      <td>NaT</td>\n",
              "      <td>NaN</td>\n",
              "    </tr>\n",
              "    <tr>\n",
              "      <th>32777</th>\n",
              "      <td>2009-12-31</td>\n",
              "      <td>NaT</td>\n",
              "      <td>50.0</td>\n",
              "      <td>NaT</td>\n",
              "      <td>NaN</td>\n",
              "    </tr>\n",
              "    <tr>\n",
              "      <th>32778</th>\n",
              "      <td>2009-12-31</td>\n",
              "      <td>NaT</td>\n",
              "      <td>50.0</td>\n",
              "      <td>NaT</td>\n",
              "      <td>NaN</td>\n",
              "    </tr>\n",
              "    <tr>\n",
              "      <th>32779</th>\n",
              "      <td>2009-12-31</td>\n",
              "      <td>NaT</td>\n",
              "      <td>50.0</td>\n",
              "      <td>NaT</td>\n",
              "      <td>NaN</td>\n",
              "    </tr>\n",
              "  </tbody>\n",
              "</table>\n",
              "</div>"
            ],
            "text/plain": [
              "      block_date spent_block_date  UTXO Life_Expectancy  WALE\n",
              "32775 2009-12-31              NaT  50.0             NaT   NaN\n",
              "32776 2009-12-31              NaT  50.0             NaT   NaN\n",
              "32777 2009-12-31              NaT  50.0             NaT   NaN\n",
              "32778 2009-12-31              NaT  50.0             NaT   NaN\n",
              "32779 2009-12-31              NaT  50.0             NaT   NaN"
            ]
          },
          "metadata": {
            "tags": []
          },
          "execution_count": 140
        }
      ]
    },
    {
      "cell_type": "code",
      "metadata": {
        "id": "hAdYPaIMyOkr",
        "outputId": "da948e48-873b-44a1-9dc4-8b409b8eb108",
        "colab": {
          "base_uri": "https://localhost:8080/",
          "height": 195
        }
      },
      "source": [
        "### only reserve the value of days\n",
        "df['Life_Expectancy']=df['Life_Expectancy'].map(lambda x:x.days)\n",
        "df.head()"
      ],
      "execution_count": null,
      "outputs": [
        {
          "output_type": "execute_result",
          "data": {
            "text/html": [
              "<div>\n",
              "<style scoped>\n",
              "    .dataframe tbody tr th:only-of-type {\n",
              "        vertical-align: middle;\n",
              "    }\n",
              "\n",
              "    .dataframe tbody tr th {\n",
              "        vertical-align: top;\n",
              "    }\n",
              "\n",
              "    .dataframe thead th {\n",
              "        text-align: right;\n",
              "    }\n",
              "</style>\n",
              "<table border=\"1\" class=\"dataframe\">\n",
              "  <thead>\n",
              "    <tr style=\"text-align: right;\">\n",
              "      <th></th>\n",
              "      <th>block_date</th>\n",
              "      <th>spent_block_date</th>\n",
              "      <th>UTXO</th>\n",
              "      <th>Life_Expectancy</th>\n",
              "      <th>WALE</th>\n",
              "    </tr>\n",
              "  </thead>\n",
              "  <tbody>\n",
              "    <tr>\n",
              "      <th>0</th>\n",
              "      <td>2009-01-09</td>\n",
              "      <td>2009-01-12</td>\n",
              "      <td>50.0</td>\n",
              "      <td>3.0</td>\n",
              "      <td>3.000000</td>\n",
              "    </tr>\n",
              "    <tr>\n",
              "      <th>168</th>\n",
              "      <td>2009-01-12</td>\n",
              "      <td>2009-01-12</td>\n",
              "      <td>29.0</td>\n",
              "      <td>0.0</td>\n",
              "      <td>1.898734</td>\n",
              "    </tr>\n",
              "    <tr>\n",
              "      <th>169</th>\n",
              "      <td>2009-01-12</td>\n",
              "      <td>2009-01-12</td>\n",
              "      <td>1.0</td>\n",
              "      <td>0.0</td>\n",
              "      <td>1.875000</td>\n",
              "    </tr>\n",
              "    <tr>\n",
              "      <th>170</th>\n",
              "      <td>2009-01-12</td>\n",
              "      <td>2009-01-12</td>\n",
              "      <td>1.0</td>\n",
              "      <td>0.0</td>\n",
              "      <td>1.851852</td>\n",
              "    </tr>\n",
              "    <tr>\n",
              "      <th>171</th>\n",
              "      <td>2009-01-12</td>\n",
              "      <td>2009-01-12</td>\n",
              "      <td>40.0</td>\n",
              "      <td>0.0</td>\n",
              "      <td>1.239669</td>\n",
              "    </tr>\n",
              "  </tbody>\n",
              "</table>\n",
              "</div>"
            ],
            "text/plain": [
              "    block_date spent_block_date  UTXO  Life_Expectancy      WALE\n",
              "0   2009-01-09       2009-01-12  50.0              3.0  3.000000\n",
              "168 2009-01-12       2009-01-12  29.0              0.0  1.898734\n",
              "169 2009-01-12       2009-01-12   1.0              0.0  1.875000\n",
              "170 2009-01-12       2009-01-12   1.0              0.0  1.851852\n",
              "171 2009-01-12       2009-01-12  40.0              0.0  1.239669"
            ]
          },
          "metadata": {
            "tags": []
          },
          "execution_count": 141
        }
      ]
    },
    {
      "cell_type": "code",
      "metadata": {
        "id": "zRWVUEdqzNjL"
      },
      "source": [
        "df = df.sort_values(by = 'spent_block_date')"
      ],
      "execution_count": null,
      "outputs": []
    },
    {
      "cell_type": "code",
      "metadata": {
        "id": "08z6Yt-X0J-q",
        "outputId": "5d9020cb-84c7-4f8c-e69a-5879147d422b",
        "colab": {
          "base_uri": "https://localhost:8080/",
          "height": 195
        }
      },
      "source": [
        "#https://stackoverflow.com/questions/49573844/pandas-cumulative-weighted-average\n",
        "df['WALE']=(df['UTXO'].mul(df['Life_Expectancy'])).cumsum().div(df['UTXO'].cumsum())\n",
        "df.head()"
      ],
      "execution_count": null,
      "outputs": [
        {
          "output_type": "execute_result",
          "data": {
            "text/html": [
              "<div>\n",
              "<style scoped>\n",
              "    .dataframe tbody tr th:only-of-type {\n",
              "        vertical-align: middle;\n",
              "    }\n",
              "\n",
              "    .dataframe tbody tr th {\n",
              "        vertical-align: top;\n",
              "    }\n",
              "\n",
              "    .dataframe thead th {\n",
              "        text-align: right;\n",
              "    }\n",
              "</style>\n",
              "<table border=\"1\" class=\"dataframe\">\n",
              "  <thead>\n",
              "    <tr style=\"text-align: right;\">\n",
              "      <th></th>\n",
              "      <th>block_date</th>\n",
              "      <th>spent_block_date</th>\n",
              "      <th>UTXO</th>\n",
              "      <th>Life_Expectancy</th>\n",
              "      <th>WALE</th>\n",
              "    </tr>\n",
              "  </thead>\n",
              "  <tbody>\n",
              "    <tr>\n",
              "      <th>0</th>\n",
              "      <td>2009-01-09</td>\n",
              "      <td>2009-01-12</td>\n",
              "      <td>50.0</td>\n",
              "      <td>3.0</td>\n",
              "      <td>3.000000</td>\n",
              "    </tr>\n",
              "    <tr>\n",
              "      <th>168</th>\n",
              "      <td>2009-01-12</td>\n",
              "      <td>2009-01-12</td>\n",
              "      <td>29.0</td>\n",
              "      <td>0.0</td>\n",
              "      <td>1.898734</td>\n",
              "    </tr>\n",
              "    <tr>\n",
              "      <th>169</th>\n",
              "      <td>2009-01-12</td>\n",
              "      <td>2009-01-12</td>\n",
              "      <td>1.0</td>\n",
              "      <td>0.0</td>\n",
              "      <td>1.875000</td>\n",
              "    </tr>\n",
              "    <tr>\n",
              "      <th>170</th>\n",
              "      <td>2009-01-12</td>\n",
              "      <td>2009-01-12</td>\n",
              "      <td>1.0</td>\n",
              "      <td>0.0</td>\n",
              "      <td>1.851852</td>\n",
              "    </tr>\n",
              "    <tr>\n",
              "      <th>171</th>\n",
              "      <td>2009-01-12</td>\n",
              "      <td>2009-01-12</td>\n",
              "      <td>40.0</td>\n",
              "      <td>0.0</td>\n",
              "      <td>1.239669</td>\n",
              "    </tr>\n",
              "  </tbody>\n",
              "</table>\n",
              "</div>"
            ],
            "text/plain": [
              "    block_date spent_block_date  UTXO  Life_Expectancy      WALE\n",
              "0   2009-01-09       2009-01-12  50.0              3.0  3.000000\n",
              "168 2009-01-12       2009-01-12  29.0              0.0  1.898734\n",
              "169 2009-01-12       2009-01-12   1.0              0.0  1.875000\n",
              "170 2009-01-12       2009-01-12   1.0              0.0  1.851852\n",
              "171 2009-01-12       2009-01-12  40.0              0.0  1.239669"
            ]
          },
          "metadata": {
            "tags": []
          },
          "execution_count": 143
        }
      ]
    },
    {
      "cell_type": "code",
      "metadata": {
        "id": "bOsu-2I22drX",
        "outputId": "1b178b13-8cb5-4383-cb8b-73256cb8d623",
        "colab": {
          "base_uri": "https://localhost:8080/",
          "height": 195
        }
      },
      "source": [
        "### for each date, we count until the last UTXO spent\n",
        "df_WALE=df.groupby('spent_block_date')['WALE'].max().reset_index()\n",
        "df_WALE.head()"
      ],
      "execution_count": null,
      "outputs": [
        {
          "output_type": "execute_result",
          "data": {
            "text/html": [
              "<div>\n",
              "<style scoped>\n",
              "    .dataframe tbody tr th:only-of-type {\n",
              "        vertical-align: middle;\n",
              "    }\n",
              "\n",
              "    .dataframe tbody tr th {\n",
              "        vertical-align: top;\n",
              "    }\n",
              "\n",
              "    .dataframe thead th {\n",
              "        text-align: right;\n",
              "    }\n",
              "</style>\n",
              "<table border=\"1\" class=\"dataframe\">\n",
              "  <thead>\n",
              "    <tr style=\"text-align: right;\">\n",
              "      <th></th>\n",
              "      <th>spent_block_date</th>\n",
              "      <th>WALE</th>\n",
              "    </tr>\n",
              "  </thead>\n",
              "  <tbody>\n",
              "    <tr>\n",
              "      <th>0</th>\n",
              "      <td>2009-01-12</td>\n",
              "      <td>3.000000</td>\n",
              "    </tr>\n",
              "    <tr>\n",
              "      <th>1</th>\n",
              "      <td>2009-01-14</td>\n",
              "      <td>0.925000</td>\n",
              "    </tr>\n",
              "    <tr>\n",
              "      <th>2</th>\n",
              "      <td>2009-01-15</td>\n",
              "      <td>1.413636</td>\n",
              "    </tr>\n",
              "    <tr>\n",
              "      <th>3</th>\n",
              "      <td>2009-01-16</td>\n",
              "      <td>1.353191</td>\n",
              "    </tr>\n",
              "    <tr>\n",
              "      <th>4</th>\n",
              "      <td>2009-01-18</td>\n",
              "      <td>1.442202</td>\n",
              "    </tr>\n",
              "  </tbody>\n",
              "</table>\n",
              "</div>"
            ],
            "text/plain": [
              "  spent_block_date      WALE\n",
              "0       2009-01-12  3.000000\n",
              "1       2009-01-14  0.925000\n",
              "2       2009-01-15  1.413636\n",
              "3       2009-01-16  1.353191\n",
              "4       2009-01-18  1.442202"
            ]
          },
          "metadata": {
            "tags": []
          },
          "execution_count": 144
        }
      ]
    },
    {
      "cell_type": "code",
      "metadata": {
        "id": "9SrtCiMAxptT",
        "outputId": "5d208c76-95fd-4265-bd4a-2f22649611fa",
        "colab": {
          "base_uri": "https://localhost:8080/",
          "height": 195
        }
      },
      "source": [
        "df_newborn = pd.read_csv('/content/drive/My Drive/df_newborn.csv', index_col = 0)\n",
        "df_newborn['block_date'] = pd.to_datetime(df_newborn['block_date'], format='%Y/%m/%d')\n",
        "df_newborn.tail()"
      ],
      "execution_count": null,
      "outputs": [
        {
          "output_type": "execute_result",
          "data": {
            "text/html": [
              "<div>\n",
              "<style scoped>\n",
              "    .dataframe tbody tr th:only-of-type {\n",
              "        vertical-align: middle;\n",
              "    }\n",
              "\n",
              "    .dataframe tbody tr th {\n",
              "        vertical-align: top;\n",
              "    }\n",
              "\n",
              "    .dataframe thead th {\n",
              "        text-align: right;\n",
              "    }\n",
              "</style>\n",
              "<table border=\"1\" class=\"dataframe\">\n",
              "  <thead>\n",
              "    <tr style=\"text-align: right;\">\n",
              "      <th></th>\n",
              "      <th>block_date</th>\n",
              "      <th>UTXO_newborn</th>\n",
              "    </tr>\n",
              "  </thead>\n",
              "  <tbody>\n",
              "    <tr>\n",
              "      <th>935</th>\n",
              "      <td>2011-08-02</td>\n",
              "      <td>85296.723708</td>\n",
              "    </tr>\n",
              "    <tr>\n",
              "      <th>936</th>\n",
              "      <td>2011-08-03</td>\n",
              "      <td>113896.630558</td>\n",
              "    </tr>\n",
              "    <tr>\n",
              "      <th>937</th>\n",
              "      <td>2011-08-04</td>\n",
              "      <td>88667.639105</td>\n",
              "    </tr>\n",
              "    <tr>\n",
              "      <th>938</th>\n",
              "      <td>2011-08-05</td>\n",
              "      <td>147648.110740</td>\n",
              "    </tr>\n",
              "    <tr>\n",
              "      <th>939</th>\n",
              "      <td>2011-08-06</td>\n",
              "      <td>77115.643571</td>\n",
              "    </tr>\n",
              "  </tbody>\n",
              "</table>\n",
              "</div>"
            ],
            "text/plain": [
              "    block_date   UTXO_newborn\n",
              "935 2011-08-02   85296.723708\n",
              "936 2011-08-03  113896.630558\n",
              "937 2011-08-04   88667.639105\n",
              "938 2011-08-05  147648.110740\n",
              "939 2011-08-06   77115.643571"
            ]
          },
          "metadata": {
            "tags": []
          },
          "execution_count": 145
        }
      ]
    },
    {
      "cell_type": "code",
      "metadata": {
        "id": "vXYwTcZVnrov",
        "outputId": "67951bc6-13ae-4f98-db72-ddefaba2d095",
        "colab": {
          "base_uri": "https://localhost:8080/",
          "height": 195
        }
      },
      "source": [
        "df_dead = pd.read_csv('/content/drive/My Drive/df_dead.csv',index_col = 0)\n",
        "df_dead['spent_block_date'] = pd.to_datetime(df_dead['spent_block_date'], format='%Y/%m/%d')\n",
        "df_dead.tail()"
      ],
      "execution_count": null,
      "outputs": [
        {
          "output_type": "execute_result",
          "data": {
            "text/html": [
              "<div>\n",
              "<style scoped>\n",
              "    .dataframe tbody tr th:only-of-type {\n",
              "        vertical-align: middle;\n",
              "    }\n",
              "\n",
              "    .dataframe tbody tr th {\n",
              "        vertical-align: top;\n",
              "    }\n",
              "\n",
              "    .dataframe thead th {\n",
              "        text-align: right;\n",
              "    }\n",
              "</style>\n",
              "<table border=\"1\" class=\"dataframe\">\n",
              "  <thead>\n",
              "    <tr style=\"text-align: right;\">\n",
              "      <th></th>\n",
              "      <th>spent_block_date</th>\n",
              "      <th>UTXO_dead</th>\n",
              "    </tr>\n",
              "  </thead>\n",
              "  <tbody>\n",
              "    <tr>\n",
              "      <th>3791</th>\n",
              "      <td>2020-10-11</td>\n",
              "      <td>1050.000000</td>\n",
              "    </tr>\n",
              "    <tr>\n",
              "      <th>3792</th>\n",
              "      <td>2020-10-14</td>\n",
              "      <td>64.859446</td>\n",
              "    </tr>\n",
              "    <tr>\n",
              "      <th>3793</th>\n",
              "      <td>2020-10-15</td>\n",
              "      <td>0.487548</td>\n",
              "    </tr>\n",
              "    <tr>\n",
              "      <th>3794</th>\n",
              "      <td>2020-10-16</td>\n",
              "      <td>5.510000</td>\n",
              "    </tr>\n",
              "    <tr>\n",
              "      <th>3795</th>\n",
              "      <td>2020-10-17</td>\n",
              "      <td>50.000000</td>\n",
              "    </tr>\n",
              "  </tbody>\n",
              "</table>\n",
              "</div>"
            ],
            "text/plain": [
              "     spent_block_date    UTXO_dead\n",
              "3791       2020-10-11  1050.000000\n",
              "3792       2020-10-14    64.859446\n",
              "3793       2020-10-15     0.487548\n",
              "3794       2020-10-16     5.510000\n",
              "3795       2020-10-17    50.000000"
            ]
          },
          "metadata": {
            "tags": []
          },
          "execution_count": 146
        }
      ]
    },
    {
      "cell_type": "code",
      "metadata": {
        "id": "LfGdOLqFnwBq",
        "outputId": "fe0e7e21-4cd3-4b07-95a7-3e40a3348d4d",
        "colab": {
          "base_uri": "https://localhost:8080/"
        }
      },
      "source": [
        "np.size(pd.date_range(start='2009-01-09', end='2011-08-06'))"
      ],
      "execution_count": null,
      "outputs": [
        {
          "output_type": "execute_result",
          "data": {
            "text/plain": [
              "940"
            ]
          },
          "metadata": {
            "tags": []
          },
          "execution_count": 147
        }
      ]
    },
    {
      "cell_type": "code",
      "metadata": {
        "id": "pwJmxJXLn0Yv",
        "outputId": "23f70582-77a0-4199-9c01-e1570dd4b106",
        "colab": {
          "base_uri": "https://localhost:8080/",
          "height": 195
        }
      },
      "source": [
        "df_UTXO = pd.DataFrame(np.zeros((940, 1)))\n",
        "df_UTXO.columns=['date']\n",
        "df_UTXO['date']=pd.date_range(start='2009-01-09', end='2011-08-06')\n",
        "df_UTXO.tail()"
      ],
      "execution_count": null,
      "outputs": [
        {
          "output_type": "execute_result",
          "data": {
            "text/html": [
              "<div>\n",
              "<style scoped>\n",
              "    .dataframe tbody tr th:only-of-type {\n",
              "        vertical-align: middle;\n",
              "    }\n",
              "\n",
              "    .dataframe tbody tr th {\n",
              "        vertical-align: top;\n",
              "    }\n",
              "\n",
              "    .dataframe thead th {\n",
              "        text-align: right;\n",
              "    }\n",
              "</style>\n",
              "<table border=\"1\" class=\"dataframe\">\n",
              "  <thead>\n",
              "    <tr style=\"text-align: right;\">\n",
              "      <th></th>\n",
              "      <th>date</th>\n",
              "    </tr>\n",
              "  </thead>\n",
              "  <tbody>\n",
              "    <tr>\n",
              "      <th>935</th>\n",
              "      <td>2011-08-02</td>\n",
              "    </tr>\n",
              "    <tr>\n",
              "      <th>936</th>\n",
              "      <td>2011-08-03</td>\n",
              "    </tr>\n",
              "    <tr>\n",
              "      <th>937</th>\n",
              "      <td>2011-08-04</td>\n",
              "    </tr>\n",
              "    <tr>\n",
              "      <th>938</th>\n",
              "      <td>2011-08-05</td>\n",
              "    </tr>\n",
              "    <tr>\n",
              "      <th>939</th>\n",
              "      <td>2011-08-06</td>\n",
              "    </tr>\n",
              "  </tbody>\n",
              "</table>\n",
              "</div>"
            ],
            "text/plain": [
              "          date\n",
              "935 2011-08-02\n",
              "936 2011-08-03\n",
              "937 2011-08-04\n",
              "938 2011-08-05\n",
              "939 2011-08-06"
            ]
          },
          "metadata": {
            "tags": []
          },
          "execution_count": 148
        }
      ]
    },
    {
      "cell_type": "code",
      "metadata": {
        "id": "ZcDIjsLuoJi8",
        "outputId": "0eaa1743-3d2a-4d83-fa65-1e24526807ec",
        "colab": {
          "base_uri": "https://localhost:8080/",
          "height": 195
        }
      },
      "source": [
        "# merge\n",
        "df_UTXO=df_UTXO.merge(df_newborn, how='left',left_on='date',right_on='block_date')\n",
        "\n",
        "df_UTXO=df_UTXO.merge(df_dead, how='left',left_on='date',right_on='spent_block_date')\n",
        "df_UTXO = df_UTXO.drop(['block_date','spent_block_date'], axis = 1)\n",
        "df_UTXO.head()"
      ],
      "execution_count": null,
      "outputs": [
        {
          "output_type": "execute_result",
          "data": {
            "text/html": [
              "<div>\n",
              "<style scoped>\n",
              "    .dataframe tbody tr th:only-of-type {\n",
              "        vertical-align: middle;\n",
              "    }\n",
              "\n",
              "    .dataframe tbody tr th {\n",
              "        vertical-align: top;\n",
              "    }\n",
              "\n",
              "    .dataframe thead th {\n",
              "        text-align: right;\n",
              "    }\n",
              "</style>\n",
              "<table border=\"1\" class=\"dataframe\">\n",
              "  <thead>\n",
              "    <tr style=\"text-align: right;\">\n",
              "      <th></th>\n",
              "      <th>date</th>\n",
              "      <th>UTXO_newborn</th>\n",
              "      <th>UTXO_dead</th>\n",
              "    </tr>\n",
              "  </thead>\n",
              "  <tbody>\n",
              "    <tr>\n",
              "      <th>0</th>\n",
              "      <td>2009-01-09</td>\n",
              "      <td>700.0</td>\n",
              "      <td>NaN</td>\n",
              "    </tr>\n",
              "    <tr>\n",
              "      <th>1</th>\n",
              "      <td>2009-01-10</td>\n",
              "      <td>3050.0</td>\n",
              "      <td>NaN</td>\n",
              "    </tr>\n",
              "    <tr>\n",
              "      <th>2</th>\n",
              "      <td>2009-01-11</td>\n",
              "      <td>4650.0</td>\n",
              "      <td>NaN</td>\n",
              "    </tr>\n",
              "    <tr>\n",
              "      <th>3</th>\n",
              "      <td>2009-01-12</td>\n",
              "      <td>4879.0</td>\n",
              "      <td>179.0</td>\n",
              "    </tr>\n",
              "    <tr>\n",
              "      <th>4</th>\n",
              "      <td>2009-01-13</td>\n",
              "      <td>6150.0</td>\n",
              "      <td>NaN</td>\n",
              "    </tr>\n",
              "  </tbody>\n",
              "</table>\n",
              "</div>"
            ],
            "text/plain": [
              "        date  UTXO_newborn  UTXO_dead\n",
              "0 2009-01-09         700.0        NaN\n",
              "1 2009-01-10        3050.0        NaN\n",
              "2 2009-01-11        4650.0        NaN\n",
              "3 2009-01-12        4879.0      179.0\n",
              "4 2009-01-13        6150.0        NaN"
            ]
          },
          "metadata": {
            "tags": []
          },
          "execution_count": 149
        }
      ]
    },
    {
      "cell_type": "code",
      "metadata": {
        "id": "FjycpDj44a-g",
        "outputId": "c9fd617f-76af-4e28-ca16-3c47e8c1aab4",
        "colab": {
          "base_uri": "https://localhost:8080/",
          "height": 195
        }
      },
      "source": [
        "df_UTXO=df_UTXO.merge(df_WALE, how='left',left_on='date',right_on='spent_block_date')\n",
        "df_UTXO.head()"
      ],
      "execution_count": null,
      "outputs": [
        {
          "output_type": "execute_result",
          "data": {
            "text/html": [
              "<div>\n",
              "<style scoped>\n",
              "    .dataframe tbody tr th:only-of-type {\n",
              "        vertical-align: middle;\n",
              "    }\n",
              "\n",
              "    .dataframe tbody tr th {\n",
              "        vertical-align: top;\n",
              "    }\n",
              "\n",
              "    .dataframe thead th {\n",
              "        text-align: right;\n",
              "    }\n",
              "</style>\n",
              "<table border=\"1\" class=\"dataframe\">\n",
              "  <thead>\n",
              "    <tr style=\"text-align: right;\">\n",
              "      <th></th>\n",
              "      <th>date</th>\n",
              "      <th>UTXO_newborn</th>\n",
              "      <th>UTXO_dead</th>\n",
              "      <th>spent_block_date</th>\n",
              "      <th>WALE</th>\n",
              "    </tr>\n",
              "  </thead>\n",
              "  <tbody>\n",
              "    <tr>\n",
              "      <th>0</th>\n",
              "      <td>2009-01-09</td>\n",
              "      <td>700.0</td>\n",
              "      <td>NaN</td>\n",
              "      <td>NaT</td>\n",
              "      <td>NaN</td>\n",
              "    </tr>\n",
              "    <tr>\n",
              "      <th>1</th>\n",
              "      <td>2009-01-10</td>\n",
              "      <td>3050.0</td>\n",
              "      <td>NaN</td>\n",
              "      <td>NaT</td>\n",
              "      <td>NaN</td>\n",
              "    </tr>\n",
              "    <tr>\n",
              "      <th>2</th>\n",
              "      <td>2009-01-11</td>\n",
              "      <td>4650.0</td>\n",
              "      <td>NaN</td>\n",
              "      <td>NaT</td>\n",
              "      <td>NaN</td>\n",
              "    </tr>\n",
              "    <tr>\n",
              "      <th>3</th>\n",
              "      <td>2009-01-12</td>\n",
              "      <td>4879.0</td>\n",
              "      <td>179.0</td>\n",
              "      <td>2009-01-12</td>\n",
              "      <td>3.0</td>\n",
              "    </tr>\n",
              "    <tr>\n",
              "      <th>4</th>\n",
              "      <td>2009-01-13</td>\n",
              "      <td>6150.0</td>\n",
              "      <td>NaN</td>\n",
              "      <td>NaT</td>\n",
              "      <td>NaN</td>\n",
              "    </tr>\n",
              "  </tbody>\n",
              "</table>\n",
              "</div>"
            ],
            "text/plain": [
              "        date  UTXO_newborn  UTXO_dead spent_block_date  WALE\n",
              "0 2009-01-09         700.0        NaN              NaT   NaN\n",
              "1 2009-01-10        3050.0        NaN              NaT   NaN\n",
              "2 2009-01-11        4650.0        NaN              NaT   NaN\n",
              "3 2009-01-12        4879.0      179.0       2009-01-12   3.0\n",
              "4 2009-01-13        6150.0        NaN              NaT   NaN"
            ]
          },
          "metadata": {
            "tags": []
          },
          "execution_count": 150
        }
      ]
    },
    {
      "cell_type": "code",
      "metadata": {
        "id": "eMQcsplEup-S"
      },
      "source": [
        "df_UTXO.to_csv('/content/drive/My Drive/df_UTXO.csv')"
      ],
      "execution_count": null,
      "outputs": []
    },
    {
      "cell_type": "code",
      "metadata": {
        "id": "p6evvDfH5Gn4",
        "outputId": "fe4a06e1-298b-40b4-d805-75fb23c49c00",
        "colab": {
          "base_uri": "https://localhost:8080/",
          "height": 195
        }
      },
      "source": [
        "df_UTXO2=df_UTXO.drop('spent_block_date',axis=1)\n",
        "df_UTXO2=df_UTXO.fillna(method='ffill')\n",
        "df_UTXO2=df_UTXO.dropna()\n",
        "df_UTXO2.head()"
      ],
      "execution_count": null,
      "outputs": [
        {
          "output_type": "execute_result",
          "data": {
            "text/html": [
              "<div>\n",
              "<style scoped>\n",
              "    .dataframe tbody tr th:only-of-type {\n",
              "        vertical-align: middle;\n",
              "    }\n",
              "\n",
              "    .dataframe tbody tr th {\n",
              "        vertical-align: top;\n",
              "    }\n",
              "\n",
              "    .dataframe thead th {\n",
              "        text-align: right;\n",
              "    }\n",
              "</style>\n",
              "<table border=\"1\" class=\"dataframe\">\n",
              "  <thead>\n",
              "    <tr style=\"text-align: right;\">\n",
              "      <th></th>\n",
              "      <th>date</th>\n",
              "      <th>UTXO_newborn</th>\n",
              "      <th>UTXO_dead</th>\n",
              "      <th>spent_block_date</th>\n",
              "      <th>WALE</th>\n",
              "    </tr>\n",
              "  </thead>\n",
              "  <tbody>\n",
              "    <tr>\n",
              "      <th>3</th>\n",
              "      <td>2009-01-12</td>\n",
              "      <td>4879.0</td>\n",
              "      <td>179.0</td>\n",
              "      <td>2009-01-12</td>\n",
              "      <td>3.000000</td>\n",
              "    </tr>\n",
              "    <tr>\n",
              "      <th>5</th>\n",
              "      <td>2009-01-14</td>\n",
              "      <td>6511.0</td>\n",
              "      <td>61.0</td>\n",
              "      <td>2009-01-14</td>\n",
              "      <td>0.925000</td>\n",
              "    </tr>\n",
              "    <tr>\n",
              "      <th>6</th>\n",
              "      <td>2009-01-15</td>\n",
              "      <td>6800.0</td>\n",
              "      <td>500.0</td>\n",
              "      <td>2009-01-15</td>\n",
              "      <td>1.413636</td>\n",
              "    </tr>\n",
              "    <tr>\n",
              "      <th>7</th>\n",
              "      <td>2009-01-16</td>\n",
              "      <td>5600.0</td>\n",
              "      <td>200.0</td>\n",
              "      <td>2009-01-16</td>\n",
              "      <td>1.353191</td>\n",
              "    </tr>\n",
              "    <tr>\n",
              "      <th>9</th>\n",
              "      <td>2009-01-18</td>\n",
              "      <td>5500.0</td>\n",
              "      <td>150.0</td>\n",
              "      <td>2009-01-18</td>\n",
              "      <td>1.442202</td>\n",
              "    </tr>\n",
              "  </tbody>\n",
              "</table>\n",
              "</div>"
            ],
            "text/plain": [
              "        date  UTXO_newborn  UTXO_dead spent_block_date      WALE\n",
              "3 2009-01-12        4879.0      179.0       2009-01-12  3.000000\n",
              "5 2009-01-14        6511.0       61.0       2009-01-14  0.925000\n",
              "6 2009-01-15        6800.0      500.0       2009-01-15  1.413636\n",
              "7 2009-01-16        5600.0      200.0       2009-01-16  1.353191\n",
              "9 2009-01-18        5500.0      150.0       2009-01-18  1.442202"
            ]
          },
          "metadata": {
            "tags": []
          },
          "execution_count": 155
        }
      ]
    },
    {
      "cell_type": "code",
      "metadata": {
        "id": "UZotOKf94BRH",
        "outputId": "122044b1-5e60-42dc-cc68-f94166127303",
        "colab": {
          "base_uri": "https://localhost:8080/",
          "height": 542
        }
      },
      "source": [
        "import plotly.express as px\n",
        "from plotly.offline import iplot\n",
        "\n",
        "fig2 = px.line(df_UTXO2, x = 'date', y = 'WALE', title = 'The Weighted Average of Life Expectancy by UTXO Value')\n",
        "\n",
        "# Add range slider\n",
        "fig2.update_layout(\n",
        "    xaxis=dict(\n",
        "        rangeselector=dict(\n",
        "            buttons=list([\n",
        "                dict(count=1,\n",
        "                     label=\"1m\",\n",
        "                     step=\"month\",\n",
        "                     stepmode=\"backward\"),\n",
        "                dict(count=6,\n",
        "                     label=\"6m\",\n",
        "                     step=\"month\",\n",
        "                     stepmode=\"backward\"),\n",
        "                dict(count=1,\n",
        "                     label=\"YTD\",\n",
        "                     step=\"year\",\n",
        "                     stepmode=\"todate\"),\n",
        "                dict(count=1,\n",
        "                     label=\"1y\",\n",
        "                     step=\"year\",\n",
        "                     stepmode=\"backward\"),\n",
        "                dict(step=\"all\")\n",
        "            ])\n",
        "        ),\n",
        "        rangeslider=dict(\n",
        "            visible=True\n",
        "        ),\n",
        "        type=\"date\"\n",
        "    )\n",
        ")\n",
        "\n",
        "iplot(fig2)"
      ],
      "execution_count": null,
      "outputs": [
        {
          "output_type": "display_data",
          "data": {
            "text/html": [
              "<html>\n",
              "<head><meta charset=\"utf-8\" /></head>\n",
              "<body>\n",
              "    <div>\n",
              "            <script src=\"https://cdnjs.cloudflare.com/ajax/libs/mathjax/2.7.5/MathJax.js?config=TeX-AMS-MML_SVG\"></script><script type=\"text/javascript\">if (window.MathJax) {MathJax.Hub.Config({SVG: {font: \"STIX-Web\"}});}</script>\n",
              "                <script type=\"text/javascript\">window.PlotlyConfig = {MathJaxConfig: 'local'};</script>\n",
              "        <script src=\"https://cdn.plot.ly/plotly-latest.min.js\"></script>    \n",
              "            <div id=\"2b998363-67aa-4c73-be11-a74370640221\" class=\"plotly-graph-div\" style=\"height:525px; width:100%;\"></div>\n",
              "            <script type=\"text/javascript\">\n",
              "                \n",
              "                    window.PLOTLYENV=window.PLOTLYENV || {};\n",
              "                    \n",
              "                if (document.getElementById(\"2b998363-67aa-4c73-be11-a74370640221\")) {\n",
              "                    Plotly.newPlot(\n",
              "                        '2b998363-67aa-4c73-be11-a74370640221',\n",
              "                        [{\"hoverlabel\": {\"namelength\": 0}, \"hovertemplate\": \"date=%{x}<br>WALE=%{y}\", \"legendgroup\": \"\", \"line\": {\"color\": \"#636efa\", \"dash\": \"solid\"}, \"mode\": \"lines\", \"name\": \"\", \"showlegend\": false, \"type\": \"scatter\", \"x\": [\"2009-01-12T00:00:00\", \"2009-01-14T00:00:00\", \"2009-01-15T00:00:00\", \"2009-01-16T00:00:00\", \"2009-01-18T00:00:00\", \"2009-01-19T00:00:00\", \"2009-01-20T00:00:00\", \"2009-01-21T00:00:00\", \"2009-01-22T00:00:00\", \"2009-01-23T00:00:00\", \"2009-01-24T00:00:00\", \"2009-01-25T00:00:00\", \"2009-01-26T00:00:00\", \"2009-01-27T00:00:00\", \"2009-01-29T00:00:00\", \"2009-01-31T00:00:00\", \"2009-02-01T00:00:00\", \"2009-02-02T00:00:00\", \"2009-02-03T00:00:00\", \"2009-02-07T00:00:00\", \"2009-02-08T00:00:00\", \"2009-02-09T00:00:00\", \"2009-02-11T00:00:00\", \"2009-02-15T00:00:00\", \"2009-02-16T00:00:00\", \"2009-02-19T00:00:00\", \"2009-02-22T00:00:00\", \"2009-02-27T00:00:00\", \"2009-02-28T00:00:00\", \"2009-03-03T00:00:00\", \"2009-03-04T00:00:00\", \"2009-03-05T00:00:00\", \"2009-03-08T00:00:00\", \"2009-03-12T00:00:00\", \"2009-03-13T00:00:00\", \"2009-03-16T00:00:00\", \"2009-03-18T00:00:00\", \"2009-03-20T00:00:00\", \"2009-03-22T00:00:00\", \"2009-03-26T00:00:00\", \"2009-03-28T00:00:00\", \"2009-03-31T00:00:00\", \"2009-04-05T00:00:00\", \"2009-04-11T00:00:00\", \"2009-04-12T00:00:00\", \"2009-04-13T00:00:00\", \"2009-04-18T00:00:00\", \"2009-04-19T00:00:00\", \"2009-04-20T00:00:00\", \"2009-04-21T00:00:00\", \"2009-04-26T00:00:00\", \"2009-04-29T00:00:00\", \"2009-05-02T00:00:00\", \"2009-05-03T00:00:00\", \"2009-05-04T00:00:00\", \"2009-05-05T00:00:00\", \"2009-05-11T00:00:00\", \"2009-05-13T00:00:00\", \"2009-05-14T00:00:00\", \"2009-05-15T00:00:00\", \"2009-05-29T00:00:00\", \"2009-06-01T00:00:00\", \"2009-06-22T00:00:00\", \"2009-06-24T00:00:00\", \"2009-06-25T00:00:00\", \"2009-06-28T00:00:00\", \"2009-06-29T00:00:00\", \"2009-06-30T00:00:00\", \"2009-07-01T00:00:00\", \"2009-07-02T00:00:00\", \"2009-07-20T00:00:00\", \"2009-07-29T00:00:00\", \"2009-07-30T00:00:00\", \"2009-08-07T00:00:00\", \"2009-08-26T00:00:00\", \"2009-08-30T00:00:00\", \"2009-08-31T00:00:00\", \"2009-09-03T00:00:00\", \"2009-09-07T00:00:00\", \"2009-09-16T00:00:00\", \"2009-09-17T00:00:00\", \"2009-09-21T00:00:00\", \"2009-09-22T00:00:00\", \"2009-09-25T00:00:00\", \"2009-09-27T00:00:00\", \"2009-09-29T00:00:00\", \"2009-10-02T00:00:00\", \"2009-10-06T00:00:00\", \"2009-10-12T00:00:00\", \"2009-10-16T00:00:00\", \"2009-10-18T00:00:00\", \"2009-10-20T00:00:00\", \"2009-10-21T00:00:00\", \"2009-10-22T00:00:00\", \"2009-10-24T00:00:00\", \"2009-10-27T00:00:00\", \"2009-10-29T00:00:00\", \"2009-11-04T00:00:00\", \"2009-11-11T00:00:00\", \"2009-11-13T00:00:00\", \"2009-11-19T00:00:00\", \"2009-12-01T00:00:00\", \"2009-12-05T00:00:00\", \"2009-12-06T00:00:00\", \"2009-12-08T00:00:00\", \"2009-12-09T00:00:00\", \"2009-12-12T00:00:00\", \"2009-12-14T00:00:00\", \"2009-12-15T00:00:00\", \"2009-12-16T00:00:00\", \"2009-12-17T00:00:00\", \"2009-12-19T00:00:00\", \"2009-12-21T00:00:00\", \"2009-12-25T00:00:00\", \"2009-12-27T00:00:00\", \"2010-01-01T00:00:00\", \"2010-01-04T00:00:00\", \"2010-01-12T00:00:00\", \"2010-01-13T00:00:00\", \"2010-01-14T00:00:00\", \"2010-01-15T00:00:00\", \"2010-01-16T00:00:00\", \"2010-01-18T00:00:00\", \"2010-01-21T00:00:00\", \"2010-01-22T00:00:00\", \"2010-01-23T00:00:00\", \"2010-01-24T00:00:00\", \"2010-01-25T00:00:00\", \"2010-01-26T00:00:00\", \"2010-01-27T00:00:00\", \"2010-01-28T00:00:00\", \"2010-01-29T00:00:00\", \"2010-01-30T00:00:00\", \"2010-01-31T00:00:00\", \"2010-02-01T00:00:00\", \"2010-02-02T00:00:00\", \"2010-02-03T00:00:00\", \"2010-02-04T00:00:00\", \"2010-02-05T00:00:00\", \"2010-02-06T00:00:00\", \"2010-02-07T00:00:00\", \"2010-02-08T00:00:00\", \"2010-02-09T00:00:00\", \"2010-02-10T00:00:00\", \"2010-02-11T00:00:00\", \"2010-02-12T00:00:00\", \"2010-02-13T00:00:00\", \"2010-02-14T00:00:00\", \"2010-02-15T00:00:00\", \"2010-02-16T00:00:00\", \"2010-02-17T00:00:00\", \"2010-02-18T00:00:00\", \"2010-02-19T00:00:00\", \"2010-02-20T00:00:00\", \"2010-02-21T00:00:00\", \"2010-02-22T00:00:00\", \"2010-02-23T00:00:00\", \"2010-02-24T00:00:00\", \"2010-02-25T00:00:00\", \"2010-02-26T00:00:00\", \"2010-02-27T00:00:00\", \"2010-02-28T00:00:00\", \"2010-03-01T00:00:00\", \"2010-03-02T00:00:00\", \"2010-03-03T00:00:00\", \"2010-03-04T00:00:00\", \"2010-03-05T00:00:00\", \"2010-03-06T00:00:00\", \"2010-03-07T00:00:00\", \"2010-03-08T00:00:00\", \"2010-03-09T00:00:00\", \"2010-03-10T00:00:00\", \"2010-03-11T00:00:00\", \"2010-03-12T00:00:00\", \"2010-03-13T00:00:00\", \"2010-03-14T00:00:00\", \"2010-03-15T00:00:00\", \"2010-03-16T00:00:00\", \"2010-03-17T00:00:00\", \"2010-03-18T00:00:00\", \"2010-03-19T00:00:00\", \"2010-03-20T00:00:00\", \"2010-03-21T00:00:00\", \"2010-03-22T00:00:00\", \"2010-03-23T00:00:00\", \"2010-03-24T00:00:00\", \"2010-03-25T00:00:00\", \"2010-03-26T00:00:00\", \"2010-03-27T00:00:00\", \"2010-03-28T00:00:00\", \"2010-03-29T00:00:00\", \"2010-03-30T00:00:00\", \"2010-03-31T00:00:00\", \"2010-04-01T00:00:00\", \"2010-04-02T00:00:00\", \"2010-04-03T00:00:00\", \"2010-04-04T00:00:00\", \"2010-04-05T00:00:00\", \"2010-04-06T00:00:00\", \"2010-04-07T00:00:00\", \"2010-04-08T00:00:00\", \"2010-04-09T00:00:00\", \"2010-04-10T00:00:00\", \"2010-04-11T00:00:00\", \"2010-04-12T00:00:00\", \"2010-04-13T00:00:00\", \"2010-04-14T00:00:00\", \"2010-04-15T00:00:00\", \"2010-04-16T00:00:00\", \"2010-04-17T00:00:00\", \"2010-04-18T00:00:00\", \"2010-04-19T00:00:00\", \"2010-04-20T00:00:00\", \"2010-04-21T00:00:00\", \"2010-04-22T00:00:00\", \"2010-04-23T00:00:00\", \"2010-04-24T00:00:00\", \"2010-04-25T00:00:00\", \"2010-04-26T00:00:00\", \"2010-04-27T00:00:00\", \"2010-04-28T00:00:00\", \"2010-04-29T00:00:00\", \"2010-04-30T00:00:00\", \"2010-05-01T00:00:00\", \"2010-05-02T00:00:00\", \"2010-05-03T00:00:00\", \"2010-05-04T00:00:00\", \"2010-05-05T00:00:00\", \"2010-05-06T00:00:00\", \"2010-05-07T00:00:00\", \"2010-05-08T00:00:00\", \"2010-05-09T00:00:00\", \"2010-05-10T00:00:00\", \"2010-05-11T00:00:00\", \"2010-05-12T00:00:00\", \"2010-05-13T00:00:00\", \"2010-05-14T00:00:00\", \"2010-05-15T00:00:00\", \"2010-05-16T00:00:00\", \"2010-05-17T00:00:00\", \"2010-05-18T00:00:00\", \"2010-05-19T00:00:00\", \"2010-05-20T00:00:00\", \"2010-05-21T00:00:00\", \"2010-05-22T00:00:00\", \"2010-05-23T00:00:00\", \"2010-05-24T00:00:00\", \"2010-05-25T00:00:00\", \"2010-05-26T00:00:00\", \"2010-05-27T00:00:00\", \"2010-05-28T00:00:00\", \"2010-05-29T00:00:00\", \"2010-05-30T00:00:00\", \"2010-05-31T00:00:00\", \"2010-06-01T00:00:00\", \"2010-06-02T00:00:00\", \"2010-06-03T00:00:00\", \"2010-06-04T00:00:00\", \"2010-06-05T00:00:00\", \"2010-06-06T00:00:00\", \"2010-06-07T00:00:00\", \"2010-06-08T00:00:00\", \"2010-06-09T00:00:00\", \"2010-06-10T00:00:00\", \"2010-06-11T00:00:00\", \"2010-06-12T00:00:00\", \"2010-06-13T00:00:00\", \"2010-06-14T00:00:00\", \"2010-06-15T00:00:00\", \"2010-06-16T00:00:00\", \"2010-06-17T00:00:00\", \"2010-06-18T00:00:00\", \"2010-06-19T00:00:00\", \"2010-06-20T00:00:00\", \"2010-06-21T00:00:00\", \"2010-06-22T00:00:00\", \"2010-06-23T00:00:00\", \"2010-06-24T00:00:00\", \"2010-06-25T00:00:00\", \"2010-06-26T00:00:00\", \"2010-06-27T00:00:00\", \"2010-06-28T00:00:00\", \"2010-06-29T00:00:00\", \"2010-06-30T00:00:00\", \"2010-07-01T00:00:00\", \"2010-07-02T00:00:00\", \"2010-07-03T00:00:00\", \"2010-07-04T00:00:00\", \"2010-07-05T00:00:00\", \"2010-07-06T00:00:00\", \"2010-07-07T00:00:00\", \"2010-07-08T00:00:00\", \"2010-07-09T00:00:00\", \"2010-07-10T00:00:00\", \"2010-07-11T00:00:00\", \"2010-07-12T00:00:00\", \"2010-07-13T00:00:00\", \"2010-07-14T00:00:00\", \"2010-07-15T00:00:00\", \"2010-07-16T00:00:00\", \"2010-07-17T00:00:00\", \"2010-07-18T00:00:00\", \"2010-07-19T00:00:00\", \"2010-07-20T00:00:00\", \"2010-07-21T00:00:00\", \"2010-07-22T00:00:00\", \"2010-07-23T00:00:00\", \"2010-07-24T00:00:00\", \"2010-07-25T00:00:00\", \"2010-07-26T00:00:00\", \"2010-07-27T00:00:00\", \"2010-07-28T00:00:00\", \"2010-07-29T00:00:00\", \"2010-07-30T00:00:00\", \"2010-07-31T00:00:00\", \"2010-08-01T00:00:00\", \"2010-08-02T00:00:00\", \"2010-08-03T00:00:00\", \"2010-08-04T00:00:00\", \"2010-08-05T00:00:00\", \"2010-08-06T00:00:00\", \"2010-08-07T00:00:00\", \"2010-08-08T00:00:00\", \"2010-08-09T00:00:00\", \"2010-08-10T00:00:00\", \"2010-08-11T00:00:00\", \"2010-08-12T00:00:00\", \"2010-08-13T00:00:00\", \"2010-08-14T00:00:00\", \"2010-08-15T00:00:00\", \"2010-08-16T00:00:00\", \"2010-08-17T00:00:00\", \"2010-08-18T00:00:00\", \"2010-08-19T00:00:00\", \"2010-08-20T00:00:00\", \"2010-08-21T00:00:00\", \"2010-08-22T00:00:00\", \"2010-08-23T00:00:00\", \"2010-08-24T00:00:00\", \"2010-08-25T00:00:00\", \"2010-08-26T00:00:00\", \"2010-08-27T00:00:00\", \"2010-08-28T00:00:00\", \"2010-08-29T00:00:00\", \"2010-08-30T00:00:00\", \"2010-08-31T00:00:00\", \"2010-09-01T00:00:00\", \"2010-09-02T00:00:00\", \"2010-09-03T00:00:00\", \"2010-09-04T00:00:00\", \"2010-09-05T00:00:00\", \"2010-09-06T00:00:00\", \"2010-09-07T00:00:00\", \"2010-09-08T00:00:00\", \"2010-09-09T00:00:00\", \"2010-09-10T00:00:00\", \"2010-09-11T00:00:00\", \"2010-09-12T00:00:00\", \"2010-09-13T00:00:00\", \"2010-09-14T00:00:00\", \"2010-09-15T00:00:00\", \"2010-09-16T00:00:00\", \"2010-09-17T00:00:00\", \"2010-09-18T00:00:00\", \"2010-09-19T00:00:00\", \"2010-09-20T00:00:00\", \"2010-09-21T00:00:00\", \"2010-09-22T00:00:00\", \"2010-09-23T00:00:00\", \"2010-09-24T00:00:00\", \"2010-09-25T00:00:00\", \"2010-09-26T00:00:00\", \"2010-09-27T00:00:00\", \"2010-09-28T00:00:00\", \"2010-09-29T00:00:00\", \"2010-09-30T00:00:00\", \"2010-10-01T00:00:00\", \"2010-10-02T00:00:00\", \"2010-10-03T00:00:00\", \"2010-10-04T00:00:00\", \"2010-10-05T00:00:00\", \"2010-10-06T00:00:00\", \"2010-10-07T00:00:00\", \"2010-10-08T00:00:00\", \"2010-10-09T00:00:00\", \"2010-10-10T00:00:00\", \"2010-10-11T00:00:00\", \"2010-10-12T00:00:00\", \"2010-10-13T00:00:00\", \"2010-10-14T00:00:00\", \"2010-10-15T00:00:00\", \"2010-10-16T00:00:00\", \"2010-10-17T00:00:00\", \"2010-10-18T00:00:00\", \"2010-10-19T00:00:00\", \"2010-10-20T00:00:00\", \"2010-10-21T00:00:00\", \"2010-10-22T00:00:00\", \"2010-10-23T00:00:00\", \"2010-10-24T00:00:00\", \"2010-10-25T00:00:00\", \"2010-10-26T00:00:00\", \"2010-10-27T00:00:00\", \"2010-10-28T00:00:00\", \"2010-10-29T00:00:00\", \"2010-10-30T00:00:00\", \"2010-10-31T00:00:00\", \"2010-11-01T00:00:00\", \"2010-11-02T00:00:00\", \"2010-11-03T00:00:00\", \"2010-11-04T00:00:00\", \"2010-11-05T00:00:00\", \"2010-11-06T00:00:00\", \"2010-11-07T00:00:00\", \"2010-11-08T00:00:00\", \"2010-11-09T00:00:00\", \"2010-11-10T00:00:00\", \"2010-11-11T00:00:00\", \"2010-11-12T00:00:00\", \"2010-11-13T00:00:00\", \"2010-11-14T00:00:00\", \"2010-11-15T00:00:00\", \"2010-11-16T00:00:00\", \"2010-11-17T00:00:00\", \"2010-11-18T00:00:00\", \"2010-11-19T00:00:00\", \"2010-11-20T00:00:00\", \"2010-11-21T00:00:00\", \"2010-11-22T00:00:00\", \"2010-11-23T00:00:00\", \"2010-11-24T00:00:00\", \"2010-11-25T00:00:00\", \"2010-11-26T00:00:00\", \"2010-11-27T00:00:00\", \"2010-11-28T00:00:00\", \"2010-11-29T00:00:00\", \"2010-11-30T00:00:00\", \"2010-12-01T00:00:00\", \"2010-12-02T00:00:00\", \"2010-12-03T00:00:00\", \"2010-12-04T00:00:00\", \"2010-12-05T00:00:00\", \"2010-12-06T00:00:00\", \"2010-12-07T00:00:00\", \"2010-12-08T00:00:00\", \"2010-12-09T00:00:00\", \"2010-12-10T00:00:00\", \"2010-12-11T00:00:00\", \"2010-12-12T00:00:00\", \"2010-12-13T00:00:00\", \"2010-12-14T00:00:00\", \"2010-12-15T00:00:00\", \"2010-12-16T00:00:00\", \"2010-12-17T00:00:00\", \"2010-12-18T00:00:00\", \"2010-12-19T00:00:00\", \"2010-12-20T00:00:00\", \"2010-12-21T00:00:00\", \"2010-12-22T00:00:00\", \"2010-12-23T00:00:00\", \"2010-12-24T00:00:00\", \"2010-12-25T00:00:00\", \"2010-12-26T00:00:00\", \"2010-12-27T00:00:00\", \"2010-12-28T00:00:00\", \"2010-12-29T00:00:00\", \"2010-12-30T00:00:00\", \"2010-12-31T00:00:00\", \"2011-01-01T00:00:00\", \"2011-01-02T00:00:00\", \"2011-01-03T00:00:00\", \"2011-01-04T00:00:00\", \"2011-01-05T00:00:00\", \"2011-01-06T00:00:00\", \"2011-01-07T00:00:00\", \"2011-01-08T00:00:00\", \"2011-01-09T00:00:00\", \"2011-01-10T00:00:00\", \"2011-01-11T00:00:00\", \"2011-01-12T00:00:00\", \"2011-01-13T00:00:00\", \"2011-01-14T00:00:00\", \"2011-01-15T00:00:00\", \"2011-01-16T00:00:00\", \"2011-01-17T00:00:00\", \"2011-01-18T00:00:00\", \"2011-01-19T00:00:00\", \"2011-01-20T00:00:00\", \"2011-01-21T00:00:00\", \"2011-01-22T00:00:00\", \"2011-01-23T00:00:00\", \"2011-01-24T00:00:00\", \"2011-01-25T00:00:00\", \"2011-01-26T00:00:00\", \"2011-01-27T00:00:00\", \"2011-01-28T00:00:00\", \"2011-01-29T00:00:00\", \"2011-01-30T00:00:00\", \"2011-01-31T00:00:00\", \"2011-02-01T00:00:00\", \"2011-02-02T00:00:00\", \"2011-02-03T00:00:00\", \"2011-02-04T00:00:00\", \"2011-02-05T00:00:00\", \"2011-02-06T00:00:00\", \"2011-02-07T00:00:00\", \"2011-02-08T00:00:00\", \"2011-02-09T00:00:00\", \"2011-02-10T00:00:00\", \"2011-02-11T00:00:00\", \"2011-02-12T00:00:00\", \"2011-02-13T00:00:00\", \"2011-02-14T00:00:00\", \"2011-02-15T00:00:00\", \"2011-02-16T00:00:00\", \"2011-02-17T00:00:00\", \"2011-02-18T00:00:00\", \"2011-02-19T00:00:00\", \"2011-02-20T00:00:00\", \"2011-02-21T00:00:00\", \"2011-02-22T00:00:00\", \"2011-02-23T00:00:00\", \"2011-02-24T00:00:00\", \"2011-02-25T00:00:00\", \"2011-02-26T00:00:00\", \"2011-02-27T00:00:00\", \"2011-02-28T00:00:00\", \"2011-03-01T00:00:00\", \"2011-03-02T00:00:00\", \"2011-03-03T00:00:00\", \"2011-03-04T00:00:00\", \"2011-03-05T00:00:00\", \"2011-03-06T00:00:00\", \"2011-03-07T00:00:00\", \"2011-03-08T00:00:00\", \"2011-03-09T00:00:00\", \"2011-03-10T00:00:00\", \"2011-03-11T00:00:00\", \"2011-03-12T00:00:00\", \"2011-03-13T00:00:00\", \"2011-03-14T00:00:00\", \"2011-03-15T00:00:00\", \"2011-03-16T00:00:00\", \"2011-03-17T00:00:00\", \"2011-03-18T00:00:00\", \"2011-03-19T00:00:00\", \"2011-03-20T00:00:00\", \"2011-03-21T00:00:00\", \"2011-03-22T00:00:00\", \"2011-03-23T00:00:00\", \"2011-03-24T00:00:00\", \"2011-03-25T00:00:00\", \"2011-03-26T00:00:00\", \"2011-03-27T00:00:00\", \"2011-03-28T00:00:00\", \"2011-03-29T00:00:00\", \"2011-03-30T00:00:00\", \"2011-03-31T00:00:00\", \"2011-04-01T00:00:00\", \"2011-04-02T00:00:00\", \"2011-04-03T00:00:00\", \"2011-04-04T00:00:00\", \"2011-04-05T00:00:00\", \"2011-04-06T00:00:00\", \"2011-04-07T00:00:00\", \"2011-04-08T00:00:00\", \"2011-04-09T00:00:00\", \"2011-04-10T00:00:00\", \"2011-04-11T00:00:00\", \"2011-04-12T00:00:00\", \"2011-04-13T00:00:00\", \"2011-04-14T00:00:00\", \"2011-04-15T00:00:00\", \"2011-04-16T00:00:00\", \"2011-04-17T00:00:00\", \"2011-04-18T00:00:00\", \"2011-04-19T00:00:00\", \"2011-04-20T00:00:00\", \"2011-04-21T00:00:00\", \"2011-04-22T00:00:00\", \"2011-04-23T00:00:00\", \"2011-04-24T00:00:00\", \"2011-04-25T00:00:00\", \"2011-04-26T00:00:00\", \"2011-04-27T00:00:00\", \"2011-04-28T00:00:00\", \"2011-04-29T00:00:00\", \"2011-04-30T00:00:00\", \"2011-05-01T00:00:00\", \"2011-05-02T00:00:00\", \"2011-05-03T00:00:00\", \"2011-05-04T00:00:00\", \"2011-05-05T00:00:00\", \"2011-05-06T00:00:00\", \"2011-05-07T00:00:00\", \"2011-05-08T00:00:00\", \"2011-05-09T00:00:00\", \"2011-05-10T00:00:00\", \"2011-05-11T00:00:00\", \"2011-05-12T00:00:00\", \"2011-05-13T00:00:00\", \"2011-05-14T00:00:00\", \"2011-05-15T00:00:00\", \"2011-05-16T00:00:00\", \"2011-05-17T00:00:00\", \"2011-05-18T00:00:00\", \"2011-05-19T00:00:00\", \"2011-05-20T00:00:00\", \"2011-05-21T00:00:00\", \"2011-05-22T00:00:00\", \"2011-05-23T00:00:00\", \"2011-05-24T00:00:00\", \"2011-05-25T00:00:00\", \"2011-05-26T00:00:00\", \"2011-05-27T00:00:00\", \"2011-05-28T00:00:00\", \"2011-05-29T00:00:00\", \"2011-05-30T00:00:00\", \"2011-05-31T00:00:00\", \"2011-06-01T00:00:00\", \"2011-06-02T00:00:00\", \"2011-06-03T00:00:00\", \"2011-06-04T00:00:00\", \"2011-06-05T00:00:00\", \"2011-06-06T00:00:00\", \"2011-06-07T00:00:00\", \"2011-06-08T00:00:00\", \"2011-06-09T00:00:00\", \"2011-06-10T00:00:00\", \"2011-06-11T00:00:00\", \"2011-06-12T00:00:00\", \"2011-06-13T00:00:00\", \"2011-06-14T00:00:00\", \"2011-06-15T00:00:00\", \"2011-06-16T00:00:00\", \"2011-06-17T00:00:00\", \"2011-06-18T00:00:00\", \"2011-06-19T00:00:00\", \"2011-06-20T00:00:00\", \"2011-06-21T00:00:00\", \"2011-06-22T00:00:00\", \"2011-06-23T00:00:00\", \"2011-06-24T00:00:00\", \"2011-06-25T00:00:00\", \"2011-06-26T00:00:00\", \"2011-06-27T00:00:00\", \"2011-06-28T00:00:00\", \"2011-06-29T00:00:00\", \"2011-06-30T00:00:00\", \"2011-07-01T00:00:00\", \"2011-07-02T00:00:00\", \"2011-07-03T00:00:00\", \"2011-07-04T00:00:00\", \"2011-07-05T00:00:00\", \"2011-07-06T00:00:00\", \"2011-07-07T00:00:00\", \"2011-07-08T00:00:00\", \"2011-07-09T00:00:00\", \"2011-07-10T00:00:00\", \"2011-07-11T00:00:00\", \"2011-07-12T00:00:00\", \"2011-07-13T00:00:00\", \"2011-07-14T00:00:00\", \"2011-07-15T00:00:00\", \"2011-07-16T00:00:00\", \"2011-07-17T00:00:00\", \"2011-07-18T00:00:00\", \"2011-07-19T00:00:00\", \"2011-07-20T00:00:00\", \"2011-07-21T00:00:00\", \"2011-07-22T00:00:00\", \"2011-07-23T00:00:00\", \"2011-07-24T00:00:00\", \"2011-07-25T00:00:00\", \"2011-07-26T00:00:00\", \"2011-07-27T00:00:00\", \"2011-07-28T00:00:00\", \"2011-07-29T00:00:00\", \"2011-07-30T00:00:00\", \"2011-07-31T00:00:00\", \"2011-08-01T00:00:00\", \"2011-08-02T00:00:00\", \"2011-08-03T00:00:00\", \"2011-08-04T00:00:00\", \"2011-08-05T00:00:00\", \"2011-08-06T00:00:00\"], \"xaxis\": \"x\", \"y\": [3.0, 0.925, 1.4136363636363636, 1.353191489361702, 1.4422018348623853, 2.3975232198142415, 2.601452784503632, 2.6097251585623678, 2.9221640488656195, 3.008398133748056, 3.2036697247706423, 3.188098318240621, 3.2495747266099637, 3.066531027466938, 3.073704789833822, 4.311715797430083, 4.286871717929483, 4.356541019955654, 4.3319148936170215, 4.828284509542832, 5.131387944970473, 5.293210189104706, 5.278208198809327, 5.141966597224222, 5.061533363782094, 4.941241217861467, 4.82321287985141, 4.730192162969023, 4.709860552868624, 4.697057497634866, 4.7234544606041755, 4.619189899929731, 4.629900564095045, 4.4944132240808266, 4.493346449114243, 4.781531024219443, 4.788587914234837, 4.7480909116981564, 4.753166170969589, 4.735059798419939, 4.730879510593707, 4.6946550964473355, 4.624782145470585, 4.59921057392777, 4.628963785859357, 4.553974075402166, 4.619274005318479, 4.639695050356189, 6.512900785723665, 6.508433239004362, 6.505315784149312, 6.468239601357199, 6.431482879458858, 6.420767944217929, 6.407783388314414, 6.2981430025386755, 6.25244764897916, 6.245210661472417, 6.231087451837376, 6.235456640405614, 6.398413333109462, 6.424665021998479, 6.919451861397153, 7.023925997559925, 7.032217512460273, 7.007411448625513, 7.0026911262402916, 7.000334300745168, 6.9886763412695725, 6.97931426252942, 7.889369408252573, 7.880759934300639, 7.8750766151035405, 8.212410388898688, 8.504884225679232, 8.500061023308236, 8.495244968195813, 8.470186071042626, 8.420113531410967, 8.367431650484736, 8.634673945887954, 8.615606113967742, 8.672964260871574, 8.633730042404283, 8.533275212896061, 8.474475387386931, 8.331341479632707, 8.305944174809506, 11.539134456936354, 11.537679936529216, 10.972995512157903, 11.035455912900224, 11.044521697222509, 11.02837567407657, 10.460495085256605, 9.644915088844229, 9.028797965399878, 8.971244772192641, 8.840315886746353, 6.126545390474474, 6.120209594277644, 9.220689709091912, 9.222832165190532, 9.221808955416876, 9.218386958368063, 9.185587798853874, 9.124784693946411, 9.04858499246884, 8.73639869636005, 8.69593629610789, 8.795022963076605, 8.793237033246319, 8.792557196896912, 8.80180441395871, 8.801690724357863, 8.798714000169012, 9.452461394674295, 10.438697273967092, 10.442406594673546, 10.44636986237679, 10.445402906188821, 10.441653085609875, 10.437845356035595, 10.436621389629, 10.431728697008698, 10.425773916631746, 10.424553095814742, 10.423462093848606, 10.360082799082187, 10.342960846058858, 10.32383828360007, 10.298858394523243, 10.299611947536869, 10.275216715915139, 10.255908214576007, 10.238479363524144, 10.214939546314898, 10.208488287076804, 10.355910706347982, 10.355259874388796, 10.319763628283933, 10.629180750777287, 13.013810184976487, 14.001086875054812, 14.00002466190881, 13.920980000526122, 13.842322126189837, 13.736806452367034, 13.53273511672299, 13.463487959313769, 13.448942162493882, 13.12707656568552, 13.078956218810173, 13.077902163952066, 13.066130702431561, 13.002583857429064, 12.994426986112934, 13.099792858480013, 13.1041073989753, 13.007665363796756, 12.835073559417149, 12.852098196709814, 12.851241727355246, 12.829228771325319, 12.79525038178563, 14.081342206117846, 14.081404579267897, 14.08049036045455, 13.69300614054121, 14.02632434076193, 14.026550899468544, 13.99077410013546, 13.999871608012736, 13.993453164289159, 13.99751020657135, 13.996140250948201, 13.977597837242913, 14.100998322746404, 14.186462669173357, 14.185464076357611, 14.161199684572665, 14.141784438265821, 14.136283214314664, 14.131071628089881, 14.23400494159055, 14.224671542028082, 14.204998225362587, 14.151461752859703, 14.091457030849227, 14.134027726538754, 14.114956975981187, 14.070221586628076, 14.065119092234985, 14.045794485336451, 14.02588805893998, 14.011022859073904, 14.007276813843108, 14.167556139625777, 14.336319772729745, 14.62067448394415, 14.623986830674243, 14.642369638769772, 15.378965734105382, 15.478335444697029, 15.474674278597393, 15.433094163044297, 15.392658866436713, 24.77937683832729, 24.955309494371043, 24.952664267253514, 24.86490080777844, 24.7238841904424, 24.570579132823994, 24.563904042956125, 24.452282474405376, 24.08815371376879, 24.032152745156484, 23.927883825425095, 23.92012466861254, 23.835851456088957, 23.673718281956308, 23.553281542016254, 23.878489066459867, 23.86073845090915, 23.75766492784452, 23.717120082268213, 23.604661687280018, 23.376248487358303, 23.334640732996686, 23.335198760794892, 23.130162486245545, 23.10598582671905, 23.093094344602676, 23.01909413714204, 23.022724936065828, 22.895927151589287, 22.842819652780822, 22.656497342519202, 22.62205700373041, 22.666130190911637, 22.660693587875258, 22.567269854247165, 22.439519589397683, 22.38740229003762, 22.01236625657264, 21.89548290680845, 21.60032759526838, 21.53525283340587, 21.459955337730683, 21.37437285411283, 23.133708443143867, 23.104542318187683, 22.786481252568848, 22.731141324226343, 22.672148262222475, 22.64594773573227, 22.59718442102391, 22.56588587053537, 22.5450841710149, 22.492498039084058, 22.519102140313475, 22.518713221239086, 22.8203148448714, 22.84979428470404, 22.74155213522168, 22.735940608065878, 22.574797603904777, 22.67812052758472, 22.622279810898966, 22.51473140833914, 22.532166638520355, 22.510353516425123, 22.737594510198225, 22.73679346679176, 22.56944934092669, 22.50739490246738, 22.391721039353918, 22.32401945261086, 22.356978908086617, 22.320607788323713, 22.050393166748417, 21.990511592251973, 21.956709989151193, 22.032173804849705, 22.031630067219208, 21.9061948480316, 21.57682214964045, 21.28746448116062, 21.31701359880549, 21.07524622770738, 20.99106247530287, 21.00755697527204, 21.003577864176066, 20.95248170218712, 20.91879928968737, 20.979600009933424, 20.988332019932855, 20.84178504196857, 21.263122677558695, 21.27541847178352, 21.243733382466694, 21.656871970767025, 21.649025911162937, 21.58634803963355, 21.706047546698965, 21.72496624838706, 21.556721670545286, 22.246340969750577, 22.26648463815234, 23.604909178451763, 24.01094215686192, 24.010942120668933, 23.561296102183874, 23.47902355268125, 23.48825106160088, 23.559188895532323, 23.227419719181324, 22.784964034522826, 22.92040684493286, 22.920044990954977, 22.838081665206786, 23.013197310394894, 23.13049584257771, 23.11550574461555, 23.012853780680953, 22.994347863758062, 22.86163359343936, 22.813071551144596, 22.764946537518863, 22.738873313875608, 22.712854897770228, 22.546515631317327, 22.433856840507413, 22.412405700215732, 22.347960949682996, 22.3085385671481, 22.300737168329597, 22.300736914120467, 22.232282160863075, 22.182142606282355, 22.132517818173554, 22.100434941140126, 22.049948963298206, 21.99953263487753, 21.975057397546205, 22.020824802575696, 22.019730825914145, 21.968773620307424, 21.904048662810936, 21.903028803928038, 22.050931997961907, 22.030281553591163, 21.73280236418198, 21.728826083699065, 21.78267506710588, 21.77285206014839, 21.72514853527422, 21.738285004867894, 21.71483426651335, 21.470341005476435, 21.48781935456154, 21.580422210920347, 23.849081255528063, 23.84908097149978, 23.784461788281607, 23.660523336322672, 23.5890390522238, 23.535144825458303, 23.432797206367322, 23.223540637571634, 23.211318078655697, 23.14364544702592, 23.67403176712135, 27.65637340511649, 27.6948699277387, 27.669265823243464, 29.026185347114602, 30.442391609359962, 30.423122548786893, 30.34018095681979, 30.94706735147145, 30.772990381290516, 30.400159205393514, 30.074660712221846, 29.888313586633636, 29.529302914206134, 29.36481462008427, 29.212206247119365, 29.558683949155217, 29.571299825216965, 29.269392786667044, 29.598779426077353, 29.599577458110392, 29.58797470149123, 29.44929624544794, 29.30438635414117, 29.17645356317644, 28.9623434049654, 28.790240765589406, 28.772751150497538, 28.6862128906288, 28.576824604119835, 28.387333417295668, 28.283068666816924, 28.28306615076033, 28.200507194401, 28.17376072408394, 28.075941302000818, 28.059447251860213, 27.994983074175043, 27.91301344030868, 27.89277389415046, 28.47751069594719, 28.476759481781386, 28.53537267066761, 28.21796762398138, 28.19272643907709, 28.103370475774227, 28.05909698447964, 28.017901505637766, 28.078745365149167, 29.110765945720466, 29.11076590668448, 29.07980761846405, 29.00114204773425, 29.027800890587447, 28.99322429454325, 28.96532045660488, 28.89029383105955, 28.84735050086844, 28.851349846978426, 28.878829704821733, 28.876227598739423, 28.775632923004295, 28.76878429833478, 28.7201896857673, 28.672207719076102, 28.61588590998763, 28.699656611109717, 28.698972116185196, 28.64461308683071, 28.576648587375328, 28.72123691264574, 28.8177759443897, 28.75853343534291, 28.70346838230914, 28.69575196126895, 28.6921178168929, 28.630797433160605, 28.601804327444114, 28.588645419162187, 28.53915132265189, 28.53915119118338, 28.491102492735077, 28.45932819346009, 28.412318069574827, 28.59810861898399, 29.381701568872028, 29.378038483253828, 29.32335512795526, 29.316901296070487, 29.310443336106072, 29.28974226596195, 29.281476265064114, 29.260584216435227, 29.242059024862883, 29.128568936913098, 29.08117813942348, 29.07551271597986, 29.14154970867643, 29.142392483951276, 29.1116419935386, 29.10105013092836, 29.092997159982524, 29.07966114396167, 29.09908125605126, 29.09557618765304, 29.19822791442445, 30.009904978231884, 30.010160836820816, 29.971521784236206, 29.992268430824616, 29.964284581777022, 30.031662682268852, 30.025395717719146, 30.001897127829775, 30.15930175472365, 30.157747944045276, 30.12230741536511, 30.090087137821918, 30.117205584388927, 30.17150688764734, 30.1662168481455, 30.347183731017537, 31.955271324404826, 32.05238978788328, 32.246379328824204, 32.22544177007942, 32.19950414702685, 32.17304999454983, 32.10647480198455, 32.02978911156566, 31.95798326801068, 31.958152996428478, 31.985434302684897, 32.13222144857014, 32.11673554098298, 32.043376449349466, 32.032856507979375, 32.077561408714864, 32.02844260351826, 31.97603091536878, 32.496521077599816, 32.48934128299528, 32.43898476279553, 32.41804593065576, 32.40032292332332, 32.375696242259785, 32.36429239320287, 32.32145990069508, 32.29974030737001, 32.29216018173484, 32.287747707401444, 32.244979757684185, 32.47581228014641, 32.47192275182594, 32.48488145842934, 32.96796153900875, 32.969382732374484, 32.41369338452294, 32.28207823573912, 32.1015522678494, 32.10015509715894, 31.93001523189891, 31.72120471237704, 31.66372510353845, 31.606945254673285, 31.528981991951476, 31.536954291817466, 31.52666531637286, 31.48313529913454, 31.389088426754746, 31.708359719346902, 31.715521345791412, 31.697026867979176, 31.654415079731248, 31.630776782481217, 31.614770507753256, 31.60247354040267, 31.602724215611442, 31.734835700028164, 31.66856463819045, 31.707862146304162, 31.707317930992577, 31.673347168305934, 31.64755813978344, 31.61682092442167, 31.548316635027682, 31.489284027283585, 31.473318169612046, 31.384270037425484, 31.475564710234604, 31.52424077185944, 31.513986417795316, 31.520525103858052, 31.485177726206118, 31.442885651341417, 31.372738334058507, 31.335736703761206, 31.292681715168353, 31.291557132626217, 31.27435964341876, 31.33357503453181, 31.389320758984745, 31.33409565617082, 31.257615664772054, 31.24244703322765, 31.071511454826688, 30.857107153860266, 30.781631551324136, 30.90228099786815, 30.915582359112076, 30.938705545669027, 30.96255699628997, 30.979573963953772, 31.060234063861106, 32.162991626183164, 32.15378029532001, 31.87350666961451, 31.93762149699941, 32.031478388834095, 32.328091755519814, 32.32265257664551, 32.40245449872465, 32.398169120284614, 32.36642232693194, 32.08138372726549, 32.13952625933406, 31.97549389119659, 32.425795024224456, 32.3601292132686, 32.28990518151797, 31.839526731921357, 32.330566198997204, 32.336941984329904, 32.29004210222833, 32.390515863508845, 32.44790672445935, 32.41917219469481, 32.001897881632026, 31.49709536098918, 31.460941157999645, 31.499007737384357, 31.499597087094735, 31.489547182340765, 31.117804772201104, 31.101523419240714, 31.152158202353107, 31.158089953575203, 31.152042570580125, 31.652067879905566, 32.2388935970072, 32.25556647551292, 32.56017296894882, 32.63759568949542, 32.77465258968251, 33.442871294356316, 33.67836483116944, 33.950705865213514, 34.553594131635116, 34.5211691424375, 34.62408760461417, 36.46064441040076, 36.969724992602636, 37.68187472230002, 37.3827992594752, 37.341394050612536, 37.2507765069774, 36.51687681103756, 36.28587619232563, 36.10406205226769, 35.87890393371404, 35.20369098991754, 35.0489464562922, 34.94630627544012, 35.05936133988384, 35.24851089088468, 35.15833799045979, 35.02405557560212, 34.88673736955626, 34.73664942984282, 34.56848067855221, 34.46336018689583, 34.41601659195968, 34.40390445946234, 34.29737740869574, 34.221698014866035, 34.16731937494691, 34.194844300456, 34.130726341949945, 34.09126649210715, 34.01758366447736, 33.91753588994079, 33.85398844419289, 33.7807675320846, 33.705965618736116, 33.65051265833882, 33.444994830748, 33.39763965446353, 33.3213206619666, 33.25221035060289, 33.18194408434223, 33.12651519516799, 33.083882163396204, 33.02328007848473, 32.96375664267122, 32.91239923410806, 32.867229035449434, 32.86312819777641, 32.81878594830012, 32.67820982765197, 32.51402652470136, 32.48645365716084, 32.47079303538548, 32.43833974473532, 32.37049467437366], \"yaxis\": \"y\"}],\n",
              "                        {\"legend\": {\"tracegroupgap\": 0}, \"template\": {\"data\": {\"bar\": [{\"error_x\": {\"color\": \"#2a3f5f\"}, \"error_y\": {\"color\": \"#2a3f5f\"}, \"marker\": {\"line\": {\"color\": \"#E5ECF6\", \"width\": 0.5}}, \"type\": \"bar\"}], \"barpolar\": [{\"marker\": {\"line\": {\"color\": \"#E5ECF6\", \"width\": 0.5}}, \"type\": \"barpolar\"}], \"carpet\": [{\"aaxis\": {\"endlinecolor\": \"#2a3f5f\", \"gridcolor\": \"white\", \"linecolor\": \"white\", \"minorgridcolor\": \"white\", \"startlinecolor\": \"#2a3f5f\"}, \"baxis\": {\"endlinecolor\": \"#2a3f5f\", \"gridcolor\": \"white\", \"linecolor\": \"white\", \"minorgridcolor\": \"white\", \"startlinecolor\": \"#2a3f5f\"}, \"type\": \"carpet\"}], \"choropleth\": [{\"colorbar\": {\"outlinewidth\": 0, \"ticks\": \"\"}, \"type\": \"choropleth\"}], \"contour\": [{\"colorbar\": {\"outlinewidth\": 0, \"ticks\": \"\"}, \"colorscale\": [[0.0, \"#0d0887\"], [0.1111111111111111, \"#46039f\"], [0.2222222222222222, \"#7201a8\"], [0.3333333333333333, \"#9c179e\"], [0.4444444444444444, \"#bd3786\"], [0.5555555555555556, \"#d8576b\"], [0.6666666666666666, \"#ed7953\"], [0.7777777777777778, \"#fb9f3a\"], [0.8888888888888888, \"#fdca26\"], [1.0, \"#f0f921\"]], \"type\": \"contour\"}], \"contourcarpet\": [{\"colorbar\": {\"outlinewidth\": 0, \"ticks\": \"\"}, \"type\": \"contourcarpet\"}], \"heatmap\": [{\"colorbar\": {\"outlinewidth\": 0, \"ticks\": \"\"}, \"colorscale\": [[0.0, \"#0d0887\"], [0.1111111111111111, \"#46039f\"], [0.2222222222222222, \"#7201a8\"], [0.3333333333333333, \"#9c179e\"], [0.4444444444444444, \"#bd3786\"], [0.5555555555555556, \"#d8576b\"], [0.6666666666666666, \"#ed7953\"], [0.7777777777777778, \"#fb9f3a\"], [0.8888888888888888, \"#fdca26\"], [1.0, \"#f0f921\"]], \"type\": \"heatmap\"}], \"heatmapgl\": [{\"colorbar\": {\"outlinewidth\": 0, \"ticks\": \"\"}, \"colorscale\": [[0.0, \"#0d0887\"], [0.1111111111111111, \"#46039f\"], [0.2222222222222222, \"#7201a8\"], [0.3333333333333333, \"#9c179e\"], [0.4444444444444444, \"#bd3786\"], [0.5555555555555556, \"#d8576b\"], [0.6666666666666666, \"#ed7953\"], [0.7777777777777778, \"#fb9f3a\"], [0.8888888888888888, \"#fdca26\"], [1.0, \"#f0f921\"]], \"type\": \"heatmapgl\"}], \"histogram\": [{\"marker\": {\"colorbar\": {\"outlinewidth\": 0, \"ticks\": \"\"}}, \"type\": \"histogram\"}], \"histogram2d\": [{\"colorbar\": {\"outlinewidth\": 0, \"ticks\": \"\"}, \"colorscale\": [[0.0, \"#0d0887\"], [0.1111111111111111, \"#46039f\"], [0.2222222222222222, \"#7201a8\"], [0.3333333333333333, \"#9c179e\"], [0.4444444444444444, \"#bd3786\"], [0.5555555555555556, \"#d8576b\"], [0.6666666666666666, \"#ed7953\"], [0.7777777777777778, \"#fb9f3a\"], [0.8888888888888888, \"#fdca26\"], [1.0, \"#f0f921\"]], \"type\": \"histogram2d\"}], \"histogram2dcontour\": [{\"colorbar\": {\"outlinewidth\": 0, \"ticks\": \"\"}, \"colorscale\": [[0.0, \"#0d0887\"], [0.1111111111111111, \"#46039f\"], [0.2222222222222222, \"#7201a8\"], [0.3333333333333333, \"#9c179e\"], [0.4444444444444444, \"#bd3786\"], [0.5555555555555556, \"#d8576b\"], [0.6666666666666666, \"#ed7953\"], [0.7777777777777778, \"#fb9f3a\"], [0.8888888888888888, \"#fdca26\"], [1.0, \"#f0f921\"]], \"type\": \"histogram2dcontour\"}], \"mesh3d\": [{\"colorbar\": {\"outlinewidth\": 0, \"ticks\": \"\"}, \"type\": \"mesh3d\"}], \"parcoords\": [{\"line\": {\"colorbar\": {\"outlinewidth\": 0, \"ticks\": \"\"}}, \"type\": \"parcoords\"}], \"pie\": [{\"automargin\": true, \"type\": \"pie\"}], \"scatter\": [{\"marker\": {\"colorbar\": {\"outlinewidth\": 0, \"ticks\": \"\"}}, \"type\": \"scatter\"}], \"scatter3d\": [{\"line\": {\"colorbar\": {\"outlinewidth\": 0, \"ticks\": \"\"}}, \"marker\": {\"colorbar\": {\"outlinewidth\": 0, \"ticks\": \"\"}}, \"type\": \"scatter3d\"}], \"scattercarpet\": [{\"marker\": {\"colorbar\": {\"outlinewidth\": 0, \"ticks\": \"\"}}, \"type\": \"scattercarpet\"}], \"scattergeo\": [{\"marker\": {\"colorbar\": {\"outlinewidth\": 0, \"ticks\": \"\"}}, \"type\": \"scattergeo\"}], \"scattergl\": [{\"marker\": {\"colorbar\": {\"outlinewidth\": 0, \"ticks\": \"\"}}, \"type\": \"scattergl\"}], \"scattermapbox\": [{\"marker\": {\"colorbar\": {\"outlinewidth\": 0, \"ticks\": \"\"}}, \"type\": \"scattermapbox\"}], \"scatterpolar\": [{\"marker\": {\"colorbar\": {\"outlinewidth\": 0, \"ticks\": \"\"}}, \"type\": \"scatterpolar\"}], \"scatterpolargl\": [{\"marker\": {\"colorbar\": {\"outlinewidth\": 0, \"ticks\": \"\"}}, \"type\": \"scatterpolargl\"}], \"scatterternary\": [{\"marker\": {\"colorbar\": {\"outlinewidth\": 0, \"ticks\": \"\"}}, \"type\": \"scatterternary\"}], \"surface\": [{\"colorbar\": {\"outlinewidth\": 0, \"ticks\": \"\"}, \"colorscale\": [[0.0, \"#0d0887\"], [0.1111111111111111, \"#46039f\"], [0.2222222222222222, \"#7201a8\"], [0.3333333333333333, \"#9c179e\"], [0.4444444444444444, \"#bd3786\"], [0.5555555555555556, \"#d8576b\"], [0.6666666666666666, \"#ed7953\"], [0.7777777777777778, \"#fb9f3a\"], [0.8888888888888888, \"#fdca26\"], [1.0, \"#f0f921\"]], \"type\": \"surface\"}], \"table\": [{\"cells\": {\"fill\": {\"color\": \"#EBF0F8\"}, \"line\": {\"color\": \"white\"}}, \"header\": {\"fill\": {\"color\": \"#C8D4E3\"}, \"line\": {\"color\": \"white\"}}, \"type\": \"table\"}]}, \"layout\": {\"annotationdefaults\": {\"arrowcolor\": \"#2a3f5f\", \"arrowhead\": 0, \"arrowwidth\": 1}, \"coloraxis\": {\"colorbar\": {\"outlinewidth\": 0, \"ticks\": \"\"}}, \"colorscale\": {\"diverging\": [[0, \"#8e0152\"], [0.1, \"#c51b7d\"], [0.2, \"#de77ae\"], [0.3, \"#f1b6da\"], [0.4, \"#fde0ef\"], [0.5, \"#f7f7f7\"], [0.6, \"#e6f5d0\"], [0.7, \"#b8e186\"], [0.8, \"#7fbc41\"], [0.9, \"#4d9221\"], [1, \"#276419\"]], \"sequential\": [[0.0, \"#0d0887\"], [0.1111111111111111, \"#46039f\"], [0.2222222222222222, \"#7201a8\"], [0.3333333333333333, \"#9c179e\"], [0.4444444444444444, \"#bd3786\"], [0.5555555555555556, \"#d8576b\"], [0.6666666666666666, \"#ed7953\"], [0.7777777777777778, \"#fb9f3a\"], [0.8888888888888888, \"#fdca26\"], [1.0, \"#f0f921\"]], \"sequentialminus\": [[0.0, \"#0d0887\"], [0.1111111111111111, \"#46039f\"], [0.2222222222222222, \"#7201a8\"], [0.3333333333333333, \"#9c179e\"], [0.4444444444444444, \"#bd3786\"], [0.5555555555555556, \"#d8576b\"], [0.6666666666666666, \"#ed7953\"], [0.7777777777777778, \"#fb9f3a\"], [0.8888888888888888, \"#fdca26\"], [1.0, \"#f0f921\"]]}, \"colorway\": [\"#636efa\", \"#EF553B\", \"#00cc96\", \"#ab63fa\", \"#FFA15A\", \"#19d3f3\", \"#FF6692\", \"#B6E880\", \"#FF97FF\", \"#FECB52\"], \"font\": {\"color\": \"#2a3f5f\"}, \"geo\": {\"bgcolor\": \"white\", \"lakecolor\": \"white\", \"landcolor\": \"#E5ECF6\", \"showlakes\": true, \"showland\": true, \"subunitcolor\": \"white\"}, \"hoverlabel\": {\"align\": \"left\"}, \"hovermode\": \"closest\", \"mapbox\": {\"style\": \"light\"}, \"paper_bgcolor\": \"white\", \"plot_bgcolor\": \"#E5ECF6\", \"polar\": {\"angularaxis\": {\"gridcolor\": \"white\", \"linecolor\": \"white\", \"ticks\": \"\"}, \"bgcolor\": \"#E5ECF6\", \"radialaxis\": {\"gridcolor\": \"white\", \"linecolor\": \"white\", \"ticks\": \"\"}}, \"scene\": {\"xaxis\": {\"backgroundcolor\": \"#E5ECF6\", \"gridcolor\": \"white\", \"gridwidth\": 2, \"linecolor\": \"white\", \"showbackground\": true, \"ticks\": \"\", \"zerolinecolor\": \"white\"}, \"yaxis\": {\"backgroundcolor\": \"#E5ECF6\", \"gridcolor\": \"white\", \"gridwidth\": 2, \"linecolor\": \"white\", \"showbackground\": true, \"ticks\": \"\", \"zerolinecolor\": \"white\"}, \"zaxis\": {\"backgroundcolor\": \"#E5ECF6\", \"gridcolor\": \"white\", \"gridwidth\": 2, \"linecolor\": \"white\", \"showbackground\": true, \"ticks\": \"\", \"zerolinecolor\": \"white\"}}, \"shapedefaults\": {\"line\": {\"color\": \"#2a3f5f\"}}, \"ternary\": {\"aaxis\": {\"gridcolor\": \"white\", \"linecolor\": \"white\", \"ticks\": \"\"}, \"baxis\": {\"gridcolor\": \"white\", \"linecolor\": \"white\", \"ticks\": \"\"}, \"bgcolor\": \"#E5ECF6\", \"caxis\": {\"gridcolor\": \"white\", \"linecolor\": \"white\", \"ticks\": \"\"}}, \"title\": {\"x\": 0.05}, \"xaxis\": {\"automargin\": true, \"gridcolor\": \"white\", \"linecolor\": \"white\", \"ticks\": \"\", \"title\": {\"standoff\": 15}, \"zerolinecolor\": \"white\", \"zerolinewidth\": 2}, \"yaxis\": {\"automargin\": true, \"gridcolor\": \"white\", \"linecolor\": \"white\", \"ticks\": \"\", \"title\": {\"standoff\": 15}, \"zerolinecolor\": \"white\", \"zerolinewidth\": 2}}}, \"title\": {\"text\": \"The Weighted Average of Life Expectancy by UTXO Value\"}, \"xaxis\": {\"anchor\": \"y\", \"domain\": [0.0, 1.0], \"rangeselector\": {\"buttons\": [{\"count\": 1, \"label\": \"1m\", \"step\": \"month\", \"stepmode\": \"backward\"}, {\"count\": 6, \"label\": \"6m\", \"step\": \"month\", \"stepmode\": \"backward\"}, {\"count\": 1, \"label\": \"YTD\", \"step\": \"year\", \"stepmode\": \"todate\"}, {\"count\": 1, \"label\": \"1y\", \"step\": \"year\", \"stepmode\": \"backward\"}, {\"step\": \"all\"}]}, \"rangeslider\": {\"visible\": true}, \"title\": {\"text\": \"date\"}, \"type\": \"date\"}, \"yaxis\": {\"anchor\": \"x\", \"domain\": [0.0, 1.0], \"title\": {\"text\": \"WALE\"}}},\n",
              "                        {\"responsive\": true}\n",
              "                    ).then(function(){\n",
              "                            \n",
              "var gd = document.getElementById('2b998363-67aa-4c73-be11-a74370640221');\n",
              "var x = new MutationObserver(function (mutations, observer) {{\n",
              "        var display = window.getComputedStyle(gd).display;\n",
              "        if (!display || display === 'none') {{\n",
              "            console.log([gd, 'removed!']);\n",
              "            Plotly.purge(gd);\n",
              "            observer.disconnect();\n",
              "        }}\n",
              "}});\n",
              "\n",
              "// Listen for the removal of the full notebook cells\n",
              "var notebookContainer = gd.closest('#notebook-container');\n",
              "if (notebookContainer) {{\n",
              "    x.observe(notebookContainer, {childList: true});\n",
              "}}\n",
              "\n",
              "// Listen for the clearing of the current output cell\n",
              "var outputEl = gd.closest('.output');\n",
              "if (outputEl) {{\n",
              "    x.observe(outputEl, {childList: true});\n",
              "}}\n",
              "\n",
              "                        })\n",
              "                };\n",
              "                \n",
              "            </script>\n",
              "        </div>\n",
              "</body>\n",
              "</html>"
            ]
          },
          "metadata": {
            "tags": []
          }
        }
      ]
    }
  ]
}