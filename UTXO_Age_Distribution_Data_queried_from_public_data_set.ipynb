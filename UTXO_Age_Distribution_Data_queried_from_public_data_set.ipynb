{
  "nbformat": 4,
  "nbformat_minor": 0,
  "metadata": {
    "colab": {
      "name": "UTXO Age Distribution: Data queried from public data set.ipynb",
      "provenance": [],
      "authorship_tag": "ABX9TyOSkVrkpfbTXxoB8KUQWl5/",
      "include_colab_link": true
    },
    "kernelspec": {
      "name": "python3",
      "display_name": "Python 3"
    }
  },
  "cells": [
    {
      "cell_type": "markdown",
      "metadata": {
        "id": "view-in-github",
        "colab_type": "text"
      },
      "source": [
        "<a href=\"https://colab.research.google.com/github/sunshineluyao/UTXO/blob/main/UTXO_Age_Distribution_Data_queried_from_public_data_set.ipynb\" target=\"_parent\"><img src=\"https://colab.research.google.com/assets/colab-badge.svg\" alt=\"Open In Colab\"/></a>"
      ]
    },
    {
      "cell_type": "code",
      "metadata": {
        "id": "HWr5BNHCjzeF"
      },
      "source": [
        "from google.colab import auth\n",
        "auth.authenticate_user()"
      ],
      "execution_count": null,
      "outputs": []
    },
    {
      "cell_type": "code",
      "metadata": {
        "id": "7OPOkDinj1FP",
        "outputId": "b30dff72-6f3d-4230-e649-4aabd19a6c70",
        "colab": {
          "base_uri": "https://localhost:8080/",
          "height": 35
        }
      },
      "source": [
        "from google.cloud import bigquery\n",
        "\n",
        "# https://cloud.google.com/resource-manager/docs/creating-managing-projects\n",
        "project_id = 'crypto-291811'\n",
        "client = bigquery.Client(project=project_id)\n",
        "\n",
        "for dataset in client.list_datasets():\n",
        "  print(dataset.dataset_id)"
      ],
      "execution_count": null,
      "outputs": [
        {
          "output_type": "stream",
          "text": [
            "UTXO\n"
          ],
          "name": "stdout"
        }
      ]
    },
    {
      "cell_type": "code",
      "metadata": {
        "id": "J6uGwScbj9Oy"
      },
      "source": [
        "# TODO(developer): Set table_id to the ID of the destination table.\n",
        "### Refers to \n",
        "#1. result large results:\n",
        "#https://cloud.google.com/bigquery/docs/writing-results\n",
        "#2. Export to dataframe\n",
        "#https://cloud.google.com/bigquery/docs/exporting-data\n",
        "#ARRAY_TO_STRING(addresses,'.') AS addresses\t\n",
        "table_id_inputs = \"crypto-291811.UTXO.inputs\"\n",
        "\n",
        "job_config = bigquery.QueryJobConfig(destination=table_id_inputs)\n",
        "\n",
        "sql = \"\"\"\n",
        "  SELECT \n",
        "    spent_transaction_hash,\n",
        "    spent_output_index,\t\n",
        "    block_timestamp AS spent_block_timestamp,   \n",
        "\n",
        "  FROM `bigquery-public-data.crypto_bitcoin.inputs`\n",
        "\"\"\"\n",
        "\n",
        "# Start the query, passing in the extra configuration.\n",
        "query_job_inputs = client.query(sql, job_config=job_config)  # Make an API request.\n",
        "query_job_inputs.result()  # Wait for the job to complete.\n",
        "\n",
        "\n",
        "print(\"Query results loaded to the table {}\".format(table_id_inputs))"
      ],
      "execution_count": null,
      "outputs": []
    },
    {
      "cell_type": "code",
      "metadata": {
        "id": "dwsYvsflyXVk"
      },
      "source": [
        "# TODO(developer): Set table_id to the ID of the destination table.\n",
        "### Refers to \n",
        "#1. result large results:\n",
        "#https://cloud.google.com/bigquery/docs/writing-results\n",
        "#2. Export to dataframe\n",
        "#https://cloud.google.com/bigquery/docs/exporting-data\n",
        "table_id_outputs = \"crypto-291811.UTXO.outputs\"\n",
        "\n",
        "job_config = bigquery.QueryJobConfig(destination=table_id_outputs)\n",
        "\n",
        "sql = \"\"\"\n",
        "  SELECT \n",
        "    transaction_hash,\n",
        "    block_timestamp,\n",
        "  \tindex,\t\n",
        "    value\n",
        "  FROM `bigquery-public-data.crypto_bitcoin.outputs`\n",
        "\"\"\"\n",
        "\n",
        "# Start the query, passing in the extra configuration.\n",
        "query_job = client.query(sql, job_config=job_config)  # Make an API request.\n",
        "query_job.result()  # Wait for the job to complete.\n",
        "\n",
        "\n",
        "print(\"Query results loaded to the table {}\".format(table_id_outputs))"
      ],
      "execution_count": null,
      "outputs": []
    },
    {
      "cell_type": "code",
      "metadata": {
        "id": "o2T6jpn6KLha",
        "outputId": "217a6326-11be-44a3-d2a8-9b2e91c20cb1",
        "colab": {
          "base_uri": "https://localhost:8080/",
          "height": 35
        }
      },
      "source": [
        "# TODO(developer): Set table_id to the ID of the destination table.\n",
        "### Refers to \n",
        "#1. result large results:\n",
        "#https://cloud.google.com/bigquery/docs/writing-results\n",
        "#2. Export to dataframe\n",
        "#https://cloud.google.com/bigquery/docs/exporting-data\n",
        "\n",
        "table_id_joint = \"crypto-291811.UTXO.joint\"\n",
        "\n",
        "job_config = bigquery.QueryJobConfig(destination=table_id_joint)\n",
        "\n",
        "sql = \"\"\"\n",
        "  SELECT\n",
        "    outputs.value,  \n",
        "    outputs.transaction_hash,\n",
        "    inputs.spent_transaction_hash,\n",
        "    outputs.index,\n",
        "    inputs.spent_output_index,\n",
        "    outputs.block_timestamp,\n",
        "    inputs.spent_block_timestamp,\n",
        "   \n",
        "  FROM `crypto-291811.UTXO.outputs` AS outputs\n",
        "  LEFT JOIN `crypto-291811.UTXO.inputs` AS inputs\n",
        "  ON outputs.transaction_hash=inputs.spent_transaction_hash  AND outputs.index = inputs.spent_output_index\n",
        "  LIMIT 100\n",
        "\n",
        "\"\"\"\n",
        "\n",
        "# Start the query, passing in the extra configuration.\n",
        "query_job = client.query(sql, job_config=job_config)  # Make an API request.\n",
        "query_job.result()  # Wait for the job to complete.\n",
        "\n",
        "\n",
        "print(\"Query results loaded to the table {}\".format(table_id_joint))"
      ],
      "execution_count": null,
      "outputs": [
        {
          "output_type": "stream",
          "text": [
            "Query results loaded to the table crypto-291811.UTXO.joint\n"
          ],
          "name": "stdout"
        }
      ]
    },
    {
      "cell_type": "code",
      "metadata": {
        "id": "mgJDr3fgwr7V"
      },
      "source": [
        "### For interaction with google sheets, refers to \n",
        "#1.Connecting with google Sheets: gsread https://colab.research.google.com/notebooks/snippets/sheets.ipynb#scrollTo=6d0xJz3VzLOo\n",
        "#2.Interacting with google sheets: df2gspread https://towardsdatascience.com/using-python-to-push-your-pandas-dataframe-to-google-sheets-de69422508f\n",
        "#https://stackoverflow.com/questions/45540827/appending-pandas-data-frame-to-google-spreadsheet"
      ],
      "execution_count": null,
      "outputs": []
    },
    {
      "cell_type": "code",
      "metadata": {
        "id": "gf7z49sYFzlA"
      },
      "source": [
        "df_joint = (\n",
        "   query_job.result().to_dataframe()\n",
        ")\n"
      ],
      "execution_count": null,
      "outputs": []
    },
    {
      "cell_type": "code",
      "metadata": {
        "id": "wmWo-W94dAQq",
        "outputId": "040649b1-4ef4-4ddd-d781-7947a1e17e90",
        "colab": {
          "base_uri": "https://localhost:8080/",
          "height": 289
        }
      },
      "source": [
        "df_joint.head()"
      ],
      "execution_count": null,
      "outputs": [
        {
          "output_type": "execute_result",
          "data": {
            "text/html": [
              "<div>\n",
              "<style scoped>\n",
              "    .dataframe tbody tr th:only-of-type {\n",
              "        vertical-align: middle;\n",
              "    }\n",
              "\n",
              "    .dataframe tbody tr th {\n",
              "        vertical-align: top;\n",
              "    }\n",
              "\n",
              "    .dataframe thead th {\n",
              "        text-align: right;\n",
              "    }\n",
              "</style>\n",
              "<table border=\"1\" class=\"dataframe\">\n",
              "  <thead>\n",
              "    <tr style=\"text-align: right;\">\n",
              "      <th></th>\n",
              "      <th>value</th>\n",
              "      <th>transaction_hash</th>\n",
              "      <th>spent_transaction_hash</th>\n",
              "      <th>index</th>\n",
              "      <th>spent_output_index</th>\n",
              "      <th>block_timestamp</th>\n",
              "      <th>spent_block_timestamp</th>\n",
              "    </tr>\n",
              "  </thead>\n",
              "  <tbody>\n",
              "    <tr>\n",
              "      <th>0</th>\n",
              "      <td>546</td>\n",
              "      <td>15293857e8ef9c383528bbd89cecad0ff9fc7e678de00b...</td>\n",
              "      <td>None</td>\n",
              "      <td>2</td>\n",
              "      <td>NaN</td>\n",
              "      <td>2019-07-30 08:35:34+00:00</td>\n",
              "      <td>NaT</td>\n",
              "    </tr>\n",
              "    <tr>\n",
              "      <th>1</th>\n",
              "      <td>37176</td>\n",
              "      <td>3d495d96794e03c3c46c9dade2210175c0835508fc94e7...</td>\n",
              "      <td>None</td>\n",
              "      <td>18</td>\n",
              "      <td>NaN</td>\n",
              "      <td>2020-09-05 12:24:48+00:00</td>\n",
              "      <td>NaT</td>\n",
              "    </tr>\n",
              "    <tr>\n",
              "      <th>2</th>\n",
              "      <td>0</td>\n",
              "      <td>457c80ccaed442db2313fb394d8c6684a991e77f924d78...</td>\n",
              "      <td>None</td>\n",
              "      <td>2</td>\n",
              "      <td>NaN</td>\n",
              "      <td>2019-05-01 08:36:26+00:00</td>\n",
              "      <td>NaT</td>\n",
              "    </tr>\n",
              "    <tr>\n",
              "      <th>3</th>\n",
              "      <td>2081670</td>\n",
              "      <td>6469c0c63c37e8635d77a6dd056c3ab9edf24afe5d80da...</td>\n",
              "      <td>6469c0c63c37e8635d77a6dd056c3ab9edf24afe5d80da...</td>\n",
              "      <td>0</td>\n",
              "      <td>0.0</td>\n",
              "      <td>2014-05-25 18:53:50+00:00</td>\n",
              "      <td>2014-05-26 12:51:47+00:00</td>\n",
              "    </tr>\n",
              "    <tr>\n",
              "      <th>4</th>\n",
              "      <td>2410000</td>\n",
              "      <td>ec971f4753523e0ee5d0c65090e2bc96c3c68b4ad96a97...</td>\n",
              "      <td>ec971f4753523e0ee5d0c65090e2bc96c3c68b4ad96a97...</td>\n",
              "      <td>0</td>\n",
              "      <td>0.0</td>\n",
              "      <td>2017-05-27 17:23:06+00:00</td>\n",
              "      <td>2017-05-27 17:38:21+00:00</td>\n",
              "    </tr>\n",
              "  </tbody>\n",
              "</table>\n",
              "</div>"
            ],
            "text/plain": [
              "     value  ...     spent_block_timestamp\n",
              "0      546  ...                       NaT\n",
              "1    37176  ...                       NaT\n",
              "2        0  ...                       NaT\n",
              "3  2081670  ... 2014-05-26 12:51:47+00:00\n",
              "4  2410000  ... 2017-05-27 17:38:21+00:00\n",
              "\n",
              "[5 rows x 7 columns]"
            ]
          },
          "metadata": {
            "tags": []
          },
          "execution_count": 20
        }
      ]
    },
    {
      "cell_type": "code",
      "metadata": {
        "id": "GkEJALKAnjVH"
      },
      "source": [
        ""
      ],
      "execution_count": null,
      "outputs": []
    }
  ]
}