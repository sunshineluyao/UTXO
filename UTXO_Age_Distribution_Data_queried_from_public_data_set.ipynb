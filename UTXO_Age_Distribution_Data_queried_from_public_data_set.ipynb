{
  "nbformat": 4,
  "nbformat_minor": 0,
  "metadata": {
    "colab": {
      "name": "UTXO Age Distribution: Data queried from public data set.ipynb",
      "provenance": [],
      "authorship_tag": "ABX9TyOjb05oTAkvPGBsWasNMSHg",
      "include_colab_link": true
    },
    "kernelspec": {
      "name": "python3",
      "display_name": "Python 3"
    },
    "accelerator": "GPU"
  },
  "cells": [
    {
      "cell_type": "markdown",
      "metadata": {
        "id": "view-in-github",
        "colab_type": "text"
      },
      "source": [
        "<a href=\"https://colab.research.google.com/github/sunshineluyao/UTXO/blob/main/UTXO_Age_Distribution_Data_queried_from_public_data_set.ipynb\" target=\"_parent\"><img src=\"https://colab.research.google.com/assets/colab-badge.svg\" alt=\"Open In Colab\"/></a>"
      ]
    },
    {
      "cell_type": "code",
      "metadata": {
        "id": "HWr5BNHCjzeF"
      },
      "source": [
        "from google.colab import auth\n",
        "auth.authenticate_user()"
      ],
      "execution_count": null,
      "outputs": []
    },
    {
      "cell_type": "code",
      "metadata": {
        "id": "7OPOkDinj1FP"
      },
      "source": [
        "from google.cloud import bigquery\n",
        "\n",
        "# https://cloud.google.com/resource-manager/docs/creating-managing-projects\n",
        "project_id = 'crypto-291811'\n",
        "client = bigquery.Client(project=project_id)\n",
        "\n",
        "for dataset in client.list_datasets():\n",
        "  print(dataset.dataset_id)"
      ],
      "execution_count": null,
      "outputs": []
    },
    {
      "cell_type": "code",
      "metadata": {
        "id": "J6uGwScbj9Oy"
      },
      "source": [
        "# TODO(developer): Set table_id to the ID of the destination table.\n",
        "### Refers to \n",
        "#1. result large results:\n",
        "#https://cloud.google.com/bigquery/docs/writing-results\n",
        "#2. Export to dataframe\n",
        "#https://cloud.google.com/bigquery/docs/exporting-data\n",
        "table_id_inputs = \"crypto-291811.UTXO.inputs\"\n",
        "\n",
        "job_config = bigquery.QueryJobConfig(destination=table_id_inputs)\n",
        "\n",
        "sql = \"\"\"\n",
        "  SELECT \n",
        "    spent_transaction_hash,\n",
        "    block_timestamp,\n",
        "    addresses\t\n",
        "\n",
        "  FROM `bigquery-public-data.crypto_bitcoin.inputs`\n",
        "\"\"\"\n",
        "\n",
        "# Start the query, passing in the extra configuration.\n",
        "query_job_inputs = client.query(sql, job_config=job_config)  # Make an API request.\n",
        "query_job_inputs.result()  # Wait for the job to complete.\n",
        "\n",
        "\n",
        "print(\"Query results loaded to the table {}\".format(table_id_inputs))"
      ],
      "execution_count": null,
      "outputs": []
    },
    {
      "cell_type": "code",
      "metadata": {
        "id": "qf5HS_m-koz4"
      },
      "source": [
        "##inputs = (\n",
        "##    query_job.result().to_dataframe()\n",
        "##)\n",
        "##inputs.head()"
      ],
      "execution_count": null,
      "outputs": []
    },
    {
      "cell_type": "code",
      "metadata": {
        "id": "dwsYvsflyXVk"
      },
      "source": [
        "# TODO(developer): Set table_id to the ID of the destination table.\n",
        "### Refers to \n",
        "#1. result large results:\n",
        "#https://cloud.google.com/bigquery/docs/writing-results\n",
        "#2. Export to dataframe\n",
        "#https://cloud.google.com/bigquery/docs/exporting-data\n",
        "table_id_outputs = \"crypto-291811.UTXO.outputs\"\n",
        "\n",
        "job_config = bigquery.QueryJobConfig(destination=table_id_outputs)\n",
        "\n",
        "sql = \"\"\"\n",
        "  SELECT \n",
        "    transaction_hash,\n",
        "    block_timestamp,\n",
        "    addresses,\n",
        "    value\n",
        "\n",
        "  FROM `bigquery-public-data.crypto_bitcoin.outputs`\n",
        "\"\"\"\n",
        "\n",
        "# Start the query, passing in the extra configuration.\n",
        "query_job = client.query(sql, job_config=job_config)  # Make an API request.\n",
        "query_job.result()  # Wait for the job to complete.\n",
        "\n",
        "\n",
        "print(\"Query results loaded to the table {}\".format(table_id_outputs))"
      ],
      "execution_count": null,
      "outputs": []
    },
    {
      "cell_type": "code",
      "metadata": {
        "id": "mgJDr3fgwr7V"
      },
      "source": [
        "### For interaction with google sheets, refers to \n",
        "#1.Connecting with google Sheets: gsread https://colab.research.google.com/notebooks/snippets/sheets.ipynb#scrollTo=6d0xJz3VzLOo\n",
        "#2.Interacting with google sheets: df2gspread https://readthedocs.org/projects/df2gspread/downloads/pdf/latest/"
      ],
      "execution_count": null,
      "outputs": []
    },
    {
      "cell_type": "code",
      "metadata": {
        "id": "xOohcwp-pVej"
      },
      "source": [
        ""
      ],
      "execution_count": null,
      "outputs": []
    }
  ]
}