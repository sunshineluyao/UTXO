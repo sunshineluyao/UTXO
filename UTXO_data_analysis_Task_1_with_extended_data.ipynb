{
  "nbformat": 4,
  "nbformat_minor": 0,
  "metadata": {
    "colab": {
      "name": "UTXO_data_analysis Task 1 with extended data.ipynb",
      "provenance": [],
      "toc_visible": true,
      "include_colab_link": true
    },
    "kernelspec": {
      "name": "python3",
      "display_name": "Python 3"
    }
  },
  "cells": [
    {
      "cell_type": "markdown",
      "metadata": {
        "id": "view-in-github",
        "colab_type": "text"
      },
      "source": [
        "<a href=\"https://colab.research.google.com/github/sunshineluyao/UTXO/blob/main/UTXO_data_analysis_Task_1_with_extended_data.ipynb\" target=\"_parent\"><img src=\"https://colab.research.google.com/assets/colab-badge.svg\" alt=\"Open In Colab\"/></a>"
      ]
    },
    {
      "cell_type": "code",
      "metadata": {
        "id": "zqn9yQVGu2u4"
      },
      "source": [
        "import numpy as np\n",
        "import pandas as pd\n",
        "import datetime"
      ],
      "execution_count": null,
      "outputs": []
    },
    {
      "cell_type": "code",
      "metadata": {
        "id": "2upfr_zZxtUw",
        "outputId": "59c7dbea-4d4b-4b03-bc4c-efd3ca1fbb4f",
        "colab": {
          "base_uri": "https://localhost:8080/"
        }
      },
      "source": [
        "!pip install chart_studio"
      ],
      "execution_count": null,
      "outputs": [
        {
          "output_type": "stream",
          "text": [
            "Collecting chart_studio\n",
            "\u001b[?25l  Downloading https://files.pythonhosted.org/packages/ca/ce/330794a6b6ca4b9182c38fc69dd2a9cbff60fd49421cb8648ee5fee352dc/chart_studio-1.1.0-py3-none-any.whl (64kB)\n",
            "\r\u001b[K     |█████                           | 10kB 14.4MB/s eta 0:00:01\r\u001b[K     |██████████▏                     | 20kB 14.7MB/s eta 0:00:01\r\u001b[K     |███████████████▎                | 30kB 7.7MB/s eta 0:00:01\r\u001b[K     |████████████████████▍           | 40kB 3.1MB/s eta 0:00:01\r\u001b[K     |█████████████████████████▍      | 51kB 3.8MB/s eta 0:00:01\r\u001b[K     |██████████████████████████████▌ | 61kB 4.3MB/s eta 0:00:01\r\u001b[K     |████████████████████████████████| 71kB 3.1MB/s \n",
            "\u001b[?25hRequirement already satisfied: six in /usr/local/lib/python3.6/dist-packages (from chart_studio) (1.15.0)\n",
            "Requirement already satisfied: requests in /usr/local/lib/python3.6/dist-packages (from chart_studio) (2.23.0)\n",
            "Requirement already satisfied: plotly in /usr/local/lib/python3.6/dist-packages (from chart_studio) (4.4.1)\n",
            "Requirement already satisfied: retrying>=1.3.3 in /usr/local/lib/python3.6/dist-packages (from chart_studio) (1.3.3)\n",
            "Requirement already satisfied: certifi>=2017.4.17 in /usr/local/lib/python3.6/dist-packages (from requests->chart_studio) (2020.6.20)\n",
            "Requirement already satisfied: chardet<4,>=3.0.2 in /usr/local/lib/python3.6/dist-packages (from requests->chart_studio) (3.0.4)\n",
            "Requirement already satisfied: urllib3!=1.25.0,!=1.25.1,<1.26,>=1.21.1 in /usr/local/lib/python3.6/dist-packages (from requests->chart_studio) (1.24.3)\n",
            "Requirement already satisfied: idna<3,>=2.5 in /usr/local/lib/python3.6/dist-packages (from requests->chart_studio) (2.10)\n",
            "Installing collected packages: chart-studio\n",
            "Successfully installed chart-studio-1.1.0\n"
          ],
          "name": "stdout"
        }
      ]
    },
    {
      "cell_type": "markdown",
      "metadata": {
        "id": "VsvjiDmHvEDp"
      },
      "source": [
        "## Import Data from Google Drive and Data Wrangling"
      ]
    },
    {
      "cell_type": "code",
      "metadata": {
        "id": "-0pbOPfSvAPi",
        "outputId": "d56ae5bd-540c-4f34-ff7b-5fb8cd3bc89f",
        "colab": {
          "base_uri": "https://localhost:8080/"
        }
      },
      "source": [
        "# Importing drive method from colab for accessing google drive\n",
        "from google.colab import drive\n",
        "\n",
        "# Mounting drive\n",
        "drive.mount('/content/drive')"
      ],
      "execution_count": null,
      "outputs": [
        {
          "output_type": "stream",
          "text": [
            "Drive already mounted at /content/drive; to attempt to forcibly remount, call drive.mount(\"/content/drive\", force_remount=True).\n"
          ],
          "name": "stdout"
        }
      ]
    },
    {
      "cell_type": "code",
      "metadata": {
        "id": "Tdbbzug3vk9X",
        "outputId": "e33a0eb8-a38b-48d9-e514-68c50127bbd6",
        "colab": {
          "base_uri": "https://localhost:8080/"
        }
      },
      "source": [
        "import numpy as np\n",
        "import pandas as pd\n",
        "df_2010=pd.read_csv('/content/drive/My Drive/joint_2010.csv')\n",
        "df_2010.head()"
      ],
      "execution_count": null,
      "outputs": [
        {
          "output_type": "execute_result",
          "data": {
            "text/html": [
              "<div>\n",
              "<style scoped>\n",
              "    .dataframe tbody tr th:only-of-type {\n",
              "        vertical-align: middle;\n",
              "    }\n",
              "\n",
              "    .dataframe tbody tr th {\n",
              "        vertical-align: top;\n",
              "    }\n",
              "\n",
              "    .dataframe thead th {\n",
              "        text-align: right;\n",
              "    }\n",
              "</style>\n",
              "<table border=\"1\" class=\"dataframe\">\n",
              "  <thead>\n",
              "    <tr style=\"text-align: right;\">\n",
              "      <th></th>\n",
              "      <th>num</th>\n",
              "      <th>value</th>\n",
              "      <th>block_date</th>\n",
              "      <th>spent_block_date</th>\n",
              "    </tr>\n",
              "  </thead>\n",
              "  <tbody>\n",
              "    <tr>\n",
              "      <th>0</th>\n",
              "      <td>21553</td>\n",
              "      <td>5.000000e+09</td>\n",
              "      <td>1/9/2009</td>\n",
              "      <td>1/12/2009</td>\n",
              "    </tr>\n",
              "    <tr>\n",
              "      <th>1</th>\n",
              "      <td>1</td>\n",
              "      <td>5.000000e+09</td>\n",
              "      <td>1/9/2009</td>\n",
              "      <td>NaN</td>\n",
              "    </tr>\n",
              "    <tr>\n",
              "      <th>2</th>\n",
              "      <td>2</td>\n",
              "      <td>5.000000e+09</td>\n",
              "      <td>1/9/2009</td>\n",
              "      <td>NaN</td>\n",
              "    </tr>\n",
              "    <tr>\n",
              "      <th>3</th>\n",
              "      <td>3</td>\n",
              "      <td>5.000000e+09</td>\n",
              "      <td>1/9/2009</td>\n",
              "      <td>NaN</td>\n",
              "    </tr>\n",
              "    <tr>\n",
              "      <th>4</th>\n",
              "      <td>4</td>\n",
              "      <td>5.000000e+09</td>\n",
              "      <td>1/9/2009</td>\n",
              "      <td>NaN</td>\n",
              "    </tr>\n",
              "  </tbody>\n",
              "</table>\n",
              "</div>"
            ],
            "text/plain": [
              "     num         value block_date spent_block_date\n",
              "0  21553  5.000000e+09   1/9/2009        1/12/2009\n",
              "1      1  5.000000e+09   1/9/2009              NaN\n",
              "2      2  5.000000e+09   1/9/2009              NaN\n",
              "3      3  5.000000e+09   1/9/2009              NaN\n",
              "4      4  5.000000e+09   1/9/2009              NaN"
            ]
          },
          "metadata": {
            "tags": []
          },
          "execution_count": 93
        }
      ]
    },
    {
      "cell_type": "code",
      "metadata": {
        "id": "RBpeltcPe9jY",
        "outputId": "698df9a1-68ff-495d-f41e-bdfe142ddd74",
        "colab": {
          "base_uri": "https://localhost:8080/"
        }
      },
      "source": [
        "df_2011=pd.read_csv('/content/drive/My Drive/joint_2011.csv')\n",
        "df_2011.tail()"
      ],
      "execution_count": null,
      "outputs": [
        {
          "output_type": "execute_result",
          "data": {
            "text/html": [
              "<div>\n",
              "<style scoped>\n",
              "    .dataframe tbody tr th:only-of-type {\n",
              "        vertical-align: middle;\n",
              "    }\n",
              "\n",
              "    .dataframe tbody tr th {\n",
              "        vertical-align: top;\n",
              "    }\n",
              "\n",
              "    .dataframe thead th {\n",
              "        text-align: right;\n",
              "    }\n",
              "</style>\n",
              "<table border=\"1\" class=\"dataframe\">\n",
              "  <thead>\n",
              "    <tr style=\"text-align: right;\">\n",
              "      <th></th>\n",
              "      <th>num</th>\n",
              "      <th>value</th>\n",
              "      <th>block_date</th>\n",
              "      <th>spent_block_date</th>\n",
              "    </tr>\n",
              "  </thead>\n",
              "  <tbody>\n",
              "    <tr>\n",
              "      <th>1048570</th>\n",
              "      <td>415429</td>\n",
              "      <td>8.496683e+06</td>\n",
              "      <td>8/6/2011</td>\n",
              "      <td>8/8/2011</td>\n",
              "    </tr>\n",
              "    <tr>\n",
              "      <th>1048571</th>\n",
              "      <td>415965</td>\n",
              "      <td>1.200000e+08</td>\n",
              "      <td>8/6/2011</td>\n",
              "      <td>8/8/2011</td>\n",
              "    </tr>\n",
              "    <tr>\n",
              "      <th>1048572</th>\n",
              "      <td>416087</td>\n",
              "      <td>1.700000e+07</td>\n",
              "      <td>8/6/2011</td>\n",
              "      <td>8/8/2011</td>\n",
              "    </tr>\n",
              "    <tr>\n",
              "      <th>1048573</th>\n",
              "      <td>416508</td>\n",
              "      <td>5.884410e+07</td>\n",
              "      <td>8/6/2011</td>\n",
              "      <td>8/8/2011</td>\n",
              "    </tr>\n",
              "    <tr>\n",
              "      <th>1048574</th>\n",
              "      <td>420271</td>\n",
              "      <td>1.222000e+09</td>\n",
              "      <td>8/6/2011</td>\n",
              "      <td>8/8/2011</td>\n",
              "    </tr>\n",
              "  </tbody>\n",
              "</table>\n",
              "</div>"
            ],
            "text/plain": [
              "            num         value block_date spent_block_date\n",
              "1048570  415429  8.496683e+06   8/6/2011         8/8/2011\n",
              "1048571  415965  1.200000e+08   8/6/2011         8/8/2011\n",
              "1048572  416087  1.700000e+07   8/6/2011         8/8/2011\n",
              "1048573  416508  5.884410e+07   8/6/2011         8/8/2011\n",
              "1048574  420271  1.222000e+09   8/6/2011         8/8/2011"
            ]
          },
          "metadata": {
            "tags": []
          },
          "execution_count": 94
        }
      ]
    },
    {
      "cell_type": "code",
      "metadata": {
        "id": "NVPSnrUge-CB",
        "outputId": "58f321e1-1b30-4e59-9e1f-91f3b31312a5",
        "colab": {
          "base_uri": "https://localhost:8080/"
        }
      },
      "source": [
        "merge = [df_2010, df_2011]\n",
        "df = pd.concat(merge)\n",
        "df.head()"
      ],
      "execution_count": null,
      "outputs": [
        {
          "output_type": "execute_result",
          "data": {
            "text/html": [
              "<div>\n",
              "<style scoped>\n",
              "    .dataframe tbody tr th:only-of-type {\n",
              "        vertical-align: middle;\n",
              "    }\n",
              "\n",
              "    .dataframe tbody tr th {\n",
              "        vertical-align: top;\n",
              "    }\n",
              "\n",
              "    .dataframe thead th {\n",
              "        text-align: right;\n",
              "    }\n",
              "</style>\n",
              "<table border=\"1\" class=\"dataframe\">\n",
              "  <thead>\n",
              "    <tr style=\"text-align: right;\">\n",
              "      <th></th>\n",
              "      <th>num</th>\n",
              "      <th>value</th>\n",
              "      <th>block_date</th>\n",
              "      <th>spent_block_date</th>\n",
              "    </tr>\n",
              "  </thead>\n",
              "  <tbody>\n",
              "    <tr>\n",
              "      <th>0</th>\n",
              "      <td>21553</td>\n",
              "      <td>5.000000e+09</td>\n",
              "      <td>1/9/2009</td>\n",
              "      <td>1/12/2009</td>\n",
              "    </tr>\n",
              "    <tr>\n",
              "      <th>1</th>\n",
              "      <td>1</td>\n",
              "      <td>5.000000e+09</td>\n",
              "      <td>1/9/2009</td>\n",
              "      <td>NaN</td>\n",
              "    </tr>\n",
              "    <tr>\n",
              "      <th>2</th>\n",
              "      <td>2</td>\n",
              "      <td>5.000000e+09</td>\n",
              "      <td>1/9/2009</td>\n",
              "      <td>NaN</td>\n",
              "    </tr>\n",
              "    <tr>\n",
              "      <th>3</th>\n",
              "      <td>3</td>\n",
              "      <td>5.000000e+09</td>\n",
              "      <td>1/9/2009</td>\n",
              "      <td>NaN</td>\n",
              "    </tr>\n",
              "    <tr>\n",
              "      <th>4</th>\n",
              "      <td>4</td>\n",
              "      <td>5.000000e+09</td>\n",
              "      <td>1/9/2009</td>\n",
              "      <td>NaN</td>\n",
              "    </tr>\n",
              "  </tbody>\n",
              "</table>\n",
              "</div>"
            ],
            "text/plain": [
              "     num         value block_date spent_block_date\n",
              "0  21553  5.000000e+09   1/9/2009        1/12/2009\n",
              "1      1  5.000000e+09   1/9/2009              NaN\n",
              "2      2  5.000000e+09   1/9/2009              NaN\n",
              "3      3  5.000000e+09   1/9/2009              NaN\n",
              "4      4  5.000000e+09   1/9/2009              NaN"
            ]
          },
          "metadata": {
            "tags": []
          },
          "execution_count": 95
        }
      ]
    },
    {
      "cell_type": "code",
      "metadata": {
        "id": "rZ2LTDutvGD5",
        "outputId": "f52b1e0e-cd5f-4a66-e675-193270ad48ce",
        "colab": {
          "base_uri": "https://localhost:8080/"
        }
      },
      "source": [
        "# Generate the UTXO value in bitcoin unit, which = $value/10^{8}$\n",
        "df['UTXO'] = df['value']*10**(-8)\n",
        "df = df.reset_index()\n",
        "df = df.drop(['value','index','num'], axis = 1)\n",
        "df.tail()"
      ],
      "execution_count": null,
      "outputs": [
        {
          "output_type": "execute_result",
          "data": {
            "text/html": [
              "<div>\n",
              "<style scoped>\n",
              "    .dataframe tbody tr th:only-of-type {\n",
              "        vertical-align: middle;\n",
              "    }\n",
              "\n",
              "    .dataframe tbody tr th {\n",
              "        vertical-align: top;\n",
              "    }\n",
              "\n",
              "    .dataframe thead th {\n",
              "        text-align: right;\n",
              "    }\n",
              "</style>\n",
              "<table border=\"1\" class=\"dataframe\">\n",
              "  <thead>\n",
              "    <tr style=\"text-align: right;\">\n",
              "      <th></th>\n",
              "      <th>block_date</th>\n",
              "      <th>spent_block_date</th>\n",
              "      <th>UTXO</th>\n",
              "    </tr>\n",
              "  </thead>\n",
              "  <tbody>\n",
              "    <tr>\n",
              "      <th>1186094</th>\n",
              "      <td>8/6/2011</td>\n",
              "      <td>8/8/2011</td>\n",
              "      <td>0.084967</td>\n",
              "    </tr>\n",
              "    <tr>\n",
              "      <th>1186095</th>\n",
              "      <td>8/6/2011</td>\n",
              "      <td>8/8/2011</td>\n",
              "      <td>1.200000</td>\n",
              "    </tr>\n",
              "    <tr>\n",
              "      <th>1186096</th>\n",
              "      <td>8/6/2011</td>\n",
              "      <td>8/8/2011</td>\n",
              "      <td>0.170000</td>\n",
              "    </tr>\n",
              "    <tr>\n",
              "      <th>1186097</th>\n",
              "      <td>8/6/2011</td>\n",
              "      <td>8/8/2011</td>\n",
              "      <td>0.588441</td>\n",
              "    </tr>\n",
              "    <tr>\n",
              "      <th>1186098</th>\n",
              "      <td>8/6/2011</td>\n",
              "      <td>8/8/2011</td>\n",
              "      <td>12.220000</td>\n",
              "    </tr>\n",
              "  </tbody>\n",
              "</table>\n",
              "</div>"
            ],
            "text/plain": [
              "        block_date spent_block_date       UTXO\n",
              "1186094   8/6/2011         8/8/2011   0.084967\n",
              "1186095   8/6/2011         8/8/2011   1.200000\n",
              "1186096   8/6/2011         8/8/2011   0.170000\n",
              "1186097   8/6/2011         8/8/2011   0.588441\n",
              "1186098   8/6/2011         8/8/2011  12.220000"
            ]
          },
          "metadata": {
            "tags": []
          },
          "execution_count": 96
        }
      ]
    },
    {
      "cell_type": "code",
      "metadata": {
        "id": "CdlyR4oBwPXq",
        "outputId": "b15d2714-10b9-406e-c1be-eb3a5d8efb58",
        "colab": {
          "base_uri": "https://localhost:8080/"
        }
      },
      "source": [
        "# Change the block_date and spent_block_date to datatime object\n",
        "df['block_date'] = pd.to_datetime(df['block_date'], format='%m/%d/%Y')\n",
        "df['spent_block_date'] = pd.to_datetime(df['spent_block_date'], format='%m/%d/%Y')\n",
        "df.info()"
      ],
      "execution_count": null,
      "outputs": [
        {
          "output_type": "stream",
          "text": [
            "<class 'pandas.core.frame.DataFrame'>\n",
            "RangeIndex: 1186099 entries, 0 to 1186098\n",
            "Data columns (total 3 columns):\n",
            " #   Column            Non-Null Count    Dtype         \n",
            "---  ------            --------------    -----         \n",
            " 0   block_date        1186099 non-null  datetime64[ns]\n",
            " 1   spent_block_date  1164547 non-null  datetime64[ns]\n",
            " 2   UTXO              1186099 non-null  float64       \n",
            "dtypes: datetime64[ns](2), float64(1)\n",
            "memory usage: 27.1 MB\n"
          ],
          "name": "stdout"
        }
      ]
    },
    {
      "cell_type": "markdown",
      "metadata": {
        "id": "G-7Ki2xFxIBQ"
      },
      "source": [
        "# Task 1: Calculate Daily UTXO\n"
      ]
    },
    {
      "cell_type": "markdown",
      "metadata": {
        "id": "PhjNViT3b2Am"
      },
      "source": [
        " For each date, calculate the total UTXO generated on that date"
      ]
    },
    {
      "cell_type": "code",
      "metadata": {
        "id": "yaAoaJVLVfJH",
        "outputId": "da765edd-05ec-4426-e212-7f73ebc5f79d",
        "colab": {
          "base_uri": "https://localhost:8080/",
          "height": 195
        }
      },
      "source": [
        "#sort the data by blockdate\n",
        "df = df.sort_values(by = 'block_date')\n",
        "df.reset_index(drop = True, inplace = True)\n",
        "df.tail()"
      ],
      "execution_count": null,
      "outputs": [
        {
          "output_type": "execute_result",
          "data": {
            "text/html": [
              "<div>\n",
              "<style scoped>\n",
              "    .dataframe tbody tr th:only-of-type {\n",
              "        vertical-align: middle;\n",
              "    }\n",
              "\n",
              "    .dataframe tbody tr th {\n",
              "        vertical-align: top;\n",
              "    }\n",
              "\n",
              "    .dataframe thead th {\n",
              "        text-align: right;\n",
              "    }\n",
              "</style>\n",
              "<table border=\"1\" class=\"dataframe\">\n",
              "  <thead>\n",
              "    <tr style=\"text-align: right;\">\n",
              "      <th></th>\n",
              "      <th>block_date</th>\n",
              "      <th>spent_block_date</th>\n",
              "      <th>UTXO</th>\n",
              "    </tr>\n",
              "  </thead>\n",
              "  <tbody>\n",
              "    <tr>\n",
              "      <th>1186094</th>\n",
              "      <td>2011-08-06</td>\n",
              "      <td>2011-08-07</td>\n",
              "      <td>137.097721</td>\n",
              "    </tr>\n",
              "    <tr>\n",
              "      <th>1186095</th>\n",
              "      <td>2011-08-06</td>\n",
              "      <td>2011-08-07</td>\n",
              "      <td>0.029247</td>\n",
              "    </tr>\n",
              "    <tr>\n",
              "      <th>1186096</th>\n",
              "      <td>2011-08-06</td>\n",
              "      <td>2011-08-07</td>\n",
              "      <td>0.530000</td>\n",
              "    </tr>\n",
              "    <tr>\n",
              "      <th>1186097</th>\n",
              "      <td>2011-08-06</td>\n",
              "      <td>2011-08-07</td>\n",
              "      <td>0.091483</td>\n",
              "    </tr>\n",
              "    <tr>\n",
              "      <th>1186098</th>\n",
              "      <td>2011-08-06</td>\n",
              "      <td>2011-08-08</td>\n",
              "      <td>12.220000</td>\n",
              "    </tr>\n",
              "  </tbody>\n",
              "</table>\n",
              "</div>"
            ],
            "text/plain": [
              "        block_date spent_block_date        UTXO\n",
              "1186094 2011-08-06       2011-08-07  137.097721\n",
              "1186095 2011-08-06       2011-08-07    0.029247\n",
              "1186096 2011-08-06       2011-08-07    0.530000\n",
              "1186097 2011-08-06       2011-08-07    0.091483\n",
              "1186098 2011-08-06       2011-08-08   12.220000"
            ]
          },
          "metadata": {
            "tags": []
          },
          "execution_count": 98
        }
      ]
    },
    {
      "cell_type": "code",
      "metadata": {
        "id": "Ody5Hy8LdHXu",
        "outputId": "5ee0c86f-7a6d-4402-bed4-7d3de024817f",
        "colab": {
          "base_uri": "https://localhost:8080/",
          "height": 195
        }
      },
      "source": [
        "### use reset_index() to keep the grouping variable as a column\n",
        "df_newborn = df.groupby(df['block_date']).sum()['UTXO'].reset_index()\n",
        "df_newborn.rename(columns={\"UTXO\": \"UTXO_newborn\"}, inplace=True)\n",
        "df_newborn.tail()"
      ],
      "execution_count": null,
      "outputs": [
        {
          "output_type": "execute_result",
          "data": {
            "text/html": [
              "<div>\n",
              "<style scoped>\n",
              "    .dataframe tbody tr th:only-of-type {\n",
              "        vertical-align: middle;\n",
              "    }\n",
              "\n",
              "    .dataframe tbody tr th {\n",
              "        vertical-align: top;\n",
              "    }\n",
              "\n",
              "    .dataframe thead th {\n",
              "        text-align: right;\n",
              "    }\n",
              "</style>\n",
              "<table border=\"1\" class=\"dataframe\">\n",
              "  <thead>\n",
              "    <tr style=\"text-align: right;\">\n",
              "      <th></th>\n",
              "      <th>block_date</th>\n",
              "      <th>UTXO_newborn</th>\n",
              "    </tr>\n",
              "  </thead>\n",
              "  <tbody>\n",
              "    <tr>\n",
              "      <th>935</th>\n",
              "      <td>2011-08-02</td>\n",
              "      <td>85296.723708</td>\n",
              "    </tr>\n",
              "    <tr>\n",
              "      <th>936</th>\n",
              "      <td>2011-08-03</td>\n",
              "      <td>113896.630558</td>\n",
              "    </tr>\n",
              "    <tr>\n",
              "      <th>937</th>\n",
              "      <td>2011-08-04</td>\n",
              "      <td>88667.639105</td>\n",
              "    </tr>\n",
              "    <tr>\n",
              "      <th>938</th>\n",
              "      <td>2011-08-05</td>\n",
              "      <td>147648.110740</td>\n",
              "    </tr>\n",
              "    <tr>\n",
              "      <th>939</th>\n",
              "      <td>2011-08-06</td>\n",
              "      <td>77115.643571</td>\n",
              "    </tr>\n",
              "  </tbody>\n",
              "</table>\n",
              "</div>"
            ],
            "text/plain": [
              "    block_date   UTXO_newborn\n",
              "935 2011-08-02   85296.723708\n",
              "936 2011-08-03  113896.630558\n",
              "937 2011-08-04   88667.639105\n",
              "938 2011-08-05  147648.110740\n",
              "939 2011-08-06   77115.643571"
            ]
          },
          "metadata": {
            "tags": []
          },
          "execution_count": 99
        }
      ]
    },
    {
      "cell_type": "code",
      "metadata": {
        "id": "fgy-tME9nNfI"
      },
      "source": [
        "df_newborn.to_csv('/content/drive/My Drive/df_newborn.csv')"
      ],
      "execution_count": null,
      "outputs": []
    },
    {
      "cell_type": "markdown",
      "metadata": {
        "id": "hY06UELVeReg"
      },
      "source": [
        " For each date, calculate the total UTXO spent on that date"
      ]
    },
    {
      "cell_type": "code",
      "metadata": {
        "id": "4wL7UeX4eQkl",
        "outputId": "6000459a-68ab-4734-d52b-204ca8334cd8",
        "colab": {
          "base_uri": "https://localhost:8080/",
          "height": 195
        }
      },
      "source": [
        "#sort the data by spent_block_date\n",
        "df = df.sort_values(by = 'spent_block_date')\n",
        "df.reset_index(drop = True, inplace = True)\n",
        "df.head()"
      ],
      "execution_count": null,
      "outputs": [
        {
          "output_type": "execute_result",
          "data": {
            "text/html": [
              "<div>\n",
              "<style scoped>\n",
              "    .dataframe tbody tr th:only-of-type {\n",
              "        vertical-align: middle;\n",
              "    }\n",
              "\n",
              "    .dataframe tbody tr th {\n",
              "        vertical-align: top;\n",
              "    }\n",
              "\n",
              "    .dataframe thead th {\n",
              "        text-align: right;\n",
              "    }\n",
              "</style>\n",
              "<table border=\"1\" class=\"dataframe\">\n",
              "  <thead>\n",
              "    <tr style=\"text-align: right;\">\n",
              "      <th></th>\n",
              "      <th>block_date</th>\n",
              "      <th>spent_block_date</th>\n",
              "      <th>UTXO</th>\n",
              "    </tr>\n",
              "  </thead>\n",
              "  <tbody>\n",
              "    <tr>\n",
              "      <th>0</th>\n",
              "      <td>2009-01-09</td>\n",
              "      <td>2009-01-12</td>\n",
              "      <td>50.0</td>\n",
              "    </tr>\n",
              "    <tr>\n",
              "      <th>1</th>\n",
              "      <td>2009-01-12</td>\n",
              "      <td>2009-01-12</td>\n",
              "      <td>29.0</td>\n",
              "    </tr>\n",
              "    <tr>\n",
              "      <th>2</th>\n",
              "      <td>2009-01-12</td>\n",
              "      <td>2009-01-12</td>\n",
              "      <td>1.0</td>\n",
              "    </tr>\n",
              "    <tr>\n",
              "      <th>3</th>\n",
              "      <td>2009-01-12</td>\n",
              "      <td>2009-01-12</td>\n",
              "      <td>40.0</td>\n",
              "    </tr>\n",
              "    <tr>\n",
              "      <th>4</th>\n",
              "      <td>2009-01-12</td>\n",
              "      <td>2009-01-12</td>\n",
              "      <td>28.0</td>\n",
              "    </tr>\n",
              "  </tbody>\n",
              "</table>\n",
              "</div>"
            ],
            "text/plain": [
              "  block_date spent_block_date  UTXO\n",
              "0 2009-01-09       2009-01-12  50.0\n",
              "1 2009-01-12       2009-01-12  29.0\n",
              "2 2009-01-12       2009-01-12   1.0\n",
              "3 2009-01-12       2009-01-12  40.0\n",
              "4 2009-01-12       2009-01-12  28.0"
            ]
          },
          "metadata": {
            "tags": []
          },
          "execution_count": 101
        }
      ]
    },
    {
      "cell_type": "code",
      "metadata": {
        "id": "LZURPE0lgC1T",
        "outputId": "13f2c4d3-c26a-4ac6-e009-380220d29978",
        "colab": {
          "base_uri": "https://localhost:8080/",
          "height": 195
        }
      },
      "source": [
        "### use reset_index() to keep the grouping variable as a column\n",
        "df_dead = df.groupby(df['spent_block_date']).sum()['UTXO'].reset_index()\n",
        "df_dead.rename(columns={\"UTXO\": \"UTXO_dead\"}, inplace=True)\n",
        "df_dead.tail()"
      ],
      "execution_count": null,
      "outputs": [
        {
          "output_type": "execute_result",
          "data": {
            "text/html": [
              "<div>\n",
              "<style scoped>\n",
              "    .dataframe tbody tr th:only-of-type {\n",
              "        vertical-align: middle;\n",
              "    }\n",
              "\n",
              "    .dataframe tbody tr th {\n",
              "        vertical-align: top;\n",
              "    }\n",
              "\n",
              "    .dataframe thead th {\n",
              "        text-align: right;\n",
              "    }\n",
              "</style>\n",
              "<table border=\"1\" class=\"dataframe\">\n",
              "  <thead>\n",
              "    <tr style=\"text-align: right;\">\n",
              "      <th></th>\n",
              "      <th>spent_block_date</th>\n",
              "      <th>UTXO_dead</th>\n",
              "    </tr>\n",
              "  </thead>\n",
              "  <tbody>\n",
              "    <tr>\n",
              "      <th>3791</th>\n",
              "      <td>2020-10-11</td>\n",
              "      <td>1050.000000</td>\n",
              "    </tr>\n",
              "    <tr>\n",
              "      <th>3792</th>\n",
              "      <td>2020-10-14</td>\n",
              "      <td>64.859446</td>\n",
              "    </tr>\n",
              "    <tr>\n",
              "      <th>3793</th>\n",
              "      <td>2020-10-15</td>\n",
              "      <td>0.487548</td>\n",
              "    </tr>\n",
              "    <tr>\n",
              "      <th>3794</th>\n",
              "      <td>2020-10-16</td>\n",
              "      <td>5.510000</td>\n",
              "    </tr>\n",
              "    <tr>\n",
              "      <th>3795</th>\n",
              "      <td>2020-10-17</td>\n",
              "      <td>50.000000</td>\n",
              "    </tr>\n",
              "  </tbody>\n",
              "</table>\n",
              "</div>"
            ],
            "text/plain": [
              "     spent_block_date    UTXO_dead\n",
              "3791       2020-10-11  1050.000000\n",
              "3792       2020-10-14    64.859446\n",
              "3793       2020-10-15     0.487548\n",
              "3794       2020-10-16     5.510000\n",
              "3795       2020-10-17    50.000000"
            ]
          },
          "metadata": {
            "tags": []
          },
          "execution_count": 102
        }
      ]
    },
    {
      "cell_type": "code",
      "metadata": {
        "id": "5fqYXnxWnWGH"
      },
      "source": [
        "df_dead.to_csv('/content/drive/My Drive/df_dead.csv')"
      ],
      "execution_count": null,
      "outputs": []
    },
    {
      "cell_type": "markdown",
      "metadata": {
        "id": "wHxrthBUge7q"
      },
      "source": [
        " Merge the two dataframe to get the time series for newborn and dead UTXO for each date from 2009-01-12 to 2011-08-06"
      ]
    },
    {
      "cell_type": "code",
      "metadata": {
        "id": "O0I3bsEPgvPa",
        "outputId": "56dc760e-9184-4024-b4ea-01cb82d1b4f8",
        "colab": {
          "base_uri": "https://localhost:8080/"
        }
      },
      "source": [
        "np.size(pd.date_range(start='2009-01-09', end='2011-08-06'))"
      ],
      "execution_count": null,
      "outputs": [
        {
          "output_type": "execute_result",
          "data": {
            "text/plain": [
              "940"
            ]
          },
          "metadata": {
            "tags": []
          },
          "execution_count": 104
        }
      ]
    },
    {
      "cell_type": "code",
      "metadata": {
        "id": "hshmCYuqhuQ0",
        "outputId": "11997583-d743-46a5-acad-99770ab3feee",
        "colab": {
          "base_uri": "https://localhost:8080/",
          "height": 195
        }
      },
      "source": [
        "df_UTXO = pd.DataFrame(np.zeros((940, 1)))\n",
        "df_UTXO.columns=['date']\n",
        "df_UTXO['date']=pd.date_range(start='2009-01-09', end='2011-08-06')\n",
        "df_UTXO.tail()"
      ],
      "execution_count": null,
      "outputs": [
        {
          "output_type": "execute_result",
          "data": {
            "text/html": [
              "<div>\n",
              "<style scoped>\n",
              "    .dataframe tbody tr th:only-of-type {\n",
              "        vertical-align: middle;\n",
              "    }\n",
              "\n",
              "    .dataframe tbody tr th {\n",
              "        vertical-align: top;\n",
              "    }\n",
              "\n",
              "    .dataframe thead th {\n",
              "        text-align: right;\n",
              "    }\n",
              "</style>\n",
              "<table border=\"1\" class=\"dataframe\">\n",
              "  <thead>\n",
              "    <tr style=\"text-align: right;\">\n",
              "      <th></th>\n",
              "      <th>date</th>\n",
              "    </tr>\n",
              "  </thead>\n",
              "  <tbody>\n",
              "    <tr>\n",
              "      <th>935</th>\n",
              "      <td>2011-08-02</td>\n",
              "    </tr>\n",
              "    <tr>\n",
              "      <th>936</th>\n",
              "      <td>2011-08-03</td>\n",
              "    </tr>\n",
              "    <tr>\n",
              "      <th>937</th>\n",
              "      <td>2011-08-04</td>\n",
              "    </tr>\n",
              "    <tr>\n",
              "      <th>938</th>\n",
              "      <td>2011-08-05</td>\n",
              "    </tr>\n",
              "    <tr>\n",
              "      <th>939</th>\n",
              "      <td>2011-08-06</td>\n",
              "    </tr>\n",
              "  </tbody>\n",
              "</table>\n",
              "</div>"
            ],
            "text/plain": [
              "          date\n",
              "935 2011-08-02\n",
              "936 2011-08-03\n",
              "937 2011-08-04\n",
              "938 2011-08-05\n",
              "939 2011-08-06"
            ]
          },
          "metadata": {
            "tags": []
          },
          "execution_count": 105
        }
      ]
    },
    {
      "cell_type": "code",
      "metadata": {
        "id": "Akw5W5BRjmVP",
        "outputId": "f40d4ff9-83d9-4bb4-809d-9a945188eb1b",
        "colab": {
          "base_uri": "https://localhost:8080/",
          "height": 195
        }
      },
      "source": [
        "### merge\n",
        "df_UTXO=df_UTXO.merge(df_newborn, how='left',left_on='date',right_on='block_date')\n",
        "df_UTXO.head()"
      ],
      "execution_count": null,
      "outputs": [
        {
          "output_type": "execute_result",
          "data": {
            "text/html": [
              "<div>\n",
              "<style scoped>\n",
              "    .dataframe tbody tr th:only-of-type {\n",
              "        vertical-align: middle;\n",
              "    }\n",
              "\n",
              "    .dataframe tbody tr th {\n",
              "        vertical-align: top;\n",
              "    }\n",
              "\n",
              "    .dataframe thead th {\n",
              "        text-align: right;\n",
              "    }\n",
              "</style>\n",
              "<table border=\"1\" class=\"dataframe\">\n",
              "  <thead>\n",
              "    <tr style=\"text-align: right;\">\n",
              "      <th></th>\n",
              "      <th>date</th>\n",
              "      <th>block_date</th>\n",
              "      <th>UTXO_newborn</th>\n",
              "    </tr>\n",
              "  </thead>\n",
              "  <tbody>\n",
              "    <tr>\n",
              "      <th>0</th>\n",
              "      <td>2009-01-09</td>\n",
              "      <td>2009-01-09</td>\n",
              "      <td>700.0</td>\n",
              "    </tr>\n",
              "    <tr>\n",
              "      <th>1</th>\n",
              "      <td>2009-01-10</td>\n",
              "      <td>2009-01-10</td>\n",
              "      <td>3050.0</td>\n",
              "    </tr>\n",
              "    <tr>\n",
              "      <th>2</th>\n",
              "      <td>2009-01-11</td>\n",
              "      <td>2009-01-11</td>\n",
              "      <td>4650.0</td>\n",
              "    </tr>\n",
              "    <tr>\n",
              "      <th>3</th>\n",
              "      <td>2009-01-12</td>\n",
              "      <td>2009-01-12</td>\n",
              "      <td>4879.0</td>\n",
              "    </tr>\n",
              "    <tr>\n",
              "      <th>4</th>\n",
              "      <td>2009-01-13</td>\n",
              "      <td>2009-01-13</td>\n",
              "      <td>6150.0</td>\n",
              "    </tr>\n",
              "  </tbody>\n",
              "</table>\n",
              "</div>"
            ],
            "text/plain": [
              "        date block_date  UTXO_newborn\n",
              "0 2009-01-09 2009-01-09         700.0\n",
              "1 2009-01-10 2009-01-10        3050.0\n",
              "2 2009-01-11 2009-01-11        4650.0\n",
              "3 2009-01-12 2009-01-12        4879.0\n",
              "4 2009-01-13 2009-01-13        6150.0"
            ]
          },
          "metadata": {
            "tags": []
          },
          "execution_count": 106
        }
      ]
    },
    {
      "cell_type": "code",
      "metadata": {
        "id": "C9-JNzjfkZyt",
        "outputId": "32870e37-6f96-4808-887a-2aee6ab2d75a",
        "colab": {
          "base_uri": "https://localhost:8080/",
          "height": 195
        }
      },
      "source": [
        "### merge\n",
        "df_UTXO=df_UTXO.merge(df_dead, how='left',left_on='date',right_on='spent_block_date')\n",
        "df_UTXO.head()"
      ],
      "execution_count": null,
      "outputs": [
        {
          "output_type": "execute_result",
          "data": {
            "text/html": [
              "<div>\n",
              "<style scoped>\n",
              "    .dataframe tbody tr th:only-of-type {\n",
              "        vertical-align: middle;\n",
              "    }\n",
              "\n",
              "    .dataframe tbody tr th {\n",
              "        vertical-align: top;\n",
              "    }\n",
              "\n",
              "    .dataframe thead th {\n",
              "        text-align: right;\n",
              "    }\n",
              "</style>\n",
              "<table border=\"1\" class=\"dataframe\">\n",
              "  <thead>\n",
              "    <tr style=\"text-align: right;\">\n",
              "      <th></th>\n",
              "      <th>date</th>\n",
              "      <th>block_date</th>\n",
              "      <th>UTXO_newborn</th>\n",
              "      <th>spent_block_date</th>\n",
              "      <th>UTXO_dead</th>\n",
              "    </tr>\n",
              "  </thead>\n",
              "  <tbody>\n",
              "    <tr>\n",
              "      <th>0</th>\n",
              "      <td>2009-01-09</td>\n",
              "      <td>2009-01-09</td>\n",
              "      <td>700.0</td>\n",
              "      <td>NaT</td>\n",
              "      <td>NaN</td>\n",
              "    </tr>\n",
              "    <tr>\n",
              "      <th>1</th>\n",
              "      <td>2009-01-10</td>\n",
              "      <td>2009-01-10</td>\n",
              "      <td>3050.0</td>\n",
              "      <td>NaT</td>\n",
              "      <td>NaN</td>\n",
              "    </tr>\n",
              "    <tr>\n",
              "      <th>2</th>\n",
              "      <td>2009-01-11</td>\n",
              "      <td>2009-01-11</td>\n",
              "      <td>4650.0</td>\n",
              "      <td>NaT</td>\n",
              "      <td>NaN</td>\n",
              "    </tr>\n",
              "    <tr>\n",
              "      <th>3</th>\n",
              "      <td>2009-01-12</td>\n",
              "      <td>2009-01-12</td>\n",
              "      <td>4879.0</td>\n",
              "      <td>2009-01-12</td>\n",
              "      <td>179.0</td>\n",
              "    </tr>\n",
              "    <tr>\n",
              "      <th>4</th>\n",
              "      <td>2009-01-13</td>\n",
              "      <td>2009-01-13</td>\n",
              "      <td>6150.0</td>\n",
              "      <td>NaT</td>\n",
              "      <td>NaN</td>\n",
              "    </tr>\n",
              "  </tbody>\n",
              "</table>\n",
              "</div>"
            ],
            "text/plain": [
              "        date block_date  UTXO_newborn spent_block_date  UTXO_dead\n",
              "0 2009-01-09 2009-01-09         700.0              NaT        NaN\n",
              "1 2009-01-10 2009-01-10        3050.0              NaT        NaN\n",
              "2 2009-01-11 2009-01-11        4650.0              NaT        NaN\n",
              "3 2009-01-12 2009-01-12        4879.0       2009-01-12      179.0\n",
              "4 2009-01-13 2009-01-13        6150.0              NaT        NaN"
            ]
          },
          "metadata": {
            "tags": []
          },
          "execution_count": 107
        }
      ]
    },
    {
      "cell_type": "code",
      "metadata": {
        "id": "MwIdxa63le93"
      },
      "source": [
        "df_UTXO = df_UTXO.drop(['block_date','spent_block_date'], axis = 1)"
      ],
      "execution_count": null,
      "outputs": []
    },
    {
      "cell_type": "code",
      "metadata": {
        "id": "FTPvM62Lk9iS",
        "outputId": "5a30e348-4d8c-4b8c-816f-88b3299a629d",
        "colab": {
          "base_uri": "https://localhost:8080/",
          "height": 195
        }
      },
      "source": [
        "df_UTXO=df_UTXO[['date','UTXO_newborn','UTXO_dead']].fillna(0)\n",
        "df_UTXO.head()"
      ],
      "execution_count": null,
      "outputs": [
        {
          "output_type": "execute_result",
          "data": {
            "text/html": [
              "<div>\n",
              "<style scoped>\n",
              "    .dataframe tbody tr th:only-of-type {\n",
              "        vertical-align: middle;\n",
              "    }\n",
              "\n",
              "    .dataframe tbody tr th {\n",
              "        vertical-align: top;\n",
              "    }\n",
              "\n",
              "    .dataframe thead th {\n",
              "        text-align: right;\n",
              "    }\n",
              "</style>\n",
              "<table border=\"1\" class=\"dataframe\">\n",
              "  <thead>\n",
              "    <tr style=\"text-align: right;\">\n",
              "      <th></th>\n",
              "      <th>date</th>\n",
              "      <th>UTXO_newborn</th>\n",
              "      <th>UTXO_dead</th>\n",
              "    </tr>\n",
              "  </thead>\n",
              "  <tbody>\n",
              "    <tr>\n",
              "      <th>0</th>\n",
              "      <td>2009-01-09</td>\n",
              "      <td>700.0</td>\n",
              "      <td>0.0</td>\n",
              "    </tr>\n",
              "    <tr>\n",
              "      <th>1</th>\n",
              "      <td>2009-01-10</td>\n",
              "      <td>3050.0</td>\n",
              "      <td>0.0</td>\n",
              "    </tr>\n",
              "    <tr>\n",
              "      <th>2</th>\n",
              "      <td>2009-01-11</td>\n",
              "      <td>4650.0</td>\n",
              "      <td>0.0</td>\n",
              "    </tr>\n",
              "    <tr>\n",
              "      <th>3</th>\n",
              "      <td>2009-01-12</td>\n",
              "      <td>4879.0</td>\n",
              "      <td>179.0</td>\n",
              "    </tr>\n",
              "    <tr>\n",
              "      <th>4</th>\n",
              "      <td>2009-01-13</td>\n",
              "      <td>6150.0</td>\n",
              "      <td>0.0</td>\n",
              "    </tr>\n",
              "  </tbody>\n",
              "</table>\n",
              "</div>"
            ],
            "text/plain": [
              "        date  UTXO_newborn  UTXO_dead\n",
              "0 2009-01-09         700.0        0.0\n",
              "1 2009-01-10        3050.0        0.0\n",
              "2 2009-01-11        4650.0        0.0\n",
              "3 2009-01-12        4879.0      179.0\n",
              "4 2009-01-13        6150.0        0.0"
            ]
          },
          "metadata": {
            "tags": []
          },
          "execution_count": 109
        }
      ]
    },
    {
      "cell_type": "markdown",
      "metadata": {
        "id": "GgADfgUyliyE"
      },
      "source": [
        "Calculate the Daily Net new UTXO =UTXO_newborn-UTXO_dead"
      ]
    },
    {
      "cell_type": "code",
      "metadata": {
        "id": "acy5gSiZlt-X",
        "outputId": "f2c8070f-7793-4ef4-a493-07a7fe3d5b57",
        "colab": {
          "base_uri": "https://localhost:8080/",
          "height": 195
        }
      },
      "source": [
        "df_UTXO['Net_New']=df_UTXO['UTXO_newborn']-df_UTXO['UTXO_dead']\n",
        "df_UTXO.head()"
      ],
      "execution_count": null,
      "outputs": [
        {
          "output_type": "execute_result",
          "data": {
            "text/html": [
              "<div>\n",
              "<style scoped>\n",
              "    .dataframe tbody tr th:only-of-type {\n",
              "        vertical-align: middle;\n",
              "    }\n",
              "\n",
              "    .dataframe tbody tr th {\n",
              "        vertical-align: top;\n",
              "    }\n",
              "\n",
              "    .dataframe thead th {\n",
              "        text-align: right;\n",
              "    }\n",
              "</style>\n",
              "<table border=\"1\" class=\"dataframe\">\n",
              "  <thead>\n",
              "    <tr style=\"text-align: right;\">\n",
              "      <th></th>\n",
              "      <th>date</th>\n",
              "      <th>UTXO_newborn</th>\n",
              "      <th>UTXO_dead</th>\n",
              "      <th>Net_New</th>\n",
              "    </tr>\n",
              "  </thead>\n",
              "  <tbody>\n",
              "    <tr>\n",
              "      <th>0</th>\n",
              "      <td>2009-01-09</td>\n",
              "      <td>700.0</td>\n",
              "      <td>0.0</td>\n",
              "      <td>700.0</td>\n",
              "    </tr>\n",
              "    <tr>\n",
              "      <th>1</th>\n",
              "      <td>2009-01-10</td>\n",
              "      <td>3050.0</td>\n",
              "      <td>0.0</td>\n",
              "      <td>3050.0</td>\n",
              "    </tr>\n",
              "    <tr>\n",
              "      <th>2</th>\n",
              "      <td>2009-01-11</td>\n",
              "      <td>4650.0</td>\n",
              "      <td>0.0</td>\n",
              "      <td>4650.0</td>\n",
              "    </tr>\n",
              "    <tr>\n",
              "      <th>3</th>\n",
              "      <td>2009-01-12</td>\n",
              "      <td>4879.0</td>\n",
              "      <td>179.0</td>\n",
              "      <td>4700.0</td>\n",
              "    </tr>\n",
              "    <tr>\n",
              "      <th>4</th>\n",
              "      <td>2009-01-13</td>\n",
              "      <td>6150.0</td>\n",
              "      <td>0.0</td>\n",
              "      <td>6150.0</td>\n",
              "    </tr>\n",
              "  </tbody>\n",
              "</table>\n",
              "</div>"
            ],
            "text/plain": [
              "        date  UTXO_newborn  UTXO_dead  Net_New\n",
              "0 2009-01-09         700.0        0.0    700.0\n",
              "1 2009-01-10        3050.0        0.0   3050.0\n",
              "2 2009-01-11        4650.0        0.0   4650.0\n",
              "3 2009-01-12        4879.0      179.0   4700.0\n",
              "4 2009-01-13        6150.0        0.0   6150.0"
            ]
          },
          "metadata": {
            "tags": []
          },
          "execution_count": 110
        }
      ]
    },
    {
      "cell_type": "markdown",
      "metadata": {
        "id": "4IuxvhVzmpJy"
      },
      "source": [
        "Calculate the Accumulated Sum of Net new UTXO to get the total UTXO not spent for each date"
      ]
    },
    {
      "cell_type": "code",
      "metadata": {
        "id": "c2lBzgoXV4p6",
        "outputId": "50fcd9ab-5130-455d-dfde-27562691ce0d",
        "colab": {
          "base_uri": "https://localhost:8080/",
          "height": 195
        }
      },
      "source": [
        "df_UTXO['UTXO_Cum']=df_UTXO['Net_New'].cumsum()\n",
        "df_UTXO.head()"
      ],
      "execution_count": null,
      "outputs": [
        {
          "output_type": "execute_result",
          "data": {
            "text/html": [
              "<div>\n",
              "<style scoped>\n",
              "    .dataframe tbody tr th:only-of-type {\n",
              "        vertical-align: middle;\n",
              "    }\n",
              "\n",
              "    .dataframe tbody tr th {\n",
              "        vertical-align: top;\n",
              "    }\n",
              "\n",
              "    .dataframe thead th {\n",
              "        text-align: right;\n",
              "    }\n",
              "</style>\n",
              "<table border=\"1\" class=\"dataframe\">\n",
              "  <thead>\n",
              "    <tr style=\"text-align: right;\">\n",
              "      <th></th>\n",
              "      <th>date</th>\n",
              "      <th>UTXO_newborn</th>\n",
              "      <th>UTXO_dead</th>\n",
              "      <th>Net_New</th>\n",
              "      <th>UTXO_Cum</th>\n",
              "    </tr>\n",
              "  </thead>\n",
              "  <tbody>\n",
              "    <tr>\n",
              "      <th>0</th>\n",
              "      <td>2009-01-09</td>\n",
              "      <td>700.0</td>\n",
              "      <td>0.0</td>\n",
              "      <td>700.0</td>\n",
              "      <td>700.0</td>\n",
              "    </tr>\n",
              "    <tr>\n",
              "      <th>1</th>\n",
              "      <td>2009-01-10</td>\n",
              "      <td>3050.0</td>\n",
              "      <td>0.0</td>\n",
              "      <td>3050.0</td>\n",
              "      <td>3750.0</td>\n",
              "    </tr>\n",
              "    <tr>\n",
              "      <th>2</th>\n",
              "      <td>2009-01-11</td>\n",
              "      <td>4650.0</td>\n",
              "      <td>0.0</td>\n",
              "      <td>4650.0</td>\n",
              "      <td>8400.0</td>\n",
              "    </tr>\n",
              "    <tr>\n",
              "      <th>3</th>\n",
              "      <td>2009-01-12</td>\n",
              "      <td>4879.0</td>\n",
              "      <td>179.0</td>\n",
              "      <td>4700.0</td>\n",
              "      <td>13100.0</td>\n",
              "    </tr>\n",
              "    <tr>\n",
              "      <th>4</th>\n",
              "      <td>2009-01-13</td>\n",
              "      <td>6150.0</td>\n",
              "      <td>0.0</td>\n",
              "      <td>6150.0</td>\n",
              "      <td>19250.0</td>\n",
              "    </tr>\n",
              "  </tbody>\n",
              "</table>\n",
              "</div>"
            ],
            "text/plain": [
              "        date  UTXO_newborn  UTXO_dead  Net_New  UTXO_Cum\n",
              "0 2009-01-09         700.0        0.0    700.0     700.0\n",
              "1 2009-01-10        3050.0        0.0   3050.0    3750.0\n",
              "2 2009-01-11        4650.0        0.0   4650.0    8400.0\n",
              "3 2009-01-12        4879.0      179.0   4700.0   13100.0\n",
              "4 2009-01-13        6150.0        0.0   6150.0   19250.0"
            ]
          },
          "metadata": {
            "tags": []
          },
          "execution_count": 111
        }
      ]
    },
    {
      "cell_type": "code",
      "metadata": {
        "id": "qetKKfWwoIT4",
        "outputId": "d89f15d1-0665-40d0-865e-4b3ded9c87ba",
        "colab": {
          "base_uri": "https://localhost:8080/"
        }
      },
      "source": [
        "df_UTXO.columns"
      ],
      "execution_count": null,
      "outputs": [
        {
          "output_type": "execute_result",
          "data": {
            "text/plain": [
              "Index(['date', 'UTXO_newborn', 'UTXO_dead', 'Net_New', 'UTXO_Cum'], dtype='object')"
            ]
          },
          "metadata": {
            "tags": []
          },
          "execution_count": 112
        }
      ]
    },
    {
      "cell_type": "code",
      "metadata": {
        "id": "_p-GiST8xVy6",
        "outputId": "2e2a6e54-fbd0-48a1-8e2e-cd219de5bbaa",
        "colab": {
          "base_uri": "https://localhost:8080/"
        }
      },
      "source": [
        "df_UTXO.info()"
      ],
      "execution_count": null,
      "outputs": [
        {
          "output_type": "stream",
          "text": [
            "<class 'pandas.core.frame.DataFrame'>\n",
            "Int64Index: 940 entries, 0 to 939\n",
            "Data columns (total 5 columns):\n",
            " #   Column        Non-Null Count  Dtype         \n",
            "---  ------        --------------  -----         \n",
            " 0   date          940 non-null    datetime64[ns]\n",
            " 1   UTXO_newborn  940 non-null    float64       \n",
            " 2   UTXO_dead     940 non-null    float64       \n",
            " 3   Net_New       940 non-null    float64       \n",
            " 4   UTXO_Cum      940 non-null    float64       \n",
            "dtypes: datetime64[ns](1), float64(4)\n",
            "memory usage: 44.1 KB\n"
          ],
          "name": "stdout"
        }
      ]
    },
    {
      "cell_type": "code",
      "metadata": {
        "id": "QdA2F5_MpLdM",
        "outputId": "a400a2c5-faf5-4b19-83fa-21a605c120c5",
        "colab": {
          "base_uri": "https://localhost:8080/",
          "height": 542
        }
      },
      "source": [
        "import plotly.graph_objects as go\n",
        "from plotly.offline import iplot\n",
        "\n",
        "# Create traces\n",
        "fig0 = go.Figure()\n",
        "fig0.add_trace(go.Scatter(x=df_UTXO.date, y=df_UTXO.UTXO_newborn,\n",
        "                    mode='lines',\n",
        "                    name='UTXO Newborn'))\n",
        "\n",
        "fig0.add_trace(go.Scatter(x=df_UTXO.date, y=df_UTXO.UTXO_dead,\n",
        "                    mode='lines+markers',\n",
        "                    name='UTXO Dead'))\n",
        "\n",
        "fig0.add_trace(go.Scatter(x=df_UTXO.date, y=df_UTXO.Net_New,\n",
        "                    mode='markers', name='UTXO Netnew'))\n",
        "fig0.update_layout(title='Daily Newborn and Dead UTXO',\n",
        "                   xaxis_title='Date',\n",
        "                   yaxis_title='UTXO')\n",
        "fig0.update_yaxes(type=\"log\")\n",
        "\n",
        "\n",
        "# Add range slider\n",
        "fig0.update_layout(\n",
        "    xaxis=dict(\n",
        "        rangeselector=dict(\n",
        "            buttons=list([\n",
        "                dict(count=1,\n",
        "                     label=\"1m\",\n",
        "                     step=\"month\",\n",
        "                     stepmode=\"backward\"),\n",
        "                dict(count=6,\n",
        "                     label=\"6m\",\n",
        "                     step=\"month\",\n",
        "                     stepmode=\"backward\"),\n",
        "                dict(count=1,\n",
        "                     label=\"YTD\",\n",
        "                     step=\"year\",\n",
        "                     stepmode=\"todate\"),\n",
        "                dict(count=1,\n",
        "                     label=\"1y\",\n",
        "                     step=\"year\",\n",
        "                     stepmode=\"backward\"),\n",
        "                dict(step=\"all\")\n",
        "            ])\n",
        "        ),\n",
        "        rangeslider=dict(\n",
        "            visible=True\n",
        "        ),\n",
        "        type=\"date\"\n",
        "    )\n",
        ")\n",
        "\n",
        "iplot(fig0)"
      ],
      "execution_count": null,
      "outputs": [
        {
          "output_type": "display_data",
          "data": {
            "text/html": [
              "<html>\n",
              "<head><meta charset=\"utf-8\" /></head>\n",
              "<body>\n",
              "    <div>\n",
              "            <script src=\"https://cdnjs.cloudflare.com/ajax/libs/mathjax/2.7.5/MathJax.js?config=TeX-AMS-MML_SVG\"></script><script type=\"text/javascript\">if (window.MathJax) {MathJax.Hub.Config({SVG: {font: \"STIX-Web\"}});}</script>\n",
              "                <script type=\"text/javascript\">window.PlotlyConfig = {MathJaxConfig: 'local'};</script>\n",
              "        <script src=\"https://cdn.plot.ly/plotly-latest.min.js\"></script>    \n",
              "            <div id=\"30448275-cd47-4b4b-8a40-382d8e69a50b\" class=\"plotly-graph-div\" style=\"height:525px; width:100%;\"></div>\n",
              "            <script type=\"text/javascript\">\n",
              "                \n",
              "                    window.PLOTLYENV=window.PLOTLYENV || {};\n",
              "                    \n",
              "                if (document.getElementById(\"30448275-cd47-4b4b-8a40-382d8e69a50b\")) {\n",
              "                    Plotly.newPlot(\n",
              "                        '30448275-cd47-4b4b-8a40-382d8e69a50b',\n",
              "                        [{\"mode\": \"lines\", \"name\": \"UTXO Newborn\", \"type\": \"scatter\", \"x\": [\"2009-01-09T00:00:00\", \"2009-01-10T00:00:00\", \"2009-01-11T00:00:00\", \"2009-01-12T00:00:00\", \"2009-01-13T00:00:00\", \"2009-01-14T00:00:00\", \"2009-01-15T00:00:00\", \"2009-01-16T00:00:00\", \"2009-01-17T00:00:00\", \"2009-01-18T00:00:00\", \"2009-01-19T00:00:00\", \"2009-01-20T00:00:00\", \"2009-01-21T00:00:00\", \"2009-01-22T00:00:00\", \"2009-01-23T00:00:00\", \"2009-01-24T00:00:00\", \"2009-01-25T00:00:00\", \"2009-01-26T00:00:00\", \"2009-01-27T00:00:00\", \"2009-01-28T00:00:00\", \"2009-01-29T00:00:00\", \"2009-01-30T00:00:00\", \"2009-01-31T00:00:00\", \"2009-02-01T00:00:00\", \"2009-02-02T00:00:00\", \"2009-02-03T00:00:00\", \"2009-02-04T00:00:00\", \"2009-02-05T00:00:00\", \"2009-02-06T00:00:00\", \"2009-02-07T00:00:00\", \"2009-02-08T00:00:00\", \"2009-02-09T00:00:00\", \"2009-02-10T00:00:00\", \"2009-02-11T00:00:00\", \"2009-02-12T00:00:00\", \"2009-02-13T00:00:00\", \"2009-02-14T00:00:00\", \"2009-02-15T00:00:00\", \"2009-02-16T00:00:00\", \"2009-02-17T00:00:00\", \"2009-02-18T00:00:00\", \"2009-02-19T00:00:00\", \"2009-02-20T00:00:00\", \"2009-02-21T00:00:00\", \"2009-02-22T00:00:00\", \"2009-02-23T00:00:00\", \"2009-02-24T00:00:00\", \"2009-02-25T00:00:00\", \"2009-02-26T00:00:00\", \"2009-02-27T00:00:00\", \"2009-02-28T00:00:00\", \"2009-03-01T00:00:00\", \"2009-03-02T00:00:00\", \"2009-03-03T00:00:00\", \"2009-03-04T00:00:00\", \"2009-03-05T00:00:00\", \"2009-03-06T00:00:00\", \"2009-03-07T00:00:00\", \"2009-03-08T00:00:00\", \"2009-03-09T00:00:00\", \"2009-03-10T00:00:00\", \"2009-03-11T00:00:00\", \"2009-03-12T00:00:00\", \"2009-03-13T00:00:00\", \"2009-03-14T00:00:00\", \"2009-03-15T00:00:00\", \"2009-03-16T00:00:00\", \"2009-03-17T00:00:00\", \"2009-03-18T00:00:00\", \"2009-03-19T00:00:00\", \"2009-03-20T00:00:00\", \"2009-03-21T00:00:00\", \"2009-03-22T00:00:00\", \"2009-03-23T00:00:00\", \"2009-03-24T00:00:00\", \"2009-03-25T00:00:00\", \"2009-03-26T00:00:00\", \"2009-03-27T00:00:00\", \"2009-03-28T00:00:00\", \"2009-03-29T00:00:00\", \"2009-03-30T00:00:00\", \"2009-03-31T00:00:00\", \"2009-04-01T00:00:00\", \"2009-04-02T00:00:00\", \"2009-04-03T00:00:00\", \"2009-04-04T00:00:00\", \"2009-04-05T00:00:00\", \"2009-04-06T00:00:00\", \"2009-04-07T00:00:00\", \"2009-04-08T00:00:00\", \"2009-04-09T00:00:00\", \"2009-04-10T00:00:00\", \"2009-04-11T00:00:00\", \"2009-04-12T00:00:00\", \"2009-04-13T00:00:00\", \"2009-04-14T00:00:00\", \"2009-04-15T00:00:00\", \"2009-04-16T00:00:00\", \"2009-04-17T00:00:00\", \"2009-04-18T00:00:00\", \"2009-04-19T00:00:00\", \"2009-04-20T00:00:00\", \"2009-04-21T00:00:00\", \"2009-04-22T00:00:00\", \"2009-04-23T00:00:00\", \"2009-04-24T00:00:00\", \"2009-04-25T00:00:00\", \"2009-04-26T00:00:00\", \"2009-04-27T00:00:00\", \"2009-04-28T00:00:00\", \"2009-04-29T00:00:00\", \"2009-04-30T00:00:00\", \"2009-05-01T00:00:00\", \"2009-05-02T00:00:00\", \"2009-05-03T00:00:00\", \"2009-05-04T00:00:00\", \"2009-05-05T00:00:00\", \"2009-05-06T00:00:00\", \"2009-05-07T00:00:00\", \"2009-05-08T00:00:00\", \"2009-05-09T00:00:00\", \"2009-05-10T00:00:00\", \"2009-05-11T00:00:00\", \"2009-05-12T00:00:00\", \"2009-05-13T00:00:00\", \"2009-05-14T00:00:00\", \"2009-05-15T00:00:00\", \"2009-05-16T00:00:00\", \"2009-05-17T00:00:00\", \"2009-05-18T00:00:00\", \"2009-05-19T00:00:00\", \"2009-05-20T00:00:00\", \"2009-05-21T00:00:00\", \"2009-05-22T00:00:00\", \"2009-05-23T00:00:00\", \"2009-05-24T00:00:00\", \"2009-05-25T00:00:00\", \"2009-05-26T00:00:00\", \"2009-05-27T00:00:00\", \"2009-05-28T00:00:00\", \"2009-05-29T00:00:00\", \"2009-05-30T00:00:00\", \"2009-05-31T00:00:00\", \"2009-06-01T00:00:00\", \"2009-06-02T00:00:00\", \"2009-06-03T00:00:00\", \"2009-06-04T00:00:00\", \"2009-06-05T00:00:00\", \"2009-06-06T00:00:00\", \"2009-06-07T00:00:00\", \"2009-06-08T00:00:00\", \"2009-06-09T00:00:00\", \"2009-06-10T00:00:00\", \"2009-06-11T00:00:00\", \"2009-06-12T00:00:00\", \"2009-06-13T00:00:00\", \"2009-06-14T00:00:00\", \"2009-06-15T00:00:00\", \"2009-06-16T00:00:00\", \"2009-06-17T00:00:00\", \"2009-06-18T00:00:00\", \"2009-06-19T00:00:00\", \"2009-06-20T00:00:00\", \"2009-06-21T00:00:00\", \"2009-06-22T00:00:00\", \"2009-06-23T00:00:00\", \"2009-06-24T00:00:00\", \"2009-06-25T00:00:00\", \"2009-06-26T00:00:00\", \"2009-06-27T00:00:00\", \"2009-06-28T00:00:00\", \"2009-06-29T00:00:00\", \"2009-06-30T00:00:00\", \"2009-07-01T00:00:00\", \"2009-07-02T00:00:00\", \"2009-07-03T00:00:00\", \"2009-07-04T00:00:00\", \"2009-07-05T00:00:00\", \"2009-07-06T00:00:00\", \"2009-07-07T00:00:00\", \"2009-07-08T00:00:00\", \"2009-07-09T00:00:00\", \"2009-07-10T00:00:00\", \"2009-07-11T00:00:00\", \"2009-07-12T00:00:00\", \"2009-07-13T00:00:00\", \"2009-07-14T00:00:00\", \"2009-07-15T00:00:00\", \"2009-07-16T00:00:00\", \"2009-07-17T00:00:00\", \"2009-07-18T00:00:00\", \"2009-07-19T00:00:00\", \"2009-07-20T00:00:00\", \"2009-07-21T00:00:00\", \"2009-07-22T00:00:00\", \"2009-07-23T00:00:00\", \"2009-07-24T00:00:00\", \"2009-07-25T00:00:00\", \"2009-07-26T00:00:00\", \"2009-07-27T00:00:00\", \"2009-07-28T00:00:00\", \"2009-07-29T00:00:00\", \"2009-07-30T00:00:00\", \"2009-07-31T00:00:00\", \"2009-08-01T00:00:00\", \"2009-08-02T00:00:00\", \"2009-08-03T00:00:00\", \"2009-08-04T00:00:00\", \"2009-08-05T00:00:00\", \"2009-08-06T00:00:00\", \"2009-08-07T00:00:00\", \"2009-08-08T00:00:00\", \"2009-08-09T00:00:00\", \"2009-08-10T00:00:00\", \"2009-08-11T00:00:00\", \"2009-08-12T00:00:00\", \"2009-08-13T00:00:00\", \"2009-08-14T00:00:00\", \"2009-08-15T00:00:00\", \"2009-08-16T00:00:00\", \"2009-08-17T00:00:00\", \"2009-08-18T00:00:00\", \"2009-08-19T00:00:00\", \"2009-08-20T00:00:00\", \"2009-08-21T00:00:00\", \"2009-08-22T00:00:00\", \"2009-08-23T00:00:00\", \"2009-08-24T00:00:00\", \"2009-08-25T00:00:00\", \"2009-08-26T00:00:00\", \"2009-08-27T00:00:00\", \"2009-08-28T00:00:00\", \"2009-08-29T00:00:00\", \"2009-08-30T00:00:00\", \"2009-08-31T00:00:00\", \"2009-09-01T00:00:00\", \"2009-09-02T00:00:00\", \"2009-09-03T00:00:00\", \"2009-09-04T00:00:00\", \"2009-09-05T00:00:00\", \"2009-09-06T00:00:00\", \"2009-09-07T00:00:00\", \"2009-09-08T00:00:00\", \"2009-09-09T00:00:00\", \"2009-09-10T00:00:00\", \"2009-09-11T00:00:00\", \"2009-09-12T00:00:00\", \"2009-09-13T00:00:00\", \"2009-09-14T00:00:00\", \"2009-09-15T00:00:00\", \"2009-09-16T00:00:00\", \"2009-09-17T00:00:00\", \"2009-09-18T00:00:00\", \"2009-09-19T00:00:00\", \"2009-09-20T00:00:00\", \"2009-09-21T00:00:00\", \"2009-09-22T00:00:00\", \"2009-09-23T00:00:00\", \"2009-09-24T00:00:00\", \"2009-09-25T00:00:00\", \"2009-09-26T00:00:00\", \"2009-09-27T00:00:00\", \"2009-09-28T00:00:00\", \"2009-09-29T00:00:00\", \"2009-09-30T00:00:00\", \"2009-10-01T00:00:00\", \"2009-10-02T00:00:00\", \"2009-10-03T00:00:00\", \"2009-10-04T00:00:00\", \"2009-10-05T00:00:00\", \"2009-10-06T00:00:00\", \"2009-10-07T00:00:00\", \"2009-10-08T00:00:00\", \"2009-10-09T00:00:00\", \"2009-10-10T00:00:00\", \"2009-10-11T00:00:00\", \"2009-10-12T00:00:00\", \"2009-10-13T00:00:00\", \"2009-10-14T00:00:00\", \"2009-10-15T00:00:00\", \"2009-10-16T00:00:00\", \"2009-10-17T00:00:00\", \"2009-10-18T00:00:00\", \"2009-10-19T00:00:00\", \"2009-10-20T00:00:00\", \"2009-10-21T00:00:00\", \"2009-10-22T00:00:00\", \"2009-10-23T00:00:00\", \"2009-10-24T00:00:00\", \"2009-10-25T00:00:00\", \"2009-10-26T00:00:00\", \"2009-10-27T00:00:00\", \"2009-10-28T00:00:00\", \"2009-10-29T00:00:00\", \"2009-10-30T00:00:00\", \"2009-10-31T00:00:00\", \"2009-11-01T00:00:00\", \"2009-11-02T00:00:00\", \"2009-11-03T00:00:00\", \"2009-11-04T00:00:00\", \"2009-11-05T00:00:00\", \"2009-11-06T00:00:00\", \"2009-11-07T00:00:00\", \"2009-11-08T00:00:00\", \"2009-11-09T00:00:00\", \"2009-11-10T00:00:00\", \"2009-11-11T00:00:00\", \"2009-11-12T00:00:00\", \"2009-11-13T00:00:00\", \"2009-11-14T00:00:00\", \"2009-11-15T00:00:00\", \"2009-11-16T00:00:00\", \"2009-11-17T00:00:00\", \"2009-11-18T00:00:00\", \"2009-11-19T00:00:00\", \"2009-11-20T00:00:00\", \"2009-11-21T00:00:00\", \"2009-11-22T00:00:00\", \"2009-11-23T00:00:00\", \"2009-11-24T00:00:00\", \"2009-11-25T00:00:00\", \"2009-11-26T00:00:00\", \"2009-11-27T00:00:00\", \"2009-11-28T00:00:00\", \"2009-11-29T00:00:00\", \"2009-11-30T00:00:00\", \"2009-12-01T00:00:00\", \"2009-12-02T00:00:00\", \"2009-12-03T00:00:00\", \"2009-12-04T00:00:00\", \"2009-12-05T00:00:00\", \"2009-12-06T00:00:00\", \"2009-12-07T00:00:00\", \"2009-12-08T00:00:00\", \"2009-12-09T00:00:00\", \"2009-12-10T00:00:00\", \"2009-12-11T00:00:00\", \"2009-12-12T00:00:00\", \"2009-12-13T00:00:00\", \"2009-12-14T00:00:00\", \"2009-12-15T00:00:00\", \"2009-12-16T00:00:00\", \"2009-12-17T00:00:00\", \"2009-12-18T00:00:00\", \"2009-12-19T00:00:00\", \"2009-12-20T00:00:00\", \"2009-12-21T00:00:00\", \"2009-12-22T00:00:00\", \"2009-12-23T00:00:00\", \"2009-12-24T00:00:00\", \"2009-12-25T00:00:00\", \"2009-12-26T00:00:00\", \"2009-12-27T00:00:00\", \"2009-12-28T00:00:00\", \"2009-12-29T00:00:00\", \"2009-12-30T00:00:00\", \"2009-12-31T00:00:00\", \"2010-01-01T00:00:00\", \"2010-01-02T00:00:00\", \"2010-01-03T00:00:00\", \"2010-01-04T00:00:00\", \"2010-01-05T00:00:00\", \"2010-01-06T00:00:00\", \"2010-01-07T00:00:00\", \"2010-01-08T00:00:00\", \"2010-01-09T00:00:00\", \"2010-01-10T00:00:00\", \"2010-01-11T00:00:00\", \"2010-01-12T00:00:00\", \"2010-01-13T00:00:00\", \"2010-01-14T00:00:00\", \"2010-01-15T00:00:00\", \"2010-01-16T00:00:00\", \"2010-01-17T00:00:00\", \"2010-01-18T00:00:00\", \"2010-01-19T00:00:00\", \"2010-01-20T00:00:00\", \"2010-01-21T00:00:00\", \"2010-01-22T00:00:00\", \"2010-01-23T00:00:00\", \"2010-01-24T00:00:00\", \"2010-01-25T00:00:00\", \"2010-01-26T00:00:00\", \"2010-01-27T00:00:00\", \"2010-01-28T00:00:00\", \"2010-01-29T00:00:00\", \"2010-01-30T00:00:00\", \"2010-01-31T00:00:00\", \"2010-02-01T00:00:00\", \"2010-02-02T00:00:00\", \"2010-02-03T00:00:00\", \"2010-02-04T00:00:00\", \"2010-02-05T00:00:00\", \"2010-02-06T00:00:00\", \"2010-02-07T00:00:00\", \"2010-02-08T00:00:00\", \"2010-02-09T00:00:00\", \"2010-02-10T00:00:00\", \"2010-02-11T00:00:00\", \"2010-02-12T00:00:00\", \"2010-02-13T00:00:00\", \"2010-02-14T00:00:00\", \"2010-02-15T00:00:00\", \"2010-02-16T00:00:00\", \"2010-02-17T00:00:00\", \"2010-02-18T00:00:00\", \"2010-02-19T00:00:00\", \"2010-02-20T00:00:00\", \"2010-02-21T00:00:00\", \"2010-02-22T00:00:00\", \"2010-02-23T00:00:00\", \"2010-02-24T00:00:00\", \"2010-02-25T00:00:00\", \"2010-02-26T00:00:00\", \"2010-02-27T00:00:00\", \"2010-02-28T00:00:00\", \"2010-03-01T00:00:00\", \"2010-03-02T00:00:00\", \"2010-03-03T00:00:00\", \"2010-03-04T00:00:00\", \"2010-03-05T00:00:00\", \"2010-03-06T00:00:00\", \"2010-03-07T00:00:00\", \"2010-03-08T00:00:00\", \"2010-03-09T00:00:00\", \"2010-03-10T00:00:00\", \"2010-03-11T00:00:00\", \"2010-03-12T00:00:00\", \"2010-03-13T00:00:00\", \"2010-03-14T00:00:00\", \"2010-03-15T00:00:00\", \"2010-03-16T00:00:00\", \"2010-03-17T00:00:00\", \"2010-03-18T00:00:00\", \"2010-03-19T00:00:00\", \"2010-03-20T00:00:00\", \"2010-03-21T00:00:00\", \"2010-03-22T00:00:00\", \"2010-03-23T00:00:00\", \"2010-03-24T00:00:00\", \"2010-03-25T00:00:00\", \"2010-03-26T00:00:00\", \"2010-03-27T00:00:00\", \"2010-03-28T00:00:00\", \"2010-03-29T00:00:00\", \"2010-03-30T00:00:00\", \"2010-03-31T00:00:00\", \"2010-04-01T00:00:00\", \"2010-04-02T00:00:00\", \"2010-04-03T00:00:00\", \"2010-04-04T00:00:00\", \"2010-04-05T00:00:00\", \"2010-04-06T00:00:00\", \"2010-04-07T00:00:00\", \"2010-04-08T00:00:00\", \"2010-04-09T00:00:00\", \"2010-04-10T00:00:00\", \"2010-04-11T00:00:00\", \"2010-04-12T00:00:00\", \"2010-04-13T00:00:00\", \"2010-04-14T00:00:00\", \"2010-04-15T00:00:00\", \"2010-04-16T00:00:00\", \"2010-04-17T00:00:00\", \"2010-04-18T00:00:00\", \"2010-04-19T00:00:00\", \"2010-04-20T00:00:00\", \"2010-04-21T00:00:00\", \"2010-04-22T00:00:00\", \"2010-04-23T00:00:00\", \"2010-04-24T00:00:00\", \"2010-04-25T00:00:00\", \"2010-04-26T00:00:00\", \"2010-04-27T00:00:00\", \"2010-04-28T00:00:00\", \"2010-04-29T00:00:00\", \"2010-04-30T00:00:00\", \"2010-05-01T00:00:00\", \"2010-05-02T00:00:00\", \"2010-05-03T00:00:00\", \"2010-05-04T00:00:00\", \"2010-05-05T00:00:00\", \"2010-05-06T00:00:00\", \"2010-05-07T00:00:00\", \"2010-05-08T00:00:00\", \"2010-05-09T00:00:00\", \"2010-05-10T00:00:00\", \"2010-05-11T00:00:00\", \"2010-05-12T00:00:00\", \"2010-05-13T00:00:00\", \"2010-05-14T00:00:00\", \"2010-05-15T00:00:00\", \"2010-05-16T00:00:00\", \"2010-05-17T00:00:00\", \"2010-05-18T00:00:00\", \"2010-05-19T00:00:00\", \"2010-05-20T00:00:00\", \"2010-05-21T00:00:00\", \"2010-05-22T00:00:00\", \"2010-05-23T00:00:00\", \"2010-05-24T00:00:00\", \"2010-05-25T00:00:00\", \"2010-05-26T00:00:00\", \"2010-05-27T00:00:00\", \"2010-05-28T00:00:00\", \"2010-05-29T00:00:00\", \"2010-05-30T00:00:00\", \"2010-05-31T00:00:00\", \"2010-06-01T00:00:00\", \"2010-06-02T00:00:00\", \"2010-06-03T00:00:00\", \"2010-06-04T00:00:00\", \"2010-06-05T00:00:00\", \"2010-06-06T00:00:00\", \"2010-06-07T00:00:00\", \"2010-06-08T00:00:00\", \"2010-06-09T00:00:00\", \"2010-06-10T00:00:00\", \"2010-06-11T00:00:00\", \"2010-06-12T00:00:00\", \"2010-06-13T00:00:00\", \"2010-06-14T00:00:00\", \"2010-06-15T00:00:00\", \"2010-06-16T00:00:00\", \"2010-06-17T00:00:00\", \"2010-06-18T00:00:00\", \"2010-06-19T00:00:00\", \"2010-06-20T00:00:00\", \"2010-06-21T00:00:00\", \"2010-06-22T00:00:00\", \"2010-06-23T00:00:00\", \"2010-06-24T00:00:00\", \"2010-06-25T00:00:00\", \"2010-06-26T00:00:00\", \"2010-06-27T00:00:00\", \"2010-06-28T00:00:00\", \"2010-06-29T00:00:00\", \"2010-06-30T00:00:00\", \"2010-07-01T00:00:00\", \"2010-07-02T00:00:00\", \"2010-07-03T00:00:00\", \"2010-07-04T00:00:00\", \"2010-07-05T00:00:00\", \"2010-07-06T00:00:00\", \"2010-07-07T00:00:00\", \"2010-07-08T00:00:00\", \"2010-07-09T00:00:00\", \"2010-07-10T00:00:00\", \"2010-07-11T00:00:00\", \"2010-07-12T00:00:00\", \"2010-07-13T00:00:00\", \"2010-07-14T00:00:00\", \"2010-07-15T00:00:00\", \"2010-07-16T00:00:00\", \"2010-07-17T00:00:00\", \"2010-07-18T00:00:00\", \"2010-07-19T00:00:00\", \"2010-07-20T00:00:00\", \"2010-07-21T00:00:00\", \"2010-07-22T00:00:00\", \"2010-07-23T00:00:00\", \"2010-07-24T00:00:00\", \"2010-07-25T00:00:00\", \"2010-07-26T00:00:00\", \"2010-07-27T00:00:00\", \"2010-07-28T00:00:00\", \"2010-07-29T00:00:00\", \"2010-07-30T00:00:00\", \"2010-07-31T00:00:00\", \"2010-08-01T00:00:00\", \"2010-08-02T00:00:00\", \"2010-08-03T00:00:00\", \"2010-08-04T00:00:00\", \"2010-08-05T00:00:00\", \"2010-08-06T00:00:00\", \"2010-08-07T00:00:00\", \"2010-08-08T00:00:00\", \"2010-08-09T00:00:00\", \"2010-08-10T00:00:00\", \"2010-08-11T00:00:00\", \"2010-08-12T00:00:00\", \"2010-08-13T00:00:00\", \"2010-08-14T00:00:00\", \"2010-08-15T00:00:00\", \"2010-08-16T00:00:00\", \"2010-08-17T00:00:00\", \"2010-08-18T00:00:00\", \"2010-08-19T00:00:00\", \"2010-08-20T00:00:00\", \"2010-08-21T00:00:00\", \"2010-08-22T00:00:00\", \"2010-08-23T00:00:00\", \"2010-08-24T00:00:00\", \"2010-08-25T00:00:00\", \"2010-08-26T00:00:00\", \"2010-08-27T00:00:00\", \"2010-08-28T00:00:00\", \"2010-08-29T00:00:00\", \"2010-08-30T00:00:00\", \"2010-08-31T00:00:00\", \"2010-09-01T00:00:00\", \"2010-09-02T00:00:00\", \"2010-09-03T00:00:00\", \"2010-09-04T00:00:00\", \"2010-09-05T00:00:00\", \"2010-09-06T00:00:00\", \"2010-09-07T00:00:00\", \"2010-09-08T00:00:00\", \"2010-09-09T00:00:00\", \"2010-09-10T00:00:00\", \"2010-09-11T00:00:00\", \"2010-09-12T00:00:00\", \"2010-09-13T00:00:00\", \"2010-09-14T00:00:00\", \"2010-09-15T00:00:00\", \"2010-09-16T00:00:00\", \"2010-09-17T00:00:00\", \"2010-09-18T00:00:00\", \"2010-09-19T00:00:00\", \"2010-09-20T00:00:00\", \"2010-09-21T00:00:00\", \"2010-09-22T00:00:00\", \"2010-09-23T00:00:00\", \"2010-09-24T00:00:00\", \"2010-09-25T00:00:00\", \"2010-09-26T00:00:00\", \"2010-09-27T00:00:00\", \"2010-09-28T00:00:00\", \"2010-09-29T00:00:00\", \"2010-09-30T00:00:00\", \"2010-10-01T00:00:00\", \"2010-10-02T00:00:00\", \"2010-10-03T00:00:00\", \"2010-10-04T00:00:00\", \"2010-10-05T00:00:00\", \"2010-10-06T00:00:00\", \"2010-10-07T00:00:00\", \"2010-10-08T00:00:00\", \"2010-10-09T00:00:00\", \"2010-10-10T00:00:00\", \"2010-10-11T00:00:00\", \"2010-10-12T00:00:00\", \"2010-10-13T00:00:00\", \"2010-10-14T00:00:00\", \"2010-10-15T00:00:00\", \"2010-10-16T00:00:00\", \"2010-10-17T00:00:00\", \"2010-10-18T00:00:00\", \"2010-10-19T00:00:00\", \"2010-10-20T00:00:00\", \"2010-10-21T00:00:00\", \"2010-10-22T00:00:00\", \"2010-10-23T00:00:00\", \"2010-10-24T00:00:00\", \"2010-10-25T00:00:00\", \"2010-10-26T00:00:00\", \"2010-10-27T00:00:00\", \"2010-10-28T00:00:00\", \"2010-10-29T00:00:00\", \"2010-10-30T00:00:00\", \"2010-10-31T00:00:00\", \"2010-11-01T00:00:00\", \"2010-11-02T00:00:00\", \"2010-11-03T00:00:00\", \"2010-11-04T00:00:00\", \"2010-11-05T00:00:00\", \"2010-11-06T00:00:00\", \"2010-11-07T00:00:00\", \"2010-11-08T00:00:00\", \"2010-11-09T00:00:00\", \"2010-11-10T00:00:00\", \"2010-11-11T00:00:00\", \"2010-11-12T00:00:00\", \"2010-11-13T00:00:00\", \"2010-11-14T00:00:00\", \"2010-11-15T00:00:00\", \"2010-11-16T00:00:00\", \"2010-11-17T00:00:00\", \"2010-11-18T00:00:00\", \"2010-11-19T00:00:00\", \"2010-11-20T00:00:00\", \"2010-11-21T00:00:00\", \"2010-11-22T00:00:00\", \"2010-11-23T00:00:00\", \"2010-11-24T00:00:00\", \"2010-11-25T00:00:00\", \"2010-11-26T00:00:00\", \"2010-11-27T00:00:00\", \"2010-11-28T00:00:00\", \"2010-11-29T00:00:00\", \"2010-11-30T00:00:00\", \"2010-12-01T00:00:00\", \"2010-12-02T00:00:00\", \"2010-12-03T00:00:00\", \"2010-12-04T00:00:00\", \"2010-12-05T00:00:00\", \"2010-12-06T00:00:00\", \"2010-12-07T00:00:00\", \"2010-12-08T00:00:00\", \"2010-12-09T00:00:00\", \"2010-12-10T00:00:00\", \"2010-12-11T00:00:00\", \"2010-12-12T00:00:00\", \"2010-12-13T00:00:00\", \"2010-12-14T00:00:00\", \"2010-12-15T00:00:00\", \"2010-12-16T00:00:00\", \"2010-12-17T00:00:00\", \"2010-12-18T00:00:00\", \"2010-12-19T00:00:00\", \"2010-12-20T00:00:00\", \"2010-12-21T00:00:00\", \"2010-12-22T00:00:00\", \"2010-12-23T00:00:00\", \"2010-12-24T00:00:00\", \"2010-12-25T00:00:00\", \"2010-12-26T00:00:00\", \"2010-12-27T00:00:00\", \"2010-12-28T00:00:00\", \"2010-12-29T00:00:00\", \"2010-12-30T00:00:00\", \"2010-12-31T00:00:00\", \"2011-01-01T00:00:00\", \"2011-01-02T00:00:00\", \"2011-01-03T00:00:00\", \"2011-01-04T00:00:00\", \"2011-01-05T00:00:00\", \"2011-01-06T00:00:00\", \"2011-01-07T00:00:00\", \"2011-01-08T00:00:00\", \"2011-01-09T00:00:00\", \"2011-01-10T00:00:00\", \"2011-01-11T00:00:00\", \"2011-01-12T00:00:00\", \"2011-01-13T00:00:00\", \"2011-01-14T00:00:00\", \"2011-01-15T00:00:00\", \"2011-01-16T00:00:00\", \"2011-01-17T00:00:00\", \"2011-01-18T00:00:00\", \"2011-01-19T00:00:00\", \"2011-01-20T00:00:00\", \"2011-01-21T00:00:00\", \"2011-01-22T00:00:00\", \"2011-01-23T00:00:00\", \"2011-01-24T00:00:00\", \"2011-01-25T00:00:00\", \"2011-01-26T00:00:00\", \"2011-01-27T00:00:00\", \"2011-01-28T00:00:00\", \"2011-01-29T00:00:00\", \"2011-01-30T00:00:00\", \"2011-01-31T00:00:00\", \"2011-02-01T00:00:00\", \"2011-02-02T00:00:00\", \"2011-02-03T00:00:00\", \"2011-02-04T00:00:00\", \"2011-02-05T00:00:00\", \"2011-02-06T00:00:00\", \"2011-02-07T00:00:00\", \"2011-02-08T00:00:00\", \"2011-02-09T00:00:00\", \"2011-02-10T00:00:00\", \"2011-02-11T00:00:00\", \"2011-02-12T00:00:00\", \"2011-02-13T00:00:00\", \"2011-02-14T00:00:00\", \"2011-02-15T00:00:00\", \"2011-02-16T00:00:00\", \"2011-02-17T00:00:00\", \"2011-02-18T00:00:00\", \"2011-02-19T00:00:00\", \"2011-02-20T00:00:00\", \"2011-02-21T00:00:00\", \"2011-02-22T00:00:00\", \"2011-02-23T00:00:00\", \"2011-02-24T00:00:00\", \"2011-02-25T00:00:00\", \"2011-02-26T00:00:00\", \"2011-02-27T00:00:00\", \"2011-02-28T00:00:00\", \"2011-03-01T00:00:00\", \"2011-03-02T00:00:00\", \"2011-03-03T00:00:00\", \"2011-03-04T00:00:00\", \"2011-03-05T00:00:00\", \"2011-03-06T00:00:00\", \"2011-03-07T00:00:00\", \"2011-03-08T00:00:00\", \"2011-03-09T00:00:00\", \"2011-03-10T00:00:00\", \"2011-03-11T00:00:00\", \"2011-03-12T00:00:00\", \"2011-03-13T00:00:00\", \"2011-03-14T00:00:00\", \"2011-03-15T00:00:00\", \"2011-03-16T00:00:00\", \"2011-03-17T00:00:00\", \"2011-03-18T00:00:00\", \"2011-03-19T00:00:00\", \"2011-03-20T00:00:00\", \"2011-03-21T00:00:00\", \"2011-03-22T00:00:00\", \"2011-03-23T00:00:00\", \"2011-03-24T00:00:00\", \"2011-03-25T00:00:00\", \"2011-03-26T00:00:00\", \"2011-03-27T00:00:00\", \"2011-03-28T00:00:00\", \"2011-03-29T00:00:00\", \"2011-03-30T00:00:00\", \"2011-03-31T00:00:00\", \"2011-04-01T00:00:00\", \"2011-04-02T00:00:00\", \"2011-04-03T00:00:00\", \"2011-04-04T00:00:00\", \"2011-04-05T00:00:00\", \"2011-04-06T00:00:00\", \"2011-04-07T00:00:00\", \"2011-04-08T00:00:00\", \"2011-04-09T00:00:00\", \"2011-04-10T00:00:00\", \"2011-04-11T00:00:00\", \"2011-04-12T00:00:00\", \"2011-04-13T00:00:00\", \"2011-04-14T00:00:00\", \"2011-04-15T00:00:00\", \"2011-04-16T00:00:00\", \"2011-04-17T00:00:00\", \"2011-04-18T00:00:00\", \"2011-04-19T00:00:00\", \"2011-04-20T00:00:00\", \"2011-04-21T00:00:00\", \"2011-04-22T00:00:00\", \"2011-04-23T00:00:00\", \"2011-04-24T00:00:00\", \"2011-04-25T00:00:00\", \"2011-04-26T00:00:00\", \"2011-04-27T00:00:00\", \"2011-04-28T00:00:00\", \"2011-04-29T00:00:00\", \"2011-04-30T00:00:00\", \"2011-05-01T00:00:00\", \"2011-05-02T00:00:00\", \"2011-05-03T00:00:00\", \"2011-05-04T00:00:00\", \"2011-05-05T00:00:00\", \"2011-05-06T00:00:00\", \"2011-05-07T00:00:00\", \"2011-05-08T00:00:00\", \"2011-05-09T00:00:00\", \"2011-05-10T00:00:00\", \"2011-05-11T00:00:00\", \"2011-05-12T00:00:00\", \"2011-05-13T00:00:00\", \"2011-05-14T00:00:00\", \"2011-05-15T00:00:00\", \"2011-05-16T00:00:00\", \"2011-05-17T00:00:00\", \"2011-05-18T00:00:00\", \"2011-05-19T00:00:00\", \"2011-05-20T00:00:00\", \"2011-05-21T00:00:00\", \"2011-05-22T00:00:00\", \"2011-05-23T00:00:00\", \"2011-05-24T00:00:00\", \"2011-05-25T00:00:00\", \"2011-05-26T00:00:00\", \"2011-05-27T00:00:00\", \"2011-05-28T00:00:00\", \"2011-05-29T00:00:00\", \"2011-05-30T00:00:00\", \"2011-05-31T00:00:00\", \"2011-06-01T00:00:00\", \"2011-06-02T00:00:00\", \"2011-06-03T00:00:00\", \"2011-06-04T00:00:00\", \"2011-06-05T00:00:00\", \"2011-06-06T00:00:00\", \"2011-06-07T00:00:00\", \"2011-06-08T00:00:00\", \"2011-06-09T00:00:00\", \"2011-06-10T00:00:00\", \"2011-06-11T00:00:00\", \"2011-06-12T00:00:00\", \"2011-06-13T00:00:00\", \"2011-06-14T00:00:00\", \"2011-06-15T00:00:00\", \"2011-06-16T00:00:00\", \"2011-06-17T00:00:00\", \"2011-06-18T00:00:00\", \"2011-06-19T00:00:00\", \"2011-06-20T00:00:00\", \"2011-06-21T00:00:00\", \"2011-06-22T00:00:00\", \"2011-06-23T00:00:00\", \"2011-06-24T00:00:00\", \"2011-06-25T00:00:00\", \"2011-06-26T00:00:00\", \"2011-06-27T00:00:00\", \"2011-06-28T00:00:00\", \"2011-06-29T00:00:00\", \"2011-06-30T00:00:00\", \"2011-07-01T00:00:00\", \"2011-07-02T00:00:00\", \"2011-07-03T00:00:00\", \"2011-07-04T00:00:00\", \"2011-07-05T00:00:00\", \"2011-07-06T00:00:00\", \"2011-07-07T00:00:00\", \"2011-07-08T00:00:00\", \"2011-07-09T00:00:00\", \"2011-07-10T00:00:00\", \"2011-07-11T00:00:00\", \"2011-07-12T00:00:00\", \"2011-07-13T00:00:00\", \"2011-07-14T00:00:00\", \"2011-07-15T00:00:00\", \"2011-07-16T00:00:00\", \"2011-07-17T00:00:00\", \"2011-07-18T00:00:00\", \"2011-07-19T00:00:00\", \"2011-07-20T00:00:00\", \"2011-07-21T00:00:00\", \"2011-07-22T00:00:00\", \"2011-07-23T00:00:00\", \"2011-07-24T00:00:00\", \"2011-07-25T00:00:00\", \"2011-07-26T00:00:00\", \"2011-07-27T00:00:00\", \"2011-07-28T00:00:00\", \"2011-07-29T00:00:00\", \"2011-07-30T00:00:00\", \"2011-07-31T00:00:00\", \"2011-08-01T00:00:00\", \"2011-08-02T00:00:00\", \"2011-08-03T00:00:00\", \"2011-08-04T00:00:00\", \"2011-08-05T00:00:00\", \"2011-08-06T00:00:00\"], \"y\": [700.0, 3050.0, 4650.0, 4879.0, 6150.0, 6511.0, 6800.0, 5600.0, 5450.0, 5500.0, 6525.0, 6100.0, 5200.0, 5050.0, 4650.0, 10550.0, 9600.0, 5800.0, 5000.0, 5600.0, 6650.0, 5850.0, 7900.0, 5750.0, 6450.0, 7686.520000000001, 5950.0, 6300.0, 6100.0, 7648.0, 7600.0, 8900.0, 6000.0, 7200.04, 5950.0, 6200.0, 6800.0, 7300.0, 7600.0, 5850.0, 5900.0, 7000.0, 6100.0, 5700.0, 7100.0, 5400.0, 5300.0, 5250.0, 5350.0, 7550.0, 5300.0, 5250.0, 5400.0, 5650.0, 6450.0, 6000.0, 5850.0, 5450.0, 7300.0, 5400.0, 5350.0, 5700.0, 6050.0, 6400.0, 5500.0, 6150.0, 8450.0, 5700.0, 6400.0, 6100.0, 6500.0, 2500.0, 6500.0, 6500.0, 5250.0, 5850.0, 7250.0, 5300.0, 6950.0, 5800.0, 6000.0, 7100.0, 5700.0, 5750.0, 5800.0, 5650.0, 7350.0, 5450.0, 5000.0, 5250.0, 4950.0, 5400.0, 6350.0, 6850.0, 5800.0, 6200.0, 5650.0, 6150.0, 5600.0, 6482.51, 6350.0, 11700.0, 6200.0, 6050.0, 3750.0, 5750.0, 5900.0, 6350.0, 5200.0, 5850.0, 7400.0, 6550.0, 6050.0, 7049.94, 5410.0, 7900.0, 7250.0, 6750.0, 6100.0, 5350.0, 3900.0, 4250.0, 6100.0, 6500.0, 5700.01, 7149.99, 7300.0, 5950.0, 6350.0, 5900.0, 4300.0, 6000.0, 4100.0, 3050.0, 1600.0, 5000.0, 5450.0, 6250.0, 5950.0, 4750.0, 8300.0, 5450.0, 4800.0, 3600.0, 5550.0, 3550.0, 3300.0, 1500.0, 1400.0, 800.0, 4100.0, 4550.0, 4100.0, 4450.0, 4300.0, 3900.0, 3600.0, 4200.0, 3550.0, 3950.0, 4000.0, 4350.0, 3900.0, 4050.0, 6800.0, 3800.0, 4898.98, 4400.0, 4500.0, 4200.0, 2350.0, 4200.0, 4345.0, 3800.0, 4200.0, 4100.0, 4450.0, 3950.0, 4200.0, 3450.0, 3700.0, 4300.0, 4050.0, 4150.0, 3850.0, 3900.0, 3450.0, 2250.0, 3550.0, 2350.0, 200.0, 3500.0, 9549.67, 4100.0, 3000.0, 3800.0, 3650.0, 1600.0, 1050.0, 3700.0, 2050.0, 1050.0, 800.0, 850.0, 1400.0, 1150.0, 600.0, 4050.0, 4350.0, 4500.0, 9549.53, 4000.0, 5050.0, 3750.0, 3500.0, 3150.0, 4250.0, 3150.0, 1300.0, 950.0, 850.0, 500.0, 900.0, 1100.0, 700.0, 350.0, 750.0, 750.0, 2500.0, 4748.06, 1450.0, 3750.0, 3900.0, 4900.0, 4600.0, 3900.0, 3300.0, 3750.0, 3200.0, 3800.0, 3400.0, 4550.0, 3450.0, 2700.0, 3350.0, 3350.0, 3450.0, 3750.0, 3700.0, 2200.0, 3601.0, 9250.000000000002, 3900.0, 3700.0, 3900.0, 3850.0, 3250.0, 1800.0, 4850.0, 5850.0, 5000.0, 5150.0, 4250.0, 6550.0, 4250.0, 4100.0, 4100.0, 2900.0, 2650.0, 2750.0, 3050.0, 3000.0, 3500.0, 3950.0, 3850.0, 3700.0, 7950.0, 2850.0, 3450.0, 3550.0, 12700.0, 2850.0, 4050.0, 5600.0, 9799.880000000001, 4899.76, 16500.0, 4450.0, 15400.0, 3800.0, 3550.0, 16200.0, 3300.0, 4350.0, 3000.0, 2300.0, 1250.0, 1650.0, 3100.0, 18650.0, 2850.0, 3100.0, 3450.0, 3650.0, 3200.0, 3900.0, 93200.0, 3300.0, 4600.0, 3950.0, 4800.0, 4850.0, 4600.0, 3950.0, 47900.0, 4300.0, 3650.0, 5300.0, 4800.0, 4650.0, 4500.0, 4200.0, 3700.0, 3550.0, 3000.0, 3750.0, 13699.8, 4700.0, 4400.0, 1800.0, 4100.0, 5290.0, 5600.0, 6750.0, 7155.0, 5200.0, 5600.0, 10700.0, 5700.0, 37737.0, 10959.0, 7650.0, 8749.5, 11250.0, 9950.0, 8750.0, 8800.0, 8100.0, 7700.0, 7700.0, 7500.0, 8700.0, 8600.0, 6850.0, 8550.0, 7050.0, 6900.0, 4550.0, 4600.0, 6850.0, 27250.0, 7100.0, 5700.0, 4900.0, 4750.0, 4750.0, 7150.0, 5900.0, 17150.999999999996, 5651.0, 5355.0, 5350.74, 4701.0, 4750.0, 5250.0, 5700.0, 7250.0, 7100.0, 5149.0, 6399.0, 5850.0, 11750.0, 8324.0, 7050.0, 8050.0, 8350.0, 10000.0, 8650.0, 9250.0, 7250.0, 11300.0, 10650.0, 20882.2, 8850.0, 9700.0, 12550.0, 28750.44, 36650.0, 10200.0, 10900.0, 16095.83, 16130.0, 10763.350000000002, 8564.369999999999, 31811.93, 10401.0, 7500.0, 9100.0, 14016.83, 23500.0, 9950.0, 11050.0, 12250.0, 17000.0, 7201.0, 11301.0, 8850.0, 9150.0, 13550.0, 25950.0, 5950.0, 30050.9, 12600.0, 13445.17, 9500.0, 8650.0, 8450.0, 4550.0, 7800.0, 5900.0, 4850.0, 5951.0, 6300.0, 8960.0, 11396.0, 10756.0, 7201.0, 7850.0, 11233.51, 7250.0, 23250.0, 11100.0, 9303.3, 8900.0, 9350.0, 8250.0, 9224.2, 7300.0, 6250.0, 7123.48, 7850.0, 9358.74, 8580.630000000001, 7650.04, 10038.74, 19361.999999999993, 24754.08, 17763.05, 19601.850000000002, 9560.0, 12096.890000000001, 65633.72, 19688.33, 12193.1, 16135.900000000487, 24966.19, 17882.0, 15769.8, 24570.770000000004, 8025.049999999999, 8755.0, 20740.9, 16303.070000000002, 13550.98, 14067.720000000001, 8293.71, 37547.32, 10850.6, 7752.0, 12700.0, 22705.05, 24172.0, 16851.0, 28570.0, 20759.260000000002, 11347.880000000001, 12863.779999999999, 6400.1, 17312.11, 14411.56, 20515.25, 6764.64, 6788.639999999999, 15542.6, 14062.0, 20421.620000000003, 11833.0, 45253.98, 34678.880000000005, 28788.36, 12436.0, 14700.0, 23923.72, 18442.81, 35871.23, 35561.77, 11810.0, 12860.0, 13107.25, 13905.41, 15556.84, 37900.35, 10650.0, 13103.31, 31050.0, 16000.0, 35166.299999999996, 27863.479999999996, 15425.24, 18924.09, 19832.370000000003, 23901.010000000002, 19852.989999999998, 30648.989999999998, 23468.0, 16520.0, 29048.02, 26300.0, 12052.09, 19037.44, 28040.0, 28110.0, 17195.0, 42090.0, 13084.0, 19526.05, 33874.08999999999, 55965.380000000005, 31614.89, 60298.42, 43917.0, 22600.0, 47007.009999999995, 25725.0, 31434.489999999998, 13427.94, 13805.0, 19881.31, 27589.86, 129963.57000000002, 52444.57000000001, 64200.32000000587, 96785.8600000002, 45483.150000000045, 26876.53999999997, 34681.97999999997, 34689.179999999986, 20806.86999999998, 25635.82999999997, 36578.80999999999, 24322.82999999998, 19594.259999999984, 35538.350000000006, 70997.74000000003, 23202.379999999965, 71366.91999999997, 19346.61, 22137.539999999983, 19154.82, 70714.35999999997, 69833.12000000008, 29988.729999999832, 20927.300000000003, 29495.029999999977, 20049.069999999974, 21168.32, 16905.509999999995, 49109.59999999999, 23596.99, 40225.98999999998, 19674.329999999994, 31255.299999999996, 17772.05, 17576.28, 48013.32, 30514.51999999999, 31098.579999999987, 19640.669999999995, 24065.659999999993, 36350.23999999999, 19264.439999999995, 21542.909999999996, 21284.129999999994, 19339.759999999995, 20157.009999999987, 29764.889999999985, 18468.0899997, 14156.500000000004, 18965.55000039998, 38511.12999889999, 27666.729998699986, 25667.360000099998, 23541.779999999984, 22826.91999999999, 76561.53000000003, 76013.3699984, 21454.549999999996, 20697.919998299993, 31545.919998199977, 17101.189997999994, 12996.150000000005, 25211.600000299964, 74481.96000010004, 26861.31999999999, 33668.789999999964, 33426.83999999996, 51493.67000000003, 34105.98999999998, 40014.209603519994, 36580.10999999999, 22600.970000099995, 39837.64999999998, 86658.51999999999, 22419.91, 32411.54999999997, 26405.869999999963, 38427.43999999997, 81124.39992811998, 34061.19999999999, 35359.34999999998, 54010.01280515971, 165261.55776813012, 39122.46776625, 79516.42000099, 120508.95000010003, 79004.47000109, 87883.81, 101686.94, 121965.87999999999, 74421.4, 51439.50000108999, 54382.07000000001, 42936.799999999996, 87285.09000000001, 75923.02999999997, 85576.90000108999, 22099.91999999999, 42772.87000000002, 49350.09999999996, 49234.450000000004, 97630.95, 51097.89, 34186.09999999998, 71300.73, 54122.770000000004, 68807.68000000001, 84271.37999999996, 98878.19999999995, 45726.60000000002, 37483.40999999999, 51331.64999999999, 33606.38, 43867.32000000001, 38990.84, 113168.49108788001, 39498.55, 104215.93000000002, 44217.41, 282629.1799999999, 32337.75999999998, 36834.07999999997, 25634.949999999993, 21629.379999999994, 32226.229999999992, 37858.500000000015, 64183.370000001414, 34023.050000000745, 38325.730000000054, 33060.42108787998, 30531.989999999972, 37437.659999999996, 33255.50999999992, 25770.479999999963, 38997.74999999999, 32504.599999997263, 46287.680000000066, 79864.74000000012, 27300.69999999998, 26919.099999999988, 37921.31999999997, 55399.17000000007, 42379.100000000006, 48135.170000000064, 30527.509999999962, 51661.08, 27208.78, 103619.56613297005, 69755.6743440201, 31811.79528565994, 35055.13727151996, 21368.799999999985, 53617.38058192006, 22215.512477059907, 67897.79229398012, 29014.061524959925, 35365.303733559915, 29510.793569459955, 24947.165444159982, 36836.28674274997, 63669.06693557016, 35794.90571344034, 57140.576459800184, 29396.168473999925, 16069.848610849991, 18335.637480649977, 30640.277430519986, 18465.48903786, 58657.846641330085, 30373.38395764993, 86582.8168359101, 38565.83238551994, 29209.053350609945, 20145.909152579967, 31900.642665539937, 34039.1133012597, 17087.24542713999, 25500.238466719744, 22986.848270439958, 29111.930895039757, 33373.3399999998, 22540.25234567002, 46630.058074519795, 70613.19767407989, 27936.432016379942, 83844.74373139985, 52307.91653260999, 29297.0223693899, 34487.91306554, 39918.44435000006, 71550.58768351008, 47262.50370811999, 39801.747189920025, 38482.122949339915, 46762.23339930991, 59177.560913820154, 48371.28066100995, 29812.579059189913, 40064.10999999986, 457518.8190591896, 26853.709999999952, 45235.28195607985, 29308.528680419975, 80463.70982325023, 78751.93188265008, 91056.0010434799, 51524.23801298994, 39215.02416597997, 47705.846430229976, 58539.611125879965, 96289.24138346004, 50539.50098489, 71201.46552520005, 55220.90467606006, 70671.80123988996, 44502.592697189866, 37022.56000000005, 66545.34137725002, 43855.00395607002, 29751.14591214997, 27700.010494139788, 48061.88368959007, 29680.05999999981, 52281.080000000344, 33022.15999999984, 41305.14000000009, 39747.29785376998, 55354.2876947201, 41554.858666240085, 56002.40049575008, 96102.31000000027, 60750.84785377057, 351595.1144537695, 232513.9665955691, 66683.48239413662, 114401.39241407007, 49484.96302085017, 86711.07189999994, 103627.80466386005, 56191.59582642015, 33366.36613040999, 53268.11513039011, 41013.29335573002, 47003.7402555598, 74757.20179293974, 126369.21011475957, 51042.94292898021, 49918.287493479766, 50664.53939294963, 36402.70085556981, 25673.357792949977, 27021.163835879877, 39212.204321750454, 54996.55688974018, 49958.42659117893, 72373.26534077892, 51191.97270002019, 72665.779325758, 56413.12657620051, 40725.61246611978, 33076.667749260116, 47635.72367051009, 50613.67144363991, 29966.488271049944, 34972.744720459945, 29910.27313371996, 64147.1782110798, 54316.863384749864, 37941.871297489844, 37225.19796611002, 57767.19458325992, 47093.930099999896, 32495.652689209957, 42358.808553689974, 66158.27959471, 61261.063226890205, 81842.83046612298, 61086.59182745996, 65711.04535803004, 107338.56064346974, 80071.05225679827, 140694.45217757786, 147289.69145728054, 75570.08927441986, 106373.40535901977, 101832.9206655498, 57224.15516101982, 52142.201771979766, 59698.928949349516, 71890.81989734981, 70904.73300388992, 349818.2784763588, 284297.8713188304, 74682.32967360987, 51367.73207489996, 80541.44510344986, 84987.79317775987, 53794.787468480004, 97603.78560842932, 75390.54381128964, 255049.7534408499, 63476.178429680025, 276802.88122256094, 105313.94123334983, 123173.78299072961, 327300.5196969122, 347676.00331564114, 142487.62477166997, 156489.76328324142, 107839.91971271037, 96821.29259639954, 74674.08816495018, 87861.1241343798, 371713.58256209333, 348047.23556625255, 164272.74615485955, 59039.94651042968, 62170.1865336797, 84493.73554433942, 357186.43969554955, 42319.900593869985, 51889.534096919655, 53073.56451859942, 66752.80601923981, 70338.71629452921, 86511.20136747968, 144665.32083445962, 92067.19912197904, 114047.7256590087, 264585.6351917196, 97184.48954176866, 213120.61051130088, 179690.64937684083, 300814.37678492296, 180416.38937965012, 622805.3907436198, 151445.4427296993, 318574.9285010278, 281014.04468804476, 288575.7101308391, 237168.33419789054, 182266.57573719896, 935239.7819053989, 209720.67019961003, 197814.7964152985, 190196.94248362255, 609953.3837462086, 169490.7982636213, 176159.75019382124, 180600.0469334725, 246038.67026581182, 197289.33491942048, 167722.46196407883, 177572.5880232903, 171675.57195215288, 169780.01929877113, 121545.76003747917, 145979.50559618114, 120584.64392346912, 128689.73062484905, 101488.0049872699, 86171.30371444878, 98562.72657791994, 100909.79688602923, 105709.17665234851, 95936.69477251798, 113355.35339366885, 93389.81012410938, 85841.76250578919, 85245.86000293905, 89357.46641271104, 582316.7831801849, 95582.54929947923, 219053.05376057074, 79796.66672519041, 87685.82649667969, 69514.81828823978, 76345.6227427899, 85991.1596270499, 83342.81646225919, 77549.75630624984, 90158.74583084944, 67887.03566427014, 72286.43736469962, 190786.85231911094, 206502.19102884928, 85296.72370757943, 113896.63055834896, 88667.63910498939, 147648.11073989916, 77115.64357098995]}, {\"mode\": \"lines+markers\", \"name\": \"UTXO Dead\", \"type\": \"scatter\", \"x\": [\"2009-01-09T00:00:00\", \"2009-01-10T00:00:00\", \"2009-01-11T00:00:00\", \"2009-01-12T00:00:00\", \"2009-01-13T00:00:00\", \"2009-01-14T00:00:00\", \"2009-01-15T00:00:00\", \"2009-01-16T00:00:00\", \"2009-01-17T00:00:00\", \"2009-01-18T00:00:00\", \"2009-01-19T00:00:00\", \"2009-01-20T00:00:00\", \"2009-01-21T00:00:00\", \"2009-01-22T00:00:00\", \"2009-01-23T00:00:00\", \"2009-01-24T00:00:00\", \"2009-01-25T00:00:00\", \"2009-01-26T00:00:00\", \"2009-01-27T00:00:00\", \"2009-01-28T00:00:00\", \"2009-01-29T00:00:00\", \"2009-01-30T00:00:00\", \"2009-01-31T00:00:00\", \"2009-02-01T00:00:00\", \"2009-02-02T00:00:00\", \"2009-02-03T00:00:00\", \"2009-02-04T00:00:00\", \"2009-02-05T00:00:00\", \"2009-02-06T00:00:00\", \"2009-02-07T00:00:00\", \"2009-02-08T00:00:00\", \"2009-02-09T00:00:00\", \"2009-02-10T00:00:00\", \"2009-02-11T00:00:00\", \"2009-02-12T00:00:00\", \"2009-02-13T00:00:00\", \"2009-02-14T00:00:00\", \"2009-02-15T00:00:00\", \"2009-02-16T00:00:00\", \"2009-02-17T00:00:00\", \"2009-02-18T00:00:00\", \"2009-02-19T00:00:00\", \"2009-02-20T00:00:00\", \"2009-02-21T00:00:00\", \"2009-02-22T00:00:00\", \"2009-02-23T00:00:00\", \"2009-02-24T00:00:00\", \"2009-02-25T00:00:00\", \"2009-02-26T00:00:00\", \"2009-02-27T00:00:00\", \"2009-02-28T00:00:00\", \"2009-03-01T00:00:00\", \"2009-03-02T00:00:00\", \"2009-03-03T00:00:00\", \"2009-03-04T00:00:00\", \"2009-03-05T00:00:00\", \"2009-03-06T00:00:00\", \"2009-03-07T00:00:00\", \"2009-03-08T00:00:00\", \"2009-03-09T00:00:00\", \"2009-03-10T00:00:00\", \"2009-03-11T00:00:00\", \"2009-03-12T00:00:00\", \"2009-03-13T00:00:00\", \"2009-03-14T00:00:00\", \"2009-03-15T00:00:00\", \"2009-03-16T00:00:00\", \"2009-03-17T00:00:00\", \"2009-03-18T00:00:00\", \"2009-03-19T00:00:00\", \"2009-03-20T00:00:00\", \"2009-03-21T00:00:00\", \"2009-03-22T00:00:00\", \"2009-03-23T00:00:00\", \"2009-03-24T00:00:00\", \"2009-03-25T00:00:00\", \"2009-03-26T00:00:00\", \"2009-03-27T00:00:00\", \"2009-03-28T00:00:00\", \"2009-03-29T00:00:00\", \"2009-03-30T00:00:00\", \"2009-03-31T00:00:00\", \"2009-04-01T00:00:00\", \"2009-04-02T00:00:00\", \"2009-04-03T00:00:00\", \"2009-04-04T00:00:00\", \"2009-04-05T00:00:00\", \"2009-04-06T00:00:00\", \"2009-04-07T00:00:00\", \"2009-04-08T00:00:00\", \"2009-04-09T00:00:00\", \"2009-04-10T00:00:00\", \"2009-04-11T00:00:00\", \"2009-04-12T00:00:00\", \"2009-04-13T00:00:00\", \"2009-04-14T00:00:00\", \"2009-04-15T00:00:00\", \"2009-04-16T00:00:00\", \"2009-04-17T00:00:00\", \"2009-04-18T00:00:00\", \"2009-04-19T00:00:00\", \"2009-04-20T00:00:00\", \"2009-04-21T00:00:00\", \"2009-04-22T00:00:00\", \"2009-04-23T00:00:00\", \"2009-04-24T00:00:00\", \"2009-04-25T00:00:00\", \"2009-04-26T00:00:00\", \"2009-04-27T00:00:00\", \"2009-04-28T00:00:00\", \"2009-04-29T00:00:00\", \"2009-04-30T00:00:00\", \"2009-05-01T00:00:00\", \"2009-05-02T00:00:00\", \"2009-05-03T00:00:00\", \"2009-05-04T00:00:00\", \"2009-05-05T00:00:00\", \"2009-05-06T00:00:00\", \"2009-05-07T00:00:00\", \"2009-05-08T00:00:00\", \"2009-05-09T00:00:00\", \"2009-05-10T00:00:00\", \"2009-05-11T00:00:00\", \"2009-05-12T00:00:00\", \"2009-05-13T00:00:00\", \"2009-05-14T00:00:00\", \"2009-05-15T00:00:00\", \"2009-05-16T00:00:00\", \"2009-05-17T00:00:00\", \"2009-05-18T00:00:00\", \"2009-05-19T00:00:00\", \"2009-05-20T00:00:00\", \"2009-05-21T00:00:00\", \"2009-05-22T00:00:00\", \"2009-05-23T00:00:00\", \"2009-05-24T00:00:00\", \"2009-05-25T00:00:00\", \"2009-05-26T00:00:00\", \"2009-05-27T00:00:00\", \"2009-05-28T00:00:00\", \"2009-05-29T00:00:00\", \"2009-05-30T00:00:00\", \"2009-05-31T00:00:00\", \"2009-06-01T00:00:00\", \"2009-06-02T00:00:00\", \"2009-06-03T00:00:00\", \"2009-06-04T00:00:00\", \"2009-06-05T00:00:00\", \"2009-06-06T00:00:00\", \"2009-06-07T00:00:00\", \"2009-06-08T00:00:00\", \"2009-06-09T00:00:00\", \"2009-06-10T00:00:00\", \"2009-06-11T00:00:00\", \"2009-06-12T00:00:00\", \"2009-06-13T00:00:00\", \"2009-06-14T00:00:00\", \"2009-06-15T00:00:00\", \"2009-06-16T00:00:00\", \"2009-06-17T00:00:00\", \"2009-06-18T00:00:00\", \"2009-06-19T00:00:00\", \"2009-06-20T00:00:00\", \"2009-06-21T00:00:00\", \"2009-06-22T00:00:00\", \"2009-06-23T00:00:00\", \"2009-06-24T00:00:00\", \"2009-06-25T00:00:00\", \"2009-06-26T00:00:00\", \"2009-06-27T00:00:00\", \"2009-06-28T00:00:00\", \"2009-06-29T00:00:00\", \"2009-06-30T00:00:00\", \"2009-07-01T00:00:00\", \"2009-07-02T00:00:00\", \"2009-07-03T00:00:00\", \"2009-07-04T00:00:00\", \"2009-07-05T00:00:00\", \"2009-07-06T00:00:00\", \"2009-07-07T00:00:00\", \"2009-07-08T00:00:00\", \"2009-07-09T00:00:00\", \"2009-07-10T00:00:00\", \"2009-07-11T00:00:00\", \"2009-07-12T00:00:00\", \"2009-07-13T00:00:00\", \"2009-07-14T00:00:00\", \"2009-07-15T00:00:00\", \"2009-07-16T00:00:00\", \"2009-07-17T00:00:00\", \"2009-07-18T00:00:00\", \"2009-07-19T00:00:00\", \"2009-07-20T00:00:00\", \"2009-07-21T00:00:00\", \"2009-07-22T00:00:00\", \"2009-07-23T00:00:00\", \"2009-07-24T00:00:00\", \"2009-07-25T00:00:00\", \"2009-07-26T00:00:00\", \"2009-07-27T00:00:00\", \"2009-07-28T00:00:00\", \"2009-07-29T00:00:00\", \"2009-07-30T00:00:00\", \"2009-07-31T00:00:00\", \"2009-08-01T00:00:00\", \"2009-08-02T00:00:00\", \"2009-08-03T00:00:00\", \"2009-08-04T00:00:00\", \"2009-08-05T00:00:00\", \"2009-08-06T00:00:00\", \"2009-08-07T00:00:00\", \"2009-08-08T00:00:00\", \"2009-08-09T00:00:00\", \"2009-08-10T00:00:00\", \"2009-08-11T00:00:00\", \"2009-08-12T00:00:00\", \"2009-08-13T00:00:00\", \"2009-08-14T00:00:00\", \"2009-08-15T00:00:00\", \"2009-08-16T00:00:00\", \"2009-08-17T00:00:00\", \"2009-08-18T00:00:00\", \"2009-08-19T00:00:00\", \"2009-08-20T00:00:00\", \"2009-08-21T00:00:00\", \"2009-08-22T00:00:00\", \"2009-08-23T00:00:00\", \"2009-08-24T00:00:00\", \"2009-08-25T00:00:00\", \"2009-08-26T00:00:00\", \"2009-08-27T00:00:00\", \"2009-08-28T00:00:00\", \"2009-08-29T00:00:00\", \"2009-08-30T00:00:00\", \"2009-08-31T00:00:00\", \"2009-09-01T00:00:00\", \"2009-09-02T00:00:00\", \"2009-09-03T00:00:00\", \"2009-09-04T00:00:00\", \"2009-09-05T00:00:00\", \"2009-09-06T00:00:00\", \"2009-09-07T00:00:00\", \"2009-09-08T00:00:00\", \"2009-09-09T00:00:00\", \"2009-09-10T00:00:00\", \"2009-09-11T00:00:00\", \"2009-09-12T00:00:00\", \"2009-09-13T00:00:00\", \"2009-09-14T00:00:00\", \"2009-09-15T00:00:00\", \"2009-09-16T00:00:00\", \"2009-09-17T00:00:00\", \"2009-09-18T00:00:00\", \"2009-09-19T00:00:00\", \"2009-09-20T00:00:00\", \"2009-09-21T00:00:00\", \"2009-09-22T00:00:00\", \"2009-09-23T00:00:00\", \"2009-09-24T00:00:00\", \"2009-09-25T00:00:00\", \"2009-09-26T00:00:00\", \"2009-09-27T00:00:00\", \"2009-09-28T00:00:00\", \"2009-09-29T00:00:00\", \"2009-09-30T00:00:00\", \"2009-10-01T00:00:00\", \"2009-10-02T00:00:00\", \"2009-10-03T00:00:00\", \"2009-10-04T00:00:00\", \"2009-10-05T00:00:00\", \"2009-10-06T00:00:00\", \"2009-10-07T00:00:00\", \"2009-10-08T00:00:00\", \"2009-10-09T00:00:00\", \"2009-10-10T00:00:00\", \"2009-10-11T00:00:00\", \"2009-10-12T00:00:00\", \"2009-10-13T00:00:00\", \"2009-10-14T00:00:00\", \"2009-10-15T00:00:00\", \"2009-10-16T00:00:00\", \"2009-10-17T00:00:00\", \"2009-10-18T00:00:00\", \"2009-10-19T00:00:00\", \"2009-10-20T00:00:00\", \"2009-10-21T00:00:00\", \"2009-10-22T00:00:00\", \"2009-10-23T00:00:00\", \"2009-10-24T00:00:00\", \"2009-10-25T00:00:00\", \"2009-10-26T00:00:00\", \"2009-10-27T00:00:00\", \"2009-10-28T00:00:00\", \"2009-10-29T00:00:00\", \"2009-10-30T00:00:00\", \"2009-10-31T00:00:00\", \"2009-11-01T00:00:00\", \"2009-11-02T00:00:00\", \"2009-11-03T00:00:00\", \"2009-11-04T00:00:00\", \"2009-11-05T00:00:00\", \"2009-11-06T00:00:00\", \"2009-11-07T00:00:00\", \"2009-11-08T00:00:00\", \"2009-11-09T00:00:00\", \"2009-11-10T00:00:00\", \"2009-11-11T00:00:00\", \"2009-11-12T00:00:00\", \"2009-11-13T00:00:00\", \"2009-11-14T00:00:00\", \"2009-11-15T00:00:00\", \"2009-11-16T00:00:00\", \"2009-11-17T00:00:00\", \"2009-11-18T00:00:00\", \"2009-11-19T00:00:00\", \"2009-11-20T00:00:00\", \"2009-11-21T00:00:00\", \"2009-11-22T00:00:00\", \"2009-11-23T00:00:00\", \"2009-11-24T00:00:00\", \"2009-11-25T00:00:00\", \"2009-11-26T00:00:00\", \"2009-11-27T00:00:00\", \"2009-11-28T00:00:00\", \"2009-11-29T00:00:00\", \"2009-11-30T00:00:00\", \"2009-12-01T00:00:00\", \"2009-12-02T00:00:00\", \"2009-12-03T00:00:00\", \"2009-12-04T00:00:00\", \"2009-12-05T00:00:00\", \"2009-12-06T00:00:00\", \"2009-12-07T00:00:00\", \"2009-12-08T00:00:00\", \"2009-12-09T00:00:00\", \"2009-12-10T00:00:00\", \"2009-12-11T00:00:00\", \"2009-12-12T00:00:00\", \"2009-12-13T00:00:00\", \"2009-12-14T00:00:00\", \"2009-12-15T00:00:00\", \"2009-12-16T00:00:00\", \"2009-12-17T00:00:00\", \"2009-12-18T00:00:00\", \"2009-12-19T00:00:00\", \"2009-12-20T00:00:00\", \"2009-12-21T00:00:00\", \"2009-12-22T00:00:00\", \"2009-12-23T00:00:00\", \"2009-12-24T00:00:00\", \"2009-12-25T00:00:00\", \"2009-12-26T00:00:00\", \"2009-12-27T00:00:00\", \"2009-12-28T00:00:00\", \"2009-12-29T00:00:00\", \"2009-12-30T00:00:00\", \"2009-12-31T00:00:00\", \"2010-01-01T00:00:00\", \"2010-01-02T00:00:00\", \"2010-01-03T00:00:00\", \"2010-01-04T00:00:00\", \"2010-01-05T00:00:00\", \"2010-01-06T00:00:00\", \"2010-01-07T00:00:00\", \"2010-01-08T00:00:00\", \"2010-01-09T00:00:00\", \"2010-01-10T00:00:00\", \"2010-01-11T00:00:00\", \"2010-01-12T00:00:00\", \"2010-01-13T00:00:00\", \"2010-01-14T00:00:00\", \"2010-01-15T00:00:00\", \"2010-01-16T00:00:00\", \"2010-01-17T00:00:00\", \"2010-01-18T00:00:00\", \"2010-01-19T00:00:00\", \"2010-01-20T00:00:00\", \"2010-01-21T00:00:00\", \"2010-01-22T00:00:00\", \"2010-01-23T00:00:00\", \"2010-01-24T00:00:00\", \"2010-01-25T00:00:00\", \"2010-01-26T00:00:00\", \"2010-01-27T00:00:00\", \"2010-01-28T00:00:00\", \"2010-01-29T00:00:00\", \"2010-01-30T00:00:00\", \"2010-01-31T00:00:00\", \"2010-02-01T00:00:00\", \"2010-02-02T00:00:00\", \"2010-02-03T00:00:00\", \"2010-02-04T00:00:00\", \"2010-02-05T00:00:00\", \"2010-02-06T00:00:00\", \"2010-02-07T00:00:00\", \"2010-02-08T00:00:00\", \"2010-02-09T00:00:00\", \"2010-02-10T00:00:00\", \"2010-02-11T00:00:00\", \"2010-02-12T00:00:00\", \"2010-02-13T00:00:00\", \"2010-02-14T00:00:00\", \"2010-02-15T00:00:00\", \"2010-02-16T00:00:00\", \"2010-02-17T00:00:00\", \"2010-02-18T00:00:00\", \"2010-02-19T00:00:00\", \"2010-02-20T00:00:00\", \"2010-02-21T00:00:00\", \"2010-02-22T00:00:00\", \"2010-02-23T00:00:00\", \"2010-02-24T00:00:00\", \"2010-02-25T00:00:00\", \"2010-02-26T00:00:00\", \"2010-02-27T00:00:00\", \"2010-02-28T00:00:00\", \"2010-03-01T00:00:00\", \"2010-03-02T00:00:00\", \"2010-03-03T00:00:00\", \"2010-03-04T00:00:00\", \"2010-03-05T00:00:00\", \"2010-03-06T00:00:00\", \"2010-03-07T00:00:00\", \"2010-03-08T00:00:00\", \"2010-03-09T00:00:00\", \"2010-03-10T00:00:00\", \"2010-03-11T00:00:00\", \"2010-03-12T00:00:00\", \"2010-03-13T00:00:00\", \"2010-03-14T00:00:00\", \"2010-03-15T00:00:00\", \"2010-03-16T00:00:00\", \"2010-03-17T00:00:00\", \"2010-03-18T00:00:00\", \"2010-03-19T00:00:00\", \"2010-03-20T00:00:00\", \"2010-03-21T00:00:00\", \"2010-03-22T00:00:00\", \"2010-03-23T00:00:00\", \"2010-03-24T00:00:00\", \"2010-03-25T00:00:00\", \"2010-03-26T00:00:00\", \"2010-03-27T00:00:00\", \"2010-03-28T00:00:00\", \"2010-03-29T00:00:00\", \"2010-03-30T00:00:00\", \"2010-03-31T00:00:00\", \"2010-04-01T00:00:00\", \"2010-04-02T00:00:00\", \"2010-04-03T00:00:00\", \"2010-04-04T00:00:00\", \"2010-04-05T00:00:00\", \"2010-04-06T00:00:00\", \"2010-04-07T00:00:00\", \"2010-04-08T00:00:00\", \"2010-04-09T00:00:00\", \"2010-04-10T00:00:00\", \"2010-04-11T00:00:00\", \"2010-04-12T00:00:00\", \"2010-04-13T00:00:00\", \"2010-04-14T00:00:00\", \"2010-04-15T00:00:00\", \"2010-04-16T00:00:00\", \"2010-04-17T00:00:00\", \"2010-04-18T00:00:00\", \"2010-04-19T00:00:00\", \"2010-04-20T00:00:00\", \"2010-04-21T00:00:00\", \"2010-04-22T00:00:00\", \"2010-04-23T00:00:00\", \"2010-04-24T00:00:00\", \"2010-04-25T00:00:00\", \"2010-04-26T00:00:00\", \"2010-04-27T00:00:00\", \"2010-04-28T00:00:00\", \"2010-04-29T00:00:00\", \"2010-04-30T00:00:00\", \"2010-05-01T00:00:00\", \"2010-05-02T00:00:00\", \"2010-05-03T00:00:00\", \"2010-05-04T00:00:00\", \"2010-05-05T00:00:00\", \"2010-05-06T00:00:00\", \"2010-05-07T00:00:00\", \"2010-05-08T00:00:00\", \"2010-05-09T00:00:00\", \"2010-05-10T00:00:00\", \"2010-05-11T00:00:00\", \"2010-05-12T00:00:00\", \"2010-05-13T00:00:00\", \"2010-05-14T00:00:00\", \"2010-05-15T00:00:00\", \"2010-05-16T00:00:00\", \"2010-05-17T00:00:00\", \"2010-05-18T00:00:00\", \"2010-05-19T00:00:00\", \"2010-05-20T00:00:00\", \"2010-05-21T00:00:00\", \"2010-05-22T00:00:00\", \"2010-05-23T00:00:00\", \"2010-05-24T00:00:00\", \"2010-05-25T00:00:00\", \"2010-05-26T00:00:00\", \"2010-05-27T00:00:00\", \"2010-05-28T00:00:00\", \"2010-05-29T00:00:00\", \"2010-05-30T00:00:00\", \"2010-05-31T00:00:00\", \"2010-06-01T00:00:00\", \"2010-06-02T00:00:00\", \"2010-06-03T00:00:00\", \"2010-06-04T00:00:00\", \"2010-06-05T00:00:00\", \"2010-06-06T00:00:00\", \"2010-06-07T00:00:00\", \"2010-06-08T00:00:00\", \"2010-06-09T00:00:00\", \"2010-06-10T00:00:00\", \"2010-06-11T00:00:00\", \"2010-06-12T00:00:00\", \"2010-06-13T00:00:00\", \"2010-06-14T00:00:00\", \"2010-06-15T00:00:00\", \"2010-06-16T00:00:00\", \"2010-06-17T00:00:00\", \"2010-06-18T00:00:00\", \"2010-06-19T00:00:00\", \"2010-06-20T00:00:00\", \"2010-06-21T00:00:00\", \"2010-06-22T00:00:00\", \"2010-06-23T00:00:00\", \"2010-06-24T00:00:00\", \"2010-06-25T00:00:00\", \"2010-06-26T00:00:00\", \"2010-06-27T00:00:00\", \"2010-06-28T00:00:00\", \"2010-06-29T00:00:00\", \"2010-06-30T00:00:00\", \"2010-07-01T00:00:00\", \"2010-07-02T00:00:00\", \"2010-07-03T00:00:00\", \"2010-07-04T00:00:00\", \"2010-07-05T00:00:00\", \"2010-07-06T00:00:00\", \"2010-07-07T00:00:00\", \"2010-07-08T00:00:00\", \"2010-07-09T00:00:00\", \"2010-07-10T00:00:00\", \"2010-07-11T00:00:00\", \"2010-07-12T00:00:00\", \"2010-07-13T00:00:00\", \"2010-07-14T00:00:00\", \"2010-07-15T00:00:00\", \"2010-07-16T00:00:00\", \"2010-07-17T00:00:00\", \"2010-07-18T00:00:00\", \"2010-07-19T00:00:00\", \"2010-07-20T00:00:00\", \"2010-07-21T00:00:00\", \"2010-07-22T00:00:00\", \"2010-07-23T00:00:00\", \"2010-07-24T00:00:00\", \"2010-07-25T00:00:00\", \"2010-07-26T00:00:00\", \"2010-07-27T00:00:00\", \"2010-07-28T00:00:00\", \"2010-07-29T00:00:00\", \"2010-07-30T00:00:00\", \"2010-07-31T00:00:00\", \"2010-08-01T00:00:00\", \"2010-08-02T00:00:00\", \"2010-08-03T00:00:00\", \"2010-08-04T00:00:00\", \"2010-08-05T00:00:00\", \"2010-08-06T00:00:00\", \"2010-08-07T00:00:00\", \"2010-08-08T00:00:00\", \"2010-08-09T00:00:00\", \"2010-08-10T00:00:00\", \"2010-08-11T00:00:00\", \"2010-08-12T00:00:00\", \"2010-08-13T00:00:00\", \"2010-08-14T00:00:00\", \"2010-08-15T00:00:00\", \"2010-08-16T00:00:00\", \"2010-08-17T00:00:00\", \"2010-08-18T00:00:00\", \"2010-08-19T00:00:00\", \"2010-08-20T00:00:00\", \"2010-08-21T00:00:00\", \"2010-08-22T00:00:00\", \"2010-08-23T00:00:00\", \"2010-08-24T00:00:00\", \"2010-08-25T00:00:00\", \"2010-08-26T00:00:00\", \"2010-08-27T00:00:00\", \"2010-08-28T00:00:00\", \"2010-08-29T00:00:00\", \"2010-08-30T00:00:00\", \"2010-08-31T00:00:00\", \"2010-09-01T00:00:00\", \"2010-09-02T00:00:00\", \"2010-09-03T00:00:00\", \"2010-09-04T00:00:00\", \"2010-09-05T00:00:00\", \"2010-09-06T00:00:00\", \"2010-09-07T00:00:00\", \"2010-09-08T00:00:00\", \"2010-09-09T00:00:00\", \"2010-09-10T00:00:00\", \"2010-09-11T00:00:00\", \"2010-09-12T00:00:00\", \"2010-09-13T00:00:00\", \"2010-09-14T00:00:00\", \"2010-09-15T00:00:00\", \"2010-09-16T00:00:00\", \"2010-09-17T00:00:00\", \"2010-09-18T00:00:00\", \"2010-09-19T00:00:00\", \"2010-09-20T00:00:00\", \"2010-09-21T00:00:00\", \"2010-09-22T00:00:00\", \"2010-09-23T00:00:00\", \"2010-09-24T00:00:00\", \"2010-09-25T00:00:00\", \"2010-09-26T00:00:00\", \"2010-09-27T00:00:00\", \"2010-09-28T00:00:00\", \"2010-09-29T00:00:00\", \"2010-09-30T00:00:00\", \"2010-10-01T00:00:00\", \"2010-10-02T00:00:00\", \"2010-10-03T00:00:00\", \"2010-10-04T00:00:00\", \"2010-10-05T00:00:00\", \"2010-10-06T00:00:00\", \"2010-10-07T00:00:00\", \"2010-10-08T00:00:00\", \"2010-10-09T00:00:00\", \"2010-10-10T00:00:00\", \"2010-10-11T00:00:00\", \"2010-10-12T00:00:00\", \"2010-10-13T00:00:00\", \"2010-10-14T00:00:00\", \"2010-10-15T00:00:00\", \"2010-10-16T00:00:00\", \"2010-10-17T00:00:00\", \"2010-10-18T00:00:00\", \"2010-10-19T00:00:00\", \"2010-10-20T00:00:00\", \"2010-10-21T00:00:00\", \"2010-10-22T00:00:00\", \"2010-10-23T00:00:00\", \"2010-10-24T00:00:00\", \"2010-10-25T00:00:00\", \"2010-10-26T00:00:00\", \"2010-10-27T00:00:00\", \"2010-10-28T00:00:00\", \"2010-10-29T00:00:00\", \"2010-10-30T00:00:00\", \"2010-10-31T00:00:00\", \"2010-11-01T00:00:00\", \"2010-11-02T00:00:00\", \"2010-11-03T00:00:00\", \"2010-11-04T00:00:00\", \"2010-11-05T00:00:00\", \"2010-11-06T00:00:00\", \"2010-11-07T00:00:00\", \"2010-11-08T00:00:00\", \"2010-11-09T00:00:00\", \"2010-11-10T00:00:00\", \"2010-11-11T00:00:00\", \"2010-11-12T00:00:00\", \"2010-11-13T00:00:00\", \"2010-11-14T00:00:00\", \"2010-11-15T00:00:00\", \"2010-11-16T00:00:00\", \"2010-11-17T00:00:00\", \"2010-11-18T00:00:00\", \"2010-11-19T00:00:00\", \"2010-11-20T00:00:00\", \"2010-11-21T00:00:00\", \"2010-11-22T00:00:00\", \"2010-11-23T00:00:00\", \"2010-11-24T00:00:00\", \"2010-11-25T00:00:00\", \"2010-11-26T00:00:00\", \"2010-11-27T00:00:00\", \"2010-11-28T00:00:00\", \"2010-11-29T00:00:00\", \"2010-11-30T00:00:00\", \"2010-12-01T00:00:00\", \"2010-12-02T00:00:00\", \"2010-12-03T00:00:00\", \"2010-12-04T00:00:00\", \"2010-12-05T00:00:00\", \"2010-12-06T00:00:00\", \"2010-12-07T00:00:00\", \"2010-12-08T00:00:00\", \"2010-12-09T00:00:00\", \"2010-12-10T00:00:00\", \"2010-12-11T00:00:00\", \"2010-12-12T00:00:00\", \"2010-12-13T00:00:00\", \"2010-12-14T00:00:00\", \"2010-12-15T00:00:00\", \"2010-12-16T00:00:00\", \"2010-12-17T00:00:00\", \"2010-12-18T00:00:00\", \"2010-12-19T00:00:00\", \"2010-12-20T00:00:00\", \"2010-12-21T00:00:00\", \"2010-12-22T00:00:00\", \"2010-12-23T00:00:00\", \"2010-12-24T00:00:00\", \"2010-12-25T00:00:00\", \"2010-12-26T00:00:00\", \"2010-12-27T00:00:00\", \"2010-12-28T00:00:00\", \"2010-12-29T00:00:00\", \"2010-12-30T00:00:00\", \"2010-12-31T00:00:00\", \"2011-01-01T00:00:00\", \"2011-01-02T00:00:00\", \"2011-01-03T00:00:00\", \"2011-01-04T00:00:00\", \"2011-01-05T00:00:00\", \"2011-01-06T00:00:00\", \"2011-01-07T00:00:00\", \"2011-01-08T00:00:00\", \"2011-01-09T00:00:00\", \"2011-01-10T00:00:00\", \"2011-01-11T00:00:00\", \"2011-01-12T00:00:00\", \"2011-01-13T00:00:00\", \"2011-01-14T00:00:00\", \"2011-01-15T00:00:00\", \"2011-01-16T00:00:00\", \"2011-01-17T00:00:00\", \"2011-01-18T00:00:00\", \"2011-01-19T00:00:00\", \"2011-01-20T00:00:00\", \"2011-01-21T00:00:00\", \"2011-01-22T00:00:00\", \"2011-01-23T00:00:00\", \"2011-01-24T00:00:00\", \"2011-01-25T00:00:00\", \"2011-01-26T00:00:00\", \"2011-01-27T00:00:00\", \"2011-01-28T00:00:00\", \"2011-01-29T00:00:00\", \"2011-01-30T00:00:00\", \"2011-01-31T00:00:00\", \"2011-02-01T00:00:00\", \"2011-02-02T00:00:00\", \"2011-02-03T00:00:00\", \"2011-02-04T00:00:00\", \"2011-02-05T00:00:00\", \"2011-02-06T00:00:00\", \"2011-02-07T00:00:00\", \"2011-02-08T00:00:00\", \"2011-02-09T00:00:00\", \"2011-02-10T00:00:00\", \"2011-02-11T00:00:00\", \"2011-02-12T00:00:00\", \"2011-02-13T00:00:00\", \"2011-02-14T00:00:00\", \"2011-02-15T00:00:00\", \"2011-02-16T00:00:00\", \"2011-02-17T00:00:00\", \"2011-02-18T00:00:00\", \"2011-02-19T00:00:00\", \"2011-02-20T00:00:00\", \"2011-02-21T00:00:00\", \"2011-02-22T00:00:00\", \"2011-02-23T00:00:00\", \"2011-02-24T00:00:00\", \"2011-02-25T00:00:00\", \"2011-02-26T00:00:00\", \"2011-02-27T00:00:00\", \"2011-02-28T00:00:00\", \"2011-03-01T00:00:00\", \"2011-03-02T00:00:00\", \"2011-03-03T00:00:00\", \"2011-03-04T00:00:00\", \"2011-03-05T00:00:00\", \"2011-03-06T00:00:00\", \"2011-03-07T00:00:00\", \"2011-03-08T00:00:00\", \"2011-03-09T00:00:00\", \"2011-03-10T00:00:00\", \"2011-03-11T00:00:00\", \"2011-03-12T00:00:00\", \"2011-03-13T00:00:00\", \"2011-03-14T00:00:00\", \"2011-03-15T00:00:00\", \"2011-03-16T00:00:00\", \"2011-03-17T00:00:00\", \"2011-03-18T00:00:00\", \"2011-03-19T00:00:00\", \"2011-03-20T00:00:00\", \"2011-03-21T00:00:00\", \"2011-03-22T00:00:00\", \"2011-03-23T00:00:00\", \"2011-03-24T00:00:00\", \"2011-03-25T00:00:00\", \"2011-03-26T00:00:00\", \"2011-03-27T00:00:00\", \"2011-03-28T00:00:00\", \"2011-03-29T00:00:00\", \"2011-03-30T00:00:00\", \"2011-03-31T00:00:00\", \"2011-04-01T00:00:00\", \"2011-04-02T00:00:00\", \"2011-04-03T00:00:00\", \"2011-04-04T00:00:00\", \"2011-04-05T00:00:00\", \"2011-04-06T00:00:00\", \"2011-04-07T00:00:00\", \"2011-04-08T00:00:00\", \"2011-04-09T00:00:00\", \"2011-04-10T00:00:00\", \"2011-04-11T00:00:00\", \"2011-04-12T00:00:00\", \"2011-04-13T00:00:00\", \"2011-04-14T00:00:00\", \"2011-04-15T00:00:00\", \"2011-04-16T00:00:00\", \"2011-04-17T00:00:00\", \"2011-04-18T00:00:00\", \"2011-04-19T00:00:00\", \"2011-04-20T00:00:00\", \"2011-04-21T00:00:00\", \"2011-04-22T00:00:00\", \"2011-04-23T00:00:00\", \"2011-04-24T00:00:00\", \"2011-04-25T00:00:00\", \"2011-04-26T00:00:00\", \"2011-04-27T00:00:00\", \"2011-04-28T00:00:00\", \"2011-04-29T00:00:00\", \"2011-04-30T00:00:00\", \"2011-05-01T00:00:00\", \"2011-05-02T00:00:00\", \"2011-05-03T00:00:00\", \"2011-05-04T00:00:00\", \"2011-05-05T00:00:00\", \"2011-05-06T00:00:00\", \"2011-05-07T00:00:00\", \"2011-05-08T00:00:00\", \"2011-05-09T00:00:00\", \"2011-05-10T00:00:00\", \"2011-05-11T00:00:00\", \"2011-05-12T00:00:00\", \"2011-05-13T00:00:00\", \"2011-05-14T00:00:00\", \"2011-05-15T00:00:00\", \"2011-05-16T00:00:00\", \"2011-05-17T00:00:00\", \"2011-05-18T00:00:00\", \"2011-05-19T00:00:00\", \"2011-05-20T00:00:00\", \"2011-05-21T00:00:00\", \"2011-05-22T00:00:00\", \"2011-05-23T00:00:00\", \"2011-05-24T00:00:00\", \"2011-05-25T00:00:00\", \"2011-05-26T00:00:00\", \"2011-05-27T00:00:00\", \"2011-05-28T00:00:00\", \"2011-05-29T00:00:00\", \"2011-05-30T00:00:00\", \"2011-05-31T00:00:00\", \"2011-06-01T00:00:00\", \"2011-06-02T00:00:00\", \"2011-06-03T00:00:00\", \"2011-06-04T00:00:00\", \"2011-06-05T00:00:00\", \"2011-06-06T00:00:00\", \"2011-06-07T00:00:00\", \"2011-06-08T00:00:00\", \"2011-06-09T00:00:00\", \"2011-06-10T00:00:00\", \"2011-06-11T00:00:00\", \"2011-06-12T00:00:00\", \"2011-06-13T00:00:00\", \"2011-06-14T00:00:00\", \"2011-06-15T00:00:00\", \"2011-06-16T00:00:00\", \"2011-06-17T00:00:00\", \"2011-06-18T00:00:00\", \"2011-06-19T00:00:00\", \"2011-06-20T00:00:00\", \"2011-06-21T00:00:00\", \"2011-06-22T00:00:00\", \"2011-06-23T00:00:00\", \"2011-06-24T00:00:00\", \"2011-06-25T00:00:00\", \"2011-06-26T00:00:00\", \"2011-06-27T00:00:00\", \"2011-06-28T00:00:00\", \"2011-06-29T00:00:00\", \"2011-06-30T00:00:00\", \"2011-07-01T00:00:00\", \"2011-07-02T00:00:00\", \"2011-07-03T00:00:00\", \"2011-07-04T00:00:00\", \"2011-07-05T00:00:00\", \"2011-07-06T00:00:00\", \"2011-07-07T00:00:00\", \"2011-07-08T00:00:00\", \"2011-07-09T00:00:00\", \"2011-07-10T00:00:00\", \"2011-07-11T00:00:00\", \"2011-07-12T00:00:00\", \"2011-07-13T00:00:00\", \"2011-07-14T00:00:00\", \"2011-07-15T00:00:00\", \"2011-07-16T00:00:00\", \"2011-07-17T00:00:00\", \"2011-07-18T00:00:00\", \"2011-07-19T00:00:00\", \"2011-07-20T00:00:00\", \"2011-07-21T00:00:00\", \"2011-07-22T00:00:00\", \"2011-07-23T00:00:00\", \"2011-07-24T00:00:00\", \"2011-07-25T00:00:00\", \"2011-07-26T00:00:00\", \"2011-07-27T00:00:00\", \"2011-07-28T00:00:00\", \"2011-07-29T00:00:00\", \"2011-07-30T00:00:00\", \"2011-07-31T00:00:00\", \"2011-08-01T00:00:00\", \"2011-08-02T00:00:00\", \"2011-08-03T00:00:00\", \"2011-08-04T00:00:00\", \"2011-08-05T00:00:00\", \"2011-08-06T00:00:00\"], \"y\": [0.0, 0.0, 0.0, 179.0, 0.0, 61.0, 500.0, 200.0, 0.0, 150.0, 775.0, 400.0, 100.0, 500.0, 450.0, 500.0, 50.0, 1000.0, 150.0, 0.0, 600.0, 0.0, 1000.0, 100.0, 50.0, 736.52, 0.0, 0.0, 0.0, 1198.0, 1000.0, 2200.0, 0.0, 550.04, 0.0, 0.0, 0.0, 900.0, 1500.0, 0.0, 0.0, 800.0, 0.0, 0.0, 1050.0, 0.0, 0.0, 0.0, 0.0, 1800.0, 350.0, 0.0, 0.0, 400.0, 1250.0, 400.0, 0.0, 0.0, 1550.0, 0.0, 0.0, 0.0, 150.0, 750.0, 0.0, 0.0, 2400.0, 0.0, 700.0, 0.0, 600.0, 0.0, 550.0, 0.0, 0.0, 0.0, 1400.0, 0.0, 1000.0, 0.0, 0.0, 1600.0, 0.0, 0.0, 0.0, 0.0, 850.0, 0.0, 0.0, 0.0, 0.0, 0.0, 350.0, 950.0, 50.0, 0.0, 0.0, 0.0, 0.0, 182.51, 400.0, 5750.0, 50.0, 0.0, 0.0, 0.0, 0.0, 750.0, 0.0, 0.0, 1000.0, 0.0, 0.0, 749.94, 110.0, 1500.0, 500.0, 0.0, 0.0, 0.0, 0.0, 0.0, 100.0, 0.0, 150.01, 199.99, 500.0, 0.0, 0.0, 0.0, 0.0, 0.0, 0.0, 0.0, 0.0, 0.0, 0.0, 0.0, 0.0, 0.0, 3000.0, 0.0, 0.0, 50.0, 0.0, 0.0, 0.0, 0.0, 0.0, 0.0, 0.0, 0.0, 0.0, 0.0, 0.0, 0.0, 0.0, 0.0, 0.0, 0.0, 0.0, 0.0, 0.0, 0.0, 3000.0, 0.0, 148.98000000000002, 1000.0, 0.0, 0.0, 50.0, 50.0, 95.0, 100.0, 50.0, 0.0, 0.0, 0.0, 0.0, 0.0, 0.0, 0.0, 0.0, 0.0, 0.0, 0.0, 0.0, 0.0, 0.0, 0.0, 0.0, 0.0, 6049.67, 0.0, 0.0, 0.0, 0.0, 0.0, 0.0, 0.0, 0.0, 100.0, 50.0, 0.0, 0.0, 0.0, 0.0, 0.0, 0.0, 0.0, 5549.530000000001, 0.0, 0.0, 0.0, 0.0, 0.0, 0.0, 0.0, 0.0, 0.0, 0.0, 0.0, 0.0, 0.0, 0.0, 0.0, 0.0, 0.0, 0.0, 2348.0600000000004, 0.0, 0.0, 0.0, 50.0, 300.0, 0.0, 0.0, 700.0, 0.0, 0.0, 0.0, 650.0, 0.0, 0.0, 0.0, 0.0, 0.0, 0.0, 0.0, 0.0, 1.0, 5050.0, 0.0, 0.0, 0.0, 400.0, 2000.0, 0.0, 0.0, 1300.0, 0.0, 800.0, 0.0, 2150.0, 0.0, 0.0, 500.0, 0.0, 0.0, 0.0, 900.0, 0.0, 0.0, 0.0, 0.0, 0.0, 5050.0, 0.0, 0.0, 0.0, 9700.0, 0.0, 350.0, 0.0, 5049.88, 899.76, 11950.0, 0.0, 12300.0, 0.0, 0.0, 13050.0, 0.0, 2050.0, 0.0, 0.0, 0.0, 0.0, 0.0, 15500.0, 0.0, 0.0, 0.0, 0.0, 0.0, 0.0, 90000.0, 0.0, 600.0, 0.0, 0.0, 0.0, 0.0, 0.0, 44400.0, 0.0, 0.0, 0.0, 0.0, 0.0, 0.0, 0.0, 0.0, 0.0, 0.0, 0.0, 10050.0, 0.0, 0.0, 0.0, 900.0, 140.0, 0.0, 1500.0, 2355.0, 0.0, 0.0, 5200.0, 0.0, 32591.35, 5459.0, 850.0, 299.5, 0.0, 50.0, 0.0, 50.0, 0.0, 0.0, 0.0, 50.0, 0.0, 250.0, 0.0, 0.0, 0.0, 0.0, 100.0, 0.0, 0.0, 20850.0, 0.0, 0.0, 0.0, 0.0, 0.0, 0.0, 0.0, 10750.0, 58.0, 405.0, 200.74, 251.0, 0.0, 50.0, 0.0, 0.0, 200.0, 250.0, 49.0, 50.0, 3250.0, 724.0, 800.0, 1050.0, 700.0, 1700.0, 1050.0, 800.0, 1050.0, 300.0, 1750.0, 12200.0, 2050.0, 300.0, 6000.0, 20650.0, 30300.0, 3650.0, 3700.0, 6099.0, 8080.0, 4199.98, 713.37, 25631.0, 2650.0, 50.0, 550.0, 5816.83, 14200.0, 50.0, 5300.0, 7100.0, 10900.0, 451.0, 5250.0, 1400.0, 2000.0, 8001.0, 19350.0, 150.0, 23747.39, 5700.0, 9045.18, 4050.0, 2550.0, 3200.0, 350.0, 1800.0, 1200.0, 100.0, 1201.0, 1250.0, 3850.0, 6346.0, 3355.0, 302.0, 1950.0, 3836.9300000000003, 1700.0, 16950.0, 4000.0, 2600.0, 2100.0, 3400.0, 400.0, 1474.2, 1300.0, 1000.0, 1723.48, 3200.0, 6338.74, 5044.0, 5303.14, 2988.74, 11754.16, 13654.349999999999, 12434.06, 12202.789999999999, 2310.0, 5846.89, 57694.48999999999, 12489.880000000001, 3643.88, 7336.05, 15866.19, 10537.0, 7018.8, 18694.48, 2375.05, 10201.06, 14949.9, 9803.07, 7513.0, 7467.72, 3043.71, 38317.32, 4946.6, 1999.0, 6950.0, 17154.02, 18362.72, 14001.0, 22827.0, 13810.26, 4947.88, 7913.780000000001, 1650.1, 17969.11, 8961.560000000001, 15258.82000000007, 2714.6400000000513, 2088.64, 9196.48, 7112.0, 12955.91, 3133.0, 37653.979999999996, 26171.98999999998, 19088.36, 4541.0, 5400.0, 14668.970000000001, 10442.810000000001, 26021.23, 27457.77, 5162.3, 6260.0, 6887.25, 7005.41, 8873.550000000001, 32400.0, 4050.0, 6403.31, 23998.799999999996, 9000.0, 36826.29, 20672.11, 7575.240000000001, 12774.09, 12024.0, 17111.010000000002, 13423.0, 24324.079999999998, 17268.0, 9717.0, 43240.18, 18595.0, 5207.09, 12232.44, 21270.0, 21373.37, 11565.0, 35380.0, 5464.0, 13655.05, 26501.100000000002, 47831.380000000216, 22175.89, 52765.91999999971, 34472.0, 16019.5, 39407.01, 18485.0, 25001.48, 7211.94, 5891.0, 12063.54, 20002.0, 109622.28, 27692.69, 44278.55999999992, 72869.46000000021, 26677.129999999994, 20620.349999999984, 27445.079999999994, 27729.41999999998, 13973.190000000002, 17351.399999999998, 30751.039999999997, 16023.130000000003, 36176.61000000001, 26554.679999999982, 64029.16000000001, 16712.96, 65454.01000000027, 11755.920000000002, 15788.47000000002, 11668.440000000019, 62565.95000000001, 61428.61000000004, 22512.459999999966, 11689.019999999999, 21523.589999999924, 14364.969999999994, 15724.060000000018, 8376.04, 50297.63000000051, 16359.910000000005, 31852.01999999999, 11550.74, 22883.569999999952, 6383.29000000004, 9853.12000000001, 42336.41000000012, 25287.819999999992, 26116.83000000007, 14393.47, 17038.319999999996, 29450.8, 10210.230000000001, 12747.859999999999, 13557.220000000087, 9990.109999999997, 12157.460000000001, 23575.739999999998, 12139.140000000009, 7706.260000000001, 12416.600000500004, 31311.46999899985, 21843.889998900002, 19896.720000099995, 16861.809999999998, 15725.550000000003, 69869.11, 69469.15999840002, 14894.79, 15098.739998399995, 26243.339998199994, 10364.219997999995, 6773.820000000002, 17663.13000030001, 67282.50000010004, 18675.409999999993, 26679.17039647998, 24176.859999999997, 42349.809999999976, 24122.23999999999, 31326.40960352, 28087.289999999983, 14958.540000099994, 32519.96, 76422.29000000001, 11890.469999999994, 22926.169999999987, 17467.67, 28033.929999999997, 72248.65000010004, 29448.309999999998, 29633.589999999964, 47868.56280516001, 160928.63776813008, 33769.50776624998, 75330.24000099, 114717.1300001, 73126.20000109, 81296.98999999999, 95852.39, 115183.27999999997, 66588.37999999999, 44658.02000109, 48091.770000000004, 35507.149999999994, 79087.59, 67810.14000000001, 74360.76000108999, 10372.460000000001, 32688.879999999976, 38718.200000000004, 38228.89000000001, 90615.41776615, 44771.36, 26901.50999999998, 62312.04, 45840.46, 58704.83, 78415.98999999998, 89780.85, 36231.65999999997, 26332.539999999997, 44091.19000000002, 26255.920000000002, 36468.02, 31121.34, 104670.87108787996, 29800.649999999994, 94399.26, 33182.65999999996, 279291.81, 23621.23, 27835.55999999999, 16095.189999999997, 14186.019999999999, 22532.839999999982, 26812.01999999999, 55377.06000000002, 24884.269999999444, 26870.789999999997, 21471.141087879998, 23780.089999999997, 32143.12999999998, 26712.43999999999, 18225.07, 32927.56999999998, 24998.469999999274, 37916.829999999376, 71167.12999999999, 19306.740000000005, 19173.819999999992, 28870.51000000001, 46203.22999999998, 33561.119999999995, 39484.94000000001, 22180.919999999984, 41218.86000000001, 16517.269999999997, 92442.19613297007, 60730.72434402001, 21194.95528565998, 24769.22727260999, 14203.599999999995, 45222.78702585998, 14824.946446029993, 61512.87229398002, 21664.46152495998, 26328.923733559954, 21527.17356945998, 17696.83544415989, 29512.766742749987, 55276.51693557004, 28747.00571343996, 47942.55645979997, 22276.918473999987, 9470.750000000002, 11291.057480649997, 22810.35743051999, 11501.59903786, 50774.31664133, 22947.40395765, 78938.08258158005, 30381.222385519966, 21493.263350609996, 11299.599152580002, 23673.322665539992, 26759.66330125985, 10551.935427140023, 18523.452956499976, 16099.778270440016, 21187.270895039914, 25224.299999999927, 14915.75234567003, 39009.77856028011, 62699.17767408029, 20902.322016380003, 77059.22373139962, 44270.256532610205, 23423.202369389903, 26168.028532419943, 31724.74434999998, 65068.00768351004, 39278.73370811998, 31436.227189919988, 30444.64343509998, 39188.69519579004, 51522.10091382003, 39444.01163881007, 22592.03905919, 32530.129999999976, 449846.86905919027, 19491.009999999984, 38482.551956079915, 22073.628680419974, 73417.98982324993, 72015.40188265005, 83712.20104348008, 44095.31801298996, 30438.208821049935, 39678.28643022998, 50511.411125880004, 87021.27138345996, 43298.35098489002, 62268.515525200026, 48668.284676059906, 62129.78123989028, 35531.252697189855, 28021.148179749962, 57414.761377250215, 35098.35395606996, 19070.925912149996, 16718.48395606998, 38442.513689589876, 22010.839999999876, 43256.41999999996, 24056.919999999987, 32384.57546821994, 28796.417853769977, 45545.22769472005, 30873.468666239958, 43223.41049575009, 85013.25000000003, 53832.3178537702, 425562.0544537702, 224654.72769556692, 58190.89249414006, 104034.7324140699, 36076.10302085028, 73498.25189999999, 95466.1147638602, 47180.855826419975, 26591.946130409942, 47971.085130389925, 35850.68335572994, 40359.160255559924, 69233.51679294, 121064.00011475944, 45708.63358433994, 43637.04749347993, 44167.00939294994, 30590.93085556989, 20231.94779294997, 20517.13160804005, 32415.034321749525, 49563.3668897398, 42554.92756269911, 65131.85582654032, 42786.2693661403, 65959.93265963973, 49476.63657619979, 32641.91246611981, 25229.017749259838, 40082.643670510064, 41164.85144363962, 22061.568271050022, 46233.94472045996, 21440.193133719957, 55355.69821107996, 45218.45338474995, 30638.66229748989, 30210.47696610992, 49779.19458325996, 39584.23010000004, 24196.63268920997, 34435.86855368978, 58592.289594710004, 52006.18322689, 74169.20046611995, 54587.37182745993, 57234.645358032474, 98664.02064346978, 73386.4322567999, 133864.28217757962, 141111.88145727647, 68420.93927482, 97838.74535901994, 93646.76066554997, 55826.59516102005, 42651.97177197996, 50131.518949349935, 63431.3808973499, 62913.54779904002, 340193.6458553102, 275074.0156888396, 65981.39967360982, 41648.39382221979, 71093.55107162995, 135736.76317775992, 43347.86767830001, 86979.30052150006, 64827.47787708998, 244608.21594633986, 53618.56587823978, 267915.0466299299, 97421.08538559977, 115385.32670883997, 318468.9605973735, 336187.36990668083, 131828.19624154977, 145998.27690565938, 106913.56559252006, 82828.45800416938, 66455.5963012404, 78120.93839545998, 360994.4774777614, 335753.3228612447, 150510.0571936381, 48882.11406751972, 47895.05103946995, 70172.12534271952, 350151.9867151509, 34880.92693684993, 43450.99328972998, 45700.62053018966, 69200.64591195979, 61936.63251520004, 77638.81602080929, 141148.50323685017, 81680.5164620094, 104042.78534411933, 253959.76464221056, 89203.3839762201, 205888.25918875157, 170393.7327448291, 291009.31874976255, 170513.90728128722, 613969.2402392051, 141118.54635021932, 308446.740213263, 268093.27480181033, 282500.78344750067, 231151.53242486983, 173581.86933728156, 925926.4917520566, 199750.18233971877, 186582.5815988682, 179170.2923519599, 599858.6655017594, 159591.12982238122, 170347.50358474965, 174268.25608893938, 243139.6984720213, 190732.42856124247, 161630.3090256004, 168923.80159760156, 163917.5329714504, 162002.60659507135, 114649.27670292962, 138661.548222259, 115000.59013437844, 122239.55678333866, 95724.26088673867, 79052.61909025932, 91816.93270915943, 102397.13361214902, 99900.2538472693, 89834.51006197858, 104806.83392770024, 87120.07566280993, 78688.64190642959, 78082.9603225299, 81615.28766024942, 575059.2351675942, 89335.36144178968, 212166.2799971013, 72873.4679929299, 80818.29531342974, 62778.90759775016, 68514.34944388956, 78861.07378600001, 75435.1124700097, 69390.31090207936, 90769.6975614595, 60367.58590942986, 65003.73696441979, 182390.38768529127, 198668.35648586953, 78226.21695711021, 106432.07811943979, 82872.58018520994, 141346.8131778694, 122183.70646227956]}, {\"mode\": \"markers\", \"name\": \"UTXO Netnew\", \"type\": \"scatter\", \"x\": [\"2009-01-09T00:00:00\", \"2009-01-10T00:00:00\", \"2009-01-11T00:00:00\", \"2009-01-12T00:00:00\", \"2009-01-13T00:00:00\", \"2009-01-14T00:00:00\", \"2009-01-15T00:00:00\", \"2009-01-16T00:00:00\", \"2009-01-17T00:00:00\", \"2009-01-18T00:00:00\", \"2009-01-19T00:00:00\", \"2009-01-20T00:00:00\", \"2009-01-21T00:00:00\", \"2009-01-22T00:00:00\", \"2009-01-23T00:00:00\", \"2009-01-24T00:00:00\", \"2009-01-25T00:00:00\", \"2009-01-26T00:00:00\", \"2009-01-27T00:00:00\", \"2009-01-28T00:00:00\", \"2009-01-29T00:00:00\", \"2009-01-30T00:00:00\", \"2009-01-31T00:00:00\", \"2009-02-01T00:00:00\", \"2009-02-02T00:00:00\", \"2009-02-03T00:00:00\", \"2009-02-04T00:00:00\", \"2009-02-05T00:00:00\", \"2009-02-06T00:00:00\", \"2009-02-07T00:00:00\", \"2009-02-08T00:00:00\", \"2009-02-09T00:00:00\", \"2009-02-10T00:00:00\", \"2009-02-11T00:00:00\", \"2009-02-12T00:00:00\", \"2009-02-13T00:00:00\", \"2009-02-14T00:00:00\", \"2009-02-15T00:00:00\", \"2009-02-16T00:00:00\", \"2009-02-17T00:00:00\", \"2009-02-18T00:00:00\", \"2009-02-19T00:00:00\", \"2009-02-20T00:00:00\", \"2009-02-21T00:00:00\", \"2009-02-22T00:00:00\", \"2009-02-23T00:00:00\", \"2009-02-24T00:00:00\", \"2009-02-25T00:00:00\", \"2009-02-26T00:00:00\", \"2009-02-27T00:00:00\", \"2009-02-28T00:00:00\", \"2009-03-01T00:00:00\", \"2009-03-02T00:00:00\", \"2009-03-03T00:00:00\", \"2009-03-04T00:00:00\", \"2009-03-05T00:00:00\", \"2009-03-06T00:00:00\", \"2009-03-07T00:00:00\", \"2009-03-08T00:00:00\", \"2009-03-09T00:00:00\", \"2009-03-10T00:00:00\", \"2009-03-11T00:00:00\", \"2009-03-12T00:00:00\", \"2009-03-13T00:00:00\", \"2009-03-14T00:00:00\", \"2009-03-15T00:00:00\", \"2009-03-16T00:00:00\", \"2009-03-17T00:00:00\", \"2009-03-18T00:00:00\", \"2009-03-19T00:00:00\", \"2009-03-20T00:00:00\", \"2009-03-21T00:00:00\", \"2009-03-22T00:00:00\", \"2009-03-23T00:00:00\", \"2009-03-24T00:00:00\", \"2009-03-25T00:00:00\", \"2009-03-26T00:00:00\", \"2009-03-27T00:00:00\", \"2009-03-28T00:00:00\", \"2009-03-29T00:00:00\", \"2009-03-30T00:00:00\", \"2009-03-31T00:00:00\", \"2009-04-01T00:00:00\", \"2009-04-02T00:00:00\", \"2009-04-03T00:00:00\", \"2009-04-04T00:00:00\", \"2009-04-05T00:00:00\", \"2009-04-06T00:00:00\", \"2009-04-07T00:00:00\", \"2009-04-08T00:00:00\", \"2009-04-09T00:00:00\", \"2009-04-10T00:00:00\", \"2009-04-11T00:00:00\", \"2009-04-12T00:00:00\", \"2009-04-13T00:00:00\", \"2009-04-14T00:00:00\", \"2009-04-15T00:00:00\", \"2009-04-16T00:00:00\", \"2009-04-17T00:00:00\", \"2009-04-18T00:00:00\", \"2009-04-19T00:00:00\", \"2009-04-20T00:00:00\", \"2009-04-21T00:00:00\", \"2009-04-22T00:00:00\", \"2009-04-23T00:00:00\", \"2009-04-24T00:00:00\", \"2009-04-25T00:00:00\", \"2009-04-26T00:00:00\", \"2009-04-27T00:00:00\", \"2009-04-28T00:00:00\", \"2009-04-29T00:00:00\", \"2009-04-30T00:00:00\", \"2009-05-01T00:00:00\", \"2009-05-02T00:00:00\", \"2009-05-03T00:00:00\", \"2009-05-04T00:00:00\", \"2009-05-05T00:00:00\", \"2009-05-06T00:00:00\", \"2009-05-07T00:00:00\", \"2009-05-08T00:00:00\", \"2009-05-09T00:00:00\", \"2009-05-10T00:00:00\", \"2009-05-11T00:00:00\", \"2009-05-12T00:00:00\", \"2009-05-13T00:00:00\", \"2009-05-14T00:00:00\", \"2009-05-15T00:00:00\", \"2009-05-16T00:00:00\", \"2009-05-17T00:00:00\", \"2009-05-18T00:00:00\", \"2009-05-19T00:00:00\", \"2009-05-20T00:00:00\", \"2009-05-21T00:00:00\", \"2009-05-22T00:00:00\", \"2009-05-23T00:00:00\", \"2009-05-24T00:00:00\", \"2009-05-25T00:00:00\", \"2009-05-26T00:00:00\", \"2009-05-27T00:00:00\", \"2009-05-28T00:00:00\", \"2009-05-29T00:00:00\", \"2009-05-30T00:00:00\", \"2009-05-31T00:00:00\", \"2009-06-01T00:00:00\", \"2009-06-02T00:00:00\", \"2009-06-03T00:00:00\", \"2009-06-04T00:00:00\", \"2009-06-05T00:00:00\", \"2009-06-06T00:00:00\", \"2009-06-07T00:00:00\", \"2009-06-08T00:00:00\", \"2009-06-09T00:00:00\", \"2009-06-10T00:00:00\", \"2009-06-11T00:00:00\", \"2009-06-12T00:00:00\", \"2009-06-13T00:00:00\", \"2009-06-14T00:00:00\", \"2009-06-15T00:00:00\", \"2009-06-16T00:00:00\", \"2009-06-17T00:00:00\", \"2009-06-18T00:00:00\", \"2009-06-19T00:00:00\", \"2009-06-20T00:00:00\", \"2009-06-21T00:00:00\", \"2009-06-22T00:00:00\", \"2009-06-23T00:00:00\", \"2009-06-24T00:00:00\", \"2009-06-25T00:00:00\", \"2009-06-26T00:00:00\", \"2009-06-27T00:00:00\", \"2009-06-28T00:00:00\", \"2009-06-29T00:00:00\", \"2009-06-30T00:00:00\", \"2009-07-01T00:00:00\", \"2009-07-02T00:00:00\", \"2009-07-03T00:00:00\", \"2009-07-04T00:00:00\", \"2009-07-05T00:00:00\", \"2009-07-06T00:00:00\", \"2009-07-07T00:00:00\", \"2009-07-08T00:00:00\", \"2009-07-09T00:00:00\", \"2009-07-10T00:00:00\", \"2009-07-11T00:00:00\", \"2009-07-12T00:00:00\", \"2009-07-13T00:00:00\", \"2009-07-14T00:00:00\", \"2009-07-15T00:00:00\", \"2009-07-16T00:00:00\", \"2009-07-17T00:00:00\", \"2009-07-18T00:00:00\", \"2009-07-19T00:00:00\", \"2009-07-20T00:00:00\", \"2009-07-21T00:00:00\", \"2009-07-22T00:00:00\", \"2009-07-23T00:00:00\", \"2009-07-24T00:00:00\", \"2009-07-25T00:00:00\", \"2009-07-26T00:00:00\", \"2009-07-27T00:00:00\", \"2009-07-28T00:00:00\", \"2009-07-29T00:00:00\", \"2009-07-30T00:00:00\", \"2009-07-31T00:00:00\", \"2009-08-01T00:00:00\", \"2009-08-02T00:00:00\", \"2009-08-03T00:00:00\", \"2009-08-04T00:00:00\", \"2009-08-05T00:00:00\", \"2009-08-06T00:00:00\", \"2009-08-07T00:00:00\", \"2009-08-08T00:00:00\", \"2009-08-09T00:00:00\", \"2009-08-10T00:00:00\", \"2009-08-11T00:00:00\", \"2009-08-12T00:00:00\", \"2009-08-13T00:00:00\", \"2009-08-14T00:00:00\", \"2009-08-15T00:00:00\", \"2009-08-16T00:00:00\", \"2009-08-17T00:00:00\", \"2009-08-18T00:00:00\", \"2009-08-19T00:00:00\", \"2009-08-20T00:00:00\", \"2009-08-21T00:00:00\", \"2009-08-22T00:00:00\", \"2009-08-23T00:00:00\", \"2009-08-24T00:00:00\", \"2009-08-25T00:00:00\", \"2009-08-26T00:00:00\", \"2009-08-27T00:00:00\", \"2009-08-28T00:00:00\", \"2009-08-29T00:00:00\", \"2009-08-30T00:00:00\", \"2009-08-31T00:00:00\", \"2009-09-01T00:00:00\", \"2009-09-02T00:00:00\", \"2009-09-03T00:00:00\", \"2009-09-04T00:00:00\", \"2009-09-05T00:00:00\", \"2009-09-06T00:00:00\", \"2009-09-07T00:00:00\", \"2009-09-08T00:00:00\", \"2009-09-09T00:00:00\", \"2009-09-10T00:00:00\", \"2009-09-11T00:00:00\", \"2009-09-12T00:00:00\", \"2009-09-13T00:00:00\", \"2009-09-14T00:00:00\", \"2009-09-15T00:00:00\", \"2009-09-16T00:00:00\", \"2009-09-17T00:00:00\", \"2009-09-18T00:00:00\", \"2009-09-19T00:00:00\", \"2009-09-20T00:00:00\", \"2009-09-21T00:00:00\", \"2009-09-22T00:00:00\", \"2009-09-23T00:00:00\", \"2009-09-24T00:00:00\", \"2009-09-25T00:00:00\", \"2009-09-26T00:00:00\", \"2009-09-27T00:00:00\", \"2009-09-28T00:00:00\", \"2009-09-29T00:00:00\", \"2009-09-30T00:00:00\", \"2009-10-01T00:00:00\", \"2009-10-02T00:00:00\", \"2009-10-03T00:00:00\", \"2009-10-04T00:00:00\", \"2009-10-05T00:00:00\", \"2009-10-06T00:00:00\", \"2009-10-07T00:00:00\", \"2009-10-08T00:00:00\", \"2009-10-09T00:00:00\", \"2009-10-10T00:00:00\", \"2009-10-11T00:00:00\", \"2009-10-12T00:00:00\", \"2009-10-13T00:00:00\", \"2009-10-14T00:00:00\", \"2009-10-15T00:00:00\", \"2009-10-16T00:00:00\", \"2009-10-17T00:00:00\", \"2009-10-18T00:00:00\", \"2009-10-19T00:00:00\", \"2009-10-20T00:00:00\", \"2009-10-21T00:00:00\", \"2009-10-22T00:00:00\", \"2009-10-23T00:00:00\", \"2009-10-24T00:00:00\", \"2009-10-25T00:00:00\", \"2009-10-26T00:00:00\", \"2009-10-27T00:00:00\", \"2009-10-28T00:00:00\", \"2009-10-29T00:00:00\", \"2009-10-30T00:00:00\", \"2009-10-31T00:00:00\", \"2009-11-01T00:00:00\", \"2009-11-02T00:00:00\", \"2009-11-03T00:00:00\", \"2009-11-04T00:00:00\", \"2009-11-05T00:00:00\", \"2009-11-06T00:00:00\", \"2009-11-07T00:00:00\", \"2009-11-08T00:00:00\", \"2009-11-09T00:00:00\", \"2009-11-10T00:00:00\", \"2009-11-11T00:00:00\", \"2009-11-12T00:00:00\", \"2009-11-13T00:00:00\", \"2009-11-14T00:00:00\", \"2009-11-15T00:00:00\", \"2009-11-16T00:00:00\", \"2009-11-17T00:00:00\", \"2009-11-18T00:00:00\", \"2009-11-19T00:00:00\", \"2009-11-20T00:00:00\", \"2009-11-21T00:00:00\", \"2009-11-22T00:00:00\", \"2009-11-23T00:00:00\", \"2009-11-24T00:00:00\", \"2009-11-25T00:00:00\", \"2009-11-26T00:00:00\", \"2009-11-27T00:00:00\", \"2009-11-28T00:00:00\", \"2009-11-29T00:00:00\", \"2009-11-30T00:00:00\", \"2009-12-01T00:00:00\", \"2009-12-02T00:00:00\", \"2009-12-03T00:00:00\", \"2009-12-04T00:00:00\", \"2009-12-05T00:00:00\", \"2009-12-06T00:00:00\", \"2009-12-07T00:00:00\", \"2009-12-08T00:00:00\", \"2009-12-09T00:00:00\", \"2009-12-10T00:00:00\", \"2009-12-11T00:00:00\", \"2009-12-12T00:00:00\", \"2009-12-13T00:00:00\", \"2009-12-14T00:00:00\", \"2009-12-15T00:00:00\", \"2009-12-16T00:00:00\", \"2009-12-17T00:00:00\", \"2009-12-18T00:00:00\", \"2009-12-19T00:00:00\", \"2009-12-20T00:00:00\", \"2009-12-21T00:00:00\", \"2009-12-22T00:00:00\", \"2009-12-23T00:00:00\", \"2009-12-24T00:00:00\", \"2009-12-25T00:00:00\", \"2009-12-26T00:00:00\", \"2009-12-27T00:00:00\", \"2009-12-28T00:00:00\", \"2009-12-29T00:00:00\", \"2009-12-30T00:00:00\", \"2009-12-31T00:00:00\", \"2010-01-01T00:00:00\", \"2010-01-02T00:00:00\", \"2010-01-03T00:00:00\", \"2010-01-04T00:00:00\", \"2010-01-05T00:00:00\", \"2010-01-06T00:00:00\", \"2010-01-07T00:00:00\", \"2010-01-08T00:00:00\", \"2010-01-09T00:00:00\", \"2010-01-10T00:00:00\", \"2010-01-11T00:00:00\", \"2010-01-12T00:00:00\", \"2010-01-13T00:00:00\", \"2010-01-14T00:00:00\", \"2010-01-15T00:00:00\", \"2010-01-16T00:00:00\", \"2010-01-17T00:00:00\", \"2010-01-18T00:00:00\", \"2010-01-19T00:00:00\", \"2010-01-20T00:00:00\", \"2010-01-21T00:00:00\", \"2010-01-22T00:00:00\", \"2010-01-23T00:00:00\", \"2010-01-24T00:00:00\", \"2010-01-25T00:00:00\", \"2010-01-26T00:00:00\", \"2010-01-27T00:00:00\", \"2010-01-28T00:00:00\", \"2010-01-29T00:00:00\", \"2010-01-30T00:00:00\", \"2010-01-31T00:00:00\", \"2010-02-01T00:00:00\", \"2010-02-02T00:00:00\", \"2010-02-03T00:00:00\", \"2010-02-04T00:00:00\", \"2010-02-05T00:00:00\", \"2010-02-06T00:00:00\", \"2010-02-07T00:00:00\", \"2010-02-08T00:00:00\", \"2010-02-09T00:00:00\", \"2010-02-10T00:00:00\", \"2010-02-11T00:00:00\", \"2010-02-12T00:00:00\", \"2010-02-13T00:00:00\", \"2010-02-14T00:00:00\", \"2010-02-15T00:00:00\", \"2010-02-16T00:00:00\", \"2010-02-17T00:00:00\", \"2010-02-18T00:00:00\", \"2010-02-19T00:00:00\", \"2010-02-20T00:00:00\", \"2010-02-21T00:00:00\", \"2010-02-22T00:00:00\", \"2010-02-23T00:00:00\", \"2010-02-24T00:00:00\", \"2010-02-25T00:00:00\", \"2010-02-26T00:00:00\", \"2010-02-27T00:00:00\", \"2010-02-28T00:00:00\", \"2010-03-01T00:00:00\", \"2010-03-02T00:00:00\", \"2010-03-03T00:00:00\", \"2010-03-04T00:00:00\", \"2010-03-05T00:00:00\", \"2010-03-06T00:00:00\", \"2010-03-07T00:00:00\", \"2010-03-08T00:00:00\", \"2010-03-09T00:00:00\", \"2010-03-10T00:00:00\", \"2010-03-11T00:00:00\", \"2010-03-12T00:00:00\", \"2010-03-13T00:00:00\", \"2010-03-14T00:00:00\", \"2010-03-15T00:00:00\", \"2010-03-16T00:00:00\", \"2010-03-17T00:00:00\", \"2010-03-18T00:00:00\", \"2010-03-19T00:00:00\", \"2010-03-20T00:00:00\", \"2010-03-21T00:00:00\", \"2010-03-22T00:00:00\", \"2010-03-23T00:00:00\", \"2010-03-24T00:00:00\", \"2010-03-25T00:00:00\", \"2010-03-26T00:00:00\", \"2010-03-27T00:00:00\", \"2010-03-28T00:00:00\", \"2010-03-29T00:00:00\", \"2010-03-30T00:00:00\", \"2010-03-31T00:00:00\", \"2010-04-01T00:00:00\", \"2010-04-02T00:00:00\", \"2010-04-03T00:00:00\", \"2010-04-04T00:00:00\", \"2010-04-05T00:00:00\", \"2010-04-06T00:00:00\", \"2010-04-07T00:00:00\", \"2010-04-08T00:00:00\", \"2010-04-09T00:00:00\", \"2010-04-10T00:00:00\", \"2010-04-11T00:00:00\", \"2010-04-12T00:00:00\", \"2010-04-13T00:00:00\", \"2010-04-14T00:00:00\", \"2010-04-15T00:00:00\", \"2010-04-16T00:00:00\", \"2010-04-17T00:00:00\", \"2010-04-18T00:00:00\", \"2010-04-19T00:00:00\", \"2010-04-20T00:00:00\", \"2010-04-21T00:00:00\", \"2010-04-22T00:00:00\", \"2010-04-23T00:00:00\", \"2010-04-24T00:00:00\", \"2010-04-25T00:00:00\", \"2010-04-26T00:00:00\", \"2010-04-27T00:00:00\", \"2010-04-28T00:00:00\", \"2010-04-29T00:00:00\", \"2010-04-30T00:00:00\", \"2010-05-01T00:00:00\", \"2010-05-02T00:00:00\", \"2010-05-03T00:00:00\", \"2010-05-04T00:00:00\", \"2010-05-05T00:00:00\", \"2010-05-06T00:00:00\", \"2010-05-07T00:00:00\", \"2010-05-08T00:00:00\", \"2010-05-09T00:00:00\", \"2010-05-10T00:00:00\", \"2010-05-11T00:00:00\", \"2010-05-12T00:00:00\", \"2010-05-13T00:00:00\", \"2010-05-14T00:00:00\", \"2010-05-15T00:00:00\", \"2010-05-16T00:00:00\", \"2010-05-17T00:00:00\", \"2010-05-18T00:00:00\", \"2010-05-19T00:00:00\", \"2010-05-20T00:00:00\", \"2010-05-21T00:00:00\", \"2010-05-22T00:00:00\", \"2010-05-23T00:00:00\", \"2010-05-24T00:00:00\", \"2010-05-25T00:00:00\", \"2010-05-26T00:00:00\", \"2010-05-27T00:00:00\", \"2010-05-28T00:00:00\", \"2010-05-29T00:00:00\", \"2010-05-30T00:00:00\", \"2010-05-31T00:00:00\", \"2010-06-01T00:00:00\", \"2010-06-02T00:00:00\", \"2010-06-03T00:00:00\", \"2010-06-04T00:00:00\", \"2010-06-05T00:00:00\", \"2010-06-06T00:00:00\", \"2010-06-07T00:00:00\", \"2010-06-08T00:00:00\", \"2010-06-09T00:00:00\", \"2010-06-10T00:00:00\", \"2010-06-11T00:00:00\", \"2010-06-12T00:00:00\", \"2010-06-13T00:00:00\", \"2010-06-14T00:00:00\", \"2010-06-15T00:00:00\", \"2010-06-16T00:00:00\", \"2010-06-17T00:00:00\", \"2010-06-18T00:00:00\", \"2010-06-19T00:00:00\", \"2010-06-20T00:00:00\", \"2010-06-21T00:00:00\", \"2010-06-22T00:00:00\", \"2010-06-23T00:00:00\", \"2010-06-24T00:00:00\", \"2010-06-25T00:00:00\", \"2010-06-26T00:00:00\", \"2010-06-27T00:00:00\", \"2010-06-28T00:00:00\", \"2010-06-29T00:00:00\", \"2010-06-30T00:00:00\", \"2010-07-01T00:00:00\", \"2010-07-02T00:00:00\", \"2010-07-03T00:00:00\", \"2010-07-04T00:00:00\", \"2010-07-05T00:00:00\", \"2010-07-06T00:00:00\", \"2010-07-07T00:00:00\", \"2010-07-08T00:00:00\", \"2010-07-09T00:00:00\", \"2010-07-10T00:00:00\", \"2010-07-11T00:00:00\", \"2010-07-12T00:00:00\", \"2010-07-13T00:00:00\", \"2010-07-14T00:00:00\", \"2010-07-15T00:00:00\", \"2010-07-16T00:00:00\", \"2010-07-17T00:00:00\", \"2010-07-18T00:00:00\", \"2010-07-19T00:00:00\", \"2010-07-20T00:00:00\", \"2010-07-21T00:00:00\", \"2010-07-22T00:00:00\", \"2010-07-23T00:00:00\", \"2010-07-24T00:00:00\", \"2010-07-25T00:00:00\", \"2010-07-26T00:00:00\", \"2010-07-27T00:00:00\", \"2010-07-28T00:00:00\", \"2010-07-29T00:00:00\", \"2010-07-30T00:00:00\", \"2010-07-31T00:00:00\", \"2010-08-01T00:00:00\", \"2010-08-02T00:00:00\", \"2010-08-03T00:00:00\", \"2010-08-04T00:00:00\", \"2010-08-05T00:00:00\", \"2010-08-06T00:00:00\", \"2010-08-07T00:00:00\", \"2010-08-08T00:00:00\", \"2010-08-09T00:00:00\", \"2010-08-10T00:00:00\", \"2010-08-11T00:00:00\", \"2010-08-12T00:00:00\", \"2010-08-13T00:00:00\", \"2010-08-14T00:00:00\", \"2010-08-15T00:00:00\", \"2010-08-16T00:00:00\", \"2010-08-17T00:00:00\", \"2010-08-18T00:00:00\", \"2010-08-19T00:00:00\", \"2010-08-20T00:00:00\", \"2010-08-21T00:00:00\", \"2010-08-22T00:00:00\", \"2010-08-23T00:00:00\", \"2010-08-24T00:00:00\", \"2010-08-25T00:00:00\", \"2010-08-26T00:00:00\", \"2010-08-27T00:00:00\", \"2010-08-28T00:00:00\", \"2010-08-29T00:00:00\", \"2010-08-30T00:00:00\", \"2010-08-31T00:00:00\", \"2010-09-01T00:00:00\", \"2010-09-02T00:00:00\", \"2010-09-03T00:00:00\", \"2010-09-04T00:00:00\", \"2010-09-05T00:00:00\", \"2010-09-06T00:00:00\", \"2010-09-07T00:00:00\", \"2010-09-08T00:00:00\", \"2010-09-09T00:00:00\", \"2010-09-10T00:00:00\", \"2010-09-11T00:00:00\", \"2010-09-12T00:00:00\", \"2010-09-13T00:00:00\", \"2010-09-14T00:00:00\", \"2010-09-15T00:00:00\", \"2010-09-16T00:00:00\", \"2010-09-17T00:00:00\", \"2010-09-18T00:00:00\", \"2010-09-19T00:00:00\", \"2010-09-20T00:00:00\", \"2010-09-21T00:00:00\", \"2010-09-22T00:00:00\", \"2010-09-23T00:00:00\", \"2010-09-24T00:00:00\", \"2010-09-25T00:00:00\", \"2010-09-26T00:00:00\", \"2010-09-27T00:00:00\", \"2010-09-28T00:00:00\", \"2010-09-29T00:00:00\", \"2010-09-30T00:00:00\", \"2010-10-01T00:00:00\", \"2010-10-02T00:00:00\", \"2010-10-03T00:00:00\", \"2010-10-04T00:00:00\", \"2010-10-05T00:00:00\", \"2010-10-06T00:00:00\", \"2010-10-07T00:00:00\", \"2010-10-08T00:00:00\", \"2010-10-09T00:00:00\", \"2010-10-10T00:00:00\", \"2010-10-11T00:00:00\", \"2010-10-12T00:00:00\", \"2010-10-13T00:00:00\", \"2010-10-14T00:00:00\", \"2010-10-15T00:00:00\", \"2010-10-16T00:00:00\", \"2010-10-17T00:00:00\", \"2010-10-18T00:00:00\", \"2010-10-19T00:00:00\", \"2010-10-20T00:00:00\", \"2010-10-21T00:00:00\", \"2010-10-22T00:00:00\", \"2010-10-23T00:00:00\", \"2010-10-24T00:00:00\", \"2010-10-25T00:00:00\", \"2010-10-26T00:00:00\", \"2010-10-27T00:00:00\", \"2010-10-28T00:00:00\", \"2010-10-29T00:00:00\", \"2010-10-30T00:00:00\", \"2010-10-31T00:00:00\", \"2010-11-01T00:00:00\", \"2010-11-02T00:00:00\", \"2010-11-03T00:00:00\", \"2010-11-04T00:00:00\", \"2010-11-05T00:00:00\", \"2010-11-06T00:00:00\", \"2010-11-07T00:00:00\", \"2010-11-08T00:00:00\", \"2010-11-09T00:00:00\", \"2010-11-10T00:00:00\", \"2010-11-11T00:00:00\", \"2010-11-12T00:00:00\", \"2010-11-13T00:00:00\", \"2010-11-14T00:00:00\", \"2010-11-15T00:00:00\", \"2010-11-16T00:00:00\", \"2010-11-17T00:00:00\", \"2010-11-18T00:00:00\", \"2010-11-19T00:00:00\", \"2010-11-20T00:00:00\", \"2010-11-21T00:00:00\", \"2010-11-22T00:00:00\", \"2010-11-23T00:00:00\", \"2010-11-24T00:00:00\", \"2010-11-25T00:00:00\", \"2010-11-26T00:00:00\", \"2010-11-27T00:00:00\", \"2010-11-28T00:00:00\", \"2010-11-29T00:00:00\", \"2010-11-30T00:00:00\", \"2010-12-01T00:00:00\", \"2010-12-02T00:00:00\", \"2010-12-03T00:00:00\", \"2010-12-04T00:00:00\", \"2010-12-05T00:00:00\", \"2010-12-06T00:00:00\", \"2010-12-07T00:00:00\", \"2010-12-08T00:00:00\", \"2010-12-09T00:00:00\", \"2010-12-10T00:00:00\", \"2010-12-11T00:00:00\", \"2010-12-12T00:00:00\", \"2010-12-13T00:00:00\", \"2010-12-14T00:00:00\", \"2010-12-15T00:00:00\", \"2010-12-16T00:00:00\", \"2010-12-17T00:00:00\", \"2010-12-18T00:00:00\", \"2010-12-19T00:00:00\", \"2010-12-20T00:00:00\", \"2010-12-21T00:00:00\", \"2010-12-22T00:00:00\", \"2010-12-23T00:00:00\", \"2010-12-24T00:00:00\", \"2010-12-25T00:00:00\", \"2010-12-26T00:00:00\", \"2010-12-27T00:00:00\", \"2010-12-28T00:00:00\", \"2010-12-29T00:00:00\", \"2010-12-30T00:00:00\", \"2010-12-31T00:00:00\", \"2011-01-01T00:00:00\", \"2011-01-02T00:00:00\", \"2011-01-03T00:00:00\", \"2011-01-04T00:00:00\", \"2011-01-05T00:00:00\", \"2011-01-06T00:00:00\", \"2011-01-07T00:00:00\", \"2011-01-08T00:00:00\", \"2011-01-09T00:00:00\", \"2011-01-10T00:00:00\", \"2011-01-11T00:00:00\", \"2011-01-12T00:00:00\", \"2011-01-13T00:00:00\", \"2011-01-14T00:00:00\", \"2011-01-15T00:00:00\", \"2011-01-16T00:00:00\", \"2011-01-17T00:00:00\", \"2011-01-18T00:00:00\", \"2011-01-19T00:00:00\", \"2011-01-20T00:00:00\", \"2011-01-21T00:00:00\", \"2011-01-22T00:00:00\", \"2011-01-23T00:00:00\", \"2011-01-24T00:00:00\", \"2011-01-25T00:00:00\", \"2011-01-26T00:00:00\", \"2011-01-27T00:00:00\", \"2011-01-28T00:00:00\", \"2011-01-29T00:00:00\", \"2011-01-30T00:00:00\", \"2011-01-31T00:00:00\", \"2011-02-01T00:00:00\", \"2011-02-02T00:00:00\", \"2011-02-03T00:00:00\", \"2011-02-04T00:00:00\", \"2011-02-05T00:00:00\", \"2011-02-06T00:00:00\", \"2011-02-07T00:00:00\", \"2011-02-08T00:00:00\", \"2011-02-09T00:00:00\", \"2011-02-10T00:00:00\", \"2011-02-11T00:00:00\", \"2011-02-12T00:00:00\", \"2011-02-13T00:00:00\", \"2011-02-14T00:00:00\", \"2011-02-15T00:00:00\", \"2011-02-16T00:00:00\", \"2011-02-17T00:00:00\", \"2011-02-18T00:00:00\", \"2011-02-19T00:00:00\", \"2011-02-20T00:00:00\", \"2011-02-21T00:00:00\", \"2011-02-22T00:00:00\", \"2011-02-23T00:00:00\", \"2011-02-24T00:00:00\", \"2011-02-25T00:00:00\", \"2011-02-26T00:00:00\", \"2011-02-27T00:00:00\", \"2011-02-28T00:00:00\", \"2011-03-01T00:00:00\", \"2011-03-02T00:00:00\", \"2011-03-03T00:00:00\", \"2011-03-04T00:00:00\", \"2011-03-05T00:00:00\", \"2011-03-06T00:00:00\", \"2011-03-07T00:00:00\", \"2011-03-08T00:00:00\", \"2011-03-09T00:00:00\", \"2011-03-10T00:00:00\", \"2011-03-11T00:00:00\", \"2011-03-12T00:00:00\", \"2011-03-13T00:00:00\", \"2011-03-14T00:00:00\", \"2011-03-15T00:00:00\", \"2011-03-16T00:00:00\", \"2011-03-17T00:00:00\", \"2011-03-18T00:00:00\", \"2011-03-19T00:00:00\", \"2011-03-20T00:00:00\", \"2011-03-21T00:00:00\", \"2011-03-22T00:00:00\", \"2011-03-23T00:00:00\", \"2011-03-24T00:00:00\", \"2011-03-25T00:00:00\", \"2011-03-26T00:00:00\", \"2011-03-27T00:00:00\", \"2011-03-28T00:00:00\", \"2011-03-29T00:00:00\", \"2011-03-30T00:00:00\", \"2011-03-31T00:00:00\", \"2011-04-01T00:00:00\", \"2011-04-02T00:00:00\", \"2011-04-03T00:00:00\", \"2011-04-04T00:00:00\", \"2011-04-05T00:00:00\", \"2011-04-06T00:00:00\", \"2011-04-07T00:00:00\", \"2011-04-08T00:00:00\", \"2011-04-09T00:00:00\", \"2011-04-10T00:00:00\", \"2011-04-11T00:00:00\", \"2011-04-12T00:00:00\", \"2011-04-13T00:00:00\", \"2011-04-14T00:00:00\", \"2011-04-15T00:00:00\", \"2011-04-16T00:00:00\", \"2011-04-17T00:00:00\", \"2011-04-18T00:00:00\", \"2011-04-19T00:00:00\", \"2011-04-20T00:00:00\", \"2011-04-21T00:00:00\", \"2011-04-22T00:00:00\", \"2011-04-23T00:00:00\", \"2011-04-24T00:00:00\", \"2011-04-25T00:00:00\", \"2011-04-26T00:00:00\", \"2011-04-27T00:00:00\", \"2011-04-28T00:00:00\", \"2011-04-29T00:00:00\", \"2011-04-30T00:00:00\", \"2011-05-01T00:00:00\", \"2011-05-02T00:00:00\", \"2011-05-03T00:00:00\", \"2011-05-04T00:00:00\", \"2011-05-05T00:00:00\", \"2011-05-06T00:00:00\", \"2011-05-07T00:00:00\", \"2011-05-08T00:00:00\", \"2011-05-09T00:00:00\", \"2011-05-10T00:00:00\", \"2011-05-11T00:00:00\", \"2011-05-12T00:00:00\", \"2011-05-13T00:00:00\", \"2011-05-14T00:00:00\", \"2011-05-15T00:00:00\", \"2011-05-16T00:00:00\", \"2011-05-17T00:00:00\", \"2011-05-18T00:00:00\", \"2011-05-19T00:00:00\", \"2011-05-20T00:00:00\", \"2011-05-21T00:00:00\", \"2011-05-22T00:00:00\", \"2011-05-23T00:00:00\", \"2011-05-24T00:00:00\", \"2011-05-25T00:00:00\", \"2011-05-26T00:00:00\", \"2011-05-27T00:00:00\", \"2011-05-28T00:00:00\", \"2011-05-29T00:00:00\", \"2011-05-30T00:00:00\", \"2011-05-31T00:00:00\", \"2011-06-01T00:00:00\", \"2011-06-02T00:00:00\", \"2011-06-03T00:00:00\", \"2011-06-04T00:00:00\", \"2011-06-05T00:00:00\", \"2011-06-06T00:00:00\", \"2011-06-07T00:00:00\", \"2011-06-08T00:00:00\", \"2011-06-09T00:00:00\", \"2011-06-10T00:00:00\", \"2011-06-11T00:00:00\", \"2011-06-12T00:00:00\", \"2011-06-13T00:00:00\", \"2011-06-14T00:00:00\", \"2011-06-15T00:00:00\", \"2011-06-16T00:00:00\", \"2011-06-17T00:00:00\", \"2011-06-18T00:00:00\", \"2011-06-19T00:00:00\", \"2011-06-20T00:00:00\", \"2011-06-21T00:00:00\", \"2011-06-22T00:00:00\", \"2011-06-23T00:00:00\", \"2011-06-24T00:00:00\", \"2011-06-25T00:00:00\", \"2011-06-26T00:00:00\", \"2011-06-27T00:00:00\", \"2011-06-28T00:00:00\", \"2011-06-29T00:00:00\", \"2011-06-30T00:00:00\", \"2011-07-01T00:00:00\", \"2011-07-02T00:00:00\", \"2011-07-03T00:00:00\", \"2011-07-04T00:00:00\", \"2011-07-05T00:00:00\", \"2011-07-06T00:00:00\", \"2011-07-07T00:00:00\", \"2011-07-08T00:00:00\", \"2011-07-09T00:00:00\", \"2011-07-10T00:00:00\", \"2011-07-11T00:00:00\", \"2011-07-12T00:00:00\", \"2011-07-13T00:00:00\", \"2011-07-14T00:00:00\", \"2011-07-15T00:00:00\", \"2011-07-16T00:00:00\", \"2011-07-17T00:00:00\", \"2011-07-18T00:00:00\", \"2011-07-19T00:00:00\", \"2011-07-20T00:00:00\", \"2011-07-21T00:00:00\", \"2011-07-22T00:00:00\", \"2011-07-23T00:00:00\", \"2011-07-24T00:00:00\", \"2011-07-25T00:00:00\", \"2011-07-26T00:00:00\", \"2011-07-27T00:00:00\", \"2011-07-28T00:00:00\", \"2011-07-29T00:00:00\", \"2011-07-30T00:00:00\", \"2011-07-31T00:00:00\", \"2011-08-01T00:00:00\", \"2011-08-02T00:00:00\", \"2011-08-03T00:00:00\", \"2011-08-04T00:00:00\", \"2011-08-05T00:00:00\", \"2011-08-06T00:00:00\"], \"y\": [700.0, 3050.0, 4650.0, 4700.0, 6150.0, 6450.0, 6300.0, 5400.0, 5450.0, 5350.0, 5750.0, 5700.0, 5100.0, 4550.0, 4200.0, 10050.0, 9550.0, 4800.0, 4850.0, 5600.0, 6050.0, 5850.0, 6900.0, 5650.0, 6400.0, 6950.000000000002, 5950.0, 6300.0, 6100.0, 6450.0, 6600.0, 6700.0, 6000.0, 6650.0, 5950.0, 6200.0, 6800.0, 6400.0, 6100.0, 5850.0, 5900.0, 6200.0, 6100.0, 5700.0, 6050.0, 5400.0, 5300.0, 5250.0, 5350.0, 5750.0, 4950.0, 5250.0, 5400.0, 5250.0, 5200.0, 5600.0, 5850.0, 5450.0, 5750.0, 5400.0, 5350.0, 5700.0, 5900.0, 5650.0, 5500.0, 6150.0, 6050.0, 5700.0, 5700.0, 6100.0, 5900.0, 2500.0, 5950.0, 6500.0, 5250.0, 5850.0, 5850.0, 5300.0, 5950.0, 5800.0, 6000.0, 5500.0, 5700.0, 5750.0, 5800.0, 5650.0, 6500.0, 5450.0, 5000.0, 5250.0, 4950.0, 5400.0, 6000.0, 5900.0, 5750.0, 6200.0, 5650.0, 6150.0, 5600.0, 6300.0, 5950.0, 5950.0, 6150.0, 6050.0, 3750.0, 5750.0, 5900.0, 5600.0, 5200.0, 5850.0, 6400.0, 6550.0, 6050.0, 6300.0, 5300.0, 6400.0, 6750.0, 6750.0, 6100.0, 5350.0, 3900.0, 4250.0, 6000.0, 6500.0, 5550.0, 6950.0, 6800.0, 5950.0, 6350.0, 5900.0, 4300.0, 6000.0, 4100.0, 3050.0, 1600.0, 5000.0, 5450.0, 6250.0, 5950.0, 4750.0, 5300.0, 5450.0, 4800.0, 3550.0, 5550.0, 3550.0, 3300.0, 1500.0, 1400.0, 800.0, 4100.0, 4550.0, 4100.0, 4450.0, 4300.0, 3900.0, 3600.0, 4200.0, 3550.0, 3950.0, 4000.0, 4350.0, 3900.0, 4050.0, 3800.0, 3800.0, 4750.0, 3400.0, 4500.0, 4200.0, 2300.0, 4150.0, 4250.0, 3700.0, 4150.0, 4100.0, 4450.0, 3950.0, 4200.0, 3450.0, 3700.0, 4300.0, 4050.0, 4150.0, 3850.0, 3900.0, 3450.0, 2250.0, 3550.0, 2350.0, 200.0, 3500.0, 3500.0, 4100.0, 3000.0, 3800.0, 3650.0, 1600.0, 1050.0, 3700.0, 2050.0, 950.0, 750.0, 850.0, 1400.0, 1150.0, 600.0, 4050.0, 4350.0, 4500.0, 4000.0, 4000.0, 5050.0, 3750.0, 3500.0, 3150.0, 4250.0, 3150.0, 1300.0, 950.0, 850.0, 500.0, 900.0, 1100.0, 700.0, 350.0, 750.0, 750.0, 2500.0, 2400.0, 1450.0, 3750.0, 3900.0, 4850.0, 4300.0, 3900.0, 3300.0, 3050.0, 3200.0, 3800.0, 3400.0, 3900.0, 3450.0, 2700.0, 3350.0, 3350.0, 3450.0, 3750.0, 3700.0, 2200.0, 3600.0, 4200.000000000002, 3900.0, 3700.0, 3900.0, 3450.0, 1250.0, 1800.0, 4850.0, 4550.0, 5000.0, 4350.0, 4250.0, 4400.0, 4250.0, 4100.0, 3600.0, 2900.0, 2650.0, 2750.0, 2150.0, 3000.0, 3500.0, 3950.0, 3850.0, 3700.0, 2900.0, 2850.0, 3450.0, 3550.0, 3000.0, 2850.0, 3700.0, 5600.0, 4750.000000000001, 4000.0, 4550.0, 4450.0, 3100.0, 3800.0, 3550.0, 3150.0, 3300.0, 2300.0, 3000.0, 2300.0, 1250.0, 1650.0, 3100.0, 3150.0, 2850.0, 3100.0, 3450.0, 3650.0, 3200.0, 3900.0, 3200.0, 3300.0, 4000.0, 3950.0, 4800.0, 4850.0, 4600.0, 3950.0, 3500.0, 4300.0, 3650.0, 5300.0, 4800.0, 4650.0, 4500.0, 4200.0, 3700.0, 3550.0, 3000.0, 3750.0, 3649.7999999999993, 4700.0, 4400.0, 1800.0, 3200.0, 5150.0, 5600.0, 5250.0, 4800.0, 5200.0, 5600.0, 5500.0, 5700.0, 5145.6500000000015, 5500.0, 6800.0, 8450.0, 11250.0, 9900.0, 8750.0, 8750.0, 8100.0, 7700.0, 7700.0, 7450.0, 8700.0, 8350.0, 6850.0, 8550.0, 7050.0, 6900.0, 4450.0, 4600.0, 6850.0, 6400.0, 7100.0, 5700.0, 4900.0, 4750.0, 4750.0, 7150.0, 5900.0, 6400.999999999996, 5593.0, 4950.0, 5150.0, 4450.0, 4750.0, 5200.0, 5700.0, 7250.0, 6900.0, 4899.0, 6350.0, 5800.0, 8500.0, 7600.0, 6250.0, 7000.0, 7650.0, 8300.0, 7600.0, 8450.0, 6200.0, 11000.0, 8900.0, 8682.2, 6800.0, 9400.0, 6550.0, 8100.439999999999, 6350.0, 6550.0, 7200.0, 9996.83, 8050.0, 6563.370000000003, 7850.999999999999, 6180.93, 7751.0, 7450.0, 8550.0, 8200.0, 9300.0, 9900.0, 5750.0, 5150.0, 6100.0, 6750.0, 6051.0, 7450.0, 7150.0, 5549.0, 6600.0, 5800.0, 6303.510000000002, 6900.0, 4399.99, 5450.0, 6100.0, 5250.0, 4200.0, 6000.0, 4700.0, 4750.0, 4750.0, 5050.0, 5110.0, 5050.0, 7401.0, 6899.0, 5900.0, 7396.58, 5550.0, 6300.0, 7100.0, 6703.299999999999, 6800.0, 5950.0, 7850.0, 7750.000000000001, 6000.0, 5250.0, 5400.0, 4650.0, 3020.0, 3536.630000000001, 2346.8999999999996, 7050.0, 7607.839999999993, 11099.730000000003, 5328.99, 7399.060000000003, 7250.0, 6250.000000000001, 7939.2300000000105, 7198.450000000001, 8549.220000000001, 8799.850000000486, 9099.999999999998, 7345.0, 8751.0, 5876.2900000000045, 5649.999999999999, -1446.0599999999995, 5791.000000000002, 6500.000000000002, 6037.98, 6600.000000000001, 5249.999999999999, -770.0, 5904.0, 5753.0, 5750.0, 5551.029999999999, 5809.279999999999, 2850.0, 5743.0, 6949.000000000002, 6400.000000000001, 4949.999999999998, 4750.0, -657.0, 5449.999999999998, 5256.429999999929, 4049.999999999949, 4700.0, 6346.120000000001, 6950.0, 7465.710000000003, 8700.0, 7600.000000000007, 8506.890000000025, 9700.0, 7895.0, 9300.0, 9254.75, 8000.0, 9850.000000000004, 8103.999999999996, 6647.7, 6600.0, 6220.0, 6900.0, 6683.289999999999, 5500.3499999999985, 6600.0, 6699.999999999999, 7051.200000000004, 7000.0, -1659.9900000000052, 7191.369999999995, 7849.999999999999, 6150.0, 7808.370000000003, 6790.0, 6429.989999999998, 6324.91, 6200.0, 6803.0, -14192.16, 7705.0, 6845.0, 6804.999999999998, 6770.0, 6736.630000000001, 5630.0, 6710.0, 7620.0, 5871.0, 7372.989999999987, 8133.999999999789, 9439.0, 7532.500000000291, 9445.0, 6580.5, 7599.999999999993, 7240.0, 6433.009999999998, 6216.000000000001, 7914.0, 7817.77, 7587.860000000001, 20341.290000000023, 24751.88000000001, 19921.760000005954, 23916.399999999994, 18806.02000000005, 6256.189999999988, 7236.899999999972, 6959.760000000006, 6833.6799999999785, 8284.429999999971, 5827.769999999993, 8299.699999999977, -16582.350000000024, 8983.670000000024, 6968.580000000024, 6489.4199999999655, 5912.909999999698, 7590.689999999999, 6349.069999999963, 7486.379999999981, 8148.40999999996, 8404.510000000046, 7476.269999999866, 9238.280000000004, 7971.440000000053, 5684.09999999998, 5444.259999999982, 8529.469999999994, -1188.0300000005154, 7237.079999999996, 8373.969999999994, 8123.589999999995, 8371.730000000043, 11388.759999999958, 7723.159999999989, 5676.90999999988, 5226.699999999997, 4981.749999999916, 5247.199999999995, 7027.3399999999965, 6899.439999999991, 9054.209999999994, 8795.049999999997, 7726.909999999907, 9349.649999999998, 7999.5499999999865, 6189.149999999987, 6328.949999699993, 6450.2400000000025, 6548.949999899976, 7199.659999900137, 5822.839999799984, 5770.640000000003, 6679.969999999987, 7101.369999999988, 6692.420000000027, 6544.209999999977, 6559.759999999995, 5599.179999899998, 5302.579999999984, 6736.969999999999, 6222.330000000003, 7548.469999999954, 7199.459999999992, 8185.909999999996, 6989.619603519983, 9249.979999999963, 9143.860000000052, 9983.749999999993, 8687.799999999996, 8492.82000000001, 7642.43, 7317.6899999999805, 10236.229999999981, 10529.440000000006, 9485.379999999983, 8938.199999999964, 10393.509999999977, 8875.74992801994, 4612.889999999992, 5725.760000000013, 6141.449999999706, 4332.920000000042, 5352.960000000021, 4186.179999999993, 5791.8200000000215, 5878.270000000004, 6586.820000000007, 5834.550000000003, 6782.60000000002, 7833.020000000004, 6781.479999999989, 6290.300000000003, 7429.6500000000015, 8197.500000000015, 8112.889999999956, 11216.14, 11727.45999999999, 10083.990000000042, 10631.899999999958, 11005.559999999998, 7015.532233849997, 6326.529999999999, 7284.5899999999965, 8988.689999999995, 8282.310000000005, 10102.850000000006, 5855.389999999985, 9097.349999999948, 9494.940000000053, 11150.869999999992, 7240.45999999997, 7350.4599999999955, 7399.30000000001, 7869.499999999996, 8497.620000000054, 9697.900000000009, 9816.670000000027, 11034.750000000044, 3337.369999999879, 8716.52999999998, 8998.519999999982, 9539.759999999997, 7443.359999999995, 9693.39000000001, 11046.480000000025, 8806.310000001395, 9138.780000001301, 11454.940000000057, 11589.27999999998, 6751.899999999976, 5294.530000000017, 6543.069999999931, 7545.4099999999635, 6070.180000000015, 7506.129999997989, 8370.85000000069, 8697.610000000132, 7993.959999999974, 7745.279999999995, 9050.809999999961, 9195.94000000009, 8817.98000000001, 8650.230000000054, 8346.589999999978, 10442.219999999994, 10691.510000000002, 11177.36999999998, 9024.950000000084, 10616.83999999996, 10285.90999890997, 7165.19999999999, 8394.593556060077, 7390.566031029914, 6384.9200000001, 7349.599999999944, 9036.379999999961, 7983.6199999999735, 7250.330000000093, 7323.519999999986, 8392.55000000012, 7047.90000000038, 9198.020000000215, 7119.249999999938, 6599.098610849989, 7044.57999999998, 7829.919999999995, 6963.889999999999, 7883.530000000086, 7425.97999999993, 7644.734254330047, 8184.609999999975, 7715.78999999995, 8846.309999999965, 8227.319999999945, 7279.449999999848, 6535.309999999969, 6976.785510219768, 6887.0699999999415, 7924.659999999843, 8149.0399999998735, 7624.499999999989, 7620.279514239686, 7914.019999999597, 7034.109999999939, 6785.520000000237, 8037.659999999785, 5873.819999999996, 8319.884533120057, 8193.700000000084, 6482.580000000038, 7983.770000000011, 8365.520000000037, 8037.479514239934, 7573.538203519871, 7655.460000000123, 8927.269022199878, 7220.539999999914, 7533.979999999887, 7671.949999999313, 7362.699999999968, 6752.729999999938, 7234.9000000000015, 7045.720000000307, 6736.530000000028, 7343.799999999828, 7428.919999999976, 8776.815344930037, 8027.559999999998, 8028.199999999961, 9267.970000000088, 7241.14999999998, 8932.950000000026, 6552.620000000155, 8542.019999999677, 8971.340000000011, 9001.411820250087, 9130.579999999805, 8756.65000000006, 10680.219999999972, 10981.526538069807, 9619.370000000192, 7669.219999999932, 9024.660000000382, 8965.239999999856, 8920.564531780146, 10950.880000000005, 9809.060000000049, 10681.390000000127, 12778.98999999999, 11089.060000000245, 6918.53000000037, -73966.9400000007, 7859.238900002179, 8492.589899996558, 10366.660000000164, 13408.859999999891, 13212.819999999949, 8161.689899999852, 9010.740000000173, 6774.420000000046, 5297.030000000188, 5162.610000000081, 6644.579999999878, 5523.684999999736, 5305.210000000123, 5334.309344640264, 6281.239999999838, 6497.529999999686, 5811.76999999992, 5441.410000000007, 6504.032227839827, 6797.17000000093, 5433.190000000381, 7403.499028479826, 7241.4095142385995, 8405.703333879886, 6705.846666118276, 6936.490000000726, 8083.699999999972, 7847.650000000278, 7553.080000000024, 9448.82000000029, 7904.919999999922, -11261.200000000012, 8470.080000000002, 8791.479999999843, 9098.409999999916, 7303.208999999955, 7014.7210000001, 7987.999999999964, 7509.699999999859, 8299.019999999986, 7922.9400000001915, 7565.989999999991, 9254.880000000201, 7673.6300000030315, 6499.22000000003, 8476.399999997564, 8674.539999999964, 6684.6199999983655, 6830.1699999982375, 6177.810000004072, 7149.14999959986, 8534.659999999829, 8186.159999999829, 1397.5599999997721, 9490.229999999807, 9567.409999999581, 8459.438999999904, 7991.185204849906, 9624.6326210486, 9223.855629990809, 8700.930000000051, 9719.338252680172, 9447.894031819917, -50748.970000000045, 10446.919790179993, 10624.485086929257, 10563.065934199658, 10441.537494510034, 9857.612551440245, 8887.834592631028, 7892.855847750063, 7788.4562818896375, 8831.559099538717, 11488.633408960304, 10659.428530120204, 10491.486377582041, 926.3541201903136, 13992.834592230152, 8218.491863709787, 9740.185738919827, 10719.105084331939, 12293.912705007824, 13762.688961221458, 10157.832442909967, 14275.135494209746, 14321.6102016199, 7034.452980398666, 7438.973657020055, 8438.540807189675, 7372.943988409759, -2447.839892719974, 8402.083779329165, 8872.385346670388, 3516.81759760945, 10386.682659969636, 10004.940314889376, 10625.87054950901, 7981.105565548569, 7232.351322549308, 9296.916632011737, 9805.058035160415, 9902.482098362903, 8836.15050441469, 10326.896379479993, 10128.188287764788, 12920.769886234426, 6074.926683338417, 6016.801773020707, 8684.706399917399, 9313.2901533423, 9970.487859891262, 11232.214816430322, 11026.650131662638, 10094.718244449235, 9899.668441240094, 5812.24660907159, 6331.790844533127, 2898.9717937905225, 6556.9063581780065, 6092.152938478423, 8648.78642568874, 7758.038980702491, 7777.412703699782, 6896.483334549543, 7317.957373922138, 5584.053789090685, 6450.17384151039, 5763.7441005312285, 7118.684624189453, 6745.793868760506, -1487.3367261197855, 5808.922805079215, 6102.184710539397, 8548.51946596861, 6269.734461299449, 7153.120599359594, 7162.899680409144, 7742.178752461623, 7257.548012590734, 6247.187857689554, 6886.7737634694495, 6923.198732260513, 6867.531183249943, 6735.910690489618, 7831.273298900342, 7130.085841049891, 7907.703992249488, 8159.445404170474, -610.9517306100606, 7519.44975484028, 7282.700400279835, 8396.464633819676, 7833.834542979748, 7070.506750469212, 7464.552438909173, 5795.058919779447, 6301.297562029766, -45068.062891289606]}],\n",
              "                        {\"template\": {\"data\": {\"bar\": [{\"error_x\": {\"color\": \"#2a3f5f\"}, \"error_y\": {\"color\": \"#2a3f5f\"}, \"marker\": {\"line\": {\"color\": \"#E5ECF6\", \"width\": 0.5}}, \"type\": \"bar\"}], \"barpolar\": [{\"marker\": {\"line\": {\"color\": \"#E5ECF6\", \"width\": 0.5}}, \"type\": \"barpolar\"}], \"carpet\": [{\"aaxis\": {\"endlinecolor\": \"#2a3f5f\", \"gridcolor\": \"white\", \"linecolor\": \"white\", \"minorgridcolor\": \"white\", \"startlinecolor\": \"#2a3f5f\"}, \"baxis\": {\"endlinecolor\": \"#2a3f5f\", \"gridcolor\": \"white\", \"linecolor\": \"white\", \"minorgridcolor\": \"white\", \"startlinecolor\": \"#2a3f5f\"}, \"type\": \"carpet\"}], \"choropleth\": [{\"colorbar\": {\"outlinewidth\": 0, \"ticks\": \"\"}, \"type\": \"choropleth\"}], \"contour\": [{\"colorbar\": {\"outlinewidth\": 0, \"ticks\": \"\"}, \"colorscale\": [[0.0, \"#0d0887\"], [0.1111111111111111, \"#46039f\"], [0.2222222222222222, \"#7201a8\"], [0.3333333333333333, \"#9c179e\"], [0.4444444444444444, \"#bd3786\"], [0.5555555555555556, \"#d8576b\"], [0.6666666666666666, \"#ed7953\"], [0.7777777777777778, \"#fb9f3a\"], [0.8888888888888888, \"#fdca26\"], [1.0, \"#f0f921\"]], \"type\": \"contour\"}], \"contourcarpet\": [{\"colorbar\": {\"outlinewidth\": 0, \"ticks\": \"\"}, \"type\": \"contourcarpet\"}], \"heatmap\": [{\"colorbar\": {\"outlinewidth\": 0, \"ticks\": \"\"}, \"colorscale\": [[0.0, \"#0d0887\"], [0.1111111111111111, \"#46039f\"], [0.2222222222222222, \"#7201a8\"], [0.3333333333333333, \"#9c179e\"], [0.4444444444444444, \"#bd3786\"], [0.5555555555555556, \"#d8576b\"], [0.6666666666666666, \"#ed7953\"], [0.7777777777777778, \"#fb9f3a\"], [0.8888888888888888, \"#fdca26\"], [1.0, \"#f0f921\"]], \"type\": \"heatmap\"}], \"heatmapgl\": [{\"colorbar\": {\"outlinewidth\": 0, \"ticks\": \"\"}, \"colorscale\": [[0.0, \"#0d0887\"], [0.1111111111111111, \"#46039f\"], [0.2222222222222222, \"#7201a8\"], [0.3333333333333333, \"#9c179e\"], [0.4444444444444444, \"#bd3786\"], [0.5555555555555556, \"#d8576b\"], [0.6666666666666666, \"#ed7953\"], [0.7777777777777778, \"#fb9f3a\"], [0.8888888888888888, \"#fdca26\"], [1.0, \"#f0f921\"]], \"type\": \"heatmapgl\"}], \"histogram\": [{\"marker\": {\"colorbar\": {\"outlinewidth\": 0, \"ticks\": \"\"}}, \"type\": \"histogram\"}], \"histogram2d\": [{\"colorbar\": {\"outlinewidth\": 0, \"ticks\": \"\"}, \"colorscale\": [[0.0, \"#0d0887\"], [0.1111111111111111, \"#46039f\"], [0.2222222222222222, \"#7201a8\"], [0.3333333333333333, \"#9c179e\"], [0.4444444444444444, \"#bd3786\"], [0.5555555555555556, \"#d8576b\"], [0.6666666666666666, \"#ed7953\"], [0.7777777777777778, \"#fb9f3a\"], [0.8888888888888888, \"#fdca26\"], [1.0, \"#f0f921\"]], \"type\": \"histogram2d\"}], \"histogram2dcontour\": [{\"colorbar\": {\"outlinewidth\": 0, \"ticks\": \"\"}, \"colorscale\": [[0.0, \"#0d0887\"], [0.1111111111111111, \"#46039f\"], [0.2222222222222222, \"#7201a8\"], [0.3333333333333333, \"#9c179e\"], [0.4444444444444444, \"#bd3786\"], [0.5555555555555556, \"#d8576b\"], [0.6666666666666666, \"#ed7953\"], [0.7777777777777778, \"#fb9f3a\"], [0.8888888888888888, \"#fdca26\"], [1.0, \"#f0f921\"]], \"type\": \"histogram2dcontour\"}], \"mesh3d\": [{\"colorbar\": {\"outlinewidth\": 0, \"ticks\": \"\"}, \"type\": \"mesh3d\"}], \"parcoords\": [{\"line\": {\"colorbar\": {\"outlinewidth\": 0, \"ticks\": \"\"}}, \"type\": \"parcoords\"}], \"pie\": [{\"automargin\": true, \"type\": \"pie\"}], \"scatter\": [{\"marker\": {\"colorbar\": {\"outlinewidth\": 0, \"ticks\": \"\"}}, \"type\": \"scatter\"}], \"scatter3d\": [{\"line\": {\"colorbar\": {\"outlinewidth\": 0, \"ticks\": \"\"}}, \"marker\": {\"colorbar\": {\"outlinewidth\": 0, \"ticks\": \"\"}}, \"type\": \"scatter3d\"}], \"scattercarpet\": [{\"marker\": {\"colorbar\": {\"outlinewidth\": 0, \"ticks\": \"\"}}, \"type\": \"scattercarpet\"}], \"scattergeo\": [{\"marker\": {\"colorbar\": {\"outlinewidth\": 0, \"ticks\": \"\"}}, \"type\": \"scattergeo\"}], \"scattergl\": [{\"marker\": {\"colorbar\": {\"outlinewidth\": 0, \"ticks\": \"\"}}, \"type\": \"scattergl\"}], \"scattermapbox\": [{\"marker\": {\"colorbar\": {\"outlinewidth\": 0, \"ticks\": \"\"}}, \"type\": \"scattermapbox\"}], \"scatterpolar\": [{\"marker\": {\"colorbar\": {\"outlinewidth\": 0, \"ticks\": \"\"}}, \"type\": \"scatterpolar\"}], \"scatterpolargl\": [{\"marker\": {\"colorbar\": {\"outlinewidth\": 0, \"ticks\": \"\"}}, \"type\": \"scatterpolargl\"}], \"scatterternary\": [{\"marker\": {\"colorbar\": {\"outlinewidth\": 0, \"ticks\": \"\"}}, \"type\": \"scatterternary\"}], \"surface\": [{\"colorbar\": {\"outlinewidth\": 0, \"ticks\": \"\"}, \"colorscale\": [[0.0, \"#0d0887\"], [0.1111111111111111, \"#46039f\"], [0.2222222222222222, \"#7201a8\"], [0.3333333333333333, \"#9c179e\"], [0.4444444444444444, \"#bd3786\"], [0.5555555555555556, \"#d8576b\"], [0.6666666666666666, \"#ed7953\"], [0.7777777777777778, \"#fb9f3a\"], [0.8888888888888888, \"#fdca26\"], [1.0, \"#f0f921\"]], \"type\": \"surface\"}], \"table\": [{\"cells\": {\"fill\": {\"color\": \"#EBF0F8\"}, \"line\": {\"color\": \"white\"}}, \"header\": {\"fill\": {\"color\": \"#C8D4E3\"}, \"line\": {\"color\": \"white\"}}, \"type\": \"table\"}]}, \"layout\": {\"annotationdefaults\": {\"arrowcolor\": \"#2a3f5f\", \"arrowhead\": 0, \"arrowwidth\": 1}, \"coloraxis\": {\"colorbar\": {\"outlinewidth\": 0, \"ticks\": \"\"}}, \"colorscale\": {\"diverging\": [[0, \"#8e0152\"], [0.1, \"#c51b7d\"], [0.2, \"#de77ae\"], [0.3, \"#f1b6da\"], [0.4, \"#fde0ef\"], [0.5, \"#f7f7f7\"], [0.6, \"#e6f5d0\"], [0.7, \"#b8e186\"], [0.8, \"#7fbc41\"], [0.9, \"#4d9221\"], [1, \"#276419\"]], \"sequential\": [[0.0, \"#0d0887\"], [0.1111111111111111, \"#46039f\"], [0.2222222222222222, \"#7201a8\"], [0.3333333333333333, \"#9c179e\"], [0.4444444444444444, \"#bd3786\"], [0.5555555555555556, \"#d8576b\"], [0.6666666666666666, \"#ed7953\"], [0.7777777777777778, \"#fb9f3a\"], [0.8888888888888888, \"#fdca26\"], [1.0, \"#f0f921\"]], \"sequentialminus\": [[0.0, \"#0d0887\"], [0.1111111111111111, \"#46039f\"], [0.2222222222222222, \"#7201a8\"], [0.3333333333333333, \"#9c179e\"], [0.4444444444444444, \"#bd3786\"], [0.5555555555555556, \"#d8576b\"], [0.6666666666666666, \"#ed7953\"], [0.7777777777777778, \"#fb9f3a\"], [0.8888888888888888, \"#fdca26\"], [1.0, \"#f0f921\"]]}, \"colorway\": [\"#636efa\", \"#EF553B\", \"#00cc96\", \"#ab63fa\", \"#FFA15A\", \"#19d3f3\", \"#FF6692\", \"#B6E880\", \"#FF97FF\", \"#FECB52\"], \"font\": {\"color\": \"#2a3f5f\"}, \"geo\": {\"bgcolor\": \"white\", \"lakecolor\": \"white\", \"landcolor\": \"#E5ECF6\", \"showlakes\": true, \"showland\": true, \"subunitcolor\": \"white\"}, \"hoverlabel\": {\"align\": \"left\"}, \"hovermode\": \"closest\", \"mapbox\": {\"style\": \"light\"}, \"paper_bgcolor\": \"white\", \"plot_bgcolor\": \"#E5ECF6\", \"polar\": {\"angularaxis\": {\"gridcolor\": \"white\", \"linecolor\": \"white\", \"ticks\": \"\"}, \"bgcolor\": \"#E5ECF6\", \"radialaxis\": {\"gridcolor\": \"white\", \"linecolor\": \"white\", \"ticks\": \"\"}}, \"scene\": {\"xaxis\": {\"backgroundcolor\": \"#E5ECF6\", \"gridcolor\": \"white\", \"gridwidth\": 2, \"linecolor\": \"white\", \"showbackground\": true, \"ticks\": \"\", \"zerolinecolor\": \"white\"}, \"yaxis\": {\"backgroundcolor\": \"#E5ECF6\", \"gridcolor\": \"white\", \"gridwidth\": 2, \"linecolor\": \"white\", \"showbackground\": true, \"ticks\": \"\", \"zerolinecolor\": \"white\"}, \"zaxis\": {\"backgroundcolor\": \"#E5ECF6\", \"gridcolor\": \"white\", \"gridwidth\": 2, \"linecolor\": \"white\", \"showbackground\": true, \"ticks\": \"\", \"zerolinecolor\": \"white\"}}, \"shapedefaults\": {\"line\": {\"color\": \"#2a3f5f\"}}, \"ternary\": {\"aaxis\": {\"gridcolor\": \"white\", \"linecolor\": \"white\", \"ticks\": \"\"}, \"baxis\": {\"gridcolor\": \"white\", \"linecolor\": \"white\", \"ticks\": \"\"}, \"bgcolor\": \"#E5ECF6\", \"caxis\": {\"gridcolor\": \"white\", \"linecolor\": \"white\", \"ticks\": \"\"}}, \"title\": {\"x\": 0.05}, \"xaxis\": {\"automargin\": true, \"gridcolor\": \"white\", \"linecolor\": \"white\", \"ticks\": \"\", \"title\": {\"standoff\": 15}, \"zerolinecolor\": \"white\", \"zerolinewidth\": 2}, \"yaxis\": {\"automargin\": true, \"gridcolor\": \"white\", \"linecolor\": \"white\", \"ticks\": \"\", \"title\": {\"standoff\": 15}, \"zerolinecolor\": \"white\", \"zerolinewidth\": 2}}}, \"title\": {\"text\": \"Daily Newborn and Dead UTXO\"}, \"xaxis\": {\"rangeselector\": {\"buttons\": [{\"count\": 1, \"label\": \"1m\", \"step\": \"month\", \"stepmode\": \"backward\"}, {\"count\": 6, \"label\": \"6m\", \"step\": \"month\", \"stepmode\": \"backward\"}, {\"count\": 1, \"label\": \"YTD\", \"step\": \"year\", \"stepmode\": \"todate\"}, {\"count\": 1, \"label\": \"1y\", \"step\": \"year\", \"stepmode\": \"backward\"}, {\"step\": \"all\"}]}, \"rangeslider\": {\"visible\": true}, \"title\": {\"text\": \"Date\"}, \"type\": \"date\"}, \"yaxis\": {\"title\": {\"text\": \"UTXO\"}, \"type\": \"log\"}},\n",
              "                        {\"responsive\": true}\n",
              "                    ).then(function(){\n",
              "                            \n",
              "var gd = document.getElementById('30448275-cd47-4b4b-8a40-382d8e69a50b');\n",
              "var x = new MutationObserver(function (mutations, observer) {{\n",
              "        var display = window.getComputedStyle(gd).display;\n",
              "        if (!display || display === 'none') {{\n",
              "            console.log([gd, 'removed!']);\n",
              "            Plotly.purge(gd);\n",
              "            observer.disconnect();\n",
              "        }}\n",
              "}});\n",
              "\n",
              "// Listen for the removal of the full notebook cells\n",
              "var notebookContainer = gd.closest('#notebook-container');\n",
              "if (notebookContainer) {{\n",
              "    x.observe(notebookContainer, {childList: true});\n",
              "}}\n",
              "\n",
              "// Listen for the clearing of the current output cell\n",
              "var outputEl = gd.closest('.output');\n",
              "if (outputEl) {{\n",
              "    x.observe(outputEl, {childList: true});\n",
              "}}\n",
              "\n",
              "                        })\n",
              "                };\n",
              "                \n",
              "            </script>\n",
              "        </div>\n",
              "</body>\n",
              "</html>"
            ]
          },
          "metadata": {
            "tags": []
          }
        }
      ]
    },
    {
      "cell_type": "code",
      "metadata": {
        "id": "ecn4PHgTqo48",
        "outputId": "e8a67fff-4056-447d-dd3c-c3c0c3a4299f",
        "colab": {
          "base_uri": "https://localhost:8080/",
          "height": 542
        }
      },
      "source": [
        "import plotly.graph_objects as go\n",
        "from plotly.offline import iplot\n",
        "\n",
        "# Create traces\n",
        "fig1 = go.Figure()\n",
        "fig1.add_trace(go.Scatter(x=df_UTXO.date, y=df_UTXO.UTXO_Cum,\n",
        "                    mode='markers', name='UTXO Cum'))\n",
        "fig1.update_layout(title='The Accumulated UTXO',\n",
        "                   xaxis_title='Date',\n",
        "                   yaxis_title='UTXO')\n",
        "# Add range slider\n",
        "fig1.update_layout(\n",
        "    xaxis=dict(\n",
        "        rangeselector=dict(\n",
        "            buttons=list([\n",
        "                dict(count=1,\n",
        "                     label=\"1m\",\n",
        "                     step=\"month\",\n",
        "                     stepmode=\"backward\"),\n",
        "                dict(count=6,\n",
        "                     label=\"6m\",\n",
        "                     step=\"month\",\n",
        "                     stepmode=\"backward\"),\n",
        "                dict(count=1,\n",
        "                     label=\"YTD\",\n",
        "                     step=\"year\",\n",
        "                     stepmode=\"todate\"),\n",
        "                dict(count=1,\n",
        "                     label=\"1y\",\n",
        "                     step=\"year\",\n",
        "                     stepmode=\"backward\"),\n",
        "                dict(step=\"all\")\n",
        "            ])\n",
        "        ),\n",
        "        rangeslider=dict(\n",
        "            visible=True\n",
        "        ),\n",
        "        type=\"date\"\n",
        "    )\n",
        ")\n",
        "\n",
        "iplot(fig1)"
      ],
      "execution_count": null,
      "outputs": [
        {
          "output_type": "display_data",
          "data": {
            "text/html": [
              "<html>\n",
              "<head><meta charset=\"utf-8\" /></head>\n",
              "<body>\n",
              "    <div>\n",
              "            <script src=\"https://cdnjs.cloudflare.com/ajax/libs/mathjax/2.7.5/MathJax.js?config=TeX-AMS-MML_SVG\"></script><script type=\"text/javascript\">if (window.MathJax) {MathJax.Hub.Config({SVG: {font: \"STIX-Web\"}});}</script>\n",
              "                <script type=\"text/javascript\">window.PlotlyConfig = {MathJaxConfig: 'local'};</script>\n",
              "        <script src=\"https://cdn.plot.ly/plotly-latest.min.js\"></script>    \n",
              "            <div id=\"6a775df5-1b03-4ce5-826e-c9d12ddc375c\" class=\"plotly-graph-div\" style=\"height:525px; width:100%;\"></div>\n",
              "            <script type=\"text/javascript\">\n",
              "                \n",
              "                    window.PLOTLYENV=window.PLOTLYENV || {};\n",
              "                    \n",
              "                if (document.getElementById(\"6a775df5-1b03-4ce5-826e-c9d12ddc375c\")) {\n",
              "                    Plotly.newPlot(\n",
              "                        '6a775df5-1b03-4ce5-826e-c9d12ddc375c',\n",
              "                        [{\"mode\": \"markers\", \"name\": \"UTXO Cum\", \"type\": \"scatter\", \"x\": [\"2009-01-09T00:00:00\", \"2009-01-10T00:00:00\", \"2009-01-11T00:00:00\", \"2009-01-12T00:00:00\", \"2009-01-13T00:00:00\", \"2009-01-14T00:00:00\", \"2009-01-15T00:00:00\", \"2009-01-16T00:00:00\", \"2009-01-17T00:00:00\", \"2009-01-18T00:00:00\", \"2009-01-19T00:00:00\", \"2009-01-20T00:00:00\", \"2009-01-21T00:00:00\", \"2009-01-22T00:00:00\", \"2009-01-23T00:00:00\", \"2009-01-24T00:00:00\", \"2009-01-25T00:00:00\", \"2009-01-26T00:00:00\", \"2009-01-27T00:00:00\", \"2009-01-28T00:00:00\", \"2009-01-29T00:00:00\", \"2009-01-30T00:00:00\", \"2009-01-31T00:00:00\", \"2009-02-01T00:00:00\", \"2009-02-02T00:00:00\", \"2009-02-03T00:00:00\", \"2009-02-04T00:00:00\", \"2009-02-05T00:00:00\", \"2009-02-06T00:00:00\", \"2009-02-07T00:00:00\", \"2009-02-08T00:00:00\", \"2009-02-09T00:00:00\", \"2009-02-10T00:00:00\", \"2009-02-11T00:00:00\", \"2009-02-12T00:00:00\", \"2009-02-13T00:00:00\", \"2009-02-14T00:00:00\", \"2009-02-15T00:00:00\", \"2009-02-16T00:00:00\", \"2009-02-17T00:00:00\", \"2009-02-18T00:00:00\", \"2009-02-19T00:00:00\", \"2009-02-20T00:00:00\", \"2009-02-21T00:00:00\", \"2009-02-22T00:00:00\", \"2009-02-23T00:00:00\", \"2009-02-24T00:00:00\", \"2009-02-25T00:00:00\", \"2009-02-26T00:00:00\", \"2009-02-27T00:00:00\", \"2009-02-28T00:00:00\", \"2009-03-01T00:00:00\", \"2009-03-02T00:00:00\", \"2009-03-03T00:00:00\", \"2009-03-04T00:00:00\", \"2009-03-05T00:00:00\", \"2009-03-06T00:00:00\", \"2009-03-07T00:00:00\", \"2009-03-08T00:00:00\", \"2009-03-09T00:00:00\", \"2009-03-10T00:00:00\", \"2009-03-11T00:00:00\", \"2009-03-12T00:00:00\", \"2009-03-13T00:00:00\", \"2009-03-14T00:00:00\", \"2009-03-15T00:00:00\", \"2009-03-16T00:00:00\", \"2009-03-17T00:00:00\", \"2009-03-18T00:00:00\", \"2009-03-19T00:00:00\", \"2009-03-20T00:00:00\", \"2009-03-21T00:00:00\", \"2009-03-22T00:00:00\", \"2009-03-23T00:00:00\", \"2009-03-24T00:00:00\", \"2009-03-25T00:00:00\", \"2009-03-26T00:00:00\", \"2009-03-27T00:00:00\", \"2009-03-28T00:00:00\", \"2009-03-29T00:00:00\", \"2009-03-30T00:00:00\", \"2009-03-31T00:00:00\", \"2009-04-01T00:00:00\", \"2009-04-02T00:00:00\", \"2009-04-03T00:00:00\", \"2009-04-04T00:00:00\", \"2009-04-05T00:00:00\", \"2009-04-06T00:00:00\", \"2009-04-07T00:00:00\", \"2009-04-08T00:00:00\", \"2009-04-09T00:00:00\", \"2009-04-10T00:00:00\", \"2009-04-11T00:00:00\", \"2009-04-12T00:00:00\", \"2009-04-13T00:00:00\", \"2009-04-14T00:00:00\", \"2009-04-15T00:00:00\", \"2009-04-16T00:00:00\", \"2009-04-17T00:00:00\", \"2009-04-18T00:00:00\", \"2009-04-19T00:00:00\", \"2009-04-20T00:00:00\", \"2009-04-21T00:00:00\", \"2009-04-22T00:00:00\", \"2009-04-23T00:00:00\", \"2009-04-24T00:00:00\", \"2009-04-25T00:00:00\", \"2009-04-26T00:00:00\", \"2009-04-27T00:00:00\", \"2009-04-28T00:00:00\", \"2009-04-29T00:00:00\", \"2009-04-30T00:00:00\", \"2009-05-01T00:00:00\", \"2009-05-02T00:00:00\", \"2009-05-03T00:00:00\", \"2009-05-04T00:00:00\", \"2009-05-05T00:00:00\", \"2009-05-06T00:00:00\", \"2009-05-07T00:00:00\", \"2009-05-08T00:00:00\", \"2009-05-09T00:00:00\", \"2009-05-10T00:00:00\", \"2009-05-11T00:00:00\", \"2009-05-12T00:00:00\", \"2009-05-13T00:00:00\", \"2009-05-14T00:00:00\", \"2009-05-15T00:00:00\", \"2009-05-16T00:00:00\", \"2009-05-17T00:00:00\", \"2009-05-18T00:00:00\", \"2009-05-19T00:00:00\", \"2009-05-20T00:00:00\", \"2009-05-21T00:00:00\", \"2009-05-22T00:00:00\", \"2009-05-23T00:00:00\", \"2009-05-24T00:00:00\", \"2009-05-25T00:00:00\", \"2009-05-26T00:00:00\", \"2009-05-27T00:00:00\", \"2009-05-28T00:00:00\", \"2009-05-29T00:00:00\", \"2009-05-30T00:00:00\", \"2009-05-31T00:00:00\", \"2009-06-01T00:00:00\", \"2009-06-02T00:00:00\", \"2009-06-03T00:00:00\", \"2009-06-04T00:00:00\", \"2009-06-05T00:00:00\", \"2009-06-06T00:00:00\", \"2009-06-07T00:00:00\", \"2009-06-08T00:00:00\", \"2009-06-09T00:00:00\", \"2009-06-10T00:00:00\", \"2009-06-11T00:00:00\", \"2009-06-12T00:00:00\", \"2009-06-13T00:00:00\", \"2009-06-14T00:00:00\", \"2009-06-15T00:00:00\", \"2009-06-16T00:00:00\", \"2009-06-17T00:00:00\", \"2009-06-18T00:00:00\", \"2009-06-19T00:00:00\", \"2009-06-20T00:00:00\", \"2009-06-21T00:00:00\", \"2009-06-22T00:00:00\", \"2009-06-23T00:00:00\", \"2009-06-24T00:00:00\", \"2009-06-25T00:00:00\", \"2009-06-26T00:00:00\", \"2009-06-27T00:00:00\", \"2009-06-28T00:00:00\", \"2009-06-29T00:00:00\", \"2009-06-30T00:00:00\", \"2009-07-01T00:00:00\", \"2009-07-02T00:00:00\", \"2009-07-03T00:00:00\", \"2009-07-04T00:00:00\", \"2009-07-05T00:00:00\", \"2009-07-06T00:00:00\", \"2009-07-07T00:00:00\", \"2009-07-08T00:00:00\", \"2009-07-09T00:00:00\", \"2009-07-10T00:00:00\", \"2009-07-11T00:00:00\", \"2009-07-12T00:00:00\", \"2009-07-13T00:00:00\", \"2009-07-14T00:00:00\", \"2009-07-15T00:00:00\", \"2009-07-16T00:00:00\", \"2009-07-17T00:00:00\", \"2009-07-18T00:00:00\", \"2009-07-19T00:00:00\", \"2009-07-20T00:00:00\", \"2009-07-21T00:00:00\", \"2009-07-22T00:00:00\", \"2009-07-23T00:00:00\", \"2009-07-24T00:00:00\", \"2009-07-25T00:00:00\", \"2009-07-26T00:00:00\", \"2009-07-27T00:00:00\", \"2009-07-28T00:00:00\", \"2009-07-29T00:00:00\", \"2009-07-30T00:00:00\", \"2009-07-31T00:00:00\", \"2009-08-01T00:00:00\", \"2009-08-02T00:00:00\", \"2009-08-03T00:00:00\", \"2009-08-04T00:00:00\", \"2009-08-05T00:00:00\", \"2009-08-06T00:00:00\", \"2009-08-07T00:00:00\", \"2009-08-08T00:00:00\", \"2009-08-09T00:00:00\", \"2009-08-10T00:00:00\", \"2009-08-11T00:00:00\", \"2009-08-12T00:00:00\", \"2009-08-13T00:00:00\", \"2009-08-14T00:00:00\", \"2009-08-15T00:00:00\", \"2009-08-16T00:00:00\", \"2009-08-17T00:00:00\", \"2009-08-18T00:00:00\", \"2009-08-19T00:00:00\", \"2009-08-20T00:00:00\", \"2009-08-21T00:00:00\", \"2009-08-22T00:00:00\", \"2009-08-23T00:00:00\", \"2009-08-24T00:00:00\", \"2009-08-25T00:00:00\", \"2009-08-26T00:00:00\", \"2009-08-27T00:00:00\", \"2009-08-28T00:00:00\", \"2009-08-29T00:00:00\", \"2009-08-30T00:00:00\", \"2009-08-31T00:00:00\", \"2009-09-01T00:00:00\", \"2009-09-02T00:00:00\", \"2009-09-03T00:00:00\", \"2009-09-04T00:00:00\", \"2009-09-05T00:00:00\", \"2009-09-06T00:00:00\", \"2009-09-07T00:00:00\", \"2009-09-08T00:00:00\", \"2009-09-09T00:00:00\", \"2009-09-10T00:00:00\", \"2009-09-11T00:00:00\", \"2009-09-12T00:00:00\", \"2009-09-13T00:00:00\", \"2009-09-14T00:00:00\", \"2009-09-15T00:00:00\", \"2009-09-16T00:00:00\", \"2009-09-17T00:00:00\", \"2009-09-18T00:00:00\", \"2009-09-19T00:00:00\", \"2009-09-20T00:00:00\", \"2009-09-21T00:00:00\", \"2009-09-22T00:00:00\", \"2009-09-23T00:00:00\", \"2009-09-24T00:00:00\", \"2009-09-25T00:00:00\", \"2009-09-26T00:00:00\", \"2009-09-27T00:00:00\", \"2009-09-28T00:00:00\", \"2009-09-29T00:00:00\", \"2009-09-30T00:00:00\", \"2009-10-01T00:00:00\", \"2009-10-02T00:00:00\", \"2009-10-03T00:00:00\", \"2009-10-04T00:00:00\", \"2009-10-05T00:00:00\", \"2009-10-06T00:00:00\", \"2009-10-07T00:00:00\", \"2009-10-08T00:00:00\", \"2009-10-09T00:00:00\", \"2009-10-10T00:00:00\", \"2009-10-11T00:00:00\", \"2009-10-12T00:00:00\", \"2009-10-13T00:00:00\", \"2009-10-14T00:00:00\", \"2009-10-15T00:00:00\", \"2009-10-16T00:00:00\", \"2009-10-17T00:00:00\", \"2009-10-18T00:00:00\", \"2009-10-19T00:00:00\", \"2009-10-20T00:00:00\", \"2009-10-21T00:00:00\", \"2009-10-22T00:00:00\", \"2009-10-23T00:00:00\", \"2009-10-24T00:00:00\", \"2009-10-25T00:00:00\", \"2009-10-26T00:00:00\", \"2009-10-27T00:00:00\", \"2009-10-28T00:00:00\", \"2009-10-29T00:00:00\", \"2009-10-30T00:00:00\", \"2009-10-31T00:00:00\", \"2009-11-01T00:00:00\", \"2009-11-02T00:00:00\", \"2009-11-03T00:00:00\", \"2009-11-04T00:00:00\", \"2009-11-05T00:00:00\", \"2009-11-06T00:00:00\", \"2009-11-07T00:00:00\", \"2009-11-08T00:00:00\", \"2009-11-09T00:00:00\", \"2009-11-10T00:00:00\", \"2009-11-11T00:00:00\", \"2009-11-12T00:00:00\", \"2009-11-13T00:00:00\", \"2009-11-14T00:00:00\", \"2009-11-15T00:00:00\", \"2009-11-16T00:00:00\", \"2009-11-17T00:00:00\", \"2009-11-18T00:00:00\", \"2009-11-19T00:00:00\", \"2009-11-20T00:00:00\", \"2009-11-21T00:00:00\", \"2009-11-22T00:00:00\", \"2009-11-23T00:00:00\", \"2009-11-24T00:00:00\", \"2009-11-25T00:00:00\", \"2009-11-26T00:00:00\", \"2009-11-27T00:00:00\", \"2009-11-28T00:00:00\", \"2009-11-29T00:00:00\", \"2009-11-30T00:00:00\", \"2009-12-01T00:00:00\", \"2009-12-02T00:00:00\", \"2009-12-03T00:00:00\", \"2009-12-04T00:00:00\", \"2009-12-05T00:00:00\", \"2009-12-06T00:00:00\", \"2009-12-07T00:00:00\", \"2009-12-08T00:00:00\", \"2009-12-09T00:00:00\", \"2009-12-10T00:00:00\", \"2009-12-11T00:00:00\", \"2009-12-12T00:00:00\", \"2009-12-13T00:00:00\", \"2009-12-14T00:00:00\", \"2009-12-15T00:00:00\", \"2009-12-16T00:00:00\", \"2009-12-17T00:00:00\", \"2009-12-18T00:00:00\", \"2009-12-19T00:00:00\", \"2009-12-20T00:00:00\", \"2009-12-21T00:00:00\", \"2009-12-22T00:00:00\", \"2009-12-23T00:00:00\", \"2009-12-24T00:00:00\", \"2009-12-25T00:00:00\", \"2009-12-26T00:00:00\", \"2009-12-27T00:00:00\", \"2009-12-28T00:00:00\", \"2009-12-29T00:00:00\", \"2009-12-30T00:00:00\", \"2009-12-31T00:00:00\", \"2010-01-01T00:00:00\", \"2010-01-02T00:00:00\", \"2010-01-03T00:00:00\", \"2010-01-04T00:00:00\", \"2010-01-05T00:00:00\", \"2010-01-06T00:00:00\", \"2010-01-07T00:00:00\", \"2010-01-08T00:00:00\", \"2010-01-09T00:00:00\", \"2010-01-10T00:00:00\", \"2010-01-11T00:00:00\", \"2010-01-12T00:00:00\", \"2010-01-13T00:00:00\", \"2010-01-14T00:00:00\", \"2010-01-15T00:00:00\", \"2010-01-16T00:00:00\", \"2010-01-17T00:00:00\", \"2010-01-18T00:00:00\", \"2010-01-19T00:00:00\", \"2010-01-20T00:00:00\", \"2010-01-21T00:00:00\", \"2010-01-22T00:00:00\", \"2010-01-23T00:00:00\", \"2010-01-24T00:00:00\", \"2010-01-25T00:00:00\", \"2010-01-26T00:00:00\", \"2010-01-27T00:00:00\", \"2010-01-28T00:00:00\", \"2010-01-29T00:00:00\", \"2010-01-30T00:00:00\", \"2010-01-31T00:00:00\", \"2010-02-01T00:00:00\", \"2010-02-02T00:00:00\", \"2010-02-03T00:00:00\", \"2010-02-04T00:00:00\", \"2010-02-05T00:00:00\", \"2010-02-06T00:00:00\", \"2010-02-07T00:00:00\", \"2010-02-08T00:00:00\", \"2010-02-09T00:00:00\", \"2010-02-10T00:00:00\", \"2010-02-11T00:00:00\", \"2010-02-12T00:00:00\", \"2010-02-13T00:00:00\", \"2010-02-14T00:00:00\", \"2010-02-15T00:00:00\", \"2010-02-16T00:00:00\", \"2010-02-17T00:00:00\", \"2010-02-18T00:00:00\", \"2010-02-19T00:00:00\", \"2010-02-20T00:00:00\", \"2010-02-21T00:00:00\", \"2010-02-22T00:00:00\", \"2010-02-23T00:00:00\", \"2010-02-24T00:00:00\", \"2010-02-25T00:00:00\", \"2010-02-26T00:00:00\", \"2010-02-27T00:00:00\", \"2010-02-28T00:00:00\", \"2010-03-01T00:00:00\", \"2010-03-02T00:00:00\", \"2010-03-03T00:00:00\", \"2010-03-04T00:00:00\", \"2010-03-05T00:00:00\", \"2010-03-06T00:00:00\", \"2010-03-07T00:00:00\", \"2010-03-08T00:00:00\", \"2010-03-09T00:00:00\", \"2010-03-10T00:00:00\", \"2010-03-11T00:00:00\", \"2010-03-12T00:00:00\", \"2010-03-13T00:00:00\", \"2010-03-14T00:00:00\", \"2010-03-15T00:00:00\", \"2010-03-16T00:00:00\", \"2010-03-17T00:00:00\", \"2010-03-18T00:00:00\", \"2010-03-19T00:00:00\", \"2010-03-20T00:00:00\", \"2010-03-21T00:00:00\", \"2010-03-22T00:00:00\", \"2010-03-23T00:00:00\", \"2010-03-24T00:00:00\", \"2010-03-25T00:00:00\", \"2010-03-26T00:00:00\", \"2010-03-27T00:00:00\", \"2010-03-28T00:00:00\", \"2010-03-29T00:00:00\", \"2010-03-30T00:00:00\", \"2010-03-31T00:00:00\", \"2010-04-01T00:00:00\", \"2010-04-02T00:00:00\", \"2010-04-03T00:00:00\", \"2010-04-04T00:00:00\", \"2010-04-05T00:00:00\", \"2010-04-06T00:00:00\", \"2010-04-07T00:00:00\", \"2010-04-08T00:00:00\", \"2010-04-09T00:00:00\", \"2010-04-10T00:00:00\", \"2010-04-11T00:00:00\", \"2010-04-12T00:00:00\", \"2010-04-13T00:00:00\", \"2010-04-14T00:00:00\", \"2010-04-15T00:00:00\", \"2010-04-16T00:00:00\", \"2010-04-17T00:00:00\", \"2010-04-18T00:00:00\", \"2010-04-19T00:00:00\", \"2010-04-20T00:00:00\", \"2010-04-21T00:00:00\", \"2010-04-22T00:00:00\", \"2010-04-23T00:00:00\", \"2010-04-24T00:00:00\", \"2010-04-25T00:00:00\", \"2010-04-26T00:00:00\", \"2010-04-27T00:00:00\", \"2010-04-28T00:00:00\", \"2010-04-29T00:00:00\", \"2010-04-30T00:00:00\", \"2010-05-01T00:00:00\", \"2010-05-02T00:00:00\", \"2010-05-03T00:00:00\", \"2010-05-04T00:00:00\", \"2010-05-05T00:00:00\", \"2010-05-06T00:00:00\", \"2010-05-07T00:00:00\", \"2010-05-08T00:00:00\", \"2010-05-09T00:00:00\", \"2010-05-10T00:00:00\", \"2010-05-11T00:00:00\", \"2010-05-12T00:00:00\", \"2010-05-13T00:00:00\", \"2010-05-14T00:00:00\", \"2010-05-15T00:00:00\", \"2010-05-16T00:00:00\", \"2010-05-17T00:00:00\", \"2010-05-18T00:00:00\", \"2010-05-19T00:00:00\", \"2010-05-20T00:00:00\", \"2010-05-21T00:00:00\", \"2010-05-22T00:00:00\", \"2010-05-23T00:00:00\", \"2010-05-24T00:00:00\", \"2010-05-25T00:00:00\", \"2010-05-26T00:00:00\", \"2010-05-27T00:00:00\", \"2010-05-28T00:00:00\", \"2010-05-29T00:00:00\", \"2010-05-30T00:00:00\", \"2010-05-31T00:00:00\", \"2010-06-01T00:00:00\", \"2010-06-02T00:00:00\", \"2010-06-03T00:00:00\", \"2010-06-04T00:00:00\", \"2010-06-05T00:00:00\", \"2010-06-06T00:00:00\", \"2010-06-07T00:00:00\", \"2010-06-08T00:00:00\", \"2010-06-09T00:00:00\", \"2010-06-10T00:00:00\", \"2010-06-11T00:00:00\", \"2010-06-12T00:00:00\", \"2010-06-13T00:00:00\", \"2010-06-14T00:00:00\", \"2010-06-15T00:00:00\", \"2010-06-16T00:00:00\", \"2010-06-17T00:00:00\", \"2010-06-18T00:00:00\", \"2010-06-19T00:00:00\", \"2010-06-20T00:00:00\", \"2010-06-21T00:00:00\", \"2010-06-22T00:00:00\", \"2010-06-23T00:00:00\", \"2010-06-24T00:00:00\", \"2010-06-25T00:00:00\", \"2010-06-26T00:00:00\", \"2010-06-27T00:00:00\", \"2010-06-28T00:00:00\", \"2010-06-29T00:00:00\", \"2010-06-30T00:00:00\", \"2010-07-01T00:00:00\", \"2010-07-02T00:00:00\", \"2010-07-03T00:00:00\", \"2010-07-04T00:00:00\", \"2010-07-05T00:00:00\", \"2010-07-06T00:00:00\", \"2010-07-07T00:00:00\", \"2010-07-08T00:00:00\", \"2010-07-09T00:00:00\", \"2010-07-10T00:00:00\", \"2010-07-11T00:00:00\", \"2010-07-12T00:00:00\", \"2010-07-13T00:00:00\", \"2010-07-14T00:00:00\", \"2010-07-15T00:00:00\", \"2010-07-16T00:00:00\", \"2010-07-17T00:00:00\", \"2010-07-18T00:00:00\", \"2010-07-19T00:00:00\", \"2010-07-20T00:00:00\", \"2010-07-21T00:00:00\", \"2010-07-22T00:00:00\", \"2010-07-23T00:00:00\", \"2010-07-24T00:00:00\", \"2010-07-25T00:00:00\", \"2010-07-26T00:00:00\", \"2010-07-27T00:00:00\", \"2010-07-28T00:00:00\", \"2010-07-29T00:00:00\", \"2010-07-30T00:00:00\", \"2010-07-31T00:00:00\", \"2010-08-01T00:00:00\", \"2010-08-02T00:00:00\", \"2010-08-03T00:00:00\", \"2010-08-04T00:00:00\", \"2010-08-05T00:00:00\", \"2010-08-06T00:00:00\", \"2010-08-07T00:00:00\", \"2010-08-08T00:00:00\", \"2010-08-09T00:00:00\", \"2010-08-10T00:00:00\", \"2010-08-11T00:00:00\", \"2010-08-12T00:00:00\", \"2010-08-13T00:00:00\", \"2010-08-14T00:00:00\", \"2010-08-15T00:00:00\", \"2010-08-16T00:00:00\", \"2010-08-17T00:00:00\", \"2010-08-18T00:00:00\", \"2010-08-19T00:00:00\", \"2010-08-20T00:00:00\", \"2010-08-21T00:00:00\", \"2010-08-22T00:00:00\", \"2010-08-23T00:00:00\", \"2010-08-24T00:00:00\", \"2010-08-25T00:00:00\", \"2010-08-26T00:00:00\", \"2010-08-27T00:00:00\", \"2010-08-28T00:00:00\", \"2010-08-29T00:00:00\", \"2010-08-30T00:00:00\", \"2010-08-31T00:00:00\", \"2010-09-01T00:00:00\", \"2010-09-02T00:00:00\", \"2010-09-03T00:00:00\", \"2010-09-04T00:00:00\", \"2010-09-05T00:00:00\", \"2010-09-06T00:00:00\", \"2010-09-07T00:00:00\", \"2010-09-08T00:00:00\", \"2010-09-09T00:00:00\", \"2010-09-10T00:00:00\", \"2010-09-11T00:00:00\", \"2010-09-12T00:00:00\", \"2010-09-13T00:00:00\", \"2010-09-14T00:00:00\", \"2010-09-15T00:00:00\", \"2010-09-16T00:00:00\", \"2010-09-17T00:00:00\", \"2010-09-18T00:00:00\", \"2010-09-19T00:00:00\", \"2010-09-20T00:00:00\", \"2010-09-21T00:00:00\", \"2010-09-22T00:00:00\", \"2010-09-23T00:00:00\", \"2010-09-24T00:00:00\", \"2010-09-25T00:00:00\", \"2010-09-26T00:00:00\", \"2010-09-27T00:00:00\", \"2010-09-28T00:00:00\", \"2010-09-29T00:00:00\", \"2010-09-30T00:00:00\", \"2010-10-01T00:00:00\", \"2010-10-02T00:00:00\", \"2010-10-03T00:00:00\", \"2010-10-04T00:00:00\", \"2010-10-05T00:00:00\", \"2010-10-06T00:00:00\", \"2010-10-07T00:00:00\", \"2010-10-08T00:00:00\", \"2010-10-09T00:00:00\", \"2010-10-10T00:00:00\", \"2010-10-11T00:00:00\", \"2010-10-12T00:00:00\", \"2010-10-13T00:00:00\", \"2010-10-14T00:00:00\", \"2010-10-15T00:00:00\", \"2010-10-16T00:00:00\", \"2010-10-17T00:00:00\", \"2010-10-18T00:00:00\", \"2010-10-19T00:00:00\", \"2010-10-20T00:00:00\", \"2010-10-21T00:00:00\", \"2010-10-22T00:00:00\", \"2010-10-23T00:00:00\", \"2010-10-24T00:00:00\", \"2010-10-25T00:00:00\", \"2010-10-26T00:00:00\", \"2010-10-27T00:00:00\", \"2010-10-28T00:00:00\", \"2010-10-29T00:00:00\", \"2010-10-30T00:00:00\", \"2010-10-31T00:00:00\", \"2010-11-01T00:00:00\", \"2010-11-02T00:00:00\", \"2010-11-03T00:00:00\", \"2010-11-04T00:00:00\", \"2010-11-05T00:00:00\", \"2010-11-06T00:00:00\", \"2010-11-07T00:00:00\", \"2010-11-08T00:00:00\", \"2010-11-09T00:00:00\", \"2010-11-10T00:00:00\", \"2010-11-11T00:00:00\", \"2010-11-12T00:00:00\", \"2010-11-13T00:00:00\", \"2010-11-14T00:00:00\", \"2010-11-15T00:00:00\", \"2010-11-16T00:00:00\", \"2010-11-17T00:00:00\", \"2010-11-18T00:00:00\", \"2010-11-19T00:00:00\", \"2010-11-20T00:00:00\", \"2010-11-21T00:00:00\", \"2010-11-22T00:00:00\", \"2010-11-23T00:00:00\", \"2010-11-24T00:00:00\", \"2010-11-25T00:00:00\", \"2010-11-26T00:00:00\", \"2010-11-27T00:00:00\", \"2010-11-28T00:00:00\", \"2010-11-29T00:00:00\", \"2010-11-30T00:00:00\", \"2010-12-01T00:00:00\", \"2010-12-02T00:00:00\", \"2010-12-03T00:00:00\", \"2010-12-04T00:00:00\", \"2010-12-05T00:00:00\", \"2010-12-06T00:00:00\", \"2010-12-07T00:00:00\", \"2010-12-08T00:00:00\", \"2010-12-09T00:00:00\", \"2010-12-10T00:00:00\", \"2010-12-11T00:00:00\", \"2010-12-12T00:00:00\", \"2010-12-13T00:00:00\", \"2010-12-14T00:00:00\", \"2010-12-15T00:00:00\", \"2010-12-16T00:00:00\", \"2010-12-17T00:00:00\", \"2010-12-18T00:00:00\", \"2010-12-19T00:00:00\", \"2010-12-20T00:00:00\", \"2010-12-21T00:00:00\", \"2010-12-22T00:00:00\", \"2010-12-23T00:00:00\", \"2010-12-24T00:00:00\", \"2010-12-25T00:00:00\", \"2010-12-26T00:00:00\", \"2010-12-27T00:00:00\", \"2010-12-28T00:00:00\", \"2010-12-29T00:00:00\", \"2010-12-30T00:00:00\", \"2010-12-31T00:00:00\", \"2011-01-01T00:00:00\", \"2011-01-02T00:00:00\", \"2011-01-03T00:00:00\", \"2011-01-04T00:00:00\", \"2011-01-05T00:00:00\", \"2011-01-06T00:00:00\", \"2011-01-07T00:00:00\", \"2011-01-08T00:00:00\", \"2011-01-09T00:00:00\", \"2011-01-10T00:00:00\", \"2011-01-11T00:00:00\", \"2011-01-12T00:00:00\", \"2011-01-13T00:00:00\", \"2011-01-14T00:00:00\", \"2011-01-15T00:00:00\", \"2011-01-16T00:00:00\", \"2011-01-17T00:00:00\", \"2011-01-18T00:00:00\", \"2011-01-19T00:00:00\", \"2011-01-20T00:00:00\", \"2011-01-21T00:00:00\", \"2011-01-22T00:00:00\", \"2011-01-23T00:00:00\", \"2011-01-24T00:00:00\", \"2011-01-25T00:00:00\", \"2011-01-26T00:00:00\", \"2011-01-27T00:00:00\", \"2011-01-28T00:00:00\", \"2011-01-29T00:00:00\", \"2011-01-30T00:00:00\", \"2011-01-31T00:00:00\", \"2011-02-01T00:00:00\", \"2011-02-02T00:00:00\", \"2011-02-03T00:00:00\", \"2011-02-04T00:00:00\", \"2011-02-05T00:00:00\", \"2011-02-06T00:00:00\", \"2011-02-07T00:00:00\", \"2011-02-08T00:00:00\", \"2011-02-09T00:00:00\", \"2011-02-10T00:00:00\", \"2011-02-11T00:00:00\", \"2011-02-12T00:00:00\", \"2011-02-13T00:00:00\", \"2011-02-14T00:00:00\", \"2011-02-15T00:00:00\", \"2011-02-16T00:00:00\", \"2011-02-17T00:00:00\", \"2011-02-18T00:00:00\", \"2011-02-19T00:00:00\", \"2011-02-20T00:00:00\", \"2011-02-21T00:00:00\", \"2011-02-22T00:00:00\", \"2011-02-23T00:00:00\", \"2011-02-24T00:00:00\", \"2011-02-25T00:00:00\", \"2011-02-26T00:00:00\", \"2011-02-27T00:00:00\", \"2011-02-28T00:00:00\", \"2011-03-01T00:00:00\", \"2011-03-02T00:00:00\", \"2011-03-03T00:00:00\", \"2011-03-04T00:00:00\", \"2011-03-05T00:00:00\", \"2011-03-06T00:00:00\", \"2011-03-07T00:00:00\", \"2011-03-08T00:00:00\", \"2011-03-09T00:00:00\", \"2011-03-10T00:00:00\", \"2011-03-11T00:00:00\", \"2011-03-12T00:00:00\", \"2011-03-13T00:00:00\", \"2011-03-14T00:00:00\", \"2011-03-15T00:00:00\", \"2011-03-16T00:00:00\", \"2011-03-17T00:00:00\", \"2011-03-18T00:00:00\", \"2011-03-19T00:00:00\", \"2011-03-20T00:00:00\", \"2011-03-21T00:00:00\", \"2011-03-22T00:00:00\", \"2011-03-23T00:00:00\", \"2011-03-24T00:00:00\", \"2011-03-25T00:00:00\", \"2011-03-26T00:00:00\", \"2011-03-27T00:00:00\", \"2011-03-28T00:00:00\", \"2011-03-29T00:00:00\", \"2011-03-30T00:00:00\", \"2011-03-31T00:00:00\", \"2011-04-01T00:00:00\", \"2011-04-02T00:00:00\", \"2011-04-03T00:00:00\", \"2011-04-04T00:00:00\", \"2011-04-05T00:00:00\", \"2011-04-06T00:00:00\", \"2011-04-07T00:00:00\", \"2011-04-08T00:00:00\", \"2011-04-09T00:00:00\", \"2011-04-10T00:00:00\", \"2011-04-11T00:00:00\", \"2011-04-12T00:00:00\", \"2011-04-13T00:00:00\", \"2011-04-14T00:00:00\", \"2011-04-15T00:00:00\", \"2011-04-16T00:00:00\", \"2011-04-17T00:00:00\", \"2011-04-18T00:00:00\", \"2011-04-19T00:00:00\", \"2011-04-20T00:00:00\", \"2011-04-21T00:00:00\", \"2011-04-22T00:00:00\", \"2011-04-23T00:00:00\", \"2011-04-24T00:00:00\", \"2011-04-25T00:00:00\", \"2011-04-26T00:00:00\", \"2011-04-27T00:00:00\", \"2011-04-28T00:00:00\", \"2011-04-29T00:00:00\", \"2011-04-30T00:00:00\", \"2011-05-01T00:00:00\", \"2011-05-02T00:00:00\", \"2011-05-03T00:00:00\", \"2011-05-04T00:00:00\", \"2011-05-05T00:00:00\", \"2011-05-06T00:00:00\", \"2011-05-07T00:00:00\", \"2011-05-08T00:00:00\", \"2011-05-09T00:00:00\", \"2011-05-10T00:00:00\", \"2011-05-11T00:00:00\", \"2011-05-12T00:00:00\", \"2011-05-13T00:00:00\", \"2011-05-14T00:00:00\", \"2011-05-15T00:00:00\", \"2011-05-16T00:00:00\", \"2011-05-17T00:00:00\", \"2011-05-18T00:00:00\", \"2011-05-19T00:00:00\", \"2011-05-20T00:00:00\", \"2011-05-21T00:00:00\", \"2011-05-22T00:00:00\", \"2011-05-23T00:00:00\", \"2011-05-24T00:00:00\", \"2011-05-25T00:00:00\", \"2011-05-26T00:00:00\", \"2011-05-27T00:00:00\", \"2011-05-28T00:00:00\", \"2011-05-29T00:00:00\", \"2011-05-30T00:00:00\", \"2011-05-31T00:00:00\", \"2011-06-01T00:00:00\", \"2011-06-02T00:00:00\", \"2011-06-03T00:00:00\", \"2011-06-04T00:00:00\", \"2011-06-05T00:00:00\", \"2011-06-06T00:00:00\", \"2011-06-07T00:00:00\", \"2011-06-08T00:00:00\", \"2011-06-09T00:00:00\", \"2011-06-10T00:00:00\", \"2011-06-11T00:00:00\", \"2011-06-12T00:00:00\", \"2011-06-13T00:00:00\", \"2011-06-14T00:00:00\", \"2011-06-15T00:00:00\", \"2011-06-16T00:00:00\", \"2011-06-17T00:00:00\", \"2011-06-18T00:00:00\", \"2011-06-19T00:00:00\", \"2011-06-20T00:00:00\", \"2011-06-21T00:00:00\", \"2011-06-22T00:00:00\", \"2011-06-23T00:00:00\", \"2011-06-24T00:00:00\", \"2011-06-25T00:00:00\", \"2011-06-26T00:00:00\", \"2011-06-27T00:00:00\", \"2011-06-28T00:00:00\", \"2011-06-29T00:00:00\", \"2011-06-30T00:00:00\", \"2011-07-01T00:00:00\", \"2011-07-02T00:00:00\", \"2011-07-03T00:00:00\", \"2011-07-04T00:00:00\", \"2011-07-05T00:00:00\", \"2011-07-06T00:00:00\", \"2011-07-07T00:00:00\", \"2011-07-08T00:00:00\", \"2011-07-09T00:00:00\", \"2011-07-10T00:00:00\", \"2011-07-11T00:00:00\", \"2011-07-12T00:00:00\", \"2011-07-13T00:00:00\", \"2011-07-14T00:00:00\", \"2011-07-15T00:00:00\", \"2011-07-16T00:00:00\", \"2011-07-17T00:00:00\", \"2011-07-18T00:00:00\", \"2011-07-19T00:00:00\", \"2011-07-20T00:00:00\", \"2011-07-21T00:00:00\", \"2011-07-22T00:00:00\", \"2011-07-23T00:00:00\", \"2011-07-24T00:00:00\", \"2011-07-25T00:00:00\", \"2011-07-26T00:00:00\", \"2011-07-27T00:00:00\", \"2011-07-28T00:00:00\", \"2011-07-29T00:00:00\", \"2011-07-30T00:00:00\", \"2011-07-31T00:00:00\", \"2011-08-01T00:00:00\", \"2011-08-02T00:00:00\", \"2011-08-03T00:00:00\", \"2011-08-04T00:00:00\", \"2011-08-05T00:00:00\", \"2011-08-06T00:00:00\"], \"y\": [700.0, 3750.0, 8400.0, 13100.0, 19250.0, 25700.0, 32000.0, 37400.0, 42850.0, 48200.0, 53950.0, 59650.0, 64750.0, 69300.0, 73500.0, 83550.0, 93100.0, 97900.0, 102750.0, 108350.0, 114400.0, 120250.0, 127150.0, 132800.0, 139200.0, 146150.0, 152100.0, 158400.0, 164500.0, 170950.0, 177550.0, 184250.0, 190250.0, 196900.0, 202850.0, 209050.0, 215850.0, 222250.0, 228350.0, 234200.0, 240100.0, 246300.0, 252400.0, 258100.0, 264150.0, 269550.0, 274850.0, 280100.0, 285450.0, 291200.0, 296150.0, 301400.0, 306800.0, 312050.0, 317250.0, 322850.0, 328700.0, 334150.0, 339900.0, 345300.0, 350650.0, 356350.0, 362250.0, 367900.0, 373400.0, 379550.0, 385600.0, 391300.0, 397000.0, 403100.0, 409000.0, 411500.0, 417450.0, 423950.0, 429200.0, 435050.0, 440900.0, 446200.0, 452150.0, 457950.0, 463950.0, 469450.0, 475150.0, 480900.0, 486700.0, 492350.0, 498850.0, 504300.0, 509300.0, 514550.0, 519500.0, 524900.0, 530900.0, 536800.0, 542550.0, 548750.0, 554400.0, 560550.0, 566150.0, 572450.0, 578400.0, 584350.0, 590500.0, 596550.0, 600300.0, 606050.0, 611950.0, 617550.0, 622750.0, 628600.0, 635000.0, 641550.0, 647600.0, 653900.0, 659200.0, 665600.0, 672350.0, 679100.0, 685200.0, 690550.0, 694450.0, 698700.0, 704700.0, 711200.0, 716750.0, 723700.0, 730500.0, 736450.0, 742800.0, 748700.0, 753000.0, 759000.0, 763100.0, 766150.0, 767750.0, 772750.0, 778200.0, 784450.0, 790400.0, 795150.0, 800450.0, 805900.0, 810700.0, 814250.0, 819800.0, 823350.0, 826650.0, 828150.0, 829550.0, 830350.0, 834450.0, 839000.0, 843100.0, 847550.0, 851850.0, 855750.0, 859350.0, 863550.0, 867100.0, 871050.0, 875050.0, 879400.0, 883300.0, 887350.0, 891150.0, 894950.0, 899700.0, 903100.0, 907600.0, 911800.0, 914100.0, 918250.0, 922500.0, 926200.0, 930350.0, 934450.0, 938900.0, 942850.0, 947050.0, 950500.0, 954200.0, 958500.0, 962550.0, 966700.0, 970550.0, 974450.0, 977900.0, 980150.0, 983700.0, 986050.0, 986250.0, 989750.0, 993250.0, 997350.0, 1000350.0, 1004150.0, 1007800.0, 1009400.0, 1010450.0, 1014150.0, 1016200.0, 1017150.0, 1017900.0, 1018750.0, 1020150.0, 1021300.0, 1021900.0, 1025950.0, 1030300.0, 1034800.0, 1038800.0, 1042800.0, 1047850.0, 1051600.0, 1055100.0, 1058250.0, 1062500.0, 1065650.0, 1066950.0, 1067900.0, 1068750.0, 1069250.0, 1070150.0, 1071250.0, 1071950.0, 1072300.0, 1073050.0, 1073800.0, 1076300.0, 1078700.0, 1080150.0, 1083900.0, 1087800.0, 1092650.0, 1096950.0, 1100850.0, 1104150.0, 1107200.0, 1110400.0, 1114200.0, 1117600.0, 1121500.0, 1124950.0, 1127650.0, 1131000.0, 1134350.0, 1137800.0, 1141550.0, 1145250.0, 1147450.0, 1151050.0, 1155250.0, 1159150.0, 1162850.0, 1166750.0, 1170200.0, 1171450.0, 1173250.0, 1178100.0, 1182650.0, 1187650.0, 1192000.0, 1196250.0, 1200650.0, 1204900.0, 1209000.0, 1212600.0, 1215500.0, 1218150.0, 1220900.0, 1223050.0, 1226050.0, 1229550.0, 1233500.0, 1237350.0, 1241050.0, 1243950.0, 1246800.0, 1250250.0, 1253800.0, 1256800.0, 1259650.0, 1263350.0, 1268950.0, 1273700.0, 1277700.0, 1282250.0, 1286700.0, 1289800.0, 1293600.0, 1297150.0, 1300300.0, 1303600.0, 1305900.0, 1308900.0, 1311200.0, 1312450.0, 1314100.0, 1317200.0, 1320350.0, 1323200.0, 1326300.0, 1329750.0, 1333400.0, 1336600.0, 1340500.0, 1343700.0, 1347000.0, 1351000.0, 1354950.0, 1359750.0, 1364600.0, 1369200.0, 1373150.0, 1376650.0, 1380950.0, 1384600.0, 1389900.0, 1394700.0, 1399350.0, 1403850.0, 1408050.0, 1411750.0, 1415300.0, 1418300.0, 1422050.0, 1425699.8, 1430399.8, 1434799.8, 1436599.8, 1439799.8, 1444949.8, 1450549.8, 1455799.8, 1460599.8, 1465799.8, 1471399.8, 1476899.8, 1482599.8, 1487745.45, 1493245.45, 1500045.45, 1508495.45, 1519745.45, 1529645.45, 1538395.45, 1547145.45, 1555245.45, 1562945.45, 1570645.45, 1578095.45, 1586795.45, 1595145.45, 1601995.45, 1610545.45, 1617595.45, 1624495.45, 1628945.45, 1633545.45, 1640395.45, 1646795.45, 1653895.45, 1659595.45, 1664495.45, 1669245.45, 1673995.45, 1681145.45, 1687045.45, 1693446.45, 1699039.45, 1703989.45, 1709139.45, 1713589.45, 1718339.45, 1723539.45, 1729239.45, 1736489.45, 1743389.45, 1748288.45, 1754638.45, 1760438.45, 1768938.45, 1776538.45, 1782788.45, 1789788.45, 1797438.45, 1805738.45, 1813338.45, 1821788.45, 1827988.45, 1838988.45, 1847888.45, 1856570.65, 1863370.65, 1872770.65, 1879320.65, 1887421.0899999999, 1893771.0899999999, 1900321.0899999999, 1907521.0899999999, 1917517.92, 1925567.92, 1932131.29, 1939982.29, 1946163.22, 1953914.22, 1961364.22, 1969914.22, 1978114.22, 1987414.22, 1997314.22, 2003064.22, 2008214.22, 2014314.22, 2021064.22, 2027115.22, 2034565.22, 2041715.22, 2047264.22, 2053864.22, 2059664.22, 2065967.73, 2072867.73, 2077267.72, 2082717.72, 2088817.72, 2094067.72, 2098267.7199999997, 2104267.7199999997, 2108967.7199999997, 2113717.7199999997, 2118467.7199999997, 2123517.7199999997, 2128627.7199999997, 2133677.7199999997, 2141078.7199999997, 2147977.7199999997, 2153877.7199999997, 2161274.3, 2166824.3, 2173124.3, 2180224.3, 2186927.5999999996, 2193727.5999999996, 2199677.5999999996, 2207527.5999999996, 2215277.5999999996, 2221277.5999999996, 2226527.5999999996, 2231927.5999999996, 2236577.5999999996, 2239597.5999999996, 2243134.2299999995, 2245481.1299999994, 2252531.1299999994, 2260138.9699999993, 2271238.6999999993, 2276567.6899999995, 2283966.7499999995, 2291216.7499999995, 2297466.7499999995, 2305405.9799999995, 2312604.4299999997, 2321153.65, 2329953.5000000005, 2339053.5000000005, 2346398.5000000005, 2355149.5000000005, 2361025.7900000005, 2366675.7900000005, 2365229.7300000004, 2371020.7300000004, 2377520.7300000004, 2383558.7100000004, 2390158.7100000004, 2395408.7100000004, 2394638.7100000004, 2400542.7100000004, 2406295.7100000004, 2412045.7100000004, 2417596.74, 2423406.02, 2426256.02, 2431999.02, 2438948.02, 2445348.02, 2450298.02, 2455048.02, 2454391.02, 2459841.02, 2465097.4499999997, 2469147.4499999997, 2473847.4499999997, 2480193.57, 2487143.57, 2494609.28, 2503309.28, 2510909.28, 2519416.17, 2529116.17, 2537011.17, 2546311.17, 2555565.92, 2563565.92, 2573415.92, 2581519.92, 2588167.62, 2594767.62, 2600987.62, 2607887.62, 2614570.91, 2620071.2600000002, 2626671.2600000002, 2633371.2600000002, 2640422.4600000004, 2647422.4600000004, 2645762.47, 2652953.8400000003, 2660803.8400000003, 2666953.8400000003, 2674762.2100000004, 2681552.2100000004, 2687982.2000000007, 2694307.110000001, 2700507.110000001, 2707310.110000001, 2693117.9500000007, 2700822.9500000007, 2707667.9500000007, 2714472.9500000007, 2721242.9500000007, 2727979.5800000005, 2733609.5800000005, 2740319.5800000005, 2747939.5800000005, 2753810.5800000005, 2761183.5700000003, 2769317.5700000003, 2778756.5700000003, 2786289.0700000008, 2795734.0700000008, 2802314.5700000008, 2809914.5700000008, 2817154.5700000008, 2823587.5800000005, 2829803.5800000005, 2837717.5800000005, 2845535.3500000006, 2853123.2100000004, 2873464.5000000005, 2898216.3800000004, 2918138.140000006, 2942054.540000006, 2960860.560000006, 2967116.750000006, 2974353.650000006, 2981313.4100000057, 2988147.090000006, 2996431.520000006, 3002259.290000006, 3010558.9900000063, 2993976.640000006, 3002960.310000006, 3009928.890000006, 3016418.310000006, 3022331.220000006, 3029921.9100000057, 3036270.9800000056, 3043757.3600000055, 3051905.7700000056, 3060310.280000006, 3067786.550000006, 3077024.8300000057, 3084996.2700000056, 3090680.3700000057, 3096124.6300000055, 3104654.1000000057, 3103466.070000005, 3110703.150000005, 3119077.1200000052, 3127200.710000005, 3135572.440000005, 3146961.200000005, 3154684.360000005, 3160361.2700000047, 3165587.970000005, 3170569.720000005, 3175816.920000005, 3182844.260000005, 3189743.700000005, 3198797.910000005, 3207592.9600000046, 3215319.8700000043, 3224669.520000004, 3232669.070000004, 3238858.220000004, 3245187.1699997038, 3251637.409999704, 3258186.359999604, 3265386.019999504, 3271208.859999304, 3276979.4999993043, 3283659.4699993045, 3290760.8399993046, 3297453.2599993045, 3303997.4699993045, 3310557.2299993043, 3316156.4099992043, 3321458.9899992044, 3328195.9599992046, 3334418.2899992047, 3341966.7599992044, 3349166.2199992044, 3357352.1299992045, 3364341.7496027243, 3373591.7296027243, 3382735.589602724, 3392719.339602724, 3401407.139602724, 3409899.959602724, 3417542.389602724, 3424860.079602724, 3435096.309602724, 3445625.749602724, 3455111.1296027238, 3464049.329602724, 3474442.8396027237, 3483318.5895307437, 3487931.479530744, 3493657.239530744, 3499798.6895307438, 3504131.6095307437, 3509484.5695307436, 3513670.749530744, 3519462.5695307436, 3525340.8395307437, 3531927.6595307435, 3537762.2095307433, 3544544.8095307434, 3552377.8295307434, 3559159.3095307434, 3565449.609530743, 3572879.259530743, 3581076.759530743, 3589189.6495307432, 3600405.7895307434, 3612133.2495307433, 3622217.2395307436, 3632849.1395307435, 3643854.6995307435, 3650870.2317645936, 3657196.7617645934, 3664481.3517645933, 3673470.041764593, 3681752.3517645933, 3691855.2017645934, 3697710.5917645935, 3706807.9417645936, 3716302.8817645935, 3727453.7517645936, 3734694.2117645936, 3742044.6717645936, 3749443.9717645934, 3757313.4717645934, 3765811.0917645935, 3775508.9917645934, 3785325.6617645933, 3796360.4117645933, 3799697.781764593, 3808414.311764593, 3817412.831764593, 3826952.5917645926, 3834395.9517645924, 3844089.3417645926, 3855135.8217645925, 3863942.131764594, 3873080.911764595, 3884535.851764595, 3896125.131764595, 3902877.031764595, 3908171.5617645946, 3914714.6317645945, 3922260.0417645946, 3928330.221764595, 3935836.351764593, 3944207.2017645934, 3952904.8117645937, 3960898.7717645937, 3968644.0517645935, 3977694.8617645935, 3986890.8017645935, 3995708.7817645934, 4004359.0117645934, 4012705.6017645933, 4023147.8217645935, 4033839.3317645933, 4045016.7017645934, 4054041.6517645936, 4064658.4917645934, 4074944.4017635034, 4082109.6017635036, 4090504.1953195636, 4097894.7613505935, 4104279.6813505935, 4111629.2813505935, 4120665.6613505934, 4128649.2813505935, 4135899.6113505936, 4143223.1313505936, 4151615.681350594, 4158663.5813505943, 4167861.6013505943, 4174980.8513505943, 4181579.9499614444, 4188624.5299614444, 4196454.449961444, 4203418.339961444, 4211301.869961444, 4218727.849961444, 4226372.584215774, 4234557.194215775, 4242272.984215775, 4251119.294215774, 4259346.614215774, 4266626.064215775, 4273161.374215774, 4280138.159725994, 4287025.229725994, 4294949.889725994, 4303098.929725994, 4310723.429725994, 4318343.709240234, 4326257.729240234, 4333291.839240234, 4340077.359240235, 4348115.019240235, 4353988.839240235, 4362308.723773356, 4370502.423773356, 4376985.003773356, 4384968.773773355, 4393334.293773356, 4401371.773287596, 4408945.311491116, 4416600.771491116, 4425528.040513316, 4432748.580513316, 4440282.560513316, 4447954.510513315, 4455317.210513315, 4462069.940513315, 4469304.840513315, 4476350.560513316, 4483087.090513316, 4490430.890513316, 4497859.810513316, 4506636.625858245, 4514664.185858245, 4522692.385858245, 4531960.355858245, 4539201.505858245, 4548134.4558582455, 4554687.075858246, 4563229.095858245, 4572200.435858245, 4581201.847678495, 4590332.427678495, 4599089.077678495, 4609769.297678495, 4620750.824216564, 4630370.194216564, 4638039.414216564, 4647064.074216564, 4656029.314216564, 4664949.878748344, 4675900.758748344, 4685709.818748344, 4696391.208748343, 4709170.198748344, 4720259.258748344, 4727177.788748344, 4653210.848748344, 4661070.087648346, 4669562.677548342, 4679929.3375483425, 4693338.197548343, 4706551.017548343, 4714712.707448343, 4723723.447448343, 4730497.867448343, 4735794.897448343, 4740957.507448344, 4747602.087448344, 4753125.772448343, 4758430.982448343, 4763765.291792983, 4770046.531792983, 4776544.061792983, 4782355.831792982, 4787797.241792982, 4794301.274020823, 4801098.444020824, 4806531.634020824, 4813935.133049304, 4821176.542563543, 4829582.245897423, 4836288.092563541, 4843224.582563542, 4851308.282563542, 4859155.932563542, 4866709.012563542, 4876157.832563543, 4884062.752563543, 4872801.5525635425, 4881271.632563543, 4890063.112563542, 4899161.522563542, 4906464.731563542, 4913479.452563542, 4921467.452563542, 4928977.152563542, 4937276.172563542, 4945199.112563542, 4952765.102563542, 4962019.982563542, 4969693.612563545, 4976192.832563545, 4984669.232563542, 4993343.772563542, 5000028.3925635405, 5006858.562563539, 5013036.372563543, 5020185.522563143, 5028720.182563143, 5036906.342563143, 5038303.902563143, 5047794.132563142, 5057361.542563141, 5065820.981563142, 5073812.166767991, 5083436.79938904, 5092660.655019031, 5101361.585019031, 5111080.923271711, 5120528.817303531, 5069779.847303531, 5080226.7670937115, 5090851.252180641, 5101414.31811484, 5111855.855609351, 5121713.468160791, 5130601.302753422, 5138494.158601172, 5146282.6148830615, 5155114.1739826, 5166602.80739156, 5177262.23592168, 5187753.722299262, 5188680.076419452, 5202672.911011683, 5210891.402875393, 5220631.588614313, 5231350.693698645, 5243644.606403653, 5257407.295364874, 5267565.127807785, 5281840.263301995, 5296161.873503614, 5303196.326484013, 5310635.300141034, 5319073.840948223, 5326446.784936633, 5323998.945043913, 5332401.0288232425, 5341273.414169913, 5344790.231767522, 5355176.914427492, 5365181.854742381, 5375807.72529189, 5383788.830857439, 5391021.182179988, 5400318.098812, 5410123.15684716, 5420025.638945524, 5428861.789449939, 5439188.685829419, 5449316.8741171835, 5462237.644003418, 5468312.570686757, 5474329.372459778, 5483014.078859695, 5492327.3690130375, 5502297.856872929, 5513530.07168936, 5524556.721821022, 5534651.440065471, 5544551.108506711, 5550363.3551157825, 5556695.145960316, 5559594.117754106, 5566151.024112284, 5572243.177050763, 5580891.963476451, 5588650.002457154, 5596427.415160853, 5603323.898495403, 5610641.855869325, 5616225.909658415, 5622676.083499925, 5628439.827600457, 5635558.512224646, 5642304.306093407, 5640816.969367287, 5646625.892172366, 5652728.076882905, 5661276.596348874, 5667546.330810173, 5674699.451409533, 5681862.351089942, 5689604.529842404, 5696862.077854995, 5703109.265712684, 5709996.039476153, 5716919.238208414, 5723786.769391664, 5730522.6800821535, 5738353.953381054, 5745484.039222104, 5753391.743214353, 5761551.188618523, 5760940.236887913, 5768459.686642754, 5775742.387043034, 5784138.851676853, 5791972.686219833, 5799043.192970302, 5806507.745409211, 5812302.80432899, 5818604.10189102, 5773536.038999731]}],\n",
              "                        {\"template\": {\"data\": {\"bar\": [{\"error_x\": {\"color\": \"#2a3f5f\"}, \"error_y\": {\"color\": \"#2a3f5f\"}, \"marker\": {\"line\": {\"color\": \"#E5ECF6\", \"width\": 0.5}}, \"type\": \"bar\"}], \"barpolar\": [{\"marker\": {\"line\": {\"color\": \"#E5ECF6\", \"width\": 0.5}}, \"type\": \"barpolar\"}], \"carpet\": [{\"aaxis\": {\"endlinecolor\": \"#2a3f5f\", \"gridcolor\": \"white\", \"linecolor\": \"white\", \"minorgridcolor\": \"white\", \"startlinecolor\": \"#2a3f5f\"}, \"baxis\": {\"endlinecolor\": \"#2a3f5f\", \"gridcolor\": \"white\", \"linecolor\": \"white\", \"minorgridcolor\": \"white\", \"startlinecolor\": \"#2a3f5f\"}, \"type\": \"carpet\"}], \"choropleth\": [{\"colorbar\": {\"outlinewidth\": 0, \"ticks\": \"\"}, \"type\": \"choropleth\"}], \"contour\": [{\"colorbar\": {\"outlinewidth\": 0, \"ticks\": \"\"}, \"colorscale\": [[0.0, \"#0d0887\"], [0.1111111111111111, \"#46039f\"], [0.2222222222222222, \"#7201a8\"], [0.3333333333333333, \"#9c179e\"], [0.4444444444444444, \"#bd3786\"], [0.5555555555555556, \"#d8576b\"], [0.6666666666666666, \"#ed7953\"], [0.7777777777777778, \"#fb9f3a\"], [0.8888888888888888, \"#fdca26\"], [1.0, \"#f0f921\"]], \"type\": \"contour\"}], \"contourcarpet\": [{\"colorbar\": {\"outlinewidth\": 0, \"ticks\": \"\"}, \"type\": \"contourcarpet\"}], \"heatmap\": [{\"colorbar\": {\"outlinewidth\": 0, \"ticks\": \"\"}, \"colorscale\": [[0.0, \"#0d0887\"], [0.1111111111111111, \"#46039f\"], [0.2222222222222222, \"#7201a8\"], [0.3333333333333333, \"#9c179e\"], [0.4444444444444444, \"#bd3786\"], [0.5555555555555556, \"#d8576b\"], [0.6666666666666666, \"#ed7953\"], [0.7777777777777778, \"#fb9f3a\"], [0.8888888888888888, \"#fdca26\"], [1.0, \"#f0f921\"]], \"type\": \"heatmap\"}], \"heatmapgl\": [{\"colorbar\": {\"outlinewidth\": 0, \"ticks\": \"\"}, \"colorscale\": [[0.0, \"#0d0887\"], [0.1111111111111111, \"#46039f\"], [0.2222222222222222, \"#7201a8\"], [0.3333333333333333, \"#9c179e\"], [0.4444444444444444, \"#bd3786\"], [0.5555555555555556, \"#d8576b\"], [0.6666666666666666, \"#ed7953\"], [0.7777777777777778, \"#fb9f3a\"], [0.8888888888888888, \"#fdca26\"], [1.0, \"#f0f921\"]], \"type\": \"heatmapgl\"}], \"histogram\": [{\"marker\": {\"colorbar\": {\"outlinewidth\": 0, \"ticks\": \"\"}}, \"type\": \"histogram\"}], \"histogram2d\": [{\"colorbar\": {\"outlinewidth\": 0, \"ticks\": \"\"}, \"colorscale\": [[0.0, \"#0d0887\"], [0.1111111111111111, \"#46039f\"], [0.2222222222222222, \"#7201a8\"], [0.3333333333333333, \"#9c179e\"], [0.4444444444444444, \"#bd3786\"], [0.5555555555555556, \"#d8576b\"], [0.6666666666666666, \"#ed7953\"], [0.7777777777777778, \"#fb9f3a\"], [0.8888888888888888, \"#fdca26\"], [1.0, \"#f0f921\"]], \"type\": \"histogram2d\"}], \"histogram2dcontour\": [{\"colorbar\": {\"outlinewidth\": 0, \"ticks\": \"\"}, \"colorscale\": [[0.0, \"#0d0887\"], [0.1111111111111111, \"#46039f\"], [0.2222222222222222, \"#7201a8\"], [0.3333333333333333, \"#9c179e\"], [0.4444444444444444, \"#bd3786\"], [0.5555555555555556, \"#d8576b\"], [0.6666666666666666, \"#ed7953\"], [0.7777777777777778, \"#fb9f3a\"], [0.8888888888888888, \"#fdca26\"], [1.0, \"#f0f921\"]], \"type\": \"histogram2dcontour\"}], \"mesh3d\": [{\"colorbar\": {\"outlinewidth\": 0, \"ticks\": \"\"}, \"type\": \"mesh3d\"}], \"parcoords\": [{\"line\": {\"colorbar\": {\"outlinewidth\": 0, \"ticks\": \"\"}}, \"type\": \"parcoords\"}], \"pie\": [{\"automargin\": true, \"type\": \"pie\"}], \"scatter\": [{\"marker\": {\"colorbar\": {\"outlinewidth\": 0, \"ticks\": \"\"}}, \"type\": \"scatter\"}], \"scatter3d\": [{\"line\": {\"colorbar\": {\"outlinewidth\": 0, \"ticks\": \"\"}}, \"marker\": {\"colorbar\": {\"outlinewidth\": 0, \"ticks\": \"\"}}, \"type\": \"scatter3d\"}], \"scattercarpet\": [{\"marker\": {\"colorbar\": {\"outlinewidth\": 0, \"ticks\": \"\"}}, \"type\": \"scattercarpet\"}], \"scattergeo\": [{\"marker\": {\"colorbar\": {\"outlinewidth\": 0, \"ticks\": \"\"}}, \"type\": \"scattergeo\"}], \"scattergl\": [{\"marker\": {\"colorbar\": {\"outlinewidth\": 0, \"ticks\": \"\"}}, \"type\": \"scattergl\"}], \"scattermapbox\": [{\"marker\": {\"colorbar\": {\"outlinewidth\": 0, \"ticks\": \"\"}}, \"type\": \"scattermapbox\"}], \"scatterpolar\": [{\"marker\": {\"colorbar\": {\"outlinewidth\": 0, \"ticks\": \"\"}}, \"type\": \"scatterpolar\"}], \"scatterpolargl\": [{\"marker\": {\"colorbar\": {\"outlinewidth\": 0, \"ticks\": \"\"}}, \"type\": \"scatterpolargl\"}], \"scatterternary\": [{\"marker\": {\"colorbar\": {\"outlinewidth\": 0, \"ticks\": \"\"}}, \"type\": \"scatterternary\"}], \"surface\": [{\"colorbar\": {\"outlinewidth\": 0, \"ticks\": \"\"}, \"colorscale\": [[0.0, \"#0d0887\"], [0.1111111111111111, \"#46039f\"], [0.2222222222222222, \"#7201a8\"], [0.3333333333333333, \"#9c179e\"], [0.4444444444444444, \"#bd3786\"], [0.5555555555555556, \"#d8576b\"], [0.6666666666666666, \"#ed7953\"], [0.7777777777777778, \"#fb9f3a\"], [0.8888888888888888, \"#fdca26\"], [1.0, \"#f0f921\"]], \"type\": \"surface\"}], \"table\": [{\"cells\": {\"fill\": {\"color\": \"#EBF0F8\"}, \"line\": {\"color\": \"white\"}}, \"header\": {\"fill\": {\"color\": \"#C8D4E3\"}, \"line\": {\"color\": \"white\"}}, \"type\": \"table\"}]}, \"layout\": {\"annotationdefaults\": {\"arrowcolor\": \"#2a3f5f\", \"arrowhead\": 0, \"arrowwidth\": 1}, \"coloraxis\": {\"colorbar\": {\"outlinewidth\": 0, \"ticks\": \"\"}}, \"colorscale\": {\"diverging\": [[0, \"#8e0152\"], [0.1, \"#c51b7d\"], [0.2, \"#de77ae\"], [0.3, \"#f1b6da\"], [0.4, \"#fde0ef\"], [0.5, \"#f7f7f7\"], [0.6, \"#e6f5d0\"], [0.7, \"#b8e186\"], [0.8, \"#7fbc41\"], [0.9, \"#4d9221\"], [1, \"#276419\"]], \"sequential\": [[0.0, \"#0d0887\"], [0.1111111111111111, \"#46039f\"], [0.2222222222222222, \"#7201a8\"], [0.3333333333333333, \"#9c179e\"], [0.4444444444444444, \"#bd3786\"], [0.5555555555555556, \"#d8576b\"], [0.6666666666666666, \"#ed7953\"], [0.7777777777777778, \"#fb9f3a\"], [0.8888888888888888, \"#fdca26\"], [1.0, \"#f0f921\"]], \"sequentialminus\": [[0.0, \"#0d0887\"], [0.1111111111111111, \"#46039f\"], [0.2222222222222222, \"#7201a8\"], [0.3333333333333333, \"#9c179e\"], [0.4444444444444444, \"#bd3786\"], [0.5555555555555556, \"#d8576b\"], [0.6666666666666666, \"#ed7953\"], [0.7777777777777778, \"#fb9f3a\"], [0.8888888888888888, \"#fdca26\"], [1.0, \"#f0f921\"]]}, \"colorway\": [\"#636efa\", \"#EF553B\", \"#00cc96\", \"#ab63fa\", \"#FFA15A\", \"#19d3f3\", \"#FF6692\", \"#B6E880\", \"#FF97FF\", \"#FECB52\"], \"font\": {\"color\": \"#2a3f5f\"}, \"geo\": {\"bgcolor\": \"white\", \"lakecolor\": \"white\", \"landcolor\": \"#E5ECF6\", \"showlakes\": true, \"showland\": true, \"subunitcolor\": \"white\"}, \"hoverlabel\": {\"align\": \"left\"}, \"hovermode\": \"closest\", \"mapbox\": {\"style\": \"light\"}, \"paper_bgcolor\": \"white\", \"plot_bgcolor\": \"#E5ECF6\", \"polar\": {\"angularaxis\": {\"gridcolor\": \"white\", \"linecolor\": \"white\", \"ticks\": \"\"}, \"bgcolor\": \"#E5ECF6\", \"radialaxis\": {\"gridcolor\": \"white\", \"linecolor\": \"white\", \"ticks\": \"\"}}, \"scene\": {\"xaxis\": {\"backgroundcolor\": \"#E5ECF6\", \"gridcolor\": \"white\", \"gridwidth\": 2, \"linecolor\": \"white\", \"showbackground\": true, \"ticks\": \"\", \"zerolinecolor\": \"white\"}, \"yaxis\": {\"backgroundcolor\": \"#E5ECF6\", \"gridcolor\": \"white\", \"gridwidth\": 2, \"linecolor\": \"white\", \"showbackground\": true, \"ticks\": \"\", \"zerolinecolor\": \"white\"}, \"zaxis\": {\"backgroundcolor\": \"#E5ECF6\", \"gridcolor\": \"white\", \"gridwidth\": 2, \"linecolor\": \"white\", \"showbackground\": true, \"ticks\": \"\", \"zerolinecolor\": \"white\"}}, \"shapedefaults\": {\"line\": {\"color\": \"#2a3f5f\"}}, \"ternary\": {\"aaxis\": {\"gridcolor\": \"white\", \"linecolor\": \"white\", \"ticks\": \"\"}, \"baxis\": {\"gridcolor\": \"white\", \"linecolor\": \"white\", \"ticks\": \"\"}, \"bgcolor\": \"#E5ECF6\", \"caxis\": {\"gridcolor\": \"white\", \"linecolor\": \"white\", \"ticks\": \"\"}}, \"title\": {\"x\": 0.05}, \"xaxis\": {\"automargin\": true, \"gridcolor\": \"white\", \"linecolor\": \"white\", \"ticks\": \"\", \"title\": {\"standoff\": 15}, \"zerolinecolor\": \"white\", \"zerolinewidth\": 2}, \"yaxis\": {\"automargin\": true, \"gridcolor\": \"white\", \"linecolor\": \"white\", \"ticks\": \"\", \"title\": {\"standoff\": 15}, \"zerolinecolor\": \"white\", \"zerolinewidth\": 2}}}, \"title\": {\"text\": \"The Accumulated UTXO\"}, \"xaxis\": {\"rangeselector\": {\"buttons\": [{\"count\": 1, \"label\": \"1m\", \"step\": \"month\", \"stepmode\": \"backward\"}, {\"count\": 6, \"label\": \"6m\", \"step\": \"month\", \"stepmode\": \"backward\"}, {\"count\": 1, \"label\": \"YTD\", \"step\": \"year\", \"stepmode\": \"todate\"}, {\"count\": 1, \"label\": \"1y\", \"step\": \"year\", \"stepmode\": \"backward\"}, {\"step\": \"all\"}]}, \"rangeslider\": {\"visible\": true}, \"title\": {\"text\": \"Date\"}, \"type\": \"date\"}, \"yaxis\": {\"title\": {\"text\": \"UTXO\"}}},\n",
              "                        {\"responsive\": true}\n",
              "                    ).then(function(){\n",
              "                            \n",
              "var gd = document.getElementById('6a775df5-1b03-4ce5-826e-c9d12ddc375c');\n",
              "var x = new MutationObserver(function (mutations, observer) {{\n",
              "        var display = window.getComputedStyle(gd).display;\n",
              "        if (!display || display === 'none') {{\n",
              "            console.log([gd, 'removed!']);\n",
              "            Plotly.purge(gd);\n",
              "            observer.disconnect();\n",
              "        }}\n",
              "}});\n",
              "\n",
              "// Listen for the removal of the full notebook cells\n",
              "var notebookContainer = gd.closest('#notebook-container');\n",
              "if (notebookContainer) {{\n",
              "    x.observe(notebookContainer, {childList: true});\n",
              "}}\n",
              "\n",
              "// Listen for the clearing of the current output cell\n",
              "var outputEl = gd.closest('.output');\n",
              "if (outputEl) {{\n",
              "    x.observe(outputEl, {childList: true});\n",
              "}}\n",
              "\n",
              "                        })\n",
              "                };\n",
              "                \n",
              "            </script>\n",
              "        </div>\n",
              "</body>\n",
              "</html>"
            ]
          },
          "metadata": {
            "tags": []
          }
        }
      ]
    }
  ]
}