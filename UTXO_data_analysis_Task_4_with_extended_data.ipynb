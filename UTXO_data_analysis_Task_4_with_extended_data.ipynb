{
  "nbformat": 4,
  "nbformat_minor": 0,
  "metadata": {
    "colab": {
      "name": "UTXO_data_analysis Task 4 with extended data.ipynb",
      "provenance": [],
      "collapsed_sections": [
        "G-7Ki2xFxIBQ",
        "L3A8hK6g2MPc"
      ],
      "include_colab_link": true
    },
    "kernelspec": {
      "display_name": "Python 3",
      "name": "python3"
    }
  },
  "cells": [
    {
      "cell_type": "markdown",
      "metadata": {
        "id": "view-in-github",
        "colab_type": "text"
      },
      "source": [
        "<a href=\"https://colab.research.google.com/github/sunshineluyao/UTXO/blob/main/UTXO_data_analysis_Task_4_with_extended_data.ipynb\" target=\"_parent\"><img src=\"https://colab.research.google.com/assets/colab-badge.svg\" alt=\"Open In Colab\"/></a>"
      ]
    },
    {
      "cell_type": "code",
      "metadata": {
        "id": "YE8pHhERSJ3G"
      },
      "source": [
        "import numpy as np\n",
        "import pandas as pd\n",
        "import datetime"
      ],
      "execution_count": null,
      "outputs": []
    },
    {
      "cell_type": "markdown",
      "metadata": {
        "id": "VsvjiDmHvEDp"
      },
      "source": [
        "## Import Data from Google Drive and Data Wrangling"
      ]
    },
    {
      "cell_type": "code",
      "metadata": {
        "id": "-0pbOPfSvAPi",
        "outputId": "a628f467-4f03-41a5-a3c4-14b330fa508d",
        "colab": {
          "base_uri": "https://localhost:8080/"
        }
      },
      "source": [
        "# Importing drive method from colab for accessing google drive\n",
        "from google.colab import drive\n",
        "\n",
        "# Mounting drive\n",
        "drive.mount('/content/drive')"
      ],
      "execution_count": null,
      "outputs": [
        {
          "output_type": "stream",
          "text": [
            "Mounted at /content/drive\n"
          ],
          "name": "stdout"
        }
      ]
    },
    {
      "cell_type": "code",
      "metadata": {
        "id": "Tdbbzug3vk9X",
        "outputId": "8f165cb6-8762-40b0-a8b9-dfffbeca3086",
        "colab": {
          "base_uri": "https://localhost:8080/",
          "height": 195
        }
      },
      "source": [
        "import numpy as np\n",
        "import pandas as pd\n",
        "df_2010=pd.read_csv('/content/drive/My Drive/joint_2010.csv')\n",
        "df_2010.head()"
      ],
      "execution_count": null,
      "outputs": [
        {
          "output_type": "execute_result",
          "data": {
            "text/html": [
              "<div>\n",
              "<style scoped>\n",
              "    .dataframe tbody tr th:only-of-type {\n",
              "        vertical-align: middle;\n",
              "    }\n",
              "\n",
              "    .dataframe tbody tr th {\n",
              "        vertical-align: top;\n",
              "    }\n",
              "\n",
              "    .dataframe thead th {\n",
              "        text-align: right;\n",
              "    }\n",
              "</style>\n",
              "<table border=\"1\" class=\"dataframe\">\n",
              "  <thead>\n",
              "    <tr style=\"text-align: right;\">\n",
              "      <th></th>\n",
              "      <th>num</th>\n",
              "      <th>value</th>\n",
              "      <th>block_date</th>\n",
              "      <th>spent_block_date</th>\n",
              "    </tr>\n",
              "  </thead>\n",
              "  <tbody>\n",
              "    <tr>\n",
              "      <th>0</th>\n",
              "      <td>21553</td>\n",
              "      <td>5.000000e+09</td>\n",
              "      <td>1/9/2009</td>\n",
              "      <td>1/12/2009</td>\n",
              "    </tr>\n",
              "    <tr>\n",
              "      <th>1</th>\n",
              "      <td>1</td>\n",
              "      <td>5.000000e+09</td>\n",
              "      <td>1/9/2009</td>\n",
              "      <td>NaN</td>\n",
              "    </tr>\n",
              "    <tr>\n",
              "      <th>2</th>\n",
              "      <td>2</td>\n",
              "      <td>5.000000e+09</td>\n",
              "      <td>1/9/2009</td>\n",
              "      <td>NaN</td>\n",
              "    </tr>\n",
              "    <tr>\n",
              "      <th>3</th>\n",
              "      <td>3</td>\n",
              "      <td>5.000000e+09</td>\n",
              "      <td>1/9/2009</td>\n",
              "      <td>NaN</td>\n",
              "    </tr>\n",
              "    <tr>\n",
              "      <th>4</th>\n",
              "      <td>4</td>\n",
              "      <td>5.000000e+09</td>\n",
              "      <td>1/9/2009</td>\n",
              "      <td>NaN</td>\n",
              "    </tr>\n",
              "  </tbody>\n",
              "</table>\n",
              "</div>"
            ],
            "text/plain": [
              "     num         value block_date spent_block_date\n",
              "0  21553  5.000000e+09   1/9/2009        1/12/2009\n",
              "1      1  5.000000e+09   1/9/2009              NaN\n",
              "2      2  5.000000e+09   1/9/2009              NaN\n",
              "3      3  5.000000e+09   1/9/2009              NaN\n",
              "4      4  5.000000e+09   1/9/2009              NaN"
            ]
          },
          "metadata": {
            "tags": []
          },
          "execution_count": 3
        }
      ]
    },
    {
      "cell_type": "code",
      "metadata": {
        "id": "RBpeltcPe9jY",
        "outputId": "aa0e31ef-f06c-4a7a-d787-680b2d1f1e7b",
        "colab": {
          "base_uri": "https://localhost:8080/",
          "height": 195
        }
      },
      "source": [
        "df_2011=pd.read_csv('/content/drive/My Drive/joint_2011.csv')\n",
        "df_2011.tail()"
      ],
      "execution_count": null,
      "outputs": [
        {
          "output_type": "execute_result",
          "data": {
            "text/html": [
              "<div>\n",
              "<style scoped>\n",
              "    .dataframe tbody tr th:only-of-type {\n",
              "        vertical-align: middle;\n",
              "    }\n",
              "\n",
              "    .dataframe tbody tr th {\n",
              "        vertical-align: top;\n",
              "    }\n",
              "\n",
              "    .dataframe thead th {\n",
              "        text-align: right;\n",
              "    }\n",
              "</style>\n",
              "<table border=\"1\" class=\"dataframe\">\n",
              "  <thead>\n",
              "    <tr style=\"text-align: right;\">\n",
              "      <th></th>\n",
              "      <th>num</th>\n",
              "      <th>value</th>\n",
              "      <th>block_date</th>\n",
              "      <th>spent_block_date</th>\n",
              "    </tr>\n",
              "  </thead>\n",
              "  <tbody>\n",
              "    <tr>\n",
              "      <th>1048570</th>\n",
              "      <td>415429</td>\n",
              "      <td>8.496683e+06</td>\n",
              "      <td>8/6/2011</td>\n",
              "      <td>8/8/2011</td>\n",
              "    </tr>\n",
              "    <tr>\n",
              "      <th>1048571</th>\n",
              "      <td>415965</td>\n",
              "      <td>1.200000e+08</td>\n",
              "      <td>8/6/2011</td>\n",
              "      <td>8/8/2011</td>\n",
              "    </tr>\n",
              "    <tr>\n",
              "      <th>1048572</th>\n",
              "      <td>416087</td>\n",
              "      <td>1.700000e+07</td>\n",
              "      <td>8/6/2011</td>\n",
              "      <td>8/8/2011</td>\n",
              "    </tr>\n",
              "    <tr>\n",
              "      <th>1048573</th>\n",
              "      <td>416508</td>\n",
              "      <td>5.884410e+07</td>\n",
              "      <td>8/6/2011</td>\n",
              "      <td>8/8/2011</td>\n",
              "    </tr>\n",
              "    <tr>\n",
              "      <th>1048574</th>\n",
              "      <td>420271</td>\n",
              "      <td>1.222000e+09</td>\n",
              "      <td>8/6/2011</td>\n",
              "      <td>8/8/2011</td>\n",
              "    </tr>\n",
              "  </tbody>\n",
              "</table>\n",
              "</div>"
            ],
            "text/plain": [
              "            num         value block_date spent_block_date\n",
              "1048570  415429  8.496683e+06   8/6/2011         8/8/2011\n",
              "1048571  415965  1.200000e+08   8/6/2011         8/8/2011\n",
              "1048572  416087  1.700000e+07   8/6/2011         8/8/2011\n",
              "1048573  416508  5.884410e+07   8/6/2011         8/8/2011\n",
              "1048574  420271  1.222000e+09   8/6/2011         8/8/2011"
            ]
          },
          "metadata": {
            "tags": []
          },
          "execution_count": 4
        }
      ]
    },
    {
      "cell_type": "code",
      "metadata": {
        "id": "NVPSnrUge-CB",
        "outputId": "e8fb83bf-0a96-47b4-fed0-c77f6519ca25",
        "colab": {
          "base_uri": "https://localhost:8080/",
          "height": 195
        }
      },
      "source": [
        "merge = [df_2010, df_2011]\n",
        "df = pd.concat(merge)\n",
        "df.head()"
      ],
      "execution_count": null,
      "outputs": [
        {
          "output_type": "execute_result",
          "data": {
            "text/html": [
              "<div>\n",
              "<style scoped>\n",
              "    .dataframe tbody tr th:only-of-type {\n",
              "        vertical-align: middle;\n",
              "    }\n",
              "\n",
              "    .dataframe tbody tr th {\n",
              "        vertical-align: top;\n",
              "    }\n",
              "\n",
              "    .dataframe thead th {\n",
              "        text-align: right;\n",
              "    }\n",
              "</style>\n",
              "<table border=\"1\" class=\"dataframe\">\n",
              "  <thead>\n",
              "    <tr style=\"text-align: right;\">\n",
              "      <th></th>\n",
              "      <th>num</th>\n",
              "      <th>value</th>\n",
              "      <th>block_date</th>\n",
              "      <th>spent_block_date</th>\n",
              "    </tr>\n",
              "  </thead>\n",
              "  <tbody>\n",
              "    <tr>\n",
              "      <th>0</th>\n",
              "      <td>21553</td>\n",
              "      <td>5.000000e+09</td>\n",
              "      <td>1/9/2009</td>\n",
              "      <td>1/12/2009</td>\n",
              "    </tr>\n",
              "    <tr>\n",
              "      <th>1</th>\n",
              "      <td>1</td>\n",
              "      <td>5.000000e+09</td>\n",
              "      <td>1/9/2009</td>\n",
              "      <td>NaN</td>\n",
              "    </tr>\n",
              "    <tr>\n",
              "      <th>2</th>\n",
              "      <td>2</td>\n",
              "      <td>5.000000e+09</td>\n",
              "      <td>1/9/2009</td>\n",
              "      <td>NaN</td>\n",
              "    </tr>\n",
              "    <tr>\n",
              "      <th>3</th>\n",
              "      <td>3</td>\n",
              "      <td>5.000000e+09</td>\n",
              "      <td>1/9/2009</td>\n",
              "      <td>NaN</td>\n",
              "    </tr>\n",
              "    <tr>\n",
              "      <th>4</th>\n",
              "      <td>4</td>\n",
              "      <td>5.000000e+09</td>\n",
              "      <td>1/9/2009</td>\n",
              "      <td>NaN</td>\n",
              "    </tr>\n",
              "  </tbody>\n",
              "</table>\n",
              "</div>"
            ],
            "text/plain": [
              "     num         value block_date spent_block_date\n",
              "0  21553  5.000000e+09   1/9/2009        1/12/2009\n",
              "1      1  5.000000e+09   1/9/2009              NaN\n",
              "2      2  5.000000e+09   1/9/2009              NaN\n",
              "3      3  5.000000e+09   1/9/2009              NaN\n",
              "4      4  5.000000e+09   1/9/2009              NaN"
            ]
          },
          "metadata": {
            "tags": []
          },
          "execution_count": 5
        }
      ]
    },
    {
      "cell_type": "code",
      "metadata": {
        "id": "rZ2LTDutvGD5",
        "outputId": "94110c55-b611-411e-c7d1-297136f2945d",
        "colab": {
          "base_uri": "https://localhost:8080/",
          "height": 195
        }
      },
      "source": [
        "# Generate the UTXO value in bitcoin unit, which = $value/10^{8}$\n",
        "df['UTXO'] = df['value']*10**(-8)\n",
        "df = df.reset_index()\n",
        "df = df.drop(['value','index','num'], axis = 1)\n",
        "df.tail()"
      ],
      "execution_count": null,
      "outputs": [
        {
          "output_type": "execute_result",
          "data": {
            "text/html": [
              "<div>\n",
              "<style scoped>\n",
              "    .dataframe tbody tr th:only-of-type {\n",
              "        vertical-align: middle;\n",
              "    }\n",
              "\n",
              "    .dataframe tbody tr th {\n",
              "        vertical-align: top;\n",
              "    }\n",
              "\n",
              "    .dataframe thead th {\n",
              "        text-align: right;\n",
              "    }\n",
              "</style>\n",
              "<table border=\"1\" class=\"dataframe\">\n",
              "  <thead>\n",
              "    <tr style=\"text-align: right;\">\n",
              "      <th></th>\n",
              "      <th>block_date</th>\n",
              "      <th>spent_block_date</th>\n",
              "      <th>UTXO</th>\n",
              "    </tr>\n",
              "  </thead>\n",
              "  <tbody>\n",
              "    <tr>\n",
              "      <th>1186094</th>\n",
              "      <td>8/6/2011</td>\n",
              "      <td>8/8/2011</td>\n",
              "      <td>0.084967</td>\n",
              "    </tr>\n",
              "    <tr>\n",
              "      <th>1186095</th>\n",
              "      <td>8/6/2011</td>\n",
              "      <td>8/8/2011</td>\n",
              "      <td>1.200000</td>\n",
              "    </tr>\n",
              "    <tr>\n",
              "      <th>1186096</th>\n",
              "      <td>8/6/2011</td>\n",
              "      <td>8/8/2011</td>\n",
              "      <td>0.170000</td>\n",
              "    </tr>\n",
              "    <tr>\n",
              "      <th>1186097</th>\n",
              "      <td>8/6/2011</td>\n",
              "      <td>8/8/2011</td>\n",
              "      <td>0.588441</td>\n",
              "    </tr>\n",
              "    <tr>\n",
              "      <th>1186098</th>\n",
              "      <td>8/6/2011</td>\n",
              "      <td>8/8/2011</td>\n",
              "      <td>12.220000</td>\n",
              "    </tr>\n",
              "  </tbody>\n",
              "</table>\n",
              "</div>"
            ],
            "text/plain": [
              "        block_date spent_block_date       UTXO\n",
              "1186094   8/6/2011         8/8/2011   0.084967\n",
              "1186095   8/6/2011         8/8/2011   1.200000\n",
              "1186096   8/6/2011         8/8/2011   0.170000\n",
              "1186097   8/6/2011         8/8/2011   0.588441\n",
              "1186098   8/6/2011         8/8/2011  12.220000"
            ]
          },
          "metadata": {
            "tags": []
          },
          "execution_count": 6
        }
      ]
    },
    {
      "cell_type": "code",
      "metadata": {
        "id": "CdlyR4oBwPXq",
        "outputId": "52512f9d-bdae-4a54-d409-a1e27dbe77c5",
        "colab": {
          "base_uri": "https://localhost:8080/"
        }
      },
      "source": [
        "# Change the block_date and spent_block_date to datatime object\n",
        "df['block_date'] = pd.to_datetime(df['block_date'], format='%m/%d/%Y')\n",
        "df['spent_block_date'] = pd.to_datetime(df['spent_block_date'], format='%m/%d/%Y')\n",
        "df.info()"
      ],
      "execution_count": null,
      "outputs": [
        {
          "output_type": "stream",
          "text": [
            "<class 'pandas.core.frame.DataFrame'>\n",
            "RangeIndex: 1186099 entries, 0 to 1186098\n",
            "Data columns (total 3 columns):\n",
            " #   Column            Non-Null Count    Dtype         \n",
            "---  ------            --------------    -----         \n",
            " 0   block_date        1186099 non-null  datetime64[ns]\n",
            " 1   spent_block_date  1164547 non-null  datetime64[ns]\n",
            " 2   UTXO              1186099 non-null  float64       \n",
            "dtypes: datetime64[ns](2), float64(1)\n",
            "memory usage: 27.1 MB\n"
          ],
          "name": "stdout"
        }
      ]
    },
    {
      "cell_type": "markdown",
      "metadata": {
        "id": "XvaqsXfQkJbD"
      },
      "source": [
        "#Task 4: Calculate the Distribution for UTXO (Bitcoin Age Distribution for the Bitcoin that are still Alive)"
      ]
    },
    {
      "cell_type": "code",
      "metadata": {
        "id": "yNxYazcS83nC"
      },
      "source": [
        "from datetime import datetime\n",
        "### calculate the age of each UTXO untill 2009-01-09\n",
        "duration=pd.date_range(start='2009-01-09', end='2020-11-16')\n",
        "size=np.size(duration)"
      ],
      "execution_count": null,
      "outputs": []
    },
    {
      "cell_type": "markdown",
      "metadata": {
        "id": "lLS4BacTO3Gg"
      },
      "source": [
        "### Generate the UTXO dataframe with zeros"
      ]
    },
    {
      "cell_type": "code",
      "metadata": {
        "id": "XkZsVqwgNz-y",
        "outputId": "c7c942a0-4885-45a3-e879-f1054f03d06d",
        "colab": {
          "base_uri": "https://localhost:8080/",
          "height": 195
        }
      },
      "source": [
        "df_UTXO = pd.DataFrame(np.zeros((size, 1)))\n",
        "df_UTXO.columns=['date']\n",
        "df_UTXO['date']=duration\n",
        "df_UTXO.tail()"
      ],
      "execution_count": null,
      "outputs": [
        {
          "output_type": "execute_result",
          "data": {
            "text/html": [
              "<div>\n",
              "<style scoped>\n",
              "    .dataframe tbody tr th:only-of-type {\n",
              "        vertical-align: middle;\n",
              "    }\n",
              "\n",
              "    .dataframe tbody tr th {\n",
              "        vertical-align: top;\n",
              "    }\n",
              "\n",
              "    .dataframe thead th {\n",
              "        text-align: right;\n",
              "    }\n",
              "</style>\n",
              "<table border=\"1\" class=\"dataframe\">\n",
              "  <thead>\n",
              "    <tr style=\"text-align: right;\">\n",
              "      <th></th>\n",
              "      <th>date</th>\n",
              "    </tr>\n",
              "  </thead>\n",
              "  <tbody>\n",
              "    <tr>\n",
              "      <th>4325</th>\n",
              "      <td>2020-11-12</td>\n",
              "    </tr>\n",
              "    <tr>\n",
              "      <th>4326</th>\n",
              "      <td>2020-11-13</td>\n",
              "    </tr>\n",
              "    <tr>\n",
              "      <th>4327</th>\n",
              "      <td>2020-11-14</td>\n",
              "    </tr>\n",
              "    <tr>\n",
              "      <th>4328</th>\n",
              "      <td>2020-11-15</td>\n",
              "    </tr>\n",
              "    <tr>\n",
              "      <th>4329</th>\n",
              "      <td>2020-11-16</td>\n",
              "    </tr>\n",
              "  </tbody>\n",
              "</table>\n",
              "</div>"
            ],
            "text/plain": [
              "           date\n",
              "4325 2020-11-12\n",
              "4326 2020-11-13\n",
              "4327 2020-11-14\n",
              "4328 2020-11-15\n",
              "4329 2020-11-16"
            ]
          },
          "metadata": {
            "tags": []
          },
          "execution_count": 12
        }
      ]
    },
    {
      "cell_type": "code",
      "metadata": {
        "id": "QCWuZ8LcOVD9",
        "outputId": "e67ab9b5-8218-4340-d6eb-dbc72eebefe7",
        "colab": {
          "base_uri": "https://localhost:8080/",
          "height": 195
        }
      },
      "source": [
        "df_UTXO.insert(1,'< 1d',0)\n",
        "df_UTXO.insert(2,'1d ~ 1m',0)\n",
        "df_UTXO.insert(3,'1m ~ 1q',0)\n",
        "df_UTXO.insert(4,'1q ~ 6m',0)\n",
        "df_UTXO.insert(5,'6m ~ 1y',0)\n",
        "df_UTXO.insert(6,'1y ~ 2y',0)\n",
        "df_UTXO.insert(7,'2y ~ 3y',0)\n",
        "df_UTXO.insert(8,'3y ~ 4y',0)\n",
        "df_UTXO.insert(9,'4y ~ 5y',0)\n",
        "df_UTXO.insert(10, '> 5y', 0)\n",
        "df_UTXO.head()"
      ],
      "execution_count": null,
      "outputs": [
        {
          "output_type": "execute_result",
          "data": {
            "text/html": [
              "<div>\n",
              "<style scoped>\n",
              "    .dataframe tbody tr th:only-of-type {\n",
              "        vertical-align: middle;\n",
              "    }\n",
              "\n",
              "    .dataframe tbody tr th {\n",
              "        vertical-align: top;\n",
              "    }\n",
              "\n",
              "    .dataframe thead th {\n",
              "        text-align: right;\n",
              "    }\n",
              "</style>\n",
              "<table border=\"1\" class=\"dataframe\">\n",
              "  <thead>\n",
              "    <tr style=\"text-align: right;\">\n",
              "      <th></th>\n",
              "      <th>date</th>\n",
              "      <th>&lt; 1d</th>\n",
              "      <th>1d ~ 1m</th>\n",
              "      <th>1m ~ 1q</th>\n",
              "      <th>1q ~ 6m</th>\n",
              "      <th>6m ~ 1y</th>\n",
              "      <th>1y ~ 2y</th>\n",
              "      <th>2y ~ 3y</th>\n",
              "      <th>3y ~ 4y</th>\n",
              "      <th>4y ~ 5y</th>\n",
              "      <th>&gt; 5y</th>\n",
              "    </tr>\n",
              "  </thead>\n",
              "  <tbody>\n",
              "    <tr>\n",
              "      <th>0</th>\n",
              "      <td>2009-01-09</td>\n",
              "      <td>0</td>\n",
              "      <td>0</td>\n",
              "      <td>0</td>\n",
              "      <td>0</td>\n",
              "      <td>0</td>\n",
              "      <td>0</td>\n",
              "      <td>0</td>\n",
              "      <td>0</td>\n",
              "      <td>0</td>\n",
              "      <td>0</td>\n",
              "    </tr>\n",
              "    <tr>\n",
              "      <th>1</th>\n",
              "      <td>2009-01-10</td>\n",
              "      <td>0</td>\n",
              "      <td>0</td>\n",
              "      <td>0</td>\n",
              "      <td>0</td>\n",
              "      <td>0</td>\n",
              "      <td>0</td>\n",
              "      <td>0</td>\n",
              "      <td>0</td>\n",
              "      <td>0</td>\n",
              "      <td>0</td>\n",
              "    </tr>\n",
              "    <tr>\n",
              "      <th>2</th>\n",
              "      <td>2009-01-11</td>\n",
              "      <td>0</td>\n",
              "      <td>0</td>\n",
              "      <td>0</td>\n",
              "      <td>0</td>\n",
              "      <td>0</td>\n",
              "      <td>0</td>\n",
              "      <td>0</td>\n",
              "      <td>0</td>\n",
              "      <td>0</td>\n",
              "      <td>0</td>\n",
              "    </tr>\n",
              "    <tr>\n",
              "      <th>3</th>\n",
              "      <td>2009-01-12</td>\n",
              "      <td>0</td>\n",
              "      <td>0</td>\n",
              "      <td>0</td>\n",
              "      <td>0</td>\n",
              "      <td>0</td>\n",
              "      <td>0</td>\n",
              "      <td>0</td>\n",
              "      <td>0</td>\n",
              "      <td>0</td>\n",
              "      <td>0</td>\n",
              "    </tr>\n",
              "    <tr>\n",
              "      <th>4</th>\n",
              "      <td>2009-01-13</td>\n",
              "      <td>0</td>\n",
              "      <td>0</td>\n",
              "      <td>0</td>\n",
              "      <td>0</td>\n",
              "      <td>0</td>\n",
              "      <td>0</td>\n",
              "      <td>0</td>\n",
              "      <td>0</td>\n",
              "      <td>0</td>\n",
              "      <td>0</td>\n",
              "    </tr>\n",
              "  </tbody>\n",
              "</table>\n",
              "</div>"
            ],
            "text/plain": [
              "        date  < 1d  1d ~ 1m  1m ~ 1q  ...  2y ~ 3y  3y ~ 4y  4y ~ 5y  > 5y\n",
              "0 2009-01-09     0        0        0  ...        0        0        0     0\n",
              "1 2009-01-10     0        0        0  ...        0        0        0     0\n",
              "2 2009-01-11     0        0        0  ...        0        0        0     0\n",
              "3 2009-01-12     0        0        0  ...        0        0        0     0\n",
              "4 2009-01-13     0        0        0  ...        0        0        0     0\n",
              "\n",
              "[5 rows x 11 columns]"
            ]
          },
          "metadata": {
            "tags": []
          },
          "execution_count": 13
        }
      ]
    },
    {
      "cell_type": "markdown",
      "metadata": {
        "id": "iX2s04hfPVby"
      },
      "source": [
        "## We first try to calculate the UTXO first row and check whether it is correct. If so, we can do a for loop to finish the rest"
      ]
    },
    {
      "cell_type": "code",
      "metadata": {
        "id": "aJSwf5Vp9d1X"
      },
      "source": [
        "now=duration[0]"
      ],
      "execution_count": null,
      "outputs": []
    },
    {
      "cell_type": "code",
      "metadata": {
        "id": "yLXgo1o09dPX"
      },
      "source": [
        "col=now.strftime(\"%Y-%m-%d\")"
      ],
      "execution_count": null,
      "outputs": []
    },
    {
      "cell_type": "markdown",
      "metadata": {
        "id": "RWLDWh4F-ZMb"
      },
      "source": [
        "We first drop the UTXO that has been spent \"now\"=2009-01-09\""
      ]
    },
    {
      "cell_type": "code",
      "metadata": {
        "id": "w2aCdo3I-YEV",
        "outputId": "d8b35418-24f5-436b-de71-d2d23f1d27a1",
        "colab": {
          "base_uri": "https://localhost:8080/",
          "height": 195
        }
      },
      "source": [
        "df = df.drop(df[df['spent_block_date']<=now].index)\n",
        "df.head()"
      ],
      "execution_count": null,
      "outputs": [
        {
          "output_type": "execute_result",
          "data": {
            "text/html": [
              "<div>\n",
              "<style scoped>\n",
              "    .dataframe tbody tr th:only-of-type {\n",
              "        vertical-align: middle;\n",
              "    }\n",
              "\n",
              "    .dataframe tbody tr th {\n",
              "        vertical-align: top;\n",
              "    }\n",
              "\n",
              "    .dataframe thead th {\n",
              "        text-align: right;\n",
              "    }\n",
              "</style>\n",
              "<table border=\"1\" class=\"dataframe\">\n",
              "  <thead>\n",
              "    <tr style=\"text-align: right;\">\n",
              "      <th></th>\n",
              "      <th>block_date</th>\n",
              "      <th>spent_block_date</th>\n",
              "      <th>UTXO</th>\n",
              "    </tr>\n",
              "  </thead>\n",
              "  <tbody>\n",
              "    <tr>\n",
              "      <th>0</th>\n",
              "      <td>2009-01-09</td>\n",
              "      <td>2009-01-12</td>\n",
              "      <td>50.0</td>\n",
              "    </tr>\n",
              "    <tr>\n",
              "      <th>1</th>\n",
              "      <td>2009-01-09</td>\n",
              "      <td>NaT</td>\n",
              "      <td>50.0</td>\n",
              "    </tr>\n",
              "    <tr>\n",
              "      <th>2</th>\n",
              "      <td>2009-01-09</td>\n",
              "      <td>NaT</td>\n",
              "      <td>50.0</td>\n",
              "    </tr>\n",
              "    <tr>\n",
              "      <th>3</th>\n",
              "      <td>2009-01-09</td>\n",
              "      <td>NaT</td>\n",
              "      <td>50.0</td>\n",
              "    </tr>\n",
              "    <tr>\n",
              "      <th>4</th>\n",
              "      <td>2009-01-09</td>\n",
              "      <td>NaT</td>\n",
              "      <td>50.0</td>\n",
              "    </tr>\n",
              "  </tbody>\n",
              "</table>\n",
              "</div>"
            ],
            "text/plain": [
              "  block_date spent_block_date  UTXO\n",
              "0 2009-01-09       2009-01-12  50.0\n",
              "1 2009-01-09              NaT  50.0\n",
              "2 2009-01-09              NaT  50.0\n",
              "3 2009-01-09              NaT  50.0\n",
              "4 2009-01-09              NaT  50.0"
            ]
          },
          "metadata": {
            "tags": []
          },
          "execution_count": 17
        }
      ]
    },
    {
      "cell_type": "code",
      "metadata": {
        "id": "Rz698jDZ8HqR",
        "outputId": "751ecf0a-58b4-463c-9c34-3c669f60c36b",
        "colab": {
          "base_uri": "https://localhost:8080/",
          "height": 195
        }
      },
      "source": [
        "df[col] = now\n",
        "df.head()"
      ],
      "execution_count": null,
      "outputs": [
        {
          "output_type": "execute_result",
          "data": {
            "text/html": [
              "<div>\n",
              "<style scoped>\n",
              "    .dataframe tbody tr th:only-of-type {\n",
              "        vertical-align: middle;\n",
              "    }\n",
              "\n",
              "    .dataframe tbody tr th {\n",
              "        vertical-align: top;\n",
              "    }\n",
              "\n",
              "    .dataframe thead th {\n",
              "        text-align: right;\n",
              "    }\n",
              "</style>\n",
              "<table border=\"1\" class=\"dataframe\">\n",
              "  <thead>\n",
              "    <tr style=\"text-align: right;\">\n",
              "      <th></th>\n",
              "      <th>block_date</th>\n",
              "      <th>spent_block_date</th>\n",
              "      <th>UTXO</th>\n",
              "      <th>2009-01-09</th>\n",
              "    </tr>\n",
              "  </thead>\n",
              "  <tbody>\n",
              "    <tr>\n",
              "      <th>0</th>\n",
              "      <td>2009-01-09</td>\n",
              "      <td>2009-01-12</td>\n",
              "      <td>50.0</td>\n",
              "      <td>2009-01-09</td>\n",
              "    </tr>\n",
              "    <tr>\n",
              "      <th>1</th>\n",
              "      <td>2009-01-09</td>\n",
              "      <td>NaT</td>\n",
              "      <td>50.0</td>\n",
              "      <td>2009-01-09</td>\n",
              "    </tr>\n",
              "    <tr>\n",
              "      <th>2</th>\n",
              "      <td>2009-01-09</td>\n",
              "      <td>NaT</td>\n",
              "      <td>50.0</td>\n",
              "      <td>2009-01-09</td>\n",
              "    </tr>\n",
              "    <tr>\n",
              "      <th>3</th>\n",
              "      <td>2009-01-09</td>\n",
              "      <td>NaT</td>\n",
              "      <td>50.0</td>\n",
              "      <td>2009-01-09</td>\n",
              "    </tr>\n",
              "    <tr>\n",
              "      <th>4</th>\n",
              "      <td>2009-01-09</td>\n",
              "      <td>NaT</td>\n",
              "      <td>50.0</td>\n",
              "      <td>2009-01-09</td>\n",
              "    </tr>\n",
              "  </tbody>\n",
              "</table>\n",
              "</div>"
            ],
            "text/plain": [
              "  block_date spent_block_date  UTXO 2009-01-09\n",
              "0 2009-01-09       2009-01-12  50.0 2009-01-09\n",
              "1 2009-01-09              NaT  50.0 2009-01-09\n",
              "2 2009-01-09              NaT  50.0 2009-01-09\n",
              "3 2009-01-09              NaT  50.0 2009-01-09\n",
              "4 2009-01-09              NaT  50.0 2009-01-09"
            ]
          },
          "metadata": {
            "tags": []
          },
          "execution_count": 18
        }
      ]
    },
    {
      "cell_type": "code",
      "metadata": {
        "id": "s6p_VEDG-JQ_",
        "outputId": "ee6b1d24-53ab-4fa0-cb91-df105cdcfaf5",
        "colab": {
          "base_uri": "https://localhost:8080/",
          "height": 195
        }
      },
      "source": [
        "df[col] = df[col] - df['block_date']\n",
        "df.tail()"
      ],
      "execution_count": null,
      "outputs": [
        {
          "output_type": "execute_result",
          "data": {
            "text/html": [
              "<div>\n",
              "<style scoped>\n",
              "    .dataframe tbody tr th:only-of-type {\n",
              "        vertical-align: middle;\n",
              "    }\n",
              "\n",
              "    .dataframe tbody tr th {\n",
              "        vertical-align: top;\n",
              "    }\n",
              "\n",
              "    .dataframe thead th {\n",
              "        text-align: right;\n",
              "    }\n",
              "</style>\n",
              "<table border=\"1\" class=\"dataframe\">\n",
              "  <thead>\n",
              "    <tr style=\"text-align: right;\">\n",
              "      <th></th>\n",
              "      <th>block_date</th>\n",
              "      <th>spent_block_date</th>\n",
              "      <th>UTXO</th>\n",
              "      <th>2009-01-09</th>\n",
              "    </tr>\n",
              "  </thead>\n",
              "  <tbody>\n",
              "    <tr>\n",
              "      <th>1186094</th>\n",
              "      <td>2011-08-06</td>\n",
              "      <td>2011-08-08</td>\n",
              "      <td>0.084967</td>\n",
              "      <td>-939 days</td>\n",
              "    </tr>\n",
              "    <tr>\n",
              "      <th>1186095</th>\n",
              "      <td>2011-08-06</td>\n",
              "      <td>2011-08-08</td>\n",
              "      <td>1.200000</td>\n",
              "      <td>-939 days</td>\n",
              "    </tr>\n",
              "    <tr>\n",
              "      <th>1186096</th>\n",
              "      <td>2011-08-06</td>\n",
              "      <td>2011-08-08</td>\n",
              "      <td>0.170000</td>\n",
              "      <td>-939 days</td>\n",
              "    </tr>\n",
              "    <tr>\n",
              "      <th>1186097</th>\n",
              "      <td>2011-08-06</td>\n",
              "      <td>2011-08-08</td>\n",
              "      <td>0.588441</td>\n",
              "      <td>-939 days</td>\n",
              "    </tr>\n",
              "    <tr>\n",
              "      <th>1186098</th>\n",
              "      <td>2011-08-06</td>\n",
              "      <td>2011-08-08</td>\n",
              "      <td>12.220000</td>\n",
              "      <td>-939 days</td>\n",
              "    </tr>\n",
              "  </tbody>\n",
              "</table>\n",
              "</div>"
            ],
            "text/plain": [
              "        block_date spent_block_date       UTXO 2009-01-09\n",
              "1186094 2011-08-06       2011-08-08   0.084967  -939 days\n",
              "1186095 2011-08-06       2011-08-08   1.200000  -939 days\n",
              "1186096 2011-08-06       2011-08-08   0.170000  -939 days\n",
              "1186097 2011-08-06       2011-08-08   0.588441  -939 days\n",
              "1186098 2011-08-06       2011-08-08  12.220000  -939 days"
            ]
          },
          "metadata": {
            "tags": []
          },
          "execution_count": 19
        }
      ]
    },
    {
      "cell_type": "code",
      "metadata": {
        "id": "rIj555VUAMJj",
        "outputId": "f2072b83-27b0-4d20-d99c-a379c94859f8",
        "colab": {
          "base_uri": "https://localhost:8080/",
          "height": 195
        }
      },
      "source": [
        "df[col] = df[col].map(lambda x:x.days)\n",
        "df.head()"
      ],
      "execution_count": null,
      "outputs": [
        {
          "output_type": "execute_result",
          "data": {
            "text/html": [
              "<div>\n",
              "<style scoped>\n",
              "    .dataframe tbody tr th:only-of-type {\n",
              "        vertical-align: middle;\n",
              "    }\n",
              "\n",
              "    .dataframe tbody tr th {\n",
              "        vertical-align: top;\n",
              "    }\n",
              "\n",
              "    .dataframe thead th {\n",
              "        text-align: right;\n",
              "    }\n",
              "</style>\n",
              "<table border=\"1\" class=\"dataframe\">\n",
              "  <thead>\n",
              "    <tr style=\"text-align: right;\">\n",
              "      <th></th>\n",
              "      <th>block_date</th>\n",
              "      <th>spent_block_date</th>\n",
              "      <th>UTXO</th>\n",
              "      <th>2009-01-09</th>\n",
              "    </tr>\n",
              "  </thead>\n",
              "  <tbody>\n",
              "    <tr>\n",
              "      <th>0</th>\n",
              "      <td>2009-01-09</td>\n",
              "      <td>2009-01-12</td>\n",
              "      <td>50.0</td>\n",
              "      <td>0</td>\n",
              "    </tr>\n",
              "    <tr>\n",
              "      <th>1</th>\n",
              "      <td>2009-01-09</td>\n",
              "      <td>NaT</td>\n",
              "      <td>50.0</td>\n",
              "      <td>0</td>\n",
              "    </tr>\n",
              "    <tr>\n",
              "      <th>2</th>\n",
              "      <td>2009-01-09</td>\n",
              "      <td>NaT</td>\n",
              "      <td>50.0</td>\n",
              "      <td>0</td>\n",
              "    </tr>\n",
              "    <tr>\n",
              "      <th>3</th>\n",
              "      <td>2009-01-09</td>\n",
              "      <td>NaT</td>\n",
              "      <td>50.0</td>\n",
              "      <td>0</td>\n",
              "    </tr>\n",
              "    <tr>\n",
              "      <th>4</th>\n",
              "      <td>2009-01-09</td>\n",
              "      <td>NaT</td>\n",
              "      <td>50.0</td>\n",
              "      <td>0</td>\n",
              "    </tr>\n",
              "  </tbody>\n",
              "</table>\n",
              "</div>"
            ],
            "text/plain": [
              "  block_date spent_block_date  UTXO  2009-01-09\n",
              "0 2009-01-09       2009-01-12  50.0           0\n",
              "1 2009-01-09              NaT  50.0           0\n",
              "2 2009-01-09              NaT  50.0           0\n",
              "3 2009-01-09              NaT  50.0           0\n",
              "4 2009-01-09              NaT  50.0           0"
            ]
          },
          "metadata": {
            "tags": []
          },
          "execution_count": 21
        }
      ]
    },
    {
      "cell_type": "code",
      "metadata": {
        "id": "w91FjfQ1Ulhj"
      },
      "source": [
        "df[col] = pd.to_numeric(df[col])"
      ],
      "execution_count": null,
      "outputs": []
    },
    {
      "cell_type": "code",
      "metadata": {
        "id": "8pJfgVKWA2_s",
        "outputId": "f2e4cac9-611b-4d0d-9c25-fada418e770e",
        "colab": {
          "base_uri": "https://localhost:8080/",
          "height": 195
        }
      },
      "source": [
        "df.tail()"
      ],
      "execution_count": null,
      "outputs": [
        {
          "output_type": "execute_result",
          "data": {
            "text/html": [
              "<div>\n",
              "<style scoped>\n",
              "    .dataframe tbody tr th:only-of-type {\n",
              "        vertical-align: middle;\n",
              "    }\n",
              "\n",
              "    .dataframe tbody tr th {\n",
              "        vertical-align: top;\n",
              "    }\n",
              "\n",
              "    .dataframe thead th {\n",
              "        text-align: right;\n",
              "    }\n",
              "</style>\n",
              "<table border=\"1\" class=\"dataframe\">\n",
              "  <thead>\n",
              "    <tr style=\"text-align: right;\">\n",
              "      <th></th>\n",
              "      <th>block_date</th>\n",
              "      <th>spent_block_date</th>\n",
              "      <th>UTXO</th>\n",
              "      <th>2009-01-09</th>\n",
              "    </tr>\n",
              "  </thead>\n",
              "  <tbody>\n",
              "    <tr>\n",
              "      <th>1186094</th>\n",
              "      <td>2011-08-06</td>\n",
              "      <td>2011-08-08</td>\n",
              "      <td>0.084967</td>\n",
              "      <td>-939</td>\n",
              "    </tr>\n",
              "    <tr>\n",
              "      <th>1186095</th>\n",
              "      <td>2011-08-06</td>\n",
              "      <td>2011-08-08</td>\n",
              "      <td>1.200000</td>\n",
              "      <td>-939</td>\n",
              "    </tr>\n",
              "    <tr>\n",
              "      <th>1186096</th>\n",
              "      <td>2011-08-06</td>\n",
              "      <td>2011-08-08</td>\n",
              "      <td>0.170000</td>\n",
              "      <td>-939</td>\n",
              "    </tr>\n",
              "    <tr>\n",
              "      <th>1186097</th>\n",
              "      <td>2011-08-06</td>\n",
              "      <td>2011-08-08</td>\n",
              "      <td>0.588441</td>\n",
              "      <td>-939</td>\n",
              "    </tr>\n",
              "    <tr>\n",
              "      <th>1186098</th>\n",
              "      <td>2011-08-06</td>\n",
              "      <td>2011-08-08</td>\n",
              "      <td>12.220000</td>\n",
              "      <td>-939</td>\n",
              "    </tr>\n",
              "  </tbody>\n",
              "</table>\n",
              "</div>"
            ],
            "text/plain": [
              "        block_date spent_block_date       UTXO  2009-01-09\n",
              "1186094 2011-08-06       2011-08-08   0.084967        -939\n",
              "1186095 2011-08-06       2011-08-08   1.200000        -939\n",
              "1186096 2011-08-06       2011-08-08   0.170000        -939\n",
              "1186097 2011-08-06       2011-08-08   0.588441        -939\n",
              "1186098 2011-08-06       2011-08-08  12.220000        -939"
            ]
          },
          "metadata": {
            "tags": []
          },
          "execution_count": 23
        }
      ]
    },
    {
      "cell_type": "code",
      "metadata": {
        "id": "n6lVIWNdBY--",
        "outputId": "62eab5a5-8e2e-4d89-ffb3-7184ed8f6f97",
        "colab": {
          "base_uri": "https://localhost:8080/",
          "height": 195
        }
      },
      "source": [
        "df.head()"
      ],
      "execution_count": null,
      "outputs": [
        {
          "output_type": "execute_result",
          "data": {
            "text/html": [
              "<div>\n",
              "<style scoped>\n",
              "    .dataframe tbody tr th:only-of-type {\n",
              "        vertical-align: middle;\n",
              "    }\n",
              "\n",
              "    .dataframe tbody tr th {\n",
              "        vertical-align: top;\n",
              "    }\n",
              "\n",
              "    .dataframe thead th {\n",
              "        text-align: right;\n",
              "    }\n",
              "</style>\n",
              "<table border=\"1\" class=\"dataframe\">\n",
              "  <thead>\n",
              "    <tr style=\"text-align: right;\">\n",
              "      <th></th>\n",
              "      <th>block_date</th>\n",
              "      <th>spent_block_date</th>\n",
              "      <th>UTXO</th>\n",
              "      <th>2009-01-09</th>\n",
              "    </tr>\n",
              "  </thead>\n",
              "  <tbody>\n",
              "    <tr>\n",
              "      <th>0</th>\n",
              "      <td>2009-01-09</td>\n",
              "      <td>2009-01-12</td>\n",
              "      <td>50.0</td>\n",
              "      <td>0</td>\n",
              "    </tr>\n",
              "    <tr>\n",
              "      <th>1</th>\n",
              "      <td>2009-01-09</td>\n",
              "      <td>NaT</td>\n",
              "      <td>50.0</td>\n",
              "      <td>0</td>\n",
              "    </tr>\n",
              "    <tr>\n",
              "      <th>2</th>\n",
              "      <td>2009-01-09</td>\n",
              "      <td>NaT</td>\n",
              "      <td>50.0</td>\n",
              "      <td>0</td>\n",
              "    </tr>\n",
              "    <tr>\n",
              "      <th>3</th>\n",
              "      <td>2009-01-09</td>\n",
              "      <td>NaT</td>\n",
              "      <td>50.0</td>\n",
              "      <td>0</td>\n",
              "    </tr>\n",
              "    <tr>\n",
              "      <th>4</th>\n",
              "      <td>2009-01-09</td>\n",
              "      <td>NaT</td>\n",
              "      <td>50.0</td>\n",
              "      <td>0</td>\n",
              "    </tr>\n",
              "  </tbody>\n",
              "</table>\n",
              "</div>"
            ],
            "text/plain": [
              "  block_date spent_block_date  UTXO  2009-01-09\n",
              "0 2009-01-09       2009-01-12  50.0           0\n",
              "1 2009-01-09              NaT  50.0           0\n",
              "2 2009-01-09              NaT  50.0           0\n",
              "3 2009-01-09              NaT  50.0           0\n",
              "4 2009-01-09              NaT  50.0           0"
            ]
          },
          "metadata": {
            "tags": []
          },
          "execution_count": 24
        }
      ]
    },
    {
      "cell_type": "code",
      "metadata": {
        "id": "GPpCBBpHPziD",
        "outputId": "af8938d7-4152-4c0b-cf52-15361b08c277",
        "colab": {
          "base_uri": "https://localhost:8080/"
        }
      },
      "source": [
        "df.columns"
      ],
      "execution_count": null,
      "outputs": [
        {
          "output_type": "execute_result",
          "data": {
            "text/plain": [
              "Index(['block_date', 'spent_block_date', 'UTXO', '2009-01-09'], dtype='object')"
            ]
          },
          "metadata": {
            "tags": []
          },
          "execution_count": 25
        }
      ]
    },
    {
      "cell_type": "code",
      "metadata": {
        "id": "ybw4dxdYP-fH",
        "outputId": "19f0b895-6631-40ec-d4e3-6d60fa7e0fce",
        "colab": {
          "base_uri": "https://localhost:8080/",
          "height": 195
        }
      },
      "source": [
        "df_UTXO.loc[(df_UTXO['date']==col),'< 1d']=df[df[col]==0]['UTXO'].sum()\n",
        "df_UTXO.loc[(df_UTXO['date']==col),'1d ~ 1m']=df[(df[col]>0) & (df[col]<30)]['UTXO'].sum()\n",
        "df_UTXO.loc[(df_UTXO['date']==col),'1m ~ 1q']=df[(df[col]>=30) & (df[col]<91)]['UTXO'].sum()\n",
        "df_UTXO.loc[(df_UTXO['date']==col),'1q ~ 6m']=df[(df[col]>=91) & (df[col]<182)]['UTXO'].sum()\n",
        "df_UTXO.loc[(df_UTXO['date']==col),'6m ~ 1y']=df[(df[col]>=182) & (df[col]<365)]['UTXO'].sum()\n",
        "df_UTXO.loc[(df_UTXO['date']==col),'1y ~ 2y']=df[(df[col]>=365) & (df[col]<365*2)]['UTXO'].sum()\n",
        "df_UTXO.loc[(df_UTXO['date']==col),'2y ~ 3y']=df[(df[col]>=365*2) & (df[col]<365*3)]['UTXO'].sum()\n",
        "df_UTXO.loc[(df_UTXO['date']==col),'3y ~ 4y']=df[(df[col]>=365*3) & (df[col]<365*4)]['UTXO'].sum()\n",
        "df_UTXO.loc[(df_UTXO['date']==col),'4y ~ 5y']=df[(df[col]>=365*4) & (df[col]<365*5)]['UTXO'].sum()\n",
        "df_UTXO.loc[(df_UTXO['date']==col),'> 5y']=df[(df[col]>=365*5)]['UTXO'].sum()\n",
        "df_UTXO.tail()"
      ],
      "execution_count": null,
      "outputs": [
        {
          "output_type": "execute_result",
          "data": {
            "text/html": [
              "<div>\n",
              "<style scoped>\n",
              "    .dataframe tbody tr th:only-of-type {\n",
              "        vertical-align: middle;\n",
              "    }\n",
              "\n",
              "    .dataframe tbody tr th {\n",
              "        vertical-align: top;\n",
              "    }\n",
              "\n",
              "    .dataframe thead th {\n",
              "        text-align: right;\n",
              "    }\n",
              "</style>\n",
              "<table border=\"1\" class=\"dataframe\">\n",
              "  <thead>\n",
              "    <tr style=\"text-align: right;\">\n",
              "      <th></th>\n",
              "      <th>date</th>\n",
              "      <th>&lt; 1d</th>\n",
              "      <th>1d ~ 1m</th>\n",
              "      <th>1m ~ 1q</th>\n",
              "      <th>1q ~ 6m</th>\n",
              "      <th>6m ~ 1y</th>\n",
              "      <th>1y ~ 2y</th>\n",
              "      <th>2y ~ 3y</th>\n",
              "      <th>3y ~ 4y</th>\n",
              "      <th>4y ~ 5y</th>\n",
              "      <th>&gt; 5y</th>\n",
              "    </tr>\n",
              "  </thead>\n",
              "  <tbody>\n",
              "    <tr>\n",
              "      <th>4325</th>\n",
              "      <td>2020-11-12</td>\n",
              "      <td>0.0</td>\n",
              "      <td>0.0</td>\n",
              "      <td>0.0</td>\n",
              "      <td>0.0</td>\n",
              "      <td>0.0</td>\n",
              "      <td>0.0</td>\n",
              "      <td>0.0</td>\n",
              "      <td>0.0</td>\n",
              "      <td>0.0</td>\n",
              "      <td>0.0</td>\n",
              "    </tr>\n",
              "    <tr>\n",
              "      <th>4326</th>\n",
              "      <td>2020-11-13</td>\n",
              "      <td>0.0</td>\n",
              "      <td>0.0</td>\n",
              "      <td>0.0</td>\n",
              "      <td>0.0</td>\n",
              "      <td>0.0</td>\n",
              "      <td>0.0</td>\n",
              "      <td>0.0</td>\n",
              "      <td>0.0</td>\n",
              "      <td>0.0</td>\n",
              "      <td>0.0</td>\n",
              "    </tr>\n",
              "    <tr>\n",
              "      <th>4327</th>\n",
              "      <td>2020-11-14</td>\n",
              "      <td>0.0</td>\n",
              "      <td>0.0</td>\n",
              "      <td>0.0</td>\n",
              "      <td>0.0</td>\n",
              "      <td>0.0</td>\n",
              "      <td>0.0</td>\n",
              "      <td>0.0</td>\n",
              "      <td>0.0</td>\n",
              "      <td>0.0</td>\n",
              "      <td>0.0</td>\n",
              "    </tr>\n",
              "    <tr>\n",
              "      <th>4328</th>\n",
              "      <td>2020-11-15</td>\n",
              "      <td>0.0</td>\n",
              "      <td>0.0</td>\n",
              "      <td>0.0</td>\n",
              "      <td>0.0</td>\n",
              "      <td>0.0</td>\n",
              "      <td>0.0</td>\n",
              "      <td>0.0</td>\n",
              "      <td>0.0</td>\n",
              "      <td>0.0</td>\n",
              "      <td>0.0</td>\n",
              "    </tr>\n",
              "    <tr>\n",
              "      <th>4329</th>\n",
              "      <td>2020-11-16</td>\n",
              "      <td>0.0</td>\n",
              "      <td>0.0</td>\n",
              "      <td>0.0</td>\n",
              "      <td>0.0</td>\n",
              "      <td>0.0</td>\n",
              "      <td>0.0</td>\n",
              "      <td>0.0</td>\n",
              "      <td>0.0</td>\n",
              "      <td>0.0</td>\n",
              "      <td>0.0</td>\n",
              "    </tr>\n",
              "  </tbody>\n",
              "</table>\n",
              "</div>"
            ],
            "text/plain": [
              "           date  < 1d  1d ~ 1m  1m ~ 1q  ...  2y ~ 3y  3y ~ 4y  4y ~ 5y  > 5y\n",
              "4325 2020-11-12   0.0      0.0      0.0  ...      0.0      0.0      0.0   0.0\n",
              "4326 2020-11-13   0.0      0.0      0.0  ...      0.0      0.0      0.0   0.0\n",
              "4327 2020-11-14   0.0      0.0      0.0  ...      0.0      0.0      0.0   0.0\n",
              "4328 2020-11-15   0.0      0.0      0.0  ...      0.0      0.0      0.0   0.0\n",
              "4329 2020-11-16   0.0      0.0      0.0  ...      0.0      0.0      0.0   0.0\n",
              "\n",
              "[5 rows x 11 columns]"
            ]
          },
          "metadata": {
            "tags": []
          },
          "execution_count": 27
        }
      ]
    },
    {
      "cell_type": "code",
      "metadata": {
        "id": "3Q7I6PWwStuR"
      },
      "source": [
        "### remember to drop the temporal column for calculation each time after the new row is appended\n",
        "df=df.drop([col],axis=1)"
      ],
      "execution_count": null,
      "outputs": []
    },
    {
      "cell_type": "markdown",
      "metadata": {
        "id": "3CEga0r9CFUU"
      },
      "source": [
        "## Now, we can iterate on duration=pd.date_range(start='2009-01-09', end='2010-12-31')\n",
        "size=np.size(duration) to get the result for all date"
      ]
    },
    {
      "cell_type": "markdown",
      "metadata": {
        "id": "JnKJP_kjCRta"
      },
      "source": [
        "Hint: the final pandas will have 722 more columns"
      ]
    },
    {
      "cell_type": "markdown",
      "metadata": {
        "id": "dJ9axIL_CZT2"
      },
      "source": [
        "Hint: please remember to drop the rows that has been spent before \"now\", the current calculating column to reduce data size"
      ]
    },
    {
      "cell_type": "code",
      "metadata": {
        "id": "UVkQ9H6-CDq7",
        "colab": {
          "background_save": true
        }
      },
      "source": [
        "for i in range(size):\n",
        "  now=duration[i]\n",
        "  col=now.strftime(\"%Y-%m-%d\")\n",
        "  df=df.drop(df[df['spent_block_date']<=now].index)\n",
        "  df[col]=now\n",
        "  df[col]=df[col]-df['block_date']\n",
        "  df[col]=df[col].map(lambda x:x.days)\n",
        "  df[col]=pd.to_numeric(df[col])\n",
        "  df_UTXO.loc[(df_UTXO['date']==col),'< 1d']=df[df[col]==0]['UTXO'].sum()\n",
        "  df_UTXO.loc[(df_UTXO['date']==col),'1d ~ 1m']=df[(df[col]>0) & (df[col]<30)]['UTXO'].sum()\n",
        "  df_UTXO.loc[(df_UTXO['date']==col),'1m ~ 1q']=df[(df[col]>=30) & (df[col]<91)]['UTXO'].sum()\n",
        "  df_UTXO.loc[(df_UTXO['date']==col),'1q ~ 6m']=df[(df[col]>=91) & (df[col]<182)]['UTXO'].sum()\n",
        "  df_UTXO.loc[(df_UTXO['date']==col),'6m ~ 1y']=df[(df[col]>=182) & (df[col]<365)]['UTXO'].sum()\n",
        "  df_UTXO.loc[(df_UTXO['date']==col),'1y ~ 2y']=df[(df[col]>=365) & (df[col]<365*2)]['UTXO'].sum()\n",
        "  df_UTXO.loc[(df_UTXO['date']==col),'2y ~ 3y']=df[(df[col]>=365*2) & (df[col]<365*3)]['UTXO'].sum()\n",
        "  df_UTXO.loc[(df_UTXO['date']==col),'3y ~ 4y']=df[(df[col]>=365*3) & (df[col]<365*4)]['UTXO'].sum()\n",
        "  df_UTXO.loc[(df_UTXO['date']==col),'4y ~ 5y']=df[(df[col]>=365*4) & (df[col]<365*5)]['UTXO'].sum()\n",
        "  df_UTXO.loc[(df_UTXO['date']==col),'> 5y']=df[(df[col]>=365*5)]['UTXO'].sum()\n",
        "  df=df.drop([col],axis=1)"
      ],
      "execution_count": null,
      "outputs": []
    },
    {
      "cell_type": "code",
      "metadata": {
        "id": "CmydefQ7YMq1",
        "outputId": "138c7a07-51c1-49cb-bef4-2180ae29b086",
        "colab": {
          "base_uri": "https://localhost:8080/",
          "height": 195
        }
      },
      "source": [
        "df_UTXO.tail()"
      ],
      "execution_count": null,
      "outputs": [
        {
          "output_type": "execute_result",
          "data": {
            "text/html": [
              "<div>\n",
              "<style scoped>\n",
              "    .dataframe tbody tr th:only-of-type {\n",
              "        vertical-align: middle;\n",
              "    }\n",
              "\n",
              "    .dataframe tbody tr th {\n",
              "        vertical-align: top;\n",
              "    }\n",
              "\n",
              "    .dataframe thead th {\n",
              "        text-align: right;\n",
              "    }\n",
              "</style>\n",
              "<table border=\"1\" class=\"dataframe\">\n",
              "  <thead>\n",
              "    <tr style=\"text-align: right;\">\n",
              "      <th></th>\n",
              "      <th>date</th>\n",
              "      <th>&lt; 1d</th>\n",
              "      <th>1d ~ 1m</th>\n",
              "      <th>1m ~ 1q</th>\n",
              "      <th>1q ~ 6m</th>\n",
              "      <th>6m ~ 1y</th>\n",
              "      <th>1y ~ 2y</th>\n",
              "      <th>2y ~ 3y</th>\n",
              "      <th>3y ~ 4y</th>\n",
              "      <th>4y ~ 5y</th>\n",
              "      <th>&gt; 5y</th>\n",
              "    </tr>\n",
              "  </thead>\n",
              "  <tbody>\n",
              "    <tr>\n",
              "      <th>717</th>\n",
              "      <td>2010-12-27</td>\n",
              "      <td>58657.846641</td>\n",
              "      <td>621139.851557</td>\n",
              "      <td>1.015283e+06</td>\n",
              "      <td>538667.439603</td>\n",
              "      <td>615739.80</td>\n",
              "      <td>1361813.75</td>\n",
              "      <td>0.0</td>\n",
              "      <td>0.0</td>\n",
              "      <td>0.0</td>\n",
              "      <td>0.0</td>\n",
              "    </tr>\n",
              "    <tr>\n",
              "      <th>718</th>\n",
              "      <td>2010-12-28</td>\n",
              "      <td>30373.383958</td>\n",
              "      <td>649963.364240</td>\n",
              "      <td>1.005467e+06</td>\n",
              "      <td>551420.609713</td>\n",
              "      <td>615439.80</td>\n",
              "      <td>1366063.75</td>\n",
              "      <td>0.0</td>\n",
              "      <td>0.0</td>\n",
              "      <td>0.0</td>\n",
              "      <td>0.0</td>\n",
              "    </tr>\n",
              "    <tr>\n",
              "      <th>719</th>\n",
              "      <td>2010-12-29</td>\n",
              "      <td>86582.816836</td>\n",
              "      <td>594611.775616</td>\n",
              "      <td>1.008916e+06</td>\n",
              "      <td>552183.239713</td>\n",
              "      <td>613065.18</td>\n",
              "      <td>1371013.75</td>\n",
              "      <td>0.0</td>\n",
              "      <td>0.0</td>\n",
              "      <td>0.0</td>\n",
              "      <td>0.0</td>\n",
              "    </tr>\n",
              "    <tr>\n",
              "      <th>720</th>\n",
              "      <td>2010-12-30</td>\n",
              "      <td>38565.832386</td>\n",
              "      <td>631745.420067</td>\n",
              "      <td>1.024782e+06</td>\n",
              "      <td>551924.529713</td>\n",
              "      <td>612425.18</td>\n",
              "      <td>1375113.75</td>\n",
              "      <td>0.0</td>\n",
              "      <td>0.0</td>\n",
              "      <td>0.0</td>\n",
              "      <td>0.0</td>\n",
              "    </tr>\n",
              "    <tr>\n",
              "      <th>721</th>\n",
              "      <td>2010-12-31</td>\n",
              "      <td>29209.053351</td>\n",
              "      <td>650457.379102</td>\n",
              "      <td>1.006546e+06</td>\n",
              "      <td>565527.930675</td>\n",
              "      <td>611919.19</td>\n",
              "      <td>1378613.75</td>\n",
              "      <td>0.0</td>\n",
              "      <td>0.0</td>\n",
              "      <td>0.0</td>\n",
              "      <td>0.0</td>\n",
              "    </tr>\n",
              "  </tbody>\n",
              "</table>\n",
              "</div>"
            ],
            "text/plain": [
              "          date          < 1d        1d ~ 1m  ...  3y ~ 4y  4y ~ 5y  > 5y\n",
              "717 2010-12-27  58657.846641  621139.851557  ...      0.0      0.0   0.0\n",
              "718 2010-12-28  30373.383958  649963.364240  ...      0.0      0.0   0.0\n",
              "719 2010-12-29  86582.816836  594611.775616  ...      0.0      0.0   0.0\n",
              "720 2010-12-30  38565.832386  631745.420067  ...      0.0      0.0   0.0\n",
              "721 2010-12-31  29209.053351  650457.379102  ...      0.0      0.0   0.0\n",
              "\n",
              "[5 rows x 11 columns]"
            ]
          },
          "metadata": {
            "tags": []
          },
          "execution_count": 37
        }
      ]
    },
    {
      "cell_type": "code",
      "metadata": {
        "id": "ofZbZgw8YJsw",
        "outputId": "6be4275c-5070-458b-f88a-ae838de2c24b",
        "colab": {
          "base_uri": "https://localhost:8080/",
          "height": 542
        }
      },
      "source": [
        "import plotly.offline as py     \n",
        "import plotly.graph_objects as go\n",
        "\n",
        "trace0 = go.Scatter(x = df_UTXO[\"date\"], y = df_UTXO[\"< 1d\"], name = '< 1d')\n",
        "trace1 = go.Scatter(x = df_UTXO[\"date\"], y = df_UTXO[\"1d ~ 1m\"], name = '1d ~ 1m')\n",
        "trace2 = go.Scatter(x = df_UTXO[\"date\"], y = df_UTXO[\"1m ~ 1q\"], name = '1m ~ 1q')\n",
        "trace3 = go.Scatter(x = df_UTXO[\"date\"], y = df_UTXO[\"1q ~ 6m\"], name = '1q ~ 6m')\n",
        "trace4 = go.Scatter(x = df_UTXO[\"date\"], y = df_UTXO[\"6m ~ 1y\"], name = '6m ~ 1y')\n",
        "trace5 = go.Scatter(x = df_UTXO[\"date\"], y = df_UTXO[\"1y ~ 2y\"], name = '1y ~ 2y')\n",
        "trace6 = go.Scatter(x = df_UTXO[\"date\"], y = df_UTXO[\"2y ~ 3y\"], name = '2y ~ 3y')\n",
        "trace7 = go.Scatter(x = df_UTXO[\"date\"], y = df_UTXO[\"3y ~ 4y\"], name = '3y ~ 4y')\n",
        "trace8 = go.Scatter(x = df_UTXO[\"date\"], y = df_UTXO[\"4y ~ 5y\"], name = '4y ~ 5y')\n",
        "trace9 = go.Scatter(x = df_UTXO[\"date\"], y = df_UTXO[\"> 5y\"], name = '> 5y')\n",
        "\n",
        "layout = go.Layout(title=\"UTXO Real-time Life Expectancy Distribution\", xaxis = dict(title = \"date\"), yaxis = dict(title = \"Value with UTXO's Life Expectancy\") ) \n",
        "data = [trace0, trace1, trace2, trace3, trace4, trace5, trace6, trace7, trace8, trace9]\n",
        "\n",
        "fig = go.Figure(layout = layout, data = data) \n",
        "fig.update_yaxes(type=\"log\")\n",
        "\n",
        "# Add range slider\n",
        "fig.update_layout(\n",
        "    xaxis=dict(\n",
        "        rangeselector=dict(\n",
        "            buttons=list([\n",
        "                dict(count=1,\n",
        "                     label=\"1m\",\n",
        "                     step=\"month\",\n",
        "                     stepmode=\"backward\"),\n",
        "                dict(count=6,\n",
        "                     label=\"6m\",\n",
        "                     step=\"month\",\n",
        "                     stepmode=\"backward\"),\n",
        "                dict(count=1,\n",
        "                     label=\"YTD\",\n",
        "                     step=\"year\",\n",
        "                     stepmode=\"todate\"),\n",
        "                dict(count=1,\n",
        "                     label=\"1y\",\n",
        "                     step=\"year\",\n",
        "                     stepmode=\"backward\"),\n",
        "                dict(step=\"all\")\n",
        "            ])\n",
        "        ),\n",
        "        rangeslider=dict(\n",
        "            visible=True\n",
        "        ),\n",
        "        type=\"date\"\n",
        "    )\n",
        ")\n",
        "\n",
        "py.iplot(fig)"
      ],
      "execution_count": null,
      "outputs": [
        {
          "output_type": "display_data",
          "data": {
            "text/html": [
              "<html>\n",
              "<head><meta charset=\"utf-8\" /></head>\n",
              "<body>\n",
              "    <div>\n",
              "            <script src=\"https://cdnjs.cloudflare.com/ajax/libs/mathjax/2.7.5/MathJax.js?config=TeX-AMS-MML_SVG\"></script><script type=\"text/javascript\">if (window.MathJax) {MathJax.Hub.Config({SVG: {font: \"STIX-Web\"}});}</script>\n",
              "                <script type=\"text/javascript\">window.PlotlyConfig = {MathJaxConfig: 'local'};</script>\n",
              "        <script src=\"https://cdn.plot.ly/plotly-latest.min.js\"></script>    \n",
              "            <div id=\"af7cc211-06d2-46d5-a6cc-3ee74d9f882b\" class=\"plotly-graph-div\" style=\"height:525px; width:100%;\"></div>\n",
              "            <script type=\"text/javascript\">\n",
              "                \n",
              "                    window.PLOTLYENV=window.PLOTLYENV || {};\n",
              "                    \n",
              "                if (document.getElementById(\"af7cc211-06d2-46d5-a6cc-3ee74d9f882b\")) {\n",
              "                    Plotly.newPlot(\n",
              "                        'af7cc211-06d2-46d5-a6cc-3ee74d9f882b',\n",
              "                        [{\"name\": \"< 1d\", \"type\": \"scatter\", \"x\": [\"2009-01-09T00:00:00\", \"2009-01-10T00:00:00\", \"2009-01-11T00:00:00\", \"2009-01-12T00:00:00\", \"2009-01-13T00:00:00\", \"2009-01-14T00:00:00\", \"2009-01-15T00:00:00\", \"2009-01-16T00:00:00\", \"2009-01-17T00:00:00\", \"2009-01-18T00:00:00\", \"2009-01-19T00:00:00\", \"2009-01-20T00:00:00\", \"2009-01-21T00:00:00\", \"2009-01-22T00:00:00\", \"2009-01-23T00:00:00\", \"2009-01-24T00:00:00\", \"2009-01-25T00:00:00\", \"2009-01-26T00:00:00\", \"2009-01-27T00:00:00\", \"2009-01-28T00:00:00\", \"2009-01-29T00:00:00\", \"2009-01-30T00:00:00\", \"2009-01-31T00:00:00\", \"2009-02-01T00:00:00\", \"2009-02-02T00:00:00\", \"2009-02-03T00:00:00\", \"2009-02-04T00:00:00\", \"2009-02-05T00:00:00\", \"2009-02-06T00:00:00\", \"2009-02-07T00:00:00\", \"2009-02-08T00:00:00\", \"2009-02-09T00:00:00\", \"2009-02-10T00:00:00\", \"2009-02-11T00:00:00\", \"2009-02-12T00:00:00\", \"2009-02-13T00:00:00\", \"2009-02-14T00:00:00\", \"2009-02-15T00:00:00\", \"2009-02-16T00:00:00\", \"2009-02-17T00:00:00\", \"2009-02-18T00:00:00\", \"2009-02-19T00:00:00\", \"2009-02-20T00:00:00\", \"2009-02-21T00:00:00\", \"2009-02-22T00:00:00\", \"2009-02-23T00:00:00\", \"2009-02-24T00:00:00\", \"2009-02-25T00:00:00\", \"2009-02-26T00:00:00\", \"2009-02-27T00:00:00\", \"2009-02-28T00:00:00\", \"2009-03-01T00:00:00\", \"2009-03-02T00:00:00\", \"2009-03-03T00:00:00\", \"2009-03-04T00:00:00\", \"2009-03-05T00:00:00\", \"2009-03-06T00:00:00\", \"2009-03-07T00:00:00\", \"2009-03-08T00:00:00\", \"2009-03-09T00:00:00\", \"2009-03-10T00:00:00\", \"2009-03-11T00:00:00\", \"2009-03-12T00:00:00\", \"2009-03-13T00:00:00\", \"2009-03-14T00:00:00\", \"2009-03-15T00:00:00\", \"2009-03-16T00:00:00\", \"2009-03-17T00:00:00\", \"2009-03-18T00:00:00\", \"2009-03-19T00:00:00\", \"2009-03-20T00:00:00\", \"2009-03-21T00:00:00\", \"2009-03-22T00:00:00\", \"2009-03-23T00:00:00\", \"2009-03-24T00:00:00\", \"2009-03-25T00:00:00\", \"2009-03-26T00:00:00\", \"2009-03-27T00:00:00\", \"2009-03-28T00:00:00\", \"2009-03-29T00:00:00\", \"2009-03-30T00:00:00\", \"2009-03-31T00:00:00\", \"2009-04-01T00:00:00\", \"2009-04-02T00:00:00\", \"2009-04-03T00:00:00\", \"2009-04-04T00:00:00\", \"2009-04-05T00:00:00\", \"2009-04-06T00:00:00\", \"2009-04-07T00:00:00\", \"2009-04-08T00:00:00\", \"2009-04-09T00:00:00\", \"2009-04-10T00:00:00\", \"2009-04-11T00:00:00\", \"2009-04-12T00:00:00\", \"2009-04-13T00:00:00\", \"2009-04-14T00:00:00\", \"2009-04-15T00:00:00\", \"2009-04-16T00:00:00\", \"2009-04-17T00:00:00\", \"2009-04-18T00:00:00\", \"2009-04-19T00:00:00\", \"2009-04-20T00:00:00\", \"2009-04-21T00:00:00\", \"2009-04-22T00:00:00\", \"2009-04-23T00:00:00\", \"2009-04-24T00:00:00\", \"2009-04-25T00:00:00\", \"2009-04-26T00:00:00\", \"2009-04-27T00:00:00\", \"2009-04-28T00:00:00\", \"2009-04-29T00:00:00\", \"2009-04-30T00:00:00\", \"2009-05-01T00:00:00\", \"2009-05-02T00:00:00\", \"2009-05-03T00:00:00\", \"2009-05-04T00:00:00\", \"2009-05-05T00:00:00\", \"2009-05-06T00:00:00\", \"2009-05-07T00:00:00\", \"2009-05-08T00:00:00\", \"2009-05-09T00:00:00\", \"2009-05-10T00:00:00\", \"2009-05-11T00:00:00\", \"2009-05-12T00:00:00\", \"2009-05-13T00:00:00\", \"2009-05-14T00:00:00\", \"2009-05-15T00:00:00\", \"2009-05-16T00:00:00\", \"2009-05-17T00:00:00\", \"2009-05-18T00:00:00\", \"2009-05-19T00:00:00\", \"2009-05-20T00:00:00\", \"2009-05-21T00:00:00\", \"2009-05-22T00:00:00\", \"2009-05-23T00:00:00\", \"2009-05-24T00:00:00\", \"2009-05-25T00:00:00\", \"2009-05-26T00:00:00\", \"2009-05-27T00:00:00\", \"2009-05-28T00:00:00\", \"2009-05-29T00:00:00\", \"2009-05-30T00:00:00\", \"2009-05-31T00:00:00\", \"2009-06-01T00:00:00\", \"2009-06-02T00:00:00\", \"2009-06-03T00:00:00\", \"2009-06-04T00:00:00\", \"2009-06-05T00:00:00\", \"2009-06-06T00:00:00\", \"2009-06-07T00:00:00\", \"2009-06-08T00:00:00\", \"2009-06-09T00:00:00\", \"2009-06-10T00:00:00\", \"2009-06-11T00:00:00\", \"2009-06-12T00:00:00\", \"2009-06-13T00:00:00\", \"2009-06-14T00:00:00\", \"2009-06-15T00:00:00\", \"2009-06-16T00:00:00\", \"2009-06-17T00:00:00\", \"2009-06-18T00:00:00\", \"2009-06-19T00:00:00\", \"2009-06-20T00:00:00\", \"2009-06-21T00:00:00\", \"2009-06-22T00:00:00\", \"2009-06-23T00:00:00\", \"2009-06-24T00:00:00\", \"2009-06-25T00:00:00\", \"2009-06-26T00:00:00\", \"2009-06-27T00:00:00\", \"2009-06-28T00:00:00\", \"2009-06-29T00:00:00\", \"2009-06-30T00:00:00\", \"2009-07-01T00:00:00\", \"2009-07-02T00:00:00\", \"2009-07-03T00:00:00\", \"2009-07-04T00:00:00\", \"2009-07-05T00:00:00\", \"2009-07-06T00:00:00\", \"2009-07-07T00:00:00\", \"2009-07-08T00:00:00\", \"2009-07-09T00:00:00\", \"2009-07-10T00:00:00\", \"2009-07-11T00:00:00\", \"2009-07-12T00:00:00\", \"2009-07-13T00:00:00\", \"2009-07-14T00:00:00\", \"2009-07-15T00:00:00\", \"2009-07-16T00:00:00\", \"2009-07-17T00:00:00\", \"2009-07-18T00:00:00\", \"2009-07-19T00:00:00\", \"2009-07-20T00:00:00\", \"2009-07-21T00:00:00\", \"2009-07-22T00:00:00\", \"2009-07-23T00:00:00\", \"2009-07-24T00:00:00\", \"2009-07-25T00:00:00\", \"2009-07-26T00:00:00\", \"2009-07-27T00:00:00\", \"2009-07-28T00:00:00\", \"2009-07-29T00:00:00\", \"2009-07-30T00:00:00\", \"2009-07-31T00:00:00\", \"2009-08-01T00:00:00\", \"2009-08-02T00:00:00\", \"2009-08-03T00:00:00\", \"2009-08-04T00:00:00\", \"2009-08-05T00:00:00\", \"2009-08-06T00:00:00\", \"2009-08-07T00:00:00\", \"2009-08-08T00:00:00\", \"2009-08-09T00:00:00\", \"2009-08-10T00:00:00\", \"2009-08-11T00:00:00\", \"2009-08-12T00:00:00\", \"2009-08-13T00:00:00\", \"2009-08-14T00:00:00\", \"2009-08-15T00:00:00\", \"2009-08-16T00:00:00\", \"2009-08-17T00:00:00\", \"2009-08-18T00:00:00\", \"2009-08-19T00:00:00\", \"2009-08-20T00:00:00\", \"2009-08-21T00:00:00\", \"2009-08-22T00:00:00\", \"2009-08-23T00:00:00\", \"2009-08-24T00:00:00\", \"2009-08-25T00:00:00\", \"2009-08-26T00:00:00\", \"2009-08-27T00:00:00\", \"2009-08-28T00:00:00\", \"2009-08-29T00:00:00\", \"2009-08-30T00:00:00\", \"2009-08-31T00:00:00\", \"2009-09-01T00:00:00\", \"2009-09-02T00:00:00\", \"2009-09-03T00:00:00\", \"2009-09-04T00:00:00\", \"2009-09-05T00:00:00\", \"2009-09-06T00:00:00\", \"2009-09-07T00:00:00\", \"2009-09-08T00:00:00\", \"2009-09-09T00:00:00\", \"2009-09-10T00:00:00\", \"2009-09-11T00:00:00\", \"2009-09-12T00:00:00\", \"2009-09-13T00:00:00\", \"2009-09-14T00:00:00\", \"2009-09-15T00:00:00\", \"2009-09-16T00:00:00\", \"2009-09-17T00:00:00\", \"2009-09-18T00:00:00\", \"2009-09-19T00:00:00\", \"2009-09-20T00:00:00\", \"2009-09-21T00:00:00\", \"2009-09-22T00:00:00\", \"2009-09-23T00:00:00\", \"2009-09-24T00:00:00\", \"2009-09-25T00:00:00\", \"2009-09-26T00:00:00\", \"2009-09-27T00:00:00\", \"2009-09-28T00:00:00\", \"2009-09-29T00:00:00\", \"2009-09-30T00:00:00\", \"2009-10-01T00:00:00\", \"2009-10-02T00:00:00\", \"2009-10-03T00:00:00\", \"2009-10-04T00:00:00\", \"2009-10-05T00:00:00\", \"2009-10-06T00:00:00\", \"2009-10-07T00:00:00\", \"2009-10-08T00:00:00\", \"2009-10-09T00:00:00\", \"2009-10-10T00:00:00\", \"2009-10-11T00:00:00\", \"2009-10-12T00:00:00\", \"2009-10-13T00:00:00\", \"2009-10-14T00:00:00\", \"2009-10-15T00:00:00\", \"2009-10-16T00:00:00\", \"2009-10-17T00:00:00\", \"2009-10-18T00:00:00\", \"2009-10-19T00:00:00\", \"2009-10-20T00:00:00\", \"2009-10-21T00:00:00\", \"2009-10-22T00:00:00\", \"2009-10-23T00:00:00\", \"2009-10-24T00:00:00\", \"2009-10-25T00:00:00\", \"2009-10-26T00:00:00\", \"2009-10-27T00:00:00\", \"2009-10-28T00:00:00\", \"2009-10-29T00:00:00\", \"2009-10-30T00:00:00\", \"2009-10-31T00:00:00\", \"2009-11-01T00:00:00\", \"2009-11-02T00:00:00\", \"2009-11-03T00:00:00\", \"2009-11-04T00:00:00\", \"2009-11-05T00:00:00\", \"2009-11-06T00:00:00\", \"2009-11-07T00:00:00\", \"2009-11-08T00:00:00\", \"2009-11-09T00:00:00\", \"2009-11-10T00:00:00\", \"2009-11-11T00:00:00\", \"2009-11-12T00:00:00\", \"2009-11-13T00:00:00\", \"2009-11-14T00:00:00\", \"2009-11-15T00:00:00\", \"2009-11-16T00:00:00\", \"2009-11-17T00:00:00\", \"2009-11-18T00:00:00\", \"2009-11-19T00:00:00\", \"2009-11-20T00:00:00\", \"2009-11-21T00:00:00\", \"2009-11-22T00:00:00\", \"2009-11-23T00:00:00\", \"2009-11-24T00:00:00\", \"2009-11-25T00:00:00\", \"2009-11-26T00:00:00\", \"2009-11-27T00:00:00\", \"2009-11-28T00:00:00\", \"2009-11-29T00:00:00\", \"2009-11-30T00:00:00\", \"2009-12-01T00:00:00\", \"2009-12-02T00:00:00\", \"2009-12-03T00:00:00\", \"2009-12-04T00:00:00\", \"2009-12-05T00:00:00\", \"2009-12-06T00:00:00\", \"2009-12-07T00:00:00\", \"2009-12-08T00:00:00\", \"2009-12-09T00:00:00\", \"2009-12-10T00:00:00\", \"2009-12-11T00:00:00\", \"2009-12-12T00:00:00\", \"2009-12-13T00:00:00\", \"2009-12-14T00:00:00\", \"2009-12-15T00:00:00\", \"2009-12-16T00:00:00\", \"2009-12-17T00:00:00\", \"2009-12-18T00:00:00\", \"2009-12-19T00:00:00\", \"2009-12-20T00:00:00\", \"2009-12-21T00:00:00\", \"2009-12-22T00:00:00\", \"2009-12-23T00:00:00\", \"2009-12-24T00:00:00\", \"2009-12-25T00:00:00\", \"2009-12-26T00:00:00\", \"2009-12-27T00:00:00\", \"2009-12-28T00:00:00\", \"2009-12-29T00:00:00\", \"2009-12-30T00:00:00\", \"2009-12-31T00:00:00\", \"2010-01-01T00:00:00\", \"2010-01-02T00:00:00\", \"2010-01-03T00:00:00\", \"2010-01-04T00:00:00\", \"2010-01-05T00:00:00\", \"2010-01-06T00:00:00\", \"2010-01-07T00:00:00\", \"2010-01-08T00:00:00\", \"2010-01-09T00:00:00\", \"2010-01-10T00:00:00\", \"2010-01-11T00:00:00\", \"2010-01-12T00:00:00\", \"2010-01-13T00:00:00\", \"2010-01-14T00:00:00\", \"2010-01-15T00:00:00\", \"2010-01-16T00:00:00\", \"2010-01-17T00:00:00\", \"2010-01-18T00:00:00\", \"2010-01-19T00:00:00\", \"2010-01-20T00:00:00\", \"2010-01-21T00:00:00\", \"2010-01-22T00:00:00\", \"2010-01-23T00:00:00\", \"2010-01-24T00:00:00\", \"2010-01-25T00:00:00\", \"2010-01-26T00:00:00\", \"2010-01-27T00:00:00\", \"2010-01-28T00:00:00\", \"2010-01-29T00:00:00\", \"2010-01-30T00:00:00\", \"2010-01-31T00:00:00\", \"2010-02-01T00:00:00\", \"2010-02-02T00:00:00\", \"2010-02-03T00:00:00\", \"2010-02-04T00:00:00\", \"2010-02-05T00:00:00\", \"2010-02-06T00:00:00\", \"2010-02-07T00:00:00\", \"2010-02-08T00:00:00\", \"2010-02-09T00:00:00\", \"2010-02-10T00:00:00\", \"2010-02-11T00:00:00\", \"2010-02-12T00:00:00\", \"2010-02-13T00:00:00\", \"2010-02-14T00:00:00\", \"2010-02-15T00:00:00\", \"2010-02-16T00:00:00\", \"2010-02-17T00:00:00\", \"2010-02-18T00:00:00\", \"2010-02-19T00:00:00\", \"2010-02-20T00:00:00\", \"2010-02-21T00:00:00\", \"2010-02-22T00:00:00\", \"2010-02-23T00:00:00\", \"2010-02-24T00:00:00\", \"2010-02-25T00:00:00\", \"2010-02-26T00:00:00\", \"2010-02-27T00:00:00\", \"2010-02-28T00:00:00\", \"2010-03-01T00:00:00\", \"2010-03-02T00:00:00\", \"2010-03-03T00:00:00\", \"2010-03-04T00:00:00\", \"2010-03-05T00:00:00\", \"2010-03-06T00:00:00\", \"2010-03-07T00:00:00\", \"2010-03-08T00:00:00\", \"2010-03-09T00:00:00\", \"2010-03-10T00:00:00\", \"2010-03-11T00:00:00\", \"2010-03-12T00:00:00\", \"2010-03-13T00:00:00\", \"2010-03-14T00:00:00\", \"2010-03-15T00:00:00\", \"2010-03-16T00:00:00\", \"2010-03-17T00:00:00\", \"2010-03-18T00:00:00\", \"2010-03-19T00:00:00\", \"2010-03-20T00:00:00\", \"2010-03-21T00:00:00\", \"2010-03-22T00:00:00\", \"2010-03-23T00:00:00\", \"2010-03-24T00:00:00\", \"2010-03-25T00:00:00\", \"2010-03-26T00:00:00\", \"2010-03-27T00:00:00\", \"2010-03-28T00:00:00\", \"2010-03-29T00:00:00\", \"2010-03-30T00:00:00\", \"2010-03-31T00:00:00\", \"2010-04-01T00:00:00\", \"2010-04-02T00:00:00\", \"2010-04-03T00:00:00\", \"2010-04-04T00:00:00\", \"2010-04-05T00:00:00\", \"2010-04-06T00:00:00\", \"2010-04-07T00:00:00\", \"2010-04-08T00:00:00\", \"2010-04-09T00:00:00\", \"2010-04-10T00:00:00\", \"2010-04-11T00:00:00\", \"2010-04-12T00:00:00\", \"2010-04-13T00:00:00\", \"2010-04-14T00:00:00\", \"2010-04-15T00:00:00\", \"2010-04-16T00:00:00\", \"2010-04-17T00:00:00\", \"2010-04-18T00:00:00\", \"2010-04-19T00:00:00\", \"2010-04-20T00:00:00\", \"2010-04-21T00:00:00\", \"2010-04-22T00:00:00\", \"2010-04-23T00:00:00\", \"2010-04-24T00:00:00\", \"2010-04-25T00:00:00\", \"2010-04-26T00:00:00\", \"2010-04-27T00:00:00\", \"2010-04-28T00:00:00\", \"2010-04-29T00:00:00\", \"2010-04-30T00:00:00\", \"2010-05-01T00:00:00\", \"2010-05-02T00:00:00\", \"2010-05-03T00:00:00\", \"2010-05-04T00:00:00\", \"2010-05-05T00:00:00\", \"2010-05-06T00:00:00\", \"2010-05-07T00:00:00\", \"2010-05-08T00:00:00\", \"2010-05-09T00:00:00\", \"2010-05-10T00:00:00\", \"2010-05-11T00:00:00\", \"2010-05-12T00:00:00\", \"2010-05-13T00:00:00\", \"2010-05-14T00:00:00\", \"2010-05-15T00:00:00\", \"2010-05-16T00:00:00\", \"2010-05-17T00:00:00\", \"2010-05-18T00:00:00\", \"2010-05-19T00:00:00\", \"2010-05-20T00:00:00\", \"2010-05-21T00:00:00\", \"2010-05-22T00:00:00\", \"2010-05-23T00:00:00\", \"2010-05-24T00:00:00\", \"2010-05-25T00:00:00\", \"2010-05-26T00:00:00\", \"2010-05-27T00:00:00\", \"2010-05-28T00:00:00\", \"2010-05-29T00:00:00\", \"2010-05-30T00:00:00\", \"2010-05-31T00:00:00\", \"2010-06-01T00:00:00\", \"2010-06-02T00:00:00\", \"2010-06-03T00:00:00\", \"2010-06-04T00:00:00\", \"2010-06-05T00:00:00\", \"2010-06-06T00:00:00\", \"2010-06-07T00:00:00\", \"2010-06-08T00:00:00\", \"2010-06-09T00:00:00\", \"2010-06-10T00:00:00\", \"2010-06-11T00:00:00\", \"2010-06-12T00:00:00\", \"2010-06-13T00:00:00\", \"2010-06-14T00:00:00\", \"2010-06-15T00:00:00\", \"2010-06-16T00:00:00\", \"2010-06-17T00:00:00\", \"2010-06-18T00:00:00\", \"2010-06-19T00:00:00\", \"2010-06-20T00:00:00\", \"2010-06-21T00:00:00\", \"2010-06-22T00:00:00\", \"2010-06-23T00:00:00\", \"2010-06-24T00:00:00\", \"2010-06-25T00:00:00\", \"2010-06-26T00:00:00\", \"2010-06-27T00:00:00\", \"2010-06-28T00:00:00\", \"2010-06-29T00:00:00\", \"2010-06-30T00:00:00\", \"2010-07-01T00:00:00\", \"2010-07-02T00:00:00\", \"2010-07-03T00:00:00\", \"2010-07-04T00:00:00\", \"2010-07-05T00:00:00\", \"2010-07-06T00:00:00\", \"2010-07-07T00:00:00\", \"2010-07-08T00:00:00\", \"2010-07-09T00:00:00\", \"2010-07-10T00:00:00\", \"2010-07-11T00:00:00\", \"2010-07-12T00:00:00\", \"2010-07-13T00:00:00\", \"2010-07-14T00:00:00\", \"2010-07-15T00:00:00\", \"2010-07-16T00:00:00\", \"2010-07-17T00:00:00\", \"2010-07-18T00:00:00\", \"2010-07-19T00:00:00\", \"2010-07-20T00:00:00\", \"2010-07-21T00:00:00\", \"2010-07-22T00:00:00\", \"2010-07-23T00:00:00\", \"2010-07-24T00:00:00\", \"2010-07-25T00:00:00\", \"2010-07-26T00:00:00\", \"2010-07-27T00:00:00\", \"2010-07-28T00:00:00\", \"2010-07-29T00:00:00\", \"2010-07-30T00:00:00\", \"2010-07-31T00:00:00\", \"2010-08-01T00:00:00\", \"2010-08-02T00:00:00\", \"2010-08-03T00:00:00\", \"2010-08-04T00:00:00\", \"2010-08-05T00:00:00\", \"2010-08-06T00:00:00\", \"2010-08-07T00:00:00\", \"2010-08-08T00:00:00\", \"2010-08-09T00:00:00\", \"2010-08-10T00:00:00\", \"2010-08-11T00:00:00\", \"2010-08-12T00:00:00\", \"2010-08-13T00:00:00\", \"2010-08-14T00:00:00\", \"2010-08-15T00:00:00\", \"2010-08-16T00:00:00\", \"2010-08-17T00:00:00\", \"2010-08-18T00:00:00\", \"2010-08-19T00:00:00\", \"2010-08-20T00:00:00\", \"2010-08-21T00:00:00\", \"2010-08-22T00:00:00\", \"2010-08-23T00:00:00\", \"2010-08-24T00:00:00\", \"2010-08-25T00:00:00\", \"2010-08-26T00:00:00\", \"2010-08-27T00:00:00\", \"2010-08-28T00:00:00\", \"2010-08-29T00:00:00\", \"2010-08-30T00:00:00\", \"2010-08-31T00:00:00\", \"2010-09-01T00:00:00\", \"2010-09-02T00:00:00\", \"2010-09-03T00:00:00\", \"2010-09-04T00:00:00\", \"2010-09-05T00:00:00\", \"2010-09-06T00:00:00\", \"2010-09-07T00:00:00\", \"2010-09-08T00:00:00\", \"2010-09-09T00:00:00\", \"2010-09-10T00:00:00\", \"2010-09-11T00:00:00\", \"2010-09-12T00:00:00\", \"2010-09-13T00:00:00\", \"2010-09-14T00:00:00\", \"2010-09-15T00:00:00\", \"2010-09-16T00:00:00\", \"2010-09-17T00:00:00\", \"2010-09-18T00:00:00\", \"2010-09-19T00:00:00\", \"2010-09-20T00:00:00\", \"2010-09-21T00:00:00\", \"2010-09-22T00:00:00\", \"2010-09-23T00:00:00\", \"2010-09-24T00:00:00\", \"2010-09-25T00:00:00\", \"2010-09-26T00:00:00\", \"2010-09-27T00:00:00\", \"2010-09-28T00:00:00\", \"2010-09-29T00:00:00\", \"2010-09-30T00:00:00\", \"2010-10-01T00:00:00\", \"2010-10-02T00:00:00\", \"2010-10-03T00:00:00\", \"2010-10-04T00:00:00\", \"2010-10-05T00:00:00\", \"2010-10-06T00:00:00\", \"2010-10-07T00:00:00\", \"2010-10-08T00:00:00\", \"2010-10-09T00:00:00\", \"2010-10-10T00:00:00\", \"2010-10-11T00:00:00\", \"2010-10-12T00:00:00\", \"2010-10-13T00:00:00\", \"2010-10-14T00:00:00\", \"2010-10-15T00:00:00\", \"2010-10-16T00:00:00\", \"2010-10-17T00:00:00\", \"2010-10-18T00:00:00\", \"2010-10-19T00:00:00\", \"2010-10-20T00:00:00\", \"2010-10-21T00:00:00\", \"2010-10-22T00:00:00\", \"2010-10-23T00:00:00\", \"2010-10-24T00:00:00\", \"2010-10-25T00:00:00\", \"2010-10-26T00:00:00\", \"2010-10-27T00:00:00\", \"2010-10-28T00:00:00\", \"2010-10-29T00:00:00\", \"2010-10-30T00:00:00\", \"2010-10-31T00:00:00\", \"2010-11-01T00:00:00\", \"2010-11-02T00:00:00\", \"2010-11-03T00:00:00\", \"2010-11-04T00:00:00\", \"2010-11-05T00:00:00\", \"2010-11-06T00:00:00\", \"2010-11-07T00:00:00\", \"2010-11-08T00:00:00\", \"2010-11-09T00:00:00\", \"2010-11-10T00:00:00\", \"2010-11-11T00:00:00\", \"2010-11-12T00:00:00\", \"2010-11-13T00:00:00\", \"2010-11-14T00:00:00\", \"2010-11-15T00:00:00\", \"2010-11-16T00:00:00\", \"2010-11-17T00:00:00\", \"2010-11-18T00:00:00\", \"2010-11-19T00:00:00\", \"2010-11-20T00:00:00\", \"2010-11-21T00:00:00\", \"2010-11-22T00:00:00\", \"2010-11-23T00:00:00\", \"2010-11-24T00:00:00\", \"2010-11-25T00:00:00\", \"2010-11-26T00:00:00\", \"2010-11-27T00:00:00\", \"2010-11-28T00:00:00\", \"2010-11-29T00:00:00\", \"2010-11-30T00:00:00\", \"2010-12-01T00:00:00\", \"2010-12-02T00:00:00\", \"2010-12-03T00:00:00\", \"2010-12-04T00:00:00\", \"2010-12-05T00:00:00\", \"2010-12-06T00:00:00\", \"2010-12-07T00:00:00\", \"2010-12-08T00:00:00\", \"2010-12-09T00:00:00\", \"2010-12-10T00:00:00\", \"2010-12-11T00:00:00\", \"2010-12-12T00:00:00\", \"2010-12-13T00:00:00\", \"2010-12-14T00:00:00\", \"2010-12-15T00:00:00\", \"2010-12-16T00:00:00\", \"2010-12-17T00:00:00\", \"2010-12-18T00:00:00\", \"2010-12-19T00:00:00\", \"2010-12-20T00:00:00\", \"2010-12-21T00:00:00\", \"2010-12-22T00:00:00\", \"2010-12-23T00:00:00\", \"2010-12-24T00:00:00\", \"2010-12-25T00:00:00\", \"2010-12-26T00:00:00\", \"2010-12-27T00:00:00\", \"2010-12-28T00:00:00\", \"2010-12-29T00:00:00\", \"2010-12-30T00:00:00\", \"2010-12-31T00:00:00\"], \"y\": [700.0, 3050.0, 4650.0, 4750.0, 6150.0, 6511.0, 6700.0, 5600.0, 5450.0, 5500.0, 6525.0, 6100.0, 5200.0, 5050.0, 4650.0, 10550.0, 9600.0, 5800.0, 5000.0, 5600.0, 6650.0, 5850.0, 7900.0, 5750.0, 6450.0, 7150.0, 5950.0, 6300.0, 6100.0, 7600.0, 7600.0, 8900.0, 6000.0, 7100.04, 5950.0, 6200.0, 6800.0, 6950.0, 7600.0, 5850.0, 5900.0, 7000.0, 6100.0, 5700.0, 6450.0, 5400.0, 5300.0, 5250.0, 5350.0, 7550.0, 5300.0, 5250.0, 5400.0, 5650.0, 6450.0, 6000.0, 5850.0, 5450.0, 6950.0, 5400.0, 5350.0, 5700.0, 6050.0, 6400.0, 5500.0, 6150.0, 8450.0, 5700.0, 6400.0, 6100.0, 6500.0, 2500.0, 6500.0, 6500.0, 5250.0, 5850.0, 7250.0, 5300.0, 6950.0, 5800.0, 6000.0, 7100.0, 5700.0, 5750.0, 5800.0, 5650.0, 7350.0, 5450.0, 5000.0, 5250.0, 4950.0, 5400.0, 6350.0, 6550.0, 5800.0, 6200.0, 5650.0, 6150.0, 5600.0, 6450.0, 6350.0, 11700.0, 6200.0, 6050.0, 3750.0, 5750.0, 5900.0, 6350.0, 5200.0, 5850.0, 7400.0, 6550.0, 6050.0, 7000.0, 5350.0, 7900.0, 7250.0, 6750.0, 6100.0, 5350.0, 3900.0, 4250.0, 6100.0, 6500.0, 5650.0, 7100.0, 7250.0, 5950.0, 6350.0, 5900.0, 4300.0, 6000.0, 4100.0, 3050.0, 1600.0, 5000.0, 5450.0, 6250.0, 5950.0, 4750.0, 8300.0, 5450.0, 4800.0, 3600.0, 5550.0, 3550.0, 3300.0, 1500.0, 1400.0, 800.0, 4100.0, 4550.0, 4100.0, 4450.0, 4300.0, 3900.0, 3600.0, 4200.0, 3550.0, 3950.0, 4000.0, 4350.0, 3900.0, 4050.0, 6800.0, 3800.0, 4898.98, 4400.0, 4500.0, 4200.0, 2350.0, 4200.0, 4345.0, 3800.0, 4200.0, 4100.0, 4450.0, 3950.0, 4200.0, 3450.0, 3700.0, 4300.0, 4050.0, 4150.0, 3850.0, 3900.0, 3450.0, 2250.0, 3550.0, 2350.0, 200.0, 3500.0, 9549.67, 4100.0, 3000.0, 3800.0, 3650.0, 1600.0, 1050.0, 3700.0, 2050.0, 1050.0, 800.0, 850.0, 1400.0, 1150.0, 600.0, 4050.0, 4350.0, 4500.0, 9549.53, 4000.0, 5050.0, 3750.0, 3500.0, 3150.0, 4250.0, 3150.0, 1300.0, 950.0, 850.0, 500.0, 900.0, 1100.0, 700.0, 350.0, 750.0, 750.0, 2500.0, 4699.53, 1450.0, 3750.0, 3900.0, 4900.0, 4600.0, 3900.0, 3300.0, 3750.0, 3200.0, 3800.0, 3400.0, 4550.0, 3450.0, 2700.0, 3350.0, 3350.0, 3450.0, 3750.0, 3700.0, 2200.0, 3601.0, 9250.0, 3900.0, 3700.0, 3900.0, 3850.0, 3250.0, 1800.0, 4850.0, 5850.0, 5000.0, 5150.0, 4250.0, 6550.0, 4250.0, 4100.0, 4100.0, 2900.0, 2650.0, 2750.0, 2850.0, 3000.0, 3500.0, 3950.0, 3850.0, 3700.0, 7950.0, 2850.0, 3450.0, 3550.0, 12700.0, 2850.0, 4050.0, 5600.0, 9799.880000000001, 4899.76, 16500.0, 4450.0, 15400.0, 3800.0, 3550.0, 16200.0, 3300.0, 4350.0, 3000.0, 2300.0, 1250.0, 1650.0, 3100.0, 18650.0, 2850.0, 3100.0, 3450.0, 3650.0, 3200.0, 3900.0, 21200.0, 3300.0, 4550.0, 3950.0, 4800.0, 4850.0, 4600.0, 3950.0, 26000.0, 4300.0, 3650.0, 5300.0, 4800.0, 4650.0, 4500.0, 4200.0, 3700.0, 3550.0, 3000.0, 3750.0, 13699.8, 4700.0, 4400.0, 1800.0, 4100.0, 5250.0, 5600.0, 6750.0, 6950.0, 5200.0, 5600.0, 10700.0, 5700.0, 21688.0, 10959.0, 7650.0, 8700.0, 11250.0, 9950.0, 8750.0, 8800.0, 8100.0, 7700.0, 7700.0, 7500.0, 8700.0, 8600.0, 6850.0, 8550.0, 7050.0, 6900.0, 4550.0, 4600.0, 6850.0, 27250.0, 7100.0, 5700.0, 4900.0, 4750.0, 4750.0, 7150.0, 5900.0, 17151.0, 5651.0, 5355.0, 5350.74, 4701.0, 4750.0, 5250.0, 5700.0, 7250.0, 7100.0, 5149.0, 6399.0, 5850.0, 11750.0, 8324.0, 7050.0, 8050.0, 8350.0, 10000.0, 8650.0, 9250.0, 7250.0, 11300.0, 10650.0, 20882.2, 8850.0, 9700.0, 12550.0, 28750.440000000002, 36650.0, 10200.0, 10900.0, 16095.83, 16130.0, 10763.35, 8564.369999999999, 31811.93, 10401.0, 7500.0, 9100.0, 14016.83, 23500.0, 9950.0, 11050.0, 12250.0, 17000.0, 7201.0, 11301.0, 8850.0, 9150.0, 13550.0, 25950.0, 5950.0, 30050.9, 12600.0, 13445.17, 9500.0, 8650.0, 8450.0, 4550.0, 7800.0, 5900.0, 4850.0, 5951.0, 6300.0, 8960.0, 11396.0, 10756.0, 7201.0, 7850.0, 11233.51, 7250.0, 23250.0, 11100.0, 9303.3, 8900.0, 9350.0, 8250.0, 9224.2, 7300.0, 6250.0, 7123.48, 7850.0, 9358.74, 8580.630000000001, 7650.04, 10038.74, 19362.0, 24754.08, 17763.05, 19601.85, 9560.0, 12096.89, 65633.72, 19688.33, 12193.099999999999, 16135.9, 24966.190000000002, 17882.0, 15769.8, 24570.77, 8025.05, 8755.0, 20740.9, 16303.07, 13550.98, 14067.72, 8293.71, 37547.31999999999, 10850.6, 7752.0, 12700.0, 22705.050000000003, 24172.0, 16851.0, 28570.0, 20759.260000000002, 11347.880000000001, 12863.78, 6400.1, 17312.11, 14411.560000000001, 20515.25, 6764.639999999999, 6788.639999999999, 15542.6, 14062.0, 20421.62, 11833.0, 45253.979999999996, 34678.880000000005, 28788.36, 12436.0, 14700.0, 23923.72, 18442.81, 35871.229999999996, 35561.770000000004, 11810.0, 12860.0, 13107.25, 13905.41, 15556.84, 37900.35, 10650.0, 13103.31, 31050.0, 16000.0, 35166.3, 27863.48, 15425.24, 18924.09, 19832.37, 23901.010000000002, 19852.989999999998, 30648.989999999998, 23468.0, 16520.0, 29048.020000000004, 26300.0, 12052.09, 19037.440000000002, 28040.0, 28110.0, 17195.0, 42090.0, 13084.0, 19526.05, 33874.09, 55965.38, 31614.89, 60298.42, 43917.0, 22600.0, 47007.01, 25725.0, 31434.489999999998, 13427.94, 13805.0, 19881.309999999998, 27589.86, 129963.56999999999, 52444.57, 64200.32000000001, 96785.86, 45483.15, 26876.54, 34681.979999999996, 34689.17999999999, 20806.870000000003, 25635.83, 36578.810000000005, 24322.829999999998, 19594.26, 35538.35, 70997.73999999999, 23202.379999999997, 71366.92000000001, 19346.61, 22137.54, 19154.82, 70714.36, 69833.12, 29988.729999999996, 20927.300000000003, 29495.030000000002, 20049.07, 21168.32, 16905.51, 49109.600000000006, 23596.99, 40225.99, 19674.33, 31255.300000000003, 17772.05, 17576.28, 48013.32000000001, 30514.52, 31098.58, 19640.67, 24065.660000000003, 36350.240000000005, 19264.440000000002, 21542.91, 21284.129999999997, 19339.76, 20157.010000000002, 29764.89, 18468.0899997, 14156.5, 18965.5500004, 38511.1299989, 27666.7299987, 25667.3600001, 23541.78, 22826.920000000002, 76561.53000000001, 76013.3699984, 21454.550000000003, 20697.9199983, 31545.919998200003, 17101.189997999998, 12996.15, 25211.600000299997, 74481.96000009999, 26861.32, 33668.79, 33426.84, 51493.67, 34105.990000000005, 40014.209603519994, 36580.11, 22600.970000100002, 39837.649999999994, 86658.51999999999, 22419.91, 32411.549999999996, 26405.87, 38427.44, 81124.39992812001, 34061.2, 35359.350000000006, 54010.012805160004, 165261.55776812998, 39122.46776625, 79516.42000099001, 120508.95000009998, 79004.47000109, 87883.81, 101686.94, 121965.88, 74421.4, 51439.500001090004, 54382.07000000001, 42936.8, 87285.09, 75923.03, 85576.90000108999, 22099.92, 42772.869999999995, 49350.1, 49234.45000000001, 97630.95000000001, 51097.89, 34186.100000000006, 71300.73000000001, 54122.770000000004, 68807.68, 84271.38, 98878.20000000001, 45726.6, 37483.41, 51331.649999999994, 33606.380000000005, 43867.32, 38990.840000000004, 113168.49108787999, 39498.55, 104215.93000000001, 44217.41, 282629.18, 32337.760000000002, 36834.08, 25634.95, 21629.379999999997, 32226.229999999996, 37858.5, 64183.369999999995, 34023.049999999996, 38325.729999999996, 33060.42108788, 30531.99, 37437.66, 33255.509999999995, 25770.479999999996, 38997.75, 32504.600000000006, 46287.67999999999, 79864.74000000002, 27300.699999999997, 26919.1, 37921.32, 55399.17, 42379.1, 48135.170000000006, 30527.510000000002, 51661.08, 27208.78, 103619.56613297002, 69755.67434402, 31811.79528566, 35055.13727152, 21368.8, 53617.380581920006, 22215.51247706, 67897.79229397999, 29014.06152496, 34963.04373355999, 29510.793569460002, 24947.165444160004, 36836.28674275, 63669.06693557001, 35794.90571344, 57140.576459799995, 29396.168474, 16069.84861085, 18335.637480650003, 30640.27743052, 18465.48903786, 58657.84664132999, 30373.383957650003, 86582.81683591, 38565.83238552, 29209.05335061]}, {\"name\": \"1d ~ 1m\", \"type\": \"scatter\", \"x\": [\"2009-01-09T00:00:00\", \"2009-01-10T00:00:00\", \"2009-01-11T00:00:00\", \"2009-01-12T00:00:00\", \"2009-01-13T00:00:00\", \"2009-01-14T00:00:00\", \"2009-01-15T00:00:00\", \"2009-01-16T00:00:00\", \"2009-01-17T00:00:00\", \"2009-01-18T00:00:00\", \"2009-01-19T00:00:00\", \"2009-01-20T00:00:00\", \"2009-01-21T00:00:00\", \"2009-01-22T00:00:00\", \"2009-01-23T00:00:00\", \"2009-01-24T00:00:00\", \"2009-01-25T00:00:00\", \"2009-01-26T00:00:00\", \"2009-01-27T00:00:00\", \"2009-01-28T00:00:00\", \"2009-01-29T00:00:00\", \"2009-01-30T00:00:00\", \"2009-01-31T00:00:00\", \"2009-02-01T00:00:00\", \"2009-02-02T00:00:00\", \"2009-02-03T00:00:00\", \"2009-02-04T00:00:00\", \"2009-02-05T00:00:00\", \"2009-02-06T00:00:00\", \"2009-02-07T00:00:00\", \"2009-02-08T00:00:00\", \"2009-02-09T00:00:00\", \"2009-02-10T00:00:00\", \"2009-02-11T00:00:00\", \"2009-02-12T00:00:00\", \"2009-02-13T00:00:00\", \"2009-02-14T00:00:00\", \"2009-02-15T00:00:00\", \"2009-02-16T00:00:00\", \"2009-02-17T00:00:00\", \"2009-02-18T00:00:00\", \"2009-02-19T00:00:00\", \"2009-02-20T00:00:00\", \"2009-02-21T00:00:00\", \"2009-02-22T00:00:00\", \"2009-02-23T00:00:00\", \"2009-02-24T00:00:00\", \"2009-02-25T00:00:00\", \"2009-02-26T00:00:00\", \"2009-02-27T00:00:00\", \"2009-02-28T00:00:00\", \"2009-03-01T00:00:00\", \"2009-03-02T00:00:00\", \"2009-03-03T00:00:00\", \"2009-03-04T00:00:00\", \"2009-03-05T00:00:00\", \"2009-03-06T00:00:00\", \"2009-03-07T00:00:00\", \"2009-03-08T00:00:00\", \"2009-03-09T00:00:00\", \"2009-03-10T00:00:00\", \"2009-03-11T00:00:00\", \"2009-03-12T00:00:00\", \"2009-03-13T00:00:00\", \"2009-03-14T00:00:00\", \"2009-03-15T00:00:00\", \"2009-03-16T00:00:00\", \"2009-03-17T00:00:00\", \"2009-03-18T00:00:00\", \"2009-03-19T00:00:00\", \"2009-03-20T00:00:00\", \"2009-03-21T00:00:00\", \"2009-03-22T00:00:00\", \"2009-03-23T00:00:00\", \"2009-03-24T00:00:00\", \"2009-03-25T00:00:00\", \"2009-03-26T00:00:00\", \"2009-03-27T00:00:00\", \"2009-03-28T00:00:00\", \"2009-03-29T00:00:00\", \"2009-03-30T00:00:00\", \"2009-03-31T00:00:00\", \"2009-04-01T00:00:00\", \"2009-04-02T00:00:00\", \"2009-04-03T00:00:00\", \"2009-04-04T00:00:00\", \"2009-04-05T00:00:00\", \"2009-04-06T00:00:00\", \"2009-04-07T00:00:00\", \"2009-04-08T00:00:00\", \"2009-04-09T00:00:00\", \"2009-04-10T00:00:00\", \"2009-04-11T00:00:00\", \"2009-04-12T00:00:00\", \"2009-04-13T00:00:00\", \"2009-04-14T00:00:00\", \"2009-04-15T00:00:00\", \"2009-04-16T00:00:00\", \"2009-04-17T00:00:00\", \"2009-04-18T00:00:00\", \"2009-04-19T00:00:00\", \"2009-04-20T00:00:00\", \"2009-04-21T00:00:00\", \"2009-04-22T00:00:00\", \"2009-04-23T00:00:00\", \"2009-04-24T00:00:00\", \"2009-04-25T00:00:00\", \"2009-04-26T00:00:00\", \"2009-04-27T00:00:00\", \"2009-04-28T00:00:00\", \"2009-04-29T00:00:00\", \"2009-04-30T00:00:00\", \"2009-05-01T00:00:00\", \"2009-05-02T00:00:00\", \"2009-05-03T00:00:00\", \"2009-05-04T00:00:00\", \"2009-05-05T00:00:00\", \"2009-05-06T00:00:00\", \"2009-05-07T00:00:00\", \"2009-05-08T00:00:00\", \"2009-05-09T00:00:00\", \"2009-05-10T00:00:00\", \"2009-05-11T00:00:00\", \"2009-05-12T00:00:00\", \"2009-05-13T00:00:00\", \"2009-05-14T00:00:00\", \"2009-05-15T00:00:00\", \"2009-05-16T00:00:00\", \"2009-05-17T00:00:00\", \"2009-05-18T00:00:00\", \"2009-05-19T00:00:00\", \"2009-05-20T00:00:00\", \"2009-05-21T00:00:00\", \"2009-05-22T00:00:00\", \"2009-05-23T00:00:00\", \"2009-05-24T00:00:00\", \"2009-05-25T00:00:00\", \"2009-05-26T00:00:00\", \"2009-05-27T00:00:00\", \"2009-05-28T00:00:00\", \"2009-05-29T00:00:00\", \"2009-05-30T00:00:00\", \"2009-05-31T00:00:00\", \"2009-06-01T00:00:00\", \"2009-06-02T00:00:00\", \"2009-06-03T00:00:00\", \"2009-06-04T00:00:00\", \"2009-06-05T00:00:00\", \"2009-06-06T00:00:00\", \"2009-06-07T00:00:00\", \"2009-06-08T00:00:00\", \"2009-06-09T00:00:00\", \"2009-06-10T00:00:00\", \"2009-06-11T00:00:00\", \"2009-06-12T00:00:00\", \"2009-06-13T00:00:00\", \"2009-06-14T00:00:00\", \"2009-06-15T00:00:00\", \"2009-06-16T00:00:00\", \"2009-06-17T00:00:00\", \"2009-06-18T00:00:00\", \"2009-06-19T00:00:00\", \"2009-06-20T00:00:00\", \"2009-06-21T00:00:00\", \"2009-06-22T00:00:00\", \"2009-06-23T00:00:00\", \"2009-06-24T00:00:00\", \"2009-06-25T00:00:00\", \"2009-06-26T00:00:00\", \"2009-06-27T00:00:00\", \"2009-06-28T00:00:00\", \"2009-06-29T00:00:00\", \"2009-06-30T00:00:00\", \"2009-07-01T00:00:00\", \"2009-07-02T00:00:00\", \"2009-07-03T00:00:00\", \"2009-07-04T00:00:00\", \"2009-07-05T00:00:00\", \"2009-07-06T00:00:00\", \"2009-07-07T00:00:00\", \"2009-07-08T00:00:00\", \"2009-07-09T00:00:00\", \"2009-07-10T00:00:00\", \"2009-07-11T00:00:00\", \"2009-07-12T00:00:00\", \"2009-07-13T00:00:00\", \"2009-07-14T00:00:00\", \"2009-07-15T00:00:00\", \"2009-07-16T00:00:00\", \"2009-07-17T00:00:00\", \"2009-07-18T00:00:00\", \"2009-07-19T00:00:00\", \"2009-07-20T00:00:00\", \"2009-07-21T00:00:00\", \"2009-07-22T00:00:00\", \"2009-07-23T00:00:00\", \"2009-07-24T00:00:00\", \"2009-07-25T00:00:00\", \"2009-07-26T00:00:00\", \"2009-07-27T00:00:00\", \"2009-07-28T00:00:00\", \"2009-07-29T00:00:00\", \"2009-07-30T00:00:00\", \"2009-07-31T00:00:00\", \"2009-08-01T00:00:00\", \"2009-08-02T00:00:00\", \"2009-08-03T00:00:00\", \"2009-08-04T00:00:00\", \"2009-08-05T00:00:00\", \"2009-08-06T00:00:00\", \"2009-08-07T00:00:00\", \"2009-08-08T00:00:00\", \"2009-08-09T00:00:00\", \"2009-08-10T00:00:00\", \"2009-08-11T00:00:00\", \"2009-08-12T00:00:00\", \"2009-08-13T00:00:00\", \"2009-08-14T00:00:00\", \"2009-08-15T00:00:00\", \"2009-08-16T00:00:00\", \"2009-08-17T00:00:00\", \"2009-08-18T00:00:00\", \"2009-08-19T00:00:00\", \"2009-08-20T00:00:00\", \"2009-08-21T00:00:00\", \"2009-08-22T00:00:00\", \"2009-08-23T00:00:00\", \"2009-08-24T00:00:00\", \"2009-08-25T00:00:00\", \"2009-08-26T00:00:00\", \"2009-08-27T00:00:00\", \"2009-08-28T00:00:00\", \"2009-08-29T00:00:00\", \"2009-08-30T00:00:00\", \"2009-08-31T00:00:00\", \"2009-09-01T00:00:00\", \"2009-09-02T00:00:00\", \"2009-09-03T00:00:00\", \"2009-09-04T00:00:00\", \"2009-09-05T00:00:00\", \"2009-09-06T00:00:00\", \"2009-09-07T00:00:00\", \"2009-09-08T00:00:00\", \"2009-09-09T00:00:00\", \"2009-09-10T00:00:00\", \"2009-09-11T00:00:00\", \"2009-09-12T00:00:00\", \"2009-09-13T00:00:00\", \"2009-09-14T00:00:00\", \"2009-09-15T00:00:00\", \"2009-09-16T00:00:00\", \"2009-09-17T00:00:00\", \"2009-09-18T00:00:00\", \"2009-09-19T00:00:00\", \"2009-09-20T00:00:00\", \"2009-09-21T00:00:00\", \"2009-09-22T00:00:00\", \"2009-09-23T00:00:00\", \"2009-09-24T00:00:00\", \"2009-09-25T00:00:00\", \"2009-09-26T00:00:00\", \"2009-09-27T00:00:00\", \"2009-09-28T00:00:00\", \"2009-09-29T00:00:00\", \"2009-09-30T00:00:00\", \"2009-10-01T00:00:00\", \"2009-10-02T00:00:00\", \"2009-10-03T00:00:00\", \"2009-10-04T00:00:00\", \"2009-10-05T00:00:00\", \"2009-10-06T00:00:00\", \"2009-10-07T00:00:00\", \"2009-10-08T00:00:00\", \"2009-10-09T00:00:00\", \"2009-10-10T00:00:00\", \"2009-10-11T00:00:00\", \"2009-10-12T00:00:00\", \"2009-10-13T00:00:00\", \"2009-10-14T00:00:00\", \"2009-10-15T00:00:00\", \"2009-10-16T00:00:00\", \"2009-10-17T00:00:00\", \"2009-10-18T00:00:00\", \"2009-10-19T00:00:00\", \"2009-10-20T00:00:00\", \"2009-10-21T00:00:00\", \"2009-10-22T00:00:00\", \"2009-10-23T00:00:00\", \"2009-10-24T00:00:00\", \"2009-10-25T00:00:00\", \"2009-10-26T00:00:00\", \"2009-10-27T00:00:00\", \"2009-10-28T00:00:00\", \"2009-10-29T00:00:00\", \"2009-10-30T00:00:00\", \"2009-10-31T00:00:00\", \"2009-11-01T00:00:00\", \"2009-11-02T00:00:00\", \"2009-11-03T00:00:00\", \"2009-11-04T00:00:00\", \"2009-11-05T00:00:00\", \"2009-11-06T00:00:00\", \"2009-11-07T00:00:00\", \"2009-11-08T00:00:00\", \"2009-11-09T00:00:00\", \"2009-11-10T00:00:00\", \"2009-11-11T00:00:00\", \"2009-11-12T00:00:00\", \"2009-11-13T00:00:00\", \"2009-11-14T00:00:00\", \"2009-11-15T00:00:00\", \"2009-11-16T00:00:00\", \"2009-11-17T00:00:00\", \"2009-11-18T00:00:00\", \"2009-11-19T00:00:00\", \"2009-11-20T00:00:00\", \"2009-11-21T00:00:00\", \"2009-11-22T00:00:00\", \"2009-11-23T00:00:00\", \"2009-11-24T00:00:00\", \"2009-11-25T00:00:00\", \"2009-11-26T00:00:00\", \"2009-11-27T00:00:00\", \"2009-11-28T00:00:00\", \"2009-11-29T00:00:00\", \"2009-11-30T00:00:00\", \"2009-12-01T00:00:00\", \"2009-12-02T00:00:00\", \"2009-12-03T00:00:00\", \"2009-12-04T00:00:00\", \"2009-12-05T00:00:00\", \"2009-12-06T00:00:00\", \"2009-12-07T00:00:00\", \"2009-12-08T00:00:00\", \"2009-12-09T00:00:00\", \"2009-12-10T00:00:00\", \"2009-12-11T00:00:00\", \"2009-12-12T00:00:00\", \"2009-12-13T00:00:00\", \"2009-12-14T00:00:00\", \"2009-12-15T00:00:00\", \"2009-12-16T00:00:00\", \"2009-12-17T00:00:00\", \"2009-12-18T00:00:00\", \"2009-12-19T00:00:00\", \"2009-12-20T00:00:00\", \"2009-12-21T00:00:00\", \"2009-12-22T00:00:00\", \"2009-12-23T00:00:00\", \"2009-12-24T00:00:00\", \"2009-12-25T00:00:00\", \"2009-12-26T00:00:00\", \"2009-12-27T00:00:00\", \"2009-12-28T00:00:00\", \"2009-12-29T00:00:00\", \"2009-12-30T00:00:00\", \"2009-12-31T00:00:00\", \"2010-01-01T00:00:00\", \"2010-01-02T00:00:00\", \"2010-01-03T00:00:00\", \"2010-01-04T00:00:00\", \"2010-01-05T00:00:00\", \"2010-01-06T00:00:00\", \"2010-01-07T00:00:00\", \"2010-01-08T00:00:00\", \"2010-01-09T00:00:00\", \"2010-01-10T00:00:00\", \"2010-01-11T00:00:00\", \"2010-01-12T00:00:00\", \"2010-01-13T00:00:00\", \"2010-01-14T00:00:00\", \"2010-01-15T00:00:00\", \"2010-01-16T00:00:00\", \"2010-01-17T00:00:00\", \"2010-01-18T00:00:00\", \"2010-01-19T00:00:00\", \"2010-01-20T00:00:00\", \"2010-01-21T00:00:00\", \"2010-01-22T00:00:00\", \"2010-01-23T00:00:00\", \"2010-01-24T00:00:00\", \"2010-01-25T00:00:00\", \"2010-01-26T00:00:00\", \"2010-01-27T00:00:00\", \"2010-01-28T00:00:00\", \"2010-01-29T00:00:00\", \"2010-01-30T00:00:00\", \"2010-01-31T00:00:00\", \"2010-02-01T00:00:00\", \"2010-02-02T00:00:00\", \"2010-02-03T00:00:00\", \"2010-02-04T00:00:00\", \"2010-02-05T00:00:00\", \"2010-02-06T00:00:00\", \"2010-02-07T00:00:00\", \"2010-02-08T00:00:00\", \"2010-02-09T00:00:00\", \"2010-02-10T00:00:00\", \"2010-02-11T00:00:00\", \"2010-02-12T00:00:00\", \"2010-02-13T00:00:00\", \"2010-02-14T00:00:00\", \"2010-02-15T00:00:00\", \"2010-02-16T00:00:00\", \"2010-02-17T00:00:00\", \"2010-02-18T00:00:00\", \"2010-02-19T00:00:00\", \"2010-02-20T00:00:00\", \"2010-02-21T00:00:00\", \"2010-02-22T00:00:00\", \"2010-02-23T00:00:00\", \"2010-02-24T00:00:00\", \"2010-02-25T00:00:00\", \"2010-02-26T00:00:00\", \"2010-02-27T00:00:00\", \"2010-02-28T00:00:00\", \"2010-03-01T00:00:00\", \"2010-03-02T00:00:00\", \"2010-03-03T00:00:00\", \"2010-03-04T00:00:00\", \"2010-03-05T00:00:00\", \"2010-03-06T00:00:00\", \"2010-03-07T00:00:00\", \"2010-03-08T00:00:00\", \"2010-03-09T00:00:00\", \"2010-03-10T00:00:00\", \"2010-03-11T00:00:00\", \"2010-03-12T00:00:00\", \"2010-03-13T00:00:00\", \"2010-03-14T00:00:00\", \"2010-03-15T00:00:00\", \"2010-03-16T00:00:00\", \"2010-03-17T00:00:00\", \"2010-03-18T00:00:00\", \"2010-03-19T00:00:00\", \"2010-03-20T00:00:00\", \"2010-03-21T00:00:00\", \"2010-03-22T00:00:00\", \"2010-03-23T00:00:00\", \"2010-03-24T00:00:00\", \"2010-03-25T00:00:00\", \"2010-03-26T00:00:00\", \"2010-03-27T00:00:00\", \"2010-03-28T00:00:00\", \"2010-03-29T00:00:00\", \"2010-03-30T00:00:00\", \"2010-03-31T00:00:00\", \"2010-04-01T00:00:00\", \"2010-04-02T00:00:00\", \"2010-04-03T00:00:00\", \"2010-04-04T00:00:00\", \"2010-04-05T00:00:00\", \"2010-04-06T00:00:00\", \"2010-04-07T00:00:00\", \"2010-04-08T00:00:00\", \"2010-04-09T00:00:00\", \"2010-04-10T00:00:00\", \"2010-04-11T00:00:00\", \"2010-04-12T00:00:00\", \"2010-04-13T00:00:00\", \"2010-04-14T00:00:00\", \"2010-04-15T00:00:00\", \"2010-04-16T00:00:00\", \"2010-04-17T00:00:00\", \"2010-04-18T00:00:00\", \"2010-04-19T00:00:00\", \"2010-04-20T00:00:00\", \"2010-04-21T00:00:00\", \"2010-04-22T00:00:00\", \"2010-04-23T00:00:00\", \"2010-04-24T00:00:00\", \"2010-04-25T00:00:00\", \"2010-04-26T00:00:00\", \"2010-04-27T00:00:00\", \"2010-04-28T00:00:00\", \"2010-04-29T00:00:00\", \"2010-04-30T00:00:00\", \"2010-05-01T00:00:00\", \"2010-05-02T00:00:00\", \"2010-05-03T00:00:00\", \"2010-05-04T00:00:00\", \"2010-05-05T00:00:00\", \"2010-05-06T00:00:00\", \"2010-05-07T00:00:00\", \"2010-05-08T00:00:00\", \"2010-05-09T00:00:00\", \"2010-05-10T00:00:00\", \"2010-05-11T00:00:00\", \"2010-05-12T00:00:00\", \"2010-05-13T00:00:00\", \"2010-05-14T00:00:00\", \"2010-05-15T00:00:00\", \"2010-05-16T00:00:00\", \"2010-05-17T00:00:00\", \"2010-05-18T00:00:00\", \"2010-05-19T00:00:00\", \"2010-05-20T00:00:00\", \"2010-05-21T00:00:00\", \"2010-05-22T00:00:00\", \"2010-05-23T00:00:00\", \"2010-05-24T00:00:00\", \"2010-05-25T00:00:00\", \"2010-05-26T00:00:00\", \"2010-05-27T00:00:00\", \"2010-05-28T00:00:00\", \"2010-05-29T00:00:00\", \"2010-05-30T00:00:00\", \"2010-05-31T00:00:00\", \"2010-06-01T00:00:00\", \"2010-06-02T00:00:00\", \"2010-06-03T00:00:00\", \"2010-06-04T00:00:00\", \"2010-06-05T00:00:00\", \"2010-06-06T00:00:00\", \"2010-06-07T00:00:00\", \"2010-06-08T00:00:00\", \"2010-06-09T00:00:00\", \"2010-06-10T00:00:00\", \"2010-06-11T00:00:00\", \"2010-06-12T00:00:00\", \"2010-06-13T00:00:00\", \"2010-06-14T00:00:00\", \"2010-06-15T00:00:00\", \"2010-06-16T00:00:00\", \"2010-06-17T00:00:00\", \"2010-06-18T00:00:00\", \"2010-06-19T00:00:00\", \"2010-06-20T00:00:00\", \"2010-06-21T00:00:00\", \"2010-06-22T00:00:00\", \"2010-06-23T00:00:00\", \"2010-06-24T00:00:00\", \"2010-06-25T00:00:00\", \"2010-06-26T00:00:00\", \"2010-06-27T00:00:00\", \"2010-06-28T00:00:00\", \"2010-06-29T00:00:00\", \"2010-06-30T00:00:00\", \"2010-07-01T00:00:00\", \"2010-07-02T00:00:00\", \"2010-07-03T00:00:00\", \"2010-07-04T00:00:00\", \"2010-07-05T00:00:00\", \"2010-07-06T00:00:00\", \"2010-07-07T00:00:00\", \"2010-07-08T00:00:00\", \"2010-07-09T00:00:00\", \"2010-07-10T00:00:00\", \"2010-07-11T00:00:00\", \"2010-07-12T00:00:00\", \"2010-07-13T00:00:00\", \"2010-07-14T00:00:00\", \"2010-07-15T00:00:00\", \"2010-07-16T00:00:00\", \"2010-07-17T00:00:00\", \"2010-07-18T00:00:00\", \"2010-07-19T00:00:00\", \"2010-07-20T00:00:00\", \"2010-07-21T00:00:00\", \"2010-07-22T00:00:00\", \"2010-07-23T00:00:00\", \"2010-07-24T00:00:00\", \"2010-07-25T00:00:00\", \"2010-07-26T00:00:00\", \"2010-07-27T00:00:00\", \"2010-07-28T00:00:00\", \"2010-07-29T00:00:00\", \"2010-07-30T00:00:00\", \"2010-07-31T00:00:00\", \"2010-08-01T00:00:00\", \"2010-08-02T00:00:00\", \"2010-08-03T00:00:00\", \"2010-08-04T00:00:00\", \"2010-08-05T00:00:00\", \"2010-08-06T00:00:00\", \"2010-08-07T00:00:00\", \"2010-08-08T00:00:00\", \"2010-08-09T00:00:00\", \"2010-08-10T00:00:00\", \"2010-08-11T00:00:00\", \"2010-08-12T00:00:00\", \"2010-08-13T00:00:00\", \"2010-08-14T00:00:00\", \"2010-08-15T00:00:00\", \"2010-08-16T00:00:00\", \"2010-08-17T00:00:00\", \"2010-08-18T00:00:00\", \"2010-08-19T00:00:00\", \"2010-08-20T00:00:00\", \"2010-08-21T00:00:00\", \"2010-08-22T00:00:00\", \"2010-08-23T00:00:00\", \"2010-08-24T00:00:00\", \"2010-08-25T00:00:00\", \"2010-08-26T00:00:00\", \"2010-08-27T00:00:00\", \"2010-08-28T00:00:00\", \"2010-08-29T00:00:00\", \"2010-08-30T00:00:00\", \"2010-08-31T00:00:00\", \"2010-09-01T00:00:00\", \"2010-09-02T00:00:00\", \"2010-09-03T00:00:00\", \"2010-09-04T00:00:00\", \"2010-09-05T00:00:00\", \"2010-09-06T00:00:00\", \"2010-09-07T00:00:00\", \"2010-09-08T00:00:00\", \"2010-09-09T00:00:00\", \"2010-09-10T00:00:00\", \"2010-09-11T00:00:00\", \"2010-09-12T00:00:00\", \"2010-09-13T00:00:00\", \"2010-09-14T00:00:00\", \"2010-09-15T00:00:00\", \"2010-09-16T00:00:00\", \"2010-09-17T00:00:00\", \"2010-09-18T00:00:00\", \"2010-09-19T00:00:00\", \"2010-09-20T00:00:00\", \"2010-09-21T00:00:00\", \"2010-09-22T00:00:00\", \"2010-09-23T00:00:00\", \"2010-09-24T00:00:00\", \"2010-09-25T00:00:00\", \"2010-09-26T00:00:00\", \"2010-09-27T00:00:00\", \"2010-09-28T00:00:00\", \"2010-09-29T00:00:00\", \"2010-09-30T00:00:00\", \"2010-10-01T00:00:00\", \"2010-10-02T00:00:00\", \"2010-10-03T00:00:00\", \"2010-10-04T00:00:00\", \"2010-10-05T00:00:00\", \"2010-10-06T00:00:00\", \"2010-10-07T00:00:00\", \"2010-10-08T00:00:00\", \"2010-10-09T00:00:00\", \"2010-10-10T00:00:00\", \"2010-10-11T00:00:00\", \"2010-10-12T00:00:00\", \"2010-10-13T00:00:00\", \"2010-10-14T00:00:00\", \"2010-10-15T00:00:00\", \"2010-10-16T00:00:00\", \"2010-10-17T00:00:00\", \"2010-10-18T00:00:00\", \"2010-10-19T00:00:00\", \"2010-10-20T00:00:00\", \"2010-10-21T00:00:00\", \"2010-10-22T00:00:00\", \"2010-10-23T00:00:00\", \"2010-10-24T00:00:00\", \"2010-10-25T00:00:00\", \"2010-10-26T00:00:00\", \"2010-10-27T00:00:00\", \"2010-10-28T00:00:00\", \"2010-10-29T00:00:00\", \"2010-10-30T00:00:00\", \"2010-10-31T00:00:00\", \"2010-11-01T00:00:00\", \"2010-11-02T00:00:00\", \"2010-11-03T00:00:00\", \"2010-11-04T00:00:00\", \"2010-11-05T00:00:00\", \"2010-11-06T00:00:00\", \"2010-11-07T00:00:00\", \"2010-11-08T00:00:00\", \"2010-11-09T00:00:00\", \"2010-11-10T00:00:00\", \"2010-11-11T00:00:00\", \"2010-11-12T00:00:00\", \"2010-11-13T00:00:00\", \"2010-11-14T00:00:00\", \"2010-11-15T00:00:00\", \"2010-11-16T00:00:00\", \"2010-11-17T00:00:00\", \"2010-11-18T00:00:00\", \"2010-11-19T00:00:00\", \"2010-11-20T00:00:00\", \"2010-11-21T00:00:00\", \"2010-11-22T00:00:00\", \"2010-11-23T00:00:00\", \"2010-11-24T00:00:00\", \"2010-11-25T00:00:00\", \"2010-11-26T00:00:00\", \"2010-11-27T00:00:00\", \"2010-11-28T00:00:00\", \"2010-11-29T00:00:00\", \"2010-11-30T00:00:00\", \"2010-12-01T00:00:00\", \"2010-12-02T00:00:00\", \"2010-12-03T00:00:00\", \"2010-12-04T00:00:00\", \"2010-12-05T00:00:00\", \"2010-12-06T00:00:00\", \"2010-12-07T00:00:00\", \"2010-12-08T00:00:00\", \"2010-12-09T00:00:00\", \"2010-12-10T00:00:00\", \"2010-12-11T00:00:00\", \"2010-12-12T00:00:00\", \"2010-12-13T00:00:00\", \"2010-12-14T00:00:00\", \"2010-12-15T00:00:00\", \"2010-12-16T00:00:00\", \"2010-12-17T00:00:00\", \"2010-12-18T00:00:00\", \"2010-12-19T00:00:00\", \"2010-12-20T00:00:00\", \"2010-12-21T00:00:00\", \"2010-12-22T00:00:00\", \"2010-12-23T00:00:00\", \"2010-12-24T00:00:00\", \"2010-12-25T00:00:00\", \"2010-12-26T00:00:00\", \"2010-12-27T00:00:00\", \"2010-12-28T00:00:00\", \"2010-12-29T00:00:00\", \"2010-12-30T00:00:00\", \"2010-12-31T00:00:00\"], \"y\": [0.0, 700.0, 3750.0, 8350.0, 13100.0, 19189.0, 25300.0, 31800.0, 37400.0, 42700.0, 47425.0, 53550.0, 59550.0, 64250.0, 68850.0, 73000.0, 83500.0, 92100.0, 97750.0, 102750.0, 107750.0, 114400.0, 119250.0, 127050.0, 132750.0, 139000.0, 146150.0, 152100.0, 158400.0, 163350.0, 169300.0, 171650.0, 175900.0, 176710.96, 178011.0, 178250.0, 178175.0, 179175.0, 179875.0, 182425.0, 182250.0, 181750.0, 183900.0, 185300.0, 186250.0, 182700.0, 179000.0, 178950.0, 179450.0, 177700.0, 178450.0, 178300.0, 177200.0, 176650.0, 175100.0, 174150.04, 174500.04, 174250.04, 172550.04, 172450.04, 170650.04, 167300.04, 166950.04, 165400.0, 166100.0, 165750.0, 163150.0, 165050.0, 162850.0, 163750.0, 163550.0, 163450.0, 159650.0, 160700.0, 161200.0, 161500.0, 160800.0, 163050.0, 162200.0, 161950.0, 162550.0, 162200.0, 164350.0, 164950.0, 164750.0, 165050.0, 164750.0, 167250.0, 166150.0, 166350.0, 166700.0, 166300.0, 165750.0, 165250.0, 166250.0, 166050.0, 164000.0, 164300.0, 164350.0, 164150.0, 164000.0, 163450.0, 169200.0, 169150.0, 170250.0, 168650.0, 167450.0, 167850.0, 167750.0, 167500.0, 167100.0, 167750.0, 168950.0, 168950.0, 170600.0, 169250.0, 169900.0, 172050.0, 174050.0, 175200.0, 176000.0, 174800.0, 173350.0, 173200.0, 174000.0, 173700.0, 174850.0, 176150.0, 176500.0, 176600.0, 176200.0, 168900.0, 169050.0, 167550.0, 167100.0, 163250.0, 162700.0, 161900.0, 163000.0, 163400.0, 158150.0, 160300.0, 160100.0, 158250.0, 156750.0, 154750.0, 151250.0, 148000.0, 143400.0, 139500.0, 136550.0, 136500.0, 134950.0, 132550.0, 131400.0, 128700.0, 125750.0, 123650.0, 121700.0, 119500.0, 119350.0, 117850.0, 118300.0, 119300.0, 118800.0, 120850.0, 119350.01000000001, 117248.98999999999, 115898.98999999999, 115748.98999999999, 111848.98999999999, 109098.98999999999, 108703.98999999999, 109698.98, 107898.98, 108548.98, 109348.98, 112298.98, 114848.98, 118248.98, 117598.98, 116998.98, 117398.98, 117298.98, 117348.98, 117448.98, 117948.98, 117448.98, 116148.98, 115748.98, 114148.98, 110248.98, 104048.98, 109548.65, 106948.65, 106448.65, 105599.67, 105099.67, 102449.67, 99749.67, 101274.67, 99544.67, 96749.67, 93849.67, 90699.67, 88449.67, 85499.67, 82449.67, 82449.67, 83449.67, 79250.14, 84899.67, 85099.67, 86349.67, 86399.67, 86349.67, 86249.67, 88499.67, 88399.67, 87599.67, 88349.67, 86049.67, 77299.53, 74249.53, 72349.53, 69549.53, 66449.53, 65799.53, 65899.53, 62650.0, 65699.53, 66299.53, 69449.53, 72599.53, 76249.53, 80099.53, 83649.53, 82449.53, 82199.53, 81349.53, 76199.53, 75199.53, 75149.53, 75199.53, 74399.53, 74649.53, 74099.53, 74449.53, 76899.53, 79649.53, 80998.53, 79049.53, 87399.53, 90199.53, 93199.53, 96349.53, 97449.53, 99949.53, 99249.53, 98101.0, 102701.0, 103651.0, 105301.0, 103651.0, 106201.0, 106901.0, 107501.0, 108051.0, 108301.0, 107751.0, 106501.0, 105251.0, 105251.0, 106051.0, 106951.0, 107801.0, 106401.0, 111201.0, 110551.0, 112001.0, 102750.0, 106550.0, 105450.0, 106050.0, 102950.0, 108250.12, 98449.88, 113249.88, 101549.88, 112049.88, 111699.88, 98599.88, 111049.88, 106799.88, 107349.88, 106699.88, 105399.88, 104549.88, 104249.88, 89599.88, 106749.88, 107299.88, 107599.88, 107799.88, 108149.88, 108549.88, 92049.88, 110999.88, 110999.88, 112549.88, 114149.88, 116749.88, 117999.88, 117449.88, 89749.76000000001, 111250.0, 111500.0, 111150.0, 114000.0, 115600.0, 117300.0, 118800.0, 120150.0, 120400.0, 121300.0, 122550.0, 124400.0, 136649.8, 138599.8, 140199.8, 138649.8, 139949.8, 142099.8, 143099.8, 144699.8, 148049.8, 150049.8, 147399.8, 154799.8, 140507.45, 152686.45, 158545.45, 162495.45, 168095.45, 153745.45, 159945.45, 165245.45, 169695.45, 174295.45, 178295.45, 181945.45, 186045.45, 191495.45, 197295.45, 201695.45, 207295.45, 200995.65, 203795.65, 204995.65, 208345.65, 191250.0, 215250.0, 218600.0, 220700.0, 222447.0, 223897.0, 223847.0, 226597.0, 224997.0, 236952.0, 231797.0, 231001.26, 228301.0, 222052.0, 217352.0, 214402.0, 211352.0, 210302.0, 209452.0, 206852.0, 205751.0, 199651.0, 202127.0, 202901.0, 200451.0, 201001.0, 201251.0, 205801.0, 209051.0, 210751.0, 190751.0, 193351.0, 188001.0, 202483.2, 206783.2, 208533.2, 207533.2, 213833.64, 230833.38, 232788.38, 232784.38, 236999.47, 245678.49, 252378.47, 231511.84, 256023.77000000002, 261324.77, 263874.77, 263857.94, 259224.77, 278274.77, 275224.77, 274924.77, 271774.77, 283623.77, 280174.77, 284475.77, 286625.77, 282524.77, 287624.77, 305774.77, 279927.36, 287629.26, 293984.08, 298679.25, 296429.25, 296128.81000000006, 270078.81000000006, 265728.81, 265978.81, 265729.81000000006, 263128.81, 260729.83000000002, 257866.46000000002, 231919.46000000002, 234360.46000000002, 240814.46, 240865.46000000002, 236352.3, 235985.81, 220135.81, 231335.81, 230185.81, 223989.11, 224938.11, 225387.11, 226812.91, 228787.11, 223937.11, 224463.63, 224837.11, 201272.03, 197731.95, 193374.86, 190636.16, 185880.74, 195888.39, 208396.41, 208483.66999999998, 222775.52000000002, 223638.63, 214867.61, 270661.45, 279645.89999999997, 275652.95, 270517.66000000003, 284445.85000000003, 290659.05, 283184.37, 301680.09, 280704.08, 268461.32, 278569.15, 282211.22000000003, 282244.48, 288818.49, 276044.88, 305145.6, 309597.19999999995, 306499.20000000007, 298589.92, 301332.29000000004, 311766.66000000003, 304440.66, 318296.92, 330765.4, 330596.48, 334690.16000000003, 319493.08999999997, 324243.21, 318921.41000000003, 289496.27, 288222.26, 280595.67000000004, 281514.9, 266589.3, 272032.92000000004, 241185.94, 250687.02000000002, 263219.38, 283416.74, 285536.74, 284358.73, 289353.68000000005, 296068.16, 302816.56, 309628.31000000006, 310776.31, 314927.06, 315828.9, 314352.76, 306229.57, 335279.92000000004, 325476.61, 320642.86, 341192.86000000004, 337441.86, 359435.99, 373024.12, 372366.04000000004, 362420.68, 366367.05, 374567.42000000004, 365538.34, 386219.33, 388999.73, 380730.7, 352930.72, 355840.11, 340712.19, 332234.63, 343330.26, 358332.76, 328376.75, 356254.45999999996, 349094.45999999996, 346011.42, 348135.19999999995, 377722.15, 361458.62, 382617.20999999996, 393677.36, 383912.36, 409334.37, 405787.88, 424392.48, 423087.26, 409217.97, 406587.13, 341394.55, 439365.43, 442032.04, 452280.89999999997, 503213.86, 526822.78, 535012.7000000001, 524912.22, 530667.2, 534413.33, 529910.8099999999, 547106.6000000001, 554608.8200000001, 551423.4, 537301.5800000001, 593976.7100000001, 548459.74, 603157.29, 603209.64, 608911.74, 558220.7900000002, 564031.54, 602711.81, 618449.51, 598603.22, 611869.91, 615258.9199999999, 625281.2, 589834.03, 611592.94, 516510.98, 523470.17, 483156.09, 433200.83, 419924.81, 392164.79, 400198.31999999995, 397736.97000000003, 407803.49, 404056.13, 390640.94, 410059.58, 406470.82000000007, 395907.02, 396790.14, 393868.72000000003, 385018.53, 398128.52, 401583.5299997, 398527.56999919994, 392529.1000006, 354710.7600006, 357312.78999920003, 359917.0599993, 358246.28999930003, 360331.78999930003, 365053.7600009, 422952.6099993, 412375.3400009, 412164.120001, 415645.7100012, 419647.9299992, 403595.04999890004, 355914.4599991, 408103.5999992, 405043.13960272004, 415104.12960272, 428614.80960271996, 455688.59960272, 446704.16999920004, 441457.90960272, 461064.90960262006, 447718.63960272004, 408840.82960272, 477900.05960271996, 476049.27960272005, 474081.17960271996, 482011.13960272004, 496269.10960262, 553970.3395303399, 542854.98953024, 555061.54672488, 556855.13176181, 687647.76176369, 656116.02952895, 642567.62952984, 684447.1795288501, 684776.56952994, 678480.61952994, 663233.54952994, 724835.45953194, 756141.79953085, 757368.69953174, 778226.71953174, 738888.1095317401, 760743.64953174, 772872.1195306501, 846495.02953174, 822731.0695317399, 818679.4899282199, 823323.01992822, 777587.8521620701, 812991.98216207, 806832.69216207, 787382.8421620701, 809548.8021620701, 804249.96216207, 782134.2821620699, 768141.83104109, 830374.52104109, 851213.8910410899, 832839.35000208, 760026.19000109, 769675.36000109, 776364.90000109, 706814.78000109, 789266.7010889701, 783075.26108897, 843687.40108897, 620998.6910889699, 875965.38108897, 874721.0510889699, 866056.9510889701, 873724.13108897, 860919.31108897, 865018.30108897, 854909.56108788, 895898.2010878801, 888428.43108788, 898545.3400000001, 904807.72108788, 871692.73108788, 859615.4910878801, 869214.14108788, 842997.51108788, 846323.50108788, 823682.02108788, 757417.02108788, 777536.94108788, 771716.20108788, 763855.6810878799, 749928.28108788, 760226.3510878799, 765789.25108788, 784703.32108788, 745228.66108788, 775675.5910878801, 737061.40495491, 778892.9267438601, 675988.50580222, 678721.7438163601, 697354.9410878799, 677222.19406202, 712938.1881979101, 678220.4183809899, 715889.39915001, 681732.7669414099, 686277.18710551, 683784.16523081, 675897.96284434, 651564.66265152, 690376.53387365, 686515.36312729, 712281.80111309, 717709.52958709, 713307.99071729, 686022.54076742, 639344.59916008, 621139.8515566101, 649963.36424029, 594611.77561636, 631745.4200667499, 650457.37910166]}, {\"name\": \"1m ~ 1q\", \"type\": \"scatter\", \"x\": [\"2009-01-09T00:00:00\", \"2009-01-10T00:00:00\", \"2009-01-11T00:00:00\", \"2009-01-12T00:00:00\", \"2009-01-13T00:00:00\", \"2009-01-14T00:00:00\", \"2009-01-15T00:00:00\", \"2009-01-16T00:00:00\", \"2009-01-17T00:00:00\", \"2009-01-18T00:00:00\", \"2009-01-19T00:00:00\", \"2009-01-20T00:00:00\", \"2009-01-21T00:00:00\", \"2009-01-22T00:00:00\", \"2009-01-23T00:00:00\", \"2009-01-24T00:00:00\", \"2009-01-25T00:00:00\", \"2009-01-26T00:00:00\", \"2009-01-27T00:00:00\", \"2009-01-28T00:00:00\", \"2009-01-29T00:00:00\", \"2009-01-30T00:00:00\", \"2009-01-31T00:00:00\", \"2009-02-01T00:00:00\", \"2009-02-02T00:00:00\", \"2009-02-03T00:00:00\", \"2009-02-04T00:00:00\", \"2009-02-05T00:00:00\", \"2009-02-06T00:00:00\", \"2009-02-07T00:00:00\", \"2009-02-08T00:00:00\", \"2009-02-09T00:00:00\", \"2009-02-10T00:00:00\", \"2009-02-11T00:00:00\", \"2009-02-12T00:00:00\", \"2009-02-13T00:00:00\", \"2009-02-14T00:00:00\", \"2009-02-15T00:00:00\", \"2009-02-16T00:00:00\", \"2009-02-17T00:00:00\", \"2009-02-18T00:00:00\", \"2009-02-19T00:00:00\", \"2009-02-20T00:00:00\", \"2009-02-21T00:00:00\", \"2009-02-22T00:00:00\", \"2009-02-23T00:00:00\", \"2009-02-24T00:00:00\", \"2009-02-25T00:00:00\", \"2009-02-26T00:00:00\", \"2009-02-27T00:00:00\", \"2009-02-28T00:00:00\", \"2009-03-01T00:00:00\", \"2009-03-02T00:00:00\", \"2009-03-03T00:00:00\", \"2009-03-04T00:00:00\", \"2009-03-05T00:00:00\", \"2009-03-06T00:00:00\", \"2009-03-07T00:00:00\", \"2009-03-08T00:00:00\", \"2009-03-09T00:00:00\", \"2009-03-10T00:00:00\", \"2009-03-11T00:00:00\", \"2009-03-12T00:00:00\", \"2009-03-13T00:00:00\", \"2009-03-14T00:00:00\", \"2009-03-15T00:00:00\", \"2009-03-16T00:00:00\", \"2009-03-17T00:00:00\", \"2009-03-18T00:00:00\", \"2009-03-19T00:00:00\", \"2009-03-20T00:00:00\", \"2009-03-21T00:00:00\", \"2009-03-22T00:00:00\", \"2009-03-23T00:00:00\", \"2009-03-24T00:00:00\", \"2009-03-25T00:00:00\", \"2009-03-26T00:00:00\", \"2009-03-27T00:00:00\", \"2009-03-28T00:00:00\", \"2009-03-29T00:00:00\", \"2009-03-30T00:00:00\", \"2009-03-31T00:00:00\", \"2009-04-01T00:00:00\", \"2009-04-02T00:00:00\", \"2009-04-03T00:00:00\", \"2009-04-04T00:00:00\", \"2009-04-05T00:00:00\", \"2009-04-06T00:00:00\", \"2009-04-07T00:00:00\", \"2009-04-08T00:00:00\", \"2009-04-09T00:00:00\", \"2009-04-10T00:00:00\", \"2009-04-11T00:00:00\", \"2009-04-12T00:00:00\", \"2009-04-13T00:00:00\", \"2009-04-14T00:00:00\", \"2009-04-15T00:00:00\", \"2009-04-16T00:00:00\", \"2009-04-17T00:00:00\", \"2009-04-18T00:00:00\", \"2009-04-19T00:00:00\", \"2009-04-20T00:00:00\", \"2009-04-21T00:00:00\", \"2009-04-22T00:00:00\", \"2009-04-23T00:00:00\", \"2009-04-24T00:00:00\", \"2009-04-25T00:00:00\", \"2009-04-26T00:00:00\", \"2009-04-27T00:00:00\", \"2009-04-28T00:00:00\", \"2009-04-29T00:00:00\", \"2009-04-30T00:00:00\", \"2009-05-01T00:00:00\", \"2009-05-02T00:00:00\", \"2009-05-03T00:00:00\", \"2009-05-04T00:00:00\", \"2009-05-05T00:00:00\", \"2009-05-06T00:00:00\", \"2009-05-07T00:00:00\", \"2009-05-08T00:00:00\", \"2009-05-09T00:00:00\", \"2009-05-10T00:00:00\", \"2009-05-11T00:00:00\", \"2009-05-12T00:00:00\", \"2009-05-13T00:00:00\", \"2009-05-14T00:00:00\", \"2009-05-15T00:00:00\", \"2009-05-16T00:00:00\", \"2009-05-17T00:00:00\", \"2009-05-18T00:00:00\", \"2009-05-19T00:00:00\", \"2009-05-20T00:00:00\", \"2009-05-21T00:00:00\", \"2009-05-22T00:00:00\", \"2009-05-23T00:00:00\", \"2009-05-24T00:00:00\", \"2009-05-25T00:00:00\", \"2009-05-26T00:00:00\", \"2009-05-27T00:00:00\", \"2009-05-28T00:00:00\", \"2009-05-29T00:00:00\", \"2009-05-30T00:00:00\", \"2009-05-31T00:00:00\", \"2009-06-01T00:00:00\", \"2009-06-02T00:00:00\", \"2009-06-03T00:00:00\", \"2009-06-04T00:00:00\", \"2009-06-05T00:00:00\", \"2009-06-06T00:00:00\", \"2009-06-07T00:00:00\", \"2009-06-08T00:00:00\", \"2009-06-09T00:00:00\", \"2009-06-10T00:00:00\", \"2009-06-11T00:00:00\", \"2009-06-12T00:00:00\", \"2009-06-13T00:00:00\", \"2009-06-14T00:00:00\", \"2009-06-15T00:00:00\", \"2009-06-16T00:00:00\", \"2009-06-17T00:00:00\", \"2009-06-18T00:00:00\", \"2009-06-19T00:00:00\", \"2009-06-20T00:00:00\", \"2009-06-21T00:00:00\", \"2009-06-22T00:00:00\", \"2009-06-23T00:00:00\", \"2009-06-24T00:00:00\", \"2009-06-25T00:00:00\", \"2009-06-26T00:00:00\", \"2009-06-27T00:00:00\", \"2009-06-28T00:00:00\", \"2009-06-29T00:00:00\", \"2009-06-30T00:00:00\", \"2009-07-01T00:00:00\", \"2009-07-02T00:00:00\", \"2009-07-03T00:00:00\", \"2009-07-04T00:00:00\", \"2009-07-05T00:00:00\", \"2009-07-06T00:00:00\", \"2009-07-07T00:00:00\", \"2009-07-08T00:00:00\", \"2009-07-09T00:00:00\", \"2009-07-10T00:00:00\", \"2009-07-11T00:00:00\", \"2009-07-12T00:00:00\", \"2009-07-13T00:00:00\", \"2009-07-14T00:00:00\", \"2009-07-15T00:00:00\", \"2009-07-16T00:00:00\", \"2009-07-17T00:00:00\", \"2009-07-18T00:00:00\", \"2009-07-19T00:00:00\", \"2009-07-20T00:00:00\", \"2009-07-21T00:00:00\", \"2009-07-22T00:00:00\", \"2009-07-23T00:00:00\", \"2009-07-24T00:00:00\", \"2009-07-25T00:00:00\", \"2009-07-26T00:00:00\", \"2009-07-27T00:00:00\", \"2009-07-28T00:00:00\", \"2009-07-29T00:00:00\", \"2009-07-30T00:00:00\", \"2009-07-31T00:00:00\", \"2009-08-01T00:00:00\", \"2009-08-02T00:00:00\", \"2009-08-03T00:00:00\", \"2009-08-04T00:00:00\", \"2009-08-05T00:00:00\", \"2009-08-06T00:00:00\", \"2009-08-07T00:00:00\", \"2009-08-08T00:00:00\", \"2009-08-09T00:00:00\", \"2009-08-10T00:00:00\", \"2009-08-11T00:00:00\", \"2009-08-12T00:00:00\", \"2009-08-13T00:00:00\", \"2009-08-14T00:00:00\", \"2009-08-15T00:00:00\", \"2009-08-16T00:00:00\", \"2009-08-17T00:00:00\", \"2009-08-18T00:00:00\", \"2009-08-19T00:00:00\", \"2009-08-20T00:00:00\", \"2009-08-21T00:00:00\", \"2009-08-22T00:00:00\", \"2009-08-23T00:00:00\", \"2009-08-24T00:00:00\", \"2009-08-25T00:00:00\", \"2009-08-26T00:00:00\", \"2009-08-27T00:00:00\", \"2009-08-28T00:00:00\", \"2009-08-29T00:00:00\", \"2009-08-30T00:00:00\", \"2009-08-31T00:00:00\", \"2009-09-01T00:00:00\", \"2009-09-02T00:00:00\", \"2009-09-03T00:00:00\", \"2009-09-04T00:00:00\", \"2009-09-05T00:00:00\", \"2009-09-06T00:00:00\", \"2009-09-07T00:00:00\", \"2009-09-08T00:00:00\", \"2009-09-09T00:00:00\", \"2009-09-10T00:00:00\", \"2009-09-11T00:00:00\", \"2009-09-12T00:00:00\", \"2009-09-13T00:00:00\", \"2009-09-14T00:00:00\", \"2009-09-15T00:00:00\", \"2009-09-16T00:00:00\", \"2009-09-17T00:00:00\", \"2009-09-18T00:00:00\", \"2009-09-19T00:00:00\", \"2009-09-20T00:00:00\", \"2009-09-21T00:00:00\", \"2009-09-22T00:00:00\", \"2009-09-23T00:00:00\", \"2009-09-24T00:00:00\", \"2009-09-25T00:00:00\", \"2009-09-26T00:00:00\", \"2009-09-27T00:00:00\", \"2009-09-28T00:00:00\", \"2009-09-29T00:00:00\", \"2009-09-30T00:00:00\", \"2009-10-01T00:00:00\", \"2009-10-02T00:00:00\", \"2009-10-03T00:00:00\", \"2009-10-04T00:00:00\", \"2009-10-05T00:00:00\", \"2009-10-06T00:00:00\", \"2009-10-07T00:00:00\", \"2009-10-08T00:00:00\", \"2009-10-09T00:00:00\", \"2009-10-10T00:00:00\", \"2009-10-11T00:00:00\", \"2009-10-12T00:00:00\", \"2009-10-13T00:00:00\", \"2009-10-14T00:00:00\", \"2009-10-15T00:00:00\", \"2009-10-16T00:00:00\", \"2009-10-17T00:00:00\", \"2009-10-18T00:00:00\", \"2009-10-19T00:00:00\", \"2009-10-20T00:00:00\", \"2009-10-21T00:00:00\", \"2009-10-22T00:00:00\", \"2009-10-23T00:00:00\", \"2009-10-24T00:00:00\", \"2009-10-25T00:00:00\", \"2009-10-26T00:00:00\", \"2009-10-27T00:00:00\", \"2009-10-28T00:00:00\", \"2009-10-29T00:00:00\", \"2009-10-30T00:00:00\", \"2009-10-31T00:00:00\", \"2009-11-01T00:00:00\", \"2009-11-02T00:00:00\", \"2009-11-03T00:00:00\", \"2009-11-04T00:00:00\", \"2009-11-05T00:00:00\", \"2009-11-06T00:00:00\", \"2009-11-07T00:00:00\", \"2009-11-08T00:00:00\", \"2009-11-09T00:00:00\", \"2009-11-10T00:00:00\", \"2009-11-11T00:00:00\", \"2009-11-12T00:00:00\", \"2009-11-13T00:00:00\", \"2009-11-14T00:00:00\", \"2009-11-15T00:00:00\", \"2009-11-16T00:00:00\", \"2009-11-17T00:00:00\", \"2009-11-18T00:00:00\", \"2009-11-19T00:00:00\", \"2009-11-20T00:00:00\", \"2009-11-21T00:00:00\", \"2009-11-22T00:00:00\", \"2009-11-23T00:00:00\", \"2009-11-24T00:00:00\", \"2009-11-25T00:00:00\", \"2009-11-26T00:00:00\", \"2009-11-27T00:00:00\", \"2009-11-28T00:00:00\", \"2009-11-29T00:00:00\", \"2009-11-30T00:00:00\", \"2009-12-01T00:00:00\", \"2009-12-02T00:00:00\", \"2009-12-03T00:00:00\", \"2009-12-04T00:00:00\", \"2009-12-05T00:00:00\", \"2009-12-06T00:00:00\", \"2009-12-07T00:00:00\", \"2009-12-08T00:00:00\", \"2009-12-09T00:00:00\", \"2009-12-10T00:00:00\", \"2009-12-11T00:00:00\", \"2009-12-12T00:00:00\", \"2009-12-13T00:00:00\", \"2009-12-14T00:00:00\", \"2009-12-15T00:00:00\", \"2009-12-16T00:00:00\", \"2009-12-17T00:00:00\", \"2009-12-18T00:00:00\", \"2009-12-19T00:00:00\", \"2009-12-20T00:00:00\", \"2009-12-21T00:00:00\", \"2009-12-22T00:00:00\", \"2009-12-23T00:00:00\", \"2009-12-24T00:00:00\", \"2009-12-25T00:00:00\", \"2009-12-26T00:00:00\", \"2009-12-27T00:00:00\", \"2009-12-28T00:00:00\", \"2009-12-29T00:00:00\", \"2009-12-30T00:00:00\", \"2009-12-31T00:00:00\", \"2010-01-01T00:00:00\", \"2010-01-02T00:00:00\", \"2010-01-03T00:00:00\", \"2010-01-04T00:00:00\", \"2010-01-05T00:00:00\", \"2010-01-06T00:00:00\", \"2010-01-07T00:00:00\", \"2010-01-08T00:00:00\", \"2010-01-09T00:00:00\", \"2010-01-10T00:00:00\", \"2010-01-11T00:00:00\", \"2010-01-12T00:00:00\", \"2010-01-13T00:00:00\", \"2010-01-14T00:00:00\", \"2010-01-15T00:00:00\", \"2010-01-16T00:00:00\", \"2010-01-17T00:00:00\", \"2010-01-18T00:00:00\", \"2010-01-19T00:00:00\", \"2010-01-20T00:00:00\", \"2010-01-21T00:00:00\", \"2010-01-22T00:00:00\", \"2010-01-23T00:00:00\", \"2010-01-24T00:00:00\", \"2010-01-25T00:00:00\", \"2010-01-26T00:00:00\", \"2010-01-27T00:00:00\", \"2010-01-28T00:00:00\", \"2010-01-29T00:00:00\", \"2010-01-30T00:00:00\", \"2010-01-31T00:00:00\", \"2010-02-01T00:00:00\", \"2010-02-02T00:00:00\", \"2010-02-03T00:00:00\", \"2010-02-04T00:00:00\", \"2010-02-05T00:00:00\", \"2010-02-06T00:00:00\", \"2010-02-07T00:00:00\", \"2010-02-08T00:00:00\", \"2010-02-09T00:00:00\", \"2010-02-10T00:00:00\", \"2010-02-11T00:00:00\", \"2010-02-12T00:00:00\", \"2010-02-13T00:00:00\", \"2010-02-14T00:00:00\", \"2010-02-15T00:00:00\", \"2010-02-16T00:00:00\", \"2010-02-17T00:00:00\", \"2010-02-18T00:00:00\", \"2010-02-19T00:00:00\", \"2010-02-20T00:00:00\", \"2010-02-21T00:00:00\", \"2010-02-22T00:00:00\", \"2010-02-23T00:00:00\", \"2010-02-24T00:00:00\", \"2010-02-25T00:00:00\", \"2010-02-26T00:00:00\", \"2010-02-27T00:00:00\", \"2010-02-28T00:00:00\", \"2010-03-01T00:00:00\", \"2010-03-02T00:00:00\", \"2010-03-03T00:00:00\", \"2010-03-04T00:00:00\", \"2010-03-05T00:00:00\", \"2010-03-06T00:00:00\", \"2010-03-07T00:00:00\", \"2010-03-08T00:00:00\", \"2010-03-09T00:00:00\", \"2010-03-10T00:00:00\", \"2010-03-11T00:00:00\", \"2010-03-12T00:00:00\", \"2010-03-13T00:00:00\", \"2010-03-14T00:00:00\", \"2010-03-15T00:00:00\", \"2010-03-16T00:00:00\", \"2010-03-17T00:00:00\", \"2010-03-18T00:00:00\", \"2010-03-19T00:00:00\", \"2010-03-20T00:00:00\", \"2010-03-21T00:00:00\", \"2010-03-22T00:00:00\", \"2010-03-23T00:00:00\", \"2010-03-24T00:00:00\", \"2010-03-25T00:00:00\", \"2010-03-26T00:00:00\", \"2010-03-27T00:00:00\", \"2010-03-28T00:00:00\", \"2010-03-29T00:00:00\", \"2010-03-30T00:00:00\", \"2010-03-31T00:00:00\", \"2010-04-01T00:00:00\", \"2010-04-02T00:00:00\", \"2010-04-03T00:00:00\", \"2010-04-04T00:00:00\", \"2010-04-05T00:00:00\", \"2010-04-06T00:00:00\", \"2010-04-07T00:00:00\", \"2010-04-08T00:00:00\", \"2010-04-09T00:00:00\", \"2010-04-10T00:00:00\", \"2010-04-11T00:00:00\", \"2010-04-12T00:00:00\", \"2010-04-13T00:00:00\", \"2010-04-14T00:00:00\", \"2010-04-15T00:00:00\", \"2010-04-16T00:00:00\", \"2010-04-17T00:00:00\", \"2010-04-18T00:00:00\", \"2010-04-19T00:00:00\", \"2010-04-20T00:00:00\", \"2010-04-21T00:00:00\", \"2010-04-22T00:00:00\", \"2010-04-23T00:00:00\", \"2010-04-24T00:00:00\", \"2010-04-25T00:00:00\", \"2010-04-26T00:00:00\", \"2010-04-27T00:00:00\", \"2010-04-28T00:00:00\", \"2010-04-29T00:00:00\", \"2010-04-30T00:00:00\", \"2010-05-01T00:00:00\", \"2010-05-02T00:00:00\", \"2010-05-03T00:00:00\", \"2010-05-04T00:00:00\", \"2010-05-05T00:00:00\", \"2010-05-06T00:00:00\", \"2010-05-07T00:00:00\", \"2010-05-08T00:00:00\", \"2010-05-09T00:00:00\", \"2010-05-10T00:00:00\", \"2010-05-11T00:00:00\", \"2010-05-12T00:00:00\", \"2010-05-13T00:00:00\", \"2010-05-14T00:00:00\", \"2010-05-15T00:00:00\", \"2010-05-16T00:00:00\", \"2010-05-17T00:00:00\", \"2010-05-18T00:00:00\", \"2010-05-19T00:00:00\", \"2010-05-20T00:00:00\", \"2010-05-21T00:00:00\", \"2010-05-22T00:00:00\", \"2010-05-23T00:00:00\", \"2010-05-24T00:00:00\", \"2010-05-25T00:00:00\", \"2010-05-26T00:00:00\", \"2010-05-27T00:00:00\", \"2010-05-28T00:00:00\", \"2010-05-29T00:00:00\", \"2010-05-30T00:00:00\", \"2010-05-31T00:00:00\", \"2010-06-01T00:00:00\", \"2010-06-02T00:00:00\", \"2010-06-03T00:00:00\", \"2010-06-04T00:00:00\", \"2010-06-05T00:00:00\", \"2010-06-06T00:00:00\", \"2010-06-07T00:00:00\", \"2010-06-08T00:00:00\", \"2010-06-09T00:00:00\", \"2010-06-10T00:00:00\", \"2010-06-11T00:00:00\", \"2010-06-12T00:00:00\", \"2010-06-13T00:00:00\", \"2010-06-14T00:00:00\", \"2010-06-15T00:00:00\", \"2010-06-16T00:00:00\", \"2010-06-17T00:00:00\", \"2010-06-18T00:00:00\", \"2010-06-19T00:00:00\", \"2010-06-20T00:00:00\", \"2010-06-21T00:00:00\", \"2010-06-22T00:00:00\", \"2010-06-23T00:00:00\", \"2010-06-24T00:00:00\", \"2010-06-25T00:00:00\", \"2010-06-26T00:00:00\", \"2010-06-27T00:00:00\", \"2010-06-28T00:00:00\", \"2010-06-29T00:00:00\", \"2010-06-30T00:00:00\", \"2010-07-01T00:00:00\", \"2010-07-02T00:00:00\", \"2010-07-03T00:00:00\", \"2010-07-04T00:00:00\", \"2010-07-05T00:00:00\", \"2010-07-06T00:00:00\", \"2010-07-07T00:00:00\", \"2010-07-08T00:00:00\", \"2010-07-09T00:00:00\", \"2010-07-10T00:00:00\", \"2010-07-11T00:00:00\", \"2010-07-12T00:00:00\", \"2010-07-13T00:00:00\", \"2010-07-14T00:00:00\", \"2010-07-15T00:00:00\", \"2010-07-16T00:00:00\", \"2010-07-17T00:00:00\", \"2010-07-18T00:00:00\", \"2010-07-19T00:00:00\", \"2010-07-20T00:00:00\", \"2010-07-21T00:00:00\", \"2010-07-22T00:00:00\", \"2010-07-23T00:00:00\", \"2010-07-24T00:00:00\", \"2010-07-25T00:00:00\", \"2010-07-26T00:00:00\", \"2010-07-27T00:00:00\", \"2010-07-28T00:00:00\", \"2010-07-29T00:00:00\", \"2010-07-30T00:00:00\", \"2010-07-31T00:00:00\", \"2010-08-01T00:00:00\", \"2010-08-02T00:00:00\", \"2010-08-03T00:00:00\", \"2010-08-04T00:00:00\", \"2010-08-05T00:00:00\", \"2010-08-06T00:00:00\", \"2010-08-07T00:00:00\", \"2010-08-08T00:00:00\", \"2010-08-09T00:00:00\", \"2010-08-10T00:00:00\", \"2010-08-11T00:00:00\", \"2010-08-12T00:00:00\", \"2010-08-13T00:00:00\", \"2010-08-14T00:00:00\", \"2010-08-15T00:00:00\", \"2010-08-16T00:00:00\", \"2010-08-17T00:00:00\", \"2010-08-18T00:00:00\", \"2010-08-19T00:00:00\", \"2010-08-20T00:00:00\", \"2010-08-21T00:00:00\", \"2010-08-22T00:00:00\", \"2010-08-23T00:00:00\", \"2010-08-24T00:00:00\", \"2010-08-25T00:00:00\", \"2010-08-26T00:00:00\", \"2010-08-27T00:00:00\", \"2010-08-28T00:00:00\", \"2010-08-29T00:00:00\", \"2010-08-30T00:00:00\", \"2010-08-31T00:00:00\", \"2010-09-01T00:00:00\", \"2010-09-02T00:00:00\", \"2010-09-03T00:00:00\", \"2010-09-04T00:00:00\", \"2010-09-05T00:00:00\", \"2010-09-06T00:00:00\", \"2010-09-07T00:00:00\", \"2010-09-08T00:00:00\", \"2010-09-09T00:00:00\", \"2010-09-10T00:00:00\", \"2010-09-11T00:00:00\", \"2010-09-12T00:00:00\", \"2010-09-13T00:00:00\", \"2010-09-14T00:00:00\", \"2010-09-15T00:00:00\", \"2010-09-16T00:00:00\", \"2010-09-17T00:00:00\", \"2010-09-18T00:00:00\", \"2010-09-19T00:00:00\", \"2010-09-20T00:00:00\", \"2010-09-21T00:00:00\", \"2010-09-22T00:00:00\", \"2010-09-23T00:00:00\", \"2010-09-24T00:00:00\", \"2010-09-25T00:00:00\", \"2010-09-26T00:00:00\", \"2010-09-27T00:00:00\", \"2010-09-28T00:00:00\", \"2010-09-29T00:00:00\", \"2010-09-30T00:00:00\", \"2010-10-01T00:00:00\", \"2010-10-02T00:00:00\", \"2010-10-03T00:00:00\", \"2010-10-04T00:00:00\", \"2010-10-05T00:00:00\", \"2010-10-06T00:00:00\", \"2010-10-07T00:00:00\", \"2010-10-08T00:00:00\", \"2010-10-09T00:00:00\", \"2010-10-10T00:00:00\", \"2010-10-11T00:00:00\", \"2010-10-12T00:00:00\", \"2010-10-13T00:00:00\", \"2010-10-14T00:00:00\", \"2010-10-15T00:00:00\", \"2010-10-16T00:00:00\", \"2010-10-17T00:00:00\", \"2010-10-18T00:00:00\", \"2010-10-19T00:00:00\", \"2010-10-20T00:00:00\", \"2010-10-21T00:00:00\", \"2010-10-22T00:00:00\", \"2010-10-23T00:00:00\", \"2010-10-24T00:00:00\", \"2010-10-25T00:00:00\", \"2010-10-26T00:00:00\", \"2010-10-27T00:00:00\", \"2010-10-28T00:00:00\", \"2010-10-29T00:00:00\", \"2010-10-30T00:00:00\", \"2010-10-31T00:00:00\", \"2010-11-01T00:00:00\", \"2010-11-02T00:00:00\", \"2010-11-03T00:00:00\", \"2010-11-04T00:00:00\", \"2010-11-05T00:00:00\", \"2010-11-06T00:00:00\", \"2010-11-07T00:00:00\", \"2010-11-08T00:00:00\", \"2010-11-09T00:00:00\", \"2010-11-10T00:00:00\", \"2010-11-11T00:00:00\", \"2010-11-12T00:00:00\", \"2010-11-13T00:00:00\", \"2010-11-14T00:00:00\", \"2010-11-15T00:00:00\", \"2010-11-16T00:00:00\", \"2010-11-17T00:00:00\", \"2010-11-18T00:00:00\", \"2010-11-19T00:00:00\", \"2010-11-20T00:00:00\", \"2010-11-21T00:00:00\", \"2010-11-22T00:00:00\", \"2010-11-23T00:00:00\", \"2010-11-24T00:00:00\", \"2010-11-25T00:00:00\", \"2010-11-26T00:00:00\", \"2010-11-27T00:00:00\", \"2010-11-28T00:00:00\", \"2010-11-29T00:00:00\", \"2010-11-30T00:00:00\", \"2010-12-01T00:00:00\", \"2010-12-02T00:00:00\", \"2010-12-03T00:00:00\", \"2010-12-04T00:00:00\", \"2010-12-05T00:00:00\", \"2010-12-06T00:00:00\", \"2010-12-07T00:00:00\", \"2010-12-08T00:00:00\", \"2010-12-09T00:00:00\", \"2010-12-10T00:00:00\", \"2010-12-11T00:00:00\", \"2010-12-12T00:00:00\", \"2010-12-13T00:00:00\", \"2010-12-14T00:00:00\", \"2010-12-15T00:00:00\", \"2010-12-16T00:00:00\", \"2010-12-17T00:00:00\", \"2010-12-18T00:00:00\", \"2010-12-19T00:00:00\", \"2010-12-20T00:00:00\", \"2010-12-21T00:00:00\", \"2010-12-22T00:00:00\", \"2010-12-23T00:00:00\", \"2010-12-24T00:00:00\", \"2010-12-25T00:00:00\", \"2010-12-26T00:00:00\", \"2010-12-27T00:00:00\", \"2010-12-28T00:00:00\", \"2010-12-29T00:00:00\", \"2010-12-30T00:00:00\", \"2010-12-31T00:00:00\"], \"y\": [0.0, 0.0, 0.0, 0.0, 0.0, 0.0, 0.0, 0.0, 0.0, 0.0, 0.0, 0.0, 0.0, 0.0, 0.0, 0.0, 0.0, 0.0, 0.0, 0.0, 0.0, 0.0, 0.0, 0.0, 0.0, 0.0, 0.0, 0.0, 0.0, 0.0, 650.0, 3700.0, 8350.0, 13089.0, 18889.0, 24600.0, 30875.0, 36125.0, 40875.0, 45925.0, 51950.0, 57550.0, 62400.0, 67100.0, 71450.0, 81450.0, 90550.0, 95900.0, 100650.0, 105950.0, 112400.0, 117850.0, 124200.0, 129750.0, 135700.0, 142699.96, 148349.96, 154449.96, 160399.96, 167449.96, 174649.96, 183349.96, 189249.96000000002, 196100.0, 201800.0, 207650.0, 214000.0, 220550.0, 227750.0, 233250.0, 238950.0, 245550.0, 251300.0, 256750.0, 262750.0, 267700.0, 272850.0, 277850.0, 283000.0, 290200.0, 295400.0, 300150.0, 305100.0, 310200.0, 316150.0, 321650.0, 326750.0, 331600.0, 338150.0, 342950.0, 347850.0, 352550.0, 355100.0, 356650.0, 357411.0, 357611.0, 360150.0, 359225.0, 360075.0, 360975.0, 362125.0, 357250.0, 357550.0, 358950.0, 359200.0, 360200.0, 357150.0, 352800.0, 353900.0, 354600.0, 354550.0, 354850.0, 354750.0, 353750.0, 353500.0, 352750.0, 352500.04000000004, 351950.04000000004, 350600.04000000004, 349600.04000000004, 347100.04000000004, 345000.04000000004, 341900.04000000004, 342250.04000000004, 341000.0, 341100.0, 340750.0, 340350.0, 339400.0, 338450.0, 339250.0, 345150.0, 344400.0, 344250.0, 342300.0, 341750.0, 342400.0, 343500.0, 343650.0, 344050.0, 343850.0, 344800.0, 345700.0, 347350.0, 347350.0, 348950.0, 350650.0, 352200.0, 353500.0, 352350.0, 351300.0, 350550.0, 351300.0, 352250.0, 351700.0, 353250.0, 354150.0, 351650.0, 352500.0, 352150.0, 350550.0, 349950.0, 351900.0, 348900.0, 344200.0, 344000.0, 343801.01, 342851.01, 343851.01, 342051.01, 344651.01, 344451.01, 342201.01, 340101.02, 340301.02, 338551.02, 336651.02, 331401.02, 327701.02, 323751.02, 322901.02, 322651.02, 321451.02, 320001.02, 317851.02, 316001.02, 313601.02, 312051.02, 309651.02, 308001.02, 305701.02, 303501.02, 295701.02, 293901.02, 295001.02, 295001.02, 294200.0, 292800.0, 290800.0, 289400.0, 286025.0, 282705.0, 280350.0, 278400.0, 275750.0, 274300.0, 270850.0, 267450.0, 264950.0, 262200.0, 260050.0, 260200.0, 259850.0, 257550.0, 254750.0, 252748.99, 248998.99, 244148.99, 241698.99, 237648.99, 232098.99, 231148.99, 234899.13, 234949.13, 235049.13, 236999.13, 235699.13, 231849.13, 226499.13, 224199.13, 221199.13, 213999.13, 209549.13, 205749.13, 203449.12, 198649.12, 195449.12, 195949.12, 198449.12, 201099.12, 209249.12, 208899.12, 209199.12, 208699.12, 208049.12, 207049.12, 207199.12, 206899.12, 204249.12, 201649.12, 198549.12, 195099.12, 191899.12, 189299.12, 185949.12, 179599.12, 176849.12, 172950.14, 171300.14, 171748.66999999998, 169248.66999999998, 170373.66999999998, 170243.66999999998, 170248.66999999998, 170598.66999999998, 170198.66999999998, 169548.66999999998, 169048.66999999998, 168048.66999999998, 167198.66999999998, 167148.66999999998, 167798.66999999998, 166898.66999999998, 165798.66999999998, 165048.66999999998, 164348.66999999998, 162298.66999999998, 162198.66999999998, 163748.66999999998, 162498.66999999998, 163499.66999999998, 172199.66999999998, 172649.66999999998, 166899.53, 166649.65, 167349.65, 166649.65, 164899.65, 167349.65, 171599.65, 172299.65, 174299.65, 177249.65, 182249.65, 185399.65, 188099.65, 191049.65, 192799.65, 190949.65, 189199.65, 186649.65, 180049.65, 179099.65, 177849.65, 177749.65, 177099.65, 176449.65, 174849.65, 174499.65, 176199.65, 177599.65, 178949.65, 182099.65, 186399.65, 194549.77, 198349.53, 202049.53, 205299.53, 206999.53, 207699.53, 206001.0, 207751.0, 207401.0, 207351.0, 206251.0, 204051.0, 197401.0, 195851.0, 195151.0, 195401.0, 194701.0, 194201.0, 193951.0, 194101.0, 194401.0, 194951.0, 195201.0, 195401.0, 195651.0, 195701.0, 197751.0, 198900.0, 193749.88, 193299.88, 215499.88, 215599.88, 215799.88, 217449.88, 219249.88, 219099.88, 218549.88, 217899.88, 217299.88, 216349.88, 213299.88, 212549.88, 222299.68, 223249.68, 224499.68, 223849.68, 224695.33000000002, 226445.33000000002, 227945.33000000002, 228795.33000000002, 228748.33000000002, 228798.33000000002, 230848.33000000002, 233048.33000000002, 227598.33000000002, 229986.33000000002, 237437.33000000002, 241037.33000000002, 246637.33000000002, 254137.33000000002, 258437.33000000002, 257537.21000000002, 261837.45, 265887.45, 269587.44999999995, 274837.44999999995, 279137.45, 284887.45, 290537.45, 294737.45, 300037.45, 304487.45, 309687.45, 312987.45, 316137.45, 319987.45, 344237.45, 349037.45, 350537.45, 352087.45, 353587.45, 352687.45, 348087.45, 337487.45, 350837.71, 352682.71, 354837.71, 355488.45, 355189.45, 355289.45, 356639.45, 336439.45, 338089.45, 339639.45, 339289.45, 340339.45, 341389.45, 345639.45, 346739.45, 348389.45, 350539.45, 353489.45, 356389.45, 347989.65, 349489.65, 336639.65, 343639.65, 348994.02, 363343.02, 357693.02, 359343.02, 365790.02, 368790.46, 398490.46, 401190.46, 402740.46, 403701.46, 400200.46, 401750.44, 400713.81, 419774.81, 417424.81, 414774.81, 412574.81, 414501.04000000004, 417451.04000000004, 417351.04000000004, 419551.04000000004, 421751.04000000004, 427951.04000000004, 426852.04000000004, 428353.04000000004, 428503.04000000004, 428853.04000000004, 436753.04000000004, 436903.04000000004, 435453.04, 436329.38, 439284.20000000007, 443718.78, 447368.78, 446958.78, 439858.78, 435658.78, 436781.78, 424481.52, 423586.52, 422358.52, 418557.78, 422916.78, 429166.78, 431771.78, 429522.78, 430322.78, 431172.78, 432272.78, 448172.78, 451520.64, 445900.64, 447350.64, 450100.64, 450450.64, 428550.64, 427550.64, 427950.64, 427250.64, 426655.9, 421205.86, 413492.47, 398693.47, 395846.95, 395339.85, 390142.87, 390812.43, 361540.49, 358340.92, 357015.46, 398842.21, 398492.22, 396710.99, 399608.99, 388079.68, 394124.68000000005, 395850.68000000005, 400931.59, 393937.18, 388537.18, 387703.18000000005, 384612.22, 383648.18000000005, 378965.28, 377279.33999999997, 392466.06000000006, 391768.06, 388040.06, 385290.06, 387998.06, 376128.08999999997, 354378.09, 359123.27, 351926.94999999995, 350376.95, 328351.66000000003, 317151.72, 322201.82999999996, 322461.06, 336756.51, 335881.5, 335559.14, 337267.13, 326767.13, 331837.73, 309426.57999999996, 343978.57999999996, 357762.1, 368409.67, 371954.67000000004, 348575.67000000004, 344420.31, 352441.32, 358089.61, 358788.56, 351396.55, 331765.48, 333318.02, 324880.52, 327198.35000000003, 341285.69999999995, 329803.29, 328366.66000000003, 329986.67000000004, 331300.88, 337492.35, 349469.77999999997, 348154.93, 328615.03, 329105.04000000004, 332054.44, 320116.86000000004, 335175.82999999996, 334579.70999999996, 328974.62, 342723.03, 351389.04000000004, 351777.38, 338009.69, 339756.52, 336500.52, 330910.52, 337588.39, 338898.04000000004, 337813.28, 340926.73, 342582.52, 346447.52, 353525.33999999997, 354500.33999999997, 361990.95, 365552.95999999996, 381952.96, 382016.44999999995, 384752.19000000006, 387172.19, 386026.94, 397720.94, 479347.87, 498963.43, 533550.72, 607327.99, 626520.3, 626670.19, 639762.16, 644497.2899999999, 648734.88, 618984.5900000001, 625663.9299999999, 629745.3, 636345.64, 651735.13, 658267.03, 659399.74, 659680.2, 660495.96, 663332.78, 664418.6399999999, 656972.2, 709107.78, 710264.5900000001, 705248.8699999999, 712485.87, 662608.6199999999, 650029.02, 648098.75, 657389.6699999999, 639097.12, 653738.23, 656048.38, 665784.28, 665043.96, 662699.37, 647056.99, 643962.9299999999, 644224.28, 641748.9199999999, 649102.92, 662695.1, 662201.75, 663364.03, 658853.2, 658607.02, 638831.54, 652088.52, 656244.5, 651321.99, 645224.9200004, 657054.8800005, 651695.1000007, 605637.8900008, 603752.3100008001, 597118.6700008, 590016.3600008, 589631.0700008, 583974.1600007999, 584981.5300008, 587127.4500008, 575983.9899988, 504401.1499988, 487425.219999, 458617.509999, 402980.549999, 381703.16999900003, 379159.889999, 375229.569999, 379399.03999900003, 381548.63960252, 381774.13960252004, 376631.44960252, 384143.89960252, 416064.62960252, 396094.25960252003, 391849.84960252, 388445.02960252, 396137.69960252, 407276.3007235, 400459.7307235, 398075.8307235, 406585.22176251, 501803.0017635, 486846.6817635001, 487292.4417635, 490316.56067562, 495389.45067562, 498343.83067562, 504968.71067562, 518474.66067561996, 517075.26067562005, 515634.86067562, 539276.81067562, 530086.47067562, 537579.33067562, 537430.95067562, 558070.55067671, 552621.9106767101, 563644.17067671, 568255.93067671, 571354.66067671, 600495.34067671, 620846.61067671, 622691.42067671, 640930.47067671, 650855.92067671, 668904.00067671, 708567.53067671, 747184.49067671, 760225.2006767101, 764605.10067631, 766124.9106762101, 772827.73067601, 771779.31067591, 776392.11067591, 804040.85067591, 806929.7206759099, 776280.08067591, 780898.10067591, 929546.67067591, 931052.43067482, 925783.90067682, 919927.39067682, 920313.5906766199, 920919.2906766201, 924487.5006766199, 957247.17067662, 957963.5706766201, 969519.98067662, 960690.8117645, 959157.1721609801, 962475.88216098, 970683.77216098, 965063.95216098, 960338.7821609799, 967367.26216098, 984190.1921609801, 1047629.5821609801, 1015283.1821609801, 1005466.94205099, 1008915.8220509901, 1024782.48205099, 1006545.6810888699]}, {\"name\": \"1q ~ 6m\", \"type\": \"scatter\", \"x\": [\"2009-01-09T00:00:00\", \"2009-01-10T00:00:00\", \"2009-01-11T00:00:00\", \"2009-01-12T00:00:00\", \"2009-01-13T00:00:00\", \"2009-01-14T00:00:00\", \"2009-01-15T00:00:00\", \"2009-01-16T00:00:00\", \"2009-01-17T00:00:00\", \"2009-01-18T00:00:00\", \"2009-01-19T00:00:00\", \"2009-01-20T00:00:00\", \"2009-01-21T00:00:00\", \"2009-01-22T00:00:00\", \"2009-01-23T00:00:00\", \"2009-01-24T00:00:00\", \"2009-01-25T00:00:00\", \"2009-01-26T00:00:00\", \"2009-01-27T00:00:00\", \"2009-01-28T00:00:00\", \"2009-01-29T00:00:00\", \"2009-01-30T00:00:00\", \"2009-01-31T00:00:00\", \"2009-02-01T00:00:00\", \"2009-02-02T00:00:00\", \"2009-02-03T00:00:00\", \"2009-02-04T00:00:00\", \"2009-02-05T00:00:00\", \"2009-02-06T00:00:00\", \"2009-02-07T00:00:00\", \"2009-02-08T00:00:00\", \"2009-02-09T00:00:00\", \"2009-02-10T00:00:00\", \"2009-02-11T00:00:00\", \"2009-02-12T00:00:00\", \"2009-02-13T00:00:00\", \"2009-02-14T00:00:00\", \"2009-02-15T00:00:00\", \"2009-02-16T00:00:00\", \"2009-02-17T00:00:00\", \"2009-02-18T00:00:00\", \"2009-02-19T00:00:00\", \"2009-02-20T00:00:00\", \"2009-02-21T00:00:00\", \"2009-02-22T00:00:00\", \"2009-02-23T00:00:00\", \"2009-02-24T00:00:00\", \"2009-02-25T00:00:00\", \"2009-02-26T00:00:00\", \"2009-02-27T00:00:00\", \"2009-02-28T00:00:00\", \"2009-03-01T00:00:00\", \"2009-03-02T00:00:00\", \"2009-03-03T00:00:00\", \"2009-03-04T00:00:00\", \"2009-03-05T00:00:00\", \"2009-03-06T00:00:00\", \"2009-03-07T00:00:00\", \"2009-03-08T00:00:00\", \"2009-03-09T00:00:00\", \"2009-03-10T00:00:00\", \"2009-03-11T00:00:00\", \"2009-03-12T00:00:00\", \"2009-03-13T00:00:00\", \"2009-03-14T00:00:00\", \"2009-03-15T00:00:00\", \"2009-03-16T00:00:00\", \"2009-03-17T00:00:00\", \"2009-03-18T00:00:00\", \"2009-03-19T00:00:00\", \"2009-03-20T00:00:00\", \"2009-03-21T00:00:00\", \"2009-03-22T00:00:00\", \"2009-03-23T00:00:00\", \"2009-03-24T00:00:00\", \"2009-03-25T00:00:00\", \"2009-03-26T00:00:00\", \"2009-03-27T00:00:00\", \"2009-03-28T00:00:00\", \"2009-03-29T00:00:00\", \"2009-03-30T00:00:00\", \"2009-03-31T00:00:00\", \"2009-04-01T00:00:00\", \"2009-04-02T00:00:00\", \"2009-04-03T00:00:00\", \"2009-04-04T00:00:00\", \"2009-04-05T00:00:00\", \"2009-04-06T00:00:00\", \"2009-04-07T00:00:00\", \"2009-04-08T00:00:00\", \"2009-04-09T00:00:00\", \"2009-04-10T00:00:00\", \"2009-04-11T00:00:00\", \"2009-04-12T00:00:00\", \"2009-04-13T00:00:00\", \"2009-04-14T00:00:00\", \"2009-04-15T00:00:00\", \"2009-04-16T00:00:00\", \"2009-04-17T00:00:00\", \"2009-04-18T00:00:00\", \"2009-04-19T00:00:00\", \"2009-04-20T00:00:00\", \"2009-04-21T00:00:00\", \"2009-04-22T00:00:00\", \"2009-04-23T00:00:00\", \"2009-04-24T00:00:00\", \"2009-04-25T00:00:00\", \"2009-04-26T00:00:00\", \"2009-04-27T00:00:00\", \"2009-04-28T00:00:00\", \"2009-04-29T00:00:00\", \"2009-04-30T00:00:00\", \"2009-05-01T00:00:00\", \"2009-05-02T00:00:00\", \"2009-05-03T00:00:00\", \"2009-05-04T00:00:00\", \"2009-05-05T00:00:00\", \"2009-05-06T00:00:00\", \"2009-05-07T00:00:00\", \"2009-05-08T00:00:00\", \"2009-05-09T00:00:00\", \"2009-05-10T00:00:00\", \"2009-05-11T00:00:00\", \"2009-05-12T00:00:00\", \"2009-05-13T00:00:00\", \"2009-05-14T00:00:00\", \"2009-05-15T00:00:00\", \"2009-05-16T00:00:00\", \"2009-05-17T00:00:00\", \"2009-05-18T00:00:00\", \"2009-05-19T00:00:00\", \"2009-05-20T00:00:00\", \"2009-05-21T00:00:00\", \"2009-05-22T00:00:00\", \"2009-05-23T00:00:00\", \"2009-05-24T00:00:00\", \"2009-05-25T00:00:00\", \"2009-05-26T00:00:00\", \"2009-05-27T00:00:00\", \"2009-05-28T00:00:00\", \"2009-05-29T00:00:00\", \"2009-05-30T00:00:00\", \"2009-05-31T00:00:00\", \"2009-06-01T00:00:00\", \"2009-06-02T00:00:00\", \"2009-06-03T00:00:00\", \"2009-06-04T00:00:00\", \"2009-06-05T00:00:00\", \"2009-06-06T00:00:00\", \"2009-06-07T00:00:00\", \"2009-06-08T00:00:00\", \"2009-06-09T00:00:00\", \"2009-06-10T00:00:00\", \"2009-06-11T00:00:00\", \"2009-06-12T00:00:00\", \"2009-06-13T00:00:00\", \"2009-06-14T00:00:00\", \"2009-06-15T00:00:00\", \"2009-06-16T00:00:00\", \"2009-06-17T00:00:00\", \"2009-06-18T00:00:00\", \"2009-06-19T00:00:00\", \"2009-06-20T00:00:00\", \"2009-06-21T00:00:00\", \"2009-06-22T00:00:00\", \"2009-06-23T00:00:00\", \"2009-06-24T00:00:00\", \"2009-06-25T00:00:00\", \"2009-06-26T00:00:00\", \"2009-06-27T00:00:00\", \"2009-06-28T00:00:00\", \"2009-06-29T00:00:00\", \"2009-06-30T00:00:00\", \"2009-07-01T00:00:00\", \"2009-07-02T00:00:00\", \"2009-07-03T00:00:00\", \"2009-07-04T00:00:00\", \"2009-07-05T00:00:00\", \"2009-07-06T00:00:00\", \"2009-07-07T00:00:00\", \"2009-07-08T00:00:00\", \"2009-07-09T00:00:00\", \"2009-07-10T00:00:00\", \"2009-07-11T00:00:00\", \"2009-07-12T00:00:00\", \"2009-07-13T00:00:00\", \"2009-07-14T00:00:00\", \"2009-07-15T00:00:00\", \"2009-07-16T00:00:00\", \"2009-07-17T00:00:00\", \"2009-07-18T00:00:00\", \"2009-07-19T00:00:00\", \"2009-07-20T00:00:00\", \"2009-07-21T00:00:00\", \"2009-07-22T00:00:00\", \"2009-07-23T00:00:00\", \"2009-07-24T00:00:00\", \"2009-07-25T00:00:00\", \"2009-07-26T00:00:00\", \"2009-07-27T00:00:00\", \"2009-07-28T00:00:00\", \"2009-07-29T00:00:00\", \"2009-07-30T00:00:00\", \"2009-07-31T00:00:00\", \"2009-08-01T00:00:00\", \"2009-08-02T00:00:00\", \"2009-08-03T00:00:00\", \"2009-08-04T00:00:00\", \"2009-08-05T00:00:00\", \"2009-08-06T00:00:00\", \"2009-08-07T00:00:00\", \"2009-08-08T00:00:00\", \"2009-08-09T00:00:00\", \"2009-08-10T00:00:00\", \"2009-08-11T00:00:00\", \"2009-08-12T00:00:00\", \"2009-08-13T00:00:00\", \"2009-08-14T00:00:00\", \"2009-08-15T00:00:00\", \"2009-08-16T00:00:00\", \"2009-08-17T00:00:00\", \"2009-08-18T00:00:00\", \"2009-08-19T00:00:00\", \"2009-08-20T00:00:00\", \"2009-08-21T00:00:00\", \"2009-08-22T00:00:00\", \"2009-08-23T00:00:00\", \"2009-08-24T00:00:00\", \"2009-08-25T00:00:00\", \"2009-08-26T00:00:00\", \"2009-08-27T00:00:00\", \"2009-08-28T00:00:00\", \"2009-08-29T00:00:00\", \"2009-08-30T00:00:00\", \"2009-08-31T00:00:00\", \"2009-09-01T00:00:00\", \"2009-09-02T00:00:00\", \"2009-09-03T00:00:00\", \"2009-09-04T00:00:00\", \"2009-09-05T00:00:00\", \"2009-09-06T00:00:00\", \"2009-09-07T00:00:00\", \"2009-09-08T00:00:00\", \"2009-09-09T00:00:00\", \"2009-09-10T00:00:00\", \"2009-09-11T00:00:00\", \"2009-09-12T00:00:00\", \"2009-09-13T00:00:00\", \"2009-09-14T00:00:00\", \"2009-09-15T00:00:00\", \"2009-09-16T00:00:00\", \"2009-09-17T00:00:00\", \"2009-09-18T00:00:00\", \"2009-09-19T00:00:00\", \"2009-09-20T00:00:00\", \"2009-09-21T00:00:00\", \"2009-09-22T00:00:00\", \"2009-09-23T00:00:00\", \"2009-09-24T00:00:00\", \"2009-09-25T00:00:00\", \"2009-09-26T00:00:00\", \"2009-09-27T00:00:00\", \"2009-09-28T00:00:00\", \"2009-09-29T00:00:00\", \"2009-09-30T00:00:00\", \"2009-10-01T00:00:00\", \"2009-10-02T00:00:00\", \"2009-10-03T00:00:00\", \"2009-10-04T00:00:00\", \"2009-10-05T00:00:00\", \"2009-10-06T00:00:00\", \"2009-10-07T00:00:00\", \"2009-10-08T00:00:00\", \"2009-10-09T00:00:00\", \"2009-10-10T00:00:00\", \"2009-10-11T00:00:00\", \"2009-10-12T00:00:00\", \"2009-10-13T00:00:00\", \"2009-10-14T00:00:00\", \"2009-10-15T00:00:00\", \"2009-10-16T00:00:00\", \"2009-10-17T00:00:00\", \"2009-10-18T00:00:00\", \"2009-10-19T00:00:00\", \"2009-10-20T00:00:00\", \"2009-10-21T00:00:00\", \"2009-10-22T00:00:00\", \"2009-10-23T00:00:00\", \"2009-10-24T00:00:00\", \"2009-10-25T00:00:00\", \"2009-10-26T00:00:00\", \"2009-10-27T00:00:00\", \"2009-10-28T00:00:00\", \"2009-10-29T00:00:00\", \"2009-10-30T00:00:00\", \"2009-10-31T00:00:00\", \"2009-11-01T00:00:00\", \"2009-11-02T00:00:00\", \"2009-11-03T00:00:00\", \"2009-11-04T00:00:00\", \"2009-11-05T00:00:00\", \"2009-11-06T00:00:00\", \"2009-11-07T00:00:00\", \"2009-11-08T00:00:00\", \"2009-11-09T00:00:00\", \"2009-11-10T00:00:00\", \"2009-11-11T00:00:00\", \"2009-11-12T00:00:00\", \"2009-11-13T00:00:00\", \"2009-11-14T00:00:00\", \"2009-11-15T00:00:00\", \"2009-11-16T00:00:00\", \"2009-11-17T00:00:00\", \"2009-11-18T00:00:00\", \"2009-11-19T00:00:00\", \"2009-11-20T00:00:00\", \"2009-11-21T00:00:00\", \"2009-11-22T00:00:00\", \"2009-11-23T00:00:00\", \"2009-11-24T00:00:00\", \"2009-11-25T00:00:00\", \"2009-11-26T00:00:00\", \"2009-11-27T00:00:00\", \"2009-11-28T00:00:00\", \"2009-11-29T00:00:00\", \"2009-11-30T00:00:00\", \"2009-12-01T00:00:00\", \"2009-12-02T00:00:00\", \"2009-12-03T00:00:00\", \"2009-12-04T00:00:00\", \"2009-12-05T00:00:00\", \"2009-12-06T00:00:00\", \"2009-12-07T00:00:00\", \"2009-12-08T00:00:00\", \"2009-12-09T00:00:00\", \"2009-12-10T00:00:00\", \"2009-12-11T00:00:00\", \"2009-12-12T00:00:00\", \"2009-12-13T00:00:00\", \"2009-12-14T00:00:00\", \"2009-12-15T00:00:00\", \"2009-12-16T00:00:00\", \"2009-12-17T00:00:00\", \"2009-12-18T00:00:00\", \"2009-12-19T00:00:00\", \"2009-12-20T00:00:00\", \"2009-12-21T00:00:00\", \"2009-12-22T00:00:00\", \"2009-12-23T00:00:00\", \"2009-12-24T00:00:00\", \"2009-12-25T00:00:00\", \"2009-12-26T00:00:00\", \"2009-12-27T00:00:00\", \"2009-12-28T00:00:00\", \"2009-12-29T00:00:00\", \"2009-12-30T00:00:00\", \"2009-12-31T00:00:00\", \"2010-01-01T00:00:00\", \"2010-01-02T00:00:00\", \"2010-01-03T00:00:00\", \"2010-01-04T00:00:00\", \"2010-01-05T00:00:00\", \"2010-01-06T00:00:00\", \"2010-01-07T00:00:00\", \"2010-01-08T00:00:00\", \"2010-01-09T00:00:00\", \"2010-01-10T00:00:00\", \"2010-01-11T00:00:00\", \"2010-01-12T00:00:00\", \"2010-01-13T00:00:00\", \"2010-01-14T00:00:00\", \"2010-01-15T00:00:00\", \"2010-01-16T00:00:00\", \"2010-01-17T00:00:00\", \"2010-01-18T00:00:00\", \"2010-01-19T00:00:00\", \"2010-01-20T00:00:00\", \"2010-01-21T00:00:00\", \"2010-01-22T00:00:00\", \"2010-01-23T00:00:00\", \"2010-01-24T00:00:00\", \"2010-01-25T00:00:00\", \"2010-01-26T00:00:00\", \"2010-01-27T00:00:00\", \"2010-01-28T00:00:00\", \"2010-01-29T00:00:00\", \"2010-01-30T00:00:00\", \"2010-01-31T00:00:00\", \"2010-02-01T00:00:00\", \"2010-02-02T00:00:00\", \"2010-02-03T00:00:00\", \"2010-02-04T00:00:00\", \"2010-02-05T00:00:00\", \"2010-02-06T00:00:00\", \"2010-02-07T00:00:00\", \"2010-02-08T00:00:00\", \"2010-02-09T00:00:00\", \"2010-02-10T00:00:00\", \"2010-02-11T00:00:00\", \"2010-02-12T00:00:00\", \"2010-02-13T00:00:00\", \"2010-02-14T00:00:00\", \"2010-02-15T00:00:00\", \"2010-02-16T00:00:00\", \"2010-02-17T00:00:00\", \"2010-02-18T00:00:00\", \"2010-02-19T00:00:00\", \"2010-02-20T00:00:00\", \"2010-02-21T00:00:00\", \"2010-02-22T00:00:00\", \"2010-02-23T00:00:00\", \"2010-02-24T00:00:00\", \"2010-02-25T00:00:00\", \"2010-02-26T00:00:00\", \"2010-02-27T00:00:00\", \"2010-02-28T00:00:00\", \"2010-03-01T00:00:00\", \"2010-03-02T00:00:00\", \"2010-03-03T00:00:00\", \"2010-03-04T00:00:00\", \"2010-03-05T00:00:00\", \"2010-03-06T00:00:00\", \"2010-03-07T00:00:00\", \"2010-03-08T00:00:00\", \"2010-03-09T00:00:00\", \"2010-03-10T00:00:00\", \"2010-03-11T00:00:00\", \"2010-03-12T00:00:00\", \"2010-03-13T00:00:00\", \"2010-03-14T00:00:00\", \"2010-03-15T00:00:00\", \"2010-03-16T00:00:00\", \"2010-03-17T00:00:00\", \"2010-03-18T00:00:00\", \"2010-03-19T00:00:00\", \"2010-03-20T00:00:00\", \"2010-03-21T00:00:00\", \"2010-03-22T00:00:00\", \"2010-03-23T00:00:00\", \"2010-03-24T00:00:00\", \"2010-03-25T00:00:00\", \"2010-03-26T00:00:00\", \"2010-03-27T00:00:00\", \"2010-03-28T00:00:00\", \"2010-03-29T00:00:00\", \"2010-03-30T00:00:00\", \"2010-03-31T00:00:00\", \"2010-04-01T00:00:00\", \"2010-04-02T00:00:00\", \"2010-04-03T00:00:00\", \"2010-04-04T00:00:00\", \"2010-04-05T00:00:00\", \"2010-04-06T00:00:00\", \"2010-04-07T00:00:00\", \"2010-04-08T00:00:00\", \"2010-04-09T00:00:00\", \"2010-04-10T00:00:00\", \"2010-04-11T00:00:00\", \"2010-04-12T00:00:00\", \"2010-04-13T00:00:00\", \"2010-04-14T00:00:00\", \"2010-04-15T00:00:00\", \"2010-04-16T00:00:00\", \"2010-04-17T00:00:00\", \"2010-04-18T00:00:00\", \"2010-04-19T00:00:00\", \"2010-04-20T00:00:00\", \"2010-04-21T00:00:00\", \"2010-04-22T00:00:00\", \"2010-04-23T00:00:00\", \"2010-04-24T00:00:00\", \"2010-04-25T00:00:00\", \"2010-04-26T00:00:00\", \"2010-04-27T00:00:00\", \"2010-04-28T00:00:00\", \"2010-04-29T00:00:00\", \"2010-04-30T00:00:00\", \"2010-05-01T00:00:00\", \"2010-05-02T00:00:00\", \"2010-05-03T00:00:00\", \"2010-05-04T00:00:00\", \"2010-05-05T00:00:00\", \"2010-05-06T00:00:00\", \"2010-05-07T00:00:00\", \"2010-05-08T00:00:00\", \"2010-05-09T00:00:00\", \"2010-05-10T00:00:00\", \"2010-05-11T00:00:00\", \"2010-05-12T00:00:00\", \"2010-05-13T00:00:00\", \"2010-05-14T00:00:00\", \"2010-05-15T00:00:00\", \"2010-05-16T00:00:00\", \"2010-05-17T00:00:00\", \"2010-05-18T00:00:00\", \"2010-05-19T00:00:00\", \"2010-05-20T00:00:00\", \"2010-05-21T00:00:00\", \"2010-05-22T00:00:00\", \"2010-05-23T00:00:00\", \"2010-05-24T00:00:00\", \"2010-05-25T00:00:00\", \"2010-05-26T00:00:00\", \"2010-05-27T00:00:00\", \"2010-05-28T00:00:00\", \"2010-05-29T00:00:00\", \"2010-05-30T00:00:00\", \"2010-05-31T00:00:00\", \"2010-06-01T00:00:00\", \"2010-06-02T00:00:00\", \"2010-06-03T00:00:00\", \"2010-06-04T00:00:00\", \"2010-06-05T00:00:00\", \"2010-06-06T00:00:00\", \"2010-06-07T00:00:00\", \"2010-06-08T00:00:00\", \"2010-06-09T00:00:00\", \"2010-06-10T00:00:00\", \"2010-06-11T00:00:00\", \"2010-06-12T00:00:00\", \"2010-06-13T00:00:00\", \"2010-06-14T00:00:00\", \"2010-06-15T00:00:00\", \"2010-06-16T00:00:00\", \"2010-06-17T00:00:00\", \"2010-06-18T00:00:00\", \"2010-06-19T00:00:00\", \"2010-06-20T00:00:00\", \"2010-06-21T00:00:00\", \"2010-06-22T00:00:00\", \"2010-06-23T00:00:00\", \"2010-06-24T00:00:00\", \"2010-06-25T00:00:00\", \"2010-06-26T00:00:00\", \"2010-06-27T00:00:00\", \"2010-06-28T00:00:00\", \"2010-06-29T00:00:00\", \"2010-06-30T00:00:00\", \"2010-07-01T00:00:00\", \"2010-07-02T00:00:00\", \"2010-07-03T00:00:00\", \"2010-07-04T00:00:00\", \"2010-07-05T00:00:00\", \"2010-07-06T00:00:00\", \"2010-07-07T00:00:00\", \"2010-07-08T00:00:00\", \"2010-07-09T00:00:00\", \"2010-07-10T00:00:00\", \"2010-07-11T00:00:00\", \"2010-07-12T00:00:00\", \"2010-07-13T00:00:00\", \"2010-07-14T00:00:00\", \"2010-07-15T00:00:00\", \"2010-07-16T00:00:00\", \"2010-07-17T00:00:00\", \"2010-07-18T00:00:00\", \"2010-07-19T00:00:00\", \"2010-07-20T00:00:00\", \"2010-07-21T00:00:00\", \"2010-07-22T00:00:00\", \"2010-07-23T00:00:00\", \"2010-07-24T00:00:00\", \"2010-07-25T00:00:00\", \"2010-07-26T00:00:00\", \"2010-07-27T00:00:00\", \"2010-07-28T00:00:00\", \"2010-07-29T00:00:00\", \"2010-07-30T00:00:00\", \"2010-07-31T00:00:00\", \"2010-08-01T00:00:00\", \"2010-08-02T00:00:00\", \"2010-08-03T00:00:00\", \"2010-08-04T00:00:00\", \"2010-08-05T00:00:00\", \"2010-08-06T00:00:00\", \"2010-08-07T00:00:00\", \"2010-08-08T00:00:00\", \"2010-08-09T00:00:00\", \"2010-08-10T00:00:00\", \"2010-08-11T00:00:00\", \"2010-08-12T00:00:00\", \"2010-08-13T00:00:00\", \"2010-08-14T00:00:00\", \"2010-08-15T00:00:00\", \"2010-08-16T00:00:00\", \"2010-08-17T00:00:00\", \"2010-08-18T00:00:00\", \"2010-08-19T00:00:00\", \"2010-08-20T00:00:00\", \"2010-08-21T00:00:00\", \"2010-08-22T00:00:00\", \"2010-08-23T00:00:00\", \"2010-08-24T00:00:00\", \"2010-08-25T00:00:00\", \"2010-08-26T00:00:00\", \"2010-08-27T00:00:00\", \"2010-08-28T00:00:00\", \"2010-08-29T00:00:00\", \"2010-08-30T00:00:00\", \"2010-08-31T00:00:00\", \"2010-09-01T00:00:00\", \"2010-09-02T00:00:00\", \"2010-09-03T00:00:00\", \"2010-09-04T00:00:00\", \"2010-09-05T00:00:00\", \"2010-09-06T00:00:00\", \"2010-09-07T00:00:00\", \"2010-09-08T00:00:00\", \"2010-09-09T00:00:00\", \"2010-09-10T00:00:00\", \"2010-09-11T00:00:00\", \"2010-09-12T00:00:00\", \"2010-09-13T00:00:00\", \"2010-09-14T00:00:00\", \"2010-09-15T00:00:00\", \"2010-09-16T00:00:00\", \"2010-09-17T00:00:00\", \"2010-09-18T00:00:00\", \"2010-09-19T00:00:00\", \"2010-09-20T00:00:00\", \"2010-09-21T00:00:00\", \"2010-09-22T00:00:00\", \"2010-09-23T00:00:00\", \"2010-09-24T00:00:00\", \"2010-09-25T00:00:00\", \"2010-09-26T00:00:00\", \"2010-09-27T00:00:00\", \"2010-09-28T00:00:00\", \"2010-09-29T00:00:00\", \"2010-09-30T00:00:00\", \"2010-10-01T00:00:00\", \"2010-10-02T00:00:00\", \"2010-10-03T00:00:00\", \"2010-10-04T00:00:00\", \"2010-10-05T00:00:00\", \"2010-10-06T00:00:00\", \"2010-10-07T00:00:00\", \"2010-10-08T00:00:00\", \"2010-10-09T00:00:00\", \"2010-10-10T00:00:00\", \"2010-10-11T00:00:00\", \"2010-10-12T00:00:00\", \"2010-10-13T00:00:00\", \"2010-10-14T00:00:00\", \"2010-10-15T00:00:00\", \"2010-10-16T00:00:00\", \"2010-10-17T00:00:00\", \"2010-10-18T00:00:00\", \"2010-10-19T00:00:00\", \"2010-10-20T00:00:00\", \"2010-10-21T00:00:00\", \"2010-10-22T00:00:00\", \"2010-10-23T00:00:00\", \"2010-10-24T00:00:00\", \"2010-10-25T00:00:00\", \"2010-10-26T00:00:00\", \"2010-10-27T00:00:00\", \"2010-10-28T00:00:00\", \"2010-10-29T00:00:00\", \"2010-10-30T00:00:00\", \"2010-10-31T00:00:00\", \"2010-11-01T00:00:00\", \"2010-11-02T00:00:00\", \"2010-11-03T00:00:00\", \"2010-11-04T00:00:00\", \"2010-11-05T00:00:00\", \"2010-11-06T00:00:00\", \"2010-11-07T00:00:00\", \"2010-11-08T00:00:00\", \"2010-11-09T00:00:00\", \"2010-11-10T00:00:00\", \"2010-11-11T00:00:00\", \"2010-11-12T00:00:00\", \"2010-11-13T00:00:00\", \"2010-11-14T00:00:00\", \"2010-11-15T00:00:00\", \"2010-11-16T00:00:00\", \"2010-11-17T00:00:00\", \"2010-11-18T00:00:00\", \"2010-11-19T00:00:00\", \"2010-11-20T00:00:00\", \"2010-11-21T00:00:00\", \"2010-11-22T00:00:00\", \"2010-11-23T00:00:00\", \"2010-11-24T00:00:00\", \"2010-11-25T00:00:00\", \"2010-11-26T00:00:00\", \"2010-11-27T00:00:00\", \"2010-11-28T00:00:00\", \"2010-11-29T00:00:00\", \"2010-11-30T00:00:00\", \"2010-12-01T00:00:00\", \"2010-12-02T00:00:00\", \"2010-12-03T00:00:00\", \"2010-12-04T00:00:00\", \"2010-12-05T00:00:00\", \"2010-12-06T00:00:00\", \"2010-12-07T00:00:00\", \"2010-12-08T00:00:00\", \"2010-12-09T00:00:00\", \"2010-12-10T00:00:00\", \"2010-12-11T00:00:00\", \"2010-12-12T00:00:00\", \"2010-12-13T00:00:00\", \"2010-12-14T00:00:00\", \"2010-12-15T00:00:00\", \"2010-12-16T00:00:00\", \"2010-12-17T00:00:00\", \"2010-12-18T00:00:00\", \"2010-12-19T00:00:00\", \"2010-12-20T00:00:00\", \"2010-12-21T00:00:00\", \"2010-12-22T00:00:00\", \"2010-12-23T00:00:00\", \"2010-12-24T00:00:00\", \"2010-12-25T00:00:00\", \"2010-12-26T00:00:00\", \"2010-12-27T00:00:00\", \"2010-12-28T00:00:00\", \"2010-12-29T00:00:00\", \"2010-12-30T00:00:00\", \"2010-12-31T00:00:00\"], \"y\": [0.0, 0.0, 0.0, 0.0, 0.0, 0.0, 0.0, 0.0, 0.0, 0.0, 0.0, 0.0, 0.0, 0.0, 0.0, 0.0, 0.0, 0.0, 0.0, 0.0, 0.0, 0.0, 0.0, 0.0, 0.0, 0.0, 0.0, 0.0, 0.0, 0.0, 0.0, 0.0, 0.0, 0.0, 0.0, 0.0, 0.0, 0.0, 0.0, 0.0, 0.0, 0.0, 0.0, 0.0, 0.0, 0.0, 0.0, 0.0, 0.0, 0.0, 0.0, 0.0, 0.0, 0.0, 0.0, 0.0, 0.0, 0.0, 0.0, 0.0, 0.0, 0.0, 0.0, 0.0, 0.0, 0.0, 0.0, 0.0, 0.0, 0.0, 0.0, 0.0, 0.0, 0.0, 0.0, 0.0, 0.0, 0.0, 0.0, 0.0, 0.0, 0.0, 0.0, 0.0, 0.0, 0.0, 0.0, 0.0, 0.0, 0.0, 0.0, 650.0, 3700.0, 8350.0, 13089.0, 18889.0, 24600.0, 30875.0, 36125.0, 40875.0, 45925.0, 51950.0, 57550.0, 62400.0, 67100.0, 71450.0, 81450.0, 90550.0, 95900.0, 100650.0, 105950.0, 112400.0, 117850.0, 124200.0, 129750.0, 135700.0, 142699.96, 148349.96, 154449.96, 160399.96, 167449.96, 174649.96, 183349.96, 189249.96000000002, 196100.0, 201800.0, 207650.0, 214000.0, 220550.0, 227750.0, 233250.0, 238950.0, 245550.0, 251300.0, 256750.0, 262750.0, 267650.0, 272800.0, 277800.0, 282950.0, 290150.0, 295350.0, 300100.0, 305050.0, 310150.0, 316100.0, 321450.0, 326450.0, 331250.0, 337700.0, 342500.0, 347400.0, 352750.0, 358300.0, 364450.0, 369900.0, 375850.0, 384050.0, 389350.0, 395450.0, 401150.0, 407250.0, 409200.0, 415100.0, 421350.0, 426300.0, 431650.0, 438600.0, 443350.0, 449800.0, 455250.0, 460500.0, 467250.0, 472600.0, 477950.0, 483250.0, 488450.0, 495200.0, 500300.0, 505050.0, 510000.0, 514550.0, 519000.0, 521550.0, 523150.0, 524011.0, 524011.0, 523800.0, 523475.0, 523825.0, 525325.0, 526575.0, 532000.3300000001, 532250.3300000001, 533000.3300000001, 531800.3300000001, 532900.3300000001, 528450.3300000001, 525600.3300000001, 525400.3300000001, 526200.3300000001, 527900.3300000001, 527600.3300000001, 527800.3300000001, 528100.3300000001, 527650.3300000001, 529250.3300000001, 529300.37, 530200.37, 530200.37, 529550.37, 526250.37, 523200.37, 520600.37, 521200.37, 519901.34, 521201.34, 522201.34, 521551.34, 521151.34, 519701.34, 518301.34, 518101.34, 515401.34, 512551.34, 508651.34, 507401.34, 507751.34, 508601.34, 509351.34, 508851.34, 509701.34, 509551.34, 509301.34, 507601.35000000003, 508051.35000000003, 505701.02, 503651.02, 500151.02, 496751.02, 491101.02, 490401.02, 489801.02, 488351.02, 486951.02, 484901.02, 483201.02, 480651.02, 476401.02, 474651.02, 472501.02, 470751.02, 468751.02, 470501.02, 468651.02, 469101.02, 467651.02, 466950.0, 464150.0, 463650.0, 460950.0, 457625.0, 456005.0, 453000.0, 451300.0, 449900.0, 448250.0, 447100.0, 444000.0, 442950.0, 441550.0, 440050.0, 439400.0, 438100.0, 436300.0, 433750.0, 430350.0, 427900.0, 424350.0, 421650.0, 418150.0, 412100.0, 408950.0, 406650.14, 404750.14, 402050.14, 402000.14, 400000.14, 395850.14, 390250.14, 388550.14, 384600.14, 378400.14, 372750.14, 367900.14, 362250.14, 357800.14, 350600.14, 347350.14, 344800.14, 342750.14, 346350.14, 346350.14, 346700.14, 344050.14, 341000.14, 338499.13, 335349.13, 331649.13, 327299.13, 322099.13, 317249.13, 313649.13, 308999.13, 306099.13, 303899.13, 302699.13, 298699.13, 294249.13, 290749.13, 289647.66, 286297.66, 281497.66, 279947.66, 279297.66, 279997.64999999997, 274947.64999999997, 274397.64999999997, 274597.64999999997, 275647.64999999997, 277397.64999999997, 279797.64999999997, 279047.64999999997, 277697.64999999997, 276497.64999999997, 275547.64999999997, 274447.64999999997, 273597.65, 273297.65, 272847.65, 271347.65, 270498.65, 275349.78, 274899.78, 274649.78, 274349.78, 270849.78, 270049.78, 267249.79000000004, 266949.79000000004, 267249.79000000004, 267549.79000000004, 269074.79000000004, 269194.79000000004, 270999.79000000004, 271099.79000000004, 270799.79000000004, 270299.79000000004, 268349.79000000004, 266599.79, 264799.79, 263049.79, 261849.78999999998, 260749.78999999998, 260149.78999999998, 259599.78999999998, 258699.78999999998, 257549.78999999998, 256549.78999999998, 257349.78999999998, 257049.78999999998, 257299.78999999998, 259299.78999999998, 259599.78999999998, 255599.65, 260849.77, 262449.53, 263099.53, 263699.53, 264749.53, 267349.53, 266849.53, 268199.53, 269949.53, 272649.53, 274349.53, 274699.53, 275149.53, 276299.53, 275249.53, 273949.53, 272149.53, 265549.53, 264599.53, 262949.53, 262449.53, 256599.53, 256299.53, 255099.53, 254749.53, 256199.53, 258449.53, 261199.53, 263999.53, 265599.53, 289549.53, 292399.53, 294899.53, 297799.53, 300449.53, 301299.53, 300101.0, 302001.0, 301651.0, 300751.0, 299451.0, 298201.0, 307950.8, 308700.8, 307800.8, 305900.8, 305446.45, 304546.45, 304046.45, 304146.45, 304199.45, 303899.45, 305399.45, 306949.45, 308699.45, 310387.45, 318138.45, 320587.45, 318137.33, 324087.33, 328687.33, 331687.33, 335887.33, 339787.33, 345037.33, 347637.33, 348937.33, 352387.33, 356087.33, 357987.33, 359487.33, 360987.33, 362987.33, 363187.33, 364937.32999999996, 368087.32999999996, 390037.32999999996, 393587.33, 394537.33, 395537.33, 395787.33, 395337.33, 396599.33, 398749.33, 411849.59, 412844.59, 399746.01, 398596.75, 399147.75, 398747.75, 396647.75, 390897.63, 390497.87, 390497.87, 389397.87, 390147.87, 390547.87, 394447.87, 395445.87, 396645.87, 397945.87, 400645.87, 404195.87, 407595.87, 410845.87, 412795.87, 417395.87, 422745.89, 436794.89, 438244.89, 439494.89, 445694.89, 449545.33, 480145.33, 484295.33, 487645.33, 490394.33, 493644.33, 497794.31, 499307.68, 524618.6799999999, 505718.68, 505818.68, 507718.68, 514321.25, 520521.25, 523171.25, 524221.25, 530871.25, 518511.25, 519362.25, 525413.25, 528013.25, 530663.03, 534963.03, 536213.03, 538713.03, 562667.38, 569722.2, 568106.78, 568156.78, 570453.78, 571403.78, 568603.78, 567353.78, 565153.78, 562953.78, 555403.78, 552853.78, 549853.78, 546903.78, 544213.78, 541914.78, 539364.78, 537314.78, 533414.78, 546214.78, 546362.64, 543362.64, 539362.64, 539912.6400000001, 536812.6400000001, 535412.64, 532762.6400000001, 533212.64, 531862.64, 529612.64, 529703.04, 529039.6699999999, 527439.6699999999, 528693.4099999999, 528044.1000000001, 527977.4199999999, 526527.4199999999, 524977.48, 513537.20999999996, 512442.20999999996, 506111.79, 507677.85, 506976.85, 503673.48, 504328.11, 507073.11, 505669.11, 515274.11, 515137.17, 495987.17, 494602.17, 479206.31000000006, 477356.31000000006, 478556.41000000003, 476806.41000000003, 474556.41000000003, 473058.41000000003, 471460.41000000003, 470260.41000000003, 467510.19000000006, 462610.19000000006, 459110.19, 445461.07000000007, 443861.33, 442511.33, 437861.63, 432758.23, 404508.23, 400258.73, 397026.28, 393227.28, 389329.92000000004, 385379.92000000004, 382879.92000000004, 357942.83, 355293.83, 388493.83, 386144.54000000004, 379181.97, 373836.97, 371896.97000000003, 371825.97, 371746.98, 366807.98, 366906.98, 363325.98000000004, 362535.98, 360084.97, 354584.97, 355096.14, 364063.14, 340963.14, 333708.31999999995, 346273.74, 348673.74, 351765.9, 361174.25, 362083.25, 363298.25, 362798.25, 366748.26, 370310.26, 386745.25, 386420.25, 382925.25, 382128.25, 383937.26, 383618.26, 382426.18, 382741.18, 386546.18, 387353.31999999995, 405573.31999999995, 406528.32, 399214.31999999995, 400222.77, 398044.69999999995, 399857.69999999995, 400451.70999999996, 336496.71, 336931.70999999996, 337308.72000000003, 342172.09, 346210.58, 348041.83999999997, 348861.15, 346465.96, 347985.01, 415724.83, 432711.6, 471636.20999999996, 527491.99, 544871.98, 549049.06, 549585.64, 555835.57, 556797.22, 560403.4, 557295.29, 565375.24, 562110.1799999999, 571739.46, 577124.0399999999, 579595.64, 582060.24, 583904.62, 589841.8300000001, 588578.4199999999, 589983.79, 592314.8999999999, 592510.41, 596321.09, 594467.06, 589110.09, 535896.44, 537692.69, 509800.04999999993, 515640.64999999997, 516927.57999999996, 521038.12, 532002.6599999999, 535461.1599999999, 538072.1199999999, 539271.7000000001, 541897.8, 541743.66, 542119.5800000001, 517238.8, 517551.25, 515252.43999999994, 515634.42, 513744.91, 513343.75, 506283.92, 504955.94, 503977.06000000006, 502183.97, 500413.18000039994, 502838.8600005, 505525.9900007, 504094.5000008, 503484.8800008, 502919.45000079996, 502077.46000079997, 502907.8700008, 499547.17000080005, 494771.58000079996, 485056.8000008, 490284.66999880003, 488570.9399988, 488511.17999900004, 477525.879999, 477412.279999, 479404.389999, 484624.439999, 485121.66999900003, 494748.43999899994, 500325.14960252, 494135.62960251997, 499183.33960252005, 510885.37960251997, 523663.23960252, 520160.08960252005, 522127.8896025199, 521800.11960252, 538667.4396025201, 551420.60971251, 552183.23971251, 551924.5297125101, 565527.93067463]}, {\"name\": \"6m ~ 1y\", \"type\": \"scatter\", \"x\": [\"2009-01-09T00:00:00\", \"2009-01-10T00:00:00\", \"2009-01-11T00:00:00\", \"2009-01-12T00:00:00\", \"2009-01-13T00:00:00\", \"2009-01-14T00:00:00\", \"2009-01-15T00:00:00\", \"2009-01-16T00:00:00\", \"2009-01-17T00:00:00\", \"2009-01-18T00:00:00\", \"2009-01-19T00:00:00\", \"2009-01-20T00:00:00\", \"2009-01-21T00:00:00\", \"2009-01-22T00:00:00\", \"2009-01-23T00:00:00\", \"2009-01-24T00:00:00\", \"2009-01-25T00:00:00\", \"2009-01-26T00:00:00\", \"2009-01-27T00:00:00\", \"2009-01-28T00:00:00\", \"2009-01-29T00:00:00\", \"2009-01-30T00:00:00\", \"2009-01-31T00:00:00\", \"2009-02-01T00:00:00\", \"2009-02-02T00:00:00\", \"2009-02-03T00:00:00\", \"2009-02-04T00:00:00\", \"2009-02-05T00:00:00\", \"2009-02-06T00:00:00\", \"2009-02-07T00:00:00\", \"2009-02-08T00:00:00\", \"2009-02-09T00:00:00\", \"2009-02-10T00:00:00\", \"2009-02-11T00:00:00\", \"2009-02-12T00:00:00\", \"2009-02-13T00:00:00\", \"2009-02-14T00:00:00\", \"2009-02-15T00:00:00\", \"2009-02-16T00:00:00\", \"2009-02-17T00:00:00\", \"2009-02-18T00:00:00\", \"2009-02-19T00:00:00\", \"2009-02-20T00:00:00\", \"2009-02-21T00:00:00\", \"2009-02-22T00:00:00\", \"2009-02-23T00:00:00\", \"2009-02-24T00:00:00\", \"2009-02-25T00:00:00\", \"2009-02-26T00:00:00\", \"2009-02-27T00:00:00\", \"2009-02-28T00:00:00\", \"2009-03-01T00:00:00\", \"2009-03-02T00:00:00\", \"2009-03-03T00:00:00\", \"2009-03-04T00:00:00\", \"2009-03-05T00:00:00\", \"2009-03-06T00:00:00\", \"2009-03-07T00:00:00\", \"2009-03-08T00:00:00\", \"2009-03-09T00:00:00\", \"2009-03-10T00:00:00\", \"2009-03-11T00:00:00\", \"2009-03-12T00:00:00\", \"2009-03-13T00:00:00\", \"2009-03-14T00:00:00\", \"2009-03-15T00:00:00\", \"2009-03-16T00:00:00\", \"2009-03-17T00:00:00\", \"2009-03-18T00:00:00\", \"2009-03-19T00:00:00\", \"2009-03-20T00:00:00\", \"2009-03-21T00:00:00\", \"2009-03-22T00:00:00\", \"2009-03-23T00:00:00\", \"2009-03-24T00:00:00\", \"2009-03-25T00:00:00\", \"2009-03-26T00:00:00\", \"2009-03-27T00:00:00\", \"2009-03-28T00:00:00\", \"2009-03-29T00:00:00\", \"2009-03-30T00:00:00\", \"2009-03-31T00:00:00\", \"2009-04-01T00:00:00\", \"2009-04-02T00:00:00\", \"2009-04-03T00:00:00\", \"2009-04-04T00:00:00\", \"2009-04-05T00:00:00\", \"2009-04-06T00:00:00\", \"2009-04-07T00:00:00\", \"2009-04-08T00:00:00\", \"2009-04-09T00:00:00\", \"2009-04-10T00:00:00\", \"2009-04-11T00:00:00\", \"2009-04-12T00:00:00\", \"2009-04-13T00:00:00\", \"2009-04-14T00:00:00\", \"2009-04-15T00:00:00\", \"2009-04-16T00:00:00\", \"2009-04-17T00:00:00\", \"2009-04-18T00:00:00\", \"2009-04-19T00:00:00\", \"2009-04-20T00:00:00\", \"2009-04-21T00:00:00\", \"2009-04-22T00:00:00\", \"2009-04-23T00:00:00\", \"2009-04-24T00:00:00\", \"2009-04-25T00:00:00\", \"2009-04-26T00:00:00\", \"2009-04-27T00:00:00\", \"2009-04-28T00:00:00\", \"2009-04-29T00:00:00\", \"2009-04-30T00:00:00\", \"2009-05-01T00:00:00\", \"2009-05-02T00:00:00\", \"2009-05-03T00:00:00\", \"2009-05-04T00:00:00\", \"2009-05-05T00:00:00\", \"2009-05-06T00:00:00\", \"2009-05-07T00:00:00\", \"2009-05-08T00:00:00\", \"2009-05-09T00:00:00\", \"2009-05-10T00:00:00\", \"2009-05-11T00:00:00\", \"2009-05-12T00:00:00\", \"2009-05-13T00:00:00\", \"2009-05-14T00:00:00\", \"2009-05-15T00:00:00\", \"2009-05-16T00:00:00\", \"2009-05-17T00:00:00\", \"2009-05-18T00:00:00\", \"2009-05-19T00:00:00\", \"2009-05-20T00:00:00\", \"2009-05-21T00:00:00\", \"2009-05-22T00:00:00\", \"2009-05-23T00:00:00\", \"2009-05-24T00:00:00\", \"2009-05-25T00:00:00\", \"2009-05-26T00:00:00\", \"2009-05-27T00:00:00\", \"2009-05-28T00:00:00\", \"2009-05-29T00:00:00\", \"2009-05-30T00:00:00\", \"2009-05-31T00:00:00\", \"2009-06-01T00:00:00\", \"2009-06-02T00:00:00\", \"2009-06-03T00:00:00\", \"2009-06-04T00:00:00\", \"2009-06-05T00:00:00\", \"2009-06-06T00:00:00\", \"2009-06-07T00:00:00\", \"2009-06-08T00:00:00\", \"2009-06-09T00:00:00\", \"2009-06-10T00:00:00\", \"2009-06-11T00:00:00\", \"2009-06-12T00:00:00\", \"2009-06-13T00:00:00\", \"2009-06-14T00:00:00\", \"2009-06-15T00:00:00\", \"2009-06-16T00:00:00\", \"2009-06-17T00:00:00\", \"2009-06-18T00:00:00\", \"2009-06-19T00:00:00\", \"2009-06-20T00:00:00\", \"2009-06-21T00:00:00\", \"2009-06-22T00:00:00\", \"2009-06-23T00:00:00\", \"2009-06-24T00:00:00\", \"2009-06-25T00:00:00\", \"2009-06-26T00:00:00\", \"2009-06-27T00:00:00\", \"2009-06-28T00:00:00\", \"2009-06-29T00:00:00\", \"2009-06-30T00:00:00\", \"2009-07-01T00:00:00\", \"2009-07-02T00:00:00\", \"2009-07-03T00:00:00\", \"2009-07-04T00:00:00\", \"2009-07-05T00:00:00\", \"2009-07-06T00:00:00\", \"2009-07-07T00:00:00\", \"2009-07-08T00:00:00\", \"2009-07-09T00:00:00\", \"2009-07-10T00:00:00\", \"2009-07-11T00:00:00\", \"2009-07-12T00:00:00\", \"2009-07-13T00:00:00\", \"2009-07-14T00:00:00\", \"2009-07-15T00:00:00\", \"2009-07-16T00:00:00\", \"2009-07-17T00:00:00\", \"2009-07-18T00:00:00\", \"2009-07-19T00:00:00\", \"2009-07-20T00:00:00\", \"2009-07-21T00:00:00\", \"2009-07-22T00:00:00\", \"2009-07-23T00:00:00\", \"2009-07-24T00:00:00\", \"2009-07-25T00:00:00\", \"2009-07-26T00:00:00\", \"2009-07-27T00:00:00\", \"2009-07-28T00:00:00\", \"2009-07-29T00:00:00\", \"2009-07-30T00:00:00\", \"2009-07-31T00:00:00\", \"2009-08-01T00:00:00\", \"2009-08-02T00:00:00\", \"2009-08-03T00:00:00\", \"2009-08-04T00:00:00\", \"2009-08-05T00:00:00\", \"2009-08-06T00:00:00\", \"2009-08-07T00:00:00\", \"2009-08-08T00:00:00\", \"2009-08-09T00:00:00\", \"2009-08-10T00:00:00\", \"2009-08-11T00:00:00\", \"2009-08-12T00:00:00\", \"2009-08-13T00:00:00\", \"2009-08-14T00:00:00\", \"2009-08-15T00:00:00\", \"2009-08-16T00:00:00\", \"2009-08-17T00:00:00\", \"2009-08-18T00:00:00\", \"2009-08-19T00:00:00\", \"2009-08-20T00:00:00\", \"2009-08-21T00:00:00\", \"2009-08-22T00:00:00\", \"2009-08-23T00:00:00\", \"2009-08-24T00:00:00\", \"2009-08-25T00:00:00\", \"2009-08-26T00:00:00\", \"2009-08-27T00:00:00\", \"2009-08-28T00:00:00\", \"2009-08-29T00:00:00\", \"2009-08-30T00:00:00\", \"2009-08-31T00:00:00\", \"2009-09-01T00:00:00\", \"2009-09-02T00:00:00\", \"2009-09-03T00:00:00\", \"2009-09-04T00:00:00\", \"2009-09-05T00:00:00\", \"2009-09-06T00:00:00\", \"2009-09-07T00:00:00\", \"2009-09-08T00:00:00\", \"2009-09-09T00:00:00\", \"2009-09-10T00:00:00\", \"2009-09-11T00:00:00\", \"2009-09-12T00:00:00\", \"2009-09-13T00:00:00\", \"2009-09-14T00:00:00\", \"2009-09-15T00:00:00\", \"2009-09-16T00:00:00\", \"2009-09-17T00:00:00\", \"2009-09-18T00:00:00\", \"2009-09-19T00:00:00\", \"2009-09-20T00:00:00\", \"2009-09-21T00:00:00\", \"2009-09-22T00:00:00\", \"2009-09-23T00:00:00\", \"2009-09-24T00:00:00\", \"2009-09-25T00:00:00\", \"2009-09-26T00:00:00\", \"2009-09-27T00:00:00\", \"2009-09-28T00:00:00\", \"2009-09-29T00:00:00\", \"2009-09-30T00:00:00\", \"2009-10-01T00:00:00\", \"2009-10-02T00:00:00\", \"2009-10-03T00:00:00\", \"2009-10-04T00:00:00\", \"2009-10-05T00:00:00\", \"2009-10-06T00:00:00\", \"2009-10-07T00:00:00\", \"2009-10-08T00:00:00\", \"2009-10-09T00:00:00\", \"2009-10-10T00:00:00\", \"2009-10-11T00:00:00\", \"2009-10-12T00:00:00\", \"2009-10-13T00:00:00\", \"2009-10-14T00:00:00\", \"2009-10-15T00:00:00\", \"2009-10-16T00:00:00\", \"2009-10-17T00:00:00\", \"2009-10-18T00:00:00\", \"2009-10-19T00:00:00\", \"2009-10-20T00:00:00\", \"2009-10-21T00:00:00\", \"2009-10-22T00:00:00\", \"2009-10-23T00:00:00\", \"2009-10-24T00:00:00\", \"2009-10-25T00:00:00\", \"2009-10-26T00:00:00\", \"2009-10-27T00:00:00\", \"2009-10-28T00:00:00\", \"2009-10-29T00:00:00\", \"2009-10-30T00:00:00\", \"2009-10-31T00:00:00\", \"2009-11-01T00:00:00\", \"2009-11-02T00:00:00\", \"2009-11-03T00:00:00\", \"2009-11-04T00:00:00\", \"2009-11-05T00:00:00\", \"2009-11-06T00:00:00\", \"2009-11-07T00:00:00\", \"2009-11-08T00:00:00\", \"2009-11-09T00:00:00\", \"2009-11-10T00:00:00\", \"2009-11-11T00:00:00\", \"2009-11-12T00:00:00\", \"2009-11-13T00:00:00\", \"2009-11-14T00:00:00\", \"2009-11-15T00:00:00\", \"2009-11-16T00:00:00\", \"2009-11-17T00:00:00\", \"2009-11-18T00:00:00\", \"2009-11-19T00:00:00\", \"2009-11-20T00:00:00\", \"2009-11-21T00:00:00\", \"2009-11-22T00:00:00\", \"2009-11-23T00:00:00\", \"2009-11-24T00:00:00\", \"2009-11-25T00:00:00\", \"2009-11-26T00:00:00\", \"2009-11-27T00:00:00\", \"2009-11-28T00:00:00\", \"2009-11-29T00:00:00\", \"2009-11-30T00:00:00\", \"2009-12-01T00:00:00\", \"2009-12-02T00:00:00\", \"2009-12-03T00:00:00\", \"2009-12-04T00:00:00\", \"2009-12-05T00:00:00\", \"2009-12-06T00:00:00\", \"2009-12-07T00:00:00\", \"2009-12-08T00:00:00\", \"2009-12-09T00:00:00\", \"2009-12-10T00:00:00\", \"2009-12-11T00:00:00\", \"2009-12-12T00:00:00\", \"2009-12-13T00:00:00\", \"2009-12-14T00:00:00\", \"2009-12-15T00:00:00\", \"2009-12-16T00:00:00\", \"2009-12-17T00:00:00\", \"2009-12-18T00:00:00\", \"2009-12-19T00:00:00\", \"2009-12-20T00:00:00\", \"2009-12-21T00:00:00\", \"2009-12-22T00:00:00\", \"2009-12-23T00:00:00\", \"2009-12-24T00:00:00\", \"2009-12-25T00:00:00\", \"2009-12-26T00:00:00\", \"2009-12-27T00:00:00\", \"2009-12-28T00:00:00\", \"2009-12-29T00:00:00\", \"2009-12-30T00:00:00\", \"2009-12-31T00:00:00\", \"2010-01-01T00:00:00\", \"2010-01-02T00:00:00\", \"2010-01-03T00:00:00\", \"2010-01-04T00:00:00\", \"2010-01-05T00:00:00\", \"2010-01-06T00:00:00\", \"2010-01-07T00:00:00\", \"2010-01-08T00:00:00\", \"2010-01-09T00:00:00\", \"2010-01-10T00:00:00\", \"2010-01-11T00:00:00\", \"2010-01-12T00:00:00\", \"2010-01-13T00:00:00\", \"2010-01-14T00:00:00\", \"2010-01-15T00:00:00\", \"2010-01-16T00:00:00\", \"2010-01-17T00:00:00\", \"2010-01-18T00:00:00\", \"2010-01-19T00:00:00\", \"2010-01-20T00:00:00\", \"2010-01-21T00:00:00\", \"2010-01-22T00:00:00\", \"2010-01-23T00:00:00\", \"2010-01-24T00:00:00\", \"2010-01-25T00:00:00\", \"2010-01-26T00:00:00\", \"2010-01-27T00:00:00\", \"2010-01-28T00:00:00\", \"2010-01-29T00:00:00\", \"2010-01-30T00:00:00\", \"2010-01-31T00:00:00\", \"2010-02-01T00:00:00\", \"2010-02-02T00:00:00\", \"2010-02-03T00:00:00\", \"2010-02-04T00:00:00\", \"2010-02-05T00:00:00\", \"2010-02-06T00:00:00\", \"2010-02-07T00:00:00\", \"2010-02-08T00:00:00\", \"2010-02-09T00:00:00\", \"2010-02-10T00:00:00\", \"2010-02-11T00:00:00\", \"2010-02-12T00:00:00\", \"2010-02-13T00:00:00\", \"2010-02-14T00:00:00\", \"2010-02-15T00:00:00\", \"2010-02-16T00:00:00\", \"2010-02-17T00:00:00\", \"2010-02-18T00:00:00\", \"2010-02-19T00:00:00\", \"2010-02-20T00:00:00\", \"2010-02-21T00:00:00\", \"2010-02-22T00:00:00\", \"2010-02-23T00:00:00\", \"2010-02-24T00:00:00\", \"2010-02-25T00:00:00\", \"2010-02-26T00:00:00\", \"2010-02-27T00:00:00\", \"2010-02-28T00:00:00\", \"2010-03-01T00:00:00\", \"2010-03-02T00:00:00\", \"2010-03-03T00:00:00\", \"2010-03-04T00:00:00\", \"2010-03-05T00:00:00\", \"2010-03-06T00:00:00\", \"2010-03-07T00:00:00\", \"2010-03-08T00:00:00\", \"2010-03-09T00:00:00\", \"2010-03-10T00:00:00\", \"2010-03-11T00:00:00\", \"2010-03-12T00:00:00\", \"2010-03-13T00:00:00\", \"2010-03-14T00:00:00\", \"2010-03-15T00:00:00\", \"2010-03-16T00:00:00\", \"2010-03-17T00:00:00\", \"2010-03-18T00:00:00\", \"2010-03-19T00:00:00\", \"2010-03-20T00:00:00\", \"2010-03-21T00:00:00\", \"2010-03-22T00:00:00\", \"2010-03-23T00:00:00\", \"2010-03-24T00:00:00\", \"2010-03-25T00:00:00\", \"2010-03-26T00:00:00\", \"2010-03-27T00:00:00\", \"2010-03-28T00:00:00\", \"2010-03-29T00:00:00\", \"2010-03-30T00:00:00\", \"2010-03-31T00:00:00\", \"2010-04-01T00:00:00\", \"2010-04-02T00:00:00\", \"2010-04-03T00:00:00\", \"2010-04-04T00:00:00\", \"2010-04-05T00:00:00\", \"2010-04-06T00:00:00\", \"2010-04-07T00:00:00\", \"2010-04-08T00:00:00\", \"2010-04-09T00:00:00\", \"2010-04-10T00:00:00\", \"2010-04-11T00:00:00\", \"2010-04-12T00:00:00\", \"2010-04-13T00:00:00\", \"2010-04-14T00:00:00\", \"2010-04-15T00:00:00\", \"2010-04-16T00:00:00\", \"2010-04-17T00:00:00\", \"2010-04-18T00:00:00\", \"2010-04-19T00:00:00\", \"2010-04-20T00:00:00\", \"2010-04-21T00:00:00\", \"2010-04-22T00:00:00\", \"2010-04-23T00:00:00\", \"2010-04-24T00:00:00\", \"2010-04-25T00:00:00\", \"2010-04-26T00:00:00\", \"2010-04-27T00:00:00\", \"2010-04-28T00:00:00\", \"2010-04-29T00:00:00\", \"2010-04-30T00:00:00\", \"2010-05-01T00:00:00\", \"2010-05-02T00:00:00\", \"2010-05-03T00:00:00\", \"2010-05-04T00:00:00\", \"2010-05-05T00:00:00\", \"2010-05-06T00:00:00\", \"2010-05-07T00:00:00\", \"2010-05-08T00:00:00\", \"2010-05-09T00:00:00\", \"2010-05-10T00:00:00\", \"2010-05-11T00:00:00\", \"2010-05-12T00:00:00\", \"2010-05-13T00:00:00\", \"2010-05-14T00:00:00\", \"2010-05-15T00:00:00\", \"2010-05-16T00:00:00\", \"2010-05-17T00:00:00\", \"2010-05-18T00:00:00\", \"2010-05-19T00:00:00\", \"2010-05-20T00:00:00\", \"2010-05-21T00:00:00\", \"2010-05-22T00:00:00\", \"2010-05-23T00:00:00\", \"2010-05-24T00:00:00\", \"2010-05-25T00:00:00\", \"2010-05-26T00:00:00\", \"2010-05-27T00:00:00\", \"2010-05-28T00:00:00\", \"2010-05-29T00:00:00\", \"2010-05-30T00:00:00\", \"2010-05-31T00:00:00\", \"2010-06-01T00:00:00\", \"2010-06-02T00:00:00\", \"2010-06-03T00:00:00\", \"2010-06-04T00:00:00\", \"2010-06-05T00:00:00\", \"2010-06-06T00:00:00\", \"2010-06-07T00:00:00\", \"2010-06-08T00:00:00\", \"2010-06-09T00:00:00\", \"2010-06-10T00:00:00\", \"2010-06-11T00:00:00\", \"2010-06-12T00:00:00\", \"2010-06-13T00:00:00\", \"2010-06-14T00:00:00\", \"2010-06-15T00:00:00\", \"2010-06-16T00:00:00\", \"2010-06-17T00:00:00\", \"2010-06-18T00:00:00\", \"2010-06-19T00:00:00\", \"2010-06-20T00:00:00\", \"2010-06-21T00:00:00\", \"2010-06-22T00:00:00\", \"2010-06-23T00:00:00\", \"2010-06-24T00:00:00\", \"2010-06-25T00:00:00\", \"2010-06-26T00:00:00\", \"2010-06-27T00:00:00\", \"2010-06-28T00:00:00\", \"2010-06-29T00:00:00\", \"2010-06-30T00:00:00\", \"2010-07-01T00:00:00\", \"2010-07-02T00:00:00\", \"2010-07-03T00:00:00\", \"2010-07-04T00:00:00\", \"2010-07-05T00:00:00\", \"2010-07-06T00:00:00\", \"2010-07-07T00:00:00\", \"2010-07-08T00:00:00\", \"2010-07-09T00:00:00\", \"2010-07-10T00:00:00\", \"2010-07-11T00:00:00\", \"2010-07-12T00:00:00\", \"2010-07-13T00:00:00\", \"2010-07-14T00:00:00\", \"2010-07-15T00:00:00\", \"2010-07-16T00:00:00\", \"2010-07-17T00:00:00\", \"2010-07-18T00:00:00\", \"2010-07-19T00:00:00\", \"2010-07-20T00:00:00\", \"2010-07-21T00:00:00\", \"2010-07-22T00:00:00\", \"2010-07-23T00:00:00\", \"2010-07-24T00:00:00\", \"2010-07-25T00:00:00\", \"2010-07-26T00:00:00\", \"2010-07-27T00:00:00\", \"2010-07-28T00:00:00\", \"2010-07-29T00:00:00\", \"2010-07-30T00:00:00\", \"2010-07-31T00:00:00\", \"2010-08-01T00:00:00\", \"2010-08-02T00:00:00\", \"2010-08-03T00:00:00\", \"2010-08-04T00:00:00\", \"2010-08-05T00:00:00\", \"2010-08-06T00:00:00\", \"2010-08-07T00:00:00\", \"2010-08-08T00:00:00\", \"2010-08-09T00:00:00\", \"2010-08-10T00:00:00\", \"2010-08-11T00:00:00\", \"2010-08-12T00:00:00\", \"2010-08-13T00:00:00\", \"2010-08-14T00:00:00\", \"2010-08-15T00:00:00\", \"2010-08-16T00:00:00\", \"2010-08-17T00:00:00\", \"2010-08-18T00:00:00\", \"2010-08-19T00:00:00\", \"2010-08-20T00:00:00\", \"2010-08-21T00:00:00\", \"2010-08-22T00:00:00\", \"2010-08-23T00:00:00\", \"2010-08-24T00:00:00\", \"2010-08-25T00:00:00\", \"2010-08-26T00:00:00\", \"2010-08-27T00:00:00\", \"2010-08-28T00:00:00\", \"2010-08-29T00:00:00\", \"2010-08-30T00:00:00\", \"2010-08-31T00:00:00\", \"2010-09-01T00:00:00\", \"2010-09-02T00:00:00\", \"2010-09-03T00:00:00\", \"2010-09-04T00:00:00\", \"2010-09-05T00:00:00\", \"2010-09-06T00:00:00\", \"2010-09-07T00:00:00\", \"2010-09-08T00:00:00\", \"2010-09-09T00:00:00\", \"2010-09-10T00:00:00\", \"2010-09-11T00:00:00\", \"2010-09-12T00:00:00\", \"2010-09-13T00:00:00\", \"2010-09-14T00:00:00\", \"2010-09-15T00:00:00\", \"2010-09-16T00:00:00\", \"2010-09-17T00:00:00\", \"2010-09-18T00:00:00\", \"2010-09-19T00:00:00\", \"2010-09-20T00:00:00\", \"2010-09-21T00:00:00\", \"2010-09-22T00:00:00\", \"2010-09-23T00:00:00\", \"2010-09-24T00:00:00\", \"2010-09-25T00:00:00\", \"2010-09-26T00:00:00\", \"2010-09-27T00:00:00\", \"2010-09-28T00:00:00\", \"2010-09-29T00:00:00\", \"2010-09-30T00:00:00\", \"2010-10-01T00:00:00\", \"2010-10-02T00:00:00\", \"2010-10-03T00:00:00\", \"2010-10-04T00:00:00\", \"2010-10-05T00:00:00\", \"2010-10-06T00:00:00\", \"2010-10-07T00:00:00\", \"2010-10-08T00:00:00\", \"2010-10-09T00:00:00\", \"2010-10-10T00:00:00\", \"2010-10-11T00:00:00\", \"2010-10-12T00:00:00\", \"2010-10-13T00:00:00\", \"2010-10-14T00:00:00\", \"2010-10-15T00:00:00\", \"2010-10-16T00:00:00\", \"2010-10-17T00:00:00\", \"2010-10-18T00:00:00\", \"2010-10-19T00:00:00\", \"2010-10-20T00:00:00\", \"2010-10-21T00:00:00\", \"2010-10-22T00:00:00\", \"2010-10-23T00:00:00\", \"2010-10-24T00:00:00\", \"2010-10-25T00:00:00\", \"2010-10-26T00:00:00\", \"2010-10-27T00:00:00\", \"2010-10-28T00:00:00\", \"2010-10-29T00:00:00\", \"2010-10-30T00:00:00\", \"2010-10-31T00:00:00\", \"2010-11-01T00:00:00\", \"2010-11-02T00:00:00\", \"2010-11-03T00:00:00\", \"2010-11-04T00:00:00\", \"2010-11-05T00:00:00\", \"2010-11-06T00:00:00\", \"2010-11-07T00:00:00\", \"2010-11-08T00:00:00\", \"2010-11-09T00:00:00\", \"2010-11-10T00:00:00\", \"2010-11-11T00:00:00\", \"2010-11-12T00:00:00\", \"2010-11-13T00:00:00\", \"2010-11-14T00:00:00\", \"2010-11-15T00:00:00\", \"2010-11-16T00:00:00\", \"2010-11-17T00:00:00\", \"2010-11-18T00:00:00\", \"2010-11-19T00:00:00\", \"2010-11-20T00:00:00\", \"2010-11-21T00:00:00\", \"2010-11-22T00:00:00\", \"2010-11-23T00:00:00\", \"2010-11-24T00:00:00\", \"2010-11-25T00:00:00\", \"2010-11-26T00:00:00\", \"2010-11-27T00:00:00\", \"2010-11-28T00:00:00\", \"2010-11-29T00:00:00\", \"2010-11-30T00:00:00\", \"2010-12-01T00:00:00\", \"2010-12-02T00:00:00\", \"2010-12-03T00:00:00\", \"2010-12-04T00:00:00\", \"2010-12-05T00:00:00\", \"2010-12-06T00:00:00\", \"2010-12-07T00:00:00\", \"2010-12-08T00:00:00\", \"2010-12-09T00:00:00\", \"2010-12-10T00:00:00\", \"2010-12-11T00:00:00\", \"2010-12-12T00:00:00\", \"2010-12-13T00:00:00\", \"2010-12-14T00:00:00\", \"2010-12-15T00:00:00\", \"2010-12-16T00:00:00\", \"2010-12-17T00:00:00\", \"2010-12-18T00:00:00\", \"2010-12-19T00:00:00\", \"2010-12-20T00:00:00\", \"2010-12-21T00:00:00\", \"2010-12-22T00:00:00\", \"2010-12-23T00:00:00\", \"2010-12-24T00:00:00\", \"2010-12-25T00:00:00\", \"2010-12-26T00:00:00\", \"2010-12-27T00:00:00\", \"2010-12-28T00:00:00\", \"2010-12-29T00:00:00\", \"2010-12-30T00:00:00\", \"2010-12-31T00:00:00\"], \"y\": [0.0, 0.0, 0.0, 0.0, 0.0, 0.0, 0.0, 0.0, 0.0, 0.0, 0.0, 0.0, 0.0, 0.0, 0.0, 0.0, 0.0, 0.0, 0.0, 0.0, 0.0, 0.0, 0.0, 0.0, 0.0, 0.0, 0.0, 0.0, 0.0, 0.0, 0.0, 0.0, 0.0, 0.0, 0.0, 0.0, 0.0, 0.0, 0.0, 0.0, 0.0, 0.0, 0.0, 0.0, 0.0, 0.0, 0.0, 0.0, 0.0, 0.0, 0.0, 0.0, 0.0, 0.0, 0.0, 0.0, 0.0, 0.0, 0.0, 0.0, 0.0, 0.0, 0.0, 0.0, 0.0, 0.0, 0.0, 0.0, 0.0, 0.0, 0.0, 0.0, 0.0, 0.0, 0.0, 0.0, 0.0, 0.0, 0.0, 0.0, 0.0, 0.0, 0.0, 0.0, 0.0, 0.0, 0.0, 0.0, 0.0, 0.0, 0.0, 0.0, 0.0, 0.0, 0.0, 0.0, 0.0, 0.0, 0.0, 0.0, 0.0, 0.0, 0.0, 0.0, 0.0, 0.0, 0.0, 0.0, 0.0, 0.0, 0.0, 0.0, 0.0, 0.0, 0.0, 0.0, 0.0, 0.0, 0.0, 0.0, 0.0, 0.0, 0.0, 0.0, 0.0, 0.0, 0.0, 0.0, 0.0, 0.0, 0.0, 0.0, 0.0, 0.0, 0.0, 0.0, 0.0, 0.0, 0.0, 0.0, 0.0, 0.0, 0.0, 0.0, 0.0, 0.0, 0.0, 0.0, 0.0, 0.0, 0.0, 0.0, 0.0, 0.0, 0.0, 0.0, 0.0, 0.0, 0.0, 0.0, 0.0, 0.0, 0.0, 0.0, 0.0, 0.0, 0.0, 0.0, 0.0, 0.0, 0.0, 0.0, 0.0, 0.0, 0.0, 0.0, 0.0, 0.0, 0.0, 0.0, 0.0, 0.0, 650.0, 3700.0, 8350.0, 13089.0, 18889.0, 24600.0, 30875.0, 36125.0, 40875.0, 45925.0, 51950.0, 57550.0, 62400.0, 67100.0, 71450.0, 81450.0, 90550.0, 95900.0, 100650.0, 105950.0, 112400.0, 117850.0, 124200.0, 129750.0, 135700.0, 142699.96, 148349.96, 154449.96, 160399.96, 167449.96, 174649.96, 183349.96, 189249.96000000002, 196100.0, 201800.0, 207650.0, 214000.0, 220550.0, 227750.0, 233250.0, 238950.0, 245550.0, 251300.0, 256750.0, 262750.0, 267650.0, 272800.0, 277800.0, 282950.0, 290150.0, 295350.0, 300100.0, 305050.0, 310150.0, 316050.32999999996, 321400.33, 326400.33, 331200.32999999996, 337650.32999999996, 342450.32999999996, 347350.32999999996, 352700.32999999996, 358250.32999999996, 364400.32999999996, 369850.32999999996, 375800.33, 384000.32999999996, 389300.33, 395400.33, 401100.33, 407200.33, 409150.33, 415050.33, 421300.33, 426250.33, 431600.33, 438550.33, 443300.33, 449750.33, 455200.33, 460450.33, 467200.33, 472550.33, 477900.33, 483200.33, 488400.33, 495150.33, 500250.33, 505000.33, 509950.33, 514500.33, 519600.33, 525200.3300000001, 531450.3300000001, 536950.3300000001, 542650.3300000001, 548150.3300000001, 554100.3300000001, 559700.3300000001, 565950.3300000001, 572250.3300000001, 583750.3300000001, 589550.3300000001, 595150.3300000001, 598650.3300000001, 604100.3300000001, 609650.3300000001, 615900.3300000001, 621050.3300000001, 626600.3300000001, 633600.3300000001, 639750.3300000001, 645250.3300000001, 651850.3300000001, 656950.3300000001, 664500.3300000001, 671550.3300000001, 678100.3300000001, 684200.3300000001, 689500.3300000001, 693250.3300000001, 697400.3300000001, 703450.3300000001, 709950.3300000001, 715501.3400000001, 722501.3400000001, 729301.3400000001, 734951.3400000001, 741101.3400000001, 746801.3400000001, 750851.3400000001, 756351.3400000001, 760251.3400000001, 763151.3400000001, 764701.3400000001, 769451.3400000001, 774651.3400000001, 780651.3400000001, 786401.3400000001, 791001.3400000001, 799001.3400000001, 804051.3400000001, 808451.3400000001, 811701.3500000001, 815251.3500000001, 818801.3500000001, 822051.3500000001, 823551.3500000001, 824951.3500000001, 825751.3500000001, 829851.3500000001, 834151.3500000001, 838051.3500000001, 842051.3500000001, 846101.3500000001, 849801.3500000001, 853151.3500000001, 857001.3500000001, 860501.3500000001, 864451.3500000001, 868200.3400000001, 872200.3400000001, 875800.3400000001, 879750.3400000001, 886450.3400000001, 889950.3400000001, 894450.3300000001, 898600.3300000001, 902850.3300000001, 906600.3300000001, 908675.3300000001, 912305.3300000001, 916000.3300000001, 919600.3300000001, 923500.3300000001, 927050.3300000001, 931100.3300000001, 934750.3300000001, 938800.3300000001, 942050.3300000001, 945500.3300000001, 949350.3300000001, 953150.3300000001, 956300.3300000001, 956900.3300000001, 955600.3300000001, 954061.3300000001, 950211.3300000001, 947750.3300000001, 943575.3300000001, 938525.3300000001, 936925.3300000001, 940975.4700000001, 938800.4700000001, 936050.4700000001, 934600.4700000001, 933300.4700000001, 930350.4700000001, 920900.4700000001, 915250.4700000001, 911450.4700000001, 907500.4700000001, 902650.4700000001, 896850.4700000001, 892250.4700000001, 886550.47, 881300.47, 879050.47, 876050.51, 874350.51, 877150.51, 874950.51, 872300.51, 868450.51, 863100.51, 860250.51, 857250.47, 854600.47, 849950.47, 844500.47, 838750.47, 832000.47, 827350.47, 822550.47, 816500.47, 811100.47, 806400.47, 801150.47, 798750.47, 798249.0, 794499.0, 792549.0, 788799.0, 787349.0, 786549.0, 784949.0, 782849.0, 779798.6699999999, 776998.6699999999, 775148.6699999999, 773548.6699999999, 770448.6699999999, 768598.6699999999, 766398.6699999999, 764098.6699999999, 761498.6699999999, 758198.6699999999, 755798.6699999999, 753248.6699999999, 747048.6699999999, 744849.6699999999, 747549.79, 745399.79, 742649.79, 744349.79, 741649.79, 738099.79, 734849.79, 733149.79, 730749.79, 729999.79, 727049.79, 725349.79, 725599.79, 722549.79, 720799.79, 718499.79, 715299.79, 711949.79, 707449.79, 703699.79, 701199.79, 698999.79, 697699.79, 695849.79, 693149.79, 689099.79, 685749.79, 682849.79, 655849.79, 652449.79, 649149.79, 646099.79, 644799.79, 641899.91, 640499.67, 638649.67, 638999.67, 635849.67, 632799.67, 629299.67, 627099.6699999999, 623899.6699999999, 619699.6699999999, 615549.6699999999, 611299.6699999999, 605449.6699999999, 601899.67, 596799.67, 592449.67, 588349.6699999999, 584849.6699999999, 581949.6699999999, 580849.6699999999, 579399.6699999999, 576099.6699999999, 571999.6699999999, 569199.6699999999, 565099.6699999999, 561299.6699999999, 558949.6699999999, 556249.6699999999, 553699.6699999999, 551899.6699999999, 571549.6699999999, 570899.6699999999, 570649.67, 572649.67, 571249.67, 569349.67, 566799.67, 564199.67, 562699.67, 557449.67, 554849.67, 553049.67, 552849.88, 551199.88, 550299.88, 547749.88, 548895.53, 549745.53, 551695.53, 550595.53, 549148.53, 548098.53, 548748.53, 549298.53, 550398.53, 549048.53, 555448.53, 557548.53, 559948.53, 565198.53, 568148.53, 570698.53, 573998.53, 573648.53, 576948.53, 578798.54, 580398.54, 582898.54, 586348.54, 589663.54, 592683.54, 594188.54, 596138.54, 595448.54, 595698.54, 596698.54, 597548.54, 598748.54, 599848.54, 599798.54, 599348.54, 599248.54, 600748.54, 601448.54, 613398.8, 613993.8, 611393.8, 610694.54, 611145.54, 611395.54, 610895.54, 605495.4, 602545.4, 603495.4, 602045.4, 601845.4, 603695.4, 597544.4, 592344.4, 594044.4, 596944.4, 600644.4, 602494.4, 603794.4, 606994.4, 610644.4, 611294.4, 613794.4, 625443.4, 616593.4, 614793.4, 618493.4, 619543.5800000001, 649843.5800000001, 653243.5800000001, 655343.5800000001, 657292.5800000001, 662242.5800000001, 668392.5800000001, 671842.5800000001, 698603.5800000001, 702853.5800000001, 705003.5800000001, 708303.5800000001, 717556.15, 725656.15, 730006.15, 731606.15, 736157.62, 745197.62, 745798.62, 750549.62, 751649.62, 751899.62, 756449.62, 757249.62, 756749.62, 779649.62, 784754.0, 783938.58, 783638.58, 785388.58, 786438.58, 785588.58, 785588.58, 785038.58, 784488.58, 783588.58, 784088.58, 784137.58, 770387.46, 770557.46, 770058.46, 770508.46, 771158.46, 770608.46, 772157.46, 773655.3200000001, 772205.3200000001, 771355.3200000001, 761655.3200000001, 740905.2, 738355.2, 737105.2, 714105.2, 712955.2, 713755.2, 713785.7899999999, 693072.4199999999, 693672.4199999999, 693276.1599999999, 687576.8499999999, 686976.8499999999, 688026.8499999999, 688126.9099999999, 688486.8999999999, 674886.8999999999, 676005.8999999999, 675222.7, 660872.7, 664247.97, 664653.57, 665348.57, 659894.57, 669149.8099999999, 668012.8699999999, 666812.8699999999, 666877.87, 667082.01, 666882.01, 667532.11, 661582.11, 660175.3200000001, 660677.3200000001, 662079.3200000001, 662169.3200000001, 663169.3200000001, 663469.3200000001, 664269.32, 663919.32, 663819.32, 664069.3199999998, 664120.32, 661620.38, 665320.38, 664920.88, 664828.43, 663528.43, 660281.0700000001, 628382.0700000001, 627025.07, 628478.98, 628128.98, 651078.98, 650379.7, 652929.7, 653134.7, 652844.7, 651593.7, 654984.7, 655584.7, 656534.7, 656884.7, 657984.7, 657334.7, 656934.51, 653745.6799999999, 654432.68, 655782.68, 655987.03, 657237.03, 654687.03, 659879.19, 669994.54, 669953.54, 669952.54, 668852.54, 670752.55, 672714.5499999998, 665604.5399999998, 664159.5399999998, 661262.8799999999, 656685.88, 653285.88, 650666.8799999999, 623274.7999999999, 621539.7999999999, 623084.7999999998, 623639.7999999999, 622959.8, 620114.7999999999, 615739.8, 615439.8, 613065.18, 612425.1799999999, 611919.19]}, {\"name\": \"1y ~ 2y\", \"type\": \"scatter\", \"x\": [\"2009-01-09T00:00:00\", \"2009-01-10T00:00:00\", \"2009-01-11T00:00:00\", \"2009-01-12T00:00:00\", \"2009-01-13T00:00:00\", \"2009-01-14T00:00:00\", \"2009-01-15T00:00:00\", \"2009-01-16T00:00:00\", \"2009-01-17T00:00:00\", \"2009-01-18T00:00:00\", \"2009-01-19T00:00:00\", \"2009-01-20T00:00:00\", \"2009-01-21T00:00:00\", \"2009-01-22T00:00:00\", \"2009-01-23T00:00:00\", \"2009-01-24T00:00:00\", \"2009-01-25T00:00:00\", \"2009-01-26T00:00:00\", \"2009-01-27T00:00:00\", \"2009-01-28T00:00:00\", \"2009-01-29T00:00:00\", \"2009-01-30T00:00:00\", \"2009-01-31T00:00:00\", \"2009-02-01T00:00:00\", \"2009-02-02T00:00:00\", \"2009-02-03T00:00:00\", \"2009-02-04T00:00:00\", \"2009-02-05T00:00:00\", \"2009-02-06T00:00:00\", \"2009-02-07T00:00:00\", \"2009-02-08T00:00:00\", \"2009-02-09T00:00:00\", \"2009-02-10T00:00:00\", \"2009-02-11T00:00:00\", \"2009-02-12T00:00:00\", \"2009-02-13T00:00:00\", \"2009-02-14T00:00:00\", \"2009-02-15T00:00:00\", \"2009-02-16T00:00:00\", \"2009-02-17T00:00:00\", \"2009-02-18T00:00:00\", \"2009-02-19T00:00:00\", \"2009-02-20T00:00:00\", \"2009-02-21T00:00:00\", \"2009-02-22T00:00:00\", \"2009-02-23T00:00:00\", \"2009-02-24T00:00:00\", \"2009-02-25T00:00:00\", \"2009-02-26T00:00:00\", \"2009-02-27T00:00:00\", \"2009-02-28T00:00:00\", \"2009-03-01T00:00:00\", \"2009-03-02T00:00:00\", \"2009-03-03T00:00:00\", \"2009-03-04T00:00:00\", \"2009-03-05T00:00:00\", \"2009-03-06T00:00:00\", \"2009-03-07T00:00:00\", \"2009-03-08T00:00:00\", \"2009-03-09T00:00:00\", \"2009-03-10T00:00:00\", \"2009-03-11T00:00:00\", \"2009-03-12T00:00:00\", \"2009-03-13T00:00:00\", \"2009-03-14T00:00:00\", \"2009-03-15T00:00:00\", \"2009-03-16T00:00:00\", \"2009-03-17T00:00:00\", \"2009-03-18T00:00:00\", \"2009-03-19T00:00:00\", \"2009-03-20T00:00:00\", \"2009-03-21T00:00:00\", \"2009-03-22T00:00:00\", \"2009-03-23T00:00:00\", \"2009-03-24T00:00:00\", \"2009-03-25T00:00:00\", \"2009-03-26T00:00:00\", \"2009-03-27T00:00:00\", \"2009-03-28T00:00:00\", \"2009-03-29T00:00:00\", \"2009-03-30T00:00:00\", \"2009-03-31T00:00:00\", \"2009-04-01T00:00:00\", \"2009-04-02T00:00:00\", \"2009-04-03T00:00:00\", \"2009-04-04T00:00:00\", \"2009-04-05T00:00:00\", \"2009-04-06T00:00:00\", \"2009-04-07T00:00:00\", \"2009-04-08T00:00:00\", \"2009-04-09T00:00:00\", \"2009-04-10T00:00:00\", \"2009-04-11T00:00:00\", \"2009-04-12T00:00:00\", \"2009-04-13T00:00:00\", \"2009-04-14T00:00:00\", \"2009-04-15T00:00:00\", \"2009-04-16T00:00:00\", \"2009-04-17T00:00:00\", \"2009-04-18T00:00:00\", \"2009-04-19T00:00:00\", \"2009-04-20T00:00:00\", \"2009-04-21T00:00:00\", \"2009-04-22T00:00:00\", \"2009-04-23T00:00:00\", \"2009-04-24T00:00:00\", \"2009-04-25T00:00:00\", \"2009-04-26T00:00:00\", \"2009-04-27T00:00:00\", \"2009-04-28T00:00:00\", \"2009-04-29T00:00:00\", \"2009-04-30T00:00:00\", \"2009-05-01T00:00:00\", \"2009-05-02T00:00:00\", \"2009-05-03T00:00:00\", \"2009-05-04T00:00:00\", \"2009-05-05T00:00:00\", \"2009-05-06T00:00:00\", \"2009-05-07T00:00:00\", \"2009-05-08T00:00:00\", \"2009-05-09T00:00:00\", \"2009-05-10T00:00:00\", \"2009-05-11T00:00:00\", \"2009-05-12T00:00:00\", \"2009-05-13T00:00:00\", \"2009-05-14T00:00:00\", \"2009-05-15T00:00:00\", \"2009-05-16T00:00:00\", \"2009-05-17T00:00:00\", \"2009-05-18T00:00:00\", \"2009-05-19T00:00:00\", \"2009-05-20T00:00:00\", \"2009-05-21T00:00:00\", \"2009-05-22T00:00:00\", \"2009-05-23T00:00:00\", \"2009-05-24T00:00:00\", \"2009-05-25T00:00:00\", \"2009-05-26T00:00:00\", \"2009-05-27T00:00:00\", \"2009-05-28T00:00:00\", \"2009-05-29T00:00:00\", \"2009-05-30T00:00:00\", \"2009-05-31T00:00:00\", \"2009-06-01T00:00:00\", \"2009-06-02T00:00:00\", \"2009-06-03T00:00:00\", \"2009-06-04T00:00:00\", \"2009-06-05T00:00:00\", \"2009-06-06T00:00:00\", \"2009-06-07T00:00:00\", \"2009-06-08T00:00:00\", \"2009-06-09T00:00:00\", \"2009-06-10T00:00:00\", \"2009-06-11T00:00:00\", \"2009-06-12T00:00:00\", \"2009-06-13T00:00:00\", \"2009-06-14T00:00:00\", \"2009-06-15T00:00:00\", \"2009-06-16T00:00:00\", \"2009-06-17T00:00:00\", \"2009-06-18T00:00:00\", \"2009-06-19T00:00:00\", \"2009-06-20T00:00:00\", \"2009-06-21T00:00:00\", \"2009-06-22T00:00:00\", \"2009-06-23T00:00:00\", \"2009-06-24T00:00:00\", \"2009-06-25T00:00:00\", \"2009-06-26T00:00:00\", \"2009-06-27T00:00:00\", \"2009-06-28T00:00:00\", \"2009-06-29T00:00:00\", \"2009-06-30T00:00:00\", \"2009-07-01T00:00:00\", \"2009-07-02T00:00:00\", \"2009-07-03T00:00:00\", \"2009-07-04T00:00:00\", \"2009-07-05T00:00:00\", \"2009-07-06T00:00:00\", \"2009-07-07T00:00:00\", \"2009-07-08T00:00:00\", \"2009-07-09T00:00:00\", \"2009-07-10T00:00:00\", \"2009-07-11T00:00:00\", \"2009-07-12T00:00:00\", \"2009-07-13T00:00:00\", \"2009-07-14T00:00:00\", \"2009-07-15T00:00:00\", \"2009-07-16T00:00:00\", \"2009-07-17T00:00:00\", \"2009-07-18T00:00:00\", \"2009-07-19T00:00:00\", \"2009-07-20T00:00:00\", \"2009-07-21T00:00:00\", \"2009-07-22T00:00:00\", \"2009-07-23T00:00:00\", \"2009-07-24T00:00:00\", \"2009-07-25T00:00:00\", \"2009-07-26T00:00:00\", \"2009-07-27T00:00:00\", \"2009-07-28T00:00:00\", \"2009-07-29T00:00:00\", \"2009-07-30T00:00:00\", \"2009-07-31T00:00:00\", \"2009-08-01T00:00:00\", \"2009-08-02T00:00:00\", \"2009-08-03T00:00:00\", \"2009-08-04T00:00:00\", \"2009-08-05T00:00:00\", \"2009-08-06T00:00:00\", \"2009-08-07T00:00:00\", \"2009-08-08T00:00:00\", \"2009-08-09T00:00:00\", \"2009-08-10T00:00:00\", \"2009-08-11T00:00:00\", \"2009-08-12T00:00:00\", \"2009-08-13T00:00:00\", \"2009-08-14T00:00:00\", \"2009-08-15T00:00:00\", \"2009-08-16T00:00:00\", \"2009-08-17T00:00:00\", \"2009-08-18T00:00:00\", \"2009-08-19T00:00:00\", \"2009-08-20T00:00:00\", \"2009-08-21T00:00:00\", \"2009-08-22T00:00:00\", \"2009-08-23T00:00:00\", \"2009-08-24T00:00:00\", \"2009-08-25T00:00:00\", \"2009-08-26T00:00:00\", \"2009-08-27T00:00:00\", \"2009-08-28T00:00:00\", \"2009-08-29T00:00:00\", \"2009-08-30T00:00:00\", \"2009-08-31T00:00:00\", \"2009-09-01T00:00:00\", \"2009-09-02T00:00:00\", \"2009-09-03T00:00:00\", \"2009-09-04T00:00:00\", \"2009-09-05T00:00:00\", \"2009-09-06T00:00:00\", \"2009-09-07T00:00:00\", \"2009-09-08T00:00:00\", \"2009-09-09T00:00:00\", \"2009-09-10T00:00:00\", \"2009-09-11T00:00:00\", \"2009-09-12T00:00:00\", \"2009-09-13T00:00:00\", \"2009-09-14T00:00:00\", \"2009-09-15T00:00:00\", \"2009-09-16T00:00:00\", \"2009-09-17T00:00:00\", \"2009-09-18T00:00:00\", \"2009-09-19T00:00:00\", \"2009-09-20T00:00:00\", \"2009-09-21T00:00:00\", \"2009-09-22T00:00:00\", \"2009-09-23T00:00:00\", \"2009-09-24T00:00:00\", \"2009-09-25T00:00:00\", \"2009-09-26T00:00:00\", \"2009-09-27T00:00:00\", \"2009-09-28T00:00:00\", \"2009-09-29T00:00:00\", \"2009-09-30T00:00:00\", \"2009-10-01T00:00:00\", \"2009-10-02T00:00:00\", \"2009-10-03T00:00:00\", \"2009-10-04T00:00:00\", \"2009-10-05T00:00:00\", \"2009-10-06T00:00:00\", \"2009-10-07T00:00:00\", \"2009-10-08T00:00:00\", \"2009-10-09T00:00:00\", \"2009-10-10T00:00:00\", \"2009-10-11T00:00:00\", \"2009-10-12T00:00:00\", \"2009-10-13T00:00:00\", \"2009-10-14T00:00:00\", \"2009-10-15T00:00:00\", \"2009-10-16T00:00:00\", \"2009-10-17T00:00:00\", \"2009-10-18T00:00:00\", \"2009-10-19T00:00:00\", \"2009-10-20T00:00:00\", \"2009-10-21T00:00:00\", \"2009-10-22T00:00:00\", \"2009-10-23T00:00:00\", \"2009-10-24T00:00:00\", \"2009-10-25T00:00:00\", \"2009-10-26T00:00:00\", \"2009-10-27T00:00:00\", \"2009-10-28T00:00:00\", \"2009-10-29T00:00:00\", \"2009-10-30T00:00:00\", \"2009-10-31T00:00:00\", \"2009-11-01T00:00:00\", \"2009-11-02T00:00:00\", \"2009-11-03T00:00:00\", \"2009-11-04T00:00:00\", \"2009-11-05T00:00:00\", \"2009-11-06T00:00:00\", \"2009-11-07T00:00:00\", \"2009-11-08T00:00:00\", \"2009-11-09T00:00:00\", \"2009-11-10T00:00:00\", \"2009-11-11T00:00:00\", \"2009-11-12T00:00:00\", \"2009-11-13T00:00:00\", \"2009-11-14T00:00:00\", \"2009-11-15T00:00:00\", \"2009-11-16T00:00:00\", \"2009-11-17T00:00:00\", \"2009-11-18T00:00:00\", \"2009-11-19T00:00:00\", \"2009-11-20T00:00:00\", \"2009-11-21T00:00:00\", \"2009-11-22T00:00:00\", \"2009-11-23T00:00:00\", \"2009-11-24T00:00:00\", \"2009-11-25T00:00:00\", \"2009-11-26T00:00:00\", \"2009-11-27T00:00:00\", \"2009-11-28T00:00:00\", \"2009-11-29T00:00:00\", \"2009-11-30T00:00:00\", \"2009-12-01T00:00:00\", \"2009-12-02T00:00:00\", \"2009-12-03T00:00:00\", \"2009-12-04T00:00:00\", \"2009-12-05T00:00:00\", \"2009-12-06T00:00:00\", \"2009-12-07T00:00:00\", \"2009-12-08T00:00:00\", \"2009-12-09T00:00:00\", \"2009-12-10T00:00:00\", \"2009-12-11T00:00:00\", \"2009-12-12T00:00:00\", \"2009-12-13T00:00:00\", \"2009-12-14T00:00:00\", \"2009-12-15T00:00:00\", \"2009-12-16T00:00:00\", \"2009-12-17T00:00:00\", \"2009-12-18T00:00:00\", \"2009-12-19T00:00:00\", \"2009-12-20T00:00:00\", \"2009-12-21T00:00:00\", \"2009-12-22T00:00:00\", \"2009-12-23T00:00:00\", \"2009-12-24T00:00:00\", \"2009-12-25T00:00:00\", \"2009-12-26T00:00:00\", \"2009-12-27T00:00:00\", \"2009-12-28T00:00:00\", \"2009-12-29T00:00:00\", \"2009-12-30T00:00:00\", \"2009-12-31T00:00:00\", \"2010-01-01T00:00:00\", \"2010-01-02T00:00:00\", \"2010-01-03T00:00:00\", \"2010-01-04T00:00:00\", \"2010-01-05T00:00:00\", \"2010-01-06T00:00:00\", \"2010-01-07T00:00:00\", \"2010-01-08T00:00:00\", \"2010-01-09T00:00:00\", \"2010-01-10T00:00:00\", \"2010-01-11T00:00:00\", \"2010-01-12T00:00:00\", \"2010-01-13T00:00:00\", \"2010-01-14T00:00:00\", \"2010-01-15T00:00:00\", \"2010-01-16T00:00:00\", \"2010-01-17T00:00:00\", \"2010-01-18T00:00:00\", \"2010-01-19T00:00:00\", \"2010-01-20T00:00:00\", \"2010-01-21T00:00:00\", \"2010-01-22T00:00:00\", \"2010-01-23T00:00:00\", \"2010-01-24T00:00:00\", \"2010-01-25T00:00:00\", \"2010-01-26T00:00:00\", \"2010-01-27T00:00:00\", \"2010-01-28T00:00:00\", \"2010-01-29T00:00:00\", \"2010-01-30T00:00:00\", \"2010-01-31T00:00:00\", \"2010-02-01T00:00:00\", \"2010-02-02T00:00:00\", \"2010-02-03T00:00:00\", \"2010-02-04T00:00:00\", \"2010-02-05T00:00:00\", \"2010-02-06T00:00:00\", \"2010-02-07T00:00:00\", \"2010-02-08T00:00:00\", \"2010-02-09T00:00:00\", \"2010-02-10T00:00:00\", \"2010-02-11T00:00:00\", \"2010-02-12T00:00:00\", \"2010-02-13T00:00:00\", \"2010-02-14T00:00:00\", \"2010-02-15T00:00:00\", \"2010-02-16T00:00:00\", \"2010-02-17T00:00:00\", \"2010-02-18T00:00:00\", \"2010-02-19T00:00:00\", \"2010-02-20T00:00:00\", \"2010-02-21T00:00:00\", \"2010-02-22T00:00:00\", \"2010-02-23T00:00:00\", \"2010-02-24T00:00:00\", \"2010-02-25T00:00:00\", \"2010-02-26T00:00:00\", \"2010-02-27T00:00:00\", \"2010-02-28T00:00:00\", \"2010-03-01T00:00:00\", \"2010-03-02T00:00:00\", \"2010-03-03T00:00:00\", \"2010-03-04T00:00:00\", \"2010-03-05T00:00:00\", \"2010-03-06T00:00:00\", \"2010-03-07T00:00:00\", \"2010-03-08T00:00:00\", \"2010-03-09T00:00:00\", \"2010-03-10T00:00:00\", \"2010-03-11T00:00:00\", \"2010-03-12T00:00:00\", \"2010-03-13T00:00:00\", \"2010-03-14T00:00:00\", \"2010-03-15T00:00:00\", \"2010-03-16T00:00:00\", \"2010-03-17T00:00:00\", \"2010-03-18T00:00:00\", \"2010-03-19T00:00:00\", \"2010-03-20T00:00:00\", \"2010-03-21T00:00:00\", \"2010-03-22T00:00:00\", \"2010-03-23T00:00:00\", \"2010-03-24T00:00:00\", \"2010-03-25T00:00:00\", \"2010-03-26T00:00:00\", \"2010-03-27T00:00:00\", \"2010-03-28T00:00:00\", \"2010-03-29T00:00:00\", \"2010-03-30T00:00:00\", \"2010-03-31T00:00:00\", \"2010-04-01T00:00:00\", \"2010-04-02T00:00:00\", \"2010-04-03T00:00:00\", \"2010-04-04T00:00:00\", \"2010-04-05T00:00:00\", \"2010-04-06T00:00:00\", \"2010-04-07T00:00:00\", \"2010-04-08T00:00:00\", \"2010-04-09T00:00:00\", \"2010-04-10T00:00:00\", \"2010-04-11T00:00:00\", \"2010-04-12T00:00:00\", \"2010-04-13T00:00:00\", \"2010-04-14T00:00:00\", \"2010-04-15T00:00:00\", \"2010-04-16T00:00:00\", \"2010-04-17T00:00:00\", \"2010-04-18T00:00:00\", \"2010-04-19T00:00:00\", \"2010-04-20T00:00:00\", \"2010-04-21T00:00:00\", \"2010-04-22T00:00:00\", \"2010-04-23T00:00:00\", \"2010-04-24T00:00:00\", \"2010-04-25T00:00:00\", \"2010-04-26T00:00:00\", \"2010-04-27T00:00:00\", \"2010-04-28T00:00:00\", \"2010-04-29T00:00:00\", \"2010-04-30T00:00:00\", \"2010-05-01T00:00:00\", \"2010-05-02T00:00:00\", \"2010-05-03T00:00:00\", \"2010-05-04T00:00:00\", \"2010-05-05T00:00:00\", \"2010-05-06T00:00:00\", \"2010-05-07T00:00:00\", \"2010-05-08T00:00:00\", \"2010-05-09T00:00:00\", \"2010-05-10T00:00:00\", \"2010-05-11T00:00:00\", \"2010-05-12T00:00:00\", \"2010-05-13T00:00:00\", \"2010-05-14T00:00:00\", \"2010-05-15T00:00:00\", \"2010-05-16T00:00:00\", \"2010-05-17T00:00:00\", \"2010-05-18T00:00:00\", \"2010-05-19T00:00:00\", \"2010-05-20T00:00:00\", \"2010-05-21T00:00:00\", \"2010-05-22T00:00:00\", \"2010-05-23T00:00:00\", \"2010-05-24T00:00:00\", \"2010-05-25T00:00:00\", \"2010-05-26T00:00:00\", \"2010-05-27T00:00:00\", \"2010-05-28T00:00:00\", \"2010-05-29T00:00:00\", \"2010-05-30T00:00:00\", \"2010-05-31T00:00:00\", \"2010-06-01T00:00:00\", \"2010-06-02T00:00:00\", \"2010-06-03T00:00:00\", \"2010-06-04T00:00:00\", \"2010-06-05T00:00:00\", \"2010-06-06T00:00:00\", \"2010-06-07T00:00:00\", \"2010-06-08T00:00:00\", \"2010-06-09T00:00:00\", \"2010-06-10T00:00:00\", \"2010-06-11T00:00:00\", \"2010-06-12T00:00:00\", \"2010-06-13T00:00:00\", \"2010-06-14T00:00:00\", \"2010-06-15T00:00:00\", \"2010-06-16T00:00:00\", \"2010-06-17T00:00:00\", \"2010-06-18T00:00:00\", \"2010-06-19T00:00:00\", \"2010-06-20T00:00:00\", \"2010-06-21T00:00:00\", \"2010-06-22T00:00:00\", \"2010-06-23T00:00:00\", \"2010-06-24T00:00:00\", \"2010-06-25T00:00:00\", \"2010-06-26T00:00:00\", \"2010-06-27T00:00:00\", \"2010-06-28T00:00:00\", \"2010-06-29T00:00:00\", \"2010-06-30T00:00:00\", \"2010-07-01T00:00:00\", \"2010-07-02T00:00:00\", \"2010-07-03T00:00:00\", \"2010-07-04T00:00:00\", \"2010-07-05T00:00:00\", \"2010-07-06T00:00:00\", \"2010-07-07T00:00:00\", \"2010-07-08T00:00:00\", \"2010-07-09T00:00:00\", \"2010-07-10T00:00:00\", \"2010-07-11T00:00:00\", \"2010-07-12T00:00:00\", \"2010-07-13T00:00:00\", \"2010-07-14T00:00:00\", \"2010-07-15T00:00:00\", \"2010-07-16T00:00:00\", \"2010-07-17T00:00:00\", \"2010-07-18T00:00:00\", \"2010-07-19T00:00:00\", \"2010-07-20T00:00:00\", \"2010-07-21T00:00:00\", \"2010-07-22T00:00:00\", \"2010-07-23T00:00:00\", \"2010-07-24T00:00:00\", \"2010-07-25T00:00:00\", \"2010-07-26T00:00:00\", \"2010-07-27T00:00:00\", \"2010-07-28T00:00:00\", \"2010-07-29T00:00:00\", \"2010-07-30T00:00:00\", \"2010-07-31T00:00:00\", \"2010-08-01T00:00:00\", \"2010-08-02T00:00:00\", \"2010-08-03T00:00:00\", \"2010-08-04T00:00:00\", \"2010-08-05T00:00:00\", \"2010-08-06T00:00:00\", \"2010-08-07T00:00:00\", \"2010-08-08T00:00:00\", \"2010-08-09T00:00:00\", \"2010-08-10T00:00:00\", \"2010-08-11T00:00:00\", \"2010-08-12T00:00:00\", \"2010-08-13T00:00:00\", \"2010-08-14T00:00:00\", \"2010-08-15T00:00:00\", \"2010-08-16T00:00:00\", \"2010-08-17T00:00:00\", \"2010-08-18T00:00:00\", \"2010-08-19T00:00:00\", \"2010-08-20T00:00:00\", \"2010-08-21T00:00:00\", \"2010-08-22T00:00:00\", \"2010-08-23T00:00:00\", \"2010-08-24T00:00:00\", \"2010-08-25T00:00:00\", \"2010-08-26T00:00:00\", \"2010-08-27T00:00:00\", \"2010-08-28T00:00:00\", \"2010-08-29T00:00:00\", \"2010-08-30T00:00:00\", \"2010-08-31T00:00:00\", \"2010-09-01T00:00:00\", \"2010-09-02T00:00:00\", \"2010-09-03T00:00:00\", \"2010-09-04T00:00:00\", \"2010-09-05T00:00:00\", \"2010-09-06T00:00:00\", \"2010-09-07T00:00:00\", \"2010-09-08T00:00:00\", \"2010-09-09T00:00:00\", \"2010-09-10T00:00:00\", \"2010-09-11T00:00:00\", \"2010-09-12T00:00:00\", \"2010-09-13T00:00:00\", \"2010-09-14T00:00:00\", \"2010-09-15T00:00:00\", \"2010-09-16T00:00:00\", \"2010-09-17T00:00:00\", \"2010-09-18T00:00:00\", \"2010-09-19T00:00:00\", \"2010-09-20T00:00:00\", \"2010-09-21T00:00:00\", \"2010-09-22T00:00:00\", \"2010-09-23T00:00:00\", \"2010-09-24T00:00:00\", \"2010-09-25T00:00:00\", \"2010-09-26T00:00:00\", \"2010-09-27T00:00:00\", \"2010-09-28T00:00:00\", \"2010-09-29T00:00:00\", \"2010-09-30T00:00:00\", \"2010-10-01T00:00:00\", \"2010-10-02T00:00:00\", \"2010-10-03T00:00:00\", \"2010-10-04T00:00:00\", \"2010-10-05T00:00:00\", \"2010-10-06T00:00:00\", \"2010-10-07T00:00:00\", \"2010-10-08T00:00:00\", \"2010-10-09T00:00:00\", \"2010-10-10T00:00:00\", \"2010-10-11T00:00:00\", \"2010-10-12T00:00:00\", \"2010-10-13T00:00:00\", \"2010-10-14T00:00:00\", \"2010-10-15T00:00:00\", \"2010-10-16T00:00:00\", \"2010-10-17T00:00:00\", \"2010-10-18T00:00:00\", \"2010-10-19T00:00:00\", \"2010-10-20T00:00:00\", \"2010-10-21T00:00:00\", \"2010-10-22T00:00:00\", \"2010-10-23T00:00:00\", \"2010-10-24T00:00:00\", \"2010-10-25T00:00:00\", \"2010-10-26T00:00:00\", \"2010-10-27T00:00:00\", \"2010-10-28T00:00:00\", \"2010-10-29T00:00:00\", \"2010-10-30T00:00:00\", \"2010-10-31T00:00:00\", \"2010-11-01T00:00:00\", \"2010-11-02T00:00:00\", \"2010-11-03T00:00:00\", \"2010-11-04T00:00:00\", \"2010-11-05T00:00:00\", \"2010-11-06T00:00:00\", \"2010-11-07T00:00:00\", \"2010-11-08T00:00:00\", \"2010-11-09T00:00:00\", \"2010-11-10T00:00:00\", \"2010-11-11T00:00:00\", \"2010-11-12T00:00:00\", \"2010-11-13T00:00:00\", \"2010-11-14T00:00:00\", \"2010-11-15T00:00:00\", \"2010-11-16T00:00:00\", \"2010-11-17T00:00:00\", \"2010-11-18T00:00:00\", \"2010-11-19T00:00:00\", \"2010-11-20T00:00:00\", \"2010-11-21T00:00:00\", \"2010-11-22T00:00:00\", \"2010-11-23T00:00:00\", \"2010-11-24T00:00:00\", \"2010-11-25T00:00:00\", \"2010-11-26T00:00:00\", \"2010-11-27T00:00:00\", \"2010-11-28T00:00:00\", \"2010-11-29T00:00:00\", \"2010-11-30T00:00:00\", \"2010-12-01T00:00:00\", \"2010-12-02T00:00:00\", \"2010-12-03T00:00:00\", \"2010-12-04T00:00:00\", \"2010-12-05T00:00:00\", \"2010-12-06T00:00:00\", \"2010-12-07T00:00:00\", \"2010-12-08T00:00:00\", \"2010-12-09T00:00:00\", \"2010-12-10T00:00:00\", \"2010-12-11T00:00:00\", \"2010-12-12T00:00:00\", \"2010-12-13T00:00:00\", \"2010-12-14T00:00:00\", \"2010-12-15T00:00:00\", \"2010-12-16T00:00:00\", \"2010-12-17T00:00:00\", \"2010-12-18T00:00:00\", \"2010-12-19T00:00:00\", \"2010-12-20T00:00:00\", \"2010-12-21T00:00:00\", \"2010-12-22T00:00:00\", \"2010-12-23T00:00:00\", \"2010-12-24T00:00:00\", \"2010-12-25T00:00:00\", \"2010-12-26T00:00:00\", \"2010-12-27T00:00:00\", \"2010-12-28T00:00:00\", \"2010-12-29T00:00:00\", \"2010-12-30T00:00:00\", \"2010-12-31T00:00:00\"], \"y\": [0.0, 0.0, 0.0, 0.0, 0.0, 0.0, 0.0, 0.0, 0.0, 0.0, 0.0, 0.0, 0.0, 0.0, 0.0, 0.0, 0.0, 0.0, 0.0, 0.0, 0.0, 0.0, 0.0, 0.0, 0.0, 0.0, 0.0, 0.0, 0.0, 0.0, 0.0, 0.0, 0.0, 0.0, 0.0, 0.0, 0.0, 0.0, 0.0, 0.0, 0.0, 0.0, 0.0, 0.0, 0.0, 0.0, 0.0, 0.0, 0.0, 0.0, 0.0, 0.0, 0.0, 0.0, 0.0, 0.0, 0.0, 0.0, 0.0, 0.0, 0.0, 0.0, 0.0, 0.0, 0.0, 0.0, 0.0, 0.0, 0.0, 0.0, 0.0, 0.0, 0.0, 0.0, 0.0, 0.0, 0.0, 0.0, 0.0, 0.0, 0.0, 0.0, 0.0, 0.0, 0.0, 0.0, 0.0, 0.0, 0.0, 0.0, 0.0, 0.0, 0.0, 0.0, 0.0, 0.0, 0.0, 0.0, 0.0, 0.0, 0.0, 0.0, 0.0, 0.0, 0.0, 0.0, 0.0, 0.0, 0.0, 0.0, 0.0, 0.0, 0.0, 0.0, 0.0, 0.0, 0.0, 0.0, 0.0, 0.0, 0.0, 0.0, 0.0, 0.0, 0.0, 0.0, 0.0, 0.0, 0.0, 0.0, 0.0, 0.0, 0.0, 0.0, 0.0, 0.0, 0.0, 0.0, 0.0, 0.0, 0.0, 0.0, 0.0, 0.0, 0.0, 0.0, 0.0, 0.0, 0.0, 0.0, 0.0, 0.0, 0.0, 0.0, 0.0, 0.0, 0.0, 0.0, 0.0, 0.0, 0.0, 0.0, 0.0, 0.0, 0.0, 0.0, 0.0, 0.0, 0.0, 0.0, 0.0, 0.0, 0.0, 0.0, 0.0, 0.0, 0.0, 0.0, 0.0, 0.0, 0.0, 0.0, 0.0, 0.0, 0.0, 0.0, 0.0, 0.0, 0.0, 0.0, 0.0, 0.0, 0.0, 0.0, 0.0, 0.0, 0.0, 0.0, 0.0, 0.0, 0.0, 0.0, 0.0, 0.0, 0.0, 0.0, 0.0, 0.0, 0.0, 0.0, 0.0, 0.0, 0.0, 0.0, 0.0, 0.0, 0.0, 0.0, 0.0, 0.0, 0.0, 0.0, 0.0, 0.0, 0.0, 0.0, 0.0, 0.0, 0.0, 0.0, 0.0, 0.0, 0.0, 0.0, 0.0, 0.0, 0.0, 0.0, 0.0, 0.0, 0.0, 0.0, 0.0, 0.0, 0.0, 0.0, 0.0, 0.0, 0.0, 0.0, 0.0, 0.0, 0.0, 0.0, 0.0, 0.0, 0.0, 0.0, 0.0, 0.0, 0.0, 0.0, 0.0, 0.0, 0.0, 0.0, 0.0, 0.0, 0.0, 0.0, 0.0, 0.0, 0.0, 0.0, 0.0, 0.0, 0.0, 0.0, 0.0, 0.0, 0.0, 0.0, 0.0, 0.0, 0.0, 0.0, 0.0, 0.0, 0.0, 0.0, 0.0, 0.0, 0.0, 0.0, 0.0, 0.0, 0.0, 0.0, 0.0, 0.0, 0.0, 0.0, 0.0, 0.0, 0.0, 0.0, 0.0, 0.0, 0.0, 0.0, 0.0, 0.0, 0.0, 0.0, 0.0, 0.0, 0.0, 0.0, 0.0, 0.0, 0.0, 0.0, 0.0, 0.0, 0.0, 0.0, 0.0, 0.0, 0.0, 0.0, 0.0, 0.0, 0.0, 0.0, 0.0, 0.0, 0.0, 0.0, 0.0, 0.0, 0.0, 0.0, 0.0, 0.0, 0.0, 0.0, 0.0, 0.0, 0.0, 0.0, 0.0, 0.0, 0.0, 0.0, 0.0, 0.0, 0.0, 0.0, 0.0, 0.0, 0.0, 0.0, 0.0, 0.0, 0.0, 650.0, 3700.0, 8350.0, 13089.0, 18889.0, 24600.0, 30875.0, 36125.0, 40875.0, 45925.0, 51950.0, 57550.0, 62400.0, 67100.0, 71450.0, 81450.0, 90550.0, 95900.0, 100650.0, 105950.0, 112400.0, 117850.0, 124200.0, 129750.0, 135700.0, 142699.96, 148349.96, 154449.96, 160399.96, 167449.96, 174649.96, 183349.96, 189249.96000000002, 196100.0, 201800.0, 207650.0, 214000.0, 220550.0, 227750.0, 233250.0, 238950.0, 245550.0, 251300.0, 256750.0, 262750.0, 267650.0, 272800.0, 277800.0, 282950.0, 290150.0, 295350.0, 300100.0, 305050.0, 310150.0, 316050.32999999996, 321400.33, 326400.33, 331200.32999999996, 337650.32999999996, 342450.32999999996, 347350.32999999996, 352700.32999999996, 358250.32999999996, 364400.32999999996, 369850.32999999996, 375800.33, 384000.32999999996, 389300.33, 395400.33, 401100.33, 407200.33, 409150.33, 415050.33, 421300.33, 426250.33, 431600.33, 438550.33, 443300.33, 449750.33, 455200.33, 460450.33, 467200.33, 472550.33, 477900.33, 483200.33, 488400.33, 495150.33, 500250.33, 505000.33, 509950.33, 514450.33, 519550.33, 525000.3300000001, 531250.3300000001, 536800.3300000001, 542450.3300000001, 546950.3300000001, 552650.3300000001, 558100.3300000001, 564150.3300000001, 570350.3300000001, 581750.3300000001, 587400.3300000001, 592950.3300000001, 596300.3300000001, 601600.3300000001, 606950.3300000001, 613000.3300000001, 617900.3300000001, 623200.3300000001, 630200.3300000001, 636300.3300000001, 641500.3300000001, 647950.3300000001, 652850.3300000001, 660050.3300000001, 666850.3300000001, 673050.3300000001, 678650.3300000001, 683850.3300000001, 687550.3300000001, 691600.3300000001, 697500.3300000001, 703900.3300000001, 709350.3300000001, 715900.3300000001, 722350.3300000001, 727750.3300000001, 733300.3300000001, 738950.3300000001, 743000.3300000001, 748050.3300000001, 751900.3300000001, 754750.3300000001, 756200.3300000001, 760850.3300000001, 765850.3300000001, 771650.3300000001, 777050.3300000001, 781300.3300000001, 789050.3300000001, 794000.3300000001, 798300.3300000001, 801400.3400000001, 806700.3400000001, 810150.3400000001, 813350.3400000001, 814800.3400000001, 816200.3400000001, 817000.3400000001, 821100.3400000001, 825200.3400000001, 829000.3400000001, 832800.3400000001, 836550.3400000001, 840200.3400000001, 843400.3400000001, 847150.3400000001, 850450.3400000001, 854250.3400000001, 857850.3400000001, 861550.3400000001, 865000.3400000001, 868650.3400000001, 875350.3400000001, 878650.3400000001, 882950.3300000001, 886900.3300000001, 891150.3300000001, 894800.3300000001, 896825.3300000001, 900405.3300000001, 903850.3300000001, 907200.3300000001, 910990.3300000001, 914440.3300000001, 918440.3300000001, 921940.3300000001, 925940.3300000001, 929090.3300000001, 932190.3300000001, 935940.3300000001, 939740.3300000001, 943515.3300000001, 947065.3300000001, 950365.3300000001, 953415.3300000001, 955365.3300000001, 958615.3300000001, 960715.3300000001, 960615.3300000001, 963765.3300000001, 972715.4700000001, 976390.4700000001, 978990.4700000001, 982190.4700000001, 985440.4700000001, 986790.4700000001, 987290.4700000001, 990640.4700000001, 992090.4700000001, 992740.4700000001, 993140.4700000001, 993690.4700000001, 994190.4700000001, 994690.4700000001, 994940.4700000001, 998190.4700000001, 1002040.4700000001, 1005840.4700000001, 1014490.4700000001, 1017990.4700000001, 1022140.4700000001, 1025490.4700000001, 1028640.4700000001, 1031590.4700000001, 1035240.4700000001, 1038140.4700000001, 1039090.4700000001, 1039740.4700000001, 1040390.4700000001, 1040690.4700000001, 1041490.4700000001, 1042240.4700000001, 1042640.4700000001, 1042990.4700000001, 1043740.4700000001, 1044490.4700000001, 1046840.4700000001, 1051339.0, 1052389.0, 1055389.0, 1058689.0, 1062089.0, 1065389.0, 1068689.0, 1071389.0, 1074139.0, 1076589.0, 1079489.0, 1082689.0, 1085739.0, 1088539.0, 1091039.0, 1094039.0, 1096839.0, 1099539.0, 1102489.0, 1105789.0, 1107739.0, 1110540.0, 1105090.12, 1108490.12, 1111590.12, 1115040.12, 1118090.12, 1120590.12, 1122040.12, 1125690.12, 1130040.12, 1133590.12, 1136890.12, 1113475.12, 1118275.12, 1121425.12, 1124475.12, 1126925.12, 1128275.12, 1129825.12, 1131125.12, 1132375.12, 1133975.12, 1136175.12, 1138775.12, 1141125.12, 1143325.12, 1145075.12, 1146575.12, 1148425.12, 1150725.12, 1152875.12, 1154475.12, 1156825.12, 1161125.12, 1169225.12, 1172574.8800000001, 1175574.8800000001, 1178474.8800000001, 1180074.8800000001, 1182024.8800000001, 1183874.8800000001, 1185574.8800000001, 1187024.8800000001, 1189724.8800000001, 1191424.8800000001, 1191874.8800000001, 1192124.8800000001, 1193374.8800000001, 1194874.8800000001, 1196774.8800000001, 1198324.8800000001, 1199974.8800000001, 1201724.8800000001, 1203674.8800000001, 1205774.8800000001, 1207974.8800000001, 1210024.8800000001, 1212124.8800000001, 1214374.8800000001, 1216474.8800000001, 1219124.8800000001, 1221614.8800000001, 1223914.8800000001, 1226014.8800000001, 1227864.8800000001, 1230614.8800000001, 1232814.8800000001, 1235814.8800000001, 1238814.8800000001, 1241214.8800000001, 1244064.8800000001, 1246514.8800000001, 1248364.8800000001, 1250714.8800000001, 1252914.8800000001, 1255264.8800000001, 1257815.1, 1260815.1, 1263165.1, 1263515.1, 1265960.75, 1267910.75, 1270260.75, 1272660.75, 1275063.75, 1277363.75, 1281213.75, 1285063.75, 1288963.75, 1292513.75, 1301713.75, 1306113.75, 1311263.75, 1318363.75, 1323613.75, 1325213.75, 1331063.75, 1335813.75, 1340713.75, 1345813.75, 1350513.75, 1356063.75, 1361813.75, 1366063.75, 1371013.75, 1375113.75, 1378613.75]}, {\"name\": \"2y ~ 3y\", \"type\": \"scatter\", \"x\": [\"2009-01-09T00:00:00\", \"2009-01-10T00:00:00\", \"2009-01-11T00:00:00\", \"2009-01-12T00:00:00\", \"2009-01-13T00:00:00\", \"2009-01-14T00:00:00\", \"2009-01-15T00:00:00\", \"2009-01-16T00:00:00\", \"2009-01-17T00:00:00\", \"2009-01-18T00:00:00\", \"2009-01-19T00:00:00\", \"2009-01-20T00:00:00\", \"2009-01-21T00:00:00\", \"2009-01-22T00:00:00\", \"2009-01-23T00:00:00\", \"2009-01-24T00:00:00\", \"2009-01-25T00:00:00\", \"2009-01-26T00:00:00\", \"2009-01-27T00:00:00\", \"2009-01-28T00:00:00\", \"2009-01-29T00:00:00\", \"2009-01-30T00:00:00\", \"2009-01-31T00:00:00\", \"2009-02-01T00:00:00\", \"2009-02-02T00:00:00\", \"2009-02-03T00:00:00\", \"2009-02-04T00:00:00\", \"2009-02-05T00:00:00\", \"2009-02-06T00:00:00\", \"2009-02-07T00:00:00\", \"2009-02-08T00:00:00\", \"2009-02-09T00:00:00\", \"2009-02-10T00:00:00\", \"2009-02-11T00:00:00\", \"2009-02-12T00:00:00\", \"2009-02-13T00:00:00\", \"2009-02-14T00:00:00\", \"2009-02-15T00:00:00\", \"2009-02-16T00:00:00\", \"2009-02-17T00:00:00\", \"2009-02-18T00:00:00\", \"2009-02-19T00:00:00\", \"2009-02-20T00:00:00\", \"2009-02-21T00:00:00\", \"2009-02-22T00:00:00\", \"2009-02-23T00:00:00\", \"2009-02-24T00:00:00\", \"2009-02-25T00:00:00\", \"2009-02-26T00:00:00\", \"2009-02-27T00:00:00\", \"2009-02-28T00:00:00\", \"2009-03-01T00:00:00\", \"2009-03-02T00:00:00\", \"2009-03-03T00:00:00\", \"2009-03-04T00:00:00\", \"2009-03-05T00:00:00\", \"2009-03-06T00:00:00\", \"2009-03-07T00:00:00\", \"2009-03-08T00:00:00\", \"2009-03-09T00:00:00\", \"2009-03-10T00:00:00\", \"2009-03-11T00:00:00\", \"2009-03-12T00:00:00\", \"2009-03-13T00:00:00\", \"2009-03-14T00:00:00\", \"2009-03-15T00:00:00\", \"2009-03-16T00:00:00\", \"2009-03-17T00:00:00\", \"2009-03-18T00:00:00\", \"2009-03-19T00:00:00\", \"2009-03-20T00:00:00\", \"2009-03-21T00:00:00\", \"2009-03-22T00:00:00\", \"2009-03-23T00:00:00\", \"2009-03-24T00:00:00\", \"2009-03-25T00:00:00\", \"2009-03-26T00:00:00\", \"2009-03-27T00:00:00\", \"2009-03-28T00:00:00\", \"2009-03-29T00:00:00\", \"2009-03-30T00:00:00\", \"2009-03-31T00:00:00\", \"2009-04-01T00:00:00\", \"2009-04-02T00:00:00\", \"2009-04-03T00:00:00\", \"2009-04-04T00:00:00\", \"2009-04-05T00:00:00\", \"2009-04-06T00:00:00\", \"2009-04-07T00:00:00\", \"2009-04-08T00:00:00\", \"2009-04-09T00:00:00\", \"2009-04-10T00:00:00\", \"2009-04-11T00:00:00\", \"2009-04-12T00:00:00\", \"2009-04-13T00:00:00\", \"2009-04-14T00:00:00\", \"2009-04-15T00:00:00\", \"2009-04-16T00:00:00\", \"2009-04-17T00:00:00\", \"2009-04-18T00:00:00\", \"2009-04-19T00:00:00\", \"2009-04-20T00:00:00\", \"2009-04-21T00:00:00\", \"2009-04-22T00:00:00\", \"2009-04-23T00:00:00\", \"2009-04-24T00:00:00\", \"2009-04-25T00:00:00\", \"2009-04-26T00:00:00\", \"2009-04-27T00:00:00\", \"2009-04-28T00:00:00\", \"2009-04-29T00:00:00\", \"2009-04-30T00:00:00\", \"2009-05-01T00:00:00\", \"2009-05-02T00:00:00\", \"2009-05-03T00:00:00\", \"2009-05-04T00:00:00\", \"2009-05-05T00:00:00\", \"2009-05-06T00:00:00\", \"2009-05-07T00:00:00\", \"2009-05-08T00:00:00\", \"2009-05-09T00:00:00\", \"2009-05-10T00:00:00\", \"2009-05-11T00:00:00\", \"2009-05-12T00:00:00\", \"2009-05-13T00:00:00\", \"2009-05-14T00:00:00\", \"2009-05-15T00:00:00\", \"2009-05-16T00:00:00\", \"2009-05-17T00:00:00\", \"2009-05-18T00:00:00\", \"2009-05-19T00:00:00\", \"2009-05-20T00:00:00\", \"2009-05-21T00:00:00\", \"2009-05-22T00:00:00\", \"2009-05-23T00:00:00\", \"2009-05-24T00:00:00\", \"2009-05-25T00:00:00\", \"2009-05-26T00:00:00\", \"2009-05-27T00:00:00\", \"2009-05-28T00:00:00\", \"2009-05-29T00:00:00\", \"2009-05-30T00:00:00\", \"2009-05-31T00:00:00\", \"2009-06-01T00:00:00\", \"2009-06-02T00:00:00\", \"2009-06-03T00:00:00\", \"2009-06-04T00:00:00\", \"2009-06-05T00:00:00\", \"2009-06-06T00:00:00\", \"2009-06-07T00:00:00\", \"2009-06-08T00:00:00\", \"2009-06-09T00:00:00\", \"2009-06-10T00:00:00\", \"2009-06-11T00:00:00\", \"2009-06-12T00:00:00\", \"2009-06-13T00:00:00\", \"2009-06-14T00:00:00\", \"2009-06-15T00:00:00\", \"2009-06-16T00:00:00\", \"2009-06-17T00:00:00\", \"2009-06-18T00:00:00\", \"2009-06-19T00:00:00\", \"2009-06-20T00:00:00\", \"2009-06-21T00:00:00\", \"2009-06-22T00:00:00\", \"2009-06-23T00:00:00\", \"2009-06-24T00:00:00\", \"2009-06-25T00:00:00\", \"2009-06-26T00:00:00\", \"2009-06-27T00:00:00\", \"2009-06-28T00:00:00\", \"2009-06-29T00:00:00\", \"2009-06-30T00:00:00\", \"2009-07-01T00:00:00\", \"2009-07-02T00:00:00\", \"2009-07-03T00:00:00\", \"2009-07-04T00:00:00\", \"2009-07-05T00:00:00\", \"2009-07-06T00:00:00\", \"2009-07-07T00:00:00\", \"2009-07-08T00:00:00\", \"2009-07-09T00:00:00\", \"2009-07-10T00:00:00\", \"2009-07-11T00:00:00\", \"2009-07-12T00:00:00\", \"2009-07-13T00:00:00\", \"2009-07-14T00:00:00\", \"2009-07-15T00:00:00\", \"2009-07-16T00:00:00\", \"2009-07-17T00:00:00\", \"2009-07-18T00:00:00\", \"2009-07-19T00:00:00\", \"2009-07-20T00:00:00\", \"2009-07-21T00:00:00\", \"2009-07-22T00:00:00\", \"2009-07-23T00:00:00\", \"2009-07-24T00:00:00\", \"2009-07-25T00:00:00\", \"2009-07-26T00:00:00\", \"2009-07-27T00:00:00\", \"2009-07-28T00:00:00\", \"2009-07-29T00:00:00\", \"2009-07-30T00:00:00\", \"2009-07-31T00:00:00\", \"2009-08-01T00:00:00\", \"2009-08-02T00:00:00\", \"2009-08-03T00:00:00\", \"2009-08-04T00:00:00\", \"2009-08-05T00:00:00\", \"2009-08-06T00:00:00\", \"2009-08-07T00:00:00\", \"2009-08-08T00:00:00\", \"2009-08-09T00:00:00\", \"2009-08-10T00:00:00\", \"2009-08-11T00:00:00\", \"2009-08-12T00:00:00\", \"2009-08-13T00:00:00\", \"2009-08-14T00:00:00\", \"2009-08-15T00:00:00\", \"2009-08-16T00:00:00\", \"2009-08-17T00:00:00\", \"2009-08-18T00:00:00\", \"2009-08-19T00:00:00\", \"2009-08-20T00:00:00\", \"2009-08-21T00:00:00\", \"2009-08-22T00:00:00\", \"2009-08-23T00:00:00\", \"2009-08-24T00:00:00\", \"2009-08-25T00:00:00\", \"2009-08-26T00:00:00\", \"2009-08-27T00:00:00\", \"2009-08-28T00:00:00\", \"2009-08-29T00:00:00\", \"2009-08-30T00:00:00\", \"2009-08-31T00:00:00\", \"2009-09-01T00:00:00\", \"2009-09-02T00:00:00\", \"2009-09-03T00:00:00\", \"2009-09-04T00:00:00\", \"2009-09-05T00:00:00\", \"2009-09-06T00:00:00\", \"2009-09-07T00:00:00\", \"2009-09-08T00:00:00\", \"2009-09-09T00:00:00\", \"2009-09-10T00:00:00\", \"2009-09-11T00:00:00\", \"2009-09-12T00:00:00\", \"2009-09-13T00:00:00\", \"2009-09-14T00:00:00\", \"2009-09-15T00:00:00\", \"2009-09-16T00:00:00\", \"2009-09-17T00:00:00\", \"2009-09-18T00:00:00\", \"2009-09-19T00:00:00\", \"2009-09-20T00:00:00\", \"2009-09-21T00:00:00\", \"2009-09-22T00:00:00\", \"2009-09-23T00:00:00\", \"2009-09-24T00:00:00\", \"2009-09-25T00:00:00\", \"2009-09-26T00:00:00\", \"2009-09-27T00:00:00\", \"2009-09-28T00:00:00\", \"2009-09-29T00:00:00\", \"2009-09-30T00:00:00\", \"2009-10-01T00:00:00\", \"2009-10-02T00:00:00\", \"2009-10-03T00:00:00\", \"2009-10-04T00:00:00\", \"2009-10-05T00:00:00\", \"2009-10-06T00:00:00\", \"2009-10-07T00:00:00\", \"2009-10-08T00:00:00\", \"2009-10-09T00:00:00\", \"2009-10-10T00:00:00\", \"2009-10-11T00:00:00\", \"2009-10-12T00:00:00\", \"2009-10-13T00:00:00\", \"2009-10-14T00:00:00\", \"2009-10-15T00:00:00\", \"2009-10-16T00:00:00\", \"2009-10-17T00:00:00\", \"2009-10-18T00:00:00\", \"2009-10-19T00:00:00\", \"2009-10-20T00:00:00\", \"2009-10-21T00:00:00\", \"2009-10-22T00:00:00\", \"2009-10-23T00:00:00\", \"2009-10-24T00:00:00\", \"2009-10-25T00:00:00\", \"2009-10-26T00:00:00\", \"2009-10-27T00:00:00\", \"2009-10-28T00:00:00\", \"2009-10-29T00:00:00\", \"2009-10-30T00:00:00\", \"2009-10-31T00:00:00\", \"2009-11-01T00:00:00\", \"2009-11-02T00:00:00\", \"2009-11-03T00:00:00\", \"2009-11-04T00:00:00\", \"2009-11-05T00:00:00\", \"2009-11-06T00:00:00\", \"2009-11-07T00:00:00\", \"2009-11-08T00:00:00\", \"2009-11-09T00:00:00\", \"2009-11-10T00:00:00\", \"2009-11-11T00:00:00\", \"2009-11-12T00:00:00\", \"2009-11-13T00:00:00\", \"2009-11-14T00:00:00\", \"2009-11-15T00:00:00\", \"2009-11-16T00:00:00\", \"2009-11-17T00:00:00\", \"2009-11-18T00:00:00\", \"2009-11-19T00:00:00\", \"2009-11-20T00:00:00\", \"2009-11-21T00:00:00\", \"2009-11-22T00:00:00\", \"2009-11-23T00:00:00\", \"2009-11-24T00:00:00\", \"2009-11-25T00:00:00\", \"2009-11-26T00:00:00\", \"2009-11-27T00:00:00\", \"2009-11-28T00:00:00\", \"2009-11-29T00:00:00\", \"2009-11-30T00:00:00\", \"2009-12-01T00:00:00\", \"2009-12-02T00:00:00\", \"2009-12-03T00:00:00\", \"2009-12-04T00:00:00\", \"2009-12-05T00:00:00\", \"2009-12-06T00:00:00\", \"2009-12-07T00:00:00\", \"2009-12-08T00:00:00\", \"2009-12-09T00:00:00\", \"2009-12-10T00:00:00\", \"2009-12-11T00:00:00\", \"2009-12-12T00:00:00\", \"2009-12-13T00:00:00\", \"2009-12-14T00:00:00\", \"2009-12-15T00:00:00\", \"2009-12-16T00:00:00\", \"2009-12-17T00:00:00\", \"2009-12-18T00:00:00\", \"2009-12-19T00:00:00\", \"2009-12-20T00:00:00\", \"2009-12-21T00:00:00\", \"2009-12-22T00:00:00\", \"2009-12-23T00:00:00\", \"2009-12-24T00:00:00\", \"2009-12-25T00:00:00\", \"2009-12-26T00:00:00\", \"2009-12-27T00:00:00\", \"2009-12-28T00:00:00\", \"2009-12-29T00:00:00\", \"2009-12-30T00:00:00\", \"2009-12-31T00:00:00\", \"2010-01-01T00:00:00\", \"2010-01-02T00:00:00\", \"2010-01-03T00:00:00\", \"2010-01-04T00:00:00\", \"2010-01-05T00:00:00\", \"2010-01-06T00:00:00\", \"2010-01-07T00:00:00\", \"2010-01-08T00:00:00\", \"2010-01-09T00:00:00\", \"2010-01-10T00:00:00\", \"2010-01-11T00:00:00\", \"2010-01-12T00:00:00\", \"2010-01-13T00:00:00\", \"2010-01-14T00:00:00\", \"2010-01-15T00:00:00\", \"2010-01-16T00:00:00\", \"2010-01-17T00:00:00\", \"2010-01-18T00:00:00\", \"2010-01-19T00:00:00\", \"2010-01-20T00:00:00\", \"2010-01-21T00:00:00\", \"2010-01-22T00:00:00\", \"2010-01-23T00:00:00\", \"2010-01-24T00:00:00\", \"2010-01-25T00:00:00\", \"2010-01-26T00:00:00\", \"2010-01-27T00:00:00\", \"2010-01-28T00:00:00\", \"2010-01-29T00:00:00\", \"2010-01-30T00:00:00\", \"2010-01-31T00:00:00\", \"2010-02-01T00:00:00\", \"2010-02-02T00:00:00\", \"2010-02-03T00:00:00\", \"2010-02-04T00:00:00\", \"2010-02-05T00:00:00\", \"2010-02-06T00:00:00\", \"2010-02-07T00:00:00\", \"2010-02-08T00:00:00\", \"2010-02-09T00:00:00\", \"2010-02-10T00:00:00\", \"2010-02-11T00:00:00\", \"2010-02-12T00:00:00\", \"2010-02-13T00:00:00\", \"2010-02-14T00:00:00\", \"2010-02-15T00:00:00\", \"2010-02-16T00:00:00\", \"2010-02-17T00:00:00\", \"2010-02-18T00:00:00\", \"2010-02-19T00:00:00\", \"2010-02-20T00:00:00\", \"2010-02-21T00:00:00\", \"2010-02-22T00:00:00\", \"2010-02-23T00:00:00\", \"2010-02-24T00:00:00\", \"2010-02-25T00:00:00\", \"2010-02-26T00:00:00\", \"2010-02-27T00:00:00\", \"2010-02-28T00:00:00\", \"2010-03-01T00:00:00\", \"2010-03-02T00:00:00\", \"2010-03-03T00:00:00\", \"2010-03-04T00:00:00\", \"2010-03-05T00:00:00\", \"2010-03-06T00:00:00\", \"2010-03-07T00:00:00\", \"2010-03-08T00:00:00\", \"2010-03-09T00:00:00\", \"2010-03-10T00:00:00\", \"2010-03-11T00:00:00\", \"2010-03-12T00:00:00\", \"2010-03-13T00:00:00\", \"2010-03-14T00:00:00\", \"2010-03-15T00:00:00\", \"2010-03-16T00:00:00\", \"2010-03-17T00:00:00\", \"2010-03-18T00:00:00\", \"2010-03-19T00:00:00\", \"2010-03-20T00:00:00\", \"2010-03-21T00:00:00\", \"2010-03-22T00:00:00\", \"2010-03-23T00:00:00\", \"2010-03-24T00:00:00\", \"2010-03-25T00:00:00\", \"2010-03-26T00:00:00\", \"2010-03-27T00:00:00\", \"2010-03-28T00:00:00\", \"2010-03-29T00:00:00\", \"2010-03-30T00:00:00\", \"2010-03-31T00:00:00\", \"2010-04-01T00:00:00\", \"2010-04-02T00:00:00\", \"2010-04-03T00:00:00\", \"2010-04-04T00:00:00\", \"2010-04-05T00:00:00\", \"2010-04-06T00:00:00\", \"2010-04-07T00:00:00\", \"2010-04-08T00:00:00\", \"2010-04-09T00:00:00\", \"2010-04-10T00:00:00\", \"2010-04-11T00:00:00\", \"2010-04-12T00:00:00\", \"2010-04-13T00:00:00\", \"2010-04-14T00:00:00\", \"2010-04-15T00:00:00\", \"2010-04-16T00:00:00\", \"2010-04-17T00:00:00\", \"2010-04-18T00:00:00\", \"2010-04-19T00:00:00\", \"2010-04-20T00:00:00\", \"2010-04-21T00:00:00\", \"2010-04-22T00:00:00\", \"2010-04-23T00:00:00\", \"2010-04-24T00:00:00\", \"2010-04-25T00:00:00\", \"2010-04-26T00:00:00\", \"2010-04-27T00:00:00\", \"2010-04-28T00:00:00\", \"2010-04-29T00:00:00\", \"2010-04-30T00:00:00\", \"2010-05-01T00:00:00\", \"2010-05-02T00:00:00\", \"2010-05-03T00:00:00\", \"2010-05-04T00:00:00\", \"2010-05-05T00:00:00\", \"2010-05-06T00:00:00\", \"2010-05-07T00:00:00\", \"2010-05-08T00:00:00\", \"2010-05-09T00:00:00\", \"2010-05-10T00:00:00\", \"2010-05-11T00:00:00\", \"2010-05-12T00:00:00\", \"2010-05-13T00:00:00\", \"2010-05-14T00:00:00\", \"2010-05-15T00:00:00\", \"2010-05-16T00:00:00\", \"2010-05-17T00:00:00\", \"2010-05-18T00:00:00\", \"2010-05-19T00:00:00\", \"2010-05-20T00:00:00\", \"2010-05-21T00:00:00\", \"2010-05-22T00:00:00\", \"2010-05-23T00:00:00\", \"2010-05-24T00:00:00\", \"2010-05-25T00:00:00\", \"2010-05-26T00:00:00\", \"2010-05-27T00:00:00\", \"2010-05-28T00:00:00\", \"2010-05-29T00:00:00\", \"2010-05-30T00:00:00\", \"2010-05-31T00:00:00\", \"2010-06-01T00:00:00\", \"2010-06-02T00:00:00\", \"2010-06-03T00:00:00\", \"2010-06-04T00:00:00\", \"2010-06-05T00:00:00\", \"2010-06-06T00:00:00\", \"2010-06-07T00:00:00\", \"2010-06-08T00:00:00\", \"2010-06-09T00:00:00\", \"2010-06-10T00:00:00\", \"2010-06-11T00:00:00\", \"2010-06-12T00:00:00\", \"2010-06-13T00:00:00\", \"2010-06-14T00:00:00\", \"2010-06-15T00:00:00\", \"2010-06-16T00:00:00\", \"2010-06-17T00:00:00\", \"2010-06-18T00:00:00\", \"2010-06-19T00:00:00\", \"2010-06-20T00:00:00\", \"2010-06-21T00:00:00\", \"2010-06-22T00:00:00\", \"2010-06-23T00:00:00\", \"2010-06-24T00:00:00\", \"2010-06-25T00:00:00\", \"2010-06-26T00:00:00\", \"2010-06-27T00:00:00\", \"2010-06-28T00:00:00\", \"2010-06-29T00:00:00\", \"2010-06-30T00:00:00\", \"2010-07-01T00:00:00\", \"2010-07-02T00:00:00\", \"2010-07-03T00:00:00\", \"2010-07-04T00:00:00\", \"2010-07-05T00:00:00\", \"2010-07-06T00:00:00\", \"2010-07-07T00:00:00\", \"2010-07-08T00:00:00\", \"2010-07-09T00:00:00\", \"2010-07-10T00:00:00\", \"2010-07-11T00:00:00\", \"2010-07-12T00:00:00\", \"2010-07-13T00:00:00\", \"2010-07-14T00:00:00\", \"2010-07-15T00:00:00\", \"2010-07-16T00:00:00\", \"2010-07-17T00:00:00\", \"2010-07-18T00:00:00\", \"2010-07-19T00:00:00\", \"2010-07-20T00:00:00\", \"2010-07-21T00:00:00\", \"2010-07-22T00:00:00\", \"2010-07-23T00:00:00\", \"2010-07-24T00:00:00\", \"2010-07-25T00:00:00\", \"2010-07-26T00:00:00\", \"2010-07-27T00:00:00\", \"2010-07-28T00:00:00\", \"2010-07-29T00:00:00\", \"2010-07-30T00:00:00\", \"2010-07-31T00:00:00\", \"2010-08-01T00:00:00\", \"2010-08-02T00:00:00\", \"2010-08-03T00:00:00\", \"2010-08-04T00:00:00\", \"2010-08-05T00:00:00\", \"2010-08-06T00:00:00\", \"2010-08-07T00:00:00\", \"2010-08-08T00:00:00\", \"2010-08-09T00:00:00\", \"2010-08-10T00:00:00\", \"2010-08-11T00:00:00\", \"2010-08-12T00:00:00\", \"2010-08-13T00:00:00\", \"2010-08-14T00:00:00\", \"2010-08-15T00:00:00\", \"2010-08-16T00:00:00\", \"2010-08-17T00:00:00\", \"2010-08-18T00:00:00\", \"2010-08-19T00:00:00\", \"2010-08-20T00:00:00\", \"2010-08-21T00:00:00\", \"2010-08-22T00:00:00\", \"2010-08-23T00:00:00\", \"2010-08-24T00:00:00\", \"2010-08-25T00:00:00\", \"2010-08-26T00:00:00\", \"2010-08-27T00:00:00\", \"2010-08-28T00:00:00\", \"2010-08-29T00:00:00\", \"2010-08-30T00:00:00\", \"2010-08-31T00:00:00\", \"2010-09-01T00:00:00\", \"2010-09-02T00:00:00\", \"2010-09-03T00:00:00\", \"2010-09-04T00:00:00\", \"2010-09-05T00:00:00\", \"2010-09-06T00:00:00\", \"2010-09-07T00:00:00\", \"2010-09-08T00:00:00\", \"2010-09-09T00:00:00\", \"2010-09-10T00:00:00\", \"2010-09-11T00:00:00\", \"2010-09-12T00:00:00\", \"2010-09-13T00:00:00\", \"2010-09-14T00:00:00\", \"2010-09-15T00:00:00\", \"2010-09-16T00:00:00\", \"2010-09-17T00:00:00\", \"2010-09-18T00:00:00\", \"2010-09-19T00:00:00\", \"2010-09-20T00:00:00\", \"2010-09-21T00:00:00\", \"2010-09-22T00:00:00\", \"2010-09-23T00:00:00\", \"2010-09-24T00:00:00\", \"2010-09-25T00:00:00\", \"2010-09-26T00:00:00\", \"2010-09-27T00:00:00\", \"2010-09-28T00:00:00\", \"2010-09-29T00:00:00\", \"2010-09-30T00:00:00\", \"2010-10-01T00:00:00\", \"2010-10-02T00:00:00\", \"2010-10-03T00:00:00\", \"2010-10-04T00:00:00\", \"2010-10-05T00:00:00\", \"2010-10-06T00:00:00\", \"2010-10-07T00:00:00\", \"2010-10-08T00:00:00\", \"2010-10-09T00:00:00\", \"2010-10-10T00:00:00\", \"2010-10-11T00:00:00\", \"2010-10-12T00:00:00\", \"2010-10-13T00:00:00\", \"2010-10-14T00:00:00\", \"2010-10-15T00:00:00\", \"2010-10-16T00:00:00\", \"2010-10-17T00:00:00\", \"2010-10-18T00:00:00\", \"2010-10-19T00:00:00\", \"2010-10-20T00:00:00\", \"2010-10-21T00:00:00\", \"2010-10-22T00:00:00\", \"2010-10-23T00:00:00\", \"2010-10-24T00:00:00\", \"2010-10-25T00:00:00\", \"2010-10-26T00:00:00\", \"2010-10-27T00:00:00\", \"2010-10-28T00:00:00\", \"2010-10-29T00:00:00\", \"2010-10-30T00:00:00\", \"2010-10-31T00:00:00\", \"2010-11-01T00:00:00\", \"2010-11-02T00:00:00\", \"2010-11-03T00:00:00\", \"2010-11-04T00:00:00\", \"2010-11-05T00:00:00\", \"2010-11-06T00:00:00\", \"2010-11-07T00:00:00\", \"2010-11-08T00:00:00\", \"2010-11-09T00:00:00\", \"2010-11-10T00:00:00\", \"2010-11-11T00:00:00\", \"2010-11-12T00:00:00\", \"2010-11-13T00:00:00\", \"2010-11-14T00:00:00\", \"2010-11-15T00:00:00\", \"2010-11-16T00:00:00\", \"2010-11-17T00:00:00\", \"2010-11-18T00:00:00\", \"2010-11-19T00:00:00\", \"2010-11-20T00:00:00\", \"2010-11-21T00:00:00\", \"2010-11-22T00:00:00\", \"2010-11-23T00:00:00\", \"2010-11-24T00:00:00\", \"2010-11-25T00:00:00\", \"2010-11-26T00:00:00\", \"2010-11-27T00:00:00\", \"2010-11-28T00:00:00\", \"2010-11-29T00:00:00\", \"2010-11-30T00:00:00\", \"2010-12-01T00:00:00\", \"2010-12-02T00:00:00\", \"2010-12-03T00:00:00\", \"2010-12-04T00:00:00\", \"2010-12-05T00:00:00\", \"2010-12-06T00:00:00\", \"2010-12-07T00:00:00\", \"2010-12-08T00:00:00\", \"2010-12-09T00:00:00\", \"2010-12-10T00:00:00\", \"2010-12-11T00:00:00\", \"2010-12-12T00:00:00\", \"2010-12-13T00:00:00\", \"2010-12-14T00:00:00\", \"2010-12-15T00:00:00\", \"2010-12-16T00:00:00\", \"2010-12-17T00:00:00\", \"2010-12-18T00:00:00\", \"2010-12-19T00:00:00\", \"2010-12-20T00:00:00\", \"2010-12-21T00:00:00\", \"2010-12-22T00:00:00\", \"2010-12-23T00:00:00\", \"2010-12-24T00:00:00\", \"2010-12-25T00:00:00\", \"2010-12-26T00:00:00\", \"2010-12-27T00:00:00\", \"2010-12-28T00:00:00\", \"2010-12-29T00:00:00\", \"2010-12-30T00:00:00\", \"2010-12-31T00:00:00\"], \"y\": [0.0, 0.0, 0.0, 0.0, 0.0, 0.0, 0.0, 0.0, 0.0, 0.0, 0.0, 0.0, 0.0, 0.0, 0.0, 0.0, 0.0, 0.0, 0.0, 0.0, 0.0, 0.0, 0.0, 0.0, 0.0, 0.0, 0.0, 0.0, 0.0, 0.0, 0.0, 0.0, 0.0, 0.0, 0.0, 0.0, 0.0, 0.0, 0.0, 0.0, 0.0, 0.0, 0.0, 0.0, 0.0, 0.0, 0.0, 0.0, 0.0, 0.0, 0.0, 0.0, 0.0, 0.0, 0.0, 0.0, 0.0, 0.0, 0.0, 0.0, 0.0, 0.0, 0.0, 0.0, 0.0, 0.0, 0.0, 0.0, 0.0, 0.0, 0.0, 0.0, 0.0, 0.0, 0.0, 0.0, 0.0, 0.0, 0.0, 0.0, 0.0, 0.0, 0.0, 0.0, 0.0, 0.0, 0.0, 0.0, 0.0, 0.0, 0.0, 0.0, 0.0, 0.0, 0.0, 0.0, 0.0, 0.0, 0.0, 0.0, 0.0, 0.0, 0.0, 0.0, 0.0, 0.0, 0.0, 0.0, 0.0, 0.0, 0.0, 0.0, 0.0, 0.0, 0.0, 0.0, 0.0, 0.0, 0.0, 0.0, 0.0, 0.0, 0.0, 0.0, 0.0, 0.0, 0.0, 0.0, 0.0, 0.0, 0.0, 0.0, 0.0, 0.0, 0.0, 0.0, 0.0, 0.0, 0.0, 0.0, 0.0, 0.0, 0.0, 0.0, 0.0, 0.0, 0.0, 0.0, 0.0, 0.0, 0.0, 0.0, 0.0, 0.0, 0.0, 0.0, 0.0, 0.0, 0.0, 0.0, 0.0, 0.0, 0.0, 0.0, 0.0, 0.0, 0.0, 0.0, 0.0, 0.0, 0.0, 0.0, 0.0, 0.0, 0.0, 0.0, 0.0, 0.0, 0.0, 0.0, 0.0, 0.0, 0.0, 0.0, 0.0, 0.0, 0.0, 0.0, 0.0, 0.0, 0.0, 0.0, 0.0, 0.0, 0.0, 0.0, 0.0, 0.0, 0.0, 0.0, 0.0, 0.0, 0.0, 0.0, 0.0, 0.0, 0.0, 0.0, 0.0, 0.0, 0.0, 0.0, 0.0, 0.0, 0.0, 0.0, 0.0, 0.0, 0.0, 0.0, 0.0, 0.0, 0.0, 0.0, 0.0, 0.0, 0.0, 0.0, 0.0, 0.0, 0.0, 0.0, 0.0, 0.0, 0.0, 0.0, 0.0, 0.0, 0.0, 0.0, 0.0, 0.0, 0.0, 0.0, 0.0, 0.0, 0.0, 0.0, 0.0, 0.0, 0.0, 0.0, 0.0, 0.0, 0.0, 0.0, 0.0, 0.0, 0.0, 0.0, 0.0, 0.0, 0.0, 0.0, 0.0, 0.0, 0.0, 0.0, 0.0, 0.0, 0.0, 0.0, 0.0, 0.0, 0.0, 0.0, 0.0, 0.0, 0.0, 0.0, 0.0, 0.0, 0.0, 0.0, 0.0, 0.0, 0.0, 0.0, 0.0, 0.0, 0.0, 0.0, 0.0, 0.0, 0.0, 0.0, 0.0, 0.0, 0.0, 0.0, 0.0, 0.0, 0.0, 0.0, 0.0, 0.0, 0.0, 0.0, 0.0, 0.0, 0.0, 0.0, 0.0, 0.0, 0.0, 0.0, 0.0, 0.0, 0.0, 0.0, 0.0, 0.0, 0.0, 0.0, 0.0, 0.0, 0.0, 0.0, 0.0, 0.0, 0.0, 0.0, 0.0, 0.0, 0.0, 0.0, 0.0, 0.0, 0.0, 0.0, 0.0, 0.0, 0.0, 0.0, 0.0, 0.0, 0.0, 0.0, 0.0, 0.0, 0.0, 0.0, 0.0, 0.0, 0.0, 0.0, 0.0, 0.0, 0.0, 0.0, 0.0, 0.0, 0.0, 0.0, 0.0, 0.0, 0.0, 0.0, 0.0, 0.0, 0.0, 0.0, 0.0, 0.0, 0.0, 0.0, 0.0, 0.0, 0.0, 0.0, 0.0, 0.0, 0.0, 0.0, 0.0, 0.0, 0.0, 0.0, 0.0, 0.0, 0.0, 0.0, 0.0, 0.0, 0.0, 0.0, 0.0, 0.0, 0.0, 0.0, 0.0, 0.0, 0.0, 0.0, 0.0, 0.0, 0.0, 0.0, 0.0, 0.0, 0.0, 0.0, 0.0, 0.0, 0.0, 0.0, 0.0, 0.0, 0.0, 0.0, 0.0, 0.0, 0.0, 0.0, 0.0, 0.0, 0.0, 0.0, 0.0, 0.0, 0.0, 0.0, 0.0, 0.0, 0.0, 0.0, 0.0, 0.0, 0.0, 0.0, 0.0, 0.0, 0.0, 0.0, 0.0, 0.0, 0.0, 0.0, 0.0, 0.0, 0.0, 0.0, 0.0, 0.0, 0.0, 0.0, 0.0, 0.0, 0.0, 0.0, 0.0, 0.0, 0.0, 0.0, 0.0, 0.0, 0.0, 0.0, 0.0, 0.0, 0.0, 0.0, 0.0, 0.0, 0.0, 0.0, 0.0, 0.0, 0.0, 0.0, 0.0, 0.0, 0.0, 0.0, 0.0, 0.0, 0.0, 0.0, 0.0, 0.0, 0.0, 0.0, 0.0, 0.0, 0.0, 0.0, 0.0, 0.0, 0.0, 0.0, 0.0, 0.0, 0.0, 0.0, 0.0, 0.0, 0.0, 0.0, 0.0, 0.0, 0.0, 0.0, 0.0, 0.0, 0.0, 0.0, 0.0, 0.0, 0.0, 0.0, 0.0, 0.0, 0.0, 0.0, 0.0, 0.0, 0.0, 0.0, 0.0, 0.0, 0.0, 0.0, 0.0, 0.0, 0.0, 0.0, 0.0, 0.0, 0.0, 0.0, 0.0, 0.0, 0.0, 0.0, 0.0, 0.0, 0.0, 0.0, 0.0, 0.0, 0.0, 0.0, 0.0, 0.0, 0.0, 0.0, 0.0, 0.0, 0.0, 0.0, 0.0, 0.0, 0.0, 0.0, 0.0, 0.0, 0.0, 0.0, 0.0, 0.0, 0.0, 0.0, 0.0, 0.0, 0.0, 0.0, 0.0, 0.0, 0.0, 0.0, 0.0, 0.0, 0.0, 0.0, 0.0, 0.0, 0.0, 0.0, 0.0, 0.0, 0.0, 0.0, 0.0, 0.0, 0.0, 0.0, 0.0, 0.0, 0.0, 0.0, 0.0, 0.0, 0.0, 0.0, 0.0, 0.0, 0.0, 0.0, 0.0, 0.0, 0.0, 0.0, 0.0, 0.0, 0.0, 0.0, 0.0, 0.0, 0.0, 0.0, 0.0, 0.0, 0.0, 0.0, 0.0, 0.0, 0.0, 0.0, 0.0, 0.0, 0.0, 0.0, 0.0, 0.0, 0.0, 0.0, 0.0, 0.0, 0.0, 0.0, 0.0, 0.0, 0.0, 0.0, 0.0, 0.0, 0.0, 0.0, 0.0, 0.0, 0.0, 0.0, 0.0, 0.0, 0.0, 0.0, 0.0, 0.0, 0.0, 0.0, 0.0, 0.0, 0.0, 0.0, 0.0, 0.0, 0.0, 0.0, 0.0, 0.0, 0.0, 0.0, 0.0, 0.0, 0.0, 0.0, 0.0, 0.0, 0.0, 0.0, 0.0, 0.0, 0.0, 0.0, 0.0, 0.0, 0.0, 0.0, 0.0, 0.0, 0.0, 0.0, 0.0, 0.0, 0.0, 0.0, 0.0, 0.0, 0.0, 0.0, 0.0, 0.0, 0.0, 0.0, 0.0, 0.0, 0.0, 0.0, 0.0, 0.0, 0.0, 0.0, 0.0, 0.0, 0.0, 0.0, 0.0, 0.0, 0.0, 0.0, 0.0, 0.0]}, {\"name\": \"3y ~ 4y\", \"type\": \"scatter\", \"x\": [\"2009-01-09T00:00:00\", \"2009-01-10T00:00:00\", \"2009-01-11T00:00:00\", \"2009-01-12T00:00:00\", \"2009-01-13T00:00:00\", \"2009-01-14T00:00:00\", \"2009-01-15T00:00:00\", \"2009-01-16T00:00:00\", \"2009-01-17T00:00:00\", \"2009-01-18T00:00:00\", \"2009-01-19T00:00:00\", \"2009-01-20T00:00:00\", \"2009-01-21T00:00:00\", \"2009-01-22T00:00:00\", \"2009-01-23T00:00:00\", \"2009-01-24T00:00:00\", \"2009-01-25T00:00:00\", \"2009-01-26T00:00:00\", \"2009-01-27T00:00:00\", \"2009-01-28T00:00:00\", \"2009-01-29T00:00:00\", \"2009-01-30T00:00:00\", \"2009-01-31T00:00:00\", \"2009-02-01T00:00:00\", \"2009-02-02T00:00:00\", \"2009-02-03T00:00:00\", \"2009-02-04T00:00:00\", \"2009-02-05T00:00:00\", \"2009-02-06T00:00:00\", \"2009-02-07T00:00:00\", \"2009-02-08T00:00:00\", \"2009-02-09T00:00:00\", \"2009-02-10T00:00:00\", \"2009-02-11T00:00:00\", \"2009-02-12T00:00:00\", \"2009-02-13T00:00:00\", \"2009-02-14T00:00:00\", \"2009-02-15T00:00:00\", \"2009-02-16T00:00:00\", \"2009-02-17T00:00:00\", \"2009-02-18T00:00:00\", \"2009-02-19T00:00:00\", \"2009-02-20T00:00:00\", \"2009-02-21T00:00:00\", \"2009-02-22T00:00:00\", \"2009-02-23T00:00:00\", \"2009-02-24T00:00:00\", \"2009-02-25T00:00:00\", \"2009-02-26T00:00:00\", \"2009-02-27T00:00:00\", \"2009-02-28T00:00:00\", \"2009-03-01T00:00:00\", \"2009-03-02T00:00:00\", \"2009-03-03T00:00:00\", \"2009-03-04T00:00:00\", \"2009-03-05T00:00:00\", \"2009-03-06T00:00:00\", \"2009-03-07T00:00:00\", \"2009-03-08T00:00:00\", \"2009-03-09T00:00:00\", \"2009-03-10T00:00:00\", \"2009-03-11T00:00:00\", \"2009-03-12T00:00:00\", \"2009-03-13T00:00:00\", \"2009-03-14T00:00:00\", \"2009-03-15T00:00:00\", \"2009-03-16T00:00:00\", \"2009-03-17T00:00:00\", \"2009-03-18T00:00:00\", \"2009-03-19T00:00:00\", \"2009-03-20T00:00:00\", \"2009-03-21T00:00:00\", \"2009-03-22T00:00:00\", \"2009-03-23T00:00:00\", \"2009-03-24T00:00:00\", \"2009-03-25T00:00:00\", \"2009-03-26T00:00:00\", \"2009-03-27T00:00:00\", \"2009-03-28T00:00:00\", \"2009-03-29T00:00:00\", \"2009-03-30T00:00:00\", \"2009-03-31T00:00:00\", \"2009-04-01T00:00:00\", \"2009-04-02T00:00:00\", \"2009-04-03T00:00:00\", \"2009-04-04T00:00:00\", \"2009-04-05T00:00:00\", \"2009-04-06T00:00:00\", \"2009-04-07T00:00:00\", \"2009-04-08T00:00:00\", \"2009-04-09T00:00:00\", \"2009-04-10T00:00:00\", \"2009-04-11T00:00:00\", \"2009-04-12T00:00:00\", \"2009-04-13T00:00:00\", \"2009-04-14T00:00:00\", \"2009-04-15T00:00:00\", \"2009-04-16T00:00:00\", \"2009-04-17T00:00:00\", \"2009-04-18T00:00:00\", \"2009-04-19T00:00:00\", \"2009-04-20T00:00:00\", \"2009-04-21T00:00:00\", \"2009-04-22T00:00:00\", \"2009-04-23T00:00:00\", \"2009-04-24T00:00:00\", \"2009-04-25T00:00:00\", \"2009-04-26T00:00:00\", \"2009-04-27T00:00:00\", \"2009-04-28T00:00:00\", \"2009-04-29T00:00:00\", \"2009-04-30T00:00:00\", \"2009-05-01T00:00:00\", \"2009-05-02T00:00:00\", \"2009-05-03T00:00:00\", \"2009-05-04T00:00:00\", \"2009-05-05T00:00:00\", \"2009-05-06T00:00:00\", \"2009-05-07T00:00:00\", \"2009-05-08T00:00:00\", \"2009-05-09T00:00:00\", \"2009-05-10T00:00:00\", \"2009-05-11T00:00:00\", \"2009-05-12T00:00:00\", \"2009-05-13T00:00:00\", \"2009-05-14T00:00:00\", \"2009-05-15T00:00:00\", \"2009-05-16T00:00:00\", \"2009-05-17T00:00:00\", \"2009-05-18T00:00:00\", \"2009-05-19T00:00:00\", \"2009-05-20T00:00:00\", \"2009-05-21T00:00:00\", \"2009-05-22T00:00:00\", \"2009-05-23T00:00:00\", \"2009-05-24T00:00:00\", \"2009-05-25T00:00:00\", \"2009-05-26T00:00:00\", \"2009-05-27T00:00:00\", \"2009-05-28T00:00:00\", \"2009-05-29T00:00:00\", \"2009-05-30T00:00:00\", \"2009-05-31T00:00:00\", \"2009-06-01T00:00:00\", \"2009-06-02T00:00:00\", \"2009-06-03T00:00:00\", \"2009-06-04T00:00:00\", \"2009-06-05T00:00:00\", \"2009-06-06T00:00:00\", \"2009-06-07T00:00:00\", \"2009-06-08T00:00:00\", \"2009-06-09T00:00:00\", \"2009-06-10T00:00:00\", \"2009-06-11T00:00:00\", \"2009-06-12T00:00:00\", \"2009-06-13T00:00:00\", \"2009-06-14T00:00:00\", \"2009-06-15T00:00:00\", \"2009-06-16T00:00:00\", \"2009-06-17T00:00:00\", \"2009-06-18T00:00:00\", \"2009-06-19T00:00:00\", \"2009-06-20T00:00:00\", \"2009-06-21T00:00:00\", \"2009-06-22T00:00:00\", \"2009-06-23T00:00:00\", \"2009-06-24T00:00:00\", \"2009-06-25T00:00:00\", \"2009-06-26T00:00:00\", \"2009-06-27T00:00:00\", \"2009-06-28T00:00:00\", \"2009-06-29T00:00:00\", \"2009-06-30T00:00:00\", \"2009-07-01T00:00:00\", \"2009-07-02T00:00:00\", \"2009-07-03T00:00:00\", \"2009-07-04T00:00:00\", \"2009-07-05T00:00:00\", \"2009-07-06T00:00:00\", \"2009-07-07T00:00:00\", \"2009-07-08T00:00:00\", \"2009-07-09T00:00:00\", \"2009-07-10T00:00:00\", \"2009-07-11T00:00:00\", \"2009-07-12T00:00:00\", \"2009-07-13T00:00:00\", \"2009-07-14T00:00:00\", \"2009-07-15T00:00:00\", \"2009-07-16T00:00:00\", \"2009-07-17T00:00:00\", \"2009-07-18T00:00:00\", \"2009-07-19T00:00:00\", \"2009-07-20T00:00:00\", \"2009-07-21T00:00:00\", \"2009-07-22T00:00:00\", \"2009-07-23T00:00:00\", \"2009-07-24T00:00:00\", \"2009-07-25T00:00:00\", \"2009-07-26T00:00:00\", \"2009-07-27T00:00:00\", \"2009-07-28T00:00:00\", \"2009-07-29T00:00:00\", \"2009-07-30T00:00:00\", \"2009-07-31T00:00:00\", \"2009-08-01T00:00:00\", \"2009-08-02T00:00:00\", \"2009-08-03T00:00:00\", \"2009-08-04T00:00:00\", \"2009-08-05T00:00:00\", \"2009-08-06T00:00:00\", \"2009-08-07T00:00:00\", \"2009-08-08T00:00:00\", \"2009-08-09T00:00:00\", \"2009-08-10T00:00:00\", \"2009-08-11T00:00:00\", \"2009-08-12T00:00:00\", \"2009-08-13T00:00:00\", \"2009-08-14T00:00:00\", \"2009-08-15T00:00:00\", \"2009-08-16T00:00:00\", \"2009-08-17T00:00:00\", \"2009-08-18T00:00:00\", \"2009-08-19T00:00:00\", \"2009-08-20T00:00:00\", \"2009-08-21T00:00:00\", \"2009-08-22T00:00:00\", \"2009-08-23T00:00:00\", \"2009-08-24T00:00:00\", \"2009-08-25T00:00:00\", \"2009-08-26T00:00:00\", \"2009-08-27T00:00:00\", \"2009-08-28T00:00:00\", \"2009-08-29T00:00:00\", \"2009-08-30T00:00:00\", \"2009-08-31T00:00:00\", \"2009-09-01T00:00:00\", \"2009-09-02T00:00:00\", \"2009-09-03T00:00:00\", \"2009-09-04T00:00:00\", \"2009-09-05T00:00:00\", \"2009-09-06T00:00:00\", \"2009-09-07T00:00:00\", \"2009-09-08T00:00:00\", \"2009-09-09T00:00:00\", \"2009-09-10T00:00:00\", \"2009-09-11T00:00:00\", \"2009-09-12T00:00:00\", \"2009-09-13T00:00:00\", \"2009-09-14T00:00:00\", \"2009-09-15T00:00:00\", \"2009-09-16T00:00:00\", \"2009-09-17T00:00:00\", \"2009-09-18T00:00:00\", \"2009-09-19T00:00:00\", \"2009-09-20T00:00:00\", \"2009-09-21T00:00:00\", \"2009-09-22T00:00:00\", \"2009-09-23T00:00:00\", \"2009-09-24T00:00:00\", \"2009-09-25T00:00:00\", \"2009-09-26T00:00:00\", \"2009-09-27T00:00:00\", \"2009-09-28T00:00:00\", \"2009-09-29T00:00:00\", \"2009-09-30T00:00:00\", \"2009-10-01T00:00:00\", \"2009-10-02T00:00:00\", \"2009-10-03T00:00:00\", \"2009-10-04T00:00:00\", \"2009-10-05T00:00:00\", \"2009-10-06T00:00:00\", \"2009-10-07T00:00:00\", \"2009-10-08T00:00:00\", \"2009-10-09T00:00:00\", \"2009-10-10T00:00:00\", \"2009-10-11T00:00:00\", \"2009-10-12T00:00:00\", \"2009-10-13T00:00:00\", \"2009-10-14T00:00:00\", \"2009-10-15T00:00:00\", \"2009-10-16T00:00:00\", \"2009-10-17T00:00:00\", \"2009-10-18T00:00:00\", \"2009-10-19T00:00:00\", \"2009-10-20T00:00:00\", \"2009-10-21T00:00:00\", \"2009-10-22T00:00:00\", \"2009-10-23T00:00:00\", \"2009-10-24T00:00:00\", \"2009-10-25T00:00:00\", \"2009-10-26T00:00:00\", \"2009-10-27T00:00:00\", \"2009-10-28T00:00:00\", \"2009-10-29T00:00:00\", \"2009-10-30T00:00:00\", \"2009-10-31T00:00:00\", \"2009-11-01T00:00:00\", \"2009-11-02T00:00:00\", \"2009-11-03T00:00:00\", \"2009-11-04T00:00:00\", \"2009-11-05T00:00:00\", \"2009-11-06T00:00:00\", \"2009-11-07T00:00:00\", \"2009-11-08T00:00:00\", \"2009-11-09T00:00:00\", \"2009-11-10T00:00:00\", \"2009-11-11T00:00:00\", \"2009-11-12T00:00:00\", \"2009-11-13T00:00:00\", \"2009-11-14T00:00:00\", \"2009-11-15T00:00:00\", \"2009-11-16T00:00:00\", \"2009-11-17T00:00:00\", \"2009-11-18T00:00:00\", \"2009-11-19T00:00:00\", \"2009-11-20T00:00:00\", \"2009-11-21T00:00:00\", \"2009-11-22T00:00:00\", \"2009-11-23T00:00:00\", \"2009-11-24T00:00:00\", \"2009-11-25T00:00:00\", \"2009-11-26T00:00:00\", \"2009-11-27T00:00:00\", \"2009-11-28T00:00:00\", \"2009-11-29T00:00:00\", \"2009-11-30T00:00:00\", \"2009-12-01T00:00:00\", \"2009-12-02T00:00:00\", \"2009-12-03T00:00:00\", \"2009-12-04T00:00:00\", \"2009-12-05T00:00:00\", \"2009-12-06T00:00:00\", \"2009-12-07T00:00:00\", \"2009-12-08T00:00:00\", \"2009-12-09T00:00:00\", \"2009-12-10T00:00:00\", \"2009-12-11T00:00:00\", \"2009-12-12T00:00:00\", \"2009-12-13T00:00:00\", \"2009-12-14T00:00:00\", \"2009-12-15T00:00:00\", \"2009-12-16T00:00:00\", \"2009-12-17T00:00:00\", \"2009-12-18T00:00:00\", \"2009-12-19T00:00:00\", \"2009-12-20T00:00:00\", \"2009-12-21T00:00:00\", \"2009-12-22T00:00:00\", \"2009-12-23T00:00:00\", \"2009-12-24T00:00:00\", \"2009-12-25T00:00:00\", \"2009-12-26T00:00:00\", \"2009-12-27T00:00:00\", \"2009-12-28T00:00:00\", \"2009-12-29T00:00:00\", \"2009-12-30T00:00:00\", \"2009-12-31T00:00:00\", \"2010-01-01T00:00:00\", \"2010-01-02T00:00:00\", \"2010-01-03T00:00:00\", \"2010-01-04T00:00:00\", \"2010-01-05T00:00:00\", \"2010-01-06T00:00:00\", \"2010-01-07T00:00:00\", \"2010-01-08T00:00:00\", \"2010-01-09T00:00:00\", \"2010-01-10T00:00:00\", \"2010-01-11T00:00:00\", \"2010-01-12T00:00:00\", \"2010-01-13T00:00:00\", \"2010-01-14T00:00:00\", \"2010-01-15T00:00:00\", \"2010-01-16T00:00:00\", \"2010-01-17T00:00:00\", \"2010-01-18T00:00:00\", \"2010-01-19T00:00:00\", \"2010-01-20T00:00:00\", \"2010-01-21T00:00:00\", \"2010-01-22T00:00:00\", \"2010-01-23T00:00:00\", \"2010-01-24T00:00:00\", \"2010-01-25T00:00:00\", \"2010-01-26T00:00:00\", \"2010-01-27T00:00:00\", \"2010-01-28T00:00:00\", \"2010-01-29T00:00:00\", \"2010-01-30T00:00:00\", \"2010-01-31T00:00:00\", \"2010-02-01T00:00:00\", \"2010-02-02T00:00:00\", \"2010-02-03T00:00:00\", \"2010-02-04T00:00:00\", \"2010-02-05T00:00:00\", \"2010-02-06T00:00:00\", \"2010-02-07T00:00:00\", \"2010-02-08T00:00:00\", \"2010-02-09T00:00:00\", \"2010-02-10T00:00:00\", \"2010-02-11T00:00:00\", \"2010-02-12T00:00:00\", \"2010-02-13T00:00:00\", \"2010-02-14T00:00:00\", \"2010-02-15T00:00:00\", \"2010-02-16T00:00:00\", \"2010-02-17T00:00:00\", \"2010-02-18T00:00:00\", \"2010-02-19T00:00:00\", \"2010-02-20T00:00:00\", \"2010-02-21T00:00:00\", \"2010-02-22T00:00:00\", \"2010-02-23T00:00:00\", \"2010-02-24T00:00:00\", \"2010-02-25T00:00:00\", \"2010-02-26T00:00:00\", \"2010-02-27T00:00:00\", \"2010-02-28T00:00:00\", \"2010-03-01T00:00:00\", \"2010-03-02T00:00:00\", \"2010-03-03T00:00:00\", \"2010-03-04T00:00:00\", \"2010-03-05T00:00:00\", \"2010-03-06T00:00:00\", \"2010-03-07T00:00:00\", \"2010-03-08T00:00:00\", \"2010-03-09T00:00:00\", \"2010-03-10T00:00:00\", \"2010-03-11T00:00:00\", \"2010-03-12T00:00:00\", \"2010-03-13T00:00:00\", \"2010-03-14T00:00:00\", \"2010-03-15T00:00:00\", \"2010-03-16T00:00:00\", \"2010-03-17T00:00:00\", \"2010-03-18T00:00:00\", \"2010-03-19T00:00:00\", \"2010-03-20T00:00:00\", \"2010-03-21T00:00:00\", \"2010-03-22T00:00:00\", \"2010-03-23T00:00:00\", \"2010-03-24T00:00:00\", \"2010-03-25T00:00:00\", \"2010-03-26T00:00:00\", \"2010-03-27T00:00:00\", \"2010-03-28T00:00:00\", \"2010-03-29T00:00:00\", \"2010-03-30T00:00:00\", \"2010-03-31T00:00:00\", \"2010-04-01T00:00:00\", \"2010-04-02T00:00:00\", \"2010-04-03T00:00:00\", \"2010-04-04T00:00:00\", \"2010-04-05T00:00:00\", \"2010-04-06T00:00:00\", \"2010-04-07T00:00:00\", \"2010-04-08T00:00:00\", \"2010-04-09T00:00:00\", \"2010-04-10T00:00:00\", \"2010-04-11T00:00:00\", \"2010-04-12T00:00:00\", \"2010-04-13T00:00:00\", \"2010-04-14T00:00:00\", \"2010-04-15T00:00:00\", \"2010-04-16T00:00:00\", \"2010-04-17T00:00:00\", \"2010-04-18T00:00:00\", \"2010-04-19T00:00:00\", \"2010-04-20T00:00:00\", \"2010-04-21T00:00:00\", \"2010-04-22T00:00:00\", \"2010-04-23T00:00:00\", \"2010-04-24T00:00:00\", \"2010-04-25T00:00:00\", \"2010-04-26T00:00:00\", \"2010-04-27T00:00:00\", \"2010-04-28T00:00:00\", \"2010-04-29T00:00:00\", \"2010-04-30T00:00:00\", \"2010-05-01T00:00:00\", \"2010-05-02T00:00:00\", \"2010-05-03T00:00:00\", \"2010-05-04T00:00:00\", \"2010-05-05T00:00:00\", \"2010-05-06T00:00:00\", \"2010-05-07T00:00:00\", \"2010-05-08T00:00:00\", \"2010-05-09T00:00:00\", \"2010-05-10T00:00:00\", \"2010-05-11T00:00:00\", \"2010-05-12T00:00:00\", \"2010-05-13T00:00:00\", \"2010-05-14T00:00:00\", \"2010-05-15T00:00:00\", \"2010-05-16T00:00:00\", \"2010-05-17T00:00:00\", \"2010-05-18T00:00:00\", \"2010-05-19T00:00:00\", \"2010-05-20T00:00:00\", \"2010-05-21T00:00:00\", \"2010-05-22T00:00:00\", \"2010-05-23T00:00:00\", \"2010-05-24T00:00:00\", \"2010-05-25T00:00:00\", \"2010-05-26T00:00:00\", \"2010-05-27T00:00:00\", \"2010-05-28T00:00:00\", \"2010-05-29T00:00:00\", \"2010-05-30T00:00:00\", \"2010-05-31T00:00:00\", \"2010-06-01T00:00:00\", \"2010-06-02T00:00:00\", \"2010-06-03T00:00:00\", \"2010-06-04T00:00:00\", \"2010-06-05T00:00:00\", \"2010-06-06T00:00:00\", \"2010-06-07T00:00:00\", \"2010-06-08T00:00:00\", \"2010-06-09T00:00:00\", \"2010-06-10T00:00:00\", \"2010-06-11T00:00:00\", \"2010-06-12T00:00:00\", \"2010-06-13T00:00:00\", \"2010-06-14T00:00:00\", \"2010-06-15T00:00:00\", \"2010-06-16T00:00:00\", \"2010-06-17T00:00:00\", \"2010-06-18T00:00:00\", \"2010-06-19T00:00:00\", \"2010-06-20T00:00:00\", \"2010-06-21T00:00:00\", \"2010-06-22T00:00:00\", \"2010-06-23T00:00:00\", \"2010-06-24T00:00:00\", \"2010-06-25T00:00:00\", \"2010-06-26T00:00:00\", \"2010-06-27T00:00:00\", \"2010-06-28T00:00:00\", \"2010-06-29T00:00:00\", \"2010-06-30T00:00:00\", \"2010-07-01T00:00:00\", \"2010-07-02T00:00:00\", \"2010-07-03T00:00:00\", \"2010-07-04T00:00:00\", \"2010-07-05T00:00:00\", \"2010-07-06T00:00:00\", \"2010-07-07T00:00:00\", \"2010-07-08T00:00:00\", \"2010-07-09T00:00:00\", \"2010-07-10T00:00:00\", \"2010-07-11T00:00:00\", \"2010-07-12T00:00:00\", \"2010-07-13T00:00:00\", \"2010-07-14T00:00:00\", \"2010-07-15T00:00:00\", \"2010-07-16T00:00:00\", \"2010-07-17T00:00:00\", \"2010-07-18T00:00:00\", \"2010-07-19T00:00:00\", \"2010-07-20T00:00:00\", \"2010-07-21T00:00:00\", \"2010-07-22T00:00:00\", \"2010-07-23T00:00:00\", \"2010-07-24T00:00:00\", \"2010-07-25T00:00:00\", \"2010-07-26T00:00:00\", \"2010-07-27T00:00:00\", \"2010-07-28T00:00:00\", \"2010-07-29T00:00:00\", \"2010-07-30T00:00:00\", \"2010-07-31T00:00:00\", \"2010-08-01T00:00:00\", \"2010-08-02T00:00:00\", \"2010-08-03T00:00:00\", \"2010-08-04T00:00:00\", \"2010-08-05T00:00:00\", \"2010-08-06T00:00:00\", \"2010-08-07T00:00:00\", \"2010-08-08T00:00:00\", \"2010-08-09T00:00:00\", \"2010-08-10T00:00:00\", \"2010-08-11T00:00:00\", \"2010-08-12T00:00:00\", \"2010-08-13T00:00:00\", \"2010-08-14T00:00:00\", \"2010-08-15T00:00:00\", \"2010-08-16T00:00:00\", \"2010-08-17T00:00:00\", \"2010-08-18T00:00:00\", \"2010-08-19T00:00:00\", \"2010-08-20T00:00:00\", \"2010-08-21T00:00:00\", \"2010-08-22T00:00:00\", \"2010-08-23T00:00:00\", \"2010-08-24T00:00:00\", \"2010-08-25T00:00:00\", \"2010-08-26T00:00:00\", \"2010-08-27T00:00:00\", \"2010-08-28T00:00:00\", \"2010-08-29T00:00:00\", \"2010-08-30T00:00:00\", \"2010-08-31T00:00:00\", \"2010-09-01T00:00:00\", \"2010-09-02T00:00:00\", \"2010-09-03T00:00:00\", \"2010-09-04T00:00:00\", \"2010-09-05T00:00:00\", \"2010-09-06T00:00:00\", \"2010-09-07T00:00:00\", \"2010-09-08T00:00:00\", \"2010-09-09T00:00:00\", \"2010-09-10T00:00:00\", \"2010-09-11T00:00:00\", \"2010-09-12T00:00:00\", \"2010-09-13T00:00:00\", \"2010-09-14T00:00:00\", \"2010-09-15T00:00:00\", \"2010-09-16T00:00:00\", \"2010-09-17T00:00:00\", \"2010-09-18T00:00:00\", \"2010-09-19T00:00:00\", \"2010-09-20T00:00:00\", \"2010-09-21T00:00:00\", \"2010-09-22T00:00:00\", \"2010-09-23T00:00:00\", \"2010-09-24T00:00:00\", \"2010-09-25T00:00:00\", \"2010-09-26T00:00:00\", \"2010-09-27T00:00:00\", \"2010-09-28T00:00:00\", \"2010-09-29T00:00:00\", \"2010-09-30T00:00:00\", \"2010-10-01T00:00:00\", \"2010-10-02T00:00:00\", \"2010-10-03T00:00:00\", \"2010-10-04T00:00:00\", \"2010-10-05T00:00:00\", \"2010-10-06T00:00:00\", \"2010-10-07T00:00:00\", \"2010-10-08T00:00:00\", \"2010-10-09T00:00:00\", \"2010-10-10T00:00:00\", \"2010-10-11T00:00:00\", \"2010-10-12T00:00:00\", \"2010-10-13T00:00:00\", \"2010-10-14T00:00:00\", \"2010-10-15T00:00:00\", \"2010-10-16T00:00:00\", \"2010-10-17T00:00:00\", \"2010-10-18T00:00:00\", \"2010-10-19T00:00:00\", \"2010-10-20T00:00:00\", \"2010-10-21T00:00:00\", \"2010-10-22T00:00:00\", \"2010-10-23T00:00:00\", \"2010-10-24T00:00:00\", \"2010-10-25T00:00:00\", \"2010-10-26T00:00:00\", \"2010-10-27T00:00:00\", \"2010-10-28T00:00:00\", \"2010-10-29T00:00:00\", \"2010-10-30T00:00:00\", \"2010-10-31T00:00:00\", \"2010-11-01T00:00:00\", \"2010-11-02T00:00:00\", \"2010-11-03T00:00:00\", \"2010-11-04T00:00:00\", \"2010-11-05T00:00:00\", \"2010-11-06T00:00:00\", \"2010-11-07T00:00:00\", \"2010-11-08T00:00:00\", \"2010-11-09T00:00:00\", \"2010-11-10T00:00:00\", \"2010-11-11T00:00:00\", \"2010-11-12T00:00:00\", \"2010-11-13T00:00:00\", \"2010-11-14T00:00:00\", \"2010-11-15T00:00:00\", \"2010-11-16T00:00:00\", \"2010-11-17T00:00:00\", \"2010-11-18T00:00:00\", \"2010-11-19T00:00:00\", \"2010-11-20T00:00:00\", \"2010-11-21T00:00:00\", \"2010-11-22T00:00:00\", \"2010-11-23T00:00:00\", \"2010-11-24T00:00:00\", \"2010-11-25T00:00:00\", \"2010-11-26T00:00:00\", \"2010-11-27T00:00:00\", \"2010-11-28T00:00:00\", \"2010-11-29T00:00:00\", \"2010-11-30T00:00:00\", \"2010-12-01T00:00:00\", \"2010-12-02T00:00:00\", \"2010-12-03T00:00:00\", \"2010-12-04T00:00:00\", \"2010-12-05T00:00:00\", \"2010-12-06T00:00:00\", \"2010-12-07T00:00:00\", \"2010-12-08T00:00:00\", \"2010-12-09T00:00:00\", \"2010-12-10T00:00:00\", \"2010-12-11T00:00:00\", \"2010-12-12T00:00:00\", \"2010-12-13T00:00:00\", \"2010-12-14T00:00:00\", \"2010-12-15T00:00:00\", \"2010-12-16T00:00:00\", \"2010-12-17T00:00:00\", \"2010-12-18T00:00:00\", \"2010-12-19T00:00:00\", \"2010-12-20T00:00:00\", \"2010-12-21T00:00:00\", \"2010-12-22T00:00:00\", \"2010-12-23T00:00:00\", \"2010-12-24T00:00:00\", \"2010-12-25T00:00:00\", \"2010-12-26T00:00:00\", \"2010-12-27T00:00:00\", \"2010-12-28T00:00:00\", \"2010-12-29T00:00:00\", \"2010-12-30T00:00:00\", \"2010-12-31T00:00:00\"], \"y\": [0.0, 0.0, 0.0, 0.0, 0.0, 0.0, 0.0, 0.0, 0.0, 0.0, 0.0, 0.0, 0.0, 0.0, 0.0, 0.0, 0.0, 0.0, 0.0, 0.0, 0.0, 0.0, 0.0, 0.0, 0.0, 0.0, 0.0, 0.0, 0.0, 0.0, 0.0, 0.0, 0.0, 0.0, 0.0, 0.0, 0.0, 0.0, 0.0, 0.0, 0.0, 0.0, 0.0, 0.0, 0.0, 0.0, 0.0, 0.0, 0.0, 0.0, 0.0, 0.0, 0.0, 0.0, 0.0, 0.0, 0.0, 0.0, 0.0, 0.0, 0.0, 0.0, 0.0, 0.0, 0.0, 0.0, 0.0, 0.0, 0.0, 0.0, 0.0, 0.0, 0.0, 0.0, 0.0, 0.0, 0.0, 0.0, 0.0, 0.0, 0.0, 0.0, 0.0, 0.0, 0.0, 0.0, 0.0, 0.0, 0.0, 0.0, 0.0, 0.0, 0.0, 0.0, 0.0, 0.0, 0.0, 0.0, 0.0, 0.0, 0.0, 0.0, 0.0, 0.0, 0.0, 0.0, 0.0, 0.0, 0.0, 0.0, 0.0, 0.0, 0.0, 0.0, 0.0, 0.0, 0.0, 0.0, 0.0, 0.0, 0.0, 0.0, 0.0, 0.0, 0.0, 0.0, 0.0, 0.0, 0.0, 0.0, 0.0, 0.0, 0.0, 0.0, 0.0, 0.0, 0.0, 0.0, 0.0, 0.0, 0.0, 0.0, 0.0, 0.0, 0.0, 0.0, 0.0, 0.0, 0.0, 0.0, 0.0, 0.0, 0.0, 0.0, 0.0, 0.0, 0.0, 0.0, 0.0, 0.0, 0.0, 0.0, 0.0, 0.0, 0.0, 0.0, 0.0, 0.0, 0.0, 0.0, 0.0, 0.0, 0.0, 0.0, 0.0, 0.0, 0.0, 0.0, 0.0, 0.0, 0.0, 0.0, 0.0, 0.0, 0.0, 0.0, 0.0, 0.0, 0.0, 0.0, 0.0, 0.0, 0.0, 0.0, 0.0, 0.0, 0.0, 0.0, 0.0, 0.0, 0.0, 0.0, 0.0, 0.0, 0.0, 0.0, 0.0, 0.0, 0.0, 0.0, 0.0, 0.0, 0.0, 0.0, 0.0, 0.0, 0.0, 0.0, 0.0, 0.0, 0.0, 0.0, 0.0, 0.0, 0.0, 0.0, 0.0, 0.0, 0.0, 0.0, 0.0, 0.0, 0.0, 0.0, 0.0, 0.0, 0.0, 0.0, 0.0, 0.0, 0.0, 0.0, 0.0, 0.0, 0.0, 0.0, 0.0, 0.0, 0.0, 0.0, 0.0, 0.0, 0.0, 0.0, 0.0, 0.0, 0.0, 0.0, 0.0, 0.0, 0.0, 0.0, 0.0, 0.0, 0.0, 0.0, 0.0, 0.0, 0.0, 0.0, 0.0, 0.0, 0.0, 0.0, 0.0, 0.0, 0.0, 0.0, 0.0, 0.0, 0.0, 0.0, 0.0, 0.0, 0.0, 0.0, 0.0, 0.0, 0.0, 0.0, 0.0, 0.0, 0.0, 0.0, 0.0, 0.0, 0.0, 0.0, 0.0, 0.0, 0.0, 0.0, 0.0, 0.0, 0.0, 0.0, 0.0, 0.0, 0.0, 0.0, 0.0, 0.0, 0.0, 0.0, 0.0, 0.0, 0.0, 0.0, 0.0, 0.0, 0.0, 0.0, 0.0, 0.0, 0.0, 0.0, 0.0, 0.0, 0.0, 0.0, 0.0, 0.0, 0.0, 0.0, 0.0, 0.0, 0.0, 0.0, 0.0, 0.0, 0.0, 0.0, 0.0, 0.0, 0.0, 0.0, 0.0, 0.0, 0.0, 0.0, 0.0, 0.0, 0.0, 0.0, 0.0, 0.0, 0.0, 0.0, 0.0, 0.0, 0.0, 0.0, 0.0, 0.0, 0.0, 0.0, 0.0, 0.0, 0.0, 0.0, 0.0, 0.0, 0.0, 0.0, 0.0, 0.0, 0.0, 0.0, 0.0, 0.0, 0.0, 0.0, 0.0, 0.0, 0.0, 0.0, 0.0, 0.0, 0.0, 0.0, 0.0, 0.0, 0.0, 0.0, 0.0, 0.0, 0.0, 0.0, 0.0, 0.0, 0.0, 0.0, 0.0, 0.0, 0.0, 0.0, 0.0, 0.0, 0.0, 0.0, 0.0, 0.0, 0.0, 0.0, 0.0, 0.0, 0.0, 0.0, 0.0, 0.0, 0.0, 0.0, 0.0, 0.0, 0.0, 0.0, 0.0, 0.0, 0.0, 0.0, 0.0, 0.0, 0.0, 0.0, 0.0, 0.0, 0.0, 0.0, 0.0, 0.0, 0.0, 0.0, 0.0, 0.0, 0.0, 0.0, 0.0, 0.0, 0.0, 0.0, 0.0, 0.0, 0.0, 0.0, 0.0, 0.0, 0.0, 0.0, 0.0, 0.0, 0.0, 0.0, 0.0, 0.0, 0.0, 0.0, 0.0, 0.0, 0.0, 0.0, 0.0, 0.0, 0.0, 0.0, 0.0, 0.0, 0.0, 0.0, 0.0, 0.0, 0.0, 0.0, 0.0, 0.0, 0.0, 0.0, 0.0, 0.0, 0.0, 0.0, 0.0, 0.0, 0.0, 0.0, 0.0, 0.0, 0.0, 0.0, 0.0, 0.0, 0.0, 0.0, 0.0, 0.0, 0.0, 0.0, 0.0, 0.0, 0.0, 0.0, 0.0, 0.0, 0.0, 0.0, 0.0, 0.0, 0.0, 0.0, 0.0, 0.0, 0.0, 0.0, 0.0, 0.0, 0.0, 0.0, 0.0, 0.0, 0.0, 0.0, 0.0, 0.0, 0.0, 0.0, 0.0, 0.0, 0.0, 0.0, 0.0, 0.0, 0.0, 0.0, 0.0, 0.0, 0.0, 0.0, 0.0, 0.0, 0.0, 0.0, 0.0, 0.0, 0.0, 0.0, 0.0, 0.0, 0.0, 0.0, 0.0, 0.0, 0.0, 0.0, 0.0, 0.0, 0.0, 0.0, 0.0, 0.0, 0.0, 0.0, 0.0, 0.0, 0.0, 0.0, 0.0, 0.0, 0.0, 0.0, 0.0, 0.0, 0.0, 0.0, 0.0, 0.0, 0.0, 0.0, 0.0, 0.0, 0.0, 0.0, 0.0, 0.0, 0.0, 0.0, 0.0, 0.0, 0.0, 0.0, 0.0, 0.0, 0.0, 0.0, 0.0, 0.0, 0.0, 0.0, 0.0, 0.0, 0.0, 0.0, 0.0, 0.0, 0.0, 0.0, 0.0, 0.0, 0.0, 0.0, 0.0, 0.0, 0.0, 0.0, 0.0, 0.0, 0.0, 0.0, 0.0, 0.0, 0.0, 0.0, 0.0, 0.0, 0.0, 0.0, 0.0, 0.0, 0.0, 0.0, 0.0, 0.0, 0.0, 0.0, 0.0, 0.0, 0.0, 0.0, 0.0, 0.0, 0.0, 0.0, 0.0, 0.0, 0.0, 0.0, 0.0, 0.0, 0.0, 0.0, 0.0, 0.0, 0.0, 0.0, 0.0, 0.0, 0.0, 0.0, 0.0, 0.0, 0.0, 0.0, 0.0, 0.0, 0.0, 0.0, 0.0, 0.0, 0.0, 0.0, 0.0, 0.0, 0.0, 0.0, 0.0, 0.0, 0.0, 0.0, 0.0, 0.0, 0.0, 0.0, 0.0, 0.0, 0.0, 0.0, 0.0, 0.0, 0.0, 0.0, 0.0, 0.0, 0.0, 0.0, 0.0, 0.0, 0.0, 0.0, 0.0, 0.0, 0.0, 0.0, 0.0, 0.0, 0.0, 0.0, 0.0, 0.0, 0.0, 0.0, 0.0, 0.0, 0.0, 0.0]}, {\"name\": \"4y ~ 5y\", \"type\": \"scatter\", \"x\": [\"2009-01-09T00:00:00\", \"2009-01-10T00:00:00\", \"2009-01-11T00:00:00\", \"2009-01-12T00:00:00\", \"2009-01-13T00:00:00\", \"2009-01-14T00:00:00\", \"2009-01-15T00:00:00\", \"2009-01-16T00:00:00\", \"2009-01-17T00:00:00\", \"2009-01-18T00:00:00\", \"2009-01-19T00:00:00\", \"2009-01-20T00:00:00\", \"2009-01-21T00:00:00\", \"2009-01-22T00:00:00\", \"2009-01-23T00:00:00\", \"2009-01-24T00:00:00\", \"2009-01-25T00:00:00\", \"2009-01-26T00:00:00\", \"2009-01-27T00:00:00\", \"2009-01-28T00:00:00\", \"2009-01-29T00:00:00\", \"2009-01-30T00:00:00\", \"2009-01-31T00:00:00\", \"2009-02-01T00:00:00\", \"2009-02-02T00:00:00\", \"2009-02-03T00:00:00\", \"2009-02-04T00:00:00\", \"2009-02-05T00:00:00\", \"2009-02-06T00:00:00\", \"2009-02-07T00:00:00\", \"2009-02-08T00:00:00\", \"2009-02-09T00:00:00\", \"2009-02-10T00:00:00\", \"2009-02-11T00:00:00\", \"2009-02-12T00:00:00\", \"2009-02-13T00:00:00\", \"2009-02-14T00:00:00\", \"2009-02-15T00:00:00\", \"2009-02-16T00:00:00\", \"2009-02-17T00:00:00\", \"2009-02-18T00:00:00\", \"2009-02-19T00:00:00\", \"2009-02-20T00:00:00\", \"2009-02-21T00:00:00\", \"2009-02-22T00:00:00\", \"2009-02-23T00:00:00\", \"2009-02-24T00:00:00\", \"2009-02-25T00:00:00\", \"2009-02-26T00:00:00\", \"2009-02-27T00:00:00\", \"2009-02-28T00:00:00\", \"2009-03-01T00:00:00\", \"2009-03-02T00:00:00\", \"2009-03-03T00:00:00\", \"2009-03-04T00:00:00\", \"2009-03-05T00:00:00\", \"2009-03-06T00:00:00\", \"2009-03-07T00:00:00\", \"2009-03-08T00:00:00\", \"2009-03-09T00:00:00\", \"2009-03-10T00:00:00\", \"2009-03-11T00:00:00\", \"2009-03-12T00:00:00\", \"2009-03-13T00:00:00\", \"2009-03-14T00:00:00\", \"2009-03-15T00:00:00\", \"2009-03-16T00:00:00\", \"2009-03-17T00:00:00\", \"2009-03-18T00:00:00\", \"2009-03-19T00:00:00\", \"2009-03-20T00:00:00\", \"2009-03-21T00:00:00\", \"2009-03-22T00:00:00\", \"2009-03-23T00:00:00\", \"2009-03-24T00:00:00\", \"2009-03-25T00:00:00\", \"2009-03-26T00:00:00\", \"2009-03-27T00:00:00\", \"2009-03-28T00:00:00\", \"2009-03-29T00:00:00\", \"2009-03-30T00:00:00\", \"2009-03-31T00:00:00\", \"2009-04-01T00:00:00\", \"2009-04-02T00:00:00\", \"2009-04-03T00:00:00\", \"2009-04-04T00:00:00\", \"2009-04-05T00:00:00\", \"2009-04-06T00:00:00\", \"2009-04-07T00:00:00\", \"2009-04-08T00:00:00\", \"2009-04-09T00:00:00\", \"2009-04-10T00:00:00\", \"2009-04-11T00:00:00\", \"2009-04-12T00:00:00\", \"2009-04-13T00:00:00\", \"2009-04-14T00:00:00\", \"2009-04-15T00:00:00\", \"2009-04-16T00:00:00\", \"2009-04-17T00:00:00\", \"2009-04-18T00:00:00\", \"2009-04-19T00:00:00\", \"2009-04-20T00:00:00\", \"2009-04-21T00:00:00\", \"2009-04-22T00:00:00\", \"2009-04-23T00:00:00\", \"2009-04-24T00:00:00\", \"2009-04-25T00:00:00\", \"2009-04-26T00:00:00\", \"2009-04-27T00:00:00\", \"2009-04-28T00:00:00\", \"2009-04-29T00:00:00\", \"2009-04-30T00:00:00\", \"2009-05-01T00:00:00\", \"2009-05-02T00:00:00\", \"2009-05-03T00:00:00\", \"2009-05-04T00:00:00\", \"2009-05-05T00:00:00\", \"2009-05-06T00:00:00\", \"2009-05-07T00:00:00\", \"2009-05-08T00:00:00\", \"2009-05-09T00:00:00\", \"2009-05-10T00:00:00\", \"2009-05-11T00:00:00\", \"2009-05-12T00:00:00\", \"2009-05-13T00:00:00\", \"2009-05-14T00:00:00\", \"2009-05-15T00:00:00\", \"2009-05-16T00:00:00\", \"2009-05-17T00:00:00\", \"2009-05-18T00:00:00\", \"2009-05-19T00:00:00\", \"2009-05-20T00:00:00\", \"2009-05-21T00:00:00\", \"2009-05-22T00:00:00\", \"2009-05-23T00:00:00\", \"2009-05-24T00:00:00\", \"2009-05-25T00:00:00\", \"2009-05-26T00:00:00\", \"2009-05-27T00:00:00\", \"2009-05-28T00:00:00\", \"2009-05-29T00:00:00\", \"2009-05-30T00:00:00\", \"2009-05-31T00:00:00\", \"2009-06-01T00:00:00\", \"2009-06-02T00:00:00\", \"2009-06-03T00:00:00\", \"2009-06-04T00:00:00\", \"2009-06-05T00:00:00\", \"2009-06-06T00:00:00\", \"2009-06-07T00:00:00\", \"2009-06-08T00:00:00\", \"2009-06-09T00:00:00\", \"2009-06-10T00:00:00\", \"2009-06-11T00:00:00\", \"2009-06-12T00:00:00\", \"2009-06-13T00:00:00\", \"2009-06-14T00:00:00\", \"2009-06-15T00:00:00\", \"2009-06-16T00:00:00\", \"2009-06-17T00:00:00\", \"2009-06-18T00:00:00\", \"2009-06-19T00:00:00\", \"2009-06-20T00:00:00\", \"2009-06-21T00:00:00\", \"2009-06-22T00:00:00\", \"2009-06-23T00:00:00\", \"2009-06-24T00:00:00\", \"2009-06-25T00:00:00\", \"2009-06-26T00:00:00\", \"2009-06-27T00:00:00\", \"2009-06-28T00:00:00\", \"2009-06-29T00:00:00\", \"2009-06-30T00:00:00\", \"2009-07-01T00:00:00\", \"2009-07-02T00:00:00\", \"2009-07-03T00:00:00\", \"2009-07-04T00:00:00\", \"2009-07-05T00:00:00\", \"2009-07-06T00:00:00\", \"2009-07-07T00:00:00\", \"2009-07-08T00:00:00\", \"2009-07-09T00:00:00\", \"2009-07-10T00:00:00\", \"2009-07-11T00:00:00\", \"2009-07-12T00:00:00\", \"2009-07-13T00:00:00\", \"2009-07-14T00:00:00\", \"2009-07-15T00:00:00\", \"2009-07-16T00:00:00\", \"2009-07-17T00:00:00\", \"2009-07-18T00:00:00\", \"2009-07-19T00:00:00\", \"2009-07-20T00:00:00\", \"2009-07-21T00:00:00\", \"2009-07-22T00:00:00\", \"2009-07-23T00:00:00\", \"2009-07-24T00:00:00\", \"2009-07-25T00:00:00\", \"2009-07-26T00:00:00\", \"2009-07-27T00:00:00\", \"2009-07-28T00:00:00\", \"2009-07-29T00:00:00\", \"2009-07-30T00:00:00\", \"2009-07-31T00:00:00\", \"2009-08-01T00:00:00\", \"2009-08-02T00:00:00\", \"2009-08-03T00:00:00\", \"2009-08-04T00:00:00\", \"2009-08-05T00:00:00\", \"2009-08-06T00:00:00\", \"2009-08-07T00:00:00\", \"2009-08-08T00:00:00\", \"2009-08-09T00:00:00\", \"2009-08-10T00:00:00\", \"2009-08-11T00:00:00\", \"2009-08-12T00:00:00\", \"2009-08-13T00:00:00\", \"2009-08-14T00:00:00\", \"2009-08-15T00:00:00\", \"2009-08-16T00:00:00\", \"2009-08-17T00:00:00\", \"2009-08-18T00:00:00\", \"2009-08-19T00:00:00\", \"2009-08-20T00:00:00\", \"2009-08-21T00:00:00\", \"2009-08-22T00:00:00\", \"2009-08-23T00:00:00\", \"2009-08-24T00:00:00\", \"2009-08-25T00:00:00\", \"2009-08-26T00:00:00\", \"2009-08-27T00:00:00\", \"2009-08-28T00:00:00\", \"2009-08-29T00:00:00\", \"2009-08-30T00:00:00\", \"2009-08-31T00:00:00\", \"2009-09-01T00:00:00\", \"2009-09-02T00:00:00\", \"2009-09-03T00:00:00\", \"2009-09-04T00:00:00\", \"2009-09-05T00:00:00\", \"2009-09-06T00:00:00\", \"2009-09-07T00:00:00\", \"2009-09-08T00:00:00\", \"2009-09-09T00:00:00\", \"2009-09-10T00:00:00\", \"2009-09-11T00:00:00\", \"2009-09-12T00:00:00\", \"2009-09-13T00:00:00\", \"2009-09-14T00:00:00\", \"2009-09-15T00:00:00\", \"2009-09-16T00:00:00\", \"2009-09-17T00:00:00\", \"2009-09-18T00:00:00\", \"2009-09-19T00:00:00\", \"2009-09-20T00:00:00\", \"2009-09-21T00:00:00\", \"2009-09-22T00:00:00\", \"2009-09-23T00:00:00\", \"2009-09-24T00:00:00\", \"2009-09-25T00:00:00\", \"2009-09-26T00:00:00\", \"2009-09-27T00:00:00\", \"2009-09-28T00:00:00\", \"2009-09-29T00:00:00\", \"2009-09-30T00:00:00\", \"2009-10-01T00:00:00\", \"2009-10-02T00:00:00\", \"2009-10-03T00:00:00\", \"2009-10-04T00:00:00\", \"2009-10-05T00:00:00\", \"2009-10-06T00:00:00\", \"2009-10-07T00:00:00\", \"2009-10-08T00:00:00\", \"2009-10-09T00:00:00\", \"2009-10-10T00:00:00\", \"2009-10-11T00:00:00\", \"2009-10-12T00:00:00\", \"2009-10-13T00:00:00\", \"2009-10-14T00:00:00\", \"2009-10-15T00:00:00\", \"2009-10-16T00:00:00\", \"2009-10-17T00:00:00\", \"2009-10-18T00:00:00\", \"2009-10-19T00:00:00\", \"2009-10-20T00:00:00\", \"2009-10-21T00:00:00\", \"2009-10-22T00:00:00\", \"2009-10-23T00:00:00\", \"2009-10-24T00:00:00\", \"2009-10-25T00:00:00\", \"2009-10-26T00:00:00\", \"2009-10-27T00:00:00\", \"2009-10-28T00:00:00\", \"2009-10-29T00:00:00\", \"2009-10-30T00:00:00\", \"2009-10-31T00:00:00\", \"2009-11-01T00:00:00\", \"2009-11-02T00:00:00\", \"2009-11-03T00:00:00\", \"2009-11-04T00:00:00\", \"2009-11-05T00:00:00\", \"2009-11-06T00:00:00\", \"2009-11-07T00:00:00\", \"2009-11-08T00:00:00\", \"2009-11-09T00:00:00\", \"2009-11-10T00:00:00\", \"2009-11-11T00:00:00\", \"2009-11-12T00:00:00\", \"2009-11-13T00:00:00\", \"2009-11-14T00:00:00\", \"2009-11-15T00:00:00\", \"2009-11-16T00:00:00\", \"2009-11-17T00:00:00\", \"2009-11-18T00:00:00\", \"2009-11-19T00:00:00\", \"2009-11-20T00:00:00\", \"2009-11-21T00:00:00\", \"2009-11-22T00:00:00\", \"2009-11-23T00:00:00\", \"2009-11-24T00:00:00\", \"2009-11-25T00:00:00\", \"2009-11-26T00:00:00\", \"2009-11-27T00:00:00\", \"2009-11-28T00:00:00\", \"2009-11-29T00:00:00\", \"2009-11-30T00:00:00\", \"2009-12-01T00:00:00\", \"2009-12-02T00:00:00\", \"2009-12-03T00:00:00\", \"2009-12-04T00:00:00\", \"2009-12-05T00:00:00\", \"2009-12-06T00:00:00\", \"2009-12-07T00:00:00\", \"2009-12-08T00:00:00\", \"2009-12-09T00:00:00\", \"2009-12-10T00:00:00\", \"2009-12-11T00:00:00\", \"2009-12-12T00:00:00\", \"2009-12-13T00:00:00\", \"2009-12-14T00:00:00\", \"2009-12-15T00:00:00\", \"2009-12-16T00:00:00\", \"2009-12-17T00:00:00\", \"2009-12-18T00:00:00\", \"2009-12-19T00:00:00\", \"2009-12-20T00:00:00\", \"2009-12-21T00:00:00\", \"2009-12-22T00:00:00\", \"2009-12-23T00:00:00\", \"2009-12-24T00:00:00\", \"2009-12-25T00:00:00\", \"2009-12-26T00:00:00\", \"2009-12-27T00:00:00\", \"2009-12-28T00:00:00\", \"2009-12-29T00:00:00\", \"2009-12-30T00:00:00\", \"2009-12-31T00:00:00\", \"2010-01-01T00:00:00\", \"2010-01-02T00:00:00\", \"2010-01-03T00:00:00\", \"2010-01-04T00:00:00\", \"2010-01-05T00:00:00\", \"2010-01-06T00:00:00\", \"2010-01-07T00:00:00\", \"2010-01-08T00:00:00\", \"2010-01-09T00:00:00\", \"2010-01-10T00:00:00\", \"2010-01-11T00:00:00\", \"2010-01-12T00:00:00\", \"2010-01-13T00:00:00\", \"2010-01-14T00:00:00\", \"2010-01-15T00:00:00\", \"2010-01-16T00:00:00\", \"2010-01-17T00:00:00\", \"2010-01-18T00:00:00\", \"2010-01-19T00:00:00\", \"2010-01-20T00:00:00\", \"2010-01-21T00:00:00\", \"2010-01-22T00:00:00\", \"2010-01-23T00:00:00\", \"2010-01-24T00:00:00\", \"2010-01-25T00:00:00\", \"2010-01-26T00:00:00\", \"2010-01-27T00:00:00\", \"2010-01-28T00:00:00\", \"2010-01-29T00:00:00\", \"2010-01-30T00:00:00\", \"2010-01-31T00:00:00\", \"2010-02-01T00:00:00\", \"2010-02-02T00:00:00\", \"2010-02-03T00:00:00\", \"2010-02-04T00:00:00\", \"2010-02-05T00:00:00\", \"2010-02-06T00:00:00\", \"2010-02-07T00:00:00\", \"2010-02-08T00:00:00\", \"2010-02-09T00:00:00\", \"2010-02-10T00:00:00\", \"2010-02-11T00:00:00\", \"2010-02-12T00:00:00\", \"2010-02-13T00:00:00\", \"2010-02-14T00:00:00\", \"2010-02-15T00:00:00\", \"2010-02-16T00:00:00\", \"2010-02-17T00:00:00\", \"2010-02-18T00:00:00\", \"2010-02-19T00:00:00\", \"2010-02-20T00:00:00\", \"2010-02-21T00:00:00\", \"2010-02-22T00:00:00\", \"2010-02-23T00:00:00\", \"2010-02-24T00:00:00\", \"2010-02-25T00:00:00\", \"2010-02-26T00:00:00\", \"2010-02-27T00:00:00\", \"2010-02-28T00:00:00\", \"2010-03-01T00:00:00\", \"2010-03-02T00:00:00\", \"2010-03-03T00:00:00\", \"2010-03-04T00:00:00\", \"2010-03-05T00:00:00\", \"2010-03-06T00:00:00\", \"2010-03-07T00:00:00\", \"2010-03-08T00:00:00\", \"2010-03-09T00:00:00\", \"2010-03-10T00:00:00\", \"2010-03-11T00:00:00\", \"2010-03-12T00:00:00\", \"2010-03-13T00:00:00\", \"2010-03-14T00:00:00\", \"2010-03-15T00:00:00\", \"2010-03-16T00:00:00\", \"2010-03-17T00:00:00\", \"2010-03-18T00:00:00\", \"2010-03-19T00:00:00\", \"2010-03-20T00:00:00\", \"2010-03-21T00:00:00\", \"2010-03-22T00:00:00\", \"2010-03-23T00:00:00\", \"2010-03-24T00:00:00\", \"2010-03-25T00:00:00\", \"2010-03-26T00:00:00\", \"2010-03-27T00:00:00\", \"2010-03-28T00:00:00\", \"2010-03-29T00:00:00\", \"2010-03-30T00:00:00\", \"2010-03-31T00:00:00\", \"2010-04-01T00:00:00\", \"2010-04-02T00:00:00\", \"2010-04-03T00:00:00\", \"2010-04-04T00:00:00\", \"2010-04-05T00:00:00\", \"2010-04-06T00:00:00\", \"2010-04-07T00:00:00\", \"2010-04-08T00:00:00\", \"2010-04-09T00:00:00\", \"2010-04-10T00:00:00\", \"2010-04-11T00:00:00\", \"2010-04-12T00:00:00\", \"2010-04-13T00:00:00\", \"2010-04-14T00:00:00\", \"2010-04-15T00:00:00\", \"2010-04-16T00:00:00\", \"2010-04-17T00:00:00\", \"2010-04-18T00:00:00\", \"2010-04-19T00:00:00\", \"2010-04-20T00:00:00\", \"2010-04-21T00:00:00\", \"2010-04-22T00:00:00\", \"2010-04-23T00:00:00\", \"2010-04-24T00:00:00\", \"2010-04-25T00:00:00\", \"2010-04-26T00:00:00\", \"2010-04-27T00:00:00\", \"2010-04-28T00:00:00\", \"2010-04-29T00:00:00\", \"2010-04-30T00:00:00\", \"2010-05-01T00:00:00\", \"2010-05-02T00:00:00\", \"2010-05-03T00:00:00\", \"2010-05-04T00:00:00\", \"2010-05-05T00:00:00\", \"2010-05-06T00:00:00\", \"2010-05-07T00:00:00\", \"2010-05-08T00:00:00\", \"2010-05-09T00:00:00\", \"2010-05-10T00:00:00\", \"2010-05-11T00:00:00\", \"2010-05-12T00:00:00\", \"2010-05-13T00:00:00\", \"2010-05-14T00:00:00\", \"2010-05-15T00:00:00\", \"2010-05-16T00:00:00\", \"2010-05-17T00:00:00\", \"2010-05-18T00:00:00\", \"2010-05-19T00:00:00\", \"2010-05-20T00:00:00\", \"2010-05-21T00:00:00\", \"2010-05-22T00:00:00\", \"2010-05-23T00:00:00\", \"2010-05-24T00:00:00\", \"2010-05-25T00:00:00\", \"2010-05-26T00:00:00\", \"2010-05-27T00:00:00\", \"2010-05-28T00:00:00\", \"2010-05-29T00:00:00\", \"2010-05-30T00:00:00\", \"2010-05-31T00:00:00\", \"2010-06-01T00:00:00\", \"2010-06-02T00:00:00\", \"2010-06-03T00:00:00\", \"2010-06-04T00:00:00\", \"2010-06-05T00:00:00\", \"2010-06-06T00:00:00\", \"2010-06-07T00:00:00\", \"2010-06-08T00:00:00\", \"2010-06-09T00:00:00\", \"2010-06-10T00:00:00\", \"2010-06-11T00:00:00\", \"2010-06-12T00:00:00\", \"2010-06-13T00:00:00\", \"2010-06-14T00:00:00\", \"2010-06-15T00:00:00\", \"2010-06-16T00:00:00\", \"2010-06-17T00:00:00\", \"2010-06-18T00:00:00\", \"2010-06-19T00:00:00\", \"2010-06-20T00:00:00\", \"2010-06-21T00:00:00\", \"2010-06-22T00:00:00\", \"2010-06-23T00:00:00\", \"2010-06-24T00:00:00\", \"2010-06-25T00:00:00\", \"2010-06-26T00:00:00\", \"2010-06-27T00:00:00\", \"2010-06-28T00:00:00\", \"2010-06-29T00:00:00\", \"2010-06-30T00:00:00\", \"2010-07-01T00:00:00\", \"2010-07-02T00:00:00\", \"2010-07-03T00:00:00\", \"2010-07-04T00:00:00\", \"2010-07-05T00:00:00\", \"2010-07-06T00:00:00\", \"2010-07-07T00:00:00\", \"2010-07-08T00:00:00\", \"2010-07-09T00:00:00\", \"2010-07-10T00:00:00\", \"2010-07-11T00:00:00\", \"2010-07-12T00:00:00\", \"2010-07-13T00:00:00\", \"2010-07-14T00:00:00\", \"2010-07-15T00:00:00\", \"2010-07-16T00:00:00\", \"2010-07-17T00:00:00\", \"2010-07-18T00:00:00\", \"2010-07-19T00:00:00\", \"2010-07-20T00:00:00\", \"2010-07-21T00:00:00\", \"2010-07-22T00:00:00\", \"2010-07-23T00:00:00\", \"2010-07-24T00:00:00\", \"2010-07-25T00:00:00\", \"2010-07-26T00:00:00\", \"2010-07-27T00:00:00\", \"2010-07-28T00:00:00\", \"2010-07-29T00:00:00\", \"2010-07-30T00:00:00\", \"2010-07-31T00:00:00\", \"2010-08-01T00:00:00\", \"2010-08-02T00:00:00\", \"2010-08-03T00:00:00\", \"2010-08-04T00:00:00\", \"2010-08-05T00:00:00\", \"2010-08-06T00:00:00\", \"2010-08-07T00:00:00\", \"2010-08-08T00:00:00\", \"2010-08-09T00:00:00\", \"2010-08-10T00:00:00\", \"2010-08-11T00:00:00\", \"2010-08-12T00:00:00\", \"2010-08-13T00:00:00\", \"2010-08-14T00:00:00\", \"2010-08-15T00:00:00\", \"2010-08-16T00:00:00\", \"2010-08-17T00:00:00\", \"2010-08-18T00:00:00\", \"2010-08-19T00:00:00\", \"2010-08-20T00:00:00\", \"2010-08-21T00:00:00\", \"2010-08-22T00:00:00\", \"2010-08-23T00:00:00\", \"2010-08-24T00:00:00\", \"2010-08-25T00:00:00\", \"2010-08-26T00:00:00\", \"2010-08-27T00:00:00\", \"2010-08-28T00:00:00\", \"2010-08-29T00:00:00\", \"2010-08-30T00:00:00\", \"2010-08-31T00:00:00\", \"2010-09-01T00:00:00\", \"2010-09-02T00:00:00\", \"2010-09-03T00:00:00\", \"2010-09-04T00:00:00\", \"2010-09-05T00:00:00\", \"2010-09-06T00:00:00\", \"2010-09-07T00:00:00\", \"2010-09-08T00:00:00\", \"2010-09-09T00:00:00\", \"2010-09-10T00:00:00\", \"2010-09-11T00:00:00\", \"2010-09-12T00:00:00\", \"2010-09-13T00:00:00\", \"2010-09-14T00:00:00\", \"2010-09-15T00:00:00\", \"2010-09-16T00:00:00\", \"2010-09-17T00:00:00\", \"2010-09-18T00:00:00\", \"2010-09-19T00:00:00\", \"2010-09-20T00:00:00\", \"2010-09-21T00:00:00\", \"2010-09-22T00:00:00\", \"2010-09-23T00:00:00\", \"2010-09-24T00:00:00\", \"2010-09-25T00:00:00\", \"2010-09-26T00:00:00\", \"2010-09-27T00:00:00\", \"2010-09-28T00:00:00\", \"2010-09-29T00:00:00\", \"2010-09-30T00:00:00\", \"2010-10-01T00:00:00\", \"2010-10-02T00:00:00\", \"2010-10-03T00:00:00\", \"2010-10-04T00:00:00\", \"2010-10-05T00:00:00\", \"2010-10-06T00:00:00\", \"2010-10-07T00:00:00\", \"2010-10-08T00:00:00\", \"2010-10-09T00:00:00\", \"2010-10-10T00:00:00\", \"2010-10-11T00:00:00\", \"2010-10-12T00:00:00\", \"2010-10-13T00:00:00\", \"2010-10-14T00:00:00\", \"2010-10-15T00:00:00\", \"2010-10-16T00:00:00\", \"2010-10-17T00:00:00\", \"2010-10-18T00:00:00\", \"2010-10-19T00:00:00\", \"2010-10-20T00:00:00\", \"2010-10-21T00:00:00\", \"2010-10-22T00:00:00\", \"2010-10-23T00:00:00\", \"2010-10-24T00:00:00\", \"2010-10-25T00:00:00\", \"2010-10-26T00:00:00\", \"2010-10-27T00:00:00\", \"2010-10-28T00:00:00\", \"2010-10-29T00:00:00\", \"2010-10-30T00:00:00\", \"2010-10-31T00:00:00\", \"2010-11-01T00:00:00\", \"2010-11-02T00:00:00\", \"2010-11-03T00:00:00\", \"2010-11-04T00:00:00\", \"2010-11-05T00:00:00\", \"2010-11-06T00:00:00\", \"2010-11-07T00:00:00\", \"2010-11-08T00:00:00\", \"2010-11-09T00:00:00\", \"2010-11-10T00:00:00\", \"2010-11-11T00:00:00\", \"2010-11-12T00:00:00\", \"2010-11-13T00:00:00\", \"2010-11-14T00:00:00\", \"2010-11-15T00:00:00\", \"2010-11-16T00:00:00\", \"2010-11-17T00:00:00\", \"2010-11-18T00:00:00\", \"2010-11-19T00:00:00\", \"2010-11-20T00:00:00\", \"2010-11-21T00:00:00\", \"2010-11-22T00:00:00\", \"2010-11-23T00:00:00\", \"2010-11-24T00:00:00\", \"2010-11-25T00:00:00\", \"2010-11-26T00:00:00\", \"2010-11-27T00:00:00\", \"2010-11-28T00:00:00\", \"2010-11-29T00:00:00\", \"2010-11-30T00:00:00\", \"2010-12-01T00:00:00\", \"2010-12-02T00:00:00\", \"2010-12-03T00:00:00\", \"2010-12-04T00:00:00\", \"2010-12-05T00:00:00\", \"2010-12-06T00:00:00\", \"2010-12-07T00:00:00\", \"2010-12-08T00:00:00\", \"2010-12-09T00:00:00\", \"2010-12-10T00:00:00\", \"2010-12-11T00:00:00\", \"2010-12-12T00:00:00\", \"2010-12-13T00:00:00\", \"2010-12-14T00:00:00\", \"2010-12-15T00:00:00\", \"2010-12-16T00:00:00\", \"2010-12-17T00:00:00\", \"2010-12-18T00:00:00\", \"2010-12-19T00:00:00\", \"2010-12-20T00:00:00\", \"2010-12-21T00:00:00\", \"2010-12-22T00:00:00\", \"2010-12-23T00:00:00\", \"2010-12-24T00:00:00\", \"2010-12-25T00:00:00\", \"2010-12-26T00:00:00\", \"2010-12-27T00:00:00\", \"2010-12-28T00:00:00\", \"2010-12-29T00:00:00\", \"2010-12-30T00:00:00\", \"2010-12-31T00:00:00\"], \"y\": [0.0, 0.0, 0.0, 0.0, 0.0, 0.0, 0.0, 0.0, 0.0, 0.0, 0.0, 0.0, 0.0, 0.0, 0.0, 0.0, 0.0, 0.0, 0.0, 0.0, 0.0, 0.0, 0.0, 0.0, 0.0, 0.0, 0.0, 0.0, 0.0, 0.0, 0.0, 0.0, 0.0, 0.0, 0.0, 0.0, 0.0, 0.0, 0.0, 0.0, 0.0, 0.0, 0.0, 0.0, 0.0, 0.0, 0.0, 0.0, 0.0, 0.0, 0.0, 0.0, 0.0, 0.0, 0.0, 0.0, 0.0, 0.0, 0.0, 0.0, 0.0, 0.0, 0.0, 0.0, 0.0, 0.0, 0.0, 0.0, 0.0, 0.0, 0.0, 0.0, 0.0, 0.0, 0.0, 0.0, 0.0, 0.0, 0.0, 0.0, 0.0, 0.0, 0.0, 0.0, 0.0, 0.0, 0.0, 0.0, 0.0, 0.0, 0.0, 0.0, 0.0, 0.0, 0.0, 0.0, 0.0, 0.0, 0.0, 0.0, 0.0, 0.0, 0.0, 0.0, 0.0, 0.0, 0.0, 0.0, 0.0, 0.0, 0.0, 0.0, 0.0, 0.0, 0.0, 0.0, 0.0, 0.0, 0.0, 0.0, 0.0, 0.0, 0.0, 0.0, 0.0, 0.0, 0.0, 0.0, 0.0, 0.0, 0.0, 0.0, 0.0, 0.0, 0.0, 0.0, 0.0, 0.0, 0.0, 0.0, 0.0, 0.0, 0.0, 0.0, 0.0, 0.0, 0.0, 0.0, 0.0, 0.0, 0.0, 0.0, 0.0, 0.0, 0.0, 0.0, 0.0, 0.0, 0.0, 0.0, 0.0, 0.0, 0.0, 0.0, 0.0, 0.0, 0.0, 0.0, 0.0, 0.0, 0.0, 0.0, 0.0, 0.0, 0.0, 0.0, 0.0, 0.0, 0.0, 0.0, 0.0, 0.0, 0.0, 0.0, 0.0, 0.0, 0.0, 0.0, 0.0, 0.0, 0.0, 0.0, 0.0, 0.0, 0.0, 0.0, 0.0, 0.0, 0.0, 0.0, 0.0, 0.0, 0.0, 0.0, 0.0, 0.0, 0.0, 0.0, 0.0, 0.0, 0.0, 0.0, 0.0, 0.0, 0.0, 0.0, 0.0, 0.0, 0.0, 0.0, 0.0, 0.0, 0.0, 0.0, 0.0, 0.0, 0.0, 0.0, 0.0, 0.0, 0.0, 0.0, 0.0, 0.0, 0.0, 0.0, 0.0, 0.0, 0.0, 0.0, 0.0, 0.0, 0.0, 0.0, 0.0, 0.0, 0.0, 0.0, 0.0, 0.0, 0.0, 0.0, 0.0, 0.0, 0.0, 0.0, 0.0, 0.0, 0.0, 0.0, 0.0, 0.0, 0.0, 0.0, 0.0, 0.0, 0.0, 0.0, 0.0, 0.0, 0.0, 0.0, 0.0, 0.0, 0.0, 0.0, 0.0, 0.0, 0.0, 0.0, 0.0, 0.0, 0.0, 0.0, 0.0, 0.0, 0.0, 0.0, 0.0, 0.0, 0.0, 0.0, 0.0, 0.0, 0.0, 0.0, 0.0, 0.0, 0.0, 0.0, 0.0, 0.0, 0.0, 0.0, 0.0, 0.0, 0.0, 0.0, 0.0, 0.0, 0.0, 0.0, 0.0, 0.0, 0.0, 0.0, 0.0, 0.0, 0.0, 0.0, 0.0, 0.0, 0.0, 0.0, 0.0, 0.0, 0.0, 0.0, 0.0, 0.0, 0.0, 0.0, 0.0, 0.0, 0.0, 0.0, 0.0, 0.0, 0.0, 0.0, 0.0, 0.0, 0.0, 0.0, 0.0, 0.0, 0.0, 0.0, 0.0, 0.0, 0.0, 0.0, 0.0, 0.0, 0.0, 0.0, 0.0, 0.0, 0.0, 0.0, 0.0, 0.0, 0.0, 0.0, 0.0, 0.0, 0.0, 0.0, 0.0, 0.0, 0.0, 0.0, 0.0, 0.0, 0.0, 0.0, 0.0, 0.0, 0.0, 0.0, 0.0, 0.0, 0.0, 0.0, 0.0, 0.0, 0.0, 0.0, 0.0, 0.0, 0.0, 0.0, 0.0, 0.0, 0.0, 0.0, 0.0, 0.0, 0.0, 0.0, 0.0, 0.0, 0.0, 0.0, 0.0, 0.0, 0.0, 0.0, 0.0, 0.0, 0.0, 0.0, 0.0, 0.0, 0.0, 0.0, 0.0, 0.0, 0.0, 0.0, 0.0, 0.0, 0.0, 0.0, 0.0, 0.0, 0.0, 0.0, 0.0, 0.0, 0.0, 0.0, 0.0, 0.0, 0.0, 0.0, 0.0, 0.0, 0.0, 0.0, 0.0, 0.0, 0.0, 0.0, 0.0, 0.0, 0.0, 0.0, 0.0, 0.0, 0.0, 0.0, 0.0, 0.0, 0.0, 0.0, 0.0, 0.0, 0.0, 0.0, 0.0, 0.0, 0.0, 0.0, 0.0, 0.0, 0.0, 0.0, 0.0, 0.0, 0.0, 0.0, 0.0, 0.0, 0.0, 0.0, 0.0, 0.0, 0.0, 0.0, 0.0, 0.0, 0.0, 0.0, 0.0, 0.0, 0.0, 0.0, 0.0, 0.0, 0.0, 0.0, 0.0, 0.0, 0.0, 0.0, 0.0, 0.0, 0.0, 0.0, 0.0, 0.0, 0.0, 0.0, 0.0, 0.0, 0.0, 0.0, 0.0, 0.0, 0.0, 0.0, 0.0, 0.0, 0.0, 0.0, 0.0, 0.0, 0.0, 0.0, 0.0, 0.0, 0.0, 0.0, 0.0, 0.0, 0.0, 0.0, 0.0, 0.0, 0.0, 0.0, 0.0, 0.0, 0.0, 0.0, 0.0, 0.0, 0.0, 0.0, 0.0, 0.0, 0.0, 0.0, 0.0, 0.0, 0.0, 0.0, 0.0, 0.0, 0.0, 0.0, 0.0, 0.0, 0.0, 0.0, 0.0, 0.0, 0.0, 0.0, 0.0, 0.0, 0.0, 0.0, 0.0, 0.0, 0.0, 0.0, 0.0, 0.0, 0.0, 0.0, 0.0, 0.0, 0.0, 0.0, 0.0, 0.0, 0.0, 0.0, 0.0, 0.0, 0.0, 0.0, 0.0, 0.0, 0.0, 0.0, 0.0, 0.0, 0.0, 0.0, 0.0, 0.0, 0.0, 0.0, 0.0, 0.0, 0.0, 0.0, 0.0, 0.0, 0.0, 0.0, 0.0, 0.0, 0.0, 0.0, 0.0, 0.0, 0.0, 0.0, 0.0, 0.0, 0.0, 0.0, 0.0, 0.0, 0.0, 0.0, 0.0, 0.0, 0.0, 0.0, 0.0, 0.0, 0.0, 0.0, 0.0, 0.0, 0.0, 0.0, 0.0, 0.0, 0.0, 0.0, 0.0, 0.0, 0.0, 0.0, 0.0, 0.0, 0.0, 0.0, 0.0, 0.0, 0.0, 0.0, 0.0, 0.0, 0.0, 0.0, 0.0, 0.0, 0.0, 0.0, 0.0, 0.0, 0.0, 0.0, 0.0, 0.0, 0.0, 0.0, 0.0, 0.0, 0.0, 0.0, 0.0, 0.0, 0.0, 0.0, 0.0, 0.0, 0.0, 0.0, 0.0, 0.0, 0.0, 0.0, 0.0, 0.0, 0.0, 0.0, 0.0, 0.0, 0.0, 0.0, 0.0, 0.0, 0.0, 0.0, 0.0, 0.0, 0.0, 0.0, 0.0, 0.0, 0.0, 0.0, 0.0, 0.0, 0.0, 0.0, 0.0, 0.0, 0.0, 0.0, 0.0, 0.0, 0.0, 0.0, 0.0, 0.0, 0.0, 0.0, 0.0, 0.0, 0.0, 0.0, 0.0, 0.0]}, {\"name\": \"> 5y\", \"type\": \"scatter\", \"x\": [\"2009-01-09T00:00:00\", \"2009-01-10T00:00:00\", \"2009-01-11T00:00:00\", \"2009-01-12T00:00:00\", \"2009-01-13T00:00:00\", \"2009-01-14T00:00:00\", \"2009-01-15T00:00:00\", \"2009-01-16T00:00:00\", \"2009-01-17T00:00:00\", \"2009-01-18T00:00:00\", \"2009-01-19T00:00:00\", \"2009-01-20T00:00:00\", \"2009-01-21T00:00:00\", \"2009-01-22T00:00:00\", \"2009-01-23T00:00:00\", \"2009-01-24T00:00:00\", \"2009-01-25T00:00:00\", \"2009-01-26T00:00:00\", \"2009-01-27T00:00:00\", \"2009-01-28T00:00:00\", \"2009-01-29T00:00:00\", \"2009-01-30T00:00:00\", \"2009-01-31T00:00:00\", \"2009-02-01T00:00:00\", \"2009-02-02T00:00:00\", \"2009-02-03T00:00:00\", \"2009-02-04T00:00:00\", \"2009-02-05T00:00:00\", \"2009-02-06T00:00:00\", \"2009-02-07T00:00:00\", \"2009-02-08T00:00:00\", \"2009-02-09T00:00:00\", \"2009-02-10T00:00:00\", \"2009-02-11T00:00:00\", \"2009-02-12T00:00:00\", \"2009-02-13T00:00:00\", \"2009-02-14T00:00:00\", \"2009-02-15T00:00:00\", \"2009-02-16T00:00:00\", \"2009-02-17T00:00:00\", \"2009-02-18T00:00:00\", \"2009-02-19T00:00:00\", \"2009-02-20T00:00:00\", \"2009-02-21T00:00:00\", \"2009-02-22T00:00:00\", \"2009-02-23T00:00:00\", \"2009-02-24T00:00:00\", \"2009-02-25T00:00:00\", \"2009-02-26T00:00:00\", \"2009-02-27T00:00:00\", \"2009-02-28T00:00:00\", \"2009-03-01T00:00:00\", \"2009-03-02T00:00:00\", \"2009-03-03T00:00:00\", \"2009-03-04T00:00:00\", \"2009-03-05T00:00:00\", \"2009-03-06T00:00:00\", \"2009-03-07T00:00:00\", \"2009-03-08T00:00:00\", \"2009-03-09T00:00:00\", \"2009-03-10T00:00:00\", \"2009-03-11T00:00:00\", \"2009-03-12T00:00:00\", \"2009-03-13T00:00:00\", \"2009-03-14T00:00:00\", \"2009-03-15T00:00:00\", \"2009-03-16T00:00:00\", \"2009-03-17T00:00:00\", \"2009-03-18T00:00:00\", \"2009-03-19T00:00:00\", \"2009-03-20T00:00:00\", \"2009-03-21T00:00:00\", \"2009-03-22T00:00:00\", \"2009-03-23T00:00:00\", \"2009-03-24T00:00:00\", \"2009-03-25T00:00:00\", \"2009-03-26T00:00:00\", \"2009-03-27T00:00:00\", \"2009-03-28T00:00:00\", \"2009-03-29T00:00:00\", \"2009-03-30T00:00:00\", \"2009-03-31T00:00:00\", \"2009-04-01T00:00:00\", \"2009-04-02T00:00:00\", \"2009-04-03T00:00:00\", \"2009-04-04T00:00:00\", \"2009-04-05T00:00:00\", \"2009-04-06T00:00:00\", \"2009-04-07T00:00:00\", \"2009-04-08T00:00:00\", \"2009-04-09T00:00:00\", \"2009-04-10T00:00:00\", \"2009-04-11T00:00:00\", \"2009-04-12T00:00:00\", \"2009-04-13T00:00:00\", \"2009-04-14T00:00:00\", \"2009-04-15T00:00:00\", \"2009-04-16T00:00:00\", \"2009-04-17T00:00:00\", \"2009-04-18T00:00:00\", \"2009-04-19T00:00:00\", \"2009-04-20T00:00:00\", \"2009-04-21T00:00:00\", \"2009-04-22T00:00:00\", \"2009-04-23T00:00:00\", \"2009-04-24T00:00:00\", \"2009-04-25T00:00:00\", \"2009-04-26T00:00:00\", \"2009-04-27T00:00:00\", \"2009-04-28T00:00:00\", \"2009-04-29T00:00:00\", \"2009-04-30T00:00:00\", \"2009-05-01T00:00:00\", \"2009-05-02T00:00:00\", \"2009-05-03T00:00:00\", \"2009-05-04T00:00:00\", \"2009-05-05T00:00:00\", \"2009-05-06T00:00:00\", \"2009-05-07T00:00:00\", \"2009-05-08T00:00:00\", \"2009-05-09T00:00:00\", \"2009-05-10T00:00:00\", \"2009-05-11T00:00:00\", \"2009-05-12T00:00:00\", \"2009-05-13T00:00:00\", \"2009-05-14T00:00:00\", \"2009-05-15T00:00:00\", \"2009-05-16T00:00:00\", \"2009-05-17T00:00:00\", \"2009-05-18T00:00:00\", \"2009-05-19T00:00:00\", \"2009-05-20T00:00:00\", \"2009-05-21T00:00:00\", \"2009-05-22T00:00:00\", \"2009-05-23T00:00:00\", \"2009-05-24T00:00:00\", \"2009-05-25T00:00:00\", \"2009-05-26T00:00:00\", \"2009-05-27T00:00:00\", \"2009-05-28T00:00:00\", \"2009-05-29T00:00:00\", \"2009-05-30T00:00:00\", \"2009-05-31T00:00:00\", \"2009-06-01T00:00:00\", \"2009-06-02T00:00:00\", \"2009-06-03T00:00:00\", \"2009-06-04T00:00:00\", \"2009-06-05T00:00:00\", \"2009-06-06T00:00:00\", \"2009-06-07T00:00:00\", \"2009-06-08T00:00:00\", \"2009-06-09T00:00:00\", \"2009-06-10T00:00:00\", \"2009-06-11T00:00:00\", \"2009-06-12T00:00:00\", \"2009-06-13T00:00:00\", \"2009-06-14T00:00:00\", \"2009-06-15T00:00:00\", \"2009-06-16T00:00:00\", \"2009-06-17T00:00:00\", \"2009-06-18T00:00:00\", \"2009-06-19T00:00:00\", \"2009-06-20T00:00:00\", \"2009-06-21T00:00:00\", \"2009-06-22T00:00:00\", \"2009-06-23T00:00:00\", \"2009-06-24T00:00:00\", \"2009-06-25T00:00:00\", \"2009-06-26T00:00:00\", \"2009-06-27T00:00:00\", \"2009-06-28T00:00:00\", \"2009-06-29T00:00:00\", \"2009-06-30T00:00:00\", \"2009-07-01T00:00:00\", \"2009-07-02T00:00:00\", \"2009-07-03T00:00:00\", \"2009-07-04T00:00:00\", \"2009-07-05T00:00:00\", \"2009-07-06T00:00:00\", \"2009-07-07T00:00:00\", \"2009-07-08T00:00:00\", \"2009-07-09T00:00:00\", \"2009-07-10T00:00:00\", \"2009-07-11T00:00:00\", \"2009-07-12T00:00:00\", \"2009-07-13T00:00:00\", \"2009-07-14T00:00:00\", \"2009-07-15T00:00:00\", \"2009-07-16T00:00:00\", \"2009-07-17T00:00:00\", \"2009-07-18T00:00:00\", \"2009-07-19T00:00:00\", \"2009-07-20T00:00:00\", \"2009-07-21T00:00:00\", \"2009-07-22T00:00:00\", \"2009-07-23T00:00:00\", \"2009-07-24T00:00:00\", \"2009-07-25T00:00:00\", \"2009-07-26T00:00:00\", \"2009-07-27T00:00:00\", \"2009-07-28T00:00:00\", \"2009-07-29T00:00:00\", \"2009-07-30T00:00:00\", \"2009-07-31T00:00:00\", \"2009-08-01T00:00:00\", \"2009-08-02T00:00:00\", \"2009-08-03T00:00:00\", \"2009-08-04T00:00:00\", \"2009-08-05T00:00:00\", \"2009-08-06T00:00:00\", \"2009-08-07T00:00:00\", \"2009-08-08T00:00:00\", \"2009-08-09T00:00:00\", \"2009-08-10T00:00:00\", \"2009-08-11T00:00:00\", \"2009-08-12T00:00:00\", \"2009-08-13T00:00:00\", \"2009-08-14T00:00:00\", \"2009-08-15T00:00:00\", \"2009-08-16T00:00:00\", \"2009-08-17T00:00:00\", \"2009-08-18T00:00:00\", \"2009-08-19T00:00:00\", \"2009-08-20T00:00:00\", \"2009-08-21T00:00:00\", \"2009-08-22T00:00:00\", \"2009-08-23T00:00:00\", \"2009-08-24T00:00:00\", \"2009-08-25T00:00:00\", \"2009-08-26T00:00:00\", \"2009-08-27T00:00:00\", \"2009-08-28T00:00:00\", \"2009-08-29T00:00:00\", \"2009-08-30T00:00:00\", \"2009-08-31T00:00:00\", \"2009-09-01T00:00:00\", \"2009-09-02T00:00:00\", \"2009-09-03T00:00:00\", \"2009-09-04T00:00:00\", \"2009-09-05T00:00:00\", \"2009-09-06T00:00:00\", \"2009-09-07T00:00:00\", \"2009-09-08T00:00:00\", \"2009-09-09T00:00:00\", \"2009-09-10T00:00:00\", \"2009-09-11T00:00:00\", \"2009-09-12T00:00:00\", \"2009-09-13T00:00:00\", \"2009-09-14T00:00:00\", \"2009-09-15T00:00:00\", \"2009-09-16T00:00:00\", \"2009-09-17T00:00:00\", \"2009-09-18T00:00:00\", \"2009-09-19T00:00:00\", \"2009-09-20T00:00:00\", \"2009-09-21T00:00:00\", \"2009-09-22T00:00:00\", \"2009-09-23T00:00:00\", \"2009-09-24T00:00:00\", \"2009-09-25T00:00:00\", \"2009-09-26T00:00:00\", \"2009-09-27T00:00:00\", \"2009-09-28T00:00:00\", \"2009-09-29T00:00:00\", \"2009-09-30T00:00:00\", \"2009-10-01T00:00:00\", \"2009-10-02T00:00:00\", \"2009-10-03T00:00:00\", \"2009-10-04T00:00:00\", \"2009-10-05T00:00:00\", \"2009-10-06T00:00:00\", \"2009-10-07T00:00:00\", \"2009-10-08T00:00:00\", \"2009-10-09T00:00:00\", \"2009-10-10T00:00:00\", \"2009-10-11T00:00:00\", \"2009-10-12T00:00:00\", \"2009-10-13T00:00:00\", \"2009-10-14T00:00:00\", \"2009-10-15T00:00:00\", \"2009-10-16T00:00:00\", \"2009-10-17T00:00:00\", \"2009-10-18T00:00:00\", \"2009-10-19T00:00:00\", \"2009-10-20T00:00:00\", \"2009-10-21T00:00:00\", \"2009-10-22T00:00:00\", \"2009-10-23T00:00:00\", \"2009-10-24T00:00:00\", \"2009-10-25T00:00:00\", \"2009-10-26T00:00:00\", \"2009-10-27T00:00:00\", \"2009-10-28T00:00:00\", \"2009-10-29T00:00:00\", \"2009-10-30T00:00:00\", \"2009-10-31T00:00:00\", \"2009-11-01T00:00:00\", \"2009-11-02T00:00:00\", \"2009-11-03T00:00:00\", \"2009-11-04T00:00:00\", \"2009-11-05T00:00:00\", \"2009-11-06T00:00:00\", \"2009-11-07T00:00:00\", \"2009-11-08T00:00:00\", \"2009-11-09T00:00:00\", \"2009-11-10T00:00:00\", \"2009-11-11T00:00:00\", \"2009-11-12T00:00:00\", \"2009-11-13T00:00:00\", \"2009-11-14T00:00:00\", \"2009-11-15T00:00:00\", \"2009-11-16T00:00:00\", \"2009-11-17T00:00:00\", \"2009-11-18T00:00:00\", \"2009-11-19T00:00:00\", \"2009-11-20T00:00:00\", \"2009-11-21T00:00:00\", \"2009-11-22T00:00:00\", \"2009-11-23T00:00:00\", \"2009-11-24T00:00:00\", \"2009-11-25T00:00:00\", \"2009-11-26T00:00:00\", \"2009-11-27T00:00:00\", \"2009-11-28T00:00:00\", \"2009-11-29T00:00:00\", \"2009-11-30T00:00:00\", \"2009-12-01T00:00:00\", \"2009-12-02T00:00:00\", \"2009-12-03T00:00:00\", \"2009-12-04T00:00:00\", \"2009-12-05T00:00:00\", \"2009-12-06T00:00:00\", \"2009-12-07T00:00:00\", \"2009-12-08T00:00:00\", \"2009-12-09T00:00:00\", \"2009-12-10T00:00:00\", \"2009-12-11T00:00:00\", \"2009-12-12T00:00:00\", \"2009-12-13T00:00:00\", \"2009-12-14T00:00:00\", \"2009-12-15T00:00:00\", \"2009-12-16T00:00:00\", \"2009-12-17T00:00:00\", \"2009-12-18T00:00:00\", \"2009-12-19T00:00:00\", \"2009-12-20T00:00:00\", \"2009-12-21T00:00:00\", \"2009-12-22T00:00:00\", \"2009-12-23T00:00:00\", \"2009-12-24T00:00:00\", \"2009-12-25T00:00:00\", \"2009-12-26T00:00:00\", \"2009-12-27T00:00:00\", \"2009-12-28T00:00:00\", \"2009-12-29T00:00:00\", \"2009-12-30T00:00:00\", \"2009-12-31T00:00:00\", \"2010-01-01T00:00:00\", \"2010-01-02T00:00:00\", \"2010-01-03T00:00:00\", \"2010-01-04T00:00:00\", \"2010-01-05T00:00:00\", \"2010-01-06T00:00:00\", \"2010-01-07T00:00:00\", \"2010-01-08T00:00:00\", \"2010-01-09T00:00:00\", \"2010-01-10T00:00:00\", \"2010-01-11T00:00:00\", \"2010-01-12T00:00:00\", \"2010-01-13T00:00:00\", \"2010-01-14T00:00:00\", \"2010-01-15T00:00:00\", \"2010-01-16T00:00:00\", \"2010-01-17T00:00:00\", \"2010-01-18T00:00:00\", \"2010-01-19T00:00:00\", \"2010-01-20T00:00:00\", \"2010-01-21T00:00:00\", \"2010-01-22T00:00:00\", \"2010-01-23T00:00:00\", \"2010-01-24T00:00:00\", \"2010-01-25T00:00:00\", \"2010-01-26T00:00:00\", \"2010-01-27T00:00:00\", \"2010-01-28T00:00:00\", \"2010-01-29T00:00:00\", \"2010-01-30T00:00:00\", \"2010-01-31T00:00:00\", \"2010-02-01T00:00:00\", \"2010-02-02T00:00:00\", \"2010-02-03T00:00:00\", \"2010-02-04T00:00:00\", \"2010-02-05T00:00:00\", \"2010-02-06T00:00:00\", \"2010-02-07T00:00:00\", \"2010-02-08T00:00:00\", \"2010-02-09T00:00:00\", \"2010-02-10T00:00:00\", \"2010-02-11T00:00:00\", \"2010-02-12T00:00:00\", \"2010-02-13T00:00:00\", \"2010-02-14T00:00:00\", \"2010-02-15T00:00:00\", \"2010-02-16T00:00:00\", \"2010-02-17T00:00:00\", \"2010-02-18T00:00:00\", \"2010-02-19T00:00:00\", \"2010-02-20T00:00:00\", \"2010-02-21T00:00:00\", \"2010-02-22T00:00:00\", \"2010-02-23T00:00:00\", \"2010-02-24T00:00:00\", \"2010-02-25T00:00:00\", \"2010-02-26T00:00:00\", \"2010-02-27T00:00:00\", \"2010-02-28T00:00:00\", \"2010-03-01T00:00:00\", \"2010-03-02T00:00:00\", \"2010-03-03T00:00:00\", \"2010-03-04T00:00:00\", \"2010-03-05T00:00:00\", \"2010-03-06T00:00:00\", \"2010-03-07T00:00:00\", \"2010-03-08T00:00:00\", \"2010-03-09T00:00:00\", \"2010-03-10T00:00:00\", \"2010-03-11T00:00:00\", \"2010-03-12T00:00:00\", \"2010-03-13T00:00:00\", \"2010-03-14T00:00:00\", \"2010-03-15T00:00:00\", \"2010-03-16T00:00:00\", \"2010-03-17T00:00:00\", \"2010-03-18T00:00:00\", \"2010-03-19T00:00:00\", \"2010-03-20T00:00:00\", \"2010-03-21T00:00:00\", \"2010-03-22T00:00:00\", \"2010-03-23T00:00:00\", \"2010-03-24T00:00:00\", \"2010-03-25T00:00:00\", \"2010-03-26T00:00:00\", \"2010-03-27T00:00:00\", \"2010-03-28T00:00:00\", \"2010-03-29T00:00:00\", \"2010-03-30T00:00:00\", \"2010-03-31T00:00:00\", \"2010-04-01T00:00:00\", \"2010-04-02T00:00:00\", \"2010-04-03T00:00:00\", \"2010-04-04T00:00:00\", \"2010-04-05T00:00:00\", \"2010-04-06T00:00:00\", \"2010-04-07T00:00:00\", \"2010-04-08T00:00:00\", \"2010-04-09T00:00:00\", \"2010-04-10T00:00:00\", \"2010-04-11T00:00:00\", \"2010-04-12T00:00:00\", \"2010-04-13T00:00:00\", \"2010-04-14T00:00:00\", \"2010-04-15T00:00:00\", \"2010-04-16T00:00:00\", \"2010-04-17T00:00:00\", \"2010-04-18T00:00:00\", \"2010-04-19T00:00:00\", \"2010-04-20T00:00:00\", \"2010-04-21T00:00:00\", \"2010-04-22T00:00:00\", \"2010-04-23T00:00:00\", \"2010-04-24T00:00:00\", \"2010-04-25T00:00:00\", \"2010-04-26T00:00:00\", \"2010-04-27T00:00:00\", \"2010-04-28T00:00:00\", \"2010-04-29T00:00:00\", \"2010-04-30T00:00:00\", \"2010-05-01T00:00:00\", \"2010-05-02T00:00:00\", \"2010-05-03T00:00:00\", \"2010-05-04T00:00:00\", \"2010-05-05T00:00:00\", \"2010-05-06T00:00:00\", \"2010-05-07T00:00:00\", \"2010-05-08T00:00:00\", \"2010-05-09T00:00:00\", \"2010-05-10T00:00:00\", \"2010-05-11T00:00:00\", \"2010-05-12T00:00:00\", \"2010-05-13T00:00:00\", \"2010-05-14T00:00:00\", \"2010-05-15T00:00:00\", \"2010-05-16T00:00:00\", \"2010-05-17T00:00:00\", \"2010-05-18T00:00:00\", \"2010-05-19T00:00:00\", \"2010-05-20T00:00:00\", \"2010-05-21T00:00:00\", \"2010-05-22T00:00:00\", \"2010-05-23T00:00:00\", \"2010-05-24T00:00:00\", \"2010-05-25T00:00:00\", \"2010-05-26T00:00:00\", \"2010-05-27T00:00:00\", \"2010-05-28T00:00:00\", \"2010-05-29T00:00:00\", \"2010-05-30T00:00:00\", \"2010-05-31T00:00:00\", \"2010-06-01T00:00:00\", \"2010-06-02T00:00:00\", \"2010-06-03T00:00:00\", \"2010-06-04T00:00:00\", \"2010-06-05T00:00:00\", \"2010-06-06T00:00:00\", \"2010-06-07T00:00:00\", \"2010-06-08T00:00:00\", \"2010-06-09T00:00:00\", \"2010-06-10T00:00:00\", \"2010-06-11T00:00:00\", \"2010-06-12T00:00:00\", \"2010-06-13T00:00:00\", \"2010-06-14T00:00:00\", \"2010-06-15T00:00:00\", \"2010-06-16T00:00:00\", \"2010-06-17T00:00:00\", \"2010-06-18T00:00:00\", \"2010-06-19T00:00:00\", \"2010-06-20T00:00:00\", \"2010-06-21T00:00:00\", \"2010-06-22T00:00:00\", \"2010-06-23T00:00:00\", \"2010-06-24T00:00:00\", \"2010-06-25T00:00:00\", \"2010-06-26T00:00:00\", \"2010-06-27T00:00:00\", \"2010-06-28T00:00:00\", \"2010-06-29T00:00:00\", \"2010-06-30T00:00:00\", \"2010-07-01T00:00:00\", \"2010-07-02T00:00:00\", \"2010-07-03T00:00:00\", \"2010-07-04T00:00:00\", \"2010-07-05T00:00:00\", \"2010-07-06T00:00:00\", \"2010-07-07T00:00:00\", \"2010-07-08T00:00:00\", \"2010-07-09T00:00:00\", \"2010-07-10T00:00:00\", \"2010-07-11T00:00:00\", \"2010-07-12T00:00:00\", \"2010-07-13T00:00:00\", \"2010-07-14T00:00:00\", \"2010-07-15T00:00:00\", \"2010-07-16T00:00:00\", \"2010-07-17T00:00:00\", \"2010-07-18T00:00:00\", \"2010-07-19T00:00:00\", \"2010-07-20T00:00:00\", \"2010-07-21T00:00:00\", \"2010-07-22T00:00:00\", \"2010-07-23T00:00:00\", \"2010-07-24T00:00:00\", \"2010-07-25T00:00:00\", \"2010-07-26T00:00:00\", \"2010-07-27T00:00:00\", \"2010-07-28T00:00:00\", \"2010-07-29T00:00:00\", \"2010-07-30T00:00:00\", \"2010-07-31T00:00:00\", \"2010-08-01T00:00:00\", \"2010-08-02T00:00:00\", \"2010-08-03T00:00:00\", \"2010-08-04T00:00:00\", \"2010-08-05T00:00:00\", \"2010-08-06T00:00:00\", \"2010-08-07T00:00:00\", \"2010-08-08T00:00:00\", \"2010-08-09T00:00:00\", \"2010-08-10T00:00:00\", \"2010-08-11T00:00:00\", \"2010-08-12T00:00:00\", \"2010-08-13T00:00:00\", \"2010-08-14T00:00:00\", \"2010-08-15T00:00:00\", \"2010-08-16T00:00:00\", \"2010-08-17T00:00:00\", \"2010-08-18T00:00:00\", \"2010-08-19T00:00:00\", \"2010-08-20T00:00:00\", \"2010-08-21T00:00:00\", \"2010-08-22T00:00:00\", \"2010-08-23T00:00:00\", \"2010-08-24T00:00:00\", \"2010-08-25T00:00:00\", \"2010-08-26T00:00:00\", \"2010-08-27T00:00:00\", \"2010-08-28T00:00:00\", \"2010-08-29T00:00:00\", \"2010-08-30T00:00:00\", \"2010-08-31T00:00:00\", \"2010-09-01T00:00:00\", \"2010-09-02T00:00:00\", \"2010-09-03T00:00:00\", \"2010-09-04T00:00:00\", \"2010-09-05T00:00:00\", \"2010-09-06T00:00:00\", \"2010-09-07T00:00:00\", \"2010-09-08T00:00:00\", \"2010-09-09T00:00:00\", \"2010-09-10T00:00:00\", \"2010-09-11T00:00:00\", \"2010-09-12T00:00:00\", \"2010-09-13T00:00:00\", \"2010-09-14T00:00:00\", \"2010-09-15T00:00:00\", \"2010-09-16T00:00:00\", \"2010-09-17T00:00:00\", \"2010-09-18T00:00:00\", \"2010-09-19T00:00:00\", \"2010-09-20T00:00:00\", \"2010-09-21T00:00:00\", \"2010-09-22T00:00:00\", \"2010-09-23T00:00:00\", \"2010-09-24T00:00:00\", \"2010-09-25T00:00:00\", \"2010-09-26T00:00:00\", \"2010-09-27T00:00:00\", \"2010-09-28T00:00:00\", \"2010-09-29T00:00:00\", \"2010-09-30T00:00:00\", \"2010-10-01T00:00:00\", \"2010-10-02T00:00:00\", \"2010-10-03T00:00:00\", \"2010-10-04T00:00:00\", \"2010-10-05T00:00:00\", \"2010-10-06T00:00:00\", \"2010-10-07T00:00:00\", \"2010-10-08T00:00:00\", \"2010-10-09T00:00:00\", \"2010-10-10T00:00:00\", \"2010-10-11T00:00:00\", \"2010-10-12T00:00:00\", \"2010-10-13T00:00:00\", \"2010-10-14T00:00:00\", \"2010-10-15T00:00:00\", \"2010-10-16T00:00:00\", \"2010-10-17T00:00:00\", \"2010-10-18T00:00:00\", \"2010-10-19T00:00:00\", \"2010-10-20T00:00:00\", \"2010-10-21T00:00:00\", \"2010-10-22T00:00:00\", \"2010-10-23T00:00:00\", \"2010-10-24T00:00:00\", \"2010-10-25T00:00:00\", \"2010-10-26T00:00:00\", \"2010-10-27T00:00:00\", \"2010-10-28T00:00:00\", \"2010-10-29T00:00:00\", \"2010-10-30T00:00:00\", \"2010-10-31T00:00:00\", \"2010-11-01T00:00:00\", \"2010-11-02T00:00:00\", \"2010-11-03T00:00:00\", \"2010-11-04T00:00:00\", \"2010-11-05T00:00:00\", \"2010-11-06T00:00:00\", \"2010-11-07T00:00:00\", \"2010-11-08T00:00:00\", \"2010-11-09T00:00:00\", \"2010-11-10T00:00:00\", \"2010-11-11T00:00:00\", \"2010-11-12T00:00:00\", \"2010-11-13T00:00:00\", \"2010-11-14T00:00:00\", \"2010-11-15T00:00:00\", \"2010-11-16T00:00:00\", \"2010-11-17T00:00:00\", \"2010-11-18T00:00:00\", \"2010-11-19T00:00:00\", \"2010-11-20T00:00:00\", \"2010-11-21T00:00:00\", \"2010-11-22T00:00:00\", \"2010-11-23T00:00:00\", \"2010-11-24T00:00:00\", \"2010-11-25T00:00:00\", \"2010-11-26T00:00:00\", \"2010-11-27T00:00:00\", \"2010-11-28T00:00:00\", \"2010-11-29T00:00:00\", \"2010-11-30T00:00:00\", \"2010-12-01T00:00:00\", \"2010-12-02T00:00:00\", \"2010-12-03T00:00:00\", \"2010-12-04T00:00:00\", \"2010-12-05T00:00:00\", \"2010-12-06T00:00:00\", \"2010-12-07T00:00:00\", \"2010-12-08T00:00:00\", \"2010-12-09T00:00:00\", \"2010-12-10T00:00:00\", \"2010-12-11T00:00:00\", \"2010-12-12T00:00:00\", \"2010-12-13T00:00:00\", \"2010-12-14T00:00:00\", \"2010-12-15T00:00:00\", \"2010-12-16T00:00:00\", \"2010-12-17T00:00:00\", \"2010-12-18T00:00:00\", \"2010-12-19T00:00:00\", \"2010-12-20T00:00:00\", \"2010-12-21T00:00:00\", \"2010-12-22T00:00:00\", \"2010-12-23T00:00:00\", \"2010-12-24T00:00:00\", \"2010-12-25T00:00:00\", \"2010-12-26T00:00:00\", \"2010-12-27T00:00:00\", \"2010-12-28T00:00:00\", \"2010-12-29T00:00:00\", \"2010-12-30T00:00:00\", \"2010-12-31T00:00:00\"], \"y\": [0.0, 0.0, 0.0, 0.0, 0.0, 0.0, 0.0, 0.0, 0.0, 0.0, 0.0, 0.0, 0.0, 0.0, 0.0, 0.0, 0.0, 0.0, 0.0, 0.0, 0.0, 0.0, 0.0, 0.0, 0.0, 0.0, 0.0, 0.0, 0.0, 0.0, 0.0, 0.0, 0.0, 0.0, 0.0, 0.0, 0.0, 0.0, 0.0, 0.0, 0.0, 0.0, 0.0, 0.0, 0.0, 0.0, 0.0, 0.0, 0.0, 0.0, 0.0, 0.0, 0.0, 0.0, 0.0, 0.0, 0.0, 0.0, 0.0, 0.0, 0.0, 0.0, 0.0, 0.0, 0.0, 0.0, 0.0, 0.0, 0.0, 0.0, 0.0, 0.0, 0.0, 0.0, 0.0, 0.0, 0.0, 0.0, 0.0, 0.0, 0.0, 0.0, 0.0, 0.0, 0.0, 0.0, 0.0, 0.0, 0.0, 0.0, 0.0, 0.0, 0.0, 0.0, 0.0, 0.0, 0.0, 0.0, 0.0, 0.0, 0.0, 0.0, 0.0, 0.0, 0.0, 0.0, 0.0, 0.0, 0.0, 0.0, 0.0, 0.0, 0.0, 0.0, 0.0, 0.0, 0.0, 0.0, 0.0, 0.0, 0.0, 0.0, 0.0, 0.0, 0.0, 0.0, 0.0, 0.0, 0.0, 0.0, 0.0, 0.0, 0.0, 0.0, 0.0, 0.0, 0.0, 0.0, 0.0, 0.0, 0.0, 0.0, 0.0, 0.0, 0.0, 0.0, 0.0, 0.0, 0.0, 0.0, 0.0, 0.0, 0.0, 0.0, 0.0, 0.0, 0.0, 0.0, 0.0, 0.0, 0.0, 0.0, 0.0, 0.0, 0.0, 0.0, 0.0, 0.0, 0.0, 0.0, 0.0, 0.0, 0.0, 0.0, 0.0, 0.0, 0.0, 0.0, 0.0, 0.0, 0.0, 0.0, 0.0, 0.0, 0.0, 0.0, 0.0, 0.0, 0.0, 0.0, 0.0, 0.0, 0.0, 0.0, 0.0, 0.0, 0.0, 0.0, 0.0, 0.0, 0.0, 0.0, 0.0, 0.0, 0.0, 0.0, 0.0, 0.0, 0.0, 0.0, 0.0, 0.0, 0.0, 0.0, 0.0, 0.0, 0.0, 0.0, 0.0, 0.0, 0.0, 0.0, 0.0, 0.0, 0.0, 0.0, 0.0, 0.0, 0.0, 0.0, 0.0, 0.0, 0.0, 0.0, 0.0, 0.0, 0.0, 0.0, 0.0, 0.0, 0.0, 0.0, 0.0, 0.0, 0.0, 0.0, 0.0, 0.0, 0.0, 0.0, 0.0, 0.0, 0.0, 0.0, 0.0, 0.0, 0.0, 0.0, 0.0, 0.0, 0.0, 0.0, 0.0, 0.0, 0.0, 0.0, 0.0, 0.0, 0.0, 0.0, 0.0, 0.0, 0.0, 0.0, 0.0, 0.0, 0.0, 0.0, 0.0, 0.0, 0.0, 0.0, 0.0, 0.0, 0.0, 0.0, 0.0, 0.0, 0.0, 0.0, 0.0, 0.0, 0.0, 0.0, 0.0, 0.0, 0.0, 0.0, 0.0, 0.0, 0.0, 0.0, 0.0, 0.0, 0.0, 0.0, 0.0, 0.0, 0.0, 0.0, 0.0, 0.0, 0.0, 0.0, 0.0, 0.0, 0.0, 0.0, 0.0, 0.0, 0.0, 0.0, 0.0, 0.0, 0.0, 0.0, 0.0, 0.0, 0.0, 0.0, 0.0, 0.0, 0.0, 0.0, 0.0, 0.0, 0.0, 0.0, 0.0, 0.0, 0.0, 0.0, 0.0, 0.0, 0.0, 0.0, 0.0, 0.0, 0.0, 0.0, 0.0, 0.0, 0.0, 0.0, 0.0, 0.0, 0.0, 0.0, 0.0, 0.0, 0.0, 0.0, 0.0, 0.0, 0.0, 0.0, 0.0, 0.0, 0.0, 0.0, 0.0, 0.0, 0.0, 0.0, 0.0, 0.0, 0.0, 0.0, 0.0, 0.0, 0.0, 0.0, 0.0, 0.0, 0.0, 0.0, 0.0, 0.0, 0.0, 0.0, 0.0, 0.0, 0.0, 0.0, 0.0, 0.0, 0.0, 0.0, 0.0, 0.0, 0.0, 0.0, 0.0, 0.0, 0.0, 0.0, 0.0, 0.0, 0.0, 0.0, 0.0, 0.0, 0.0, 0.0, 0.0, 0.0, 0.0, 0.0, 0.0, 0.0, 0.0, 0.0, 0.0, 0.0, 0.0, 0.0, 0.0, 0.0, 0.0, 0.0, 0.0, 0.0, 0.0, 0.0, 0.0, 0.0, 0.0, 0.0, 0.0, 0.0, 0.0, 0.0, 0.0, 0.0, 0.0, 0.0, 0.0, 0.0, 0.0, 0.0, 0.0, 0.0, 0.0, 0.0, 0.0, 0.0, 0.0, 0.0, 0.0, 0.0, 0.0, 0.0, 0.0, 0.0, 0.0, 0.0, 0.0, 0.0, 0.0, 0.0, 0.0, 0.0, 0.0, 0.0, 0.0, 0.0, 0.0, 0.0, 0.0, 0.0, 0.0, 0.0, 0.0, 0.0, 0.0, 0.0, 0.0, 0.0, 0.0, 0.0, 0.0, 0.0, 0.0, 0.0, 0.0, 0.0, 0.0, 0.0, 0.0, 0.0, 0.0, 0.0, 0.0, 0.0, 0.0, 0.0, 0.0, 0.0, 0.0, 0.0, 0.0, 0.0, 0.0, 0.0, 0.0, 0.0, 0.0, 0.0, 0.0, 0.0, 0.0, 0.0, 0.0, 0.0, 0.0, 0.0, 0.0, 0.0, 0.0, 0.0, 0.0, 0.0, 0.0, 0.0, 0.0, 0.0, 0.0, 0.0, 0.0, 0.0, 0.0, 0.0, 0.0, 0.0, 0.0, 0.0, 0.0, 0.0, 0.0, 0.0, 0.0, 0.0, 0.0, 0.0, 0.0, 0.0, 0.0, 0.0, 0.0, 0.0, 0.0, 0.0, 0.0, 0.0, 0.0, 0.0, 0.0, 0.0, 0.0, 0.0, 0.0, 0.0, 0.0, 0.0, 0.0, 0.0, 0.0, 0.0, 0.0, 0.0, 0.0, 0.0, 0.0, 0.0, 0.0, 0.0, 0.0, 0.0, 0.0, 0.0, 0.0, 0.0, 0.0, 0.0, 0.0, 0.0, 0.0, 0.0, 0.0, 0.0, 0.0, 0.0, 0.0, 0.0, 0.0, 0.0, 0.0, 0.0, 0.0, 0.0, 0.0, 0.0, 0.0, 0.0, 0.0, 0.0, 0.0, 0.0, 0.0, 0.0, 0.0, 0.0, 0.0, 0.0, 0.0, 0.0, 0.0, 0.0, 0.0, 0.0, 0.0, 0.0, 0.0, 0.0, 0.0, 0.0, 0.0, 0.0, 0.0, 0.0, 0.0, 0.0, 0.0, 0.0, 0.0, 0.0, 0.0, 0.0, 0.0, 0.0, 0.0, 0.0, 0.0, 0.0, 0.0, 0.0, 0.0, 0.0, 0.0, 0.0, 0.0, 0.0, 0.0, 0.0, 0.0, 0.0, 0.0, 0.0, 0.0, 0.0, 0.0, 0.0, 0.0, 0.0, 0.0, 0.0, 0.0, 0.0, 0.0, 0.0, 0.0, 0.0, 0.0, 0.0, 0.0, 0.0, 0.0, 0.0, 0.0, 0.0, 0.0, 0.0, 0.0, 0.0, 0.0, 0.0, 0.0, 0.0, 0.0, 0.0, 0.0, 0.0, 0.0, 0.0, 0.0, 0.0, 0.0, 0.0, 0.0, 0.0, 0.0, 0.0, 0.0, 0.0, 0.0, 0.0, 0.0, 0.0, 0.0, 0.0, 0.0, 0.0]}],\n",
              "                        {\"template\": {\"data\": {\"bar\": [{\"error_x\": {\"color\": \"#2a3f5f\"}, \"error_y\": {\"color\": \"#2a3f5f\"}, \"marker\": {\"line\": {\"color\": \"#E5ECF6\", \"width\": 0.5}}, \"type\": \"bar\"}], \"barpolar\": [{\"marker\": {\"line\": {\"color\": \"#E5ECF6\", \"width\": 0.5}}, \"type\": \"barpolar\"}], \"carpet\": [{\"aaxis\": {\"endlinecolor\": \"#2a3f5f\", \"gridcolor\": \"white\", \"linecolor\": \"white\", \"minorgridcolor\": \"white\", \"startlinecolor\": \"#2a3f5f\"}, \"baxis\": {\"endlinecolor\": \"#2a3f5f\", \"gridcolor\": \"white\", \"linecolor\": \"white\", \"minorgridcolor\": \"white\", \"startlinecolor\": \"#2a3f5f\"}, \"type\": \"carpet\"}], \"choropleth\": [{\"colorbar\": {\"outlinewidth\": 0, \"ticks\": \"\"}, \"type\": \"choropleth\"}], \"contour\": [{\"colorbar\": {\"outlinewidth\": 0, \"ticks\": \"\"}, \"colorscale\": [[0.0, \"#0d0887\"], [0.1111111111111111, \"#46039f\"], [0.2222222222222222, \"#7201a8\"], [0.3333333333333333, \"#9c179e\"], [0.4444444444444444, \"#bd3786\"], [0.5555555555555556, \"#d8576b\"], [0.6666666666666666, \"#ed7953\"], [0.7777777777777778, \"#fb9f3a\"], [0.8888888888888888, \"#fdca26\"], [1.0, \"#f0f921\"]], \"type\": \"contour\"}], \"contourcarpet\": [{\"colorbar\": {\"outlinewidth\": 0, \"ticks\": \"\"}, \"type\": \"contourcarpet\"}], \"heatmap\": [{\"colorbar\": {\"outlinewidth\": 0, \"ticks\": \"\"}, \"colorscale\": [[0.0, \"#0d0887\"], [0.1111111111111111, \"#46039f\"], [0.2222222222222222, \"#7201a8\"], [0.3333333333333333, \"#9c179e\"], [0.4444444444444444, \"#bd3786\"], [0.5555555555555556, \"#d8576b\"], [0.6666666666666666, \"#ed7953\"], [0.7777777777777778, \"#fb9f3a\"], [0.8888888888888888, \"#fdca26\"], [1.0, \"#f0f921\"]], \"type\": \"heatmap\"}], \"heatmapgl\": [{\"colorbar\": {\"outlinewidth\": 0, \"ticks\": \"\"}, \"colorscale\": [[0.0, \"#0d0887\"], [0.1111111111111111, \"#46039f\"], [0.2222222222222222, \"#7201a8\"], [0.3333333333333333, \"#9c179e\"], [0.4444444444444444, \"#bd3786\"], [0.5555555555555556, \"#d8576b\"], [0.6666666666666666, \"#ed7953\"], [0.7777777777777778, \"#fb9f3a\"], [0.8888888888888888, \"#fdca26\"], [1.0, \"#f0f921\"]], \"type\": \"heatmapgl\"}], \"histogram\": [{\"marker\": {\"colorbar\": {\"outlinewidth\": 0, \"ticks\": \"\"}}, \"type\": \"histogram\"}], \"histogram2d\": [{\"colorbar\": {\"outlinewidth\": 0, \"ticks\": \"\"}, \"colorscale\": [[0.0, \"#0d0887\"], [0.1111111111111111, \"#46039f\"], [0.2222222222222222, \"#7201a8\"], [0.3333333333333333, \"#9c179e\"], [0.4444444444444444, \"#bd3786\"], [0.5555555555555556, \"#d8576b\"], [0.6666666666666666, \"#ed7953\"], [0.7777777777777778, \"#fb9f3a\"], [0.8888888888888888, \"#fdca26\"], [1.0, \"#f0f921\"]], \"type\": \"histogram2d\"}], \"histogram2dcontour\": [{\"colorbar\": {\"outlinewidth\": 0, \"ticks\": \"\"}, \"colorscale\": [[0.0, \"#0d0887\"], [0.1111111111111111, \"#46039f\"], [0.2222222222222222, \"#7201a8\"], [0.3333333333333333, \"#9c179e\"], [0.4444444444444444, \"#bd3786\"], [0.5555555555555556, \"#d8576b\"], [0.6666666666666666, \"#ed7953\"], [0.7777777777777778, \"#fb9f3a\"], [0.8888888888888888, \"#fdca26\"], [1.0, \"#f0f921\"]], \"type\": \"histogram2dcontour\"}], \"mesh3d\": [{\"colorbar\": {\"outlinewidth\": 0, \"ticks\": \"\"}, \"type\": \"mesh3d\"}], \"parcoords\": [{\"line\": {\"colorbar\": {\"outlinewidth\": 0, \"ticks\": \"\"}}, \"type\": \"parcoords\"}], \"pie\": [{\"automargin\": true, \"type\": \"pie\"}], \"scatter\": [{\"marker\": {\"colorbar\": {\"outlinewidth\": 0, \"ticks\": \"\"}}, \"type\": \"scatter\"}], \"scatter3d\": [{\"line\": {\"colorbar\": {\"outlinewidth\": 0, \"ticks\": \"\"}}, \"marker\": {\"colorbar\": {\"outlinewidth\": 0, \"ticks\": \"\"}}, \"type\": \"scatter3d\"}], \"scattercarpet\": [{\"marker\": {\"colorbar\": {\"outlinewidth\": 0, \"ticks\": \"\"}}, \"type\": \"scattercarpet\"}], \"scattergeo\": [{\"marker\": {\"colorbar\": {\"outlinewidth\": 0, \"ticks\": \"\"}}, \"type\": \"scattergeo\"}], \"scattergl\": [{\"marker\": {\"colorbar\": {\"outlinewidth\": 0, \"ticks\": \"\"}}, \"type\": \"scattergl\"}], \"scattermapbox\": [{\"marker\": {\"colorbar\": {\"outlinewidth\": 0, \"ticks\": \"\"}}, \"type\": \"scattermapbox\"}], \"scatterpolar\": [{\"marker\": {\"colorbar\": {\"outlinewidth\": 0, \"ticks\": \"\"}}, \"type\": \"scatterpolar\"}], \"scatterpolargl\": [{\"marker\": {\"colorbar\": {\"outlinewidth\": 0, \"ticks\": \"\"}}, \"type\": \"scatterpolargl\"}], \"scatterternary\": [{\"marker\": {\"colorbar\": {\"outlinewidth\": 0, \"ticks\": \"\"}}, \"type\": \"scatterternary\"}], \"surface\": [{\"colorbar\": {\"outlinewidth\": 0, \"ticks\": \"\"}, \"colorscale\": [[0.0, \"#0d0887\"], [0.1111111111111111, \"#46039f\"], [0.2222222222222222, \"#7201a8\"], [0.3333333333333333, \"#9c179e\"], [0.4444444444444444, \"#bd3786\"], [0.5555555555555556, \"#d8576b\"], [0.6666666666666666, \"#ed7953\"], [0.7777777777777778, \"#fb9f3a\"], [0.8888888888888888, \"#fdca26\"], [1.0, \"#f0f921\"]], \"type\": \"surface\"}], \"table\": [{\"cells\": {\"fill\": {\"color\": \"#EBF0F8\"}, \"line\": {\"color\": \"white\"}}, \"header\": {\"fill\": {\"color\": \"#C8D4E3\"}, \"line\": {\"color\": \"white\"}}, \"type\": \"table\"}]}, \"layout\": {\"annotationdefaults\": {\"arrowcolor\": \"#2a3f5f\", \"arrowhead\": 0, \"arrowwidth\": 1}, \"coloraxis\": {\"colorbar\": {\"outlinewidth\": 0, \"ticks\": \"\"}}, \"colorscale\": {\"diverging\": [[0, \"#8e0152\"], [0.1, \"#c51b7d\"], [0.2, \"#de77ae\"], [0.3, \"#f1b6da\"], [0.4, \"#fde0ef\"], [0.5, \"#f7f7f7\"], [0.6, \"#e6f5d0\"], [0.7, \"#b8e186\"], [0.8, \"#7fbc41\"], [0.9, \"#4d9221\"], [1, \"#276419\"]], \"sequential\": [[0.0, \"#0d0887\"], [0.1111111111111111, \"#46039f\"], [0.2222222222222222, \"#7201a8\"], [0.3333333333333333, \"#9c179e\"], [0.4444444444444444, \"#bd3786\"], [0.5555555555555556, \"#d8576b\"], [0.6666666666666666, \"#ed7953\"], [0.7777777777777778, \"#fb9f3a\"], [0.8888888888888888, \"#fdca26\"], [1.0, \"#f0f921\"]], \"sequentialminus\": [[0.0, \"#0d0887\"], [0.1111111111111111, \"#46039f\"], [0.2222222222222222, \"#7201a8\"], [0.3333333333333333, \"#9c179e\"], [0.4444444444444444, \"#bd3786\"], [0.5555555555555556, \"#d8576b\"], [0.6666666666666666, \"#ed7953\"], [0.7777777777777778, \"#fb9f3a\"], [0.8888888888888888, \"#fdca26\"], [1.0, \"#f0f921\"]]}, \"colorway\": [\"#636efa\", \"#EF553B\", \"#00cc96\", \"#ab63fa\", \"#FFA15A\", \"#19d3f3\", \"#FF6692\", \"#B6E880\", \"#FF97FF\", \"#FECB52\"], \"font\": {\"color\": \"#2a3f5f\"}, \"geo\": {\"bgcolor\": \"white\", \"lakecolor\": \"white\", \"landcolor\": \"#E5ECF6\", \"showlakes\": true, \"showland\": true, \"subunitcolor\": \"white\"}, \"hoverlabel\": {\"align\": \"left\"}, \"hovermode\": \"closest\", \"mapbox\": {\"style\": \"light\"}, \"paper_bgcolor\": \"white\", \"plot_bgcolor\": \"#E5ECF6\", \"polar\": {\"angularaxis\": {\"gridcolor\": \"white\", \"linecolor\": \"white\", \"ticks\": \"\"}, \"bgcolor\": \"#E5ECF6\", \"radialaxis\": {\"gridcolor\": \"white\", \"linecolor\": \"white\", \"ticks\": \"\"}}, \"scene\": {\"xaxis\": {\"backgroundcolor\": \"#E5ECF6\", \"gridcolor\": \"white\", \"gridwidth\": 2, \"linecolor\": \"white\", \"showbackground\": true, \"ticks\": \"\", \"zerolinecolor\": \"white\"}, \"yaxis\": {\"backgroundcolor\": \"#E5ECF6\", \"gridcolor\": \"white\", \"gridwidth\": 2, \"linecolor\": \"white\", \"showbackground\": true, \"ticks\": \"\", \"zerolinecolor\": \"white\"}, \"zaxis\": {\"backgroundcolor\": \"#E5ECF6\", \"gridcolor\": \"white\", \"gridwidth\": 2, \"linecolor\": \"white\", \"showbackground\": true, \"ticks\": \"\", \"zerolinecolor\": \"white\"}}, \"shapedefaults\": {\"line\": {\"color\": \"#2a3f5f\"}}, \"ternary\": {\"aaxis\": {\"gridcolor\": \"white\", \"linecolor\": \"white\", \"ticks\": \"\"}, \"baxis\": {\"gridcolor\": \"white\", \"linecolor\": \"white\", \"ticks\": \"\"}, \"bgcolor\": \"#E5ECF6\", \"caxis\": {\"gridcolor\": \"white\", \"linecolor\": \"white\", \"ticks\": \"\"}}, \"title\": {\"x\": 0.05}, \"xaxis\": {\"automargin\": true, \"gridcolor\": \"white\", \"linecolor\": \"white\", \"ticks\": \"\", \"title\": {\"standoff\": 15}, \"zerolinecolor\": \"white\", \"zerolinewidth\": 2}, \"yaxis\": {\"automargin\": true, \"gridcolor\": \"white\", \"linecolor\": \"white\", \"ticks\": \"\", \"title\": {\"standoff\": 15}, \"zerolinecolor\": \"white\", \"zerolinewidth\": 2}}}, \"title\": {\"text\": \"UTXO Real-time Life Expectancy Distribution\"}, \"xaxis\": {\"rangeselector\": {\"buttons\": [{\"count\": 1, \"label\": \"1m\", \"step\": \"month\", \"stepmode\": \"backward\"}, {\"count\": 6, \"label\": \"6m\", \"step\": \"month\", \"stepmode\": \"backward\"}, {\"count\": 1, \"label\": \"YTD\", \"step\": \"year\", \"stepmode\": \"todate\"}, {\"count\": 1, \"label\": \"1y\", \"step\": \"year\", \"stepmode\": \"backward\"}, {\"step\": \"all\"}]}, \"rangeslider\": {\"visible\": true}, \"title\": {\"text\": \"date\"}, \"type\": \"date\"}, \"yaxis\": {\"title\": {\"text\": \"Value with UTXO's Life Expectancy\"}, \"type\": \"log\"}},\n",
              "                        {\"responsive\": true}\n",
              "                    ).then(function(){\n",
              "                            \n",
              "var gd = document.getElementById('af7cc211-06d2-46d5-a6cc-3ee74d9f882b');\n",
              "var x = new MutationObserver(function (mutations, observer) {{\n",
              "        var display = window.getComputedStyle(gd).display;\n",
              "        if (!display || display === 'none') {{\n",
              "            console.log([gd, 'removed!']);\n",
              "            Plotly.purge(gd);\n",
              "            observer.disconnect();\n",
              "        }}\n",
              "}});\n",
              "\n",
              "// Listen for the removal of the full notebook cells\n",
              "var notebookContainer = gd.closest('#notebook-container');\n",
              "if (notebookContainer) {{\n",
              "    x.observe(notebookContainer, {childList: true});\n",
              "}}\n",
              "\n",
              "// Listen for the clearing of the current output cell\n",
              "var outputEl = gd.closest('.output');\n",
              "if (outputEl) {{\n",
              "    x.observe(outputEl, {childList: true});\n",
              "}}\n",
              "\n",
              "                        })\n",
              "                };\n",
              "                \n",
              "            </script>\n",
              "        </div>\n",
              "</body>\n",
              "</html>"
            ]
          },
          "metadata": {
            "tags": []
          }
        }
      ]
    }
  ]
}