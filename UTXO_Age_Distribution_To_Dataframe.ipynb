{
  "nbformat": 4,
  "nbformat_minor": 0,
  "metadata": {
    "colab": {
      "name": "UTXO Age Distribution: To Dataframe.ipynb",
      "provenance": [],
      "collapsed_sections": [],
      "mount_file_id": "169mbXe5buHBWRUMf5rwvzMTXabtZ8dfR",
      "authorship_tag": "ABX9TyOWfnZM7igvK6chGZAth/fi",
      "include_colab_link": true
    },
    "kernelspec": {
      "name": "python3",
      "display_name": "Python 3"
    }
  },
  "cells": [
    {
      "cell_type": "markdown",
      "metadata": {
        "id": "view-in-github",
        "colab_type": "text"
      },
      "source": [
        "<a href=\"https://colab.research.google.com/github/sunshineluyao/UTXO/blob/main/UTXO_Age_Distribution_To_Dataframe.ipynb\" target=\"_parent\"><img src=\"https://colab.research.google.com/assets/colab-badge.svg\" alt=\"Open In Colab\"/></a>"
      ]
    },
    {
      "cell_type": "markdown",
      "metadata": {
        "id": "e5mIfC5eAVpf"
      },
      "source": [
        "##reference: https://cloud.google.com/bigquery/docs/exporting-data.\n",
        "https://googleapis.dev/python/bigquery/latest/usage/pandas.html"
      ]
    },
    {
      "cell_type": "code",
      "metadata": {
        "id": "vqxwwL-BAaQg"
      },
      "source": [
        "from google.colab import auth\n",
        "auth.authenticate_user()"
      ],
      "execution_count": 2,
      "outputs": []
    },
    {
      "cell_type": "code",
      "metadata": {
        "id": "exwovf7YAjtE",
        "outputId": "7d47e0d4-95e4-48ab-f6eb-94b78b6c00ea",
        "colab": {
          "base_uri": "https://localhost:8080/",
          "height": 35
        }
      },
      "source": [
        "from google.cloud import bigquery\n",
        "\n",
        "# https://cloud.google.com/resource-manager/docs/creating-managing-projects\n",
        "project_id = 'crypto-291811'\n",
        "client = bigquery.Client(project=project_id)\n",
        "\n",
        "for dataset in client.list_datasets():\n",
        "  print(dataset.dataset_id)"
      ],
      "execution_count": 3,
      "outputs": [
        {
          "output_type": "stream",
          "text": [
            "UTXO\n"
          ],
          "name": "stdout"
        }
      ]
    },
    {
      "cell_type": "code",
      "metadata": {
        "id": "yZ-0pKg_0op9"
      },
      "source": [
        "bucket_name = 'utxo'"
      ],
      "execution_count": 4,
      "outputs": []
    },
    {
      "cell_type": "code",
      "metadata": {
        "id": "jZ_3ZgFz05Qa"
      },
      "source": [
        "project = \"crypto-291811\"\n",
        "dataset_id = \"UTXO\"\n",
        "table_id = \"joint_all\""
      ],
      "execution_count": 5,
      "outputs": []
    },
    {
      "cell_type": "code",
      "metadata": {
        "id": "A-npt4vk1GYV"
      },
      "source": [
        "destination_uri = \"gs://{}/{}\".format(bucket_name, \"utxo_joint-*.csv\")\n",
        "dataset_ref = bigquery.DatasetReference(project, dataset_id)\n",
        "table_ref = dataset_ref.table(table_id)"
      ],
      "execution_count": 6,
      "outputs": []
    },
    {
      "cell_type": "code",
      "metadata": {
        "id": "ugtha8p_1tPc",
        "outputId": "e4ada9b3-2af7-464a-d60d-503ed13a60b0",
        "colab": {
          "base_uri": "https://localhost:8080/",
          "height": 35
        }
      },
      "source": [
        "extract_job = client.extract_table(\n",
        "    table_ref,\n",
        "    destination_uri,\n",
        "    # Location must match that of the source table.\n",
        "    location=\"US\",\n",
        ")  # API request\n",
        "extract_job.result()  # Waits for job to complete.\n",
        "\n",
        "print(\n",
        "    \"Exported {}:{}.{} to {}\".format(project, dataset_id, table_id, destination_uri)\n",
        ")\n",
        "###Then the data can be downloaded from Google Storage Console"
      ],
      "execution_count": 7,
      "outputs": [
        {
          "output_type": "stream",
          "text": [
            "Exported crypto-291811:UTXO.joint_all to gs://utxo/utxo_joint-*.csv\n"
          ],
          "name": "stdout"
        }
      ]
    },
    {
      "cell_type": "code",
      "metadata": {
        "id": "5QAA5uDqEEsI"
      },
      "source": [
        "###download data from GSP\n",
        "#reference article：https://www.kaggle.com/c/talkingdata-adtracking-fraud-detection/discussion/56014\n",
        "#https://medium.com/analytics-vidhya/how-to-access-files-from-google-cloud-storage-in-colab-notebooks-8edaf9e6c020\n",
        "#https://medium.com/@philipplies/transferring-data-from-google-drive-to-google-cloud-storage-using-google-colab-96e088a8c041\n"
      ],
      "execution_count": 13,
      "outputs": []
    },
    {
      "cell_type": "code",
      "metadata": {
        "id": "pm6VNLJeVPHb",
        "outputId": "4db5fc53-ca09-4c2d-971b-f7c407e49cb3",
        "colab": {
          "base_uri": "https://localhost:8080/",
          "height": 35
        }
      },
      "source": [
        "### Mount Drive\n",
        "from google.colab import drive\n",
        "drive.mount('/content/drive')"
      ],
      "execution_count": 2,
      "outputs": [
        {
          "output_type": "stream",
          "text": [
            "Drive already mounted at /content/drive; to attempt to forcibly remount, call drive.mount(\"/content/drive\", force_remount=True).\n"
          ],
          "name": "stdout"
        }
      ]
    },
    {
      "cell_type": "code",
      "metadata": {
        "id": "JH-AGwW_VaSh",
        "outputId": "78c7e262-14db-4742-ff34-e335157a5566",
        "colab": {
          "base_uri": "https://localhost:8080/",
          "height": 1000
        }
      },
      "source": [
        "!gsutil -m cp -r gs://utxo /content/drive/My\\ Drive\n",
        "### if interupt, choose connect hosted runtime\n",
        "### A utxo folder will appear in google drive\n",
        "### Save to google drive so that the colab Disk will not be occupied for computation."
      ],
      "execution_count": 1,
      "outputs": [
        {
          "output_type": "stream",
          "text": [
            "Copying gs://utxo/utxo_joint-000000000000.csv...\n",
            "Copying gs://utxo/utxo_joint-000000000005.csv...\n",
            "Copying gs://utxo/utxo_joint-000000000006.csv...\n",
            "/ [0/154 files][    0.0 B/ 77.3 GiB]   0% Done                                  \r/ [0/154 files][    0.0 B/ 77.3 GiB]   0% Done                                  \r/ [0/154 files][    0.0 B/ 77.3 GiB]   0% Done                                  \rCopying gs://utxo/utxo_joint-000000000007.csv...\n",
            "/ [0/154 files][    0.0 B/ 77.3 GiB]   0% Done                                  \rCopying gs://utxo/utxo_joint-000000000008.csv...\n",
            "/ [0/154 files][    0.0 B/ 77.3 GiB]   0% Done                                  \rCopying gs://utxo/utxo_joint-000000000009.csv...\n",
            "/ [0/154 files][    0.0 B/ 77.3 GiB]   0% Done                                  \rCopying gs://utxo/utxo_joint-000000000001.csv...\n",
            "/ [0/154 files][    0.0 B/ 77.3 GiB]   0% Done                                  \rCopying gs://utxo/utxo_joint-000000000002.csv...\n",
            "/ [0/154 files][    0.0 B/ 77.3 GiB]   0% Done                                  \rCopying gs://utxo/utxo_joint-000000000004.csv...\n",
            "Copying gs://utxo/utxo_joint-000000000003.csv...\n",
            "Copying gs://utxo/utxo_joint-000000000010.csv...\n",
            "Copying gs://utxo/utxo_joint-000000000011.csv...\n",
            "Copying gs://utxo/utxo_joint-000000000012.csv...\n",
            "Copying gs://utxo/utxo_joint-000000000013.csv...\n",
            "Copying gs://utxo/utxo_joint-000000000014.csv...\n",
            "Copying gs://utxo/utxo_joint-000000000015.csv...\n",
            "Copying gs://utxo/utxo_joint-000000000016.csv...\n",
            "Copying gs://utxo/utxo_joint-000000000017.csv...\n",
            "Copying gs://utxo/utxo_joint-000000000018.csv...\n",
            "Copying gs://utxo/utxo_joint-000000000019.csv...\n",
            "Copying gs://utxo/utxo_joint-000000000020.csv...\n",
            "Copying gs://utxo/utxo_joint-000000000021.csv...\n",
            "Copying gs://utxo/utxo_joint-000000000022.csv...\n",
            "Copying gs://utxo/utxo_joint-000000000023.csv...\n",
            "Copying gs://utxo/utxo_joint-000000000024.csv...\n",
            "Copying gs://utxo/utxo_joint-000000000025.csv...\n",
            "Copying gs://utxo/utxo_joint-000000000026.csv...\n",
            "Copying gs://utxo/utxo_joint-000000000027.csv...\n",
            "Copying gs://utxo/utxo_joint-000000000028.csv...\n",
            "Copying gs://utxo/utxo_joint-000000000029.csv...\n",
            "Copying gs://utxo/utxo_joint-000000000030.csv...\n",
            "Copying gs://utxo/utxo_joint-000000000031.csv...\n",
            "Copying gs://utxo/utxo_joint-000000000032.csv...\n",
            "Copying gs://utxo/utxo_joint-000000000033.csv...\n",
            "Copying gs://utxo/utxo_joint-000000000034.csv...\n",
            "Copying gs://utxo/utxo_joint-000000000035.csv...\n",
            "Copying gs://utxo/utxo_joint-000000000036.csv...\n",
            "Copying gs://utxo/utxo_joint-000000000037.csv...\n",
            "Copying gs://utxo/utxo_joint-000000000038.csv...\n",
            "Copying gs://utxo/utxo_joint-000000000039.csv...\n",
            "Copying gs://utxo/utxo_joint-000000000040.csv...\n",
            "Copying gs://utxo/utxo_joint-000000000041.csv...\n",
            "Copying gs://utxo/utxo_joint-000000000042.csv...\n",
            "Copying gs://utxo/utxo_joint-000000000043.csv...\n",
            "Copying gs://utxo/utxo_joint-000000000044.csv...\n",
            "Copying gs://utxo/utxo_joint-000000000045.csv...\n",
            "Copying gs://utxo/utxo_joint-000000000046.csv...\n",
            "Copying gs://utxo/utxo_joint-000000000047.csv...\n",
            "Copying gs://utxo/utxo_joint-000000000048.csv...\n",
            "Copying gs://utxo/utxo_joint-000000000049.csv...\n",
            "Copying gs://utxo/utxo_joint-000000000050.csv...\n",
            "Copying gs://utxo/utxo_joint-000000000051.csv...\n",
            "Copying gs://utxo/utxo_joint-000000000052.csv...\n",
            "Copying gs://utxo/utxo_joint-000000000053.csv...\n",
            "Copying gs://utxo/utxo_joint-000000000054.csv...\n",
            "Copying gs://utxo/utxo_joint-000000000055.csv...\n",
            "Copying gs://utxo/utxo_joint-000000000056.csv...\n",
            "Copying gs://utxo/utxo_joint-000000000057.csv...\n",
            "Copying gs://utxo/utxo_joint-000000000058.csv...\n",
            "Copying gs://utxo/utxo_joint-000000000059.csv...\n",
            "Copying gs://utxo/utxo_joint-000000000060.csv...\n",
            "Copying gs://utxo/utxo_joint-000000000061.csv...\n",
            "Copying gs://utxo/utxo_joint-000000000062.csv...\n",
            "Copying gs://utxo/utxo_joint-000000000063.csv...\n",
            "Copying gs://utxo/utxo_joint-000000000064.csv...\n",
            "Copying gs://utxo/utxo_joint-000000000065.csv...\n",
            "Copying gs://utxo/utxo_joint-000000000066.csv...\n",
            "Copying gs://utxo/utxo_joint-000000000067.csv...\n",
            "Copying gs://utxo/utxo_joint-000000000068.csv...\n",
            "Copying gs://utxo/utxo_joint-000000000069.csv...\n",
            "Copying gs://utxo/utxo_joint-000000000070.csv...\n",
            "Copying gs://utxo/utxo_joint-000000000071.csv...\n",
            "Copying gs://utxo/utxo_joint-000000000072.csv...\n",
            "Copying gs://utxo/utxo_joint-000000000073.csv...\n",
            "Copying gs://utxo/utxo_joint-000000000074.csv...\n",
            "Copying gs://utxo/utxo_joint-000000000075.csv...\n",
            "Copying gs://utxo/utxo_joint-000000000076.csv...\n",
            "Copying gs://utxo/utxo_joint-000000000077.csv...\n",
            "Copying gs://utxo/utxo_joint-000000000078.csv...\n",
            "Copying gs://utxo/utxo_joint-000000000079.csv...\n",
            "Copying gs://utxo/utxo_joint-000000000080.csv...\n",
            "Copying gs://utxo/utxo_joint-000000000081.csv...\n",
            "Copying gs://utxo/utxo_joint-000000000082.csv...\n",
            "Copying gs://utxo/utxo_joint-000000000083.csv...\n",
            "Copying gs://utxo/utxo_joint-000000000084.csv...\n",
            "Copying gs://utxo/utxo_joint-000000000085.csv...\n",
            "Copying gs://utxo/utxo_joint-000000000086.csv...\n",
            "Copying gs://utxo/utxo_joint-000000000087.csv...\n",
            "Copying gs://utxo/utxo_joint-000000000088.csv...\n",
            "Copying gs://utxo/utxo_joint-000000000089.csv...\n",
            "Copying gs://utxo/utxo_joint-000000000090.csv...\n",
            "Copying gs://utxo/utxo_joint-000000000091.csv...\n",
            "Copying gs://utxo/utxo_joint-000000000092.csv...\n",
            "Copying gs://utxo/utxo_joint-000000000093.csv...\n",
            "Copying gs://utxo/utxo_joint-000000000094.csv...\n",
            "Copying gs://utxo/utxo_joint-000000000095.csv...\n",
            "Copying gs://utxo/utxo_joint-000000000096.csv...\n",
            "Copying gs://utxo/utxo_joint-000000000097.csv...\n",
            "Copying gs://utxo/utxo_joint-000000000098.csv...\n",
            "Copying gs://utxo/utxo_joint-000000000099.csv...\n",
            "Copying gs://utxo/utxo_joint-000000000100.csv...\n",
            "Copying gs://utxo/utxo_joint-000000000101.csv...\n",
            "Copying gs://utxo/utxo_joint-000000000102.csv...\n",
            "Copying gs://utxo/utxo_joint-000000000103.csv...\n",
            "Copying gs://utxo/utxo_joint-000000000104.csv...\n",
            "Copying gs://utxo/utxo_joint-000000000105.csv...\n",
            "Copying gs://utxo/utxo_joint-000000000106.csv...\n",
            "Copying gs://utxo/utxo_joint-000000000107.csv...\n",
            "Copying gs://utxo/utxo_joint-000000000108.csv...\n",
            "Copying gs://utxo/utxo_joint-000000000109.csv...\n",
            "Copying gs://utxo/utxo_joint-000000000110.csv...\n",
            "Copying gs://utxo/utxo_joint-000000000111.csv...\n",
            "Copying gs://utxo/utxo_joint-000000000112.csv...\n",
            "Copying gs://utxo/utxo_joint-000000000113.csv...\n",
            "Copying gs://utxo/utxo_joint-000000000114.csv...\n",
            "Copying gs://utxo/utxo_joint-000000000115.csv...\n",
            "Copying gs://utxo/utxo_joint-000000000116.csv...\n",
            "Copying gs://utxo/utxo_joint-000000000117.csv...\n",
            "Copying gs://utxo/utxo_joint-000000000118.csv...\n",
            "Copying gs://utxo/utxo_joint-000000000119.csv...\n",
            "Copying gs://utxo/utxo_joint-000000000120.csv...\n",
            "Copying gs://utxo/utxo_joint-000000000121.csv...\n",
            "Copying gs://utxo/utxo_joint-000000000122.csv...\n",
            "Copying gs://utxo/utxo_joint-000000000123.csv...\n",
            "Copying gs://utxo/utxo_joint-000000000124.csv...\n",
            "Copying gs://utxo/utxo_joint-000000000125.csv...\n",
            "Copying gs://utxo/utxo_joint-000000000126.csv...\n",
            "Copying gs://utxo/utxo_joint-000000000127.csv...\n",
            "Copying gs://utxo/utxo_joint-000000000128.csv...\n",
            "Copying gs://utxo/utxo_joint-000000000129.csv...\n",
            "Copying gs://utxo/utxo_joint-000000000130.csv...\n",
            "Copying gs://utxo/utxo_joint-000000000131.csv...\n",
            "Copying gs://utxo/utxo_joint-000000000132.csv...\n",
            "Copying gs://utxo/utxo_joint-000000000133.csv...\n",
            "Copying gs://utxo/utxo_joint-000000000134.csv...\n",
            "Copying gs://utxo/utxo_joint-000000000135.csv...\n",
            "Copying gs://utxo/utxo_joint-000000000136.csv...\n",
            "Copying gs://utxo/utxo_joint-000000000137.csv...\n",
            "Copying gs://utxo/utxo_joint-000000000138.csv...\n",
            "Copying gs://utxo/utxo_joint-000000000139.csv...\n",
            "Copying gs://utxo/utxo_joint-000000000140.csv...\n",
            "Copying gs://utxo/utxo_joint-000000000141.csv...\n",
            "Copying gs://utxo/utxo_joint-000000000142.csv...\n",
            "Copying gs://utxo/utxo_joint-000000000143.csv...\n",
            "Copying gs://utxo/utxo_joint-000000000144.csv...\n",
            "Copying gs://utxo/utxo_joint-000000000145.csv...\n",
            "Copying gs://utxo/utxo_joint-000000000146.csv...\n",
            "Copying gs://utxo/utxo_joint-000000000147.csv...\n",
            "Copying gs://utxo/utxo_joint-000000000148.csv...\n",
            "Copying gs://utxo/utxo_joint-000000000149.csv...\n",
            "Copying gs://utxo/utxo_joint-000000000150.csv...\n",
            "Copying gs://utxo/utxo_joint-000000000151.csv...\n",
            "Copying gs://utxo/utxo_joint-000000000152.csv...\n",
            "Copying gs://utxo/utxo_joint-000000000153.csv...\n",
            "/ [154/154 files][ 77.3 GiB/ 77.3 GiB] 100% Done  24.3 MiB/s ETA 00:00:00       \n",
            "Operation completed over 154 objects/77.3 GiB.                                   \n"
          ],
          "name": "stdout"
        }
      ]
    },
    {
      "cell_type": "code",
      "metadata": {
        "id": "-40_d4-WaXK5"
      },
      "source": [
        "### The next step is to import all the csv files in the sample data/utxo folder and concatenate into one dataframe\n",
        "# reference：https://stackoverflow.com/questions/20906474/import-multiple-csv-files-into-pandas-and-concatenate-into-one-dataframe\n",
        "#https://colab.research.google.com/drive/1cMmtzM7rYc-cpW0fkRiTRb-ySr2UHf1h\n",
        "import glob\n",
        "# Importing drive method from colab for accessing google drive\n",
        "from google.colab import drive"
      ],
      "execution_count": 3,
      "outputs": []
    },
    {
      "cell_type": "code",
      "metadata": {
        "id": "QKPQg8CuxWT9",
        "outputId": "d019a3c7-b579-410f-861f-15aeee0c34e9",
        "colab": {
          "base_uri": "https://localhost:8080/",
          "height": 35
        }
      },
      "source": [
        "# Mounting drive\n",
        "# This will require authentication : Follow the steps as guided\n",
        "drive.mount('/content/drive',force_remount=True)"
      ],
      "execution_count": 4,
      "outputs": [
        {
          "output_type": "stream",
          "text": [
            "Mounted at /content/drive\n"
          ],
          "name": "stdout"
        }
      ]
    },
    {
      "cell_type": "code",
      "metadata": {
        "id": "9Va7YuyQx9eq",
        "outputId": "f4c81b8d-ef3f-4431-93cf-3877b9631760",
        "colab": {
          "base_uri": "https://localhost:8080/",
          "height": 35
        }
      },
      "source": [
        "%pwd"
      ],
      "execution_count": 8,
      "outputs": [
        {
          "output_type": "execute_result",
          "data": {
            "application/vnd.google.colaboratory.intrinsic+json": {
              "type": "string"
            },
            "text/plain": [
              "'/content'"
            ]
          },
          "metadata": {
            "tags": []
          },
          "execution_count": 8
        }
      ]
    },
    {
      "cell_type": "code",
      "metadata": {
        "id": "_S3bFjYbw6UP",
        "outputId": "d13ba4b4-a75e-4d40-fa8e-ab45b969a863",
        "colab": {
          "base_uri": "https://localhost:8080/",
          "height": 35
        }
      },
      "source": [
        "# Viewing the data in the folder present from the drive\n",
        "#https://towardsdatascience.com/google-drive-google-colab-github-dont-just-read-do-it-5554d5824228\n",
        "!ls "
      ],
      "execution_count": 11,
      "outputs": [
        {
          "output_type": "stream",
          "text": [
            "adc.json  drive  sample_data\n"
          ],
          "name": "stdout"
        }
      ]
    },
    {
      "cell_type": "code",
      "metadata": {
        "id": "Ln2VoPDTzwNm",
        "outputId": "d9a9e971-200c-43fd-f1c3-41e538b1b625",
        "colab": {
          "base_uri": "https://localhost:8080/",
          "height": 35
        }
      },
      "source": [
        "%cd 'drive'"
      ],
      "execution_count": 12,
      "outputs": [
        {
          "output_type": "stream",
          "text": [
            "/content/drive\n"
          ],
          "name": "stdout"
        }
      ]
    },
    {
      "cell_type": "code",
      "metadata": {
        "id": "xmO6lammz2EN",
        "outputId": "db9d4f55-df4a-4127-8e00-d8c2ffefe34c",
        "colab": {
          "base_uri": "https://localhost:8080/",
          "height": 35
        }
      },
      "source": [
        "!ls"
      ],
      "execution_count": 13,
      "outputs": [
        {
          "output_type": "stream",
          "text": [
            "'My Drive'  'Shared drives'\n"
          ],
          "name": "stdout"
        }
      ]
    },
    {
      "cell_type": "code",
      "metadata": {
        "id": "5XQBKBc1z_0e",
        "outputId": "91182800-bceb-4bd0-e1f3-100f0a8224ec",
        "colab": {
          "base_uri": "https://localhost:8080/",
          "height": 35
        }
      },
      "source": [
        "%cd 'My Drive'"
      ],
      "execution_count": 14,
      "outputs": [
        {
          "output_type": "stream",
          "text": [
            "/content/drive/My Drive\n"
          ],
          "name": "stdout"
        }
      ]
    },
    {
      "cell_type": "code",
      "metadata": {
        "id": "dSwjToWb0TF4"
      },
      "source": [
        "import os"
      ],
      "execution_count": 5,
      "outputs": []
    },
    {
      "cell_type": "code",
      "metadata": {
        "id": "y6pPWZe9hrRJ"
      },
      "source": [
        "path = '/content/drive/My Drive/utxo' # use your path\n",
        "all_files = glob.glob(os.path.join(path, \"*.csv\"))"
      ],
      "execution_count": 6,
      "outputs": []
    },
    {
      "cell_type": "code",
      "metadata": {
        "id": "bLMgHoHUh2A6",
        "outputId": "1095f7b4-7ba4-49ae-c7dd-071c820605cd",
        "colab": {
          "base_uri": "https://localhost:8080/",
          "height": 1000
        }
      },
      "source": [
        "all_files"
      ],
      "execution_count": 7,
      "outputs": [
        {
          "output_type": "execute_result",
          "data": {
            "text/plain": [
              "['/content/drive/My Drive/utxo/utxo_joint-000000000006.csv',\n",
              " '/content/drive/My Drive/utxo/utxo_joint-000000000000.csv',\n",
              " '/content/drive/My Drive/utxo/utxo_joint-000000000004.csv',\n",
              " '/content/drive/My Drive/utxo/utxo_joint-000000000014.csv',\n",
              " '/content/drive/My Drive/utxo/utxo_joint-000000000015.csv',\n",
              " '/content/drive/My Drive/utxo/utxo_joint-000000000016.csv',\n",
              " '/content/drive/My Drive/utxo/utxo_joint-000000000017.csv',\n",
              " '/content/drive/My Drive/utxo/utxo_joint-000000000018.csv',\n",
              " '/content/drive/My Drive/utxo/utxo_joint-000000000019.csv',\n",
              " '/content/drive/My Drive/utxo/utxo_joint-000000000020.csv',\n",
              " '/content/drive/My Drive/utxo/utxo_joint-000000000021.csv',\n",
              " '/content/drive/My Drive/utxo/utxo_joint-000000000022.csv',\n",
              " '/content/drive/My Drive/utxo/utxo_joint-000000000023.csv',\n",
              " '/content/drive/My Drive/utxo/utxo_joint-000000000024.csv',\n",
              " '/content/drive/My Drive/utxo/utxo_joint-000000000025.csv',\n",
              " '/content/drive/My Drive/utxo/utxo_joint-000000000026.csv',\n",
              " '/content/drive/My Drive/utxo/utxo_joint-000000000027.csv',\n",
              " '/content/drive/My Drive/utxo/utxo_joint-000000000028.csv',\n",
              " '/content/drive/My Drive/utxo/utxo_joint-000000000029.csv',\n",
              " '/content/drive/My Drive/utxo/utxo_joint-000000000030.csv',\n",
              " '/content/drive/My Drive/utxo/utxo_joint-000000000031.csv',\n",
              " '/content/drive/My Drive/utxo/utxo_joint-000000000032.csv',\n",
              " '/content/drive/My Drive/utxo/utxo_joint-000000000033.csv',\n",
              " '/content/drive/My Drive/utxo/utxo_joint-000000000034.csv',\n",
              " '/content/drive/My Drive/utxo/utxo_joint-000000000035.csv',\n",
              " '/content/drive/My Drive/utxo/utxo_joint-000000000036.csv',\n",
              " '/content/drive/My Drive/utxo/utxo_joint-000000000037.csv',\n",
              " '/content/drive/My Drive/utxo/utxo_joint-000000000038.csv',\n",
              " '/content/drive/My Drive/utxo/utxo_joint-000000000039.csv',\n",
              " '/content/drive/My Drive/utxo/utxo_joint-000000000040.csv',\n",
              " '/content/drive/My Drive/utxo/utxo_joint-000000000041.csv',\n",
              " '/content/drive/My Drive/utxo/utxo_joint-000000000042.csv',\n",
              " '/content/drive/My Drive/utxo/utxo_joint-000000000043.csv',\n",
              " '/content/drive/My Drive/utxo/utxo_joint-000000000044.csv',\n",
              " '/content/drive/My Drive/utxo/utxo_joint-000000000045.csv',\n",
              " '/content/drive/My Drive/utxo/utxo_joint-000000000046.csv',\n",
              " '/content/drive/My Drive/utxo/utxo_joint-000000000047.csv',\n",
              " '/content/drive/My Drive/utxo/utxo_joint-000000000048.csv',\n",
              " '/content/drive/My Drive/utxo/utxo_joint-000000000049.csv',\n",
              " '/content/drive/My Drive/utxo/utxo_joint-000000000050.csv',\n",
              " '/content/drive/My Drive/utxo/utxo_joint-000000000051.csv',\n",
              " '/content/drive/My Drive/utxo/utxo_joint-000000000052.csv',\n",
              " '/content/drive/My Drive/utxo/utxo_joint-000000000053.csv',\n",
              " '/content/drive/My Drive/utxo/utxo_joint-000000000054.csv',\n",
              " '/content/drive/My Drive/utxo/utxo_joint-000000000055.csv',\n",
              " '/content/drive/My Drive/utxo/utxo_joint-000000000056.csv',\n",
              " '/content/drive/My Drive/utxo/utxo_joint-000000000057.csv',\n",
              " '/content/drive/My Drive/utxo/utxo_joint-000000000058.csv',\n",
              " '/content/drive/My Drive/utxo/utxo_joint-000000000059.csv',\n",
              " '/content/drive/My Drive/utxo/utxo_joint-000000000060.csv',\n",
              " '/content/drive/My Drive/utxo/utxo_joint-000000000061.csv',\n",
              " '/content/drive/My Drive/utxo/utxo_joint-000000000062.csv',\n",
              " '/content/drive/My Drive/utxo/utxo_joint-000000000063.csv',\n",
              " '/content/drive/My Drive/utxo/utxo_joint-000000000064.csv',\n",
              " '/content/drive/My Drive/utxo/utxo_joint-000000000065.csv',\n",
              " '/content/drive/My Drive/utxo/utxo_joint-000000000066.csv',\n",
              " '/content/drive/My Drive/utxo/utxo_joint-000000000067.csv',\n",
              " '/content/drive/My Drive/utxo/utxo_joint-000000000068.csv',\n",
              " '/content/drive/My Drive/utxo/utxo_joint-000000000069.csv',\n",
              " '/content/drive/My Drive/utxo/utxo_joint-000000000070.csv',\n",
              " '/content/drive/My Drive/utxo/utxo_joint-000000000071.csv',\n",
              " '/content/drive/My Drive/utxo/utxo_joint-000000000072.csv',\n",
              " '/content/drive/My Drive/utxo/utxo_joint-000000000073.csv',\n",
              " '/content/drive/My Drive/utxo/utxo_joint-000000000074.csv',\n",
              " '/content/drive/My Drive/utxo/utxo_joint-000000000075.csv',\n",
              " '/content/drive/My Drive/utxo/utxo_joint-000000000076.csv',\n",
              " '/content/drive/My Drive/utxo/utxo_joint-000000000077.csv',\n",
              " '/content/drive/My Drive/utxo/utxo_joint-000000000078.csv',\n",
              " '/content/drive/My Drive/utxo/utxo_joint-000000000079.csv',\n",
              " '/content/drive/My Drive/utxo/utxo_joint-000000000080.csv',\n",
              " '/content/drive/My Drive/utxo/utxo_joint-000000000081.csv',\n",
              " '/content/drive/My Drive/utxo/utxo_joint-000000000082.csv',\n",
              " '/content/drive/My Drive/utxo/utxo_joint-000000000083.csv',\n",
              " '/content/drive/My Drive/utxo/utxo_joint-000000000084.csv',\n",
              " '/content/drive/My Drive/utxo/utxo_joint-000000000085.csv',\n",
              " '/content/drive/My Drive/utxo/utxo_joint-000000000086.csv',\n",
              " '/content/drive/My Drive/utxo/utxo_joint-000000000087.csv',\n",
              " '/content/drive/My Drive/utxo/utxo_joint-000000000088.csv',\n",
              " '/content/drive/My Drive/utxo/utxo_joint-000000000089.csv',\n",
              " '/content/drive/My Drive/utxo/utxo_joint-000000000090.csv',\n",
              " '/content/drive/My Drive/utxo/utxo_joint-000000000091.csv',\n",
              " '/content/drive/My Drive/utxo/utxo_joint-000000000092.csv',\n",
              " '/content/drive/My Drive/utxo/utxo_joint-000000000093.csv',\n",
              " '/content/drive/My Drive/utxo/utxo_joint-000000000094.csv',\n",
              " '/content/drive/My Drive/utxo/utxo_joint-000000000095.csv',\n",
              " '/content/drive/My Drive/utxo/utxo_joint-000000000096.csv',\n",
              " '/content/drive/My Drive/utxo/utxo_joint-000000000097.csv',\n",
              " '/content/drive/My Drive/utxo/utxo_joint-000000000098.csv',\n",
              " '/content/drive/My Drive/utxo/utxo_joint-000000000099.csv',\n",
              " '/content/drive/My Drive/utxo/utxo_joint-000000000100.csv',\n",
              " '/content/drive/My Drive/utxo/utxo_joint-000000000101.csv',\n",
              " '/content/drive/My Drive/utxo/utxo_joint-000000000102.csv',\n",
              " '/content/drive/My Drive/utxo/utxo_joint-000000000103.csv',\n",
              " '/content/drive/My Drive/utxo/utxo_joint-000000000104.csv',\n",
              " '/content/drive/My Drive/utxo/utxo_joint-000000000105.csv',\n",
              " '/content/drive/My Drive/utxo/utxo_joint-000000000106.csv',\n",
              " '/content/drive/My Drive/utxo/utxo_joint-000000000107.csv',\n",
              " '/content/drive/My Drive/utxo/utxo_joint-000000000108.csv',\n",
              " '/content/drive/My Drive/utxo/utxo_joint-000000000109.csv',\n",
              " '/content/drive/My Drive/utxo/utxo_joint-000000000110.csv',\n",
              " '/content/drive/My Drive/utxo/utxo_joint-000000000111.csv',\n",
              " '/content/drive/My Drive/utxo/utxo_joint-000000000112.csv',\n",
              " '/content/drive/My Drive/utxo/utxo_joint-000000000113.csv',\n",
              " '/content/drive/My Drive/utxo/utxo_joint-000000000114.csv',\n",
              " '/content/drive/My Drive/utxo/utxo_joint-000000000115.csv',\n",
              " '/content/drive/My Drive/utxo/utxo_joint-000000000116.csv',\n",
              " '/content/drive/My Drive/utxo/utxo_joint-000000000117.csv',\n",
              " '/content/drive/My Drive/utxo/utxo_joint-000000000118.csv',\n",
              " '/content/drive/My Drive/utxo/utxo_joint-000000000119.csv',\n",
              " '/content/drive/My Drive/utxo/utxo_joint-000000000120.csv',\n",
              " '/content/drive/My Drive/utxo/utxo_joint-000000000121.csv',\n",
              " '/content/drive/My Drive/utxo/utxo_joint-000000000122.csv',\n",
              " '/content/drive/My Drive/utxo/utxo_joint-000000000123.csv',\n",
              " '/content/drive/My Drive/utxo/utxo_joint-000000000124.csv',\n",
              " '/content/drive/My Drive/utxo/utxo_joint-000000000125.csv',\n",
              " '/content/drive/My Drive/utxo/utxo_joint-000000000126.csv',\n",
              " '/content/drive/My Drive/utxo/utxo_joint-000000000127.csv',\n",
              " '/content/drive/My Drive/utxo/utxo_joint-000000000128.csv',\n",
              " '/content/drive/My Drive/utxo/utxo_joint-000000000129.csv',\n",
              " '/content/drive/My Drive/utxo/utxo_joint-000000000130.csv',\n",
              " '/content/drive/My Drive/utxo/utxo_joint-000000000131.csv',\n",
              " '/content/drive/My Drive/utxo/utxo_joint-000000000132.csv',\n",
              " '/content/drive/My Drive/utxo/utxo_joint-000000000133.csv',\n",
              " '/content/drive/My Drive/utxo/utxo_joint-000000000134.csv',\n",
              " '/content/drive/My Drive/utxo/utxo_joint-000000000135.csv',\n",
              " '/content/drive/My Drive/utxo/utxo_joint-000000000136.csv',\n",
              " '/content/drive/My Drive/utxo/utxo_joint-000000000137.csv',\n",
              " '/content/drive/My Drive/utxo/utxo_joint-000000000138.csv',\n",
              " '/content/drive/My Drive/utxo/utxo_joint-000000000139.csv',\n",
              " '/content/drive/My Drive/utxo/utxo_joint-000000000140.csv',\n",
              " '/content/drive/My Drive/utxo/utxo_joint-000000000141.csv',\n",
              " '/content/drive/My Drive/utxo/utxo_joint-000000000142.csv',\n",
              " '/content/drive/My Drive/utxo/utxo_joint-000000000143.csv',\n",
              " '/content/drive/My Drive/utxo/utxo_joint-000000000144.csv',\n",
              " '/content/drive/My Drive/utxo/utxo_joint-000000000145.csv',\n",
              " '/content/drive/My Drive/utxo/utxo_joint-000000000146.csv',\n",
              " '/content/drive/My Drive/utxo/utxo_joint-000000000147.csv',\n",
              " '/content/drive/My Drive/utxo/utxo_joint-000000000148.csv',\n",
              " '/content/drive/My Drive/utxo/utxo_joint-000000000149.csv',\n",
              " '/content/drive/My Drive/utxo/utxo_joint-000000000150.csv',\n",
              " '/content/drive/My Drive/utxo/utxo_joint-000000000151.csv',\n",
              " '/content/drive/My Drive/utxo/utxo_joint-000000000152.csv',\n",
              " '/content/drive/My Drive/utxo/utxo_joint-000000000153.csv']"
            ]
          },
          "metadata": {
            "tags": []
          },
          "execution_count": 7
        }
      ]
    },
    {
      "cell_type": "code",
      "metadata": {
        "id": "3MKHnup03DMG",
        "outputId": "5458927c-5199-4754-c557-20f190dc7e2a",
        "colab": {
          "base_uri": "https://localhost:8080/",
          "height": 202
        }
      },
      "source": [
        "#test \n",
        "import pandas as pd\n",
        "df = pd.read_csv('/content/drive/My Drive/utxo/utxo_joint-000000000006.csv')\n",
        "df.head()"
      ],
      "execution_count": 8,
      "outputs": [
        {
          "output_type": "execute_result",
          "data": {
            "text/html": [
              "<div>\n",
              "<style scoped>\n",
              "    .dataframe tbody tr th:only-of-type {\n",
              "        vertical-align: middle;\n",
              "    }\n",
              "\n",
              "    .dataframe tbody tr th {\n",
              "        vertical-align: top;\n",
              "    }\n",
              "\n",
              "    .dataframe thead th {\n",
              "        text-align: right;\n",
              "    }\n",
              "</style>\n",
              "<table border=\"1\" class=\"dataframe\">\n",
              "  <thead>\n",
              "    <tr style=\"text-align: right;\">\n",
              "      <th></th>\n",
              "      <th>value</th>\n",
              "      <th>block_timestamp</th>\n",
              "      <th>spent_block_timestamp</th>\n",
              "    </tr>\n",
              "  </thead>\n",
              "  <tbody>\n",
              "    <tr>\n",
              "      <th>0</th>\n",
              "      <td>3065</td>\n",
              "      <td>2017-08-02 21:48:06 UTC</td>\n",
              "      <td>2018-03-08 18:58:09 UTC</td>\n",
              "    </tr>\n",
              "    <tr>\n",
              "      <th>1</th>\n",
              "      <td>2417260</td>\n",
              "      <td>2017-02-10 21:12:28 UTC</td>\n",
              "      <td>2017-02-10 22:04:28 UTC</td>\n",
              "    </tr>\n",
              "    <tr>\n",
              "      <th>2</th>\n",
              "      <td>100000000</td>\n",
              "      <td>2020-03-17 19:05:31 UTC</td>\n",
              "      <td>2020-03-18 17:35:49 UTC</td>\n",
              "    </tr>\n",
              "    <tr>\n",
              "      <th>3</th>\n",
              "      <td>61000</td>\n",
              "      <td>2016-09-29 23:16:55 UTC</td>\n",
              "      <td>2016-09-30 03:12:56 UTC</td>\n",
              "    </tr>\n",
              "    <tr>\n",
              "      <th>4</th>\n",
              "      <td>872417</td>\n",
              "      <td>2020-09-15 23:40:11 UTC</td>\n",
              "      <td>2020-09-17 05:38:29 UTC</td>\n",
              "    </tr>\n",
              "  </tbody>\n",
              "</table>\n",
              "</div>"
            ],
            "text/plain": [
              "       value          block_timestamp    spent_block_timestamp\n",
              "0       3065  2017-08-02 21:48:06 UTC  2018-03-08 18:58:09 UTC\n",
              "1    2417260  2017-02-10 21:12:28 UTC  2017-02-10 22:04:28 UTC\n",
              "2  100000000  2020-03-17 19:05:31 UTC  2020-03-18 17:35:49 UTC\n",
              "3      61000  2016-09-29 23:16:55 UTC  2016-09-30 03:12:56 UTC\n",
              "4     872417  2020-09-15 23:40:11 UTC  2020-09-17 05:38:29 UTC"
            ]
          },
          "metadata": {
            "tags": []
          },
          "execution_count": 8
        }
      ]
    },
    {
      "cell_type": "code",
      "metadata": {
        "id": "5XiJBiAn41ds",
        "outputId": "5da6cd08-1573-4922-cc39-1d5df64e780f",
        "colab": {
          "base_uri": "https://localhost:8080/",
          "height": 35
        }
      },
      "source": [
        "df_from_each_file = (pd.read_csv(f) for f in all_files)\n",
        "df_from_each_file"
      ],
      "execution_count": 9,
      "outputs": [
        {
          "output_type": "execute_result",
          "data": {
            "text/plain": [
              "<generator object <genexpr> at 0x7f0ea5665db0>"
            ]
          },
          "metadata": {
            "tags": []
          },
          "execution_count": 9
        }
      ]
    },
    {
      "cell_type": "code",
      "metadata": {
        "id": "93WScxGp44nf"
      },
      "source": [
        "UTXO = pd.concat(df_from_each_file, ignore_index=True)\n",
        "UTXO.head()"
      ],
      "execution_count": null,
      "outputs": []
    },
    {
      "cell_type": "code",
      "metadata": {
        "id": "S8oEHQ6a3isg"
      },
      "source": [
        "UTXO.to_csv('/content/drive/My Drive/UTXO.csv')"
      ],
      "execution_count": null,
      "outputs": []
    },
    {
      "cell_type": "markdown",
      "metadata": {
        "id": "xSHlpYG42v6P"
      },
      "source": [
        "### The following methods is only valid for Dataset smaller than 1GB"
      ]
    },
    {
      "cell_type": "code",
      "metadata": {
        "id": "XR5Kte6GT71K"
      },
      "source": [
        "from google.colab import drive\n",
        "drive.mount('/content/drive')"
      ],
      "execution_count": null,
      "outputs": []
    },
    {
      "cell_type": "markdown",
      "metadata": {
        "id": "kc7sJZ-E24Ok"
      },
      "source": [
        "This will work"
      ]
    },
    {
      "cell_type": "code",
      "metadata": {
        "id": "GPVhYBhwAtF6",
        "outputId": "3f5797a6-656e-4d24-b7a0-7fd47bc86119",
        "colab": {
          "base_uri": "https://localhost:8080/",
          "height": 309
        }
      },
      "source": [
        "###To retrieve table rows as a pandas.DataFrame:\n",
        "# from google.cloud import bigquery\n",
        "# client = bigquery.Client()\n",
        "project = \"crypto-291811\"\n",
        "dataset_id = \"UTXO\"\n",
        "\n",
        "dataset_ref = bigquery.DatasetReference(project, dataset_id)\n",
        "table_ref = dataset_ref.table(\"joint\")\n",
        "table = client.get_table(table_ref)\n",
        "\n",
        "df_joint = client.list_rows(table).to_dataframe()\n",
        "df_joint.head()"
      ],
      "execution_count": 7,
      "outputs": [
        {
          "output_type": "execute_result",
          "data": {
            "text/html": [
              "<div>\n",
              "<style scoped>\n",
              "    .dataframe tbody tr th:only-of-type {\n",
              "        vertical-align: middle;\n",
              "    }\n",
              "\n",
              "    .dataframe tbody tr th {\n",
              "        vertical-align: top;\n",
              "    }\n",
              "\n",
              "    .dataframe thead th {\n",
              "        text-align: right;\n",
              "    }\n",
              "</style>\n",
              "<table border=\"1\" class=\"dataframe\">\n",
              "  <thead>\n",
              "    <tr style=\"text-align: right;\">\n",
              "      <th></th>\n",
              "      <th>value</th>\n",
              "      <th>transaction_hash</th>\n",
              "      <th>spent_transaction_hash</th>\n",
              "      <th>index</th>\n",
              "      <th>spent_output_index</th>\n",
              "      <th>block_timestamp</th>\n",
              "      <th>spent_block_timestamp</th>\n",
              "    </tr>\n",
              "  </thead>\n",
              "  <tbody>\n",
              "    <tr>\n",
              "      <th>0</th>\n",
              "      <td>546</td>\n",
              "      <td>15293857e8ef9c383528bbd89cecad0ff9fc7e678de00b...</td>\n",
              "      <td>None</td>\n",
              "      <td>2</td>\n",
              "      <td>NaN</td>\n",
              "      <td>2019-07-30 08:35:34+00:00</td>\n",
              "      <td>NaT</td>\n",
              "    </tr>\n",
              "    <tr>\n",
              "      <th>1</th>\n",
              "      <td>37176</td>\n",
              "      <td>3d495d96794e03c3c46c9dade2210175c0835508fc94e7...</td>\n",
              "      <td>None</td>\n",
              "      <td>18</td>\n",
              "      <td>NaN</td>\n",
              "      <td>2020-09-05 12:24:48+00:00</td>\n",
              "      <td>NaT</td>\n",
              "    </tr>\n",
              "    <tr>\n",
              "      <th>2</th>\n",
              "      <td>0</td>\n",
              "      <td>457c80ccaed442db2313fb394d8c6684a991e77f924d78...</td>\n",
              "      <td>None</td>\n",
              "      <td>2</td>\n",
              "      <td>NaN</td>\n",
              "      <td>2019-05-01 08:36:26+00:00</td>\n",
              "      <td>NaT</td>\n",
              "    </tr>\n",
              "    <tr>\n",
              "      <th>3</th>\n",
              "      <td>2081670</td>\n",
              "      <td>6469c0c63c37e8635d77a6dd056c3ab9edf24afe5d80da...</td>\n",
              "      <td>6469c0c63c37e8635d77a6dd056c3ab9edf24afe5d80da...</td>\n",
              "      <td>0</td>\n",
              "      <td>0.0</td>\n",
              "      <td>2014-05-25 18:53:50+00:00</td>\n",
              "      <td>2014-05-26 12:51:47+00:00</td>\n",
              "    </tr>\n",
              "    <tr>\n",
              "      <th>4</th>\n",
              "      <td>2410000</td>\n",
              "      <td>ec971f4753523e0ee5d0c65090e2bc96c3c68b4ad96a97...</td>\n",
              "      <td>ec971f4753523e0ee5d0c65090e2bc96c3c68b4ad96a97...</td>\n",
              "      <td>0</td>\n",
              "      <td>0.0</td>\n",
              "      <td>2017-05-27 17:23:06+00:00</td>\n",
              "      <td>2017-05-27 17:38:21+00:00</td>\n",
              "    </tr>\n",
              "  </tbody>\n",
              "</table>\n",
              "</div>"
            ],
            "text/plain": [
              "     value  ...     spent_block_timestamp\n",
              "0      546  ...                       NaT\n",
              "1    37176  ...                       NaT\n",
              "2        0  ...                       NaT\n",
              "3  2081670  ... 2014-05-26 12:51:47+00:00\n",
              "4  2410000  ... 2017-05-27 17:38:21+00:00\n",
              "\n",
              "[5 rows x 7 columns]"
            ]
          },
          "metadata": {
            "tags": []
          },
          "execution_count": 7
        }
      ]
    },
    {
      "cell_type": "markdown",
      "metadata": {
        "id": "LLkpd9qm26EL"
      },
      "source": [
        "This will not work\n"
      ]
    },
    {
      "cell_type": "code",
      "metadata": {
        "id": "ngktoeTUroNA"
      },
      "source": [
        "###To retrieve table rows as a pandas.DataFrame:\n",
        "# from google.cloud import bigquery\n",
        "# client = bigquery.Client()\n",
        "project = \"crypto-291811\"\n",
        "dataset_id = \"UTXO\"\n",
        "\n",
        "dataset_ref = bigquery.DatasetReference(project, dataset_id)\n",
        "table_ref = dataset_ref.table(\"joint_all\")\n",
        "table = client.get_table(table_ref)\n",
        "\n",
        "df_joint_all = client.list_rows(table).to_dataframe()\n",
        "df_joint_all.head()"
      ],
      "execution_count": null,
      "outputs": []
    },
    {
      "cell_type": "code",
      "metadata": {
        "id": "8EgCwJBvr2Z2"
      },
      "source": [
        ""
      ],
      "execution_count": null,
      "outputs": []
    }
  ]
}