{
  "nbformat": 4,
  "nbformat_minor": 0,
  "metadata": {
    "colab": {
      "name": "UTXO Age Distribution: To Dataframe.ipynb",
      "provenance": [],
      "collapsed_sections": [],
      "mount_file_id": "1quA5-N2XjnPA6Tw-6TWsIaMeRxyfkAga",
      "authorship_tag": "ABX9TyMHyV/mg8I4K/vc+9Ghf4/3",
      "include_colab_link": true
    },
    "kernelspec": {
      "name": "python3",
      "display_name": "Python 3"
    }
  },
  "cells": [
    {
      "cell_type": "markdown",
      "metadata": {
        "id": "view-in-github",
        "colab_type": "text"
      },
      "source": [
        "<a href=\"https://colab.research.google.com/github/sunshineluyao/UTXO/blob/main/UTXO_Age_Distribution_To_Dataframe.ipynb\" target=\"_parent\"><img src=\"https://colab.research.google.com/assets/colab-badge.svg\" alt=\"Open In Colab\"/></a>"
      ]
    },
    {
      "cell_type": "markdown",
      "metadata": {
        "id": "e5mIfC5eAVpf"
      },
      "source": [
        "##reference: https://cloud.google.com/bigquery/docs/exporting-data.\n",
        "https://googleapis.dev/python/bigquery/latest/usage/pandas.html"
      ]
    },
    {
      "cell_type": "code",
      "metadata": {
        "id": "vqxwwL-BAaQg"
      },
      "source": [
        "from google.colab import auth\n",
        "auth.authenticate_user()"
      ],
      "execution_count": 1,
      "outputs": []
    },
    {
      "cell_type": "code",
      "metadata": {
        "id": "exwovf7YAjtE",
        "outputId": "3ff0c696-4d90-4729-a17e-273451d31ec4",
        "colab": {
          "base_uri": "https://localhost:8080/",
          "height": 35
        }
      },
      "source": [
        "from google.cloud import bigquery\n",
        "\n",
        "# https://cloud.google.com/resource-manager/docs/creating-managing-projects\n",
        "project_id = 'crypto-291811'\n",
        "client = bigquery.Client(project=project_id)\n",
        "\n",
        "for dataset in client.list_datasets():\n",
        "  print(dataset.dataset_id)"
      ],
      "execution_count": 2,
      "outputs": [
        {
          "output_type": "stream",
          "text": [
            "UTXO\n"
          ],
          "name": "stdout"
        }
      ]
    },
    {
      "cell_type": "code",
      "metadata": {
        "id": "yZ-0pKg_0op9"
      },
      "source": [
        "bucket_name = 'utxo'"
      ],
      "execution_count": 3,
      "outputs": []
    },
    {
      "cell_type": "code",
      "metadata": {
        "id": "jZ_3ZgFz05Qa"
      },
      "source": [
        "project = \"crypto-291811\"\n",
        "dataset_id = \"UTXO\"\n",
        "table_id = \"joint_all\""
      ],
      "execution_count": 4,
      "outputs": []
    },
    {
      "cell_type": "code",
      "metadata": {
        "id": "A-npt4vk1GYV"
      },
      "source": [
        "destination_uri = \"gs://{}/{}-*\".format(bucket_name, \"utxo_joint.csv\")\n",
        "dataset_ref = bigquery.DatasetReference(project, dataset_id)\n",
        "table_ref = dataset_ref.table(table_id)"
      ],
      "execution_count": 5,
      "outputs": []
    },
    {
      "cell_type": "code",
      "metadata": {
        "id": "ugtha8p_1tPc",
        "outputId": "9f8d4ab7-0913-48e0-9ca1-1d95d56ac41e",
        "colab": {
          "base_uri": "https://localhost:8080/",
          "height": 35
        }
      },
      "source": [
        "extract_job = client.extract_table(\n",
        "    table_ref,\n",
        "    destination_uri,\n",
        "    # Location must match that of the source table.\n",
        "    location=\"US\",\n",
        ")  # API request\n",
        "extract_job.result()  # Waits for job to complete.\n",
        "\n",
        "print(\n",
        "    \"Exported {}:{}.{} to {}\".format(project, dataset_id, table_id, destination_uri)\n",
        ")"
      ],
      "execution_count": 6,
      "outputs": [
        {
          "output_type": "stream",
          "text": [
            "Exported crypto-291811:UTXO.joint_all to gs://utxo/utxo_joint.csv-*\n"
          ],
          "name": "stdout"
        }
      ]
    },
    {
      "cell_type": "markdown",
      "metadata": {
        "id": "xSHlpYG42v6P"
      },
      "source": [
        "### The following methods is only valid for Dataset smaller than 1GB"
      ]
    },
    {
      "cell_type": "markdown",
      "metadata": {
        "id": "kc7sJZ-E24Ok"
      },
      "source": [
        "This will work"
      ]
    },
    {
      "cell_type": "code",
      "metadata": {
        "id": "GPVhYBhwAtF6",
        "outputId": "3f5797a6-656e-4d24-b7a0-7fd47bc86119",
        "colab": {
          "base_uri": "https://localhost:8080/",
          "height": 309
        }
      },
      "source": [
        "###To retrieve table rows as a pandas.DataFrame:\n",
        "# from google.cloud import bigquery\n",
        "# client = bigquery.Client()\n",
        "project = \"crypto-291811\"\n",
        "dataset_id = \"UTXO\"\n",
        "\n",
        "dataset_ref = bigquery.DatasetReference(project, dataset_id)\n",
        "table_ref = dataset_ref.table(\"joint\")\n",
        "table = client.get_table(table_ref)\n",
        "\n",
        "df_joint = client.list_rows(table).to_dataframe()\n",
        "df_joint.head()"
      ],
      "execution_count": 7,
      "outputs": [
        {
          "output_type": "execute_result",
          "data": {
            "text/html": [
              "<div>\n",
              "<style scoped>\n",
              "    .dataframe tbody tr th:only-of-type {\n",
              "        vertical-align: middle;\n",
              "    }\n",
              "\n",
              "    .dataframe tbody tr th {\n",
              "        vertical-align: top;\n",
              "    }\n",
              "\n",
              "    .dataframe thead th {\n",
              "        text-align: right;\n",
              "    }\n",
              "</style>\n",
              "<table border=\"1\" class=\"dataframe\">\n",
              "  <thead>\n",
              "    <tr style=\"text-align: right;\">\n",
              "      <th></th>\n",
              "      <th>value</th>\n",
              "      <th>transaction_hash</th>\n",
              "      <th>spent_transaction_hash</th>\n",
              "      <th>index</th>\n",
              "      <th>spent_output_index</th>\n",
              "      <th>block_timestamp</th>\n",
              "      <th>spent_block_timestamp</th>\n",
              "    </tr>\n",
              "  </thead>\n",
              "  <tbody>\n",
              "    <tr>\n",
              "      <th>0</th>\n",
              "      <td>546</td>\n",
              "      <td>15293857e8ef9c383528bbd89cecad0ff9fc7e678de00b...</td>\n",
              "      <td>None</td>\n",
              "      <td>2</td>\n",
              "      <td>NaN</td>\n",
              "      <td>2019-07-30 08:35:34+00:00</td>\n",
              "      <td>NaT</td>\n",
              "    </tr>\n",
              "    <tr>\n",
              "      <th>1</th>\n",
              "      <td>37176</td>\n",
              "      <td>3d495d96794e03c3c46c9dade2210175c0835508fc94e7...</td>\n",
              "      <td>None</td>\n",
              "      <td>18</td>\n",
              "      <td>NaN</td>\n",
              "      <td>2020-09-05 12:24:48+00:00</td>\n",
              "      <td>NaT</td>\n",
              "    </tr>\n",
              "    <tr>\n",
              "      <th>2</th>\n",
              "      <td>0</td>\n",
              "      <td>457c80ccaed442db2313fb394d8c6684a991e77f924d78...</td>\n",
              "      <td>None</td>\n",
              "      <td>2</td>\n",
              "      <td>NaN</td>\n",
              "      <td>2019-05-01 08:36:26+00:00</td>\n",
              "      <td>NaT</td>\n",
              "    </tr>\n",
              "    <tr>\n",
              "      <th>3</th>\n",
              "      <td>2081670</td>\n",
              "      <td>6469c0c63c37e8635d77a6dd056c3ab9edf24afe5d80da...</td>\n",
              "      <td>6469c0c63c37e8635d77a6dd056c3ab9edf24afe5d80da...</td>\n",
              "      <td>0</td>\n",
              "      <td>0.0</td>\n",
              "      <td>2014-05-25 18:53:50+00:00</td>\n",
              "      <td>2014-05-26 12:51:47+00:00</td>\n",
              "    </tr>\n",
              "    <tr>\n",
              "      <th>4</th>\n",
              "      <td>2410000</td>\n",
              "      <td>ec971f4753523e0ee5d0c65090e2bc96c3c68b4ad96a97...</td>\n",
              "      <td>ec971f4753523e0ee5d0c65090e2bc96c3c68b4ad96a97...</td>\n",
              "      <td>0</td>\n",
              "      <td>0.0</td>\n",
              "      <td>2017-05-27 17:23:06+00:00</td>\n",
              "      <td>2017-05-27 17:38:21+00:00</td>\n",
              "    </tr>\n",
              "  </tbody>\n",
              "</table>\n",
              "</div>"
            ],
            "text/plain": [
              "     value  ...     spent_block_timestamp\n",
              "0      546  ...                       NaT\n",
              "1    37176  ...                       NaT\n",
              "2        0  ...                       NaT\n",
              "3  2081670  ... 2014-05-26 12:51:47+00:00\n",
              "4  2410000  ... 2017-05-27 17:38:21+00:00\n",
              "\n",
              "[5 rows x 7 columns]"
            ]
          },
          "metadata": {
            "tags": []
          },
          "execution_count": 7
        }
      ]
    },
    {
      "cell_type": "markdown",
      "metadata": {
        "id": "LLkpd9qm26EL"
      },
      "source": [
        "This will not work\n"
      ]
    },
    {
      "cell_type": "code",
      "metadata": {
        "id": "ngktoeTUroNA"
      },
      "source": [
        "###To retrieve table rows as a pandas.DataFrame:\n",
        "# from google.cloud import bigquery\n",
        "# client = bigquery.Client()\n",
        "project = \"crypto-291811\"\n",
        "dataset_id = \"UTXO\"\n",
        "\n",
        "dataset_ref = bigquery.DatasetReference(project, dataset_id)\n",
        "table_ref = dataset_ref.table(\"joint_all\")\n",
        "table = client.get_table(table_ref)\n",
        "\n",
        "df_joint_all = client.list_rows(table).to_dataframe()\n",
        "df_joint_all.head()"
      ],
      "execution_count": null,
      "outputs": []
    },
    {
      "cell_type": "code",
      "metadata": {
        "id": "8EgCwJBvr2Z2"
      },
      "source": [
        ""
      ],
      "execution_count": null,
      "outputs": []
    }
  ]
}