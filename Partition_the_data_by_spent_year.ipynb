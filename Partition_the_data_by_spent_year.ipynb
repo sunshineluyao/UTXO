{
  "nbformat": 4,
  "nbformat_minor": 0,
  "metadata": {
    "colab": {
      "name": "Partition the data by spent year.ipynb",
      "provenance": [],
      "collapsed_sections": [],
      "machine_shape": "hm",
      "authorship_tag": "ABX9TyNcSphRlTSF2qqeuV8uYmNp",
      "include_colab_link": true
    },
    "kernelspec": {
      "name": "python3",
      "display_name": "Python 3"
    }
  },
  "cells": [
    {
      "cell_type": "markdown",
      "metadata": {
        "id": "view-in-github",
        "colab_type": "text"
      },
      "source": [
        "<a href=\"https://colab.research.google.com/github/sunshineluyao/UTXO/blob/main/Partition_the_data_by_spent_year.ipynb\" target=\"_parent\"><img src=\"https://colab.research.google.com/assets/colab-badge.svg\" alt=\"Open In Colab\"/></a>"
      ]
    },
    {
      "cell_type": "markdown",
      "metadata": {
        "id": "MzZoRQz5P5GG"
      },
      "source": [
        "\n",
        "run the following code in big query and generate joint_date\n",
        "reference: https://cloud.google.com/bigquery/docs/reference/standard-sql/timestamp_functions\n",
        "```\n",
        "SELECT \n",
        "  value,\n",
        "  FORMAT_TIMESTAMP(\"%Y-%m-%d\", block_timestamp) AS block_date,\n",
        "  FORMAT_TIMESTAMP(\"%Y-%m-%d\", spent_block_timestamp) AS spent_block_date,\n",
        "  EXTRACT(YEAR FROM block_timestamp) AS year,\n",
        "  EXTRACT(Month FROM block_timestamp) AS Month\n",
        "FROM `crypto-291811.UTXO.joint_all`\n",
        "```\n",
        "\n"
      ]
    },
    {
      "cell_type": "markdown",
      "metadata": {
        "id": "fBGDWfNshfyz"
      },
      "source": [
        "Create Partition Table\n",
        "https://fivetran.com/docs/destinations/bigquery/partition-table"
      ]
    },
    {
      "cell_type": "markdown",
      "metadata": {
        "id": "ufXFNgngQBO2"
      },
      "source": [
        "run the following to create dateset partition by the spent year, do the same for all block years until 2020\n",
        "\n",
        "\n",
        "```\n",
        "SELECT \n",
        "  value,\n",
        "  block_date,\n",
        "  spent_block_date\n",
        "FROM `crypto-291811.UTXO.joint_date` \n",
        "WHERE year=2009 or year=2010\n",
        "```\n",
        "\n",
        "\n"
      ]
    },
    {
      "cell_type": "code",
      "metadata": {
        "id": "4txSFqq9WZMd"
      },
      "source": [
        "from google.colab import auth\n",
        "auth.authenticate_user()"
      ],
      "execution_count": null,
      "outputs": []
    },
    {
      "cell_type": "code",
      "metadata": {
        "id": "dM-in4A1WTJ5"
      },
      "source": [
        "from google.cloud import bigquery\n",
        "\n",
        "# https://cloud.google.com/resource-manager/docs/creating-managing-projects\n",
        "project_id = 'crypto-291811'\n",
        "client = bigquery.Client(project=project_id)\n",
        "\n",
        "for dataset in client.list_datasets():\n",
        "  print(dataset.dataset_id)"
      ],
      "execution_count": null,
      "outputs": []
    },
    {
      "cell_type": "markdown",
      "metadata": {
        "id": "Rk_jG6iIVFDo"
      },
      "source": [
        "Now, we can first deal with the data that has creation year in 2009 or 2010, Note that the data is smaller than 1GB so that we can import directly to colab. \n",
        "After we deal with the data, we need to delete all data that has been spent up to 2010. "
      ]
    },
    {
      "cell_type": "code",
      "metadata": {
        "id": "SSASEN7rV9od"
      },
      "source": [
        "###To retrieve table rows as a pandas.DataFrame:\n",
        "# from google.cloud import bigquery\n",
        "# client = bigquery.Client()\n",
        "project = \"crypto-291811\"\n",
        "dataset_id = \"UTXO\"\n",
        "\n",
        "dataset_ref = bigquery.DatasetReference(project, dataset_id)\n",
        "table_ref = dataset_ref.table(\"joint_2010\")\n",
        "table = client.get_table(table_ref)\n",
        "\n",
        "df_2010 = client.list_rows(table).to_dataframe()\n",
        "df_2010.head()"
      ],
      "execution_count": null,
      "outputs": []
    },
    {
      "cell_type": "code",
      "metadata": {
        "id": "dQaSqkELd2vG",
        "outputId": "1bc07016-1d28-423d-d260-c0bba6839df6",
        "colab": {
          "base_uri": "https://localhost:8080/",
          "height": 202
        }
      },
      "source": [
        "df_2010.tail()"
      ],
      "execution_count": 65,
      "outputs": [
        {
          "output_type": "execute_result",
          "data": {
            "text/html": [
              "<div>\n",
              "<style scoped>\n",
              "    .dataframe tbody tr th:only-of-type {\n",
              "        vertical-align: middle;\n",
              "    }\n",
              "\n",
              "    .dataframe tbody tr th {\n",
              "        vertical-align: top;\n",
              "    }\n",
              "\n",
              "    .dataframe thead th {\n",
              "        text-align: right;\n",
              "    }\n",
              "</style>\n",
              "<table border=\"1\" class=\"dataframe\">\n",
              "  <thead>\n",
              "    <tr style=\"text-align: right;\">\n",
              "      <th></th>\n",
              "      <th>value</th>\n",
              "      <th>block_date</th>\n",
              "      <th>spent_block_date</th>\n",
              "    </tr>\n",
              "  </thead>\n",
              "  <tbody>\n",
              "    <tr>\n",
              "      <th>266462</th>\n",
              "      <td>5000000000</td>\n",
              "      <td>2010-10-11</td>\n",
              "      <td>2020-10-11</td>\n",
              "    </tr>\n",
              "    <tr>\n",
              "      <th>266463</th>\n",
              "      <td>5000000000</td>\n",
              "      <td>2010-10-13</td>\n",
              "      <td>2020-10-11</td>\n",
              "    </tr>\n",
              "    <tr>\n",
              "      <th>266464</th>\n",
              "      <td>5000000000</td>\n",
              "      <td>2010-11-10</td>\n",
              "      <td>2020-10-11</td>\n",
              "    </tr>\n",
              "    <tr>\n",
              "      <th>266465</th>\n",
              "      <td>5000000000</td>\n",
              "      <td>2010-11-09</td>\n",
              "      <td>2020-10-14</td>\n",
              "    </tr>\n",
              "    <tr>\n",
              "      <th>266466</th>\n",
              "      <td>5000000000</td>\n",
              "      <td>2010-09-23</td>\n",
              "      <td>2020-10-17</td>\n",
              "    </tr>\n",
              "  </tbody>\n",
              "</table>\n",
              "</div>"
            ],
            "text/plain": [
              "             value  block_date spent_block_date\n",
              "266462  5000000000  2010-10-11       2020-10-11\n",
              "266463  5000000000  2010-10-13       2020-10-11\n",
              "266464  5000000000  2010-11-10       2020-10-11\n",
              "266465  5000000000  2010-11-09       2020-10-14\n",
              "266466  5000000000  2010-09-23       2020-10-17"
            ]
          },
          "metadata": {
            "tags": []
          },
          "execution_count": 65
        }
      ]
    },
    {
      "cell_type": "code",
      "metadata": {
        "id": "gZLFt_dIWIrM"
      },
      "source": [
        "# Importing drive method from colab for accessing google drive\n",
        "from google.colab import drive"
      ],
      "execution_count": null,
      "outputs": []
    },
    {
      "cell_type": "code",
      "metadata": {
        "id": "PlaOB2leXGAd",
        "outputId": "d364302e-6b13-48ef-c618-74b49653304b",
        "colab": {
          "base_uri": "https://localhost:8080/",
          "height": 35
        }
      },
      "source": [
        "# Mounting drive\n",
        "# This will require authentication : Follow the steps as guided\n",
        "drive.mount('/content/drive',force_remount=True)"
      ],
      "execution_count": 73,
      "outputs": [
        {
          "output_type": "stream",
          "text": [
            "Mounted at /content/drive\n"
          ],
          "name": "stdout"
        }
      ]
    },
    {
      "cell_type": "code",
      "metadata": {
        "id": "CghqBSjbXSDX"
      },
      "source": [
        "df_2010.to_csv('/content/drive/My Drive/UTXO/joint_2010.csv')"
      ],
      "execution_count": 74,
      "outputs": []
    },
    {
      "cell_type": "code",
      "metadata": {
        "id": "p8tTdnYZXlak",
        "outputId": "1cf9669e-c01f-4d96-d250-1d8cf5584e18",
        "colab": {
          "base_uri": "https://localhost:8080/",
          "height": 202
        }
      },
      "source": [
        "###To retrieve table rows as a pandas.DataFrame:\n",
        "# from google.cloud import bigquery\n",
        "# client = bigquery.Client()\n",
        "project = \"crypto-291811\"\n",
        "dataset_id = \"UTXO\"\n",
        "\n",
        "dataset_ref = bigquery.DatasetReference(project, dataset_id)\n",
        "table_ref = dataset_ref.table(\"joint_2011\")\n",
        "table = client.get_table(table_ref)\n",
        "\n",
        "df_2011 = client.list_rows(table).to_dataframe()\n",
        "df_2011.head()"
      ],
      "execution_count": 75,
      "outputs": [
        {
          "output_type": "execute_result",
          "data": {
            "text/html": [
              "<div>\n",
              "<style scoped>\n",
              "    .dataframe tbody tr th:only-of-type {\n",
              "        vertical-align: middle;\n",
              "    }\n",
              "\n",
              "    .dataframe tbody tr th {\n",
              "        vertical-align: top;\n",
              "    }\n",
              "\n",
              "    .dataframe thead th {\n",
              "        text-align: right;\n",
              "    }\n",
              "</style>\n",
              "<table border=\"1\" class=\"dataframe\">\n",
              "  <thead>\n",
              "    <tr style=\"text-align: right;\">\n",
              "      <th></th>\n",
              "      <th>value</th>\n",
              "      <th>block_date</th>\n",
              "      <th>spent_block_date</th>\n",
              "    </tr>\n",
              "  </thead>\n",
              "  <tbody>\n",
              "    <tr>\n",
              "      <th>0</th>\n",
              "      <td>5003000000</td>\n",
              "      <td>2011-03-05</td>\n",
              "      <td>2011-04-15</td>\n",
              "    </tr>\n",
              "    <tr>\n",
              "      <th>1</th>\n",
              "      <td>3120000000</td>\n",
              "      <td>2011-12-11</td>\n",
              "      <td>2011-12-11</td>\n",
              "    </tr>\n",
              "    <tr>\n",
              "      <th>2</th>\n",
              "      <td>5328081</td>\n",
              "      <td>2011-12-10</td>\n",
              "      <td>2011-12-19</td>\n",
              "    </tr>\n",
              "    <tr>\n",
              "      <th>3</th>\n",
              "      <td>1114760</td>\n",
              "      <td>2011-10-14</td>\n",
              "      <td>2011-10-14</td>\n",
              "    </tr>\n",
              "    <tr>\n",
              "      <th>4</th>\n",
              "      <td>53683000000</td>\n",
              "      <td>2011-06-03</td>\n",
              "      <td>2011-06-03</td>\n",
              "    </tr>\n",
              "  </tbody>\n",
              "</table>\n",
              "</div>"
            ],
            "text/plain": [
              "         value  block_date spent_block_date\n",
              "0   5003000000  2011-03-05       2011-04-15\n",
              "1   3120000000  2011-12-11       2011-12-11\n",
              "2      5328081  2011-12-10       2011-12-19\n",
              "3      1114760  2011-10-14       2011-10-14\n",
              "4  53683000000  2011-06-03       2011-06-03"
            ]
          },
          "metadata": {
            "tags": []
          },
          "execution_count": 75
        }
      ]
    },
    {
      "cell_type": "code",
      "metadata": {
        "id": "DGotU2GzeoO8"
      },
      "source": [
        "df_2011.to_csv('/content/drive/My Drive/UTXO/joint_2011.csv')"
      ],
      "execution_count": 76,
      "outputs": []
    },
    {
      "cell_type": "markdown",
      "metadata": {
        "id": "JY8MdmBip72A"
      },
      "source": [
        "Let's first test the data for 2010 and 2011"
      ]
    },
    {
      "cell_type": "code",
      "metadata": {
        "id": "b3HwukvuiqJE",
        "outputId": "91776930-dfdd-4c2a-eb71-74e9efde5411",
        "colab": {
          "base_uri": "https://localhost:8080/",
          "height": 87
        }
      },
      "source": [
        "### sort the data by block_date\n",
        "df_2010.dtypes"
      ],
      "execution_count": 66,
      "outputs": [
        {
          "output_type": "execute_result",
          "data": {
            "text/plain": [
              "value               object\n",
              "block_date          object\n",
              "spent_block_date    object\n",
              "dtype: object"
            ]
          },
          "metadata": {
            "tags": []
          },
          "execution_count": 66
        }
      ]
    },
    {
      "cell_type": "code",
      "metadata": {
        "id": "Q9DxO3-Kqp6m"
      },
      "source": [
        "import pandas as pd"
      ],
      "execution_count": 67,
      "outputs": []
    },
    {
      "cell_type": "code",
      "metadata": {
        "id": "b1AMcE2GqKPL"
      },
      "source": [
        "df_2010['block_date']=pd.to_datetime(df_2010['block_date'])\n",
        "df_2010['spent_block_date']=pd.to_datetime(df_2010['spent_block_date'])"
      ],
      "execution_count": 68,
      "outputs": []
    },
    {
      "cell_type": "code",
      "metadata": {
        "id": "sL2H9JxdqcPh",
        "outputId": "94ceda80-2620-4723-e043-74726e880dd2",
        "colab": {
          "base_uri": "https://localhost:8080/",
          "height": 87
        }
      },
      "source": [
        "df_2010.dtypes"
      ],
      "execution_count": 69,
      "outputs": [
        {
          "output_type": "execute_result",
          "data": {
            "text/plain": [
              "value                       object\n",
              "block_date          datetime64[ns]\n",
              "spent_block_date    datetime64[ns]\n",
              "dtype: object"
            ]
          },
          "metadata": {
            "tags": []
          },
          "execution_count": 69
        }
      ]
    },
    {
      "cell_type": "code",
      "metadata": {
        "id": "qNAyYekdquPO",
        "outputId": "b9d346e0-61ff-4e51-eddb-d1e7c0ab249f",
        "colab": {
          "base_uri": "https://localhost:8080/",
          "height": 202
        }
      },
      "source": [
        "df_2010=df_2010.sort_values(by=['block_date','spent_block_date'])\n",
        "df_2010.head()"
      ],
      "execution_count": 70,
      "outputs": [
        {
          "output_type": "execute_result",
          "data": {
            "text/html": [
              "<div>\n",
              "<style scoped>\n",
              "    .dataframe tbody tr th:only-of-type {\n",
              "        vertical-align: middle;\n",
              "    }\n",
              "\n",
              "    .dataframe tbody tr th {\n",
              "        vertical-align: top;\n",
              "    }\n",
              "\n",
              "    .dataframe thead th {\n",
              "        text-align: right;\n",
              "    }\n",
              "</style>\n",
              "<table border=\"1\" class=\"dataframe\">\n",
              "  <thead>\n",
              "    <tr style=\"text-align: right;\">\n",
              "      <th></th>\n",
              "      <th>value</th>\n",
              "      <th>block_date</th>\n",
              "      <th>spent_block_date</th>\n",
              "    </tr>\n",
              "  </thead>\n",
              "  <tbody>\n",
              "    <tr>\n",
              "      <th>0</th>\n",
              "      <td>5000000000</td>\n",
              "      <td>2009-01-03</td>\n",
              "      <td>NaT</td>\n",
              "    </tr>\n",
              "    <tr>\n",
              "      <th>41092</th>\n",
              "      <td>5000000000</td>\n",
              "      <td>2009-01-09</td>\n",
              "      <td>2009-01-12</td>\n",
              "    </tr>\n",
              "    <tr>\n",
              "      <th>1</th>\n",
              "      <td>5000000000</td>\n",
              "      <td>2009-01-09</td>\n",
              "      <td>NaT</td>\n",
              "    </tr>\n",
              "    <tr>\n",
              "      <th>2</th>\n",
              "      <td>5000000000</td>\n",
              "      <td>2009-01-09</td>\n",
              "      <td>NaT</td>\n",
              "    </tr>\n",
              "    <tr>\n",
              "      <th>3</th>\n",
              "      <td>5000000000</td>\n",
              "      <td>2009-01-09</td>\n",
              "      <td>NaT</td>\n",
              "    </tr>\n",
              "  </tbody>\n",
              "</table>\n",
              "</div>"
            ],
            "text/plain": [
              "            value block_date spent_block_date\n",
              "0      5000000000 2009-01-03              NaT\n",
              "41092  5000000000 2009-01-09       2009-01-12\n",
              "1      5000000000 2009-01-09              NaT\n",
              "2      5000000000 2009-01-09              NaT\n",
              "3      5000000000 2009-01-09              NaT"
            ]
          },
          "metadata": {
            "tags": []
          },
          "execution_count": 70
        }
      ]
    },
    {
      "cell_type": "code",
      "metadata": {
        "id": "xUy3pReUrJw-",
        "outputId": "dc106766-36ff-4c72-da3f-a5e915a41834",
        "colab": {
          "base_uri": "https://localhost:8080/",
          "height": 202
        }
      },
      "source": [
        "df_2010.tail()"
      ],
      "execution_count": 71,
      "outputs": [
        {
          "output_type": "execute_result",
          "data": {
            "text/html": [
              "<div>\n",
              "<style scoped>\n",
              "    .dataframe tbody tr th:only-of-type {\n",
              "        vertical-align: middle;\n",
              "    }\n",
              "\n",
              "    .dataframe tbody tr th {\n",
              "        vertical-align: top;\n",
              "    }\n",
              "\n",
              "    .dataframe thead th {\n",
              "        text-align: right;\n",
              "    }\n",
              "</style>\n",
              "<table border=\"1\" class=\"dataframe\">\n",
              "  <thead>\n",
              "    <tr style=\"text-align: right;\">\n",
              "      <th></th>\n",
              "      <th>value</th>\n",
              "      <th>block_date</th>\n",
              "      <th>spent_block_date</th>\n",
              "    </tr>\n",
              "  </thead>\n",
              "  <tbody>\n",
              "    <tr>\n",
              "      <th>41087</th>\n",
              "      <td>5000000</td>\n",
              "      <td>2010-12-31</td>\n",
              "      <td>NaT</td>\n",
              "    </tr>\n",
              "    <tr>\n",
              "      <th>41088</th>\n",
              "      <td>5000000</td>\n",
              "      <td>2010-12-31</td>\n",
              "      <td>NaT</td>\n",
              "    </tr>\n",
              "    <tr>\n",
              "      <th>41089</th>\n",
              "      <td>5000000</td>\n",
              "      <td>2010-12-31</td>\n",
              "      <td>NaT</td>\n",
              "    </tr>\n",
              "    <tr>\n",
              "      <th>41090</th>\n",
              "      <td>5000000</td>\n",
              "      <td>2010-12-31</td>\n",
              "      <td>NaT</td>\n",
              "    </tr>\n",
              "    <tr>\n",
              "      <th>41091</th>\n",
              "      <td>5000000000</td>\n",
              "      <td>2010-12-31</td>\n",
              "      <td>NaT</td>\n",
              "    </tr>\n",
              "  </tbody>\n",
              "</table>\n",
              "</div>"
            ],
            "text/plain": [
              "            value block_date spent_block_date\n",
              "41087     5000000 2010-12-31              NaT\n",
              "41088     5000000 2010-12-31              NaT\n",
              "41089     5000000 2010-12-31              NaT\n",
              "41090     5000000 2010-12-31              NaT\n",
              "41091  5000000000 2010-12-31              NaT"
            ]
          },
          "metadata": {
            "tags": []
          },
          "execution_count": 71
        }
      ]
    },
    {
      "cell_type": "code",
      "metadata": {
        "id": "6MS49dd5rqEX"
      },
      "source": [
        "df_2011['block_date']=pd.to_datetime(df_2011['block_date'])\n",
        "df_2011['spent_block_date']=pd.to_datetime(df_2011['spent_block_date'])"
      ],
      "execution_count": 77,
      "outputs": []
    },
    {
      "cell_type": "code",
      "metadata": {
        "id": "yZLYgBHDyOqg",
        "outputId": "57ca3bbc-710b-4b20-be38-b31e4f8f964c",
        "colab": {
          "base_uri": "https://localhost:8080/",
          "height": 415
        }
      },
      "source": [
        "df_2011=df_2011.sort_values(by=['block_date','spent_block_date'])\n",
        "df_2011.head(100)"
      ],
      "execution_count": 80,
      "outputs": [
        {
          "output_type": "execute_result",
          "data": {
            "text/html": [
              "<div>\n",
              "<style scoped>\n",
              "    .dataframe tbody tr th:only-of-type {\n",
              "        vertical-align: middle;\n",
              "    }\n",
              "\n",
              "    .dataframe tbody tr th {\n",
              "        vertical-align: top;\n",
              "    }\n",
              "\n",
              "    .dataframe thead th {\n",
              "        text-align: right;\n",
              "    }\n",
              "</style>\n",
              "<table border=\"1\" class=\"dataframe\">\n",
              "  <thead>\n",
              "    <tr style=\"text-align: right;\">\n",
              "      <th></th>\n",
              "      <th>value</th>\n",
              "      <th>block_date</th>\n",
              "      <th>spent_block_date</th>\n",
              "    </tr>\n",
              "  </thead>\n",
              "  <tbody>\n",
              "    <tr>\n",
              "      <th>8317</th>\n",
              "      <td>12461000000</td>\n",
              "      <td>2011-01-01</td>\n",
              "      <td>2011-01-01</td>\n",
              "    </tr>\n",
              "    <tr>\n",
              "      <th>23422</th>\n",
              "      <td>12646000000</td>\n",
              "      <td>2011-01-01</td>\n",
              "      <td>2011-01-01</td>\n",
              "    </tr>\n",
              "    <tr>\n",
              "      <th>25177</th>\n",
              "      <td>33905000000</td>\n",
              "      <td>2011-01-01</td>\n",
              "      <td>2011-01-01</td>\n",
              "    </tr>\n",
              "    <tr>\n",
              "      <th>33561</th>\n",
              "      <td>12451000000</td>\n",
              "      <td>2011-01-01</td>\n",
              "      <td>2011-01-01</td>\n",
              "    </tr>\n",
              "    <tr>\n",
              "      <th>35431</th>\n",
              "      <td>33910000000</td>\n",
              "      <td>2011-01-01</td>\n",
              "      <td>2011-01-01</td>\n",
              "    </tr>\n",
              "    <tr>\n",
              "      <th>...</th>\n",
              "      <td>...</td>\n",
              "      <td>...</td>\n",
              "      <td>...</td>\n",
              "    </tr>\n",
              "    <tr>\n",
              "      <th>720058</th>\n",
              "      <td>12591000000</td>\n",
              "      <td>2011-01-01</td>\n",
              "      <td>2011-01-01</td>\n",
              "    </tr>\n",
              "    <tr>\n",
              "      <th>721292</th>\n",
              "      <td>4407000000</td>\n",
              "      <td>2011-01-01</td>\n",
              "      <td>2011-01-01</td>\n",
              "    </tr>\n",
              "    <tr>\n",
              "      <th>723992</th>\n",
              "      <td>4586000000</td>\n",
              "      <td>2011-01-01</td>\n",
              "      <td>2011-01-01</td>\n",
              "    </tr>\n",
              "    <tr>\n",
              "      <th>730701</th>\n",
              "      <td>1518000000</td>\n",
              "      <td>2011-01-01</td>\n",
              "      <td>2011-01-01</td>\n",
              "    </tr>\n",
              "    <tr>\n",
              "      <th>733578</th>\n",
              "      <td>2654000000</td>\n",
              "      <td>2011-01-01</td>\n",
              "      <td>2011-01-01</td>\n",
              "    </tr>\n",
              "  </tbody>\n",
              "</table>\n",
              "<p>100 rows × 3 columns</p>\n",
              "</div>"
            ],
            "text/plain": [
              "              value block_date spent_block_date\n",
              "8317    12461000000 2011-01-01       2011-01-01\n",
              "23422   12646000000 2011-01-01       2011-01-01\n",
              "25177   33905000000 2011-01-01       2011-01-01\n",
              "33561   12451000000 2011-01-01       2011-01-01\n",
              "35431   33910000000 2011-01-01       2011-01-01\n",
              "...             ...        ...              ...\n",
              "720058  12591000000 2011-01-01       2011-01-01\n",
              "721292   4407000000 2011-01-01       2011-01-01\n",
              "723992   4586000000 2011-01-01       2011-01-01\n",
              "730701   1518000000 2011-01-01       2011-01-01\n",
              "733578   2654000000 2011-01-01       2011-01-01\n",
              "\n",
              "[100 rows x 3 columns]"
            ]
          },
          "metadata": {
            "tags": []
          },
          "execution_count": 80
        }
      ]
    },
    {
      "cell_type": "code",
      "metadata": {
        "id": "TQWQUqWCyTqy",
        "outputId": "27e862c1-5d12-4ad0-da0a-2c1712289e05",
        "colab": {
          "base_uri": "https://localhost:8080/",
          "height": 202
        }
      },
      "source": [
        "df_2011.tail()"
      ],
      "execution_count": 79,
      "outputs": [
        {
          "output_type": "execute_result",
          "data": {
            "text/html": [
              "<div>\n",
              "<style scoped>\n",
              "    .dataframe tbody tr th:only-of-type {\n",
              "        vertical-align: middle;\n",
              "    }\n",
              "\n",
              "    .dataframe tbody tr th {\n",
              "        vertical-align: top;\n",
              "    }\n",
              "\n",
              "    .dataframe thead th {\n",
              "        text-align: right;\n",
              "    }\n",
              "</style>\n",
              "<table border=\"1\" class=\"dataframe\">\n",
              "  <thead>\n",
              "    <tr style=\"text-align: right;\">\n",
              "      <th></th>\n",
              "      <th>value</th>\n",
              "      <th>block_date</th>\n",
              "      <th>spent_block_date</th>\n",
              "    </tr>\n",
              "  </thead>\n",
              "  <tbody>\n",
              "    <tr>\n",
              "      <th>4557104</th>\n",
              "      <td>50000000</td>\n",
              "      <td>2011-12-31</td>\n",
              "      <td>NaT</td>\n",
              "    </tr>\n",
              "    <tr>\n",
              "      <th>4557779</th>\n",
              "      <td>50000000</td>\n",
              "      <td>2011-12-31</td>\n",
              "      <td>NaT</td>\n",
              "    </tr>\n",
              "    <tr>\n",
              "      <th>4563227</th>\n",
              "      <td>50000000</td>\n",
              "      <td>2011-12-31</td>\n",
              "      <td>NaT</td>\n",
              "    </tr>\n",
              "    <tr>\n",
              "      <th>4621699</th>\n",
              "      <td>101000000</td>\n",
              "      <td>2011-12-31</td>\n",
              "      <td>NaT</td>\n",
              "    </tr>\n",
              "    <tr>\n",
              "      <th>4627254</th>\n",
              "      <td>101000000</td>\n",
              "      <td>2011-12-31</td>\n",
              "      <td>NaT</td>\n",
              "    </tr>\n",
              "  </tbody>\n",
              "</table>\n",
              "</div>"
            ],
            "text/plain": [
              "             value block_date spent_block_date\n",
              "4557104   50000000 2011-12-31              NaT\n",
              "4557779   50000000 2011-12-31              NaT\n",
              "4563227   50000000 2011-12-31              NaT\n",
              "4621699  101000000 2011-12-31              NaT\n",
              "4627254  101000000 2011-12-31              NaT"
            ]
          },
          "metadata": {
            "tags": []
          },
          "execution_count": 79
        }
      ]
    },
    {
      "cell_type": "code",
      "metadata": {
        "id": "RdXei5sUybgL"
      },
      "source": [
        ""
      ],
      "execution_count": null,
      "outputs": []
    }
  ]
}