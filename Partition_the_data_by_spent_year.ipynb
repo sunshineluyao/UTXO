{
  "nbformat": 4,
  "nbformat_minor": 0,
  "metadata": {
    "colab": {
      "name": "Partition the data by spent year.ipynb",
      "provenance": [],
      "collapsed_sections": [],
      "machine_shape": "hm",
      "authorship_tag": "ABX9TyOFW2J2YaASyaLcszzqzGWu",
      "include_colab_link": true
    },
    "kernelspec": {
      "name": "python3",
      "display_name": "Python 3"
    }
  },
  "cells": [
    {
      "cell_type": "markdown",
      "metadata": {
        "id": "view-in-github",
        "colab_type": "text"
      },
      "source": [
        "<a href=\"https://colab.research.google.com/github/sunshineluyao/UTXO/blob/main/Partition_the_data_by_spent_year.ipynb\" target=\"_parent\"><img src=\"https://colab.research.google.com/assets/colab-badge.svg\" alt=\"Open In Colab\"/></a>"
      ]
    },
    {
      "cell_type": "markdown",
      "metadata": {
        "id": "MzZoRQz5P5GG"
      },
      "source": [
        "\n",
        "run the following code in big query and generate joint_date\n",
        "reference: https://cloud.google.com/bigquery/docs/reference/standard-sql/timestamp_functions\n",
        "```\n",
        "SELECT \n",
        "  value,\n",
        "  FORMAT_TIMESTAMP(\"%Y-%m-%d\", block_timestamp) AS block_date,\n",
        "  FORMAT_TIMESTAMP(\"%Y-%m-%d\", spent_block_timestamp) AS spent_block_date,\n",
        "  EXTRACT(YEAR FROM block_timestamp) AS year,\n",
        "  EXTRACT(Month FROM block_timestamp) AS Month\n",
        "FROM `crypto-291811.UTXO.joint_all`\n",
        "```\n",
        "\n"
      ]
    },
    {
      "cell_type": "markdown",
      "metadata": {
        "id": "fBGDWfNshfyz"
      },
      "source": [
        "Create Partition Table\n",
        "https://fivetran.com/docs/destinations/bigquery/partition-table"
      ]
    },
    {
      "cell_type": "markdown",
      "metadata": {
        "id": "ufXFNgngQBO2"
      },
      "source": [
        "run the following to create dateset partition by the spent year, do the same for all block years until 2020\n",
        "\n",
        "\n",
        "```\n",
        "SELECT \n",
        "  value,\n",
        "  block_date,\n",
        "  spent_block_date\n",
        "FROM `crypto-291811.UTXO.joint_date` \n",
        "WHERE year=2009 or year=2010\n",
        "```\n",
        "\n",
        "\n"
      ]
    },
    {
      "cell_type": "code",
      "metadata": {
        "id": "4txSFqq9WZMd"
      },
      "source": [
        "from google.colab import auth\n",
        "auth.authenticate_user()"
      ],
      "execution_count": 1,
      "outputs": []
    },
    {
      "cell_type": "code",
      "metadata": {
        "id": "dM-in4A1WTJ5",
        "outputId": "b176b7c3-e69d-4d8a-8676-136afb7df163",
        "colab": {
          "base_uri": "https://localhost:8080/",
          "height": 35
        }
      },
      "source": [
        "from google.cloud import bigquery\n",
        "\n",
        "# https://cloud.google.com/resource-manager/docs/creating-managing-projects\n",
        "project_id = 'crypto-291811'\n",
        "client = bigquery.Client(project=project_id)\n",
        "\n",
        "for dataset in client.list_datasets():\n",
        "  print(dataset.dataset_id)"
      ],
      "execution_count": 2,
      "outputs": [
        {
          "output_type": "stream",
          "text": [
            "UTXO\n"
          ],
          "name": "stdout"
        }
      ]
    },
    {
      "cell_type": "markdown",
      "metadata": {
        "id": "Rk_jG6iIVFDo"
      },
      "source": [
        "Now, we can first deal with the data that has creation year in 2009 or 2010, Note that the data is smaller than 1GB so that we can import directly to colab. \n",
        "After we deal with the data, we need to delete all data that has been spent up to 2010. "
      ]
    },
    {
      "cell_type": "code",
      "metadata": {
        "id": "SSASEN7rV9od",
        "outputId": "5d179de0-82dc-4e40-fb22-b9e66fc109dd",
        "colab": {
          "base_uri": "https://localhost:8080/",
          "height": 202
        }
      },
      "source": [
        "###To retrieve table rows as a pandas.DataFrame:\n",
        "# from google.cloud import bigquery\n",
        "# client = bigquery.Client()\n",
        "project = \"crypto-291811\"\n",
        "dataset_id = \"UTXO\"\n",
        "\n",
        "dataset_ref = bigquery.DatasetReference(project, dataset_id)\n",
        "table_ref = dataset_ref.table(\"joint_2010\")\n",
        "table = client.get_table(table_ref)\n",
        "\n",
        "df_2010 = client.list_rows(table).to_dataframe()\n",
        "df_2010.head()"
      ],
      "execution_count": 3,
      "outputs": [
        {
          "output_type": "execute_result",
          "data": {
            "text/html": [
              "<div>\n",
              "<style scoped>\n",
              "    .dataframe tbody tr th:only-of-type {\n",
              "        vertical-align: middle;\n",
              "    }\n",
              "\n",
              "    .dataframe tbody tr th {\n",
              "        vertical-align: top;\n",
              "    }\n",
              "\n",
              "    .dataframe thead th {\n",
              "        text-align: right;\n",
              "    }\n",
              "</style>\n",
              "<table border=\"1\" class=\"dataframe\">\n",
              "  <thead>\n",
              "    <tr style=\"text-align: right;\">\n",
              "      <th></th>\n",
              "      <th>value</th>\n",
              "      <th>block_date</th>\n",
              "      <th>spent_block_date</th>\n",
              "    </tr>\n",
              "  </thead>\n",
              "  <tbody>\n",
              "    <tr>\n",
              "      <th>0</th>\n",
              "      <td>5000000000</td>\n",
              "      <td>2009-01-03</td>\n",
              "      <td>None</td>\n",
              "    </tr>\n",
              "    <tr>\n",
              "      <th>1</th>\n",
              "      <td>5000000000</td>\n",
              "      <td>2009-01-09</td>\n",
              "      <td>None</td>\n",
              "    </tr>\n",
              "    <tr>\n",
              "      <th>2</th>\n",
              "      <td>5000000000</td>\n",
              "      <td>2009-01-09</td>\n",
              "      <td>None</td>\n",
              "    </tr>\n",
              "    <tr>\n",
              "      <th>3</th>\n",
              "      <td>5000000000</td>\n",
              "      <td>2009-01-09</td>\n",
              "      <td>None</td>\n",
              "    </tr>\n",
              "    <tr>\n",
              "      <th>4</th>\n",
              "      <td>5000000000</td>\n",
              "      <td>2009-01-09</td>\n",
              "      <td>None</td>\n",
              "    </tr>\n",
              "  </tbody>\n",
              "</table>\n",
              "</div>"
            ],
            "text/plain": [
              "        value  block_date spent_block_date\n",
              "0  5000000000  2009-01-03             None\n",
              "1  5000000000  2009-01-09             None\n",
              "2  5000000000  2009-01-09             None\n",
              "3  5000000000  2009-01-09             None\n",
              "4  5000000000  2009-01-09             None"
            ]
          },
          "metadata": {
            "tags": []
          },
          "execution_count": 3
        }
      ]
    },
    {
      "cell_type": "code",
      "metadata": {
        "id": "dQaSqkELd2vG",
        "outputId": "fddd5d21-d9e4-4000-cb26-ada8324b07e8",
        "colab": {
          "base_uri": "https://localhost:8080/",
          "height": 202
        }
      },
      "source": [
        "df_2010.tail()"
      ],
      "execution_count": 4,
      "outputs": [
        {
          "output_type": "execute_result",
          "data": {
            "text/html": [
              "<div>\n",
              "<style scoped>\n",
              "    .dataframe tbody tr th:only-of-type {\n",
              "        vertical-align: middle;\n",
              "    }\n",
              "\n",
              "    .dataframe tbody tr th {\n",
              "        vertical-align: top;\n",
              "    }\n",
              "\n",
              "    .dataframe thead th {\n",
              "        text-align: right;\n",
              "    }\n",
              "</style>\n",
              "<table border=\"1\" class=\"dataframe\">\n",
              "  <thead>\n",
              "    <tr style=\"text-align: right;\">\n",
              "      <th></th>\n",
              "      <th>value</th>\n",
              "      <th>block_date</th>\n",
              "      <th>spent_block_date</th>\n",
              "    </tr>\n",
              "  </thead>\n",
              "  <tbody>\n",
              "    <tr>\n",
              "      <th>137520</th>\n",
              "      <td>5000000000</td>\n",
              "      <td>2010-10-11</td>\n",
              "      <td>2020-10-11</td>\n",
              "    </tr>\n",
              "    <tr>\n",
              "      <th>137521</th>\n",
              "      <td>5000000000</td>\n",
              "      <td>2010-10-13</td>\n",
              "      <td>2020-10-11</td>\n",
              "    </tr>\n",
              "    <tr>\n",
              "      <th>137522</th>\n",
              "      <td>5000000000</td>\n",
              "      <td>2010-11-10</td>\n",
              "      <td>2020-10-11</td>\n",
              "    </tr>\n",
              "    <tr>\n",
              "      <th>137523</th>\n",
              "      <td>5000000000</td>\n",
              "      <td>2010-11-09</td>\n",
              "      <td>2020-10-14</td>\n",
              "    </tr>\n",
              "    <tr>\n",
              "      <th>137524</th>\n",
              "      <td>5000000000</td>\n",
              "      <td>2010-09-23</td>\n",
              "      <td>2020-10-17</td>\n",
              "    </tr>\n",
              "  </tbody>\n",
              "</table>\n",
              "</div>"
            ],
            "text/plain": [
              "             value  block_date spent_block_date\n",
              "137520  5000000000  2010-10-11       2020-10-11\n",
              "137521  5000000000  2010-10-13       2020-10-11\n",
              "137522  5000000000  2010-11-10       2020-10-11\n",
              "137523  5000000000  2010-11-09       2020-10-14\n",
              "137524  5000000000  2010-09-23       2020-10-17"
            ]
          },
          "metadata": {
            "tags": []
          },
          "execution_count": 4
        }
      ]
    },
    {
      "cell_type": "code",
      "metadata": {
        "id": "p8tTdnYZXlak",
        "outputId": "a4d2ca6f-20b9-410e-9575-b006bfde8c58",
        "colab": {
          "base_uri": "https://localhost:8080/",
          "height": 202
        }
      },
      "source": [
        "###To retrieve table rows as a pandas.DataFrame:\n",
        "# from google.cloud import bigquery\n",
        "# client = bigquery.Client()\n",
        "project = \"crypto-291811\"\n",
        "dataset_id = \"UTXO\"\n",
        "\n",
        "dataset_ref = bigquery.DatasetReference(project, dataset_id)\n",
        "table_ref = dataset_ref.table(\"joint_2011\")\n",
        "table = client.get_table(table_ref)\n",
        "\n",
        "df_2011 = client.list_rows(table).to_dataframe()\n",
        "df_2011.head()"
      ],
      "execution_count": 8,
      "outputs": [
        {
          "output_type": "execute_result",
          "data": {
            "text/html": [
              "<div>\n",
              "<style scoped>\n",
              "    .dataframe tbody tr th:only-of-type {\n",
              "        vertical-align: middle;\n",
              "    }\n",
              "\n",
              "    .dataframe tbody tr th {\n",
              "        vertical-align: top;\n",
              "    }\n",
              "\n",
              "    .dataframe thead th {\n",
              "        text-align: right;\n",
              "    }\n",
              "</style>\n",
              "<table border=\"1\" class=\"dataframe\">\n",
              "  <thead>\n",
              "    <tr style=\"text-align: right;\">\n",
              "      <th></th>\n",
              "      <th>value</th>\n",
              "      <th>block_date</th>\n",
              "      <th>spent_block_date</th>\n",
              "    </tr>\n",
              "  </thead>\n",
              "  <tbody>\n",
              "    <tr>\n",
              "      <th>0</th>\n",
              "      <td>5475757</td>\n",
              "      <td>2011-09-01</td>\n",
              "      <td>2012-02-09</td>\n",
              "    </tr>\n",
              "    <tr>\n",
              "      <th>1</th>\n",
              "      <td>344000000</td>\n",
              "      <td>2011-09-05</td>\n",
              "      <td>2011-09-06</td>\n",
              "    </tr>\n",
              "    <tr>\n",
              "      <th>2</th>\n",
              "      <td>12508787</td>\n",
              "      <td>2011-05-30</td>\n",
              "      <td>2011-06-06</td>\n",
              "    </tr>\n",
              "    <tr>\n",
              "      <th>3</th>\n",
              "      <td>88999695</td>\n",
              "      <td>2011-08-30</td>\n",
              "      <td>2011-09-10</td>\n",
              "    </tr>\n",
              "    <tr>\n",
              "      <th>4</th>\n",
              "      <td>40894346</td>\n",
              "      <td>2011-11-11</td>\n",
              "      <td>2012-05-03</td>\n",
              "    </tr>\n",
              "  </tbody>\n",
              "</table>\n",
              "</div>"
            ],
            "text/plain": [
              "       value  block_date spent_block_date\n",
              "0    5475757  2011-09-01       2012-02-09\n",
              "1  344000000  2011-09-05       2011-09-06\n",
              "2   12508787  2011-05-30       2011-06-06\n",
              "3   88999695  2011-08-30       2011-09-10\n",
              "4   40894346  2011-11-11       2012-05-03"
            ]
          },
          "metadata": {
            "tags": []
          },
          "execution_count": 8
        }
      ]
    },
    {
      "cell_type": "code",
      "metadata": {
        "id": "b3HwukvuiqJE",
        "outputId": "ec2e6b8e-7b5e-4041-be53-239472e45eee",
        "colab": {
          "base_uri": "https://localhost:8080/",
          "height": 87
        }
      },
      "source": [
        "### sort the data by block_date\n",
        "df_2010.dtypes"
      ],
      "execution_count": 9,
      "outputs": [
        {
          "output_type": "execute_result",
          "data": {
            "text/plain": [
              "value               object\n",
              "block_date          object\n",
              "spent_block_date    object\n",
              "dtype: object"
            ]
          },
          "metadata": {
            "tags": []
          },
          "execution_count": 9
        }
      ]
    },
    {
      "cell_type": "code",
      "metadata": {
        "id": "Q9DxO3-Kqp6m"
      },
      "source": [
        "import pandas as pd"
      ],
      "execution_count": 10,
      "outputs": []
    },
    {
      "cell_type": "code",
      "metadata": {
        "id": "b1AMcE2GqKPL"
      },
      "source": [
        "df_2010['block_date']=pd.to_datetime(df_2010['block_date'])\n",
        "df_2010['spent_block_date']=pd.to_datetime(df_2010['spent_block_date'])"
      ],
      "execution_count": 11,
      "outputs": []
    },
    {
      "cell_type": "code",
      "metadata": {
        "id": "sL2H9JxdqcPh",
        "outputId": "23697fa1-806a-41ea-b3dc-d09fd3afeb5b",
        "colab": {
          "base_uri": "https://localhost:8080/",
          "height": 87
        }
      },
      "source": [
        "df_2010.dtypes"
      ],
      "execution_count": 12,
      "outputs": [
        {
          "output_type": "execute_result",
          "data": {
            "text/plain": [
              "value                       object\n",
              "block_date          datetime64[ns]\n",
              "spent_block_date    datetime64[ns]\n",
              "dtype: object"
            ]
          },
          "metadata": {
            "tags": []
          },
          "execution_count": 12
        }
      ]
    },
    {
      "cell_type": "code",
      "metadata": {
        "id": "dahKJUFzn99x"
      },
      "source": [
        "df_2011['block_date']=pd.to_datetime(df_2011['block_date'])\n",
        "df_2011['spent_block_date']=pd.to_datetime(df_2011['spent_block_date'])"
      ],
      "execution_count": 13,
      "outputs": []
    },
    {
      "cell_type": "code",
      "metadata": {
        "id": "qNAyYekdquPO",
        "outputId": "aab9019c-b20a-4cdf-9bbe-0e744cd3c893",
        "colab": {
          "base_uri": "https://localhost:8080/",
          "height": 202
        }
      },
      "source": [
        "df_2010=df_2010.sort_values(by=['block_date','spent_block_date'])\n",
        "df_2010.head()"
      ],
      "execution_count": 14,
      "outputs": [
        {
          "output_type": "execute_result",
          "data": {
            "text/html": [
              "<div>\n",
              "<style scoped>\n",
              "    .dataframe tbody tr th:only-of-type {\n",
              "        vertical-align: middle;\n",
              "    }\n",
              "\n",
              "    .dataframe tbody tr th {\n",
              "        vertical-align: top;\n",
              "    }\n",
              "\n",
              "    .dataframe thead th {\n",
              "        text-align: right;\n",
              "    }\n",
              "</style>\n",
              "<table border=\"1\" class=\"dataframe\">\n",
              "  <thead>\n",
              "    <tr style=\"text-align: right;\">\n",
              "      <th></th>\n",
              "      <th>value</th>\n",
              "      <th>block_date</th>\n",
              "      <th>spent_block_date</th>\n",
              "    </tr>\n",
              "  </thead>\n",
              "  <tbody>\n",
              "    <tr>\n",
              "      <th>0</th>\n",
              "      <td>5000000000</td>\n",
              "      <td>2009-01-03</td>\n",
              "      <td>NaT</td>\n",
              "    </tr>\n",
              "    <tr>\n",
              "      <th>21553</th>\n",
              "      <td>5000000000</td>\n",
              "      <td>2009-01-09</td>\n",
              "      <td>2009-01-12</td>\n",
              "    </tr>\n",
              "    <tr>\n",
              "      <th>1</th>\n",
              "      <td>5000000000</td>\n",
              "      <td>2009-01-09</td>\n",
              "      <td>NaT</td>\n",
              "    </tr>\n",
              "    <tr>\n",
              "      <th>2</th>\n",
              "      <td>5000000000</td>\n",
              "      <td>2009-01-09</td>\n",
              "      <td>NaT</td>\n",
              "    </tr>\n",
              "    <tr>\n",
              "      <th>3</th>\n",
              "      <td>5000000000</td>\n",
              "      <td>2009-01-09</td>\n",
              "      <td>NaT</td>\n",
              "    </tr>\n",
              "  </tbody>\n",
              "</table>\n",
              "</div>"
            ],
            "text/plain": [
              "            value block_date spent_block_date\n",
              "0      5000000000 2009-01-03              NaT\n",
              "21553  5000000000 2009-01-09       2009-01-12\n",
              "1      5000000000 2009-01-09              NaT\n",
              "2      5000000000 2009-01-09              NaT\n",
              "3      5000000000 2009-01-09              NaT"
            ]
          },
          "metadata": {
            "tags": []
          },
          "execution_count": 14
        }
      ]
    },
    {
      "cell_type": "code",
      "metadata": {
        "id": "2KhWPqnzoCp-",
        "outputId": "f019393b-1a06-416b-a294-78d0dfc37a11",
        "colab": {
          "base_uri": "https://localhost:8080/",
          "height": 202
        }
      },
      "source": [
        "df_2011=df_2011.sort_values(by=['block_date','spent_block_date'])\n",
        "df_2011.head()"
      ],
      "execution_count": 15,
      "outputs": [
        {
          "output_type": "execute_result",
          "data": {
            "text/html": [
              "<div>\n",
              "<style scoped>\n",
              "    .dataframe tbody tr th:only-of-type {\n",
              "        vertical-align: middle;\n",
              "    }\n",
              "\n",
              "    .dataframe tbody tr th {\n",
              "        vertical-align: top;\n",
              "    }\n",
              "\n",
              "    .dataframe thead th {\n",
              "        text-align: right;\n",
              "    }\n",
              "</style>\n",
              "<table border=\"1\" class=\"dataframe\">\n",
              "  <thead>\n",
              "    <tr style=\"text-align: right;\">\n",
              "      <th></th>\n",
              "      <th>value</th>\n",
              "      <th>block_date</th>\n",
              "      <th>spent_block_date</th>\n",
              "    </tr>\n",
              "  </thead>\n",
              "  <tbody>\n",
              "    <tr>\n",
              "      <th>15563</th>\n",
              "      <td>957000000</td>\n",
              "      <td>2011-01-01</td>\n",
              "      <td>2011-01-02</td>\n",
              "    </tr>\n",
              "    <tr>\n",
              "      <th>46791</th>\n",
              "      <td>29000000</td>\n",
              "      <td>2011-01-01</td>\n",
              "      <td>2011-01-02</td>\n",
              "    </tr>\n",
              "    <tr>\n",
              "      <th>64685</th>\n",
              "      <td>33895000000</td>\n",
              "      <td>2011-01-01</td>\n",
              "      <td>2011-01-02</td>\n",
              "    </tr>\n",
              "    <tr>\n",
              "      <th>94558</th>\n",
              "      <td>126000000</td>\n",
              "      <td>2011-01-01</td>\n",
              "      <td>2011-01-02</td>\n",
              "    </tr>\n",
              "    <tr>\n",
              "      <th>113788</th>\n",
              "      <td>4552000000</td>\n",
              "      <td>2011-01-01</td>\n",
              "      <td>2011-01-02</td>\n",
              "    </tr>\n",
              "  </tbody>\n",
              "</table>\n",
              "</div>"
            ],
            "text/plain": [
              "              value block_date spent_block_date\n",
              "15563     957000000 2011-01-01       2011-01-02\n",
              "46791      29000000 2011-01-01       2011-01-02\n",
              "64685   33895000000 2011-01-01       2011-01-02\n",
              "94558     126000000 2011-01-01       2011-01-02\n",
              "113788   4552000000 2011-01-01       2011-01-02"
            ]
          },
          "metadata": {
            "tags": []
          },
          "execution_count": 15
        }
      ]
    },
    {
      "cell_type": "code",
      "metadata": {
        "id": "xUy3pReUrJw-",
        "outputId": "71bd702d-192b-4ece-f001-96cd2e5d0629",
        "colab": {
          "base_uri": "https://localhost:8080/",
          "height": 202
        }
      },
      "source": [
        "df_2010.tail()"
      ],
      "execution_count": 16,
      "outputs": [
        {
          "output_type": "execute_result",
          "data": {
            "text/html": [
              "<div>\n",
              "<style scoped>\n",
              "    .dataframe tbody tr th:only-of-type {\n",
              "        vertical-align: middle;\n",
              "    }\n",
              "\n",
              "    .dataframe tbody tr th {\n",
              "        vertical-align: top;\n",
              "    }\n",
              "\n",
              "    .dataframe thead th {\n",
              "        text-align: right;\n",
              "    }\n",
              "</style>\n",
              "<table border=\"1\" class=\"dataframe\">\n",
              "  <thead>\n",
              "    <tr style=\"text-align: right;\">\n",
              "      <th></th>\n",
              "      <th>value</th>\n",
              "      <th>block_date</th>\n",
              "      <th>spent_block_date</th>\n",
              "    </tr>\n",
              "  </thead>\n",
              "  <tbody>\n",
              "    <tr>\n",
              "      <th>136385</th>\n",
              "      <td>5000000</td>\n",
              "      <td>2010-12-31</td>\n",
              "      <td>2017-07-30</td>\n",
              "    </tr>\n",
              "    <tr>\n",
              "      <th>136386</th>\n",
              "      <td>5000000</td>\n",
              "      <td>2010-12-31</td>\n",
              "      <td>2017-07-30</td>\n",
              "    </tr>\n",
              "    <tr>\n",
              "      <th>136654</th>\n",
              "      <td>523000000</td>\n",
              "      <td>2010-12-31</td>\n",
              "      <td>2017-10-16</td>\n",
              "    </tr>\n",
              "    <tr>\n",
              "      <th>137004</th>\n",
              "      <td>5000000</td>\n",
              "      <td>2010-12-31</td>\n",
              "      <td>2017-12-15</td>\n",
              "    </tr>\n",
              "    <tr>\n",
              "      <th>137401</th>\n",
              "      <td>5000000</td>\n",
              "      <td>2010-12-31</td>\n",
              "      <td>2019-10-16</td>\n",
              "    </tr>\n",
              "  </tbody>\n",
              "</table>\n",
              "</div>"
            ],
            "text/plain": [
              "            value block_date spent_block_date\n",
              "136385    5000000 2010-12-31       2017-07-30\n",
              "136386    5000000 2010-12-31       2017-07-30\n",
              "136654  523000000 2010-12-31       2017-10-16\n",
              "137004    5000000 2010-12-31       2017-12-15\n",
              "137401    5000000 2010-12-31       2019-10-16"
            ]
          },
          "metadata": {
            "tags": []
          },
          "execution_count": 16
        }
      ]
    },
    {
      "cell_type": "code",
      "metadata": {
        "id": "TQWQUqWCyTqy",
        "outputId": "c335ef95-f8a9-4188-c3ae-a0883b7e5ac8",
        "colab": {
          "base_uri": "https://localhost:8080/",
          "height": 202
        }
      },
      "source": [
        "df_2011.tail()"
      ],
      "execution_count": 17,
      "outputs": [
        {
          "output_type": "execute_result",
          "data": {
            "text/html": [
              "<div>\n",
              "<style scoped>\n",
              "    .dataframe tbody tr th:only-of-type {\n",
              "        vertical-align: middle;\n",
              "    }\n",
              "\n",
              "    .dataframe tbody tr th {\n",
              "        vertical-align: top;\n",
              "    }\n",
              "\n",
              "    .dataframe thead th {\n",
              "        text-align: right;\n",
              "    }\n",
              "</style>\n",
              "<table border=\"1\" class=\"dataframe\">\n",
              "  <thead>\n",
              "    <tr style=\"text-align: right;\">\n",
              "      <th></th>\n",
              "      <th>value</th>\n",
              "      <th>block_date</th>\n",
              "      <th>spent_block_date</th>\n",
              "    </tr>\n",
              "  </thead>\n",
              "  <tbody>\n",
              "    <tr>\n",
              "      <th>577463</th>\n",
              "      <td>71332333</td>\n",
              "      <td>2011-12-31</td>\n",
              "      <td>2019-12-17</td>\n",
              "    </tr>\n",
              "    <tr>\n",
              "      <th>153925</th>\n",
              "      <td>71176732</td>\n",
              "      <td>2011-12-31</td>\n",
              "      <td>2020-03-21</td>\n",
              "    </tr>\n",
              "    <tr>\n",
              "      <th>123856</th>\n",
              "      <td>103000000</td>\n",
              "      <td>2011-12-31</td>\n",
              "      <td>2020-04-19</td>\n",
              "    </tr>\n",
              "    <tr>\n",
              "      <th>1161818</th>\n",
              "      <td>100000</td>\n",
              "      <td>2011-12-31</td>\n",
              "      <td>2020-04-26</td>\n",
              "    </tr>\n",
              "    <tr>\n",
              "      <th>1156511</th>\n",
              "      <td>100000</td>\n",
              "      <td>2011-12-31</td>\n",
              "      <td>2020-05-11</td>\n",
              "    </tr>\n",
              "  </tbody>\n",
              "</table>\n",
              "</div>"
            ],
            "text/plain": [
              "             value block_date spent_block_date\n",
              "577463    71332333 2011-12-31       2019-12-17\n",
              "153925    71176732 2011-12-31       2020-03-21\n",
              "123856   103000000 2011-12-31       2020-04-19\n",
              "1161818     100000 2011-12-31       2020-04-26\n",
              "1156511     100000 2011-12-31       2020-05-11"
            ]
          },
          "metadata": {
            "tags": []
          },
          "execution_count": 17
        }
      ]
    },
    {
      "cell_type": "code",
      "metadata": {
        "id": "gZLFt_dIWIrM"
      },
      "source": [
        "# Importing drive method from colab for accessing google drive\n",
        "from google.colab import drive"
      ],
      "execution_count": 18,
      "outputs": []
    },
    {
      "cell_type": "code",
      "metadata": {
        "id": "PlaOB2leXGAd",
        "outputId": "e19098b0-b019-4469-a6b3-96647fc826c6",
        "colab": {
          "base_uri": "https://localhost:8080/",
          "height": 35
        }
      },
      "source": [
        "# Mounting drive\n",
        "# This will require authentication : Follow the steps as guided\n",
        "drive.mount('/content/drive')"
      ],
      "execution_count": 19,
      "outputs": [
        {
          "output_type": "stream",
          "text": [
            "Drive already mounted at /content/drive; to attempt to forcibly remount, call drive.mount(\"/content/drive\", force_remount=True).\n"
          ],
          "name": "stdout"
        }
      ]
    },
    {
      "cell_type": "code",
      "metadata": {
        "id": "RdXei5sUybgL"
      },
      "source": [
        "df_2010.to_csv('/content/drive/My Drive/UTXO/joint_2010.csv')\n",
        "df_2011.to_csv('/content/drive/My Drive/UTXO/joint_2011.csv')"
      ],
      "execution_count": 20,
      "outputs": []
    },
    {
      "cell_type": "code",
      "metadata": {
        "id": "0UdSEp7moc0f"
      },
      "source": [
        ""
      ],
      "execution_count": null,
      "outputs": []
    }
  ]
}