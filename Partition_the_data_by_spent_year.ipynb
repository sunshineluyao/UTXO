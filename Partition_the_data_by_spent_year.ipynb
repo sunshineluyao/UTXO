{
  "nbformat": 4,
  "nbformat_minor": 0,
  "metadata": {
    "colab": {
      "name": "Partition the data by spent year.ipynb",
      "provenance": [],
      "collapsed_sections": [],
      "machine_shape": "hm",
      "authorship_tag": "ABX9TyOqBapHt9lyN7YS+8CZ0g5O",
      "include_colab_link": true
    },
    "kernelspec": {
      "name": "python3",
      "display_name": "Python 3"
    }
  },
  "cells": [
    {
      "cell_type": "markdown",
      "metadata": {
        "id": "view-in-github",
        "colab_type": "text"
      },
      "source": [
        "<a href=\"https://colab.research.google.com/github/sunshineluyao/UTXO/blob/main/Partition_the_data_by_spent_year.ipynb\" target=\"_parent\"><img src=\"https://colab.research.google.com/assets/colab-badge.svg\" alt=\"Open In Colab\"/></a>"
      ]
    },
    {
      "cell_type": "markdown",
      "metadata": {
        "id": "MzZoRQz5P5GG"
      },
      "source": [
        "\n",
        "run the following code in big query and generate joint_date\n",
        "```\n",
        "SELECT \n",
        "  value,\n",
        "  FORMAT_TIMESTAMP(\"%Y-%m-%d\", block_timestamp) AS block_date,\n",
        "  FORMAT_TIMESTAMP(\"%Y-%m-%d\", spent_block_timestamp) AS spent_block_date,\n",
        "  EXTRACT(ISOYEAR FROM block_timestamp) AS year\n",
        "FROM `crypto-291811.UTXO.joint_all`\n",
        "```\n",
        "\n"
      ]
    },
    {
      "cell_type": "markdown",
      "metadata": {
        "id": "fBGDWfNshfyz"
      },
      "source": [
        "Create Partition Table\n",
        "https://fivetran.com/docs/destinations/bigquery/partition-table"
      ]
    },
    {
      "cell_type": "markdown",
      "metadata": {
        "id": "ufXFNgngQBO2"
      },
      "source": [
        "run the following to create dateset partition by the spent year, do the same for all block years until 2020\n",
        "\n",
        "\n",
        "```\n",
        "SELECT \n",
        "  value,\n",
        "  block_date,\n",
        "  spent_block_date\n",
        "FROM `crypto-291811.UTXO.joint_date` \n",
        "WHERE spent_year<=2010\n",
        "```\n",
        "\n",
        "\n"
      ]
    },
    {
      "cell_type": "code",
      "metadata": {
        "id": "4txSFqq9WZMd"
      },
      "source": [
        "from google.colab import auth\n",
        "auth.authenticate_user()"
      ],
      "execution_count": null,
      "outputs": []
    },
    {
      "cell_type": "code",
      "metadata": {
        "id": "dM-in4A1WTJ5"
      },
      "source": [
        "from google.cloud import bigquery\n",
        "\n",
        "# https://cloud.google.com/resource-manager/docs/creating-managing-projects\n",
        "project_id = 'crypto-291811'\n",
        "client = bigquery.Client(project=project_id)\n",
        "\n",
        "for dataset in client.list_datasets():\n",
        "  print(dataset.dataset_id)"
      ],
      "execution_count": null,
      "outputs": []
    },
    {
      "cell_type": "markdown",
      "metadata": {
        "id": "Rk_jG6iIVFDo"
      },
      "source": [
        "Now, we can first deal with the data that has creation year in 2009 or 2010, Note that the data is smaller than 1GB so that we can import directly to colab. \n",
        "After we deal with the data, we need to delete all data that has been spent up to 2010. "
      ]
    },
    {
      "cell_type": "code",
      "metadata": {
        "id": "SSASEN7rV9od"
      },
      "source": [
        "###To retrieve table rows as a pandas.DataFrame:\n",
        "# from google.cloud import bigquery\n",
        "# client = bigquery.Client()\n",
        "project = \"crypto-291811\"\n",
        "dataset_id = \"UTXO\"\n",
        "\n",
        "dataset_ref = bigquery.DatasetReference(project, dataset_id)\n",
        "table_ref = dataset_ref.table(\"joint_2010\")\n",
        "table = client.get_table(table_ref)\n",
        "\n",
        "df_2010 = client.list_rows(table).to_dataframe()\n",
        "df_2010.head()"
      ],
      "execution_count": null,
      "outputs": []
    },
    {
      "cell_type": "code",
      "metadata": {
        "id": "dQaSqkELd2vG",
        "outputId": "6bad3d65-b1ef-4135-f17f-fca788654528",
        "colab": {
          "base_uri": "https://localhost:8080/",
          "height": 202
        }
      },
      "source": [
        "df_2010.tail()"
      ],
      "execution_count": 11,
      "outputs": [
        {
          "output_type": "execute_result",
          "data": {
            "text/html": [
              "<div>\n",
              "<style scoped>\n",
              "    .dataframe tbody tr th:only-of-type {\n",
              "        vertical-align: middle;\n",
              "    }\n",
              "\n",
              "    .dataframe tbody tr th {\n",
              "        vertical-align: top;\n",
              "    }\n",
              "\n",
              "    .dataframe thead th {\n",
              "        text-align: right;\n",
              "    }\n",
              "</style>\n",
              "<table border=\"1\" class=\"dataframe\">\n",
              "  <thead>\n",
              "    <tr style=\"text-align: right;\">\n",
              "      <th></th>\n",
              "      <th>value</th>\n",
              "      <th>block_date</th>\n",
              "      <th>spent_block_date</th>\n",
              "    </tr>\n",
              "  </thead>\n",
              "  <tbody>\n",
              "    <tr>\n",
              "      <th>268344</th>\n",
              "      <td>5000000000</td>\n",
              "      <td>2010-10-11</td>\n",
              "      <td>2020-10-11</td>\n",
              "    </tr>\n",
              "    <tr>\n",
              "      <th>268345</th>\n",
              "      <td>5000000000</td>\n",
              "      <td>2010-10-13</td>\n",
              "      <td>2020-10-11</td>\n",
              "    </tr>\n",
              "    <tr>\n",
              "      <th>268346</th>\n",
              "      <td>5000000000</td>\n",
              "      <td>2010-11-10</td>\n",
              "      <td>2020-10-11</td>\n",
              "    </tr>\n",
              "    <tr>\n",
              "      <th>268347</th>\n",
              "      <td>5000000000</td>\n",
              "      <td>2010-11-09</td>\n",
              "      <td>2020-10-14</td>\n",
              "    </tr>\n",
              "    <tr>\n",
              "      <th>268348</th>\n",
              "      <td>5000000000</td>\n",
              "      <td>2010-09-23</td>\n",
              "      <td>2020-10-17</td>\n",
              "    </tr>\n",
              "  </tbody>\n",
              "</table>\n",
              "</div>"
            ],
            "text/plain": [
              "             value  block_date spent_block_date\n",
              "268344  5000000000  2010-10-11       2020-10-11\n",
              "268345  5000000000  2010-10-13       2020-10-11\n",
              "268346  5000000000  2010-11-10       2020-10-11\n",
              "268347  5000000000  2010-11-09       2020-10-14\n",
              "268348  5000000000  2010-09-23       2020-10-17"
            ]
          },
          "metadata": {
            "tags": []
          },
          "execution_count": 11
        }
      ]
    },
    {
      "cell_type": "code",
      "metadata": {
        "id": "gZLFt_dIWIrM"
      },
      "source": [
        "# Importing drive method from colab for accessing google drive\n",
        "from google.colab import drive"
      ],
      "execution_count": null,
      "outputs": []
    },
    {
      "cell_type": "code",
      "metadata": {
        "id": "PlaOB2leXGAd",
        "outputId": "e6756c8d-2494-4fd4-fdc1-d33b19eb2e7b",
        "colab": {
          "base_uri": "https://localhost:8080/",
          "height": 35
        }
      },
      "source": [
        "# Mounting drive\n",
        "# This will require authentication : Follow the steps as guided\n",
        "drive.mount('/content/drive',force_remount=True)"
      ],
      "execution_count": 13,
      "outputs": [
        {
          "output_type": "stream",
          "text": [
            "Mounted at /content/drive\n"
          ],
          "name": "stdout"
        }
      ]
    },
    {
      "cell_type": "code",
      "metadata": {
        "id": "CghqBSjbXSDX"
      },
      "source": [
        "df_2010.to_csv('/content/drive/My Drive/UTXO/joint_2010.csv')"
      ],
      "execution_count": 15,
      "outputs": []
    },
    {
      "cell_type": "code",
      "metadata": {
        "id": "p8tTdnYZXlak",
        "outputId": "47fc8d19-0879-444d-9335-9b7fb72b6b25",
        "colab": {
          "base_uri": "https://localhost:8080/",
          "height": 202
        }
      },
      "source": [
        "###To retrieve table rows as a pandas.DataFrame:\n",
        "# from google.cloud import bigquery\n",
        "# client = bigquery.Client()\n",
        "project = \"crypto-291811\"\n",
        "dataset_id = \"UTXO\"\n",
        "\n",
        "dataset_ref = bigquery.DatasetReference(project, dataset_id)\n",
        "table_ref = dataset_ref.table(\"joint_2011\")\n",
        "table = client.get_table(table_ref)\n",
        "\n",
        "df_2011 = client.list_rows(table).to_dataframe()\n",
        "df_2011.head()"
      ],
      "execution_count": 16,
      "outputs": [
        {
          "output_type": "execute_result",
          "data": {
            "text/html": [
              "<div>\n",
              "<style scoped>\n",
              "    .dataframe tbody tr th:only-of-type {\n",
              "        vertical-align: middle;\n",
              "    }\n",
              "\n",
              "    .dataframe tbody tr th {\n",
              "        vertical-align: top;\n",
              "    }\n",
              "\n",
              "    .dataframe thead th {\n",
              "        text-align: right;\n",
              "    }\n",
              "</style>\n",
              "<table border=\"1\" class=\"dataframe\">\n",
              "  <thead>\n",
              "    <tr style=\"text-align: right;\">\n",
              "      <th></th>\n",
              "      <th>value</th>\n",
              "      <th>block_date</th>\n",
              "      <th>spent_block_date</th>\n",
              "    </tr>\n",
              "  </thead>\n",
              "  <tbody>\n",
              "    <tr>\n",
              "      <th>0</th>\n",
              "      <td>3000000000</td>\n",
              "      <td>2011-11-03</td>\n",
              "      <td>2011-11-07</td>\n",
              "    </tr>\n",
              "    <tr>\n",
              "      <th>1</th>\n",
              "      <td>18</td>\n",
              "      <td>2011-09-26</td>\n",
              "      <td>None</td>\n",
              "    </tr>\n",
              "    <tr>\n",
              "      <th>2</th>\n",
              "      <td>21000000</td>\n",
              "      <td>2011-05-20</td>\n",
              "      <td>2011-05-21</td>\n",
              "    </tr>\n",
              "    <tr>\n",
              "      <th>3</th>\n",
              "      <td>201000000</td>\n",
              "      <td>2011-09-25</td>\n",
              "      <td>2012-01-05</td>\n",
              "    </tr>\n",
              "    <tr>\n",
              "      <th>4</th>\n",
              "      <td>398000000</td>\n",
              "      <td>2011-07-05</td>\n",
              "      <td>2011-07-06</td>\n",
              "    </tr>\n",
              "  </tbody>\n",
              "</table>\n",
              "</div>"
            ],
            "text/plain": [
              "        value  block_date spent_block_date\n",
              "0  3000000000  2011-11-03       2011-11-07\n",
              "1          18  2011-09-26             None\n",
              "2    21000000  2011-05-20       2011-05-21\n",
              "3   201000000  2011-09-25       2012-01-05\n",
              "4   398000000  2011-07-05       2011-07-06"
            ]
          },
          "metadata": {
            "tags": []
          },
          "execution_count": 16
        }
      ]
    },
    {
      "cell_type": "code",
      "metadata": {
        "id": "DGotU2GzeoO8"
      },
      "source": [
        "df_2011.to_csv('/content/drive/My Drive/UTXO/joint_2011.csv')"
      ],
      "execution_count": 17,
      "outputs": []
    },
    {
      "cell_type": "code",
      "metadata": {
        "id": "y-sZOyJ0fasF",
        "outputId": "620cd637-6913-4f35-db82-6eaf49d5b91e",
        "colab": {
          "base_uri": "https://localhost:8080/",
          "height": 202
        }
      },
      "source": [
        "###To retrieve table rows as a pandas.DataFrame:\n",
        "# from google.cloud import bigquery\n",
        "# client = bigquery.Client()\n",
        "project = \"crypto-291811\"\n",
        "dataset_id = \"UTXO\"\n",
        "\n",
        "dataset_ref = bigquery.DatasetReference(project, dataset_id)\n",
        "table_ref = dataset_ref.table(\"joint_2012\")\n",
        "table = client.get_table(table_ref)\n",
        "\n",
        "df_2012 = client.list_rows(table).to_dataframe()\n",
        "df_2012.head()"
      ],
      "execution_count": 19,
      "outputs": [
        {
          "output_type": "execute_result",
          "data": {
            "text/html": [
              "<div>\n",
              "<style scoped>\n",
              "    .dataframe tbody tr th:only-of-type {\n",
              "        vertical-align: middle;\n",
              "    }\n",
              "\n",
              "    .dataframe tbody tr th {\n",
              "        vertical-align: top;\n",
              "    }\n",
              "\n",
              "    .dataframe thead th {\n",
              "        text-align: right;\n",
              "    }\n",
              "</style>\n",
              "<table border=\"1\" class=\"dataframe\">\n",
              "  <thead>\n",
              "    <tr style=\"text-align: right;\">\n",
              "      <th></th>\n",
              "      <th>value</th>\n",
              "      <th>block_date</th>\n",
              "      <th>spent_block_date</th>\n",
              "    </tr>\n",
              "  </thead>\n",
              "  <tbody>\n",
              "    <tr>\n",
              "      <th>0</th>\n",
              "      <td>1</td>\n",
              "      <td>2012-08-15</td>\n",
              "      <td>2012-08-15</td>\n",
              "    </tr>\n",
              "    <tr>\n",
              "      <th>1</th>\n",
              "      <td>400000</td>\n",
              "      <td>2012-10-25</td>\n",
              "      <td>2012-10-25</td>\n",
              "    </tr>\n",
              "    <tr>\n",
              "      <th>2</th>\n",
              "      <td>1000000</td>\n",
              "      <td>2012-12-09</td>\n",
              "      <td>2012-12-09</td>\n",
              "    </tr>\n",
              "    <tr>\n",
              "      <th>3</th>\n",
              "      <td>4714850000</td>\n",
              "      <td>2012-11-22</td>\n",
              "      <td>2012-11-22</td>\n",
              "    </tr>\n",
              "    <tr>\n",
              "      <th>4</th>\n",
              "      <td>1350000</td>\n",
              "      <td>2012-01-25</td>\n",
              "      <td>2012-01-25</td>\n",
              "    </tr>\n",
              "  </tbody>\n",
              "</table>\n",
              "</div>"
            ],
            "text/plain": [
              "        value  block_date spent_block_date\n",
              "0           1  2012-08-15       2012-08-15\n",
              "1      400000  2012-10-25       2012-10-25\n",
              "2     1000000  2012-12-09       2012-12-09\n",
              "3  4714850000  2012-11-22       2012-11-22\n",
              "4     1350000  2012-01-25       2012-01-25"
            ]
          },
          "metadata": {
            "tags": []
          },
          "execution_count": 19
        }
      ]
    },
    {
      "cell_type": "code",
      "metadata": {
        "id": "Jz0dEiLKi30M"
      },
      "source": [
        "df_2012.to_csv('/content/drive/My Drive/UTXO/joint_2012.csv')"
      ],
      "execution_count": 20,
      "outputs": []
    },
    {
      "cell_type": "code",
      "metadata": {
        "id": "b3HwukvuiqJE"
      },
      "source": [
        ""
      ],
      "execution_count": null,
      "outputs": []
    }
  ]
}