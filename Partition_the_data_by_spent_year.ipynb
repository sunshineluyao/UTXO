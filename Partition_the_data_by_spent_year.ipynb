{
  "nbformat": 4,
  "nbformat_minor": 0,
  "metadata": {
    "colab": {
      "name": "Partition the data by spent year.ipynb",
      "provenance": [],
      "private_outputs": true,
      "authorship_tag": "ABX9TyM8ZggkQwYHuAeM+sX7dA/Y",
      "include_colab_link": true
    },
    "kernelspec": {
      "name": "python3",
      "display_name": "Python 3"
    }
  },
  "cells": [
    {
      "cell_type": "markdown",
      "metadata": {
        "id": "view-in-github",
        "colab_type": "text"
      },
      "source": [
        "<a href=\"https://colab.research.google.com/github/sunshineluyao/UTXO/blob/main/Partition_the_data_by_spent_year.ipynb\" target=\"_parent\"><img src=\"https://colab.research.google.com/assets/colab-badge.svg\" alt=\"Open In Colab\"/></a>"
      ]
    },
    {
      "cell_type": "markdown",
      "metadata": {
        "id": "MzZoRQz5P5GG"
      },
      "source": [
        "\n",
        "run the following code in big query and generate joint_date\n",
        "```\n",
        "SELECT \n",
        "  value,\n",
        "  FORMAT_TIMESTAMP(\"%Y-%m-%d\", block_timestamp) AS block_date,\n",
        "  FORMAT_TIMESTAMP(\"%Y-%m-%d\", spent_block_timestamp) AS spent_block_date,\n",
        "  EXTRACT(ISOYEAR FROM spent_block_timestamp) AS spent_year\n",
        "FROM `crypto-291811.UTXO.joint_all`\n",
        "```\n",
        "\n"
      ]
    },
    {
      "cell_type": "markdown",
      "metadata": {
        "id": "ufXFNgngQBO2"
      },
      "source": [
        ""
      ]
    }
  ]
}