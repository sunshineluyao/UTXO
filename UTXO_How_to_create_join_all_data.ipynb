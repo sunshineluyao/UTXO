{
  "nbformat": 4,
  "nbformat_minor": 0,
  "metadata": {
    "colab": {
      "name": " UTXO: How to create join_all data.ipynb",
      "private_outputs": true,
      "provenance": [],
      "authorship_tag": "ABX9TyMKj8kMuUKc5piN5DwW6i2r",
      "include_colab_link": true
    },
    "kernelspec": {
      "name": "python3",
      "display_name": "Python 3"
    }
  },
  "cells": [
    {
      "cell_type": "markdown",
      "metadata": {
        "id": "view-in-github",
        "colab_type": "text"
      },
      "source": [
        "<a href=\"https://colab.research.google.com/github/sunshineluyao/UTXO/blob/main/UTXO_How_to_create_join_all_data.ipynb\" target=\"_parent\"><img src=\"https://colab.research.google.com/assets/colab-badge.svg\" alt=\"Open In Colab\"/></a>"
      ]
    },
    {
      "cell_type": "markdown",
      "metadata": {
        "id": "hPcFjjrqkHUB"
      },
      "source": [
        "# Step 1: Query data from the input and output public data sets and only keep varaibles of interest"
      ]
    },
    {
      "cell_type": "markdown",
      "metadata": {
        "id": "13l0Fxg0lGlA"
      },
      "source": [
        "## inputs"
      ]
    },
    {
      "cell_type": "markdown",
      "metadata": {
        "id": "tng_aKxekw8B"
      },
      "source": [
        "Choose destination table as"
      ]
    },
    {
      "cell_type": "code",
      "metadata": {
        "id": "cd66yJm3kvfd"
      },
      "source": [
        "crypto-291811.UTXO.inputs"
      ],
      "execution_count": null,
      "outputs": []
    },
    {
      "cell_type": "markdown",
      "metadata": {
        "id": "DMcNa6gTk3BT"
      },
      "source": [
        "Put the SQL in Bigquery Query BOX"
      ]
    },
    {
      "cell_type": "code",
      "metadata": {
        "id": "nGwpzClEkCzy"
      },
      "source": [
        "  SELECT \r\n",
        "    spent_transaction_hash,\r\n",
        "    spent_output_index,\t\r\n",
        "    block_timestamp AS spent_block_timestamp,   \r\n",
        "\r\n",
        "  FROM `bigquery-public-data.crypto_bitcoin.inputs`"
      ],
      "execution_count": null,
      "outputs": []
    },
    {
      "cell_type": "markdown",
      "metadata": {
        "id": "aj7lOaLBlchA"
      },
      "source": [
        "#outputs"
      ]
    },
    {
      "cell_type": "markdown",
      "metadata": {
        "id": "cCNWtOkHlMA-"
      },
      "source": [
        "Choose destination table as"
      ]
    },
    {
      "cell_type": "code",
      "metadata": {
        "id": "bTaNrm89lOEf"
      },
      "source": [
        "crypto-291811.UTXO.outputs"
      ],
      "execution_count": null,
      "outputs": []
    },
    {
      "cell_type": "markdown",
      "metadata": {
        "id": "hJoWxhdOlV6I"
      },
      "source": [
        "Put the SQL in Bigquery Query BOX"
      ]
    },
    {
      "cell_type": "code",
      "metadata": {
        "id": "-q81GoNflZ4Y"
      },
      "source": [
        "SELECT \r\n",
        "    transaction_hash,\r\n",
        "    block_timestamp,\r\n",
        "  \tindex,\t\r\n",
        "    value\r\n",
        "  FROM `bigquery-public-data.crypto_bitcoin.outputs`"
      ],
      "execution_count": null,
      "outputs": []
    },
    {
      "cell_type": "markdown",
      "metadata": {
        "id": "xIx5DFlGlhbd"
      },
      "source": [
        "# Step 2:Joint the two tables by transaction hash and index"
      ]
    },
    {
      "cell_type": "markdown",
      "metadata": {
        "id": "zrdlaqgVlvt0"
      },
      "source": [
        "Choose destination table as"
      ]
    },
    {
      "cell_type": "code",
      "metadata": {
        "id": "u_ccH9ZsltEO"
      },
      "source": [
        "crypto-291811.UTXO.joint"
      ],
      "execution_count": null,
      "outputs": []
    },
    {
      "cell_type": "markdown",
      "metadata": {
        "id": "VqtO98s9lzGa"
      },
      "source": [
        "Put the SQL in Bigquery Query BOX"
      ]
    },
    {
      "cell_type": "code",
      "metadata": {
        "id": "WhCw7FgTlnPS"
      },
      "source": [
        "  SELECT\r\n",
        "    outputs.value,  \r\n",
        "    outputs.transaction_hash,\r\n",
        "    inputs.spent_transaction_hash,\r\n",
        "    outputs.index,\r\n",
        "    inputs.spent_output_index,\r\n",
        "    outputs.block_timestamp,\r\n",
        "    inputs.spent_block_timestamp,\r\n",
        "   \r\n",
        "  FROM `crypto-291811.UTXO.outputs` AS outputs\r\n",
        "  LEFT JOIN `crypto-291811.UTXO.inputs` AS inputs\r\n",
        "  ON outputs.transaction_hash=inputs.spent_transaction_hash  AND outputs.index = inputs.spent_output_index"
      ],
      "execution_count": null,
      "outputs": []
    },
    {
      "cell_type": "markdown",
      "metadata": {
        "id": "e19mIIT7l5na"
      },
      "source": [
        "### references Google Colab code for the above steps: https://github.com/sunshineluyao/UTXO/blob/main/UTXO_Age_Distribution_Data_queried_from_public_data_set.ipynb"
      ]
    },
    {
      "cell_type": "markdown",
      "metadata": {
        "id": "UnusVCr0mCYE"
      },
      "source": [
        "# Step 3  Format Data and Keep only variables of interest"
      ]
    },
    {
      "cell_type": "markdown",
      "metadata": {
        "id": "mpp8Tr_0nJAB"
      },
      "source": [
        "Choose destination table as"
      ]
    },
    {
      "cell_type": "code",
      "metadata": {
        "id": "O_ISeiQ4nEFe"
      },
      "source": [
        "crypto-291811.UTXO.joint_all"
      ],
      "execution_count": null,
      "outputs": []
    },
    {
      "cell_type": "markdown",
      "metadata": {
        "id": "ku5-CLmOnKAd"
      },
      "source": [
        "Put the SQL in Bigquery Query BOX"
      ]
    },
    {
      "cell_type": "code",
      "metadata": {
        "id": "Tn2f_mbvmzNf"
      },
      "source": [
        "SELECT \r\n",
        "  value,\r\n",
        "  FORMAT_TIMESTAMP(\"%Y-%m-%d\", block_timestamp) AS block_date,\r\n",
        "  FORMAT_TIMESTAMP(\"%Y-%m-%d\", spent_block_timestamp) AS spent_block_date,\r\n",
        "  FROM `crypto-291811.UTXO.joint`"
      ],
      "execution_count": null,
      "outputs": []
    }
  ]
}