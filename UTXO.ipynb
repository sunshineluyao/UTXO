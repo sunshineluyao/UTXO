{
  "nbformat": 4,
  "nbformat_minor": 0,
  "metadata": {
    "colab": {
      "name": "UTXO",
      "provenance": [],
      "collapsed_sections": [],
      "include_colab_link": true
    },
    "kernelspec": {
      "display_name": "Python 3",
      "name": "python3"
    }
  },
  "cells": [
    {
      "cell_type": "markdown",
      "metadata": {
        "id": "view-in-github",
        "colab_type": "text"
      },
      "source": [
        "<a href=\"https://colab.research.google.com/github/sunshineluyao/UTXO/blob/main/UTXO.ipynb\" target=\"_parent\"><img src=\"https://colab.research.google.com/assets/colab-badge.svg\" alt=\"Open In Colab\"/></a>"
      ]
    },
    {
      "cell_type": "markdown",
      "metadata": {
        "id": "KcAZ2RHCg_Ze"
      },
      "source": [
        "# Using BigQuery with Pandas API\n",
        "\n",
        "\n",
        "1.   Use the [Cloud Resource Manager](https://console.cloud.google.com/cloud-resource-manager) to Create a Cloud Platform project if you do not already have one. Make sure to [activate the service account](https://www.youtube.com/watch?v=gpAiUerUdEA)\n",
        "2.   [Enable billing](https://support.google.com/cloud/answer/6293499#enable-billing) for the project.\n",
        "3.   [Enable BigQuery](https://console.cloud.google.com/flows/enableapi?apiid=bigquery) APIs for the project.\n"
      ]
    },
    {
      "cell_type": "code",
      "metadata": {
        "id": "XHUPlLRgNBgS"
      },
      "source": [
        "from google.colab import auth\n",
        "auth.authenticate_user()"
      ],
      "execution_count": null,
      "outputs": []
    },
    {
      "cell_type": "code",
      "metadata": {
        "id": "nFF9Wz1CAyVI"
      },
      "source": [
        "import pandas as pd\n",
        "\n",
        "# https://cloud.google.com/resource-manager/docs/creating-managing-projects\n",
        "project_id = 'crypto-291811'\n",
        "sample_count = 2000\n",
        "\n",
        "row_count = pd.io.gbq.read_gbq('''\n",
        "  SELECT \n",
        "    COUNT(*) as total\n",
        "  FROM `bigquery-public-data.crypto_bitcoin.transactions`\n",
        "''', project_id=project_id).total[0]\n",
        "\n",
        "df = pd.io.gbq.read_gbq(f'''\n",
        "  SELECT\n",
        "    *\n",
        "  FROM\n",
        "    `bigquery-public-data.crypto_bitcoin.transactions`\n",
        "  WHERE RAND() < {sample_count}/{row_count}\n",
        "''', project_id=project_id)\n",
        "\n",
        "print(f'Full dataset has {row_count} rows')"
      ],
      "execution_count": null,
      "outputs": []
    },
    {
      "cell_type": "code",
      "metadata": {
        "id": "Q5UVxPB_IK7Y"
      },
      "source": [
        "df.info()"
      ],
      "execution_count": null,
      "outputs": []
    },
    {
      "cell_type": "code",
      "metadata": {
        "id": "nsWup88uT95R"
      },
      "source": [
        "%load_ext google.colab.data_table"
      ],
      "execution_count": null,
      "outputs": []
    },
    {
      "cell_type": "code",
      "metadata": {
        "id": "uvBm895iU7-a"
      },
      "source": [
        "df.head()"
      ],
      "execution_count": null,
      "outputs": []
    },
    {
      "cell_type": "code",
      "metadata": {
        "id": "TDCIZh7pLqTp"
      },
      "source": [
        "%unload_ext google.colab.data_table"
      ],
      "execution_count": null,
      "outputs": []
    },
    {
      "cell_type": "code",
      "metadata": {
        "id": "pUQn--BtP-oA"
      },
      "source": [
        "df.head()"
      ],
      "execution_count": null,
      "outputs": []
    },
    {
      "cell_type": "markdown",
      "metadata": {
        "id": "HeZN5bOEl2iI"
      },
      "source": [
        "# Using BigQuery with Cloud API\n",
        "\n",
        "\n",
        "1.   Use the [Cloud Resource Manager](https://console.cloud.google.com/cloud-resource-manager) to Create a Cloud Platform project if you do not already have one.\n",
        "2.   [Enable billing](https://support.google.com/cloud/answer/6293499#enable-billing) for the project.\n",
        "3.   [Enable BigQuery](https://console.cloud.google.com/flows/enableapi?apiid=bigquery) APIs for the project.\n",
        "\n",
        "[BigQuery Documentation](https://googlecloudplatform.github.io/google-cloud-python/latest/bigquery/usage.html)"
      ]
    },
    {
      "cell_type": "markdown",
      "metadata": {
        "id": "rn_R__1dTl7M"
      },
      "source": [
        "# Pandas: display dataframes as interactive tables\n",
        "\n",
        "The `google.colab.data_table` package provides an interactive display of tabular data within colab. It can be enabled by loading the extension:"
      ]
    },
    {
      "cell_type": "code",
      "metadata": {
        "id": "jl97S3vfNHdz"
      },
      "source": [
        "from google.colab import auth\n",
        "auth.authenticate_user()"
      ],
      "execution_count": null,
      "outputs": []
    },
    {
      "cell_type": "code",
      "metadata": {
        "id": "c_ch12UEi8Jz"
      },
      "source": [
        "from google.cloud import bigquery\n",
        "\n",
        "# https://cloud.google.com/resource-manager/docs/creating-managing-projects\n",
        "project_id = 'crypto-291811'\n",
        "client = bigquery.Client(project=project_id)\n",
        "\n",
        "for dataset in client.list_datasets():\n",
        "  print(dataset.dataset_id)"
      ],
      "execution_count": null,
      "outputs": []
    },
    {
      "cell_type": "markdown",
      "metadata": {
        "id": "heJoxz-ZQLkD"
      },
      "source": [
        "# Use BigQuery through pandas-gbq\n",
        "\n",
        "The `pandas-gbq` library is a community led project by the pandas community. It covers basic functionality, such as writing a DataFrame to BigQuery and running a query, but as a third-party library it may not handle all BigQuery features or use cases.\n",
        "\n",
        "[Pandas GBQ Documentation](https://pandas.pydata.org/pandas-docs/stable/generated/pandas.read_gbq.html)"
      ]
    },
    {
      "cell_type": "code",
      "metadata": {
        "id": "Dscyeh3bP_gj",
        "outputId": "658c4938-4cd9-4768-8563-4caf4fa2c25c",
        "colab": {
          "base_uri": "https://localhost:8080/",
          "height": 309
        }
      },
      "source": [
        "import pandas as pd\n",
        "\n",
        "df = pd.io.gbq.read_gbq('''\n",
        "  SELECT *\n",
        "  FROM `bigquery-public-data.crypto_bitcoin.blocks`\n",
        "  LIMIT 1000\n",
        "''', project_id=project_id, dialect='standard')\n",
        "\n",
        "df_blocks.head()"
      ],
      "execution_count": 26,
      "outputs": [
        {
          "output_type": "execute_result",
          "data": {
            "text/html": [
              "<div>\n",
              "<style scoped>\n",
              "    .dataframe tbody tr th:only-of-type {\n",
              "        vertical-align: middle;\n",
              "    }\n",
              "\n",
              "    .dataframe tbody tr th {\n",
              "        vertical-align: top;\n",
              "    }\n",
              "\n",
              "    .dataframe thead th {\n",
              "        text-align: right;\n",
              "    }\n",
              "</style>\n",
              "<table border=\"1\" class=\"dataframe\">\n",
              "  <thead>\n",
              "    <tr style=\"text-align: right;\">\n",
              "      <th></th>\n",
              "      <th>hash</th>\n",
              "      <th>size</th>\n",
              "      <th>stripped_size</th>\n",
              "      <th>weight</th>\n",
              "      <th>number</th>\n",
              "      <th>version</th>\n",
              "      <th>merkle_root</th>\n",
              "      <th>timestamp</th>\n",
              "      <th>timestamp_month</th>\n",
              "      <th>nonce</th>\n",
              "      <th>bits</th>\n",
              "      <th>coinbase_param</th>\n",
              "      <th>transaction_count</th>\n",
              "    </tr>\n",
              "  </thead>\n",
              "  <tbody>\n",
              "    <tr>\n",
              "      <th>0</th>\n",
              "      <td>0000000000000000056d139dd0bafe43b8730467a3e99c...</td>\n",
              "      <td>749132</td>\n",
              "      <td>749132</td>\n",
              "      <td>2996528</td>\n",
              "      <td>367712</td>\n",
              "      <td>3</td>\n",
              "      <td>67ccba055563179405f30dc302eeee69711bbe547a1a7f...</td>\n",
              "      <td>2015-07-31 04:18:57+00:00</td>\n",
              "      <td>2015-07-01</td>\n",
              "      <td>d1a0c99</td>\n",
              "      <td>18150815</td>\n",
              "      <td>03609c05041ff7ba5508768e0141628700002e522cfabe...</td>\n",
              "      <td>1115</td>\n",
              "    </tr>\n",
              "    <tr>\n",
              "      <th>1</th>\n",
              "      <td>00000000000000000362c20e64827c382eabd038973ea1...</td>\n",
              "      <td>33250</td>\n",
              "      <td>33250</td>\n",
              "      <td>133000</td>\n",
              "      <td>367777</td>\n",
              "      <td>3</td>\n",
              "      <td>c0ee0c3347b0fe92e78b2bfa6c3b0018212e5f6f600d7f...</td>\n",
              "      <td>2015-07-31 13:17:08+00:00</td>\n",
              "      <td>2015-07-01</td>\n",
              "      <td>5a3e0db7</td>\n",
              "      <td>18150815</td>\n",
              "      <td>03a19c050e00456c69676975730055bb755104fabe6d6d...</td>\n",
              "      <td>49</td>\n",
              "    </tr>\n",
              "    <tr>\n",
              "      <th>2</th>\n",
              "      <td>00000000000000000dbb20fe9bf7503f606aabfe0eca58...</td>\n",
              "      <td>369303</td>\n",
              "      <td>369303</td>\n",
              "      <td>1477212</td>\n",
              "      <td>367185</td>\n",
              "      <td>3</td>\n",
              "      <td>9bb1bc8fd802e6e831961e3b16575195a33d86a24a5777...</td>\n",
              "      <td>2015-07-27 09:57:11+00:00</td>\n",
              "      <td>2015-07-01</td>\n",
              "      <td>b80a5e8d</td>\n",
              "      <td>18150815</td>\n",
              "      <td>03519a05062f503253482f047500b6550841bb8a9c5452...</td>\n",
              "      <td>649</td>\n",
              "    </tr>\n",
              "    <tr>\n",
              "      <th>3</th>\n",
              "      <td>00000000000000000f7b234fc525a398726571f3939b8f...</td>\n",
              "      <td>949063</td>\n",
              "      <td>949063</td>\n",
              "      <td>3796252</td>\n",
              "      <td>367713</td>\n",
              "      <td>3</td>\n",
              "      <td>f43670b86c18642da33892c4ff9d55745bc0fa7e625689...</td>\n",
              "      <td>2015-07-31 04:35:18+00:00</td>\n",
              "      <td>2015-07-01</td>\n",
              "      <td>209959d1</td>\n",
              "      <td>18150815</td>\n",
              "      <td>03619c0507062f503253482f0407fbba55049276601908...</td>\n",
              "      <td>1131</td>\n",
              "    </tr>\n",
              "    <tr>\n",
              "      <th>4</th>\n",
              "      <td>000000000000000014aa9605722d5730803d7e64d3740b...</td>\n",
              "      <td>868028</td>\n",
              "      <td>868028</td>\n",
              "      <td>3472112</td>\n",
              "      <td>367749</td>\n",
              "      <td>3</td>\n",
              "      <td>71e98b03bf2972e05bb7834c4b3b42e22669d81dc0ab03...</td>\n",
              "      <td>2015-07-31 09:12:28+00:00</td>\n",
              "      <td>2015-07-01</td>\n",
              "      <td>caa2218a</td>\n",
              "      <td>18150815</td>\n",
              "      <td>03859c0507062f503253482f04fd3bbb55048be7491c08...</td>\n",
              "      <td>1196</td>\n",
              "    </tr>\n",
              "  </tbody>\n",
              "</table>\n",
              "</div>"
            ],
            "text/plain": [
              "                                                hash  ...  transaction_count\n",
              "0  0000000000000000056d139dd0bafe43b8730467a3e99c...  ...               1115\n",
              "1  00000000000000000362c20e64827c382eabd038973ea1...  ...                 49\n",
              "2  00000000000000000dbb20fe9bf7503f606aabfe0eca58...  ...                649\n",
              "3  00000000000000000f7b234fc525a398726571f3939b8f...  ...               1131\n",
              "4  000000000000000014aa9605722d5730803d7e64d3740b...  ...               1196\n",
              "\n",
              "[5 rows x 13 columns]"
            ]
          },
          "metadata": {
            "tags": []
          },
          "execution_count": 26
        }
      ]
    },
    {
      "cell_type": "code",
      "metadata": {
        "id": "Tdqy-QBkTnQk"
      },
      "source": [
        "df_blocks.to_csv('blocks.csv')"
      ],
      "execution_count": 27,
      "outputs": []
    },
    {
      "cell_type": "code",
      "metadata": {
        "id": "hHFJuAXOTzPB",
        "outputId": "46d9e3f0-07c2-4db7-a83d-e9d74678d027",
        "colab": {
          "base_uri": "https://localhost:8080/",
          "height": 309
        }
      },
      "source": [
        "import pandas as pd\n",
        "\n",
        "df_inputs = pd.io.gbq.read_gbq('''\n",
        "  SELECT *\n",
        "  FROM `bigquery-public-data.crypto_bitcoin.inputs`\n",
        "  LIMIT 1000\n",
        "''', project_id=project_id, dialect='standard')\n",
        "\n",
        "df_inputs.head()"
      ],
      "execution_count": 29,
      "outputs": [
        {
          "output_type": "execute_result",
          "data": {
            "text/html": [
              "<div>\n",
              "<style scoped>\n",
              "    .dataframe tbody tr th:only-of-type {\n",
              "        vertical-align: middle;\n",
              "    }\n",
              "\n",
              "    .dataframe tbody tr th {\n",
              "        vertical-align: top;\n",
              "    }\n",
              "\n",
              "    .dataframe thead th {\n",
              "        text-align: right;\n",
              "    }\n",
              "</style>\n",
              "<table border=\"1\" class=\"dataframe\">\n",
              "  <thead>\n",
              "    <tr style=\"text-align: right;\">\n",
              "      <th></th>\n",
              "      <th>transaction_hash</th>\n",
              "      <th>block_hash</th>\n",
              "      <th>block_number</th>\n",
              "      <th>block_timestamp</th>\n",
              "      <th>index</th>\n",
              "      <th>spent_transaction_hash</th>\n",
              "      <th>spent_output_index</th>\n",
              "      <th>script_asm</th>\n",
              "      <th>script_hex</th>\n",
              "      <th>sequence</th>\n",
              "      <th>required_signatures</th>\n",
              "      <th>type</th>\n",
              "      <th>addresses</th>\n",
              "      <th>value</th>\n",
              "    </tr>\n",
              "  </thead>\n",
              "  <tbody>\n",
              "    <tr>\n",
              "      <th>0</th>\n",
              "      <td>263e12f8c93ec8a15c38265e8fb3eae8dab413aa8c0906...</td>\n",
              "      <td>000000000000000002a6058ce6d35cc91fbd2525297a40...</td>\n",
              "      <td>413880</td>\n",
              "      <td>2016-05-29 06:25:00+00:00</td>\n",
              "      <td>0</td>\n",
              "      <td>8bb66b487bcd2978008c4e94c42148bfac70b31bdb5899...</td>\n",
              "      <td>42</td>\n",
              "      <td>0 30440220678a56bf54c200e7abab0bbb8b65dd8699c8...</td>\n",
              "      <td>004730440220678a56bf54c200e7abab0bbb8b65dd8699...</td>\n",
              "      <td>0</td>\n",
              "      <td>1</td>\n",
              "      <td>scripthash</td>\n",
              "      <td>[36xVypH6uVPzzi8x97f4ZDfF9UZjfSBfdJ]</td>\n",
              "      <td>760140</td>\n",
              "    </tr>\n",
              "    <tr>\n",
              "      <th>1</th>\n",
              "      <td>072d454d5184123547f1439b568dddff0cb31e169d9a3f...</td>\n",
              "      <td>000000000000000001fca97167619eea767cd1da92b41d...</td>\n",
              "      <td>412478</td>\n",
              "      <td>2016-05-19 21:40:47+00:00</td>\n",
              "      <td>0</td>\n",
              "      <td>6c580d90267cacf8f99fa2e753bc96034bb1f24c64ebdf...</td>\n",
              "      <td>0</td>\n",
              "      <td>0 304402205d1ff1c8b5bd82cbabcb003a9f2baa5e96a0...</td>\n",
              "      <td>0047304402205d1ff1c8b5bd82cbabcb003a9f2baa5e96...</td>\n",
              "      <td>0</td>\n",
              "      <td>1</td>\n",
              "      <td>scripthash</td>\n",
              "      <td>[3FG3v6M2FSRDZNzBkzJXu16me3qHYZhXRV]</td>\n",
              "      <td>18911274</td>\n",
              "    </tr>\n",
              "    <tr>\n",
              "      <th>2</th>\n",
              "      <td>d79093f3e0faa485f3463f341f19152400509c64012783...</td>\n",
              "      <td>0000000000000000055484f25053e2c6b7df254dfb980f...</td>\n",
              "      <td>413383</td>\n",
              "      <td>2016-05-25 16:37:28+00:00</td>\n",
              "      <td>0</td>\n",
              "      <td>9c276064eb11236da81a703d6d76703d3675012ba61d03...</td>\n",
              "      <td>0</td>\n",
              "      <td>0 304402205f58cffa93b4c4e001a66e890c1aab61cfef...</td>\n",
              "      <td>0047304402205f58cffa93b4c4e001a66e890c1aab61cf...</td>\n",
              "      <td>0</td>\n",
              "      <td>1</td>\n",
              "      <td>scripthash</td>\n",
              "      <td>[39oxXSj24bzyefk4WQrt4xewESNZR3ZDWt]</td>\n",
              "      <td>28609926</td>\n",
              "    </tr>\n",
              "    <tr>\n",
              "      <th>3</th>\n",
              "      <td>07767feb503940fb8b187d5ba4086023987ec821970532...</td>\n",
              "      <td>0000000000000000021868c70369c545c936a534f7fcd1...</td>\n",
              "      <td>413752</td>\n",
              "      <td>2016-05-28 09:00:59+00:00</td>\n",
              "      <td>0</td>\n",
              "      <td>0e673b8d61864325ee5d758f137c53117ece54de435146...</td>\n",
              "      <td>0</td>\n",
              "      <td>0 304402201e17af07ebe0debbee7b0ddbe0c0aa1c4ff9...</td>\n",
              "      <td>0047304402201e17af07ebe0debbee7b0ddbe0c0aa1c4f...</td>\n",
              "      <td>0</td>\n",
              "      <td>1</td>\n",
              "      <td>scripthash</td>\n",
              "      <td>[38HkpN11JFtrVr18XL4NwPdHE5evHAPaqX]</td>\n",
              "      <td>24750000</td>\n",
              "    </tr>\n",
              "    <tr>\n",
              "      <th>4</th>\n",
              "      <td>9f947de4cf13ddf669df10096704c73a1277a8c40650e2...</td>\n",
              "      <td>00000000000000000289807292d300c1cae6e889943635...</td>\n",
              "      <td>411735</td>\n",
              "      <td>2016-05-14 14:42:27+00:00</td>\n",
              "      <td>0</td>\n",
              "      <td>5f253496db58cd53560bedba4a8ba473c33ba1c36993aa...</td>\n",
              "      <td>1</td>\n",
              "      <td>0 304402204c289f20b97bb7077f9165bee9d38daf1daa...</td>\n",
              "      <td>0047304402204c289f20b97bb7077f9165bee9d38daf1d...</td>\n",
              "      <td>0</td>\n",
              "      <td>1</td>\n",
              "      <td>scripthash</td>\n",
              "      <td>[3H4R5FjBk6Me4LWi9hyLxz38bM33d5APZw]</td>\n",
              "      <td>1465595</td>\n",
              "    </tr>\n",
              "  </tbody>\n",
              "</table>\n",
              "</div>"
            ],
            "text/plain": [
              "                                    transaction_hash  ...     value\n",
              "0  263e12f8c93ec8a15c38265e8fb3eae8dab413aa8c0906...  ...    760140\n",
              "1  072d454d5184123547f1439b568dddff0cb31e169d9a3f...  ...  18911274\n",
              "2  d79093f3e0faa485f3463f341f19152400509c64012783...  ...  28609926\n",
              "3  07767feb503940fb8b187d5ba4086023987ec821970532...  ...  24750000\n",
              "4  9f947de4cf13ddf669df10096704c73a1277a8c40650e2...  ...   1465595\n",
              "\n",
              "[5 rows x 14 columns]"
            ]
          },
          "metadata": {
            "tags": []
          },
          "execution_count": 29
        }
      ]
    },
    {
      "cell_type": "code",
      "metadata": {
        "id": "a9v7UWrlT4XI"
      },
      "source": [
        "df_inputs.to_csv('inputs.csv')"
      ],
      "execution_count": 30,
      "outputs": []
    },
    {
      "cell_type": "code",
      "metadata": {
        "id": "-Fcm55YmUABR",
        "outputId": "8c9c7e89-cec9-4079-94b6-b3e461a6c59c",
        "colab": {
          "base_uri": "https://localhost:8080/",
          "height": 309
        }
      },
      "source": [
        "import pandas as pd\n",
        "\n",
        "df_outputs = pd.io.gbq.read_gbq('''\n",
        "  SELECT *\n",
        "  FROM `bigquery-public-data.crypto_bitcoin.outputs`\n",
        "  LIMIT 1000\n",
        "''', project_id=project_id, dialect='standard')\n",
        "\n",
        "df_outputs.head()"
      ],
      "execution_count": 31,
      "outputs": [
        {
          "output_type": "execute_result",
          "data": {
            "text/html": [
              "<div>\n",
              "<style scoped>\n",
              "    .dataframe tbody tr th:only-of-type {\n",
              "        vertical-align: middle;\n",
              "    }\n",
              "\n",
              "    .dataframe tbody tr th {\n",
              "        vertical-align: top;\n",
              "    }\n",
              "\n",
              "    .dataframe thead th {\n",
              "        text-align: right;\n",
              "    }\n",
              "</style>\n",
              "<table border=\"1\" class=\"dataframe\">\n",
              "  <thead>\n",
              "    <tr style=\"text-align: right;\">\n",
              "      <th></th>\n",
              "      <th>transaction_hash</th>\n",
              "      <th>block_hash</th>\n",
              "      <th>block_number</th>\n",
              "      <th>block_timestamp</th>\n",
              "      <th>index</th>\n",
              "      <th>script_asm</th>\n",
              "      <th>script_hex</th>\n",
              "      <th>required_signatures</th>\n",
              "      <th>type</th>\n",
              "      <th>addresses</th>\n",
              "      <th>value</th>\n",
              "    </tr>\n",
              "  </thead>\n",
              "  <tbody>\n",
              "    <tr>\n",
              "      <th>0</th>\n",
              "      <td>5061dc4dfce85eef30e072e0600eba8773cd5dc0098ad6...</td>\n",
              "      <td>00000000000000bc5b102e10dc1998651b909a8cfa97ef...</td>\n",
              "      <td>238663</td>\n",
              "      <td>2013-05-30 09:58:37+00:00</td>\n",
              "      <td>0</td>\n",
              "      <td>OP_DUP OP_HASH160 fce0fc2611d92c8779d41534039d...</td>\n",
              "      <td>76a914fce0fc2611d92c8779d41534039d017d77ad14f9...</td>\n",
              "      <td>1</td>\n",
              "      <td>pubkeyhash</td>\n",
              "      <td>[1Q46oa4fATxKzF1bBFtAuzDGxHsTLF9sWn]</td>\n",
              "      <td>766400</td>\n",
              "    </tr>\n",
              "    <tr>\n",
              "      <th>1</th>\n",
              "      <td>5061dc4dfce85eef30e072e0600eba8773cd5dc0098ad6...</td>\n",
              "      <td>00000000000000bc5b102e10dc1998651b909a8cfa97ef...</td>\n",
              "      <td>238663</td>\n",
              "      <td>2013-05-30 09:58:37+00:00</td>\n",
              "      <td>1</td>\n",
              "      <td>OP_DUP OP_HASH160 74702f84981471a7bd982fc05b22...</td>\n",
              "      <td>76a91474702f84981471a7bd982fc05b22e9f77b9cd5f1...</td>\n",
              "      <td>1</td>\n",
              "      <td>pubkeyhash</td>\n",
              "      <td>[1Bcfn3eZUMH2fxH3g4vftX599vU83fUjzA]</td>\n",
              "      <td>5218508</td>\n",
              "    </tr>\n",
              "    <tr>\n",
              "      <th>2</th>\n",
              "      <td>51859caafc815cb1da1e272ce7e456379d0d78f9a0608e...</td>\n",
              "      <td>00000000000000354df20f957afe74455f022fb626112b...</td>\n",
              "      <td>236192</td>\n",
              "      <td>2013-05-14 17:53:10+00:00</td>\n",
              "      <td>0</td>\n",
              "      <td>OP_DUP OP_HASH160 8803106ec35157373d3c39d8681b...</td>\n",
              "      <td>76a9148803106ec35157373d3c39d8681beb352038b97d...</td>\n",
              "      <td>1</td>\n",
              "      <td>pubkeyhash</td>\n",
              "      <td>[1DQAZza6qMv1gw2RDm2pFoXKey6TVKCgXp]</td>\n",
              "      <td>5430</td>\n",
              "    </tr>\n",
              "    <tr>\n",
              "      <th>3</th>\n",
              "      <td>51859caafc815cb1da1e272ce7e456379d0d78f9a0608e...</td>\n",
              "      <td>00000000000000354df20f957afe74455f022fb626112b...</td>\n",
              "      <td>236192</td>\n",
              "      <td>2013-05-14 17:53:10+00:00</td>\n",
              "      <td>1</td>\n",
              "      <td>OP_DUP OP_HASH160 6999a9826e7f5b90e4f4a3ac5fb6...</td>\n",
              "      <td>76a9146999a9826e7f5b90e4f4a3ac5fb6cdfa32d39422...</td>\n",
              "      <td>1</td>\n",
              "      <td>pubkeyhash</td>\n",
              "      <td>[1AdN2my8NxvGcisPGYeQTAKdWJuUzNkQxG]</td>\n",
              "      <td>894570</td>\n",
              "    </tr>\n",
              "    <tr>\n",
              "      <th>4</th>\n",
              "      <td>435e31b6639cc3f7a07e8641f006078e5f5d8fad4d0704...</td>\n",
              "      <td>000000000000015d30ad9beb90f0fe2880780276881989...</td>\n",
              "      <td>237333</td>\n",
              "      <td>2013-05-22 09:34:11+00:00</td>\n",
              "      <td>0</td>\n",
              "      <td>OP_DUP OP_HASH160 7aa1224f5550451ec46ac8c58c85...</td>\n",
              "      <td>76a9147aa1224f5550451ec46ac8c58c8581f5d401dfc9...</td>\n",
              "      <td>1</td>\n",
              "      <td>pubkeyhash</td>\n",
              "      <td>[1CBQUC7EF2a64uc8sYcEf9MLBreLUP4Kqp]</td>\n",
              "      <td>19988232</td>\n",
              "    </tr>\n",
              "  </tbody>\n",
              "</table>\n",
              "</div>"
            ],
            "text/plain": [
              "                                    transaction_hash  ...     value\n",
              "0  5061dc4dfce85eef30e072e0600eba8773cd5dc0098ad6...  ...    766400\n",
              "1  5061dc4dfce85eef30e072e0600eba8773cd5dc0098ad6...  ...   5218508\n",
              "2  51859caafc815cb1da1e272ce7e456379d0d78f9a0608e...  ...      5430\n",
              "3  51859caafc815cb1da1e272ce7e456379d0d78f9a0608e...  ...    894570\n",
              "4  435e31b6639cc3f7a07e8641f006078e5f5d8fad4d0704...  ...  19988232\n",
              "\n",
              "[5 rows x 11 columns]"
            ]
          },
          "metadata": {
            "tags": []
          },
          "execution_count": 31
        }
      ]
    },
    {
      "cell_type": "code",
      "metadata": {
        "id": "UjG76iU0UEgV"
      },
      "source": [
        "df_outputs.to_csv('outputs.csv')"
      ],
      "execution_count": 33,
      "outputs": []
    },
    {
      "cell_type": "code",
      "metadata": {
        "id": "bNM3IgmBUIm8",
        "outputId": "8c2a2a94-35b8-4480-caed-795722ec7b86",
        "colab": {
          "base_uri": "https://localhost:8080/",
          "height": 482
        }
      },
      "source": [
        "import pandas as pd\n",
        "\n",
        "df_transactions = pd.io.gbq.read_gbq('''\n",
        "  SELECT *\n",
        "  FROM `bigquery-public-data.crypto_bitcoin.transactions`\n",
        "  LIMIT 1000\n",
        "''', project_id=project_id, dialect='standard')\n",
        "\n",
        "df_transactions.head()"
      ],
      "execution_count": 34,
      "outputs": [
        {
          "output_type": "execute_result",
          "data": {
            "text/html": [
              "<div>\n",
              "<style scoped>\n",
              "    .dataframe tbody tr th:only-of-type {\n",
              "        vertical-align: middle;\n",
              "    }\n",
              "\n",
              "    .dataframe tbody tr th {\n",
              "        vertical-align: top;\n",
              "    }\n",
              "\n",
              "    .dataframe thead th {\n",
              "        text-align: right;\n",
              "    }\n",
              "</style>\n",
              "<table border=\"1\" class=\"dataframe\">\n",
              "  <thead>\n",
              "    <tr style=\"text-align: right;\">\n",
              "      <th></th>\n",
              "      <th>hash</th>\n",
              "      <th>size</th>\n",
              "      <th>virtual_size</th>\n",
              "      <th>version</th>\n",
              "      <th>lock_time</th>\n",
              "      <th>block_hash</th>\n",
              "      <th>block_number</th>\n",
              "      <th>block_timestamp</th>\n",
              "      <th>block_timestamp_month</th>\n",
              "      <th>input_count</th>\n",
              "      <th>output_count</th>\n",
              "      <th>input_value</th>\n",
              "      <th>output_value</th>\n",
              "      <th>is_coinbase</th>\n",
              "      <th>fee</th>\n",
              "      <th>inputs</th>\n",
              "      <th>outputs</th>\n",
              "    </tr>\n",
              "  </thead>\n",
              "  <tbody>\n",
              "    <tr>\n",
              "      <th>0</th>\n",
              "      <td>682f2309d045cee70e2a02fb7e52f88984095262523c3f...</td>\n",
              "      <td>666</td>\n",
              "      <td>666</td>\n",
              "      <td>1</td>\n",
              "      <td>0</td>\n",
              "      <td>00000000000000000a537dc6100a7814e2b316e2a75ba8...</td>\n",
              "      <td>327949</td>\n",
              "      <td>2014-11-01 02:11:55+00:00</td>\n",
              "      <td>2014-11-01</td>\n",
              "      <td>4</td>\n",
              "      <td>2</td>\n",
              "      <td>26005000</td>\n",
              "      <td>26004000</td>\n",
              "      <td>False</td>\n",
              "      <td>1000</td>\n",
              "      <td>[{'index': 0, 'spent_transaction_hash': 'a8805...</td>\n",
              "      <td>[{'index': 0, 'script_asm': 'OP_DUP OP_HASH160...</td>\n",
              "    </tr>\n",
              "    <tr>\n",
              "      <th>1</th>\n",
              "      <td>ba9893f17953de2b1d7daa39f1ec32986fb2c4523659d3...</td>\n",
              "      <td>2427</td>\n",
              "      <td>2427</td>\n",
              "      <td>1</td>\n",
              "      <td>0</td>\n",
              "      <td>00000000000000000bcb5aa7a4a16b8ac745d2b322638b...</td>\n",
              "      <td>328825</td>\n",
              "      <td>2014-11-06 15:17:05+00:00</td>\n",
              "      <td>2014-11-01</td>\n",
              "      <td>15</td>\n",
              "      <td>6</td>\n",
              "      <td>1283230000</td>\n",
              "      <td>1283170000</td>\n",
              "      <td>False</td>\n",
              "      <td>60000</td>\n",
              "      <td>[{'index': 0, 'spent_transaction_hash': '553b3...</td>\n",
              "      <td>[{'index': 0, 'script_asm': 'OP_DUP OP_HASH160...</td>\n",
              "    </tr>\n",
              "    <tr>\n",
              "      <th>2</th>\n",
              "      <td>68f7c7372c08094ea40acc0c1f53a3b883f29635a3483d...</td>\n",
              "      <td>376</td>\n",
              "      <td>376</td>\n",
              "      <td>1</td>\n",
              "      <td>0</td>\n",
              "      <td>00000000000000001d4faf130ca4c12373a63362f932f8...</td>\n",
              "      <td>328025</td>\n",
              "      <td>2014-11-01 14:04:31+00:00</td>\n",
              "      <td>2014-11-01</td>\n",
              "      <td>2</td>\n",
              "      <td>2</td>\n",
              "      <td>5890000</td>\n",
              "      <td>5880000</td>\n",
              "      <td>False</td>\n",
              "      <td>10000</td>\n",
              "      <td>[{'index': 0, 'spent_transaction_hash': '383fd...</td>\n",
              "      <td>[{'index': 0, 'script_asm': 'OP_DUP OP_HASH160...</td>\n",
              "    </tr>\n",
              "    <tr>\n",
              "      <th>3</th>\n",
              "      <td>e00a47abf8a89506d05597c2a1ea1802cbe7a703f95411...</td>\n",
              "      <td>619</td>\n",
              "      <td>619</td>\n",
              "      <td>1</td>\n",
              "      <td>0</td>\n",
              "      <td>000000000000000006d4d5739882f877a789ced902b037...</td>\n",
              "      <td>330052</td>\n",
              "      <td>2014-11-15 00:21:05+00:00</td>\n",
              "      <td>2014-11-01</td>\n",
              "      <td>3</td>\n",
              "      <td>2</td>\n",
              "      <td>4013361</td>\n",
              "      <td>4003361</td>\n",
              "      <td>False</td>\n",
              "      <td>10000</td>\n",
              "      <td>[{'index': 0, 'spent_transaction_hash': '52511...</td>\n",
              "      <td>[{'index': 0, 'script_asm': 'OP_DUP OP_HASH160...</td>\n",
              "    </tr>\n",
              "    <tr>\n",
              "      <th>4</th>\n",
              "      <td>e0ac88235a46366161c10dec986f052c0af285e40603e6...</td>\n",
              "      <td>701</td>\n",
              "      <td>701</td>\n",
              "      <td>1</td>\n",
              "      <td>0</td>\n",
              "      <td>00000000000000000665217b9f397b297635a3b783a972...</td>\n",
              "      <td>330109</td>\n",
              "      <td>2014-11-15 09:44:22+00:00</td>\n",
              "      <td>2014-11-01</td>\n",
              "      <td>4</td>\n",
              "      <td>2</td>\n",
              "      <td>894592</td>\n",
              "      <td>884592</td>\n",
              "      <td>False</td>\n",
              "      <td>10000</td>\n",
              "      <td>[{'index': 0, 'spent_transaction_hash': '3ef0b...</td>\n",
              "      <td>[{'index': 0, 'script_asm': 'OP_DUP OP_HASH160...</td>\n",
              "    </tr>\n",
              "  </tbody>\n",
              "</table>\n",
              "</div>"
            ],
            "text/plain": [
              "                                                hash  ...                                            outputs\n",
              "0  682f2309d045cee70e2a02fb7e52f88984095262523c3f...  ...  [{'index': 0, 'script_asm': 'OP_DUP OP_HASH160...\n",
              "1  ba9893f17953de2b1d7daa39f1ec32986fb2c4523659d3...  ...  [{'index': 0, 'script_asm': 'OP_DUP OP_HASH160...\n",
              "2  68f7c7372c08094ea40acc0c1f53a3b883f29635a3483d...  ...  [{'index': 0, 'script_asm': 'OP_DUP OP_HASH160...\n",
              "3  e00a47abf8a89506d05597c2a1ea1802cbe7a703f95411...  ...  [{'index': 0, 'script_asm': 'OP_DUP OP_HASH160...\n",
              "4  e0ac88235a46366161c10dec986f052c0af285e40603e6...  ...  [{'index': 0, 'script_asm': 'OP_DUP OP_HASH160...\n",
              "\n",
              "[5 rows x 17 columns]"
            ]
          },
          "metadata": {
            "tags": []
          },
          "execution_count": 34
        }
      ]
    },
    {
      "cell_type": "code",
      "metadata": {
        "id": "9rC09FoAUUNS"
      },
      "source": [
        "df_transactions.to_csv('transactions.csv')"
      ],
      "execution_count": 35,
      "outputs": []
    },
    {
      "cell_type": "code",
      "metadata": {
        "id": "kX-1wzc7UdVV"
      },
      "source": [
        ""
      ],
      "execution_count": null,
      "outputs": []
    }
  ]
}