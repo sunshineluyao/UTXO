{
  "nbformat": 4,
  "nbformat_minor": 0,
  "metadata": {
    "colab": {
      "name": "UTXO_data_analysis Task 1_START_2020_11_17.ipynb",
      "provenance": [],
      "toc_visible": true,
      "include_colab_link": true
    },
    "kernelspec": {
      "name": "python3",
      "display_name": "Python 3"
    }
  },
  "cells": [
    {
      "cell_type": "markdown",
      "metadata": {
        "id": "view-in-github",
        "colab_type": "text"
      },
      "source": [
        "<a href=\"https://colab.research.google.com/github/sunshineluyao/UTXO/blob/main/UTXO_data_analysis_Task_1_START_2020_11_17.ipynb\" target=\"_parent\"><img src=\"https://colab.research.google.com/assets/colab-badge.svg\" alt=\"Open In Colab\"/></a>"
      ]
    },
    {
      "cell_type": "code",
      "metadata": {
        "id": "zqn9yQVGu2u4"
      },
      "source": [
        "import numpy as np\n",
        "import pandas as pd\n",
        "import datetime"
      ],
      "execution_count": 77,
      "outputs": []
    },
    {
      "cell_type": "code",
      "metadata": {
        "id": "2upfr_zZxtUw",
        "outputId": "65e9ab9c-8b5b-4e78-8339-25e1a4b5f408",
        "colab": {
          "base_uri": "https://localhost:8080/"
        }
      },
      "source": [
        "!pip install chart_studio"
      ],
      "execution_count": 78,
      "outputs": [
        {
          "output_type": "stream",
          "text": [
            "Requirement already satisfied: chart_studio in /usr/local/lib/python3.6/dist-packages (1.1.0)\n",
            "Requirement already satisfied: six in /usr/local/lib/python3.6/dist-packages (from chart_studio) (1.15.0)\n",
            "Requirement already satisfied: requests in /usr/local/lib/python3.6/dist-packages (from chart_studio) (2.23.0)\n",
            "Requirement already satisfied: retrying>=1.3.3 in /usr/local/lib/python3.6/dist-packages (from chart_studio) (1.3.3)\n",
            "Requirement already satisfied: plotly in /usr/local/lib/python3.6/dist-packages (from chart_studio) (4.4.1)\n",
            "Requirement already satisfied: urllib3!=1.25.0,!=1.25.1,<1.26,>=1.21.1 in /usr/local/lib/python3.6/dist-packages (from requests->chart_studio) (1.24.3)\n",
            "Requirement already satisfied: idna<3,>=2.5 in /usr/local/lib/python3.6/dist-packages (from requests->chart_studio) (2.10)\n",
            "Requirement already satisfied: certifi>=2017.4.17 in /usr/local/lib/python3.6/dist-packages (from requests->chart_studio) (2020.6.20)\n",
            "Requirement already satisfied: chardet<4,>=3.0.2 in /usr/local/lib/python3.6/dist-packages (from requests->chart_studio) (3.0.4)\n"
          ],
          "name": "stdout"
        }
      ]
    },
    {
      "cell_type": "markdown",
      "metadata": {
        "id": "VsvjiDmHvEDp"
      },
      "source": [
        "## Import Data from Google Drive and Data Wrangling"
      ]
    },
    {
      "cell_type": "code",
      "metadata": {
        "id": "-0pbOPfSvAPi",
        "outputId": "178c0f4d-ae38-44c9-8443-116ce0dcc707",
        "colab": {
          "base_uri": "https://localhost:8080/"
        }
      },
      "source": [
        "# Importing drive method from colab for accessing google drive\n",
        "from google.colab import drive\n",
        "\n",
        "# Mounting drive\n",
        "drive.mount('/content/drive')"
      ],
      "execution_count": 79,
      "outputs": [
        {
          "output_type": "stream",
          "text": [
            "Drive already mounted at /content/drive; to attempt to forcibly remount, call drive.mount(\"/content/drive\", force_remount=True).\n"
          ],
          "name": "stdout"
        }
      ]
    },
    {
      "cell_type": "code",
      "metadata": {
        "id": "Tdbbzug3vk9X",
        "outputId": "506033e0-c02d-4676-baf5-9d9757891e8d",
        "colab": {
          "base_uri": "https://localhost:8080/",
          "height": 204
        }
      },
      "source": [
        "import numpy as np\n",
        "import pandas as pd\n",
        "df_2010=pd.read_csv('/content/drive/My Drive/UTXO/joint_2010.csv',index_col='Unnamed: 0')\n",
        "df_2010.head()"
      ],
      "execution_count": 80,
      "outputs": [
        {
          "output_type": "execute_result",
          "data": {
            "text/html": [
              "<div>\n",
              "<style scoped>\n",
              "    .dataframe tbody tr th:only-of-type {\n",
              "        vertical-align: middle;\n",
              "    }\n",
              "\n",
              "    .dataframe tbody tr th {\n",
              "        vertical-align: top;\n",
              "    }\n",
              "\n",
              "    .dataframe thead th {\n",
              "        text-align: right;\n",
              "    }\n",
              "</style>\n",
              "<table border=\"1\" class=\"dataframe\">\n",
              "  <thead>\n",
              "    <tr style=\"text-align: right;\">\n",
              "      <th></th>\n",
              "      <th>value</th>\n",
              "      <th>block_date</th>\n",
              "      <th>spent_block_date</th>\n",
              "    </tr>\n",
              "  </thead>\n",
              "  <tbody>\n",
              "    <tr>\n",
              "      <th>0</th>\n",
              "      <td>5000000000</td>\n",
              "      <td>2009-01-03</td>\n",
              "      <td>NaN</td>\n",
              "    </tr>\n",
              "    <tr>\n",
              "      <th>21553</th>\n",
              "      <td>5000000000</td>\n",
              "      <td>2009-01-09</td>\n",
              "      <td>2009-01-12</td>\n",
              "    </tr>\n",
              "    <tr>\n",
              "      <th>1</th>\n",
              "      <td>5000000000</td>\n",
              "      <td>2009-01-09</td>\n",
              "      <td>NaN</td>\n",
              "    </tr>\n",
              "    <tr>\n",
              "      <th>2</th>\n",
              "      <td>5000000000</td>\n",
              "      <td>2009-01-09</td>\n",
              "      <td>NaN</td>\n",
              "    </tr>\n",
              "    <tr>\n",
              "      <th>3</th>\n",
              "      <td>5000000000</td>\n",
              "      <td>2009-01-09</td>\n",
              "      <td>NaN</td>\n",
              "    </tr>\n",
              "  </tbody>\n",
              "</table>\n",
              "</div>"
            ],
            "text/plain": [
              "            value  block_date spent_block_date\n",
              "0      5000000000  2009-01-03              NaN\n",
              "21553  5000000000  2009-01-09       2009-01-12\n",
              "1      5000000000  2009-01-09              NaN\n",
              "2      5000000000  2009-01-09              NaN\n",
              "3      5000000000  2009-01-09              NaN"
            ]
          },
          "metadata": {
            "tags": []
          },
          "execution_count": 80
        }
      ]
    },
    {
      "cell_type": "code",
      "metadata": {
        "id": "Fh8KTxPsEyVH"
      },
      "source": [
        "df=df_2010"
      ],
      "execution_count": 81,
      "outputs": []
    },
    {
      "cell_type": "code",
      "metadata": {
        "id": "rZ2LTDutvGD5",
        "outputId": "68b12108-3d04-4f35-9476-76ece59ab577",
        "colab": {
          "base_uri": "https://localhost:8080/",
          "height": 204
        }
      },
      "source": [
        "# Generate the UTXO value in bitcoin unit, which = $value/10^{8}$\n",
        "df['UTXO'] = df['value']*10**(-8)\n",
        "df = df.reset_index(drop=True)\n",
        "df = df.drop(['value'], axis = 1)\n",
        "df.head()"
      ],
      "execution_count": 82,
      "outputs": [
        {
          "output_type": "execute_result",
          "data": {
            "text/html": [
              "<div>\n",
              "<style scoped>\n",
              "    .dataframe tbody tr th:only-of-type {\n",
              "        vertical-align: middle;\n",
              "    }\n",
              "\n",
              "    .dataframe tbody tr th {\n",
              "        vertical-align: top;\n",
              "    }\n",
              "\n",
              "    .dataframe thead th {\n",
              "        text-align: right;\n",
              "    }\n",
              "</style>\n",
              "<table border=\"1\" class=\"dataframe\">\n",
              "  <thead>\n",
              "    <tr style=\"text-align: right;\">\n",
              "      <th></th>\n",
              "      <th>block_date</th>\n",
              "      <th>spent_block_date</th>\n",
              "      <th>UTXO</th>\n",
              "    </tr>\n",
              "  </thead>\n",
              "  <tbody>\n",
              "    <tr>\n",
              "      <th>0</th>\n",
              "      <td>2009-01-03</td>\n",
              "      <td>NaN</td>\n",
              "      <td>50.0</td>\n",
              "    </tr>\n",
              "    <tr>\n",
              "      <th>1</th>\n",
              "      <td>2009-01-09</td>\n",
              "      <td>2009-01-12</td>\n",
              "      <td>50.0</td>\n",
              "    </tr>\n",
              "    <tr>\n",
              "      <th>2</th>\n",
              "      <td>2009-01-09</td>\n",
              "      <td>NaN</td>\n",
              "      <td>50.0</td>\n",
              "    </tr>\n",
              "    <tr>\n",
              "      <th>3</th>\n",
              "      <td>2009-01-09</td>\n",
              "      <td>NaN</td>\n",
              "      <td>50.0</td>\n",
              "    </tr>\n",
              "    <tr>\n",
              "      <th>4</th>\n",
              "      <td>2009-01-09</td>\n",
              "      <td>NaN</td>\n",
              "      <td>50.0</td>\n",
              "    </tr>\n",
              "  </tbody>\n",
              "</table>\n",
              "</div>"
            ],
            "text/plain": [
              "   block_date spent_block_date  UTXO\n",
              "0  2009-01-03              NaN  50.0\n",
              "1  2009-01-09       2009-01-12  50.0\n",
              "2  2009-01-09              NaN  50.0\n",
              "3  2009-01-09              NaN  50.0\n",
              "4  2009-01-09              NaN  50.0"
            ]
          },
          "metadata": {
            "tags": []
          },
          "execution_count": 82
        }
      ]
    },
    {
      "cell_type": "code",
      "metadata": {
        "id": "CdlyR4oBwPXq",
        "outputId": "8c7bcf49-f4c4-4bf0-d27a-e039f70d93c2",
        "colab": {
          "base_uri": "https://localhost:8080/"
        }
      },
      "source": [
        "# Change the block_date and spent_block_date to datatime object\n",
        "df['block_date'] = pd.to_datetime(df['block_date'], format='%Y-%m-%d')\n",
        "df['spent_block_date'] = pd.to_datetime(df['spent_block_date'], format='%Y-%m-%d')\n",
        "df.info()"
      ],
      "execution_count": 83,
      "outputs": [
        {
          "output_type": "stream",
          "text": [
            "<class 'pandas.core.frame.DataFrame'>\n",
            "RangeIndex: 137525 entries, 0 to 137524\n",
            "Data columns (total 3 columns):\n",
            " #   Column            Non-Null Count   Dtype         \n",
            "---  ------            --------------   -----         \n",
            " 0   block_date        137525 non-null  datetime64[ns]\n",
            " 1   spent_block_date  115972 non-null  datetime64[ns]\n",
            " 2   UTXO              137525 non-null  float64       \n",
            "dtypes: datetime64[ns](2), float64(1)\n",
            "memory usage: 3.1 MB\n"
          ],
          "name": "stdout"
        }
      ]
    },
    {
      "cell_type": "markdown",
      "metadata": {
        "id": "G-7Ki2xFxIBQ"
      },
      "source": [
        "# Task 1: Calculate Daily UTXO\n"
      ]
    },
    {
      "cell_type": "markdown",
      "metadata": {
        "id": "PhjNViT3b2Am"
      },
      "source": [
        " For each date, calculate the total UTXO generated on that date"
      ]
    },
    {
      "cell_type": "code",
      "metadata": {
        "id": "yaAoaJVLVfJH",
        "outputId": "297b18ce-5c25-4c51-885f-4fde0df51f05",
        "colab": {
          "base_uri": "https://localhost:8080/",
          "height": 204
        }
      },
      "source": [
        "#sort the data by blockdate\n",
        "df = df.sort_values(by = 'block_date')\n",
        "df.reset_index(drop = True, inplace = True)\n",
        "df.tail()"
      ],
      "execution_count": 84,
      "outputs": [
        {
          "output_type": "execute_result",
          "data": {
            "text/html": [
              "<div>\n",
              "<style scoped>\n",
              "    .dataframe tbody tr th:only-of-type {\n",
              "        vertical-align: middle;\n",
              "    }\n",
              "\n",
              "    .dataframe tbody tr th {\n",
              "        vertical-align: top;\n",
              "    }\n",
              "\n",
              "    .dataframe thead th {\n",
              "        text-align: right;\n",
              "    }\n",
              "</style>\n",
              "<table border=\"1\" class=\"dataframe\">\n",
              "  <thead>\n",
              "    <tr style=\"text-align: right;\">\n",
              "      <th></th>\n",
              "      <th>block_date</th>\n",
              "      <th>spent_block_date</th>\n",
              "      <th>UTXO</th>\n",
              "    </tr>\n",
              "  </thead>\n",
              "  <tbody>\n",
              "    <tr>\n",
              "      <th>137520</th>\n",
              "      <td>2010-12-31</td>\n",
              "      <td>2011-01-05</td>\n",
              "      <td>50.04</td>\n",
              "    </tr>\n",
              "    <tr>\n",
              "      <th>137521</th>\n",
              "      <td>2010-12-31</td>\n",
              "      <td>2011-01-05</td>\n",
              "      <td>11.93</td>\n",
              "    </tr>\n",
              "    <tr>\n",
              "      <th>137522</th>\n",
              "      <td>2010-12-31</td>\n",
              "      <td>2011-01-05</td>\n",
              "      <td>0.04</td>\n",
              "    </tr>\n",
              "    <tr>\n",
              "      <th>137523</th>\n",
              "      <td>2010-12-31</td>\n",
              "      <td>2011-01-04</td>\n",
              "      <td>0.01</td>\n",
              "    </tr>\n",
              "    <tr>\n",
              "      <th>137524</th>\n",
              "      <td>2010-12-31</td>\n",
              "      <td>2019-10-16</td>\n",
              "      <td>0.05</td>\n",
              "    </tr>\n",
              "  </tbody>\n",
              "</table>\n",
              "</div>"
            ],
            "text/plain": [
              "       block_date spent_block_date   UTXO\n",
              "137520 2010-12-31       2011-01-05  50.04\n",
              "137521 2010-12-31       2011-01-05  11.93\n",
              "137522 2010-12-31       2011-01-05   0.04\n",
              "137523 2010-12-31       2011-01-04   0.01\n",
              "137524 2010-12-31       2019-10-16   0.05"
            ]
          },
          "metadata": {
            "tags": []
          },
          "execution_count": 84
        }
      ]
    },
    {
      "cell_type": "code",
      "metadata": {
        "id": "Ody5Hy8LdHXu",
        "outputId": "5b0b3acd-175e-4df7-9236-e5c58c399326",
        "colab": {
          "base_uri": "https://localhost:8080/",
          "height": 204
        }
      },
      "source": [
        "### use reset_index() to keep the grouping variable as a column\n",
        "df_newborn = df.groupby(df['block_date']).sum()['UTXO'].reset_index()\n",
        "df_newborn.rename(columns={\"UTXO\": \"UTXO_newborn\"}, inplace=True)\n",
        "df_newborn.tail()"
      ],
      "execution_count": 85,
      "outputs": [
        {
          "output_type": "execute_result",
          "data": {
            "text/html": [
              "<div>\n",
              "<style scoped>\n",
              "    .dataframe tbody tr th:only-of-type {\n",
              "        vertical-align: middle;\n",
              "    }\n",
              "\n",
              "    .dataframe tbody tr th {\n",
              "        vertical-align: top;\n",
              "    }\n",
              "\n",
              "    .dataframe thead th {\n",
              "        text-align: right;\n",
              "    }\n",
              "</style>\n",
              "<table border=\"1\" class=\"dataframe\">\n",
              "  <thead>\n",
              "    <tr style=\"text-align: right;\">\n",
              "      <th></th>\n",
              "      <th>block_date</th>\n",
              "      <th>UTXO_newborn</th>\n",
              "    </tr>\n",
              "  </thead>\n",
              "  <tbody>\n",
              "    <tr>\n",
              "      <th>718</th>\n",
              "      <td>2010-12-27</td>\n",
              "      <td>58656.806641</td>\n",
              "    </tr>\n",
              "    <tr>\n",
              "      <th>719</th>\n",
              "      <td>2010-12-28</td>\n",
              "      <td>30374.153958</td>\n",
              "    </tr>\n",
              "    <tr>\n",
              "      <th>720</th>\n",
              "      <td>2010-12-29</td>\n",
              "      <td>86575.966836</td>\n",
              "    </tr>\n",
              "    <tr>\n",
              "      <th>721</th>\n",
              "      <td>2010-12-30</td>\n",
              "      <td>38568.962386</td>\n",
              "    </tr>\n",
              "    <tr>\n",
              "      <th>722</th>\n",
              "      <td>2010-12-31</td>\n",
              "      <td>29212.393351</td>\n",
              "    </tr>\n",
              "  </tbody>\n",
              "</table>\n",
              "</div>"
            ],
            "text/plain": [
              "    block_date  UTXO_newborn\n",
              "718 2010-12-27  58656.806641\n",
              "719 2010-12-28  30374.153958\n",
              "720 2010-12-29  86575.966836\n",
              "721 2010-12-30  38568.962386\n",
              "722 2010-12-31  29212.393351"
            ]
          },
          "metadata": {
            "tags": []
          },
          "execution_count": 85
        }
      ]
    },
    {
      "cell_type": "markdown",
      "metadata": {
        "id": "hY06UELVeReg"
      },
      "source": [
        " For each date, calculate the total UTXO spent on that date"
      ]
    },
    {
      "cell_type": "code",
      "metadata": {
        "id": "4wL7UeX4eQkl",
        "outputId": "f4995b31-e647-46aa-fe01-5597ca56c203",
        "colab": {
          "base_uri": "https://localhost:8080/",
          "height": 204
        }
      },
      "source": [
        "#sort the data by spent_block_date\n",
        "df = df.sort_values(by = 'spent_block_date')\n",
        "df.reset_index(drop = True, inplace = True)\n",
        "df.head()"
      ],
      "execution_count": 86,
      "outputs": [
        {
          "output_type": "execute_result",
          "data": {
            "text/html": [
              "<div>\n",
              "<style scoped>\n",
              "    .dataframe tbody tr th:only-of-type {\n",
              "        vertical-align: middle;\n",
              "    }\n",
              "\n",
              "    .dataframe tbody tr th {\n",
              "        vertical-align: top;\n",
              "    }\n",
              "\n",
              "    .dataframe thead th {\n",
              "        text-align: right;\n",
              "    }\n",
              "</style>\n",
              "<table border=\"1\" class=\"dataframe\">\n",
              "  <thead>\n",
              "    <tr style=\"text-align: right;\">\n",
              "      <th></th>\n",
              "      <th>block_date</th>\n",
              "      <th>spent_block_date</th>\n",
              "      <th>UTXO</th>\n",
              "    </tr>\n",
              "  </thead>\n",
              "  <tbody>\n",
              "    <tr>\n",
              "      <th>0</th>\n",
              "      <td>2009-01-09</td>\n",
              "      <td>2009-01-12</td>\n",
              "      <td>50.0</td>\n",
              "    </tr>\n",
              "    <tr>\n",
              "      <th>1</th>\n",
              "      <td>2009-01-12</td>\n",
              "      <td>2009-01-12</td>\n",
              "      <td>29.0</td>\n",
              "    </tr>\n",
              "    <tr>\n",
              "      <th>2</th>\n",
              "      <td>2009-01-12</td>\n",
              "      <td>2009-01-12</td>\n",
              "      <td>1.0</td>\n",
              "    </tr>\n",
              "    <tr>\n",
              "      <th>3</th>\n",
              "      <td>2009-01-12</td>\n",
              "      <td>2009-01-12</td>\n",
              "      <td>40.0</td>\n",
              "    </tr>\n",
              "    <tr>\n",
              "      <th>4</th>\n",
              "      <td>2009-01-12</td>\n",
              "      <td>2009-01-12</td>\n",
              "      <td>28.0</td>\n",
              "    </tr>\n",
              "  </tbody>\n",
              "</table>\n",
              "</div>"
            ],
            "text/plain": [
              "  block_date spent_block_date  UTXO\n",
              "0 2009-01-09       2009-01-12  50.0\n",
              "1 2009-01-12       2009-01-12  29.0\n",
              "2 2009-01-12       2009-01-12   1.0\n",
              "3 2009-01-12       2009-01-12  40.0\n",
              "4 2009-01-12       2009-01-12  28.0"
            ]
          },
          "metadata": {
            "tags": []
          },
          "execution_count": 86
        }
      ]
    },
    {
      "cell_type": "code",
      "metadata": {
        "id": "LZURPE0lgC1T",
        "outputId": "56b08840-c4a3-48e7-a391-740859a74797",
        "colab": {
          "base_uri": "https://localhost:8080/",
          "height": 204
        }
      },
      "source": [
        "### use reset_index() to keep the grouping variable as a column\n",
        "df_dead = df.groupby(df['spent_block_date']).sum()['UTXO'].reset_index()\n",
        "df_dead.rename(columns={\"UTXO\": \"UTXO_dead\"}, inplace=True)\n",
        "df_dead.tail()"
      ],
      "execution_count": 87,
      "outputs": [
        {
          "output_type": "execute_result",
          "data": {
            "text/html": [
              "<div>\n",
              "<style scoped>\n",
              "    .dataframe tbody tr th:only-of-type {\n",
              "        vertical-align: middle;\n",
              "    }\n",
              "\n",
              "    .dataframe tbody tr th {\n",
              "        vertical-align: top;\n",
              "    }\n",
              "\n",
              "    .dataframe thead th {\n",
              "        text-align: right;\n",
              "    }\n",
              "</style>\n",
              "<table border=\"1\" class=\"dataframe\">\n",
              "  <thead>\n",
              "    <tr style=\"text-align: right;\">\n",
              "      <th></th>\n",
              "      <th>spent_block_date</th>\n",
              "      <th>UTXO_dead</th>\n",
              "    </tr>\n",
              "  </thead>\n",
              "  <tbody>\n",
              "    <tr>\n",
              "      <th>2115</th>\n",
              "      <td>2020-09-22</td>\n",
              "      <td>50.0</td>\n",
              "    </tr>\n",
              "    <tr>\n",
              "      <th>2116</th>\n",
              "      <td>2020-10-01</td>\n",
              "      <td>50.0</td>\n",
              "    </tr>\n",
              "    <tr>\n",
              "      <th>2117</th>\n",
              "      <td>2020-10-11</td>\n",
              "      <td>1050.0</td>\n",
              "    </tr>\n",
              "    <tr>\n",
              "      <th>2118</th>\n",
              "      <td>2020-10-14</td>\n",
              "      <td>50.0</td>\n",
              "    </tr>\n",
              "    <tr>\n",
              "      <th>2119</th>\n",
              "      <td>2020-10-17</td>\n",
              "      <td>50.0</td>\n",
              "    </tr>\n",
              "  </tbody>\n",
              "</table>\n",
              "</div>"
            ],
            "text/plain": [
              "     spent_block_date  UTXO_dead\n",
              "2115       2020-09-22       50.0\n",
              "2116       2020-10-01       50.0\n",
              "2117       2020-10-11     1050.0\n",
              "2118       2020-10-14       50.0\n",
              "2119       2020-10-17       50.0"
            ]
          },
          "metadata": {
            "tags": []
          },
          "execution_count": 87
        }
      ]
    },
    {
      "cell_type": "markdown",
      "metadata": {
        "id": "wHxrthBUge7q"
      },
      "source": [
        " Merge the two dataframe to get the time series for newborn and dead UTXO for each date from 2009-01-12 to 2011-08-06"
      ]
    },
    {
      "cell_type": "code",
      "metadata": {
        "id": "O0I3bsEPgvPa"
      },
      "source": [
        "size=np.size(pd.date_range(start='2009-01-09', end='2011-08-06'))"
      ],
      "execution_count": 88,
      "outputs": []
    },
    {
      "cell_type": "code",
      "metadata": {
        "id": "hshmCYuqhuQ0",
        "outputId": "b37a9906-e9d8-4122-9dd2-abd4005fe398",
        "colab": {
          "base_uri": "https://localhost:8080/",
          "height": 204
        }
      },
      "source": [
        "df_UTXO = pd.DataFrame(np.zeros((size, 1)))\n",
        "df_UTXO.columns=['date']\n",
        "df_UTXO['date']=pd.date_range(start='2009-01-09', end='2011-08-06')\n",
        "df_UTXO.tail()"
      ],
      "execution_count": 89,
      "outputs": [
        {
          "output_type": "execute_result",
          "data": {
            "text/html": [
              "<div>\n",
              "<style scoped>\n",
              "    .dataframe tbody tr th:only-of-type {\n",
              "        vertical-align: middle;\n",
              "    }\n",
              "\n",
              "    .dataframe tbody tr th {\n",
              "        vertical-align: top;\n",
              "    }\n",
              "\n",
              "    .dataframe thead th {\n",
              "        text-align: right;\n",
              "    }\n",
              "</style>\n",
              "<table border=\"1\" class=\"dataframe\">\n",
              "  <thead>\n",
              "    <tr style=\"text-align: right;\">\n",
              "      <th></th>\n",
              "      <th>date</th>\n",
              "    </tr>\n",
              "  </thead>\n",
              "  <tbody>\n",
              "    <tr>\n",
              "      <th>935</th>\n",
              "      <td>2011-08-02</td>\n",
              "    </tr>\n",
              "    <tr>\n",
              "      <th>936</th>\n",
              "      <td>2011-08-03</td>\n",
              "    </tr>\n",
              "    <tr>\n",
              "      <th>937</th>\n",
              "      <td>2011-08-04</td>\n",
              "    </tr>\n",
              "    <tr>\n",
              "      <th>938</th>\n",
              "      <td>2011-08-05</td>\n",
              "    </tr>\n",
              "    <tr>\n",
              "      <th>939</th>\n",
              "      <td>2011-08-06</td>\n",
              "    </tr>\n",
              "  </tbody>\n",
              "</table>\n",
              "</div>"
            ],
            "text/plain": [
              "          date\n",
              "935 2011-08-02\n",
              "936 2011-08-03\n",
              "937 2011-08-04\n",
              "938 2011-08-05\n",
              "939 2011-08-06"
            ]
          },
          "metadata": {
            "tags": []
          },
          "execution_count": 89
        }
      ]
    },
    {
      "cell_type": "code",
      "metadata": {
        "id": "Akw5W5BRjmVP",
        "outputId": "cc868c34-9443-407f-be34-601b0c097120",
        "colab": {
          "base_uri": "https://localhost:8080/",
          "height": 204
        }
      },
      "source": [
        "### merge\n",
        "df_UTXO=df_UTXO.merge(df_newborn, how='left',left_on='date',right_on='block_date')\n",
        "df_UTXO.head()"
      ],
      "execution_count": 90,
      "outputs": [
        {
          "output_type": "execute_result",
          "data": {
            "text/html": [
              "<div>\n",
              "<style scoped>\n",
              "    .dataframe tbody tr th:only-of-type {\n",
              "        vertical-align: middle;\n",
              "    }\n",
              "\n",
              "    .dataframe tbody tr th {\n",
              "        vertical-align: top;\n",
              "    }\n",
              "\n",
              "    .dataframe thead th {\n",
              "        text-align: right;\n",
              "    }\n",
              "</style>\n",
              "<table border=\"1\" class=\"dataframe\">\n",
              "  <thead>\n",
              "    <tr style=\"text-align: right;\">\n",
              "      <th></th>\n",
              "      <th>date</th>\n",
              "      <th>block_date</th>\n",
              "      <th>UTXO_newborn</th>\n",
              "    </tr>\n",
              "  </thead>\n",
              "  <tbody>\n",
              "    <tr>\n",
              "      <th>0</th>\n",
              "      <td>2009-01-09</td>\n",
              "      <td>2009-01-09</td>\n",
              "      <td>700.0</td>\n",
              "    </tr>\n",
              "    <tr>\n",
              "      <th>1</th>\n",
              "      <td>2009-01-10</td>\n",
              "      <td>2009-01-10</td>\n",
              "      <td>3050.0</td>\n",
              "    </tr>\n",
              "    <tr>\n",
              "      <th>2</th>\n",
              "      <td>2009-01-11</td>\n",
              "      <td>2009-01-11</td>\n",
              "      <td>4650.0</td>\n",
              "    </tr>\n",
              "    <tr>\n",
              "      <th>3</th>\n",
              "      <td>2009-01-12</td>\n",
              "      <td>2009-01-12</td>\n",
              "      <td>4879.0</td>\n",
              "    </tr>\n",
              "    <tr>\n",
              "      <th>4</th>\n",
              "      <td>2009-01-13</td>\n",
              "      <td>2009-01-13</td>\n",
              "      <td>6150.0</td>\n",
              "    </tr>\n",
              "  </tbody>\n",
              "</table>\n",
              "</div>"
            ],
            "text/plain": [
              "        date block_date  UTXO_newborn\n",
              "0 2009-01-09 2009-01-09         700.0\n",
              "1 2009-01-10 2009-01-10        3050.0\n",
              "2 2009-01-11 2009-01-11        4650.0\n",
              "3 2009-01-12 2009-01-12        4879.0\n",
              "4 2009-01-13 2009-01-13        6150.0"
            ]
          },
          "metadata": {
            "tags": []
          },
          "execution_count": 90
        }
      ]
    },
    {
      "cell_type": "code",
      "metadata": {
        "id": "C9-JNzjfkZyt",
        "outputId": "c0205d86-2442-40a7-e269-6399901fc143",
        "colab": {
          "base_uri": "https://localhost:8080/",
          "height": 204
        }
      },
      "source": [
        "### merge\n",
        "df_UTXO=df_UTXO.merge(df_dead, how='left',left_on='date',right_on='spent_block_date')\n",
        "df_UTXO.head()"
      ],
      "execution_count": 91,
      "outputs": [
        {
          "output_type": "execute_result",
          "data": {
            "text/html": [
              "<div>\n",
              "<style scoped>\n",
              "    .dataframe tbody tr th:only-of-type {\n",
              "        vertical-align: middle;\n",
              "    }\n",
              "\n",
              "    .dataframe tbody tr th {\n",
              "        vertical-align: top;\n",
              "    }\n",
              "\n",
              "    .dataframe thead th {\n",
              "        text-align: right;\n",
              "    }\n",
              "</style>\n",
              "<table border=\"1\" class=\"dataframe\">\n",
              "  <thead>\n",
              "    <tr style=\"text-align: right;\">\n",
              "      <th></th>\n",
              "      <th>date</th>\n",
              "      <th>block_date</th>\n",
              "      <th>UTXO_newborn</th>\n",
              "      <th>spent_block_date</th>\n",
              "      <th>UTXO_dead</th>\n",
              "    </tr>\n",
              "  </thead>\n",
              "  <tbody>\n",
              "    <tr>\n",
              "      <th>0</th>\n",
              "      <td>2009-01-09</td>\n",
              "      <td>2009-01-09</td>\n",
              "      <td>700.0</td>\n",
              "      <td>NaT</td>\n",
              "      <td>NaN</td>\n",
              "    </tr>\n",
              "    <tr>\n",
              "      <th>1</th>\n",
              "      <td>2009-01-10</td>\n",
              "      <td>2009-01-10</td>\n",
              "      <td>3050.0</td>\n",
              "      <td>NaT</td>\n",
              "      <td>NaN</td>\n",
              "    </tr>\n",
              "    <tr>\n",
              "      <th>2</th>\n",
              "      <td>2009-01-11</td>\n",
              "      <td>2009-01-11</td>\n",
              "      <td>4650.0</td>\n",
              "      <td>NaT</td>\n",
              "      <td>NaN</td>\n",
              "    </tr>\n",
              "    <tr>\n",
              "      <th>3</th>\n",
              "      <td>2009-01-12</td>\n",
              "      <td>2009-01-12</td>\n",
              "      <td>4879.0</td>\n",
              "      <td>2009-01-12</td>\n",
              "      <td>179.0</td>\n",
              "    </tr>\n",
              "    <tr>\n",
              "      <th>4</th>\n",
              "      <td>2009-01-13</td>\n",
              "      <td>2009-01-13</td>\n",
              "      <td>6150.0</td>\n",
              "      <td>NaT</td>\n",
              "      <td>NaN</td>\n",
              "    </tr>\n",
              "  </tbody>\n",
              "</table>\n",
              "</div>"
            ],
            "text/plain": [
              "        date block_date  UTXO_newborn spent_block_date  UTXO_dead\n",
              "0 2009-01-09 2009-01-09         700.0              NaT        NaN\n",
              "1 2009-01-10 2009-01-10        3050.0              NaT        NaN\n",
              "2 2009-01-11 2009-01-11        4650.0              NaT        NaN\n",
              "3 2009-01-12 2009-01-12        4879.0       2009-01-12      179.0\n",
              "4 2009-01-13 2009-01-13        6150.0              NaT        NaN"
            ]
          },
          "metadata": {
            "tags": []
          },
          "execution_count": 91
        }
      ]
    },
    {
      "cell_type": "code",
      "metadata": {
        "id": "MwIdxa63le93"
      },
      "source": [
        "df_UTXO = df_UTXO.drop(['block_date','spent_block_date'], axis = 1)"
      ],
      "execution_count": 92,
      "outputs": []
    },
    {
      "cell_type": "code",
      "metadata": {
        "id": "FTPvM62Lk9iS",
        "outputId": "b1b2ccad-1d36-4ac7-e5a9-dd3e569361fd",
        "colab": {
          "base_uri": "https://localhost:8080/",
          "height": 204
        }
      },
      "source": [
        "df_UTXO=df_UTXO[['date','UTXO_newborn','UTXO_dead']].fillna(0)\n",
        "df_UTXO.head()"
      ],
      "execution_count": 93,
      "outputs": [
        {
          "output_type": "execute_result",
          "data": {
            "text/html": [
              "<div>\n",
              "<style scoped>\n",
              "    .dataframe tbody tr th:only-of-type {\n",
              "        vertical-align: middle;\n",
              "    }\n",
              "\n",
              "    .dataframe tbody tr th {\n",
              "        vertical-align: top;\n",
              "    }\n",
              "\n",
              "    .dataframe thead th {\n",
              "        text-align: right;\n",
              "    }\n",
              "</style>\n",
              "<table border=\"1\" class=\"dataframe\">\n",
              "  <thead>\n",
              "    <tr style=\"text-align: right;\">\n",
              "      <th></th>\n",
              "      <th>date</th>\n",
              "      <th>UTXO_newborn</th>\n",
              "      <th>UTXO_dead</th>\n",
              "    </tr>\n",
              "  </thead>\n",
              "  <tbody>\n",
              "    <tr>\n",
              "      <th>0</th>\n",
              "      <td>2009-01-09</td>\n",
              "      <td>700.0</td>\n",
              "      <td>0.0</td>\n",
              "    </tr>\n",
              "    <tr>\n",
              "      <th>1</th>\n",
              "      <td>2009-01-10</td>\n",
              "      <td>3050.0</td>\n",
              "      <td>0.0</td>\n",
              "    </tr>\n",
              "    <tr>\n",
              "      <th>2</th>\n",
              "      <td>2009-01-11</td>\n",
              "      <td>4650.0</td>\n",
              "      <td>0.0</td>\n",
              "    </tr>\n",
              "    <tr>\n",
              "      <th>3</th>\n",
              "      <td>2009-01-12</td>\n",
              "      <td>4879.0</td>\n",
              "      <td>179.0</td>\n",
              "    </tr>\n",
              "    <tr>\n",
              "      <th>4</th>\n",
              "      <td>2009-01-13</td>\n",
              "      <td>6150.0</td>\n",
              "      <td>0.0</td>\n",
              "    </tr>\n",
              "  </tbody>\n",
              "</table>\n",
              "</div>"
            ],
            "text/plain": [
              "        date  UTXO_newborn  UTXO_dead\n",
              "0 2009-01-09         700.0        0.0\n",
              "1 2009-01-10        3050.0        0.0\n",
              "2 2009-01-11        4650.0        0.0\n",
              "3 2009-01-12        4879.0      179.0\n",
              "4 2009-01-13        6150.0        0.0"
            ]
          },
          "metadata": {
            "tags": []
          },
          "execution_count": 93
        }
      ]
    },
    {
      "cell_type": "markdown",
      "metadata": {
        "id": "GgADfgUyliyE"
      },
      "source": [
        "Calculate the Daily Net new UTXO =UTXO_newborn-UTXO_dead"
      ]
    },
    {
      "cell_type": "code",
      "metadata": {
        "id": "acy5gSiZlt-X",
        "outputId": "e5f1f318-ab52-497e-fc7b-94f5104a52a6",
        "colab": {
          "base_uri": "https://localhost:8080/",
          "height": 204
        }
      },
      "source": [
        "df_UTXO['Net_New']=df_UTXO['UTXO_newborn']-df_UTXO['UTXO_dead']\n",
        "df_UTXO.head()"
      ],
      "execution_count": 94,
      "outputs": [
        {
          "output_type": "execute_result",
          "data": {
            "text/html": [
              "<div>\n",
              "<style scoped>\n",
              "    .dataframe tbody tr th:only-of-type {\n",
              "        vertical-align: middle;\n",
              "    }\n",
              "\n",
              "    .dataframe tbody tr th {\n",
              "        vertical-align: top;\n",
              "    }\n",
              "\n",
              "    .dataframe thead th {\n",
              "        text-align: right;\n",
              "    }\n",
              "</style>\n",
              "<table border=\"1\" class=\"dataframe\">\n",
              "  <thead>\n",
              "    <tr style=\"text-align: right;\">\n",
              "      <th></th>\n",
              "      <th>date</th>\n",
              "      <th>UTXO_newborn</th>\n",
              "      <th>UTXO_dead</th>\n",
              "      <th>Net_New</th>\n",
              "    </tr>\n",
              "  </thead>\n",
              "  <tbody>\n",
              "    <tr>\n",
              "      <th>0</th>\n",
              "      <td>2009-01-09</td>\n",
              "      <td>700.0</td>\n",
              "      <td>0.0</td>\n",
              "      <td>700.0</td>\n",
              "    </tr>\n",
              "    <tr>\n",
              "      <th>1</th>\n",
              "      <td>2009-01-10</td>\n",
              "      <td>3050.0</td>\n",
              "      <td>0.0</td>\n",
              "      <td>3050.0</td>\n",
              "    </tr>\n",
              "    <tr>\n",
              "      <th>2</th>\n",
              "      <td>2009-01-11</td>\n",
              "      <td>4650.0</td>\n",
              "      <td>0.0</td>\n",
              "      <td>4650.0</td>\n",
              "    </tr>\n",
              "    <tr>\n",
              "      <th>3</th>\n",
              "      <td>2009-01-12</td>\n",
              "      <td>4879.0</td>\n",
              "      <td>179.0</td>\n",
              "      <td>4700.0</td>\n",
              "    </tr>\n",
              "    <tr>\n",
              "      <th>4</th>\n",
              "      <td>2009-01-13</td>\n",
              "      <td>6150.0</td>\n",
              "      <td>0.0</td>\n",
              "      <td>6150.0</td>\n",
              "    </tr>\n",
              "  </tbody>\n",
              "</table>\n",
              "</div>"
            ],
            "text/plain": [
              "        date  UTXO_newborn  UTXO_dead  Net_New\n",
              "0 2009-01-09         700.0        0.0    700.0\n",
              "1 2009-01-10        3050.0        0.0   3050.0\n",
              "2 2009-01-11        4650.0        0.0   4650.0\n",
              "3 2009-01-12        4879.0      179.0   4700.0\n",
              "4 2009-01-13        6150.0        0.0   6150.0"
            ]
          },
          "metadata": {
            "tags": []
          },
          "execution_count": 94
        }
      ]
    },
    {
      "cell_type": "markdown",
      "metadata": {
        "id": "4IuxvhVzmpJy"
      },
      "source": [
        "Calculate the Accumulated Sum of Net new UTXO to get the total UTXO not spent for each date"
      ]
    },
    {
      "cell_type": "code",
      "metadata": {
        "id": "c2lBzgoXV4p6",
        "outputId": "4c9030ea-5283-4038-a36b-700fcd780718",
        "colab": {
          "base_uri": "https://localhost:8080/",
          "height": 204
        }
      },
      "source": [
        "df_UTXO['UTXO_Cum']=df_UTXO['Net_New'].cumsum()\n",
        "df_UTXO.head()"
      ],
      "execution_count": 95,
      "outputs": [
        {
          "output_type": "execute_result",
          "data": {
            "text/html": [
              "<div>\n",
              "<style scoped>\n",
              "    .dataframe tbody tr th:only-of-type {\n",
              "        vertical-align: middle;\n",
              "    }\n",
              "\n",
              "    .dataframe tbody tr th {\n",
              "        vertical-align: top;\n",
              "    }\n",
              "\n",
              "    .dataframe thead th {\n",
              "        text-align: right;\n",
              "    }\n",
              "</style>\n",
              "<table border=\"1\" class=\"dataframe\">\n",
              "  <thead>\n",
              "    <tr style=\"text-align: right;\">\n",
              "      <th></th>\n",
              "      <th>date</th>\n",
              "      <th>UTXO_newborn</th>\n",
              "      <th>UTXO_dead</th>\n",
              "      <th>Net_New</th>\n",
              "      <th>UTXO_Cum</th>\n",
              "    </tr>\n",
              "  </thead>\n",
              "  <tbody>\n",
              "    <tr>\n",
              "      <th>0</th>\n",
              "      <td>2009-01-09</td>\n",
              "      <td>700.0</td>\n",
              "      <td>0.0</td>\n",
              "      <td>700.0</td>\n",
              "      <td>700.0</td>\n",
              "    </tr>\n",
              "    <tr>\n",
              "      <th>1</th>\n",
              "      <td>2009-01-10</td>\n",
              "      <td>3050.0</td>\n",
              "      <td>0.0</td>\n",
              "      <td>3050.0</td>\n",
              "      <td>3750.0</td>\n",
              "    </tr>\n",
              "    <tr>\n",
              "      <th>2</th>\n",
              "      <td>2009-01-11</td>\n",
              "      <td>4650.0</td>\n",
              "      <td>0.0</td>\n",
              "      <td>4650.0</td>\n",
              "      <td>8400.0</td>\n",
              "    </tr>\n",
              "    <tr>\n",
              "      <th>3</th>\n",
              "      <td>2009-01-12</td>\n",
              "      <td>4879.0</td>\n",
              "      <td>179.0</td>\n",
              "      <td>4700.0</td>\n",
              "      <td>13100.0</td>\n",
              "    </tr>\n",
              "    <tr>\n",
              "      <th>4</th>\n",
              "      <td>2009-01-13</td>\n",
              "      <td>6150.0</td>\n",
              "      <td>0.0</td>\n",
              "      <td>6150.0</td>\n",
              "      <td>19250.0</td>\n",
              "    </tr>\n",
              "  </tbody>\n",
              "</table>\n",
              "</div>"
            ],
            "text/plain": [
              "        date  UTXO_newborn  UTXO_dead  Net_New  UTXO_Cum\n",
              "0 2009-01-09         700.0        0.0    700.0     700.0\n",
              "1 2009-01-10        3050.0        0.0   3050.0    3750.0\n",
              "2 2009-01-11        4650.0        0.0   4650.0    8400.0\n",
              "3 2009-01-12        4879.0      179.0   4700.0   13100.0\n",
              "4 2009-01-13        6150.0        0.0   6150.0   19250.0"
            ]
          },
          "metadata": {
            "tags": []
          },
          "execution_count": 95
        }
      ]
    },
    {
      "cell_type": "code",
      "metadata": {
        "id": "qetKKfWwoIT4",
        "outputId": "d923a773-9c45-4935-fcda-ce3736842c0f",
        "colab": {
          "base_uri": "https://localhost:8080/"
        }
      },
      "source": [
        "df_UTXO.columns"
      ],
      "execution_count": 96,
      "outputs": [
        {
          "output_type": "execute_result",
          "data": {
            "text/plain": [
              "Index(['date', 'UTXO_newborn', 'UTXO_dead', 'Net_New', 'UTXO_Cum'], dtype='object')"
            ]
          },
          "metadata": {
            "tags": []
          },
          "execution_count": 96
        }
      ]
    },
    {
      "cell_type": "code",
      "metadata": {
        "id": "_p-GiST8xVy6",
        "outputId": "43fa820f-39eb-4e39-a77a-20c1d3ff509e",
        "colab": {
          "base_uri": "https://localhost:8080/"
        }
      },
      "source": [
        "df_UTXO.info()"
      ],
      "execution_count": 97,
      "outputs": [
        {
          "output_type": "stream",
          "text": [
            "<class 'pandas.core.frame.DataFrame'>\n",
            "Int64Index: 940 entries, 0 to 939\n",
            "Data columns (total 5 columns):\n",
            " #   Column        Non-Null Count  Dtype         \n",
            "---  ------        --------------  -----         \n",
            " 0   date          940 non-null    datetime64[ns]\n",
            " 1   UTXO_newborn  940 non-null    float64       \n",
            " 2   UTXO_dead     940 non-null    float64       \n",
            " 3   Net_New       940 non-null    float64       \n",
            " 4   UTXO_Cum      940 non-null    float64       \n",
            "dtypes: datetime64[ns](1), float64(4)\n",
            "memory usage: 44.1 KB\n"
          ],
          "name": "stdout"
        }
      ]
    },
    {
      "cell_type": "code",
      "metadata": {
        "id": "QdA2F5_MpLdM",
        "outputId": "e55cf8ac-62bf-4a58-c0da-d2843060489e",
        "colab": {
          "base_uri": "https://localhost:8080/",
          "height": 542
        }
      },
      "source": [
        "import plotly.graph_objects as go\n",
        "from plotly.offline import iplot\n",
        "\n",
        "# Create traces\n",
        "fig0 = go.Figure()\n",
        "fig0.add_trace(go.Scatter(x=df_UTXO.date, y=df_UTXO.UTXO_newborn,\n",
        "                    mode='lines',\n",
        "                    name='UTXO Newborn'))\n",
        "\n",
        "fig0.add_trace(go.Scatter(x=df_UTXO.date, y=df_UTXO.UTXO_dead,\n",
        "                    mode='lines+markers',\n",
        "                    name='UTXO Dead'))\n",
        "\n",
        "fig0.add_trace(go.Scatter(x=df_UTXO.date, y=df_UTXO.Net_New,\n",
        "                    mode='markers', name='UTXO Netnew'))\n",
        "fig0.update_layout(title='Daily Newborn and Dead UTXO',\n",
        "                   xaxis_title='Date',\n",
        "                   yaxis_title='UTXO')\n",
        "fig0.update_yaxes(type=\"log\")\n",
        "\n",
        "\n",
        "# Add range slider\n",
        "fig0.update_layout(\n",
        "    xaxis=dict(\n",
        "        rangeselector=dict(\n",
        "            buttons=list([\n",
        "                dict(count=1,\n",
        "                     label=\"1m\",\n",
        "                     step=\"month\",\n",
        "                     stepmode=\"backward\"),\n",
        "                dict(count=6,\n",
        "                     label=\"6m\",\n",
        "                     step=\"month\",\n",
        "                     stepmode=\"backward\"),\n",
        "                dict(count=1,\n",
        "                     label=\"YTD\",\n",
        "                     step=\"year\",\n",
        "                     stepmode=\"todate\"),\n",
        "                dict(count=1,\n",
        "                     label=\"1y\",\n",
        "                     step=\"year\",\n",
        "                     stepmode=\"backward\"),\n",
        "                dict(step=\"all\")\n",
        "            ])\n",
        "        ),\n",
        "        rangeslider=dict(\n",
        "            visible=True\n",
        "        ),\n",
        "        type=\"date\"\n",
        "    )\n",
        ")\n",
        "\n",
        "iplot(fig0)"
      ],
      "execution_count": 98,
      "outputs": [
        {
          "output_type": "display_data",
          "data": {
            "text/html": [
              "<html>\n",
              "<head><meta charset=\"utf-8\" /></head>\n",
              "<body>\n",
              "    <div>\n",
              "            <script src=\"https://cdnjs.cloudflare.com/ajax/libs/mathjax/2.7.5/MathJax.js?config=TeX-AMS-MML_SVG\"></script><script type=\"text/javascript\">if (window.MathJax) {MathJax.Hub.Config({SVG: {font: \"STIX-Web\"}});}</script>\n",
              "                <script type=\"text/javascript\">window.PlotlyConfig = {MathJaxConfig: 'local'};</script>\n",
              "        <script src=\"https://cdn.plot.ly/plotly-latest.min.js\"></script>    \n",
              "            <div id=\"a6219af2-0c3a-4aeb-835d-220c4f5c4b1e\" class=\"plotly-graph-div\" style=\"height:525px; width:100%;\"></div>\n",
              "            <script type=\"text/javascript\">\n",
              "                \n",
              "                    window.PLOTLYENV=window.PLOTLYENV || {};\n",
              "                    \n",
              "                if (document.getElementById(\"a6219af2-0c3a-4aeb-835d-220c4f5c4b1e\")) {\n",
              "                    Plotly.newPlot(\n",
              "                        'a6219af2-0c3a-4aeb-835d-220c4f5c4b1e',\n",
              "                        [{\"mode\": \"lines\", \"name\": \"UTXO Newborn\", \"type\": \"scatter\", \"x\": [\"2009-01-09T00:00:00\", \"2009-01-10T00:00:00\", \"2009-01-11T00:00:00\", \"2009-01-12T00:00:00\", \"2009-01-13T00:00:00\", \"2009-01-14T00:00:00\", \"2009-01-15T00:00:00\", \"2009-01-16T00:00:00\", \"2009-01-17T00:00:00\", \"2009-01-18T00:00:00\", \"2009-01-19T00:00:00\", \"2009-01-20T00:00:00\", \"2009-01-21T00:00:00\", \"2009-01-22T00:00:00\", \"2009-01-23T00:00:00\", \"2009-01-24T00:00:00\", \"2009-01-25T00:00:00\", \"2009-01-26T00:00:00\", \"2009-01-27T00:00:00\", \"2009-01-28T00:00:00\", \"2009-01-29T00:00:00\", \"2009-01-30T00:00:00\", \"2009-01-31T00:00:00\", \"2009-02-01T00:00:00\", \"2009-02-02T00:00:00\", \"2009-02-03T00:00:00\", \"2009-02-04T00:00:00\", \"2009-02-05T00:00:00\", \"2009-02-06T00:00:00\", \"2009-02-07T00:00:00\", \"2009-02-08T00:00:00\", \"2009-02-09T00:00:00\", \"2009-02-10T00:00:00\", \"2009-02-11T00:00:00\", \"2009-02-12T00:00:00\", \"2009-02-13T00:00:00\", \"2009-02-14T00:00:00\", \"2009-02-15T00:00:00\", \"2009-02-16T00:00:00\", \"2009-02-17T00:00:00\", \"2009-02-18T00:00:00\", \"2009-02-19T00:00:00\", \"2009-02-20T00:00:00\", \"2009-02-21T00:00:00\", \"2009-02-22T00:00:00\", \"2009-02-23T00:00:00\", \"2009-02-24T00:00:00\", \"2009-02-25T00:00:00\", \"2009-02-26T00:00:00\", \"2009-02-27T00:00:00\", \"2009-02-28T00:00:00\", \"2009-03-01T00:00:00\", \"2009-03-02T00:00:00\", \"2009-03-03T00:00:00\", \"2009-03-04T00:00:00\", \"2009-03-05T00:00:00\", \"2009-03-06T00:00:00\", \"2009-03-07T00:00:00\", \"2009-03-08T00:00:00\", \"2009-03-09T00:00:00\", \"2009-03-10T00:00:00\", \"2009-03-11T00:00:00\", \"2009-03-12T00:00:00\", \"2009-03-13T00:00:00\", \"2009-03-14T00:00:00\", \"2009-03-15T00:00:00\", \"2009-03-16T00:00:00\", \"2009-03-17T00:00:00\", \"2009-03-18T00:00:00\", \"2009-03-19T00:00:00\", \"2009-03-20T00:00:00\", \"2009-03-21T00:00:00\", \"2009-03-22T00:00:00\", \"2009-03-23T00:00:00\", \"2009-03-24T00:00:00\", \"2009-03-25T00:00:00\", \"2009-03-26T00:00:00\", \"2009-03-27T00:00:00\", \"2009-03-28T00:00:00\", \"2009-03-29T00:00:00\", \"2009-03-30T00:00:00\", \"2009-03-31T00:00:00\", \"2009-04-01T00:00:00\", \"2009-04-02T00:00:00\", \"2009-04-03T00:00:00\", \"2009-04-04T00:00:00\", \"2009-04-05T00:00:00\", \"2009-04-06T00:00:00\", \"2009-04-07T00:00:00\", \"2009-04-08T00:00:00\", \"2009-04-09T00:00:00\", \"2009-04-10T00:00:00\", \"2009-04-11T00:00:00\", \"2009-04-12T00:00:00\", \"2009-04-13T00:00:00\", \"2009-04-14T00:00:00\", \"2009-04-15T00:00:00\", \"2009-04-16T00:00:00\", \"2009-04-17T00:00:00\", \"2009-04-18T00:00:00\", \"2009-04-19T00:00:00\", \"2009-04-20T00:00:00\", \"2009-04-21T00:00:00\", \"2009-04-22T00:00:00\", \"2009-04-23T00:00:00\", \"2009-04-24T00:00:00\", \"2009-04-25T00:00:00\", \"2009-04-26T00:00:00\", \"2009-04-27T00:00:00\", \"2009-04-28T00:00:00\", \"2009-04-29T00:00:00\", \"2009-04-30T00:00:00\", \"2009-05-01T00:00:00\", \"2009-05-02T00:00:00\", \"2009-05-03T00:00:00\", \"2009-05-04T00:00:00\", \"2009-05-05T00:00:00\", \"2009-05-06T00:00:00\", \"2009-05-07T00:00:00\", \"2009-05-08T00:00:00\", \"2009-05-09T00:00:00\", \"2009-05-10T00:00:00\", \"2009-05-11T00:00:00\", \"2009-05-12T00:00:00\", \"2009-05-13T00:00:00\", \"2009-05-14T00:00:00\", \"2009-05-15T00:00:00\", \"2009-05-16T00:00:00\", \"2009-05-17T00:00:00\", \"2009-05-18T00:00:00\", \"2009-05-19T00:00:00\", \"2009-05-20T00:00:00\", \"2009-05-21T00:00:00\", \"2009-05-22T00:00:00\", \"2009-05-23T00:00:00\", \"2009-05-24T00:00:00\", \"2009-05-25T00:00:00\", \"2009-05-26T00:00:00\", \"2009-05-27T00:00:00\", \"2009-05-28T00:00:00\", \"2009-05-29T00:00:00\", \"2009-05-30T00:00:00\", \"2009-05-31T00:00:00\", \"2009-06-01T00:00:00\", \"2009-06-02T00:00:00\", \"2009-06-03T00:00:00\", \"2009-06-04T00:00:00\", \"2009-06-05T00:00:00\", \"2009-06-06T00:00:00\", \"2009-06-07T00:00:00\", \"2009-06-08T00:00:00\", \"2009-06-09T00:00:00\", \"2009-06-10T00:00:00\", \"2009-06-11T00:00:00\", \"2009-06-12T00:00:00\", \"2009-06-13T00:00:00\", \"2009-06-14T00:00:00\", \"2009-06-15T00:00:00\", \"2009-06-16T00:00:00\", \"2009-06-17T00:00:00\", \"2009-06-18T00:00:00\", \"2009-06-19T00:00:00\", \"2009-06-20T00:00:00\", \"2009-06-21T00:00:00\", \"2009-06-22T00:00:00\", \"2009-06-23T00:00:00\", \"2009-06-24T00:00:00\", \"2009-06-25T00:00:00\", \"2009-06-26T00:00:00\", \"2009-06-27T00:00:00\", \"2009-06-28T00:00:00\", \"2009-06-29T00:00:00\", \"2009-06-30T00:00:00\", \"2009-07-01T00:00:00\", \"2009-07-02T00:00:00\", \"2009-07-03T00:00:00\", \"2009-07-04T00:00:00\", \"2009-07-05T00:00:00\", \"2009-07-06T00:00:00\", \"2009-07-07T00:00:00\", \"2009-07-08T00:00:00\", \"2009-07-09T00:00:00\", \"2009-07-10T00:00:00\", \"2009-07-11T00:00:00\", \"2009-07-12T00:00:00\", \"2009-07-13T00:00:00\", \"2009-07-14T00:00:00\", \"2009-07-15T00:00:00\", \"2009-07-16T00:00:00\", \"2009-07-17T00:00:00\", \"2009-07-18T00:00:00\", \"2009-07-19T00:00:00\", \"2009-07-20T00:00:00\", \"2009-07-21T00:00:00\", \"2009-07-22T00:00:00\", \"2009-07-23T00:00:00\", \"2009-07-24T00:00:00\", \"2009-07-25T00:00:00\", \"2009-07-26T00:00:00\", \"2009-07-27T00:00:00\", \"2009-07-28T00:00:00\", \"2009-07-29T00:00:00\", \"2009-07-30T00:00:00\", \"2009-07-31T00:00:00\", \"2009-08-01T00:00:00\", \"2009-08-02T00:00:00\", \"2009-08-03T00:00:00\", \"2009-08-04T00:00:00\", \"2009-08-05T00:00:00\", \"2009-08-06T00:00:00\", \"2009-08-07T00:00:00\", \"2009-08-08T00:00:00\", \"2009-08-09T00:00:00\", \"2009-08-10T00:00:00\", \"2009-08-11T00:00:00\", \"2009-08-12T00:00:00\", \"2009-08-13T00:00:00\", \"2009-08-14T00:00:00\", \"2009-08-15T00:00:00\", \"2009-08-16T00:00:00\", \"2009-08-17T00:00:00\", \"2009-08-18T00:00:00\", \"2009-08-19T00:00:00\", \"2009-08-20T00:00:00\", \"2009-08-21T00:00:00\", \"2009-08-22T00:00:00\", \"2009-08-23T00:00:00\", \"2009-08-24T00:00:00\", \"2009-08-25T00:00:00\", \"2009-08-26T00:00:00\", \"2009-08-27T00:00:00\", \"2009-08-28T00:00:00\", \"2009-08-29T00:00:00\", \"2009-08-30T00:00:00\", \"2009-08-31T00:00:00\", \"2009-09-01T00:00:00\", \"2009-09-02T00:00:00\", \"2009-09-03T00:00:00\", \"2009-09-04T00:00:00\", \"2009-09-05T00:00:00\", \"2009-09-06T00:00:00\", \"2009-09-07T00:00:00\", \"2009-09-08T00:00:00\", \"2009-09-09T00:00:00\", \"2009-09-10T00:00:00\", \"2009-09-11T00:00:00\", \"2009-09-12T00:00:00\", \"2009-09-13T00:00:00\", \"2009-09-14T00:00:00\", \"2009-09-15T00:00:00\", \"2009-09-16T00:00:00\", \"2009-09-17T00:00:00\", \"2009-09-18T00:00:00\", \"2009-09-19T00:00:00\", \"2009-09-20T00:00:00\", \"2009-09-21T00:00:00\", \"2009-09-22T00:00:00\", \"2009-09-23T00:00:00\", \"2009-09-24T00:00:00\", \"2009-09-25T00:00:00\", \"2009-09-26T00:00:00\", \"2009-09-27T00:00:00\", \"2009-09-28T00:00:00\", \"2009-09-29T00:00:00\", \"2009-09-30T00:00:00\", \"2009-10-01T00:00:00\", \"2009-10-02T00:00:00\", \"2009-10-03T00:00:00\", \"2009-10-04T00:00:00\", \"2009-10-05T00:00:00\", \"2009-10-06T00:00:00\", \"2009-10-07T00:00:00\", \"2009-10-08T00:00:00\", \"2009-10-09T00:00:00\", \"2009-10-10T00:00:00\", \"2009-10-11T00:00:00\", \"2009-10-12T00:00:00\", \"2009-10-13T00:00:00\", \"2009-10-14T00:00:00\", \"2009-10-15T00:00:00\", \"2009-10-16T00:00:00\", \"2009-10-17T00:00:00\", \"2009-10-18T00:00:00\", \"2009-10-19T00:00:00\", \"2009-10-20T00:00:00\", \"2009-10-21T00:00:00\", \"2009-10-22T00:00:00\", \"2009-10-23T00:00:00\", \"2009-10-24T00:00:00\", \"2009-10-25T00:00:00\", \"2009-10-26T00:00:00\", \"2009-10-27T00:00:00\", \"2009-10-28T00:00:00\", \"2009-10-29T00:00:00\", \"2009-10-30T00:00:00\", \"2009-10-31T00:00:00\", \"2009-11-01T00:00:00\", \"2009-11-02T00:00:00\", \"2009-11-03T00:00:00\", \"2009-11-04T00:00:00\", \"2009-11-05T00:00:00\", \"2009-11-06T00:00:00\", \"2009-11-07T00:00:00\", \"2009-11-08T00:00:00\", \"2009-11-09T00:00:00\", \"2009-11-10T00:00:00\", \"2009-11-11T00:00:00\", \"2009-11-12T00:00:00\", \"2009-11-13T00:00:00\", \"2009-11-14T00:00:00\", \"2009-11-15T00:00:00\", \"2009-11-16T00:00:00\", \"2009-11-17T00:00:00\", \"2009-11-18T00:00:00\", \"2009-11-19T00:00:00\", \"2009-11-20T00:00:00\", \"2009-11-21T00:00:00\", \"2009-11-22T00:00:00\", \"2009-11-23T00:00:00\", \"2009-11-24T00:00:00\", \"2009-11-25T00:00:00\", \"2009-11-26T00:00:00\", \"2009-11-27T00:00:00\", \"2009-11-28T00:00:00\", \"2009-11-29T00:00:00\", \"2009-11-30T00:00:00\", \"2009-12-01T00:00:00\", \"2009-12-02T00:00:00\", \"2009-12-03T00:00:00\", \"2009-12-04T00:00:00\", \"2009-12-05T00:00:00\", \"2009-12-06T00:00:00\", \"2009-12-07T00:00:00\", \"2009-12-08T00:00:00\", \"2009-12-09T00:00:00\", \"2009-12-10T00:00:00\", \"2009-12-11T00:00:00\", \"2009-12-12T00:00:00\", \"2009-12-13T00:00:00\", \"2009-12-14T00:00:00\", \"2009-12-15T00:00:00\", \"2009-12-16T00:00:00\", \"2009-12-17T00:00:00\", \"2009-12-18T00:00:00\", \"2009-12-19T00:00:00\", \"2009-12-20T00:00:00\", \"2009-12-21T00:00:00\", \"2009-12-22T00:00:00\", \"2009-12-23T00:00:00\", \"2009-12-24T00:00:00\", \"2009-12-25T00:00:00\", \"2009-12-26T00:00:00\", \"2009-12-27T00:00:00\", \"2009-12-28T00:00:00\", \"2009-12-29T00:00:00\", \"2009-12-30T00:00:00\", \"2009-12-31T00:00:00\", \"2010-01-01T00:00:00\", \"2010-01-02T00:00:00\", \"2010-01-03T00:00:00\", \"2010-01-04T00:00:00\", \"2010-01-05T00:00:00\", \"2010-01-06T00:00:00\", \"2010-01-07T00:00:00\", \"2010-01-08T00:00:00\", \"2010-01-09T00:00:00\", \"2010-01-10T00:00:00\", \"2010-01-11T00:00:00\", \"2010-01-12T00:00:00\", \"2010-01-13T00:00:00\", \"2010-01-14T00:00:00\", \"2010-01-15T00:00:00\", \"2010-01-16T00:00:00\", \"2010-01-17T00:00:00\", \"2010-01-18T00:00:00\", \"2010-01-19T00:00:00\", \"2010-01-20T00:00:00\", \"2010-01-21T00:00:00\", \"2010-01-22T00:00:00\", \"2010-01-23T00:00:00\", \"2010-01-24T00:00:00\", \"2010-01-25T00:00:00\", \"2010-01-26T00:00:00\", \"2010-01-27T00:00:00\", \"2010-01-28T00:00:00\", \"2010-01-29T00:00:00\", \"2010-01-30T00:00:00\", \"2010-01-31T00:00:00\", \"2010-02-01T00:00:00\", \"2010-02-02T00:00:00\", \"2010-02-03T00:00:00\", \"2010-02-04T00:00:00\", \"2010-02-05T00:00:00\", \"2010-02-06T00:00:00\", \"2010-02-07T00:00:00\", \"2010-02-08T00:00:00\", \"2010-02-09T00:00:00\", \"2010-02-10T00:00:00\", \"2010-02-11T00:00:00\", \"2010-02-12T00:00:00\", \"2010-02-13T00:00:00\", \"2010-02-14T00:00:00\", \"2010-02-15T00:00:00\", \"2010-02-16T00:00:00\", \"2010-02-17T00:00:00\", \"2010-02-18T00:00:00\", \"2010-02-19T00:00:00\", \"2010-02-20T00:00:00\", \"2010-02-21T00:00:00\", \"2010-02-22T00:00:00\", \"2010-02-23T00:00:00\", \"2010-02-24T00:00:00\", \"2010-02-25T00:00:00\", \"2010-02-26T00:00:00\", \"2010-02-27T00:00:00\", \"2010-02-28T00:00:00\", \"2010-03-01T00:00:00\", \"2010-03-02T00:00:00\", \"2010-03-03T00:00:00\", \"2010-03-04T00:00:00\", \"2010-03-05T00:00:00\", \"2010-03-06T00:00:00\", \"2010-03-07T00:00:00\", \"2010-03-08T00:00:00\", \"2010-03-09T00:00:00\", \"2010-03-10T00:00:00\", \"2010-03-11T00:00:00\", \"2010-03-12T00:00:00\", \"2010-03-13T00:00:00\", \"2010-03-14T00:00:00\", \"2010-03-15T00:00:00\", \"2010-03-16T00:00:00\", \"2010-03-17T00:00:00\", \"2010-03-18T00:00:00\", \"2010-03-19T00:00:00\", \"2010-03-20T00:00:00\", \"2010-03-21T00:00:00\", \"2010-03-22T00:00:00\", \"2010-03-23T00:00:00\", \"2010-03-24T00:00:00\", \"2010-03-25T00:00:00\", \"2010-03-26T00:00:00\", \"2010-03-27T00:00:00\", \"2010-03-28T00:00:00\", \"2010-03-29T00:00:00\", \"2010-03-30T00:00:00\", \"2010-03-31T00:00:00\", \"2010-04-01T00:00:00\", \"2010-04-02T00:00:00\", \"2010-04-03T00:00:00\", \"2010-04-04T00:00:00\", \"2010-04-05T00:00:00\", \"2010-04-06T00:00:00\", \"2010-04-07T00:00:00\", \"2010-04-08T00:00:00\", \"2010-04-09T00:00:00\", \"2010-04-10T00:00:00\", \"2010-04-11T00:00:00\", \"2010-04-12T00:00:00\", \"2010-04-13T00:00:00\", \"2010-04-14T00:00:00\", \"2010-04-15T00:00:00\", \"2010-04-16T00:00:00\", \"2010-04-17T00:00:00\", \"2010-04-18T00:00:00\", \"2010-04-19T00:00:00\", \"2010-04-20T00:00:00\", \"2010-04-21T00:00:00\", \"2010-04-22T00:00:00\", \"2010-04-23T00:00:00\", \"2010-04-24T00:00:00\", \"2010-04-25T00:00:00\", \"2010-04-26T00:00:00\", \"2010-04-27T00:00:00\", \"2010-04-28T00:00:00\", \"2010-04-29T00:00:00\", \"2010-04-30T00:00:00\", \"2010-05-01T00:00:00\", \"2010-05-02T00:00:00\", \"2010-05-03T00:00:00\", \"2010-05-04T00:00:00\", \"2010-05-05T00:00:00\", \"2010-05-06T00:00:00\", \"2010-05-07T00:00:00\", \"2010-05-08T00:00:00\", \"2010-05-09T00:00:00\", \"2010-05-10T00:00:00\", \"2010-05-11T00:00:00\", \"2010-05-12T00:00:00\", \"2010-05-13T00:00:00\", \"2010-05-14T00:00:00\", \"2010-05-15T00:00:00\", \"2010-05-16T00:00:00\", \"2010-05-17T00:00:00\", \"2010-05-18T00:00:00\", \"2010-05-19T00:00:00\", \"2010-05-20T00:00:00\", \"2010-05-21T00:00:00\", \"2010-05-22T00:00:00\", \"2010-05-23T00:00:00\", \"2010-05-24T00:00:00\", \"2010-05-25T00:00:00\", \"2010-05-26T00:00:00\", \"2010-05-27T00:00:00\", \"2010-05-28T00:00:00\", \"2010-05-29T00:00:00\", \"2010-05-30T00:00:00\", \"2010-05-31T00:00:00\", \"2010-06-01T00:00:00\", \"2010-06-02T00:00:00\", \"2010-06-03T00:00:00\", \"2010-06-04T00:00:00\", \"2010-06-05T00:00:00\", \"2010-06-06T00:00:00\", \"2010-06-07T00:00:00\", \"2010-06-08T00:00:00\", \"2010-06-09T00:00:00\", \"2010-06-10T00:00:00\", \"2010-06-11T00:00:00\", \"2010-06-12T00:00:00\", \"2010-06-13T00:00:00\", \"2010-06-14T00:00:00\", \"2010-06-15T00:00:00\", \"2010-06-16T00:00:00\", \"2010-06-17T00:00:00\", \"2010-06-18T00:00:00\", \"2010-06-19T00:00:00\", \"2010-06-20T00:00:00\", \"2010-06-21T00:00:00\", \"2010-06-22T00:00:00\", \"2010-06-23T00:00:00\", \"2010-06-24T00:00:00\", \"2010-06-25T00:00:00\", \"2010-06-26T00:00:00\", \"2010-06-27T00:00:00\", \"2010-06-28T00:00:00\", \"2010-06-29T00:00:00\", \"2010-06-30T00:00:00\", \"2010-07-01T00:00:00\", \"2010-07-02T00:00:00\", \"2010-07-03T00:00:00\", \"2010-07-04T00:00:00\", \"2010-07-05T00:00:00\", \"2010-07-06T00:00:00\", \"2010-07-07T00:00:00\", \"2010-07-08T00:00:00\", \"2010-07-09T00:00:00\", \"2010-07-10T00:00:00\", \"2010-07-11T00:00:00\", \"2010-07-12T00:00:00\", \"2010-07-13T00:00:00\", \"2010-07-14T00:00:00\", \"2010-07-15T00:00:00\", \"2010-07-16T00:00:00\", \"2010-07-17T00:00:00\", \"2010-07-18T00:00:00\", \"2010-07-19T00:00:00\", \"2010-07-20T00:00:00\", \"2010-07-21T00:00:00\", \"2010-07-22T00:00:00\", \"2010-07-23T00:00:00\", \"2010-07-24T00:00:00\", \"2010-07-25T00:00:00\", \"2010-07-26T00:00:00\", \"2010-07-27T00:00:00\", \"2010-07-28T00:00:00\", \"2010-07-29T00:00:00\", \"2010-07-30T00:00:00\", \"2010-07-31T00:00:00\", \"2010-08-01T00:00:00\", \"2010-08-02T00:00:00\", \"2010-08-03T00:00:00\", \"2010-08-04T00:00:00\", \"2010-08-05T00:00:00\", \"2010-08-06T00:00:00\", \"2010-08-07T00:00:00\", \"2010-08-08T00:00:00\", \"2010-08-09T00:00:00\", \"2010-08-10T00:00:00\", \"2010-08-11T00:00:00\", \"2010-08-12T00:00:00\", \"2010-08-13T00:00:00\", \"2010-08-14T00:00:00\", \"2010-08-15T00:00:00\", \"2010-08-16T00:00:00\", \"2010-08-17T00:00:00\", \"2010-08-18T00:00:00\", \"2010-08-19T00:00:00\", \"2010-08-20T00:00:00\", \"2010-08-21T00:00:00\", \"2010-08-22T00:00:00\", \"2010-08-23T00:00:00\", \"2010-08-24T00:00:00\", \"2010-08-25T00:00:00\", \"2010-08-26T00:00:00\", \"2010-08-27T00:00:00\", \"2010-08-28T00:00:00\", \"2010-08-29T00:00:00\", \"2010-08-30T00:00:00\", \"2010-08-31T00:00:00\", \"2010-09-01T00:00:00\", \"2010-09-02T00:00:00\", \"2010-09-03T00:00:00\", \"2010-09-04T00:00:00\", \"2010-09-05T00:00:00\", \"2010-09-06T00:00:00\", \"2010-09-07T00:00:00\", \"2010-09-08T00:00:00\", \"2010-09-09T00:00:00\", \"2010-09-10T00:00:00\", \"2010-09-11T00:00:00\", \"2010-09-12T00:00:00\", \"2010-09-13T00:00:00\", \"2010-09-14T00:00:00\", \"2010-09-15T00:00:00\", \"2010-09-16T00:00:00\", \"2010-09-17T00:00:00\", \"2010-09-18T00:00:00\", \"2010-09-19T00:00:00\", \"2010-09-20T00:00:00\", \"2010-09-21T00:00:00\", \"2010-09-22T00:00:00\", \"2010-09-23T00:00:00\", \"2010-09-24T00:00:00\", \"2010-09-25T00:00:00\", \"2010-09-26T00:00:00\", \"2010-09-27T00:00:00\", \"2010-09-28T00:00:00\", \"2010-09-29T00:00:00\", \"2010-09-30T00:00:00\", \"2010-10-01T00:00:00\", \"2010-10-02T00:00:00\", \"2010-10-03T00:00:00\", \"2010-10-04T00:00:00\", \"2010-10-05T00:00:00\", \"2010-10-06T00:00:00\", \"2010-10-07T00:00:00\", \"2010-10-08T00:00:00\", \"2010-10-09T00:00:00\", \"2010-10-10T00:00:00\", \"2010-10-11T00:00:00\", \"2010-10-12T00:00:00\", \"2010-10-13T00:00:00\", \"2010-10-14T00:00:00\", \"2010-10-15T00:00:00\", \"2010-10-16T00:00:00\", \"2010-10-17T00:00:00\", \"2010-10-18T00:00:00\", \"2010-10-19T00:00:00\", \"2010-10-20T00:00:00\", \"2010-10-21T00:00:00\", \"2010-10-22T00:00:00\", \"2010-10-23T00:00:00\", \"2010-10-24T00:00:00\", \"2010-10-25T00:00:00\", \"2010-10-26T00:00:00\", \"2010-10-27T00:00:00\", \"2010-10-28T00:00:00\", \"2010-10-29T00:00:00\", \"2010-10-30T00:00:00\", \"2010-10-31T00:00:00\", \"2010-11-01T00:00:00\", \"2010-11-02T00:00:00\", \"2010-11-03T00:00:00\", \"2010-11-04T00:00:00\", \"2010-11-05T00:00:00\", \"2010-11-06T00:00:00\", \"2010-11-07T00:00:00\", \"2010-11-08T00:00:00\", \"2010-11-09T00:00:00\", \"2010-11-10T00:00:00\", \"2010-11-11T00:00:00\", \"2010-11-12T00:00:00\", \"2010-11-13T00:00:00\", \"2010-11-14T00:00:00\", \"2010-11-15T00:00:00\", \"2010-11-16T00:00:00\", \"2010-11-17T00:00:00\", \"2010-11-18T00:00:00\", \"2010-11-19T00:00:00\", \"2010-11-20T00:00:00\", \"2010-11-21T00:00:00\", \"2010-11-22T00:00:00\", \"2010-11-23T00:00:00\", \"2010-11-24T00:00:00\", \"2010-11-25T00:00:00\", \"2010-11-26T00:00:00\", \"2010-11-27T00:00:00\", \"2010-11-28T00:00:00\", \"2010-11-29T00:00:00\", \"2010-11-30T00:00:00\", \"2010-12-01T00:00:00\", \"2010-12-02T00:00:00\", \"2010-12-03T00:00:00\", \"2010-12-04T00:00:00\", \"2010-12-05T00:00:00\", \"2010-12-06T00:00:00\", \"2010-12-07T00:00:00\", \"2010-12-08T00:00:00\", \"2010-12-09T00:00:00\", \"2010-12-10T00:00:00\", \"2010-12-11T00:00:00\", \"2010-12-12T00:00:00\", \"2010-12-13T00:00:00\", \"2010-12-14T00:00:00\", \"2010-12-15T00:00:00\", \"2010-12-16T00:00:00\", \"2010-12-17T00:00:00\", \"2010-12-18T00:00:00\", \"2010-12-19T00:00:00\", \"2010-12-20T00:00:00\", \"2010-12-21T00:00:00\", \"2010-12-22T00:00:00\", \"2010-12-23T00:00:00\", \"2010-12-24T00:00:00\", \"2010-12-25T00:00:00\", \"2010-12-26T00:00:00\", \"2010-12-27T00:00:00\", \"2010-12-28T00:00:00\", \"2010-12-29T00:00:00\", \"2010-12-30T00:00:00\", \"2010-12-31T00:00:00\", \"2011-01-01T00:00:00\", \"2011-01-02T00:00:00\", \"2011-01-03T00:00:00\", \"2011-01-04T00:00:00\", \"2011-01-05T00:00:00\", \"2011-01-06T00:00:00\", \"2011-01-07T00:00:00\", \"2011-01-08T00:00:00\", \"2011-01-09T00:00:00\", \"2011-01-10T00:00:00\", \"2011-01-11T00:00:00\", \"2011-01-12T00:00:00\", \"2011-01-13T00:00:00\", \"2011-01-14T00:00:00\", \"2011-01-15T00:00:00\", \"2011-01-16T00:00:00\", \"2011-01-17T00:00:00\", \"2011-01-18T00:00:00\", \"2011-01-19T00:00:00\", \"2011-01-20T00:00:00\", \"2011-01-21T00:00:00\", \"2011-01-22T00:00:00\", \"2011-01-23T00:00:00\", \"2011-01-24T00:00:00\", \"2011-01-25T00:00:00\", \"2011-01-26T00:00:00\", \"2011-01-27T00:00:00\", \"2011-01-28T00:00:00\", \"2011-01-29T00:00:00\", \"2011-01-30T00:00:00\", \"2011-01-31T00:00:00\", \"2011-02-01T00:00:00\", \"2011-02-02T00:00:00\", \"2011-02-03T00:00:00\", \"2011-02-04T00:00:00\", \"2011-02-05T00:00:00\", \"2011-02-06T00:00:00\", \"2011-02-07T00:00:00\", \"2011-02-08T00:00:00\", \"2011-02-09T00:00:00\", \"2011-02-10T00:00:00\", \"2011-02-11T00:00:00\", \"2011-02-12T00:00:00\", \"2011-02-13T00:00:00\", \"2011-02-14T00:00:00\", \"2011-02-15T00:00:00\", \"2011-02-16T00:00:00\", \"2011-02-17T00:00:00\", \"2011-02-18T00:00:00\", \"2011-02-19T00:00:00\", \"2011-02-20T00:00:00\", \"2011-02-21T00:00:00\", \"2011-02-22T00:00:00\", \"2011-02-23T00:00:00\", \"2011-02-24T00:00:00\", \"2011-02-25T00:00:00\", \"2011-02-26T00:00:00\", \"2011-02-27T00:00:00\", \"2011-02-28T00:00:00\", \"2011-03-01T00:00:00\", \"2011-03-02T00:00:00\", \"2011-03-03T00:00:00\", \"2011-03-04T00:00:00\", \"2011-03-05T00:00:00\", \"2011-03-06T00:00:00\", \"2011-03-07T00:00:00\", \"2011-03-08T00:00:00\", \"2011-03-09T00:00:00\", \"2011-03-10T00:00:00\", \"2011-03-11T00:00:00\", \"2011-03-12T00:00:00\", \"2011-03-13T00:00:00\", \"2011-03-14T00:00:00\", \"2011-03-15T00:00:00\", \"2011-03-16T00:00:00\", \"2011-03-17T00:00:00\", \"2011-03-18T00:00:00\", \"2011-03-19T00:00:00\", \"2011-03-20T00:00:00\", \"2011-03-21T00:00:00\", \"2011-03-22T00:00:00\", \"2011-03-23T00:00:00\", \"2011-03-24T00:00:00\", \"2011-03-25T00:00:00\", \"2011-03-26T00:00:00\", \"2011-03-27T00:00:00\", \"2011-03-28T00:00:00\", \"2011-03-29T00:00:00\", \"2011-03-30T00:00:00\", \"2011-03-31T00:00:00\", \"2011-04-01T00:00:00\", \"2011-04-02T00:00:00\", \"2011-04-03T00:00:00\", \"2011-04-04T00:00:00\", \"2011-04-05T00:00:00\", \"2011-04-06T00:00:00\", \"2011-04-07T00:00:00\", \"2011-04-08T00:00:00\", \"2011-04-09T00:00:00\", \"2011-04-10T00:00:00\", \"2011-04-11T00:00:00\", \"2011-04-12T00:00:00\", \"2011-04-13T00:00:00\", \"2011-04-14T00:00:00\", \"2011-04-15T00:00:00\", \"2011-04-16T00:00:00\", \"2011-04-17T00:00:00\", \"2011-04-18T00:00:00\", \"2011-04-19T00:00:00\", \"2011-04-20T00:00:00\", \"2011-04-21T00:00:00\", \"2011-04-22T00:00:00\", \"2011-04-23T00:00:00\", \"2011-04-24T00:00:00\", \"2011-04-25T00:00:00\", \"2011-04-26T00:00:00\", \"2011-04-27T00:00:00\", \"2011-04-28T00:00:00\", \"2011-04-29T00:00:00\", \"2011-04-30T00:00:00\", \"2011-05-01T00:00:00\", \"2011-05-02T00:00:00\", \"2011-05-03T00:00:00\", \"2011-05-04T00:00:00\", \"2011-05-05T00:00:00\", \"2011-05-06T00:00:00\", \"2011-05-07T00:00:00\", \"2011-05-08T00:00:00\", \"2011-05-09T00:00:00\", \"2011-05-10T00:00:00\", \"2011-05-11T00:00:00\", \"2011-05-12T00:00:00\", \"2011-05-13T00:00:00\", \"2011-05-14T00:00:00\", \"2011-05-15T00:00:00\", \"2011-05-16T00:00:00\", \"2011-05-17T00:00:00\", \"2011-05-18T00:00:00\", \"2011-05-19T00:00:00\", \"2011-05-20T00:00:00\", \"2011-05-21T00:00:00\", \"2011-05-22T00:00:00\", \"2011-05-23T00:00:00\", \"2011-05-24T00:00:00\", \"2011-05-25T00:00:00\", \"2011-05-26T00:00:00\", \"2011-05-27T00:00:00\", \"2011-05-28T00:00:00\", \"2011-05-29T00:00:00\", \"2011-05-30T00:00:00\", \"2011-05-31T00:00:00\", \"2011-06-01T00:00:00\", \"2011-06-02T00:00:00\", \"2011-06-03T00:00:00\", \"2011-06-04T00:00:00\", \"2011-06-05T00:00:00\", \"2011-06-06T00:00:00\", \"2011-06-07T00:00:00\", \"2011-06-08T00:00:00\", \"2011-06-09T00:00:00\", \"2011-06-10T00:00:00\", \"2011-06-11T00:00:00\", \"2011-06-12T00:00:00\", \"2011-06-13T00:00:00\", \"2011-06-14T00:00:00\", \"2011-06-15T00:00:00\", \"2011-06-16T00:00:00\", \"2011-06-17T00:00:00\", \"2011-06-18T00:00:00\", \"2011-06-19T00:00:00\", \"2011-06-20T00:00:00\", \"2011-06-21T00:00:00\", \"2011-06-22T00:00:00\", \"2011-06-23T00:00:00\", \"2011-06-24T00:00:00\", \"2011-06-25T00:00:00\", \"2011-06-26T00:00:00\", \"2011-06-27T00:00:00\", \"2011-06-28T00:00:00\", \"2011-06-29T00:00:00\", \"2011-06-30T00:00:00\", \"2011-07-01T00:00:00\", \"2011-07-02T00:00:00\", \"2011-07-03T00:00:00\", \"2011-07-04T00:00:00\", \"2011-07-05T00:00:00\", \"2011-07-06T00:00:00\", \"2011-07-07T00:00:00\", \"2011-07-08T00:00:00\", \"2011-07-09T00:00:00\", \"2011-07-10T00:00:00\", \"2011-07-11T00:00:00\", \"2011-07-12T00:00:00\", \"2011-07-13T00:00:00\", \"2011-07-14T00:00:00\", \"2011-07-15T00:00:00\", \"2011-07-16T00:00:00\", \"2011-07-17T00:00:00\", \"2011-07-18T00:00:00\", \"2011-07-19T00:00:00\", \"2011-07-20T00:00:00\", \"2011-07-21T00:00:00\", \"2011-07-22T00:00:00\", \"2011-07-23T00:00:00\", \"2011-07-24T00:00:00\", \"2011-07-25T00:00:00\", \"2011-07-26T00:00:00\", \"2011-07-27T00:00:00\", \"2011-07-28T00:00:00\", \"2011-07-29T00:00:00\", \"2011-07-30T00:00:00\", \"2011-07-31T00:00:00\", \"2011-08-01T00:00:00\", \"2011-08-02T00:00:00\", \"2011-08-03T00:00:00\", \"2011-08-04T00:00:00\", \"2011-08-05T00:00:00\", \"2011-08-06T00:00:00\"], \"y\": [700.0, 3050.0, 4650.0, 4879.0, 6150.0, 6511.0, 6800.0, 5600.0, 5450.0, 5500.0, 6525.0, 6100.0, 5200.0, 5050.0, 4650.0, 10550.0, 9600.0, 5800.0, 5000.0, 5600.0, 6650.0, 5850.0, 7900.0, 5750.0, 6450.0, 7686.520000000001, 5950.0, 6300.0, 6100.0, 7648.0, 7600.0, 8900.0, 6000.0, 7200.04, 5950.0, 6200.0, 6800.0, 7300.0, 7600.0, 5850.0, 5900.0, 7000.0, 6100.0, 5700.0, 7100.0, 5400.0, 5300.0, 5250.0, 5350.0, 7550.0, 5300.0, 5250.0, 5400.0, 5650.0, 6450.0, 6000.0, 5850.0, 5450.0, 7300.0, 5400.0, 5350.0, 5700.0, 6050.0, 6400.0, 5500.0, 6150.0, 8450.0, 5700.0, 6400.0, 6100.0, 6500.0, 2500.0, 6500.0, 6500.0, 5250.0, 5850.0, 7250.0, 5300.0, 6950.0, 5800.0, 6000.0, 7100.0, 5700.0, 5750.0, 5800.0, 5650.0, 7350.0, 5450.0, 5000.0, 5250.0, 4950.0, 5400.0, 6350.0, 6850.0, 5800.0, 6200.0, 5650.0, 6150.0, 5600.0, 6482.51, 6350.0, 11700.0, 6200.0, 6050.0, 3750.0, 5750.0, 5900.0, 6350.0, 5200.0, 5850.0, 7400.0, 6550.0, 6050.0, 7049.939999999999, 5410.0, 7900.0, 7250.0, 6750.0, 6100.0, 5350.0, 3900.0, 4250.0, 6100.0, 6500.0, 5700.01, 7149.99, 7300.0, 5950.0, 6350.0, 5900.0, 4300.0, 6000.0, 4100.0, 3050.0, 1600.0, 5000.0, 5450.0, 6250.0, 5950.0, 4750.0, 8300.0, 5450.0, 4800.0, 3600.0, 5550.0, 3550.0, 3300.0, 1500.0, 1400.0, 800.0, 4100.0, 4550.0, 4100.0, 4450.0, 4300.0, 3900.0, 3600.0, 4200.0, 3550.0, 3950.0, 4000.0, 4350.0, 3900.0, 4050.0, 6800.0, 3800.0, 4898.98, 4400.0, 4500.0, 4200.0, 2350.0, 4200.0, 4345.0, 3800.0, 4200.0, 4100.0, 4450.0, 3950.0, 4200.0, 3450.0, 3700.0, 4300.0, 4050.0, 4150.0, 3850.0, 3900.0, 3450.0, 2250.0, 3550.0, 2350.0, 200.0, 3500.0, 9549.67, 4100.0, 3000.0, 3800.0, 3650.0, 1600.0, 1050.0, 3700.0, 2050.0, 1050.0, 800.0, 850.0, 1400.0, 1150.0, 600.0, 4050.0, 4350.0, 4500.0, 9549.53, 4000.0, 5050.0, 3750.0, 3500.0, 3150.0, 4250.0, 3150.0, 1300.0, 950.0, 850.0, 500.0, 900.0, 1100.0, 700.0, 350.0, 750.0, 750.0, 2500.0, 4748.06, 1450.0, 3750.0, 3900.0, 4900.0, 4600.0, 3900.0, 3300.0, 3750.0, 3200.0, 3800.0, 3400.0, 4550.0, 3450.0, 2700.0, 3350.0, 3350.0, 3450.0, 3750.0, 3700.0, 2200.0, 3601.0, 9250.000000000002, 3900.0, 3700.0, 3900.0, 3850.0, 3250.0, 1800.0, 4850.0, 5850.0, 5000.0, 5150.0, 4250.0, 6550.0, 4250.0, 4100.0, 4100.0, 2900.0, 2650.0, 2750.0, 3050.0, 3000.0, 3500.0, 3950.0, 3850.0, 3700.0, 7950.0, 2850.0, 3450.0, 3550.0, 12700.0, 2850.0, 4050.0, 5600.0, 9799.880000000001, 4899.76, 16450.0, 4450.0, 15350.0, 3800.0, 3550.0, 16200.0, 3300.0, 4350.0, 3000.0, 2300.0, 1250.0, 1650.0, 3100.0, 18650.0, 2850.0, 3100.0, 3450.0, 3650.0, 3200.0, 3900.0, 93200.0, 3300.0, 4600.0, 3950.0, 4800.0, 4850.0, 4600.0, 3950.0, 47850.0, 4300.0, 3650.0, 5300.0, 4800.0, 4650.0, 4500.0, 4200.0, 3700.0, 3550.0, 3000.0, 3750.0, 13700.0, 4700.0, 4400.0, 1800.0, 4100.0, 5290.0, 5600.0, 6750.0, 7155.0, 5200.0, 5600.0, 10700.0, 5700.0, 37645.7, 10959.0, 7650.0, 8749.5, 11250.0, 9950.0, 8750.0, 8800.0, 8100.0, 7700.0, 7700.0, 7500.0, 8700.0, 8600.0, 6850.0, 8550.0, 7050.0, 6900.0, 4550.0, 4600.0, 6850.0, 27204.350000000002, 7100.0, 5700.0, 4900.0, 4750.0, 4750.0, 7150.0, 5900.0, 17149.999999999996, 5651.0, 5355.0, 5350.74, 4701.0, 4750.0, 5250.0, 5700.0, 7250.0, 7100.0, 5149.0, 6399.0, 5850.0, 11750.0, 8324.0, 7050.0, 8050.0, 8350.0, 10000.0, 8650.0, 9250.0, 7250.0, 11300.0, 10650.0, 20850.000000000004, 8850.0, 9700.0, 12550.0, 28750.44, 36650.0, 10200.0, 10900.0, 16099.0, 16133.17, 10763.350000000002, 8564.369999999999, 31801.0, 10400.0, 7500.0, 9100.0, 14016.83, 23500.0, 9950.0, 11050.0, 12250.0, 17000.0, 7201.0, 11300.0, 8850.0, 9150.0, 13550.0, 25950.0, 5950.0, 30097.390000000003, 12600.0, 13445.17, 9500.0, 8650.0, 8450.0, 4550.0, 7800.0, 5900.0, 4850.0, 5951.0, 6300.0, 8960.0, 11396.0, 10756.0, 7201.0, 7850.0, 11233.51, 7250.0, 23250.0, 11100.0, 9300.0, 8900.0, 9350.0, 8250.0, 9224.2, 7300.0, 6250.0, 7123.48, 7850.0, 9358.74, 8580.630000000001, 7650.04, 10038.74, 19353.599999999995, 24754.08, 17755.66, 19602.850000000002, 9560.0, 12096.890000000001, 65631.09, 19685.53, 12193.88, 16136.050000000489, 24966.19, 17882.0, 15769.8, 24542.850000000002, 8025.049999999999, 8755.0, 20740.9, 16303.070000000003, 13550.98, 14067.720000000001, 8293.71, 37517.32, 10846.6, 7752.0, 12700.0, 22700.02, 24159.69, 16851.0, 28572.0, 20760.260000000002, 11347.880000000001, 12863.779999999999, 6400.1, 17314.11, 14411.56, 20512.82, 6764.64, 6788.639999999999, 15546.48, 14062.0, 20423.61, 11833.0, 45243.98, 34674.880000000005, 28788.36, 12436.0, 14700.0, 23918.97, 18442.81, 35825.58000000001, 35566.119999999995, 11812.3, 12860.0, 13107.25, 13905.41, 15556.84, 37877.35, 10650.0, 13103.31, 31049.800000000003, 16000.0, 35174.21, 27866.479999999996, 15420.24, 18924.09, 19832.37, 23896.010000000002, 19852.989999999998, 30643.989999999998, 23467.77, 16517.0, 29051.78, 26288.0, 12052.09, 19032.44, 28035.0, 28108.37, 17193.0, 42091.369999999995, 13084.0, 19525.05, 33872.08999999999, 55960.380000000005, 31617.89, 60296.92, 43912.0, 22600.0, 47003.009999999995, 25726.0, 31429.15, 13431.94, 13805.0, 19883.87, 27587.0, 129969.59000000004, 52445.740000000005, 64193.15000000588, 96827.7200000002, 45480.010000000046, 26868.39999999997, 34682.23999999996, 34684.19999999999, 20806.869999999984, 25635.829999999965, 36578.809999999976, 24321.42999999998, 19590.469999999987, 35535.490000000005, 70950.74000000003, 23202.37999999997, 71363.94, 19345.61, 22137.539999999986, 19144.82, 70664.35999999997, 69873.12000000008, 29978.769999999837, 20927.3, 29494.029999999984, 20043.009999999977, 21163.340000000004, 16905.51, 49104.43, 23599.07, 40225.98999999998, 19674.329999999994, 31256.299999999992, 17771.429999999997, 17576.28, 48009.78, 30514.51999999999, 31086.939999999988, 19636.609999999993, 24065.659999999993, 36345.639999999985, 19259.439999999995, 21542.909999999996, 21286.469999999994, 19339.759999999995, 20157.009999999987, 29759.889999999985, 18468.0899997, 14156.500000000004, 18965.55000039998, 38511.12999889999, 27666.729998699986, 25668.8400001, 23543.779999999984, 22824.91999999999, 76591.53, 75996.0999984, 21452.489999999998, 20700.199998299995, 31543.969998199977, 17101.189997999994, 12996.600000000006, 25211.60000029996, 74461.96000010004, 26866.41999999999, 33680.75999999997, 33427.25999999996, 51493.67000000003, 34105.98999999998, 40015.209603519994, 36583.88999999999, 22596.000000099993, 39836.64999999998, 86639.54, 22419.910000000003, 32411.54999999997, 26405.869999999963, 38427.43999999997, 81127.52992811997, 34065.61999999999, 35365.18999999999, 54010.442805159706, 165263.82776813014, 39118.467766249996, 79528.64000099, 120558.07000010002, 78991.69000109, 87882.31, 101684.26000000001, 121961.82999999999, 74421.39999999998, 51441.50000108999, 54377.07000000001, 42938.3, 87281.09000000001, 75914.38999999998, 85577.76000109, 22103.91999999999, 42768.37000000002, 49357.69999999996, 49232.91, 97629.87999999999, 51096.15, 34180.999999999985, 71304.45, 54121.090000000004, 68835.56, 84272.51999999997, 98880.69999999994, 45730.930000000015, 37478.40999999999, 51331.48999999999, 33603.579999999994, 43867.32000000001, 38990.83999999999, 113168.49108788001, 39498.55, 104214.93000000002, 44220.990000000005, 282648.14999999997, 32337.75999999998, 36821.13999999997, 25633.949999999993, 21629.379999999994, 32227.249999999993, 37858.500000000015, 64183.3700000014, 34029.73000000074, 38314.15000000005, 33062.06108787998, 30529.129999999972, 37438.98999999999, 33258.22999999992, 25774.479999999963, 39004.30999999999, 32492.369999997263, 46287.19000000007, 79864.74000000012, 27298.32999999998, 26919.099999999988, 37918.73999999997, 55394.64000000007, 42382.170000000006, 48131.77000000006, 30529.079999999958, 51657.29, 27206.829999999998, 103618.03613297011, 69769.3543440201, 31812.505285659943, 35056.21727151995, 21368.799999999985, 53615.09058192006, 22215.51247705991, 67891.25229398011, 29012.56152495993, 35358.42373355992, 29512.173569459956, 24943.83544415998, 36829.906742749976, 63669.19693557016, 35795.965713440346, 57138.43645980016, 29396.13847399992, 16069.848610849991, 18335.637480649977, 30639.657430519987, 18472.48903786, 58656.806641330084, 30374.153957649927, 86575.9668359101, 38568.962385519946, 29212.393350609942, 0.0, 0.0, 0.0, 0.0, 0.0, 0.0, 0.0, 0.0, 0.0, 0.0, 0.0, 0.0, 0.0, 0.0, 0.0, 0.0, 0.0, 0.0, 0.0, 0.0, 0.0, 0.0, 0.0, 0.0, 0.0, 0.0, 0.0, 0.0, 0.0, 0.0, 0.0, 0.0, 0.0, 0.0, 0.0, 0.0, 0.0, 0.0, 0.0, 0.0, 0.0, 0.0, 0.0, 0.0, 0.0, 0.0, 0.0, 0.0, 0.0, 0.0, 0.0, 0.0, 0.0, 0.0, 0.0, 0.0, 0.0, 0.0, 0.0, 0.0, 0.0, 0.0, 0.0, 0.0, 0.0, 0.0, 0.0, 0.0, 0.0, 0.0, 0.0, 0.0, 0.0, 0.0, 0.0, 0.0, 0.0, 0.0, 0.0, 0.0, 0.0, 0.0, 0.0, 0.0, 0.0, 0.0, 0.0, 0.0, 0.0, 0.0, 0.0, 0.0, 0.0, 0.0, 0.0, 0.0, 0.0, 0.0, 0.0, 0.0, 0.0, 0.0, 0.0, 0.0, 0.0, 0.0, 0.0, 0.0, 0.0, 0.0, 0.0, 0.0, 0.0, 0.0, 0.0, 0.0, 0.0, 0.0, 0.0, 0.0, 0.0, 0.0, 0.0, 0.0, 0.0, 0.0, 0.0, 0.0, 0.0, 0.0, 0.0, 0.0, 0.0, 0.0, 0.0, 0.0, 0.0, 0.0, 0.0, 0.0, 0.0, 0.0, 0.0, 0.0, 0.0, 0.0, 0.0, 0.0, 0.0, 0.0, 0.0, 0.0, 0.0, 0.0, 0.0, 0.0, 0.0, 0.0, 0.0, 0.0, 0.0, 0.0, 0.0, 0.0, 0.0, 0.0, 0.0, 0.0, 0.0, 0.0, 0.0, 0.0, 0.0, 0.0, 0.0, 0.0, 0.0, 0.0, 0.0, 0.0, 0.0, 0.0, 0.0, 0.0, 0.0, 0.0, 0.0, 0.0, 0.0, 0.0, 0.0, 0.0, 0.0, 0.0, 0.0, 0.0, 0.0, 0.0, 0.0, 0.0, 0.0, 0.0, 0.0, 0.0, 0.0, 0.0, 0.0, 0.0, 0.0, 0.0, 0.0, 0.0, 0.0, 0.0, 0.0, 0.0, 0.0, 0.0]}, {\"mode\": \"lines+markers\", \"name\": \"UTXO Dead\", \"type\": \"scatter\", \"x\": [\"2009-01-09T00:00:00\", \"2009-01-10T00:00:00\", \"2009-01-11T00:00:00\", \"2009-01-12T00:00:00\", \"2009-01-13T00:00:00\", \"2009-01-14T00:00:00\", \"2009-01-15T00:00:00\", \"2009-01-16T00:00:00\", \"2009-01-17T00:00:00\", \"2009-01-18T00:00:00\", \"2009-01-19T00:00:00\", \"2009-01-20T00:00:00\", \"2009-01-21T00:00:00\", \"2009-01-22T00:00:00\", \"2009-01-23T00:00:00\", \"2009-01-24T00:00:00\", \"2009-01-25T00:00:00\", \"2009-01-26T00:00:00\", \"2009-01-27T00:00:00\", \"2009-01-28T00:00:00\", \"2009-01-29T00:00:00\", \"2009-01-30T00:00:00\", \"2009-01-31T00:00:00\", \"2009-02-01T00:00:00\", \"2009-02-02T00:00:00\", \"2009-02-03T00:00:00\", \"2009-02-04T00:00:00\", \"2009-02-05T00:00:00\", \"2009-02-06T00:00:00\", \"2009-02-07T00:00:00\", \"2009-02-08T00:00:00\", \"2009-02-09T00:00:00\", \"2009-02-10T00:00:00\", \"2009-02-11T00:00:00\", \"2009-02-12T00:00:00\", \"2009-02-13T00:00:00\", \"2009-02-14T00:00:00\", \"2009-02-15T00:00:00\", \"2009-02-16T00:00:00\", \"2009-02-17T00:00:00\", \"2009-02-18T00:00:00\", \"2009-02-19T00:00:00\", \"2009-02-20T00:00:00\", \"2009-02-21T00:00:00\", \"2009-02-22T00:00:00\", \"2009-02-23T00:00:00\", \"2009-02-24T00:00:00\", \"2009-02-25T00:00:00\", \"2009-02-26T00:00:00\", \"2009-02-27T00:00:00\", \"2009-02-28T00:00:00\", \"2009-03-01T00:00:00\", \"2009-03-02T00:00:00\", \"2009-03-03T00:00:00\", \"2009-03-04T00:00:00\", \"2009-03-05T00:00:00\", \"2009-03-06T00:00:00\", \"2009-03-07T00:00:00\", \"2009-03-08T00:00:00\", \"2009-03-09T00:00:00\", \"2009-03-10T00:00:00\", \"2009-03-11T00:00:00\", \"2009-03-12T00:00:00\", \"2009-03-13T00:00:00\", \"2009-03-14T00:00:00\", \"2009-03-15T00:00:00\", \"2009-03-16T00:00:00\", \"2009-03-17T00:00:00\", \"2009-03-18T00:00:00\", \"2009-03-19T00:00:00\", \"2009-03-20T00:00:00\", \"2009-03-21T00:00:00\", \"2009-03-22T00:00:00\", \"2009-03-23T00:00:00\", \"2009-03-24T00:00:00\", \"2009-03-25T00:00:00\", \"2009-03-26T00:00:00\", \"2009-03-27T00:00:00\", \"2009-03-28T00:00:00\", \"2009-03-29T00:00:00\", \"2009-03-30T00:00:00\", \"2009-03-31T00:00:00\", \"2009-04-01T00:00:00\", \"2009-04-02T00:00:00\", \"2009-04-03T00:00:00\", \"2009-04-04T00:00:00\", \"2009-04-05T00:00:00\", \"2009-04-06T00:00:00\", \"2009-04-07T00:00:00\", \"2009-04-08T00:00:00\", \"2009-04-09T00:00:00\", \"2009-04-10T00:00:00\", \"2009-04-11T00:00:00\", \"2009-04-12T00:00:00\", \"2009-04-13T00:00:00\", \"2009-04-14T00:00:00\", \"2009-04-15T00:00:00\", \"2009-04-16T00:00:00\", \"2009-04-17T00:00:00\", \"2009-04-18T00:00:00\", \"2009-04-19T00:00:00\", \"2009-04-20T00:00:00\", \"2009-04-21T00:00:00\", \"2009-04-22T00:00:00\", \"2009-04-23T00:00:00\", \"2009-04-24T00:00:00\", \"2009-04-25T00:00:00\", \"2009-04-26T00:00:00\", \"2009-04-27T00:00:00\", \"2009-04-28T00:00:00\", \"2009-04-29T00:00:00\", \"2009-04-30T00:00:00\", \"2009-05-01T00:00:00\", \"2009-05-02T00:00:00\", \"2009-05-03T00:00:00\", \"2009-05-04T00:00:00\", \"2009-05-05T00:00:00\", \"2009-05-06T00:00:00\", \"2009-05-07T00:00:00\", \"2009-05-08T00:00:00\", \"2009-05-09T00:00:00\", \"2009-05-10T00:00:00\", \"2009-05-11T00:00:00\", \"2009-05-12T00:00:00\", \"2009-05-13T00:00:00\", \"2009-05-14T00:00:00\", \"2009-05-15T00:00:00\", \"2009-05-16T00:00:00\", \"2009-05-17T00:00:00\", \"2009-05-18T00:00:00\", \"2009-05-19T00:00:00\", \"2009-05-20T00:00:00\", \"2009-05-21T00:00:00\", \"2009-05-22T00:00:00\", \"2009-05-23T00:00:00\", \"2009-05-24T00:00:00\", \"2009-05-25T00:00:00\", \"2009-05-26T00:00:00\", \"2009-05-27T00:00:00\", \"2009-05-28T00:00:00\", \"2009-05-29T00:00:00\", \"2009-05-30T00:00:00\", \"2009-05-31T00:00:00\", \"2009-06-01T00:00:00\", \"2009-06-02T00:00:00\", \"2009-06-03T00:00:00\", \"2009-06-04T00:00:00\", \"2009-06-05T00:00:00\", \"2009-06-06T00:00:00\", \"2009-06-07T00:00:00\", \"2009-06-08T00:00:00\", \"2009-06-09T00:00:00\", \"2009-06-10T00:00:00\", \"2009-06-11T00:00:00\", \"2009-06-12T00:00:00\", \"2009-06-13T00:00:00\", \"2009-06-14T00:00:00\", \"2009-06-15T00:00:00\", \"2009-06-16T00:00:00\", \"2009-06-17T00:00:00\", \"2009-06-18T00:00:00\", \"2009-06-19T00:00:00\", \"2009-06-20T00:00:00\", \"2009-06-21T00:00:00\", \"2009-06-22T00:00:00\", \"2009-06-23T00:00:00\", \"2009-06-24T00:00:00\", \"2009-06-25T00:00:00\", \"2009-06-26T00:00:00\", \"2009-06-27T00:00:00\", \"2009-06-28T00:00:00\", \"2009-06-29T00:00:00\", \"2009-06-30T00:00:00\", \"2009-07-01T00:00:00\", \"2009-07-02T00:00:00\", \"2009-07-03T00:00:00\", \"2009-07-04T00:00:00\", \"2009-07-05T00:00:00\", \"2009-07-06T00:00:00\", \"2009-07-07T00:00:00\", \"2009-07-08T00:00:00\", \"2009-07-09T00:00:00\", \"2009-07-10T00:00:00\", \"2009-07-11T00:00:00\", \"2009-07-12T00:00:00\", \"2009-07-13T00:00:00\", \"2009-07-14T00:00:00\", \"2009-07-15T00:00:00\", \"2009-07-16T00:00:00\", \"2009-07-17T00:00:00\", \"2009-07-18T00:00:00\", \"2009-07-19T00:00:00\", \"2009-07-20T00:00:00\", \"2009-07-21T00:00:00\", \"2009-07-22T00:00:00\", \"2009-07-23T00:00:00\", \"2009-07-24T00:00:00\", \"2009-07-25T00:00:00\", \"2009-07-26T00:00:00\", \"2009-07-27T00:00:00\", \"2009-07-28T00:00:00\", \"2009-07-29T00:00:00\", \"2009-07-30T00:00:00\", \"2009-07-31T00:00:00\", \"2009-08-01T00:00:00\", \"2009-08-02T00:00:00\", \"2009-08-03T00:00:00\", \"2009-08-04T00:00:00\", \"2009-08-05T00:00:00\", \"2009-08-06T00:00:00\", \"2009-08-07T00:00:00\", \"2009-08-08T00:00:00\", \"2009-08-09T00:00:00\", \"2009-08-10T00:00:00\", \"2009-08-11T00:00:00\", \"2009-08-12T00:00:00\", \"2009-08-13T00:00:00\", \"2009-08-14T00:00:00\", \"2009-08-15T00:00:00\", \"2009-08-16T00:00:00\", \"2009-08-17T00:00:00\", \"2009-08-18T00:00:00\", \"2009-08-19T00:00:00\", \"2009-08-20T00:00:00\", \"2009-08-21T00:00:00\", \"2009-08-22T00:00:00\", \"2009-08-23T00:00:00\", \"2009-08-24T00:00:00\", \"2009-08-25T00:00:00\", \"2009-08-26T00:00:00\", \"2009-08-27T00:00:00\", \"2009-08-28T00:00:00\", \"2009-08-29T00:00:00\", \"2009-08-30T00:00:00\", \"2009-08-31T00:00:00\", \"2009-09-01T00:00:00\", \"2009-09-02T00:00:00\", \"2009-09-03T00:00:00\", \"2009-09-04T00:00:00\", \"2009-09-05T00:00:00\", \"2009-09-06T00:00:00\", \"2009-09-07T00:00:00\", \"2009-09-08T00:00:00\", \"2009-09-09T00:00:00\", \"2009-09-10T00:00:00\", \"2009-09-11T00:00:00\", \"2009-09-12T00:00:00\", \"2009-09-13T00:00:00\", \"2009-09-14T00:00:00\", \"2009-09-15T00:00:00\", \"2009-09-16T00:00:00\", \"2009-09-17T00:00:00\", \"2009-09-18T00:00:00\", \"2009-09-19T00:00:00\", \"2009-09-20T00:00:00\", \"2009-09-21T00:00:00\", \"2009-09-22T00:00:00\", \"2009-09-23T00:00:00\", \"2009-09-24T00:00:00\", \"2009-09-25T00:00:00\", \"2009-09-26T00:00:00\", \"2009-09-27T00:00:00\", \"2009-09-28T00:00:00\", \"2009-09-29T00:00:00\", \"2009-09-30T00:00:00\", \"2009-10-01T00:00:00\", \"2009-10-02T00:00:00\", \"2009-10-03T00:00:00\", \"2009-10-04T00:00:00\", \"2009-10-05T00:00:00\", \"2009-10-06T00:00:00\", \"2009-10-07T00:00:00\", \"2009-10-08T00:00:00\", \"2009-10-09T00:00:00\", \"2009-10-10T00:00:00\", \"2009-10-11T00:00:00\", \"2009-10-12T00:00:00\", \"2009-10-13T00:00:00\", \"2009-10-14T00:00:00\", \"2009-10-15T00:00:00\", \"2009-10-16T00:00:00\", \"2009-10-17T00:00:00\", \"2009-10-18T00:00:00\", \"2009-10-19T00:00:00\", \"2009-10-20T00:00:00\", \"2009-10-21T00:00:00\", \"2009-10-22T00:00:00\", \"2009-10-23T00:00:00\", \"2009-10-24T00:00:00\", \"2009-10-25T00:00:00\", \"2009-10-26T00:00:00\", \"2009-10-27T00:00:00\", \"2009-10-28T00:00:00\", \"2009-10-29T00:00:00\", \"2009-10-30T00:00:00\", \"2009-10-31T00:00:00\", \"2009-11-01T00:00:00\", \"2009-11-02T00:00:00\", \"2009-11-03T00:00:00\", \"2009-11-04T00:00:00\", \"2009-11-05T00:00:00\", \"2009-11-06T00:00:00\", \"2009-11-07T00:00:00\", \"2009-11-08T00:00:00\", \"2009-11-09T00:00:00\", \"2009-11-10T00:00:00\", \"2009-11-11T00:00:00\", \"2009-11-12T00:00:00\", \"2009-11-13T00:00:00\", \"2009-11-14T00:00:00\", \"2009-11-15T00:00:00\", \"2009-11-16T00:00:00\", \"2009-11-17T00:00:00\", \"2009-11-18T00:00:00\", \"2009-11-19T00:00:00\", \"2009-11-20T00:00:00\", \"2009-11-21T00:00:00\", \"2009-11-22T00:00:00\", \"2009-11-23T00:00:00\", \"2009-11-24T00:00:00\", \"2009-11-25T00:00:00\", \"2009-11-26T00:00:00\", \"2009-11-27T00:00:00\", \"2009-11-28T00:00:00\", \"2009-11-29T00:00:00\", \"2009-11-30T00:00:00\", \"2009-12-01T00:00:00\", \"2009-12-02T00:00:00\", \"2009-12-03T00:00:00\", \"2009-12-04T00:00:00\", \"2009-12-05T00:00:00\", \"2009-12-06T00:00:00\", \"2009-12-07T00:00:00\", \"2009-12-08T00:00:00\", \"2009-12-09T00:00:00\", \"2009-12-10T00:00:00\", \"2009-12-11T00:00:00\", \"2009-12-12T00:00:00\", \"2009-12-13T00:00:00\", \"2009-12-14T00:00:00\", \"2009-12-15T00:00:00\", \"2009-12-16T00:00:00\", \"2009-12-17T00:00:00\", \"2009-12-18T00:00:00\", \"2009-12-19T00:00:00\", \"2009-12-20T00:00:00\", \"2009-12-21T00:00:00\", \"2009-12-22T00:00:00\", \"2009-12-23T00:00:00\", \"2009-12-24T00:00:00\", \"2009-12-25T00:00:00\", \"2009-12-26T00:00:00\", \"2009-12-27T00:00:00\", \"2009-12-28T00:00:00\", \"2009-12-29T00:00:00\", \"2009-12-30T00:00:00\", \"2009-12-31T00:00:00\", \"2010-01-01T00:00:00\", \"2010-01-02T00:00:00\", \"2010-01-03T00:00:00\", \"2010-01-04T00:00:00\", \"2010-01-05T00:00:00\", \"2010-01-06T00:00:00\", \"2010-01-07T00:00:00\", \"2010-01-08T00:00:00\", \"2010-01-09T00:00:00\", \"2010-01-10T00:00:00\", \"2010-01-11T00:00:00\", \"2010-01-12T00:00:00\", \"2010-01-13T00:00:00\", \"2010-01-14T00:00:00\", \"2010-01-15T00:00:00\", \"2010-01-16T00:00:00\", \"2010-01-17T00:00:00\", \"2010-01-18T00:00:00\", \"2010-01-19T00:00:00\", \"2010-01-20T00:00:00\", \"2010-01-21T00:00:00\", \"2010-01-22T00:00:00\", \"2010-01-23T00:00:00\", \"2010-01-24T00:00:00\", \"2010-01-25T00:00:00\", \"2010-01-26T00:00:00\", \"2010-01-27T00:00:00\", \"2010-01-28T00:00:00\", \"2010-01-29T00:00:00\", \"2010-01-30T00:00:00\", \"2010-01-31T00:00:00\", \"2010-02-01T00:00:00\", \"2010-02-02T00:00:00\", \"2010-02-03T00:00:00\", \"2010-02-04T00:00:00\", \"2010-02-05T00:00:00\", \"2010-02-06T00:00:00\", \"2010-02-07T00:00:00\", \"2010-02-08T00:00:00\", \"2010-02-09T00:00:00\", \"2010-02-10T00:00:00\", \"2010-02-11T00:00:00\", \"2010-02-12T00:00:00\", \"2010-02-13T00:00:00\", \"2010-02-14T00:00:00\", \"2010-02-15T00:00:00\", \"2010-02-16T00:00:00\", \"2010-02-17T00:00:00\", \"2010-02-18T00:00:00\", \"2010-02-19T00:00:00\", \"2010-02-20T00:00:00\", \"2010-02-21T00:00:00\", \"2010-02-22T00:00:00\", \"2010-02-23T00:00:00\", \"2010-02-24T00:00:00\", \"2010-02-25T00:00:00\", \"2010-02-26T00:00:00\", \"2010-02-27T00:00:00\", \"2010-02-28T00:00:00\", \"2010-03-01T00:00:00\", \"2010-03-02T00:00:00\", \"2010-03-03T00:00:00\", \"2010-03-04T00:00:00\", \"2010-03-05T00:00:00\", \"2010-03-06T00:00:00\", \"2010-03-07T00:00:00\", \"2010-03-08T00:00:00\", \"2010-03-09T00:00:00\", \"2010-03-10T00:00:00\", \"2010-03-11T00:00:00\", \"2010-03-12T00:00:00\", \"2010-03-13T00:00:00\", \"2010-03-14T00:00:00\", \"2010-03-15T00:00:00\", \"2010-03-16T00:00:00\", \"2010-03-17T00:00:00\", \"2010-03-18T00:00:00\", \"2010-03-19T00:00:00\", \"2010-03-20T00:00:00\", \"2010-03-21T00:00:00\", \"2010-03-22T00:00:00\", \"2010-03-23T00:00:00\", \"2010-03-24T00:00:00\", \"2010-03-25T00:00:00\", \"2010-03-26T00:00:00\", \"2010-03-27T00:00:00\", \"2010-03-28T00:00:00\", \"2010-03-29T00:00:00\", \"2010-03-30T00:00:00\", \"2010-03-31T00:00:00\", \"2010-04-01T00:00:00\", \"2010-04-02T00:00:00\", \"2010-04-03T00:00:00\", \"2010-04-04T00:00:00\", \"2010-04-05T00:00:00\", \"2010-04-06T00:00:00\", \"2010-04-07T00:00:00\", \"2010-04-08T00:00:00\", \"2010-04-09T00:00:00\", \"2010-04-10T00:00:00\", \"2010-04-11T00:00:00\", \"2010-04-12T00:00:00\", \"2010-04-13T00:00:00\", \"2010-04-14T00:00:00\", \"2010-04-15T00:00:00\", \"2010-04-16T00:00:00\", \"2010-04-17T00:00:00\", \"2010-04-18T00:00:00\", \"2010-04-19T00:00:00\", \"2010-04-20T00:00:00\", \"2010-04-21T00:00:00\", \"2010-04-22T00:00:00\", \"2010-04-23T00:00:00\", \"2010-04-24T00:00:00\", \"2010-04-25T00:00:00\", \"2010-04-26T00:00:00\", \"2010-04-27T00:00:00\", \"2010-04-28T00:00:00\", \"2010-04-29T00:00:00\", \"2010-04-30T00:00:00\", \"2010-05-01T00:00:00\", \"2010-05-02T00:00:00\", \"2010-05-03T00:00:00\", \"2010-05-04T00:00:00\", \"2010-05-05T00:00:00\", \"2010-05-06T00:00:00\", \"2010-05-07T00:00:00\", \"2010-05-08T00:00:00\", \"2010-05-09T00:00:00\", \"2010-05-10T00:00:00\", \"2010-05-11T00:00:00\", \"2010-05-12T00:00:00\", \"2010-05-13T00:00:00\", \"2010-05-14T00:00:00\", \"2010-05-15T00:00:00\", \"2010-05-16T00:00:00\", \"2010-05-17T00:00:00\", \"2010-05-18T00:00:00\", \"2010-05-19T00:00:00\", \"2010-05-20T00:00:00\", \"2010-05-21T00:00:00\", \"2010-05-22T00:00:00\", \"2010-05-23T00:00:00\", \"2010-05-24T00:00:00\", \"2010-05-25T00:00:00\", \"2010-05-26T00:00:00\", \"2010-05-27T00:00:00\", \"2010-05-28T00:00:00\", \"2010-05-29T00:00:00\", \"2010-05-30T00:00:00\", \"2010-05-31T00:00:00\", \"2010-06-01T00:00:00\", \"2010-06-02T00:00:00\", \"2010-06-03T00:00:00\", \"2010-06-04T00:00:00\", \"2010-06-05T00:00:00\", \"2010-06-06T00:00:00\", \"2010-06-07T00:00:00\", \"2010-06-08T00:00:00\", \"2010-06-09T00:00:00\", \"2010-06-10T00:00:00\", \"2010-06-11T00:00:00\", \"2010-06-12T00:00:00\", \"2010-06-13T00:00:00\", \"2010-06-14T00:00:00\", \"2010-06-15T00:00:00\", \"2010-06-16T00:00:00\", \"2010-06-17T00:00:00\", \"2010-06-18T00:00:00\", \"2010-06-19T00:00:00\", \"2010-06-20T00:00:00\", \"2010-06-21T00:00:00\", \"2010-06-22T00:00:00\", \"2010-06-23T00:00:00\", \"2010-06-24T00:00:00\", \"2010-06-25T00:00:00\", \"2010-06-26T00:00:00\", \"2010-06-27T00:00:00\", \"2010-06-28T00:00:00\", \"2010-06-29T00:00:00\", \"2010-06-30T00:00:00\", \"2010-07-01T00:00:00\", \"2010-07-02T00:00:00\", \"2010-07-03T00:00:00\", \"2010-07-04T00:00:00\", \"2010-07-05T00:00:00\", \"2010-07-06T00:00:00\", \"2010-07-07T00:00:00\", \"2010-07-08T00:00:00\", \"2010-07-09T00:00:00\", \"2010-07-10T00:00:00\", \"2010-07-11T00:00:00\", \"2010-07-12T00:00:00\", \"2010-07-13T00:00:00\", \"2010-07-14T00:00:00\", \"2010-07-15T00:00:00\", \"2010-07-16T00:00:00\", \"2010-07-17T00:00:00\", \"2010-07-18T00:00:00\", \"2010-07-19T00:00:00\", \"2010-07-20T00:00:00\", \"2010-07-21T00:00:00\", \"2010-07-22T00:00:00\", \"2010-07-23T00:00:00\", \"2010-07-24T00:00:00\", \"2010-07-25T00:00:00\", \"2010-07-26T00:00:00\", \"2010-07-27T00:00:00\", \"2010-07-28T00:00:00\", \"2010-07-29T00:00:00\", \"2010-07-30T00:00:00\", \"2010-07-31T00:00:00\", \"2010-08-01T00:00:00\", \"2010-08-02T00:00:00\", \"2010-08-03T00:00:00\", \"2010-08-04T00:00:00\", \"2010-08-05T00:00:00\", \"2010-08-06T00:00:00\", \"2010-08-07T00:00:00\", \"2010-08-08T00:00:00\", \"2010-08-09T00:00:00\", \"2010-08-10T00:00:00\", \"2010-08-11T00:00:00\", \"2010-08-12T00:00:00\", \"2010-08-13T00:00:00\", \"2010-08-14T00:00:00\", \"2010-08-15T00:00:00\", \"2010-08-16T00:00:00\", \"2010-08-17T00:00:00\", \"2010-08-18T00:00:00\", \"2010-08-19T00:00:00\", \"2010-08-20T00:00:00\", \"2010-08-21T00:00:00\", \"2010-08-22T00:00:00\", \"2010-08-23T00:00:00\", \"2010-08-24T00:00:00\", \"2010-08-25T00:00:00\", \"2010-08-26T00:00:00\", \"2010-08-27T00:00:00\", \"2010-08-28T00:00:00\", \"2010-08-29T00:00:00\", \"2010-08-30T00:00:00\", \"2010-08-31T00:00:00\", \"2010-09-01T00:00:00\", \"2010-09-02T00:00:00\", \"2010-09-03T00:00:00\", \"2010-09-04T00:00:00\", \"2010-09-05T00:00:00\", \"2010-09-06T00:00:00\", \"2010-09-07T00:00:00\", \"2010-09-08T00:00:00\", \"2010-09-09T00:00:00\", \"2010-09-10T00:00:00\", \"2010-09-11T00:00:00\", \"2010-09-12T00:00:00\", \"2010-09-13T00:00:00\", \"2010-09-14T00:00:00\", \"2010-09-15T00:00:00\", \"2010-09-16T00:00:00\", \"2010-09-17T00:00:00\", \"2010-09-18T00:00:00\", \"2010-09-19T00:00:00\", \"2010-09-20T00:00:00\", \"2010-09-21T00:00:00\", \"2010-09-22T00:00:00\", \"2010-09-23T00:00:00\", \"2010-09-24T00:00:00\", \"2010-09-25T00:00:00\", \"2010-09-26T00:00:00\", \"2010-09-27T00:00:00\", \"2010-09-28T00:00:00\", \"2010-09-29T00:00:00\", \"2010-09-30T00:00:00\", \"2010-10-01T00:00:00\", \"2010-10-02T00:00:00\", \"2010-10-03T00:00:00\", \"2010-10-04T00:00:00\", \"2010-10-05T00:00:00\", \"2010-10-06T00:00:00\", \"2010-10-07T00:00:00\", \"2010-10-08T00:00:00\", \"2010-10-09T00:00:00\", \"2010-10-10T00:00:00\", \"2010-10-11T00:00:00\", \"2010-10-12T00:00:00\", \"2010-10-13T00:00:00\", \"2010-10-14T00:00:00\", \"2010-10-15T00:00:00\", \"2010-10-16T00:00:00\", \"2010-10-17T00:00:00\", \"2010-10-18T00:00:00\", \"2010-10-19T00:00:00\", \"2010-10-20T00:00:00\", \"2010-10-21T00:00:00\", \"2010-10-22T00:00:00\", \"2010-10-23T00:00:00\", \"2010-10-24T00:00:00\", \"2010-10-25T00:00:00\", \"2010-10-26T00:00:00\", \"2010-10-27T00:00:00\", \"2010-10-28T00:00:00\", \"2010-10-29T00:00:00\", \"2010-10-30T00:00:00\", \"2010-10-31T00:00:00\", \"2010-11-01T00:00:00\", \"2010-11-02T00:00:00\", \"2010-11-03T00:00:00\", \"2010-11-04T00:00:00\", \"2010-11-05T00:00:00\", \"2010-11-06T00:00:00\", \"2010-11-07T00:00:00\", \"2010-11-08T00:00:00\", \"2010-11-09T00:00:00\", \"2010-11-10T00:00:00\", \"2010-11-11T00:00:00\", \"2010-11-12T00:00:00\", \"2010-11-13T00:00:00\", \"2010-11-14T00:00:00\", \"2010-11-15T00:00:00\", \"2010-11-16T00:00:00\", \"2010-11-17T00:00:00\", \"2010-11-18T00:00:00\", \"2010-11-19T00:00:00\", \"2010-11-20T00:00:00\", \"2010-11-21T00:00:00\", \"2010-11-22T00:00:00\", \"2010-11-23T00:00:00\", \"2010-11-24T00:00:00\", \"2010-11-25T00:00:00\", \"2010-11-26T00:00:00\", \"2010-11-27T00:00:00\", \"2010-11-28T00:00:00\", \"2010-11-29T00:00:00\", \"2010-11-30T00:00:00\", \"2010-12-01T00:00:00\", \"2010-12-02T00:00:00\", \"2010-12-03T00:00:00\", \"2010-12-04T00:00:00\", \"2010-12-05T00:00:00\", \"2010-12-06T00:00:00\", \"2010-12-07T00:00:00\", \"2010-12-08T00:00:00\", \"2010-12-09T00:00:00\", \"2010-12-10T00:00:00\", \"2010-12-11T00:00:00\", \"2010-12-12T00:00:00\", \"2010-12-13T00:00:00\", \"2010-12-14T00:00:00\", \"2010-12-15T00:00:00\", \"2010-12-16T00:00:00\", \"2010-12-17T00:00:00\", \"2010-12-18T00:00:00\", \"2010-12-19T00:00:00\", \"2010-12-20T00:00:00\", \"2010-12-21T00:00:00\", \"2010-12-22T00:00:00\", \"2010-12-23T00:00:00\", \"2010-12-24T00:00:00\", \"2010-12-25T00:00:00\", \"2010-12-26T00:00:00\", \"2010-12-27T00:00:00\", \"2010-12-28T00:00:00\", \"2010-12-29T00:00:00\", \"2010-12-30T00:00:00\", \"2010-12-31T00:00:00\", \"2011-01-01T00:00:00\", \"2011-01-02T00:00:00\", \"2011-01-03T00:00:00\", \"2011-01-04T00:00:00\", \"2011-01-05T00:00:00\", \"2011-01-06T00:00:00\", \"2011-01-07T00:00:00\", \"2011-01-08T00:00:00\", \"2011-01-09T00:00:00\", \"2011-01-10T00:00:00\", \"2011-01-11T00:00:00\", \"2011-01-12T00:00:00\", \"2011-01-13T00:00:00\", \"2011-01-14T00:00:00\", \"2011-01-15T00:00:00\", \"2011-01-16T00:00:00\", \"2011-01-17T00:00:00\", \"2011-01-18T00:00:00\", \"2011-01-19T00:00:00\", \"2011-01-20T00:00:00\", \"2011-01-21T00:00:00\", \"2011-01-22T00:00:00\", \"2011-01-23T00:00:00\", \"2011-01-24T00:00:00\", \"2011-01-25T00:00:00\", \"2011-01-26T00:00:00\", \"2011-01-27T00:00:00\", \"2011-01-28T00:00:00\", \"2011-01-29T00:00:00\", \"2011-01-30T00:00:00\", \"2011-01-31T00:00:00\", \"2011-02-01T00:00:00\", \"2011-02-02T00:00:00\", \"2011-02-03T00:00:00\", \"2011-02-04T00:00:00\", \"2011-02-05T00:00:00\", \"2011-02-06T00:00:00\", \"2011-02-07T00:00:00\", \"2011-02-08T00:00:00\", \"2011-02-09T00:00:00\", \"2011-02-10T00:00:00\", \"2011-02-11T00:00:00\", \"2011-02-12T00:00:00\", \"2011-02-13T00:00:00\", \"2011-02-14T00:00:00\", \"2011-02-15T00:00:00\", \"2011-02-16T00:00:00\", \"2011-02-17T00:00:00\", \"2011-02-18T00:00:00\", \"2011-02-19T00:00:00\", \"2011-02-20T00:00:00\", \"2011-02-21T00:00:00\", \"2011-02-22T00:00:00\", \"2011-02-23T00:00:00\", \"2011-02-24T00:00:00\", \"2011-02-25T00:00:00\", \"2011-02-26T00:00:00\", \"2011-02-27T00:00:00\", \"2011-02-28T00:00:00\", \"2011-03-01T00:00:00\", \"2011-03-02T00:00:00\", \"2011-03-03T00:00:00\", \"2011-03-04T00:00:00\", \"2011-03-05T00:00:00\", \"2011-03-06T00:00:00\", \"2011-03-07T00:00:00\", \"2011-03-08T00:00:00\", \"2011-03-09T00:00:00\", \"2011-03-10T00:00:00\", \"2011-03-11T00:00:00\", \"2011-03-12T00:00:00\", \"2011-03-13T00:00:00\", \"2011-03-14T00:00:00\", \"2011-03-15T00:00:00\", \"2011-03-16T00:00:00\", \"2011-03-17T00:00:00\", \"2011-03-18T00:00:00\", \"2011-03-19T00:00:00\", \"2011-03-20T00:00:00\", \"2011-03-21T00:00:00\", \"2011-03-22T00:00:00\", \"2011-03-23T00:00:00\", \"2011-03-24T00:00:00\", \"2011-03-25T00:00:00\", \"2011-03-26T00:00:00\", \"2011-03-27T00:00:00\", \"2011-03-28T00:00:00\", \"2011-03-29T00:00:00\", \"2011-03-30T00:00:00\", \"2011-03-31T00:00:00\", \"2011-04-01T00:00:00\", \"2011-04-02T00:00:00\", \"2011-04-03T00:00:00\", \"2011-04-04T00:00:00\", \"2011-04-05T00:00:00\", \"2011-04-06T00:00:00\", \"2011-04-07T00:00:00\", \"2011-04-08T00:00:00\", \"2011-04-09T00:00:00\", \"2011-04-10T00:00:00\", \"2011-04-11T00:00:00\", \"2011-04-12T00:00:00\", \"2011-04-13T00:00:00\", \"2011-04-14T00:00:00\", \"2011-04-15T00:00:00\", \"2011-04-16T00:00:00\", \"2011-04-17T00:00:00\", \"2011-04-18T00:00:00\", \"2011-04-19T00:00:00\", \"2011-04-20T00:00:00\", \"2011-04-21T00:00:00\", \"2011-04-22T00:00:00\", \"2011-04-23T00:00:00\", \"2011-04-24T00:00:00\", \"2011-04-25T00:00:00\", \"2011-04-26T00:00:00\", \"2011-04-27T00:00:00\", \"2011-04-28T00:00:00\", \"2011-04-29T00:00:00\", \"2011-04-30T00:00:00\", \"2011-05-01T00:00:00\", \"2011-05-02T00:00:00\", \"2011-05-03T00:00:00\", \"2011-05-04T00:00:00\", \"2011-05-05T00:00:00\", \"2011-05-06T00:00:00\", \"2011-05-07T00:00:00\", \"2011-05-08T00:00:00\", \"2011-05-09T00:00:00\", \"2011-05-10T00:00:00\", \"2011-05-11T00:00:00\", \"2011-05-12T00:00:00\", \"2011-05-13T00:00:00\", \"2011-05-14T00:00:00\", \"2011-05-15T00:00:00\", \"2011-05-16T00:00:00\", \"2011-05-17T00:00:00\", \"2011-05-18T00:00:00\", \"2011-05-19T00:00:00\", \"2011-05-20T00:00:00\", \"2011-05-21T00:00:00\", \"2011-05-22T00:00:00\", \"2011-05-23T00:00:00\", \"2011-05-24T00:00:00\", \"2011-05-25T00:00:00\", \"2011-05-26T00:00:00\", \"2011-05-27T00:00:00\", \"2011-05-28T00:00:00\", \"2011-05-29T00:00:00\", \"2011-05-30T00:00:00\", \"2011-05-31T00:00:00\", \"2011-06-01T00:00:00\", \"2011-06-02T00:00:00\", \"2011-06-03T00:00:00\", \"2011-06-04T00:00:00\", \"2011-06-05T00:00:00\", \"2011-06-06T00:00:00\", \"2011-06-07T00:00:00\", \"2011-06-08T00:00:00\", \"2011-06-09T00:00:00\", \"2011-06-10T00:00:00\", \"2011-06-11T00:00:00\", \"2011-06-12T00:00:00\", \"2011-06-13T00:00:00\", \"2011-06-14T00:00:00\", \"2011-06-15T00:00:00\", \"2011-06-16T00:00:00\", \"2011-06-17T00:00:00\", \"2011-06-18T00:00:00\", \"2011-06-19T00:00:00\", \"2011-06-20T00:00:00\", \"2011-06-21T00:00:00\", \"2011-06-22T00:00:00\", \"2011-06-23T00:00:00\", \"2011-06-24T00:00:00\", \"2011-06-25T00:00:00\", \"2011-06-26T00:00:00\", \"2011-06-27T00:00:00\", \"2011-06-28T00:00:00\", \"2011-06-29T00:00:00\", \"2011-06-30T00:00:00\", \"2011-07-01T00:00:00\", \"2011-07-02T00:00:00\", \"2011-07-03T00:00:00\", \"2011-07-04T00:00:00\", \"2011-07-05T00:00:00\", \"2011-07-06T00:00:00\", \"2011-07-07T00:00:00\", \"2011-07-08T00:00:00\", \"2011-07-09T00:00:00\", \"2011-07-10T00:00:00\", \"2011-07-11T00:00:00\", \"2011-07-12T00:00:00\", \"2011-07-13T00:00:00\", \"2011-07-14T00:00:00\", \"2011-07-15T00:00:00\", \"2011-07-16T00:00:00\", \"2011-07-17T00:00:00\", \"2011-07-18T00:00:00\", \"2011-07-19T00:00:00\", \"2011-07-20T00:00:00\", \"2011-07-21T00:00:00\", \"2011-07-22T00:00:00\", \"2011-07-23T00:00:00\", \"2011-07-24T00:00:00\", \"2011-07-25T00:00:00\", \"2011-07-26T00:00:00\", \"2011-07-27T00:00:00\", \"2011-07-28T00:00:00\", \"2011-07-29T00:00:00\", \"2011-07-30T00:00:00\", \"2011-07-31T00:00:00\", \"2011-08-01T00:00:00\", \"2011-08-02T00:00:00\", \"2011-08-03T00:00:00\", \"2011-08-04T00:00:00\", \"2011-08-05T00:00:00\", \"2011-08-06T00:00:00\"], \"y\": [0.0, 0.0, 0.0, 179.0, 0.0, 61.0, 500.0, 200.0, 0.0, 150.0, 775.0, 400.0, 100.0, 500.0, 450.0, 500.0, 50.0, 1000.0, 150.0, 0.0, 600.0, 0.0, 1000.0, 100.0, 50.0, 736.5200000000001, 0.0, 0.0, 0.0, 1198.0, 1000.0, 2200.0, 0.0, 550.04, 0.0, 0.0, 0.0, 900.0, 1500.0, 0.0, 0.0, 800.0, 0.0, 0.0, 1050.0, 0.0, 0.0, 0.0, 0.0, 1800.0, 350.0, 0.0, 0.0, 400.0, 1250.0, 400.0, 0.0, 0.0, 1550.0, 0.0, 0.0, 0.0, 150.0, 750.0, 0.0, 0.0, 2400.0, 0.0, 700.0, 0.0, 600.0, 0.0, 550.0, 0.0, 0.0, 0.0, 1400.0, 0.0, 1000.0, 0.0, 0.0, 1600.0, 0.0, 0.0, 0.0, 0.0, 850.0, 0.0, 0.0, 0.0, 0.0, 0.0, 350.0, 950.0, 50.0, 0.0, 0.0, 0.0, 0.0, 182.51, 400.0, 5750.0, 50.0, 0.0, 0.0, 0.0, 0.0, 750.0, 0.0, 0.0, 1000.0, 0.0, 0.0, 749.94, 110.0, 1500.0, 500.0, 0.0, 0.0, 0.0, 0.0, 0.0, 100.0, 0.0, 150.01, 199.99, 500.0, 0.0, 0.0, 0.0, 0.0, 0.0, 0.0, 0.0, 0.0, 0.0, 0.0, 0.0, 0.0, 0.0, 3000.0, 0.0, 0.0, 50.0, 0.0, 0.0, 0.0, 0.0, 0.0, 0.0, 0.0, 0.0, 0.0, 0.0, 0.0, 0.0, 0.0, 0.0, 0.0, 0.0, 0.0, 0.0, 0.0, 0.0, 3000.0, 0.0, 148.98000000000002, 1000.0, 0.0, 0.0, 50.0, 50.0, 95.0, 100.0, 50.0, 0.0, 0.0, 0.0, 0.0, 0.0, 0.0, 0.0, 0.0, 0.0, 0.0, 0.0, 0.0, 0.0, 0.0, 0.0, 0.0, 0.0, 6049.67, 0.0, 0.0, 0.0, 0.0, 0.0, 0.0, 0.0, 0.0, 100.0, 50.0, 0.0, 0.0, 0.0, 0.0, 0.0, 0.0, 0.0, 5549.530000000001, 0.0, 0.0, 0.0, 0.0, 0.0, 0.0, 0.0, 0.0, 0.0, 0.0, 0.0, 0.0, 0.0, 0.0, 0.0, 0.0, 0.0, 0.0, 2348.06, 0.0, 0.0, 0.0, 50.0, 300.0, 0.0, 0.0, 700.0, 0.0, 0.0, 0.0, 650.0, 0.0, 0.0, 0.0, 0.0, 0.0, 0.0, 0.0, 0.0, 1.0, 5050.0, 0.0, 0.0, 0.0, 400.0, 2000.0, 0.0, 0.0, 1300.0, 0.0, 800.0, 0.0, 2150.0, 0.0, 0.0, 500.0, 0.0, 0.0, 0.0, 900.0, 0.0, 0.0, 0.0, 0.0, 0.0, 5050.0, 0.0, 0.0, 0.0, 9700.0, 0.0, 350.0, 0.0, 5049.88, 899.76, 11950.0, 0.0, 12250.0, 0.0, 0.0, 13000.0, 0.0, 2050.0, 0.0, 0.0, 0.0, 0.0, 0.0, 15500.0, 0.0, 0.0, 0.0, 0.0, 0.0, 0.0, 90000.0, 0.0, 600.0, 0.0, 0.0, 0.0, 0.0, 0.0, 44350.0, 0.0, 0.0, 0.0, 0.0, 0.0, 0.0, 0.0, 0.0, 0.0, 0.0, 0.0, 10050.0, 0.0, 0.0, 0.0, 900.0, 140.0, 0.0, 1500.0, 2355.0, 0.0, 0.0, 5200.0, 0.0, 32545.699999999997, 5459.0, 850.0, 299.5, 0.0, 50.0, 0.0, 50.0, 0.0, 0.0, 0.0, 50.0, 0.0, 250.0, 0.0, 0.0, 0.0, 0.0, 100.0, 0.0, 0.0, 20804.35, 0.0, 0.0, 0.0, 0.0, 0.0, 0.0, 0.0, 10750.0, 58.0, 405.0, 200.74, 251.0, 0.0, 50.0, 0.0, 0.0, 200.0, 250.0, 49.0, 50.0, 3250.0, 724.0, 800.0, 1050.0, 700.0, 1700.0, 1050.0, 800.0, 1050.0, 300.0, 1750.0, 12200.0, 2050.0, 300.0, 6000.0, 20650.0, 30300.0, 3650.0, 3700.0, 6099.0, 8083.17, 4199.98, 713.37, 25634.17, 2650.0, 50.0, 550.0, 5816.83, 14200.0, 50.0, 5300.0, 7100.0, 10900.0, 451.0, 5250.0, 1400.0, 2000.0, 8000.0, 19350.0, 150.0, 23747.39, 5700.0, 9045.18, 4050.0, 2550.0, 3200.0, 350.0, 1800.0, 1200.0, 100.0, 1201.0, 1250.0, 3850.0, 6346.0, 3355.0, 302.0, 1950.0, 3836.93, 1700.0, 16950.0, 4000.0, 2600.0, 2100.0, 3400.0, 400.0, 1474.2, 1300.0, 1000.0, 1723.48, 3200.0, 6338.74, 5044.0, 5303.139999999999, 2988.74, 11755.71, 13654.35, 12425.66, 12202.79, 2310.0, 5846.889999999999, 57691.29, 12489.88, 3643.88, 7336.05, 15866.19, 10537.0, 7018.8, 18692.85, 2375.05, 10201.06, 14950.9, 9803.07, 7513.0, 7467.72, 3043.71, 38317.32, 4946.6, 1999.0, 6950.0, 17150.02, 18359.69, 14001.0, 22822.0, 13810.26, 4947.88, 7913.78, 1650.1, 17964.109999999997, 8961.560000000001, 15262.820000000132, 2714.640000000193, 2088.64, 9196.480000000001, 7112.0, 12953.61, 3133.0, 37653.979999999996, 26175.869999999857, 19088.36, 4541.0, 5400.0, 14668.970000000001, 10442.810000000001, 25975.58, 27416.120000000006, 5162.3, 6260.0, 6883.95, 7005.41, 8873.550000000001, 32377.35, 4050.0, 6403.3099999999995, 23999.8, 9000.0, 36826.29, 20676.510000000002, 7575.24, 12774.09, 12019.0, 17111.010000000002, 13418.0, 24324.08, 17271.510000000002, 9717.0, 43226.77999999999, 18598.0, 5202.09, 12232.439999999999, 21265.0, 21364.37, 11563.0, 35351.369999999995, 5464.0, 13655.05, 26497.09, 47831.38000000087, 22173.89, 52756.92000000029, 34467.0, 16014.5, 39407.01, 18486.0, 25004.149999999998, 7211.9400000000005, 5891.0, 12063.87, 19997.0, 109619.55, 27691.21999999999, 44279.72999999992, 72867.25000000115, 26677.119999999984, 20617.20999999999, 27439.939999999988, 27729.419999999995, 13973.189999999999, 17348.259999999995, 30746.059999999998, 16016.130000000001, 36176.609999999986, 26546.82, 64032.92000000002, 16712.96, 65407.010000000795, 11755.920000000002, 15788.470000000021, 11665.440000000019, 62565.95000000003, 61378.61000000002, 22512.460000000006, 11689.019999999999, 21519.729999999996, 14365.910000000007, 15720.270000000015, 8376.04, 50282.690000000664, 16358.91, 31852.01999999999, 11550.740000000003, 22887.06999999996, 6383.290000000034, 9852.180000000002, 42336.41000000002, 25282.859999999993, 26113.289999999604, 14387.87, 17036.82, 29448.259999999995, 10210.230000000001, 12745.859999999997, 13554.890000000089, 9990.11, 12157.459999999997, 23570.739999999998, 12137.540000000006, 7706.26, 12416.600000500004, 31311.469998999746, 21843.889998900006, 19896.720000100002, 16856.81, 15725.550000000001, 69904.10999999999, 69499.15999839998, 14887.710000000001, 15103.0199984, 26243.339998199997, 10364.219998000002, 6773.820000000003, 17663.13000029997, 67264.50000010003, 18673.859999999997, 26681.870396479986, 24178.509999999995, 42349.81, 24122.239999999994, 31326.409603520002, 28087.28999999999, 14958.54000009999, 32524.73999999999, 76403.63999999998, 11890.469999999992, 22933.019999999982, 17467.67, 28033.93, 72248.65000009994, 29443.38, 29635.72999999995, 47868.562805160014, 160933.8477681301, 33769.01776624996, 75314.36000099001, 114772.60000009999, 73170.93000109002, 81296.37, 95851.39, 115179.28, 66587.40999999999, 44660.02000109, 48090.770000000004, 35504.149999999994, 79087.09, 67808.14000000001, 74356.76000108998, 10368.460000000001, 32690.879999999965, 38713.70000000001, 38228.88999999996, 90616.41776614997, 44766.65000000001, 26902.409999999985, 62312.96999999999, 45839.77999999999, 58703.25000000001, 78419.03, 89780.84999999999, 36235.19999999998, 26339.460000000003, 44091.19, 26249.93999999998, 36468.02, 31121.340000000004, 104670.25108788, 29800.649999999998, 94402.59000000001, 33177.659999999996, 279291.42999999993, 23621.23, 27830.459999999985, 16095.189999999993, 14185.019999999995, 22532.499999999996, 26809.05999999999, 55363.39000000001, 24887.629999999885, 26865.799999999992, 21468.801087879994, 23780.08999999997, 32144.249999999975, 26712.439999999988, 18229.070000000014, 32924.56999999998, 24998.9999999962, 37918.83000000072, 71167.13000000002, 19301.73999999999, 19172.210000000006, 28870.489999999998, 46198.510000000046, 33564.51999999999, 39484.94000000002, 22181.02999999998, 41217.180000000044, 16512.27, 92440.66613297001, 60723.314344020015, 21190.98528566, 24767.487272609975, 14203.600000000004, 45222.15702586001, 14824.94644602999, 61501.21229398013, 21667.96152495997, 26327.923733559954, 21527.173569459977, 17697.82544416001, 29508.376742749988, 55273.946935569955, 28747.00571343995, 47942.5464598, 22275.89847399998, 9470.749999999995, 11291.057480649995, 22808.137430519993, 11505.999037860005, 50774.31664133001, 22945.883957649992, 78932.73258157997, 30381.682385519962, 21489.893350609982, 11299.459152580002, 19522.08266553999, 18643.645623939974, 5385.99774982, 12522.985279180004, 5651.208520669999, 13747.261525169999, 14169.82, 8341.079999999998, 29775.25884468998, 50885.31614890999, 5992.186680190001, 57564.86158404002, 13838.038409260002, 6292.007430520002, 14557.02792852, 22564.644835759977, 18939.489608710002, 22368.58, 6017.189823250001, 8372.051043480002, 10395.159388510005, 24025.144527409997, 20017.739157549982, 4320.02, 18692.76, 343544.10000000003, 9869.05, 21248.671956079954, 5085.838680420001, 42515.52000000001, 23266.049999999992, 22962.199999999993, 6406.550009990003, 7364.808344660001, 4832.541925230001, 15481.269999999999, 40291.55312083, 2440.5599999999995, 14300.09649295, 4807.779997900001, 11882.733043080001, 3389.6708278500014, 1882.0699999999997, 27631.891377249958, 2145.9700000000003, 2054.33, 1522.0699999999997, 3911.030000000001, 2322.8799999999997, 6714.100000000001, 2809.9399999999996, 7949.990000000001, 1097.74785377, 6687.300000000001, 1555.1999999999998, 15623.51, 14499.18, 4387.110000000001, 93078.64, 1042.9499999999998, 263.34000000000003, 7199.49, 5126.8, 510.06000000000006, 355.43, 5202.6, 160.96999999999997, 547.5700000000002, 1719.9799999999998, 17813.72, 311.76000000000005, 17749.379999999997, 8770.48, 20073.110000000004, 1856.1, 104.07, 1071.18, 605.7270786999999, 5510.740000000001, 800.05, 8554.669987110006, 16843.729999999992, 888.5799999999998, 11845.21, 5383.340000000002, 1529.249999999999, 657.94, 657.7899999999996, 410.27, 1737.26211823, 1.05, 475.90000000000003, 13462.010000400005, 10592.8, 1726.1599999999999, 1148.18, 1055.04, 345.93, 197.37368921, 610.52, 2132.38, 1872.5599999999997, 1820.1, 6261.23, 10858.66, 391.9800000000001, 3261.5899999999997, 1601.84, 3231.28, 12.95, 1686.85, 7835.140000000001, 1544.9439114499999, 5149.580000000001, 4900.3, 5437.259064270001, 6344.0599999999995, 6730.06, 6993.66297404, 5557.830000000004, 7485.730000000001, 16083.740000000002, 28645.019999999997, 2546.1600000000003, 2095.7721677, 3770.080000000001, 3034.7009003100006, 5716.96, 7854.400000000004, 11815.130000000001, 47502.23657495, 16645.190584779994, 7243.249999999999, 1764.6399999999996, 45070.20000000001, 2453.42, 4294.121473270001, 10385.939999999999, 7503.470000000002, 4457.841506180001, 1806.2899999999997, 3564.5300000000007, 10874.389999999998, 7980.372197960001, 4444.1500000000015, 3320.5138028400006, 3049.6, 1632.0499999999997, 8027.850000000001, 2894.91004383, 3483.6000000000004, 18695.949999999997, 39491.18190056009, 5353.085506810002, 27534.409999999996, 5929.170000000002, 6838.850000000001, 59134.44000000003, 21354.280755169984, 18120.52280389998, 35931.201377379984, 10561.15717941, 32833.38, 73087.95000000001, 84256.84999999999, 42355.21000000001, 6337.440965080001, 1844.05, 16212.82496468, 5220.080000000001, 1381.2106193799998, 545.1999999999999, 1240.37, 3830.34944146, 900.0049200999999, 21059.75, 8660.55, 7911.895150210001, 5568.01, 1013.1999999999999, 2640.4000000000005, 355.01, 1682.7349829099996, 1356.8, 8201.150000000001, 1213.1699999999998, 3552.11, 1824.81, 359.05, 14210.61, 5085.620000000001, 1355.05, 56.18, 1502.78, 1775.05, 430.05, 1200.05, 2676.3, 1600.9499999999998, 555.0799999999999, 250.62, 150.05, 250.05, 125.0, 746.79, 789.0, 830.2499999999998, 886.9099999999997, 600.06, 2000.05, 80.06, 1426.05, 2106.22081716, 343.03, 6185.790000000001, 2651.59, 1109.949999999999]}, {\"mode\": \"markers\", \"name\": \"UTXO Netnew\", \"type\": \"scatter\", \"x\": [\"2009-01-09T00:00:00\", \"2009-01-10T00:00:00\", \"2009-01-11T00:00:00\", \"2009-01-12T00:00:00\", \"2009-01-13T00:00:00\", \"2009-01-14T00:00:00\", \"2009-01-15T00:00:00\", \"2009-01-16T00:00:00\", \"2009-01-17T00:00:00\", \"2009-01-18T00:00:00\", \"2009-01-19T00:00:00\", \"2009-01-20T00:00:00\", \"2009-01-21T00:00:00\", \"2009-01-22T00:00:00\", \"2009-01-23T00:00:00\", \"2009-01-24T00:00:00\", \"2009-01-25T00:00:00\", \"2009-01-26T00:00:00\", \"2009-01-27T00:00:00\", \"2009-01-28T00:00:00\", \"2009-01-29T00:00:00\", \"2009-01-30T00:00:00\", \"2009-01-31T00:00:00\", \"2009-02-01T00:00:00\", \"2009-02-02T00:00:00\", \"2009-02-03T00:00:00\", \"2009-02-04T00:00:00\", \"2009-02-05T00:00:00\", \"2009-02-06T00:00:00\", \"2009-02-07T00:00:00\", \"2009-02-08T00:00:00\", \"2009-02-09T00:00:00\", \"2009-02-10T00:00:00\", \"2009-02-11T00:00:00\", \"2009-02-12T00:00:00\", \"2009-02-13T00:00:00\", \"2009-02-14T00:00:00\", \"2009-02-15T00:00:00\", \"2009-02-16T00:00:00\", \"2009-02-17T00:00:00\", \"2009-02-18T00:00:00\", \"2009-02-19T00:00:00\", \"2009-02-20T00:00:00\", \"2009-02-21T00:00:00\", \"2009-02-22T00:00:00\", \"2009-02-23T00:00:00\", \"2009-02-24T00:00:00\", \"2009-02-25T00:00:00\", \"2009-02-26T00:00:00\", \"2009-02-27T00:00:00\", \"2009-02-28T00:00:00\", \"2009-03-01T00:00:00\", \"2009-03-02T00:00:00\", \"2009-03-03T00:00:00\", \"2009-03-04T00:00:00\", \"2009-03-05T00:00:00\", \"2009-03-06T00:00:00\", \"2009-03-07T00:00:00\", \"2009-03-08T00:00:00\", \"2009-03-09T00:00:00\", \"2009-03-10T00:00:00\", \"2009-03-11T00:00:00\", \"2009-03-12T00:00:00\", \"2009-03-13T00:00:00\", \"2009-03-14T00:00:00\", \"2009-03-15T00:00:00\", \"2009-03-16T00:00:00\", \"2009-03-17T00:00:00\", \"2009-03-18T00:00:00\", \"2009-03-19T00:00:00\", \"2009-03-20T00:00:00\", \"2009-03-21T00:00:00\", \"2009-03-22T00:00:00\", \"2009-03-23T00:00:00\", \"2009-03-24T00:00:00\", \"2009-03-25T00:00:00\", \"2009-03-26T00:00:00\", \"2009-03-27T00:00:00\", \"2009-03-28T00:00:00\", \"2009-03-29T00:00:00\", \"2009-03-30T00:00:00\", \"2009-03-31T00:00:00\", \"2009-04-01T00:00:00\", \"2009-04-02T00:00:00\", \"2009-04-03T00:00:00\", \"2009-04-04T00:00:00\", \"2009-04-05T00:00:00\", \"2009-04-06T00:00:00\", \"2009-04-07T00:00:00\", \"2009-04-08T00:00:00\", \"2009-04-09T00:00:00\", \"2009-04-10T00:00:00\", \"2009-04-11T00:00:00\", \"2009-04-12T00:00:00\", \"2009-04-13T00:00:00\", \"2009-04-14T00:00:00\", \"2009-04-15T00:00:00\", \"2009-04-16T00:00:00\", \"2009-04-17T00:00:00\", \"2009-04-18T00:00:00\", \"2009-04-19T00:00:00\", \"2009-04-20T00:00:00\", \"2009-04-21T00:00:00\", \"2009-04-22T00:00:00\", \"2009-04-23T00:00:00\", \"2009-04-24T00:00:00\", \"2009-04-25T00:00:00\", \"2009-04-26T00:00:00\", \"2009-04-27T00:00:00\", \"2009-04-28T00:00:00\", \"2009-04-29T00:00:00\", \"2009-04-30T00:00:00\", \"2009-05-01T00:00:00\", \"2009-05-02T00:00:00\", \"2009-05-03T00:00:00\", \"2009-05-04T00:00:00\", \"2009-05-05T00:00:00\", \"2009-05-06T00:00:00\", \"2009-05-07T00:00:00\", \"2009-05-08T00:00:00\", \"2009-05-09T00:00:00\", \"2009-05-10T00:00:00\", \"2009-05-11T00:00:00\", \"2009-05-12T00:00:00\", \"2009-05-13T00:00:00\", \"2009-05-14T00:00:00\", \"2009-05-15T00:00:00\", \"2009-05-16T00:00:00\", \"2009-05-17T00:00:00\", \"2009-05-18T00:00:00\", \"2009-05-19T00:00:00\", \"2009-05-20T00:00:00\", \"2009-05-21T00:00:00\", \"2009-05-22T00:00:00\", \"2009-05-23T00:00:00\", \"2009-05-24T00:00:00\", \"2009-05-25T00:00:00\", \"2009-05-26T00:00:00\", \"2009-05-27T00:00:00\", \"2009-05-28T00:00:00\", \"2009-05-29T00:00:00\", \"2009-05-30T00:00:00\", \"2009-05-31T00:00:00\", \"2009-06-01T00:00:00\", \"2009-06-02T00:00:00\", \"2009-06-03T00:00:00\", \"2009-06-04T00:00:00\", \"2009-06-05T00:00:00\", \"2009-06-06T00:00:00\", \"2009-06-07T00:00:00\", \"2009-06-08T00:00:00\", \"2009-06-09T00:00:00\", \"2009-06-10T00:00:00\", \"2009-06-11T00:00:00\", \"2009-06-12T00:00:00\", \"2009-06-13T00:00:00\", \"2009-06-14T00:00:00\", \"2009-06-15T00:00:00\", \"2009-06-16T00:00:00\", \"2009-06-17T00:00:00\", \"2009-06-18T00:00:00\", \"2009-06-19T00:00:00\", \"2009-06-20T00:00:00\", \"2009-06-21T00:00:00\", \"2009-06-22T00:00:00\", \"2009-06-23T00:00:00\", \"2009-06-24T00:00:00\", \"2009-06-25T00:00:00\", \"2009-06-26T00:00:00\", \"2009-06-27T00:00:00\", \"2009-06-28T00:00:00\", \"2009-06-29T00:00:00\", \"2009-06-30T00:00:00\", \"2009-07-01T00:00:00\", \"2009-07-02T00:00:00\", \"2009-07-03T00:00:00\", \"2009-07-04T00:00:00\", \"2009-07-05T00:00:00\", \"2009-07-06T00:00:00\", \"2009-07-07T00:00:00\", \"2009-07-08T00:00:00\", \"2009-07-09T00:00:00\", \"2009-07-10T00:00:00\", \"2009-07-11T00:00:00\", \"2009-07-12T00:00:00\", \"2009-07-13T00:00:00\", \"2009-07-14T00:00:00\", \"2009-07-15T00:00:00\", \"2009-07-16T00:00:00\", \"2009-07-17T00:00:00\", \"2009-07-18T00:00:00\", \"2009-07-19T00:00:00\", \"2009-07-20T00:00:00\", \"2009-07-21T00:00:00\", \"2009-07-22T00:00:00\", \"2009-07-23T00:00:00\", \"2009-07-24T00:00:00\", \"2009-07-25T00:00:00\", \"2009-07-26T00:00:00\", \"2009-07-27T00:00:00\", \"2009-07-28T00:00:00\", \"2009-07-29T00:00:00\", \"2009-07-30T00:00:00\", \"2009-07-31T00:00:00\", \"2009-08-01T00:00:00\", \"2009-08-02T00:00:00\", \"2009-08-03T00:00:00\", \"2009-08-04T00:00:00\", \"2009-08-05T00:00:00\", \"2009-08-06T00:00:00\", \"2009-08-07T00:00:00\", \"2009-08-08T00:00:00\", \"2009-08-09T00:00:00\", \"2009-08-10T00:00:00\", \"2009-08-11T00:00:00\", \"2009-08-12T00:00:00\", \"2009-08-13T00:00:00\", \"2009-08-14T00:00:00\", \"2009-08-15T00:00:00\", \"2009-08-16T00:00:00\", \"2009-08-17T00:00:00\", \"2009-08-18T00:00:00\", \"2009-08-19T00:00:00\", \"2009-08-20T00:00:00\", \"2009-08-21T00:00:00\", \"2009-08-22T00:00:00\", \"2009-08-23T00:00:00\", \"2009-08-24T00:00:00\", \"2009-08-25T00:00:00\", \"2009-08-26T00:00:00\", \"2009-08-27T00:00:00\", \"2009-08-28T00:00:00\", \"2009-08-29T00:00:00\", \"2009-08-30T00:00:00\", \"2009-08-31T00:00:00\", \"2009-09-01T00:00:00\", \"2009-09-02T00:00:00\", \"2009-09-03T00:00:00\", \"2009-09-04T00:00:00\", \"2009-09-05T00:00:00\", \"2009-09-06T00:00:00\", \"2009-09-07T00:00:00\", \"2009-09-08T00:00:00\", \"2009-09-09T00:00:00\", \"2009-09-10T00:00:00\", \"2009-09-11T00:00:00\", \"2009-09-12T00:00:00\", \"2009-09-13T00:00:00\", \"2009-09-14T00:00:00\", \"2009-09-15T00:00:00\", \"2009-09-16T00:00:00\", \"2009-09-17T00:00:00\", \"2009-09-18T00:00:00\", \"2009-09-19T00:00:00\", \"2009-09-20T00:00:00\", \"2009-09-21T00:00:00\", \"2009-09-22T00:00:00\", \"2009-09-23T00:00:00\", \"2009-09-24T00:00:00\", \"2009-09-25T00:00:00\", \"2009-09-26T00:00:00\", \"2009-09-27T00:00:00\", \"2009-09-28T00:00:00\", \"2009-09-29T00:00:00\", \"2009-09-30T00:00:00\", \"2009-10-01T00:00:00\", \"2009-10-02T00:00:00\", \"2009-10-03T00:00:00\", \"2009-10-04T00:00:00\", \"2009-10-05T00:00:00\", \"2009-10-06T00:00:00\", \"2009-10-07T00:00:00\", \"2009-10-08T00:00:00\", \"2009-10-09T00:00:00\", \"2009-10-10T00:00:00\", \"2009-10-11T00:00:00\", \"2009-10-12T00:00:00\", \"2009-10-13T00:00:00\", \"2009-10-14T00:00:00\", \"2009-10-15T00:00:00\", \"2009-10-16T00:00:00\", \"2009-10-17T00:00:00\", \"2009-10-18T00:00:00\", \"2009-10-19T00:00:00\", \"2009-10-20T00:00:00\", \"2009-10-21T00:00:00\", \"2009-10-22T00:00:00\", \"2009-10-23T00:00:00\", \"2009-10-24T00:00:00\", \"2009-10-25T00:00:00\", \"2009-10-26T00:00:00\", \"2009-10-27T00:00:00\", \"2009-10-28T00:00:00\", \"2009-10-29T00:00:00\", \"2009-10-30T00:00:00\", \"2009-10-31T00:00:00\", \"2009-11-01T00:00:00\", \"2009-11-02T00:00:00\", \"2009-11-03T00:00:00\", \"2009-11-04T00:00:00\", \"2009-11-05T00:00:00\", \"2009-11-06T00:00:00\", \"2009-11-07T00:00:00\", \"2009-11-08T00:00:00\", \"2009-11-09T00:00:00\", \"2009-11-10T00:00:00\", \"2009-11-11T00:00:00\", \"2009-11-12T00:00:00\", \"2009-11-13T00:00:00\", \"2009-11-14T00:00:00\", \"2009-11-15T00:00:00\", \"2009-11-16T00:00:00\", \"2009-11-17T00:00:00\", \"2009-11-18T00:00:00\", \"2009-11-19T00:00:00\", \"2009-11-20T00:00:00\", \"2009-11-21T00:00:00\", \"2009-11-22T00:00:00\", \"2009-11-23T00:00:00\", \"2009-11-24T00:00:00\", \"2009-11-25T00:00:00\", \"2009-11-26T00:00:00\", \"2009-11-27T00:00:00\", \"2009-11-28T00:00:00\", \"2009-11-29T00:00:00\", \"2009-11-30T00:00:00\", \"2009-12-01T00:00:00\", \"2009-12-02T00:00:00\", \"2009-12-03T00:00:00\", \"2009-12-04T00:00:00\", \"2009-12-05T00:00:00\", \"2009-12-06T00:00:00\", \"2009-12-07T00:00:00\", \"2009-12-08T00:00:00\", \"2009-12-09T00:00:00\", \"2009-12-10T00:00:00\", \"2009-12-11T00:00:00\", \"2009-12-12T00:00:00\", \"2009-12-13T00:00:00\", \"2009-12-14T00:00:00\", \"2009-12-15T00:00:00\", \"2009-12-16T00:00:00\", \"2009-12-17T00:00:00\", \"2009-12-18T00:00:00\", \"2009-12-19T00:00:00\", \"2009-12-20T00:00:00\", \"2009-12-21T00:00:00\", \"2009-12-22T00:00:00\", \"2009-12-23T00:00:00\", \"2009-12-24T00:00:00\", \"2009-12-25T00:00:00\", \"2009-12-26T00:00:00\", \"2009-12-27T00:00:00\", \"2009-12-28T00:00:00\", \"2009-12-29T00:00:00\", \"2009-12-30T00:00:00\", \"2009-12-31T00:00:00\", \"2010-01-01T00:00:00\", \"2010-01-02T00:00:00\", \"2010-01-03T00:00:00\", \"2010-01-04T00:00:00\", \"2010-01-05T00:00:00\", \"2010-01-06T00:00:00\", \"2010-01-07T00:00:00\", \"2010-01-08T00:00:00\", \"2010-01-09T00:00:00\", \"2010-01-10T00:00:00\", \"2010-01-11T00:00:00\", \"2010-01-12T00:00:00\", \"2010-01-13T00:00:00\", \"2010-01-14T00:00:00\", \"2010-01-15T00:00:00\", \"2010-01-16T00:00:00\", \"2010-01-17T00:00:00\", \"2010-01-18T00:00:00\", \"2010-01-19T00:00:00\", \"2010-01-20T00:00:00\", \"2010-01-21T00:00:00\", \"2010-01-22T00:00:00\", \"2010-01-23T00:00:00\", \"2010-01-24T00:00:00\", \"2010-01-25T00:00:00\", \"2010-01-26T00:00:00\", \"2010-01-27T00:00:00\", \"2010-01-28T00:00:00\", \"2010-01-29T00:00:00\", \"2010-01-30T00:00:00\", \"2010-01-31T00:00:00\", \"2010-02-01T00:00:00\", \"2010-02-02T00:00:00\", \"2010-02-03T00:00:00\", \"2010-02-04T00:00:00\", \"2010-02-05T00:00:00\", \"2010-02-06T00:00:00\", \"2010-02-07T00:00:00\", \"2010-02-08T00:00:00\", \"2010-02-09T00:00:00\", \"2010-02-10T00:00:00\", \"2010-02-11T00:00:00\", \"2010-02-12T00:00:00\", \"2010-02-13T00:00:00\", \"2010-02-14T00:00:00\", \"2010-02-15T00:00:00\", \"2010-02-16T00:00:00\", \"2010-02-17T00:00:00\", \"2010-02-18T00:00:00\", \"2010-02-19T00:00:00\", \"2010-02-20T00:00:00\", \"2010-02-21T00:00:00\", \"2010-02-22T00:00:00\", \"2010-02-23T00:00:00\", \"2010-02-24T00:00:00\", \"2010-02-25T00:00:00\", \"2010-02-26T00:00:00\", \"2010-02-27T00:00:00\", \"2010-02-28T00:00:00\", \"2010-03-01T00:00:00\", \"2010-03-02T00:00:00\", \"2010-03-03T00:00:00\", \"2010-03-04T00:00:00\", \"2010-03-05T00:00:00\", \"2010-03-06T00:00:00\", \"2010-03-07T00:00:00\", \"2010-03-08T00:00:00\", \"2010-03-09T00:00:00\", \"2010-03-10T00:00:00\", \"2010-03-11T00:00:00\", \"2010-03-12T00:00:00\", \"2010-03-13T00:00:00\", \"2010-03-14T00:00:00\", \"2010-03-15T00:00:00\", \"2010-03-16T00:00:00\", \"2010-03-17T00:00:00\", \"2010-03-18T00:00:00\", \"2010-03-19T00:00:00\", \"2010-03-20T00:00:00\", \"2010-03-21T00:00:00\", \"2010-03-22T00:00:00\", \"2010-03-23T00:00:00\", \"2010-03-24T00:00:00\", \"2010-03-25T00:00:00\", \"2010-03-26T00:00:00\", \"2010-03-27T00:00:00\", \"2010-03-28T00:00:00\", \"2010-03-29T00:00:00\", \"2010-03-30T00:00:00\", \"2010-03-31T00:00:00\", \"2010-04-01T00:00:00\", \"2010-04-02T00:00:00\", \"2010-04-03T00:00:00\", \"2010-04-04T00:00:00\", \"2010-04-05T00:00:00\", \"2010-04-06T00:00:00\", \"2010-04-07T00:00:00\", \"2010-04-08T00:00:00\", \"2010-04-09T00:00:00\", \"2010-04-10T00:00:00\", \"2010-04-11T00:00:00\", \"2010-04-12T00:00:00\", \"2010-04-13T00:00:00\", \"2010-04-14T00:00:00\", \"2010-04-15T00:00:00\", \"2010-04-16T00:00:00\", \"2010-04-17T00:00:00\", \"2010-04-18T00:00:00\", \"2010-04-19T00:00:00\", \"2010-04-20T00:00:00\", \"2010-04-21T00:00:00\", \"2010-04-22T00:00:00\", \"2010-04-23T00:00:00\", \"2010-04-24T00:00:00\", \"2010-04-25T00:00:00\", \"2010-04-26T00:00:00\", \"2010-04-27T00:00:00\", \"2010-04-28T00:00:00\", \"2010-04-29T00:00:00\", \"2010-04-30T00:00:00\", \"2010-05-01T00:00:00\", \"2010-05-02T00:00:00\", \"2010-05-03T00:00:00\", \"2010-05-04T00:00:00\", \"2010-05-05T00:00:00\", \"2010-05-06T00:00:00\", \"2010-05-07T00:00:00\", \"2010-05-08T00:00:00\", \"2010-05-09T00:00:00\", \"2010-05-10T00:00:00\", \"2010-05-11T00:00:00\", \"2010-05-12T00:00:00\", \"2010-05-13T00:00:00\", \"2010-05-14T00:00:00\", \"2010-05-15T00:00:00\", \"2010-05-16T00:00:00\", \"2010-05-17T00:00:00\", \"2010-05-18T00:00:00\", \"2010-05-19T00:00:00\", \"2010-05-20T00:00:00\", \"2010-05-21T00:00:00\", \"2010-05-22T00:00:00\", \"2010-05-23T00:00:00\", \"2010-05-24T00:00:00\", \"2010-05-25T00:00:00\", \"2010-05-26T00:00:00\", \"2010-05-27T00:00:00\", \"2010-05-28T00:00:00\", \"2010-05-29T00:00:00\", \"2010-05-30T00:00:00\", \"2010-05-31T00:00:00\", \"2010-06-01T00:00:00\", \"2010-06-02T00:00:00\", \"2010-06-03T00:00:00\", \"2010-06-04T00:00:00\", \"2010-06-05T00:00:00\", \"2010-06-06T00:00:00\", \"2010-06-07T00:00:00\", \"2010-06-08T00:00:00\", \"2010-06-09T00:00:00\", \"2010-06-10T00:00:00\", \"2010-06-11T00:00:00\", \"2010-06-12T00:00:00\", \"2010-06-13T00:00:00\", \"2010-06-14T00:00:00\", \"2010-06-15T00:00:00\", \"2010-06-16T00:00:00\", \"2010-06-17T00:00:00\", \"2010-06-18T00:00:00\", \"2010-06-19T00:00:00\", \"2010-06-20T00:00:00\", \"2010-06-21T00:00:00\", \"2010-06-22T00:00:00\", \"2010-06-23T00:00:00\", \"2010-06-24T00:00:00\", \"2010-06-25T00:00:00\", \"2010-06-26T00:00:00\", \"2010-06-27T00:00:00\", \"2010-06-28T00:00:00\", \"2010-06-29T00:00:00\", \"2010-06-30T00:00:00\", \"2010-07-01T00:00:00\", \"2010-07-02T00:00:00\", \"2010-07-03T00:00:00\", \"2010-07-04T00:00:00\", \"2010-07-05T00:00:00\", \"2010-07-06T00:00:00\", \"2010-07-07T00:00:00\", \"2010-07-08T00:00:00\", \"2010-07-09T00:00:00\", \"2010-07-10T00:00:00\", \"2010-07-11T00:00:00\", \"2010-07-12T00:00:00\", \"2010-07-13T00:00:00\", \"2010-07-14T00:00:00\", \"2010-07-15T00:00:00\", \"2010-07-16T00:00:00\", \"2010-07-17T00:00:00\", \"2010-07-18T00:00:00\", \"2010-07-19T00:00:00\", \"2010-07-20T00:00:00\", \"2010-07-21T00:00:00\", \"2010-07-22T00:00:00\", \"2010-07-23T00:00:00\", \"2010-07-24T00:00:00\", \"2010-07-25T00:00:00\", \"2010-07-26T00:00:00\", \"2010-07-27T00:00:00\", \"2010-07-28T00:00:00\", \"2010-07-29T00:00:00\", \"2010-07-30T00:00:00\", \"2010-07-31T00:00:00\", \"2010-08-01T00:00:00\", \"2010-08-02T00:00:00\", \"2010-08-03T00:00:00\", \"2010-08-04T00:00:00\", \"2010-08-05T00:00:00\", \"2010-08-06T00:00:00\", \"2010-08-07T00:00:00\", \"2010-08-08T00:00:00\", \"2010-08-09T00:00:00\", \"2010-08-10T00:00:00\", \"2010-08-11T00:00:00\", \"2010-08-12T00:00:00\", \"2010-08-13T00:00:00\", \"2010-08-14T00:00:00\", \"2010-08-15T00:00:00\", \"2010-08-16T00:00:00\", \"2010-08-17T00:00:00\", \"2010-08-18T00:00:00\", \"2010-08-19T00:00:00\", \"2010-08-20T00:00:00\", \"2010-08-21T00:00:00\", \"2010-08-22T00:00:00\", \"2010-08-23T00:00:00\", \"2010-08-24T00:00:00\", \"2010-08-25T00:00:00\", \"2010-08-26T00:00:00\", \"2010-08-27T00:00:00\", \"2010-08-28T00:00:00\", \"2010-08-29T00:00:00\", \"2010-08-30T00:00:00\", \"2010-08-31T00:00:00\", \"2010-09-01T00:00:00\", \"2010-09-02T00:00:00\", \"2010-09-03T00:00:00\", \"2010-09-04T00:00:00\", \"2010-09-05T00:00:00\", \"2010-09-06T00:00:00\", \"2010-09-07T00:00:00\", \"2010-09-08T00:00:00\", \"2010-09-09T00:00:00\", \"2010-09-10T00:00:00\", \"2010-09-11T00:00:00\", \"2010-09-12T00:00:00\", \"2010-09-13T00:00:00\", \"2010-09-14T00:00:00\", \"2010-09-15T00:00:00\", \"2010-09-16T00:00:00\", \"2010-09-17T00:00:00\", \"2010-09-18T00:00:00\", \"2010-09-19T00:00:00\", \"2010-09-20T00:00:00\", \"2010-09-21T00:00:00\", \"2010-09-22T00:00:00\", \"2010-09-23T00:00:00\", \"2010-09-24T00:00:00\", \"2010-09-25T00:00:00\", \"2010-09-26T00:00:00\", \"2010-09-27T00:00:00\", \"2010-09-28T00:00:00\", \"2010-09-29T00:00:00\", \"2010-09-30T00:00:00\", \"2010-10-01T00:00:00\", \"2010-10-02T00:00:00\", \"2010-10-03T00:00:00\", \"2010-10-04T00:00:00\", \"2010-10-05T00:00:00\", \"2010-10-06T00:00:00\", \"2010-10-07T00:00:00\", \"2010-10-08T00:00:00\", \"2010-10-09T00:00:00\", \"2010-10-10T00:00:00\", \"2010-10-11T00:00:00\", \"2010-10-12T00:00:00\", \"2010-10-13T00:00:00\", \"2010-10-14T00:00:00\", \"2010-10-15T00:00:00\", \"2010-10-16T00:00:00\", \"2010-10-17T00:00:00\", \"2010-10-18T00:00:00\", \"2010-10-19T00:00:00\", \"2010-10-20T00:00:00\", \"2010-10-21T00:00:00\", \"2010-10-22T00:00:00\", \"2010-10-23T00:00:00\", \"2010-10-24T00:00:00\", \"2010-10-25T00:00:00\", \"2010-10-26T00:00:00\", \"2010-10-27T00:00:00\", \"2010-10-28T00:00:00\", \"2010-10-29T00:00:00\", \"2010-10-30T00:00:00\", \"2010-10-31T00:00:00\", \"2010-11-01T00:00:00\", \"2010-11-02T00:00:00\", \"2010-11-03T00:00:00\", \"2010-11-04T00:00:00\", \"2010-11-05T00:00:00\", \"2010-11-06T00:00:00\", \"2010-11-07T00:00:00\", \"2010-11-08T00:00:00\", \"2010-11-09T00:00:00\", \"2010-11-10T00:00:00\", \"2010-11-11T00:00:00\", \"2010-11-12T00:00:00\", \"2010-11-13T00:00:00\", \"2010-11-14T00:00:00\", \"2010-11-15T00:00:00\", \"2010-11-16T00:00:00\", \"2010-11-17T00:00:00\", \"2010-11-18T00:00:00\", \"2010-11-19T00:00:00\", \"2010-11-20T00:00:00\", \"2010-11-21T00:00:00\", \"2010-11-22T00:00:00\", \"2010-11-23T00:00:00\", \"2010-11-24T00:00:00\", \"2010-11-25T00:00:00\", \"2010-11-26T00:00:00\", \"2010-11-27T00:00:00\", \"2010-11-28T00:00:00\", \"2010-11-29T00:00:00\", \"2010-11-30T00:00:00\", \"2010-12-01T00:00:00\", \"2010-12-02T00:00:00\", \"2010-12-03T00:00:00\", \"2010-12-04T00:00:00\", \"2010-12-05T00:00:00\", \"2010-12-06T00:00:00\", \"2010-12-07T00:00:00\", \"2010-12-08T00:00:00\", \"2010-12-09T00:00:00\", \"2010-12-10T00:00:00\", \"2010-12-11T00:00:00\", \"2010-12-12T00:00:00\", \"2010-12-13T00:00:00\", \"2010-12-14T00:00:00\", \"2010-12-15T00:00:00\", \"2010-12-16T00:00:00\", \"2010-12-17T00:00:00\", \"2010-12-18T00:00:00\", \"2010-12-19T00:00:00\", \"2010-12-20T00:00:00\", \"2010-12-21T00:00:00\", \"2010-12-22T00:00:00\", \"2010-12-23T00:00:00\", \"2010-12-24T00:00:00\", \"2010-12-25T00:00:00\", \"2010-12-26T00:00:00\", \"2010-12-27T00:00:00\", \"2010-12-28T00:00:00\", \"2010-12-29T00:00:00\", \"2010-12-30T00:00:00\", \"2010-12-31T00:00:00\", \"2011-01-01T00:00:00\", \"2011-01-02T00:00:00\", \"2011-01-03T00:00:00\", \"2011-01-04T00:00:00\", \"2011-01-05T00:00:00\", \"2011-01-06T00:00:00\", \"2011-01-07T00:00:00\", \"2011-01-08T00:00:00\", \"2011-01-09T00:00:00\", \"2011-01-10T00:00:00\", \"2011-01-11T00:00:00\", \"2011-01-12T00:00:00\", \"2011-01-13T00:00:00\", \"2011-01-14T00:00:00\", \"2011-01-15T00:00:00\", \"2011-01-16T00:00:00\", \"2011-01-17T00:00:00\", \"2011-01-18T00:00:00\", \"2011-01-19T00:00:00\", \"2011-01-20T00:00:00\", \"2011-01-21T00:00:00\", \"2011-01-22T00:00:00\", \"2011-01-23T00:00:00\", \"2011-01-24T00:00:00\", \"2011-01-25T00:00:00\", \"2011-01-26T00:00:00\", \"2011-01-27T00:00:00\", \"2011-01-28T00:00:00\", \"2011-01-29T00:00:00\", \"2011-01-30T00:00:00\", \"2011-01-31T00:00:00\", \"2011-02-01T00:00:00\", \"2011-02-02T00:00:00\", \"2011-02-03T00:00:00\", \"2011-02-04T00:00:00\", \"2011-02-05T00:00:00\", \"2011-02-06T00:00:00\", \"2011-02-07T00:00:00\", \"2011-02-08T00:00:00\", \"2011-02-09T00:00:00\", \"2011-02-10T00:00:00\", \"2011-02-11T00:00:00\", \"2011-02-12T00:00:00\", \"2011-02-13T00:00:00\", \"2011-02-14T00:00:00\", \"2011-02-15T00:00:00\", \"2011-02-16T00:00:00\", \"2011-02-17T00:00:00\", \"2011-02-18T00:00:00\", \"2011-02-19T00:00:00\", \"2011-02-20T00:00:00\", \"2011-02-21T00:00:00\", \"2011-02-22T00:00:00\", \"2011-02-23T00:00:00\", \"2011-02-24T00:00:00\", \"2011-02-25T00:00:00\", \"2011-02-26T00:00:00\", \"2011-02-27T00:00:00\", \"2011-02-28T00:00:00\", \"2011-03-01T00:00:00\", \"2011-03-02T00:00:00\", \"2011-03-03T00:00:00\", \"2011-03-04T00:00:00\", \"2011-03-05T00:00:00\", \"2011-03-06T00:00:00\", \"2011-03-07T00:00:00\", \"2011-03-08T00:00:00\", \"2011-03-09T00:00:00\", \"2011-03-10T00:00:00\", \"2011-03-11T00:00:00\", \"2011-03-12T00:00:00\", \"2011-03-13T00:00:00\", \"2011-03-14T00:00:00\", \"2011-03-15T00:00:00\", \"2011-03-16T00:00:00\", \"2011-03-17T00:00:00\", \"2011-03-18T00:00:00\", \"2011-03-19T00:00:00\", \"2011-03-20T00:00:00\", \"2011-03-21T00:00:00\", \"2011-03-22T00:00:00\", \"2011-03-23T00:00:00\", \"2011-03-24T00:00:00\", \"2011-03-25T00:00:00\", \"2011-03-26T00:00:00\", \"2011-03-27T00:00:00\", \"2011-03-28T00:00:00\", \"2011-03-29T00:00:00\", \"2011-03-30T00:00:00\", \"2011-03-31T00:00:00\", \"2011-04-01T00:00:00\", \"2011-04-02T00:00:00\", \"2011-04-03T00:00:00\", \"2011-04-04T00:00:00\", \"2011-04-05T00:00:00\", \"2011-04-06T00:00:00\", \"2011-04-07T00:00:00\", \"2011-04-08T00:00:00\", \"2011-04-09T00:00:00\", \"2011-04-10T00:00:00\", \"2011-04-11T00:00:00\", \"2011-04-12T00:00:00\", \"2011-04-13T00:00:00\", \"2011-04-14T00:00:00\", \"2011-04-15T00:00:00\", \"2011-04-16T00:00:00\", \"2011-04-17T00:00:00\", \"2011-04-18T00:00:00\", \"2011-04-19T00:00:00\", \"2011-04-20T00:00:00\", \"2011-04-21T00:00:00\", \"2011-04-22T00:00:00\", \"2011-04-23T00:00:00\", \"2011-04-24T00:00:00\", \"2011-04-25T00:00:00\", \"2011-04-26T00:00:00\", \"2011-04-27T00:00:00\", \"2011-04-28T00:00:00\", \"2011-04-29T00:00:00\", \"2011-04-30T00:00:00\", \"2011-05-01T00:00:00\", \"2011-05-02T00:00:00\", \"2011-05-03T00:00:00\", \"2011-05-04T00:00:00\", \"2011-05-05T00:00:00\", \"2011-05-06T00:00:00\", \"2011-05-07T00:00:00\", \"2011-05-08T00:00:00\", \"2011-05-09T00:00:00\", \"2011-05-10T00:00:00\", \"2011-05-11T00:00:00\", \"2011-05-12T00:00:00\", \"2011-05-13T00:00:00\", \"2011-05-14T00:00:00\", \"2011-05-15T00:00:00\", \"2011-05-16T00:00:00\", \"2011-05-17T00:00:00\", \"2011-05-18T00:00:00\", \"2011-05-19T00:00:00\", \"2011-05-20T00:00:00\", \"2011-05-21T00:00:00\", \"2011-05-22T00:00:00\", \"2011-05-23T00:00:00\", \"2011-05-24T00:00:00\", \"2011-05-25T00:00:00\", \"2011-05-26T00:00:00\", \"2011-05-27T00:00:00\", \"2011-05-28T00:00:00\", \"2011-05-29T00:00:00\", \"2011-05-30T00:00:00\", \"2011-05-31T00:00:00\", \"2011-06-01T00:00:00\", \"2011-06-02T00:00:00\", \"2011-06-03T00:00:00\", \"2011-06-04T00:00:00\", \"2011-06-05T00:00:00\", \"2011-06-06T00:00:00\", \"2011-06-07T00:00:00\", \"2011-06-08T00:00:00\", \"2011-06-09T00:00:00\", \"2011-06-10T00:00:00\", \"2011-06-11T00:00:00\", \"2011-06-12T00:00:00\", \"2011-06-13T00:00:00\", \"2011-06-14T00:00:00\", \"2011-06-15T00:00:00\", \"2011-06-16T00:00:00\", \"2011-06-17T00:00:00\", \"2011-06-18T00:00:00\", \"2011-06-19T00:00:00\", \"2011-06-20T00:00:00\", \"2011-06-21T00:00:00\", \"2011-06-22T00:00:00\", \"2011-06-23T00:00:00\", \"2011-06-24T00:00:00\", \"2011-06-25T00:00:00\", \"2011-06-26T00:00:00\", \"2011-06-27T00:00:00\", \"2011-06-28T00:00:00\", \"2011-06-29T00:00:00\", \"2011-06-30T00:00:00\", \"2011-07-01T00:00:00\", \"2011-07-02T00:00:00\", \"2011-07-03T00:00:00\", \"2011-07-04T00:00:00\", \"2011-07-05T00:00:00\", \"2011-07-06T00:00:00\", \"2011-07-07T00:00:00\", \"2011-07-08T00:00:00\", \"2011-07-09T00:00:00\", \"2011-07-10T00:00:00\", \"2011-07-11T00:00:00\", \"2011-07-12T00:00:00\", \"2011-07-13T00:00:00\", \"2011-07-14T00:00:00\", \"2011-07-15T00:00:00\", \"2011-07-16T00:00:00\", \"2011-07-17T00:00:00\", \"2011-07-18T00:00:00\", \"2011-07-19T00:00:00\", \"2011-07-20T00:00:00\", \"2011-07-21T00:00:00\", \"2011-07-22T00:00:00\", \"2011-07-23T00:00:00\", \"2011-07-24T00:00:00\", \"2011-07-25T00:00:00\", \"2011-07-26T00:00:00\", \"2011-07-27T00:00:00\", \"2011-07-28T00:00:00\", \"2011-07-29T00:00:00\", \"2011-07-30T00:00:00\", \"2011-07-31T00:00:00\", \"2011-08-01T00:00:00\", \"2011-08-02T00:00:00\", \"2011-08-03T00:00:00\", \"2011-08-04T00:00:00\", \"2011-08-05T00:00:00\", \"2011-08-06T00:00:00\"], \"y\": [700.0, 3050.0, 4650.0, 4700.0, 6150.0, 6450.0, 6300.0, 5400.0, 5450.0, 5350.0, 5750.0, 5700.0, 5100.0, 4550.0, 4200.0, 10050.0, 9550.0, 4800.0, 4850.0, 5600.0, 6050.0, 5850.0, 6900.0, 5650.0, 6400.0, 6950.000000000001, 5950.0, 6300.0, 6100.0, 6450.0, 6600.0, 6700.0, 6000.0, 6650.0, 5950.0, 6200.0, 6800.0, 6400.0, 6100.0, 5850.0, 5900.0, 6200.0, 6100.0, 5700.0, 6050.0, 5400.0, 5300.0, 5250.0, 5350.0, 5750.0, 4950.0, 5250.0, 5400.0, 5250.0, 5200.0, 5600.0, 5850.0, 5450.0, 5750.0, 5400.0, 5350.0, 5700.0, 5900.0, 5650.0, 5500.0, 6150.0, 6050.0, 5700.0, 5700.0, 6100.0, 5900.0, 2500.0, 5950.0, 6500.0, 5250.0, 5850.0, 5850.0, 5300.0, 5950.0, 5800.0, 6000.0, 5500.0, 5700.0, 5750.0, 5800.0, 5650.0, 6500.0, 5450.0, 5000.0, 5250.0, 4950.0, 5400.0, 6000.0, 5900.0, 5750.0, 6200.0, 5650.0, 6150.0, 5600.0, 6300.0, 5950.0, 5950.0, 6150.0, 6050.0, 3750.0, 5750.0, 5900.0, 5600.0, 5200.0, 5850.0, 6400.0, 6550.0, 6050.0, 6299.999999999998, 5300.0, 6400.0, 6750.0, 6750.0, 6100.0, 5350.0, 3900.0, 4250.0, 6000.0, 6500.0, 5550.0, 6950.0, 6800.0, 5950.0, 6350.0, 5900.0, 4300.0, 6000.0, 4100.0, 3050.0, 1600.0, 5000.0, 5450.0, 6250.0, 5950.0, 4750.0, 5300.0, 5450.0, 4800.0, 3550.0, 5550.0, 3550.0, 3300.0, 1500.0, 1400.0, 800.0, 4100.0, 4550.0, 4100.0, 4450.0, 4300.0, 3900.0, 3600.0, 4200.0, 3550.0, 3950.0, 4000.0, 4350.0, 3900.0, 4050.0, 3800.0, 3800.0, 4750.0, 3400.0, 4500.0, 4200.0, 2300.0, 4150.0, 4250.0, 3700.0, 4150.0, 4100.0, 4450.0, 3950.0, 4200.0, 3450.0, 3700.0, 4300.0, 4050.0, 4150.0, 3850.0, 3900.0, 3450.0, 2250.0, 3550.0, 2350.0, 200.0, 3500.0, 3500.0, 4100.0, 3000.0, 3800.0, 3650.0, 1600.0, 1050.0, 3700.0, 2050.0, 950.0, 750.0, 850.0, 1400.0, 1150.0, 600.0, 4050.0, 4350.0, 4500.0, 4000.0, 4000.0, 5050.0, 3750.0, 3500.0, 3150.0, 4250.0, 3150.0, 1300.0, 950.0, 850.0, 500.0, 900.0, 1100.0, 700.0, 350.0, 750.0, 750.0, 2500.0, 2400.0000000000005, 1450.0, 3750.0, 3900.0, 4850.0, 4300.0, 3900.0, 3300.0, 3050.0, 3200.0, 3800.0, 3400.0, 3900.0, 3450.0, 2700.0, 3350.0, 3350.0, 3450.0, 3750.0, 3700.0, 2200.0, 3600.0, 4200.000000000002, 3900.0, 3700.0, 3900.0, 3450.0, 1250.0, 1800.0, 4850.0, 4550.0, 5000.0, 4350.0, 4250.0, 4400.0, 4250.0, 4100.0, 3600.0, 2900.0, 2650.0, 2750.0, 2150.0, 3000.0, 3500.0, 3950.0, 3850.0, 3700.0, 2900.0, 2850.0, 3450.0, 3550.0, 3000.0, 2850.0, 3700.0, 5600.0, 4750.000000000001, 4000.0, 4500.0, 4450.0, 3100.0, 3800.0, 3550.0, 3200.0, 3300.0, 2300.0, 3000.0, 2300.0, 1250.0, 1650.0, 3100.0, 3150.0, 2850.0, 3100.0, 3450.0, 3650.0, 3200.0, 3900.0, 3200.0, 3300.0, 4000.0, 3950.0, 4800.0, 4850.0, 4600.0, 3950.0, 3500.0, 4300.0, 3650.0, 5300.0, 4800.0, 4650.0, 4500.0, 4200.0, 3700.0, 3550.0, 3000.0, 3750.0, 3650.0, 4700.0, 4400.0, 1800.0, 3200.0, 5150.0, 5600.0, 5250.0, 4800.0, 5200.0, 5600.0, 5500.0, 5700.0, 5100.0, 5500.0, 6800.0, 8450.0, 11250.0, 9900.0, 8750.0, 8750.0, 8100.0, 7700.0, 7700.0, 7450.0, 8700.0, 8350.0, 6850.0, 8550.0, 7050.0, 6900.0, 4450.0, 4600.0, 6850.0, 6400.000000000004, 7100.0, 5700.0, 4900.0, 4750.0, 4750.0, 7150.0, 5900.0, 6399.999999999996, 5593.0, 4950.0, 5150.0, 4450.0, 4750.0, 5200.0, 5700.0, 7250.0, 6900.0, 4899.0, 6350.0, 5800.0, 8500.0, 7600.0, 6250.0, 7000.0, 7650.0, 8300.0, 7600.0, 8450.0, 6200.0, 11000.0, 8900.0, 8650.000000000004, 6800.0, 9400.0, 6550.0, 8100.439999999999, 6350.0, 6550.0, 7200.0, 10000.0, 8050.0, 6563.370000000003, 7850.999999999999, 6166.830000000002, 7750.0, 7450.0, 8550.0, 8200.0, 9300.0, 9900.0, 5750.0, 5150.0, 6100.0, 6750.0, 6050.0, 7450.0, 7150.0, 5550.0, 6600.0, 5800.0, 6350.000000000004, 6900.0, 4399.99, 5450.0, 6100.0, 5250.0, 4200.0, 6000.0, 4700.0, 4750.0, 4750.0, 5050.0, 5110.0, 5050.0, 7401.0, 6899.0, 5900.0, 7396.58, 5550.0, 6300.0, 7100.0, 6700.0, 6800.0, 5950.0, 7850.0, 7750.000000000001, 6000.0, 5250.0, 5400.0, 4650.0, 3020.0, 3536.630000000001, 2346.9000000000005, 7050.0, 7597.889999999996, 11099.730000000001, 5330.0, 7400.060000000001, 7250.0, 6250.000000000002, 7939.799999999996, 7195.65, 8550.0, 8800.000000000487, 9099.999999999998, 7345.0, 8751.0, 5850.000000000004, 5649.999999999999, -1446.0599999999995, 5790.000000000002, 6500.000000000004, 6037.98, 6600.000000000001, 5249.999999999999, -800.0, 5900.0, 5753.0, 5750.0, 5550.0, 5800.0, 2850.0, 5750.0, 6950.000000000002, 6400.000000000001, 4949.999999999999, 4750.0, -649.9999999999964, 5449.999999999998, 5249.999999999867, 4049.999999999807, 4700.0, 6349.999999999998, 6950.0, 7470.0, 8700.0, 7590.000000000007, 8499.010000000148, 9700.0, 7895.0, 9300.0, 9250.0, 8000.0, 9850.000000000007, 8149.999999999989, 6649.999999999999, 6600.0, 6223.3, 6900.0, 6683.289999999999, 5500.0, 6600.0, 6700.0, 7050.000000000004, 7000.0, -1652.0800000000017, 7189.969999999994, 7845.0, 6150.0, 7813.369999999999, 6785.0, 6434.989999999998, 6319.909999999996, 6196.259999999998, 6800.0, -14174.999999999993, 7690.0, 6850.0, 6800.0, 6770.0, 6744.0, 5630.0, 6740.0, 7620.0, 5870.0, 7374.999999999989, 8128.999999999134, 9444.0, 7539.999999999709, 9445.0, 6585.5, 7595.999999999993, 7240.0, 6425.000000000004, 6220.0, 7914.0, 7819.999999999998, 7590.0, 20350.040000000037, 24754.520000000015, 19913.420000005957, 23960.469999999055, 18802.89000000006, 6251.1899999999805, 7242.299999999974, 6954.779999999995, 6833.679999999986, 8287.56999999997, 5832.749999999978, 8305.299999999977, -16586.14, 8988.670000000006, 6917.820000000014, 6489.419999999969, 5956.929999999207, 7589.689999999999, 6349.069999999965, 7479.379999999981, 8098.409999999938, 8494.51000000006, 7466.30999999983, 9238.28, 7974.299999999988, 5677.099999999969, 5443.069999999989, 8529.469999999998, -1178.2600000006641, 7240.16, 8373.969999999994, 8123.589999999991, 8369.230000000032, 11388.139999999963, 7724.099999999997, 5673.369999999981, 5231.659999999996, 4973.650000000383, 5248.7399999999925, 7028.839999999993, 6897.37999999999, 9049.209999999994, 8797.05, 7731.579999999905, 9349.649999999994, 7999.54999999999, 6189.149999999987, 6330.549999699995, 6450.240000000003, 6548.949999899976, 7199.659999900243, 5822.83999979998, 5772.119999999999, 6686.969999999983, 7099.36999999999, 6687.420000000013, 6496.940000000017, 6564.779999999997, 5597.179999899996, 5300.629999999979, 6736.969999999992, 6222.7800000000025, 7548.46999999999, 7197.460000000006, 8192.559999999994, 6998.889603519987, 9248.749999999964, 9143.86000000003, 9983.749999999989, 8688.799999999992, 8496.600000000002, 7637.460000000003, 7311.909999999989, 10235.900000000009, 10529.440000000011, 9478.529999999988, 8938.199999999964, 10393.509999999973, 8878.879928020033, 4622.239999999987, 5729.460000000039, 6141.879999999692, 4329.98000000004, 5349.4500000000335, 4214.279999999984, 5785.47000000003, 5820.75999999998, 6585.940000000002, 5832.87000000001, 6782.549999999988, 7833.989999999991, 6781.479999999989, 6286.300000000003, 7434.150000000009, 8194.000000000015, 8106.249999999971, 11221.00000000003, 11735.45999999999, 10077.490000000053, 10643.999999999949, 11004.02000000004, 7013.462233850019, 6329.499999999993, 7278.59, 8991.48000000001, 8281.310000000012, 10132.30999999999, 5853.489999999976, 9099.849999999948, 9495.730000000032, 11138.949999999986, 7240.299999999988, 7353.640000000014, 7399.30000000001, 7869.499999999985, 8498.24000000002, 9697.900000000005, 9812.340000000011, 11043.330000000009, 3356.7200000000303, 8716.52999999998, 8990.679999999986, 9538.76, 7444.359999999999, 9694.749999999996, 11049.440000000024, 8819.980000001393, 9142.100000000853, 11448.35000000006, 11593.259999999984, 6749.040000000001, 5294.740000000016, 6545.789999999935, 7545.409999999949, 6079.7400000000125, 7493.370000001065, 8368.359999999346, 8697.610000000102, 7996.589999999989, 7746.889999999981, 9048.24999999997, 9196.130000000026, 8817.650000000016, 8646.830000000045, 8348.049999999977, 10440.109999999957, 10694.559999999998, 11177.370000000097, 9046.040000000088, 10621.519999999942, 10288.729998909974, 7165.199999999981, 8392.933556060052, 7390.566031029921, 6390.039999999986, 7344.5999999999585, 9030.499999999964, 7984.999999999978, 7246.009999999969, 7321.529999999988, 8395.250000000204, 7048.960000000396, 9195.89000000016, 7120.23999999994, 6599.0986108499965, 7044.579999999982, 7831.519999999993, 6966.489999999994, 7882.490000000071, 7428.269999999935, 7643.234254330135, 8187.279999999984, 7722.49999999996, -11299.459152580002, -19522.08266553999, -18643.645623939974, -5385.99774982, -12522.985279180004, -5651.208520669999, -13747.261525169999, -14169.82, -8341.079999999998, -29775.25884468998, -50885.31614890999, -5992.186680190001, -57564.86158404002, -13838.038409260002, -6292.007430520002, -14557.02792852, -22564.644835759977, -18939.489608710002, -22368.58, -6017.189823250001, -8372.051043480002, -10395.159388510005, -24025.144527409997, -20017.739157549982, -4320.02, -18692.76, -343544.10000000003, -9869.05, -21248.671956079954, -5085.838680420001, -42515.52000000001, -23266.049999999992, -22962.199999999993, -6406.550009990003, -7364.808344660001, -4832.541925230001, -15481.269999999999, -40291.55312083, -2440.5599999999995, -14300.09649295, -4807.779997900001, -11882.733043080001, -3389.6708278500014, -1882.0699999999997, -27631.891377249958, -2145.9700000000003, -2054.33, -1522.0699999999997, -3911.030000000001, -2322.8799999999997, -6714.100000000001, -2809.9399999999996, -7949.990000000001, -1097.74785377, -6687.300000000001, -1555.1999999999998, -15623.51, -14499.18, -4387.110000000001, -93078.64, -1042.9499999999998, -263.34000000000003, -7199.49, -5126.8, -510.06000000000006, -355.43, -5202.6, -160.96999999999997, -547.5700000000002, -1719.9799999999998, -17813.72, -311.76000000000005, -17749.379999999997, -8770.48, -20073.110000000004, -1856.1, -104.07, -1071.18, -605.7270786999999, -5510.740000000001, -800.05, -8554.669987110006, -16843.729999999992, -888.5799999999998, -11845.21, -5383.340000000002, -1529.249999999999, -657.94, -657.7899999999996, -410.27, -1737.26211823, -1.05, -475.90000000000003, -13462.010000400005, -10592.8, -1726.1599999999999, -1148.18, -1055.04, -345.93, -197.37368921, -610.52, -2132.38, -1872.5599999999997, -1820.1, -6261.23, -10858.66, -391.9800000000001, -3261.5899999999997, -1601.84, -3231.28, -12.95, -1686.85, -7835.140000000001, -1544.9439114499999, -5149.580000000001, -4900.3, -5437.259064270001, -6344.0599999999995, -6730.06, -6993.66297404, -5557.830000000004, -7485.730000000001, -16083.740000000002, -28645.019999999997, -2546.1600000000003, -2095.7721677, -3770.080000000001, -3034.7009003100006, -5716.96, -7854.400000000004, -11815.130000000001, -47502.23657495, -16645.190584779994, -7243.249999999999, -1764.6399999999996, -45070.20000000001, -2453.42, -4294.121473270001, -10385.939999999999, -7503.470000000002, -4457.841506180001, -1806.2899999999997, -3564.5300000000007, -10874.389999999998, -7980.372197960001, -4444.1500000000015, -3320.5138028400006, -3049.6, -1632.0499999999997, -8027.850000000001, -2894.91004383, -3483.6000000000004, -18695.949999999997, -39491.18190056009, -5353.085506810002, -27534.409999999996, -5929.170000000002, -6838.850000000001, -59134.44000000003, -21354.280755169984, -18120.52280389998, -35931.201377379984, -10561.15717941, -32833.38, -73087.95000000001, -84256.84999999999, -42355.21000000001, -6337.440965080001, -1844.05, -16212.82496468, -5220.080000000001, -1381.2106193799998, -545.1999999999999, -1240.37, -3830.34944146, -900.0049200999999, -21059.75, -8660.55, -7911.895150210001, -5568.01, -1013.1999999999999, -2640.4000000000005, -355.01, -1682.7349829099996, -1356.8, -8201.150000000001, -1213.1699999999998, -3552.11, -1824.81, -359.05, -14210.61, -5085.620000000001, -1355.05, -56.18, -1502.78, -1775.05, -430.05, -1200.05, -2676.3, -1600.9499999999998, -555.0799999999999, -250.62, -150.05, -250.05, -125.0, -746.79, -789.0, -830.2499999999998, -886.9099999999997, -600.06, -2000.05, -80.06, -1426.05, -2106.22081716, -343.03, -6185.790000000001, -2651.59, -1109.949999999999]}],\n",
              "                        {\"template\": {\"data\": {\"bar\": [{\"error_x\": {\"color\": \"#2a3f5f\"}, \"error_y\": {\"color\": \"#2a3f5f\"}, \"marker\": {\"line\": {\"color\": \"#E5ECF6\", \"width\": 0.5}}, \"type\": \"bar\"}], \"barpolar\": [{\"marker\": {\"line\": {\"color\": \"#E5ECF6\", \"width\": 0.5}}, \"type\": \"barpolar\"}], \"carpet\": [{\"aaxis\": {\"endlinecolor\": \"#2a3f5f\", \"gridcolor\": \"white\", \"linecolor\": \"white\", \"minorgridcolor\": \"white\", \"startlinecolor\": \"#2a3f5f\"}, \"baxis\": {\"endlinecolor\": \"#2a3f5f\", \"gridcolor\": \"white\", \"linecolor\": \"white\", \"minorgridcolor\": \"white\", \"startlinecolor\": \"#2a3f5f\"}, \"type\": \"carpet\"}], \"choropleth\": [{\"colorbar\": {\"outlinewidth\": 0, \"ticks\": \"\"}, \"type\": \"choropleth\"}], \"contour\": [{\"colorbar\": {\"outlinewidth\": 0, \"ticks\": \"\"}, \"colorscale\": [[0.0, \"#0d0887\"], [0.1111111111111111, \"#46039f\"], [0.2222222222222222, \"#7201a8\"], [0.3333333333333333, \"#9c179e\"], [0.4444444444444444, \"#bd3786\"], [0.5555555555555556, \"#d8576b\"], [0.6666666666666666, \"#ed7953\"], [0.7777777777777778, \"#fb9f3a\"], [0.8888888888888888, \"#fdca26\"], [1.0, \"#f0f921\"]], \"type\": \"contour\"}], \"contourcarpet\": [{\"colorbar\": {\"outlinewidth\": 0, \"ticks\": \"\"}, \"type\": \"contourcarpet\"}], \"heatmap\": [{\"colorbar\": {\"outlinewidth\": 0, \"ticks\": \"\"}, \"colorscale\": [[0.0, \"#0d0887\"], [0.1111111111111111, \"#46039f\"], [0.2222222222222222, \"#7201a8\"], [0.3333333333333333, \"#9c179e\"], [0.4444444444444444, \"#bd3786\"], [0.5555555555555556, \"#d8576b\"], [0.6666666666666666, \"#ed7953\"], [0.7777777777777778, \"#fb9f3a\"], [0.8888888888888888, \"#fdca26\"], [1.0, \"#f0f921\"]], \"type\": \"heatmap\"}], \"heatmapgl\": [{\"colorbar\": {\"outlinewidth\": 0, \"ticks\": \"\"}, \"colorscale\": [[0.0, \"#0d0887\"], [0.1111111111111111, \"#46039f\"], [0.2222222222222222, \"#7201a8\"], [0.3333333333333333, \"#9c179e\"], [0.4444444444444444, \"#bd3786\"], [0.5555555555555556, \"#d8576b\"], [0.6666666666666666, \"#ed7953\"], [0.7777777777777778, \"#fb9f3a\"], [0.8888888888888888, \"#fdca26\"], [1.0, \"#f0f921\"]], \"type\": \"heatmapgl\"}], \"histogram\": [{\"marker\": {\"colorbar\": {\"outlinewidth\": 0, \"ticks\": \"\"}}, \"type\": \"histogram\"}], \"histogram2d\": [{\"colorbar\": {\"outlinewidth\": 0, \"ticks\": \"\"}, \"colorscale\": [[0.0, \"#0d0887\"], [0.1111111111111111, \"#46039f\"], [0.2222222222222222, \"#7201a8\"], [0.3333333333333333, \"#9c179e\"], [0.4444444444444444, \"#bd3786\"], [0.5555555555555556, \"#d8576b\"], [0.6666666666666666, \"#ed7953\"], [0.7777777777777778, \"#fb9f3a\"], [0.8888888888888888, \"#fdca26\"], [1.0, \"#f0f921\"]], \"type\": \"histogram2d\"}], \"histogram2dcontour\": [{\"colorbar\": {\"outlinewidth\": 0, \"ticks\": \"\"}, \"colorscale\": [[0.0, \"#0d0887\"], [0.1111111111111111, \"#46039f\"], [0.2222222222222222, \"#7201a8\"], [0.3333333333333333, \"#9c179e\"], [0.4444444444444444, \"#bd3786\"], [0.5555555555555556, \"#d8576b\"], [0.6666666666666666, \"#ed7953\"], [0.7777777777777778, \"#fb9f3a\"], [0.8888888888888888, \"#fdca26\"], [1.0, \"#f0f921\"]], \"type\": \"histogram2dcontour\"}], \"mesh3d\": [{\"colorbar\": {\"outlinewidth\": 0, \"ticks\": \"\"}, \"type\": \"mesh3d\"}], \"parcoords\": [{\"line\": {\"colorbar\": {\"outlinewidth\": 0, \"ticks\": \"\"}}, \"type\": \"parcoords\"}], \"pie\": [{\"automargin\": true, \"type\": \"pie\"}], \"scatter\": [{\"marker\": {\"colorbar\": {\"outlinewidth\": 0, \"ticks\": \"\"}}, \"type\": \"scatter\"}], \"scatter3d\": [{\"line\": {\"colorbar\": {\"outlinewidth\": 0, \"ticks\": \"\"}}, \"marker\": {\"colorbar\": {\"outlinewidth\": 0, \"ticks\": \"\"}}, \"type\": \"scatter3d\"}], \"scattercarpet\": [{\"marker\": {\"colorbar\": {\"outlinewidth\": 0, \"ticks\": \"\"}}, \"type\": \"scattercarpet\"}], \"scattergeo\": [{\"marker\": {\"colorbar\": {\"outlinewidth\": 0, \"ticks\": \"\"}}, \"type\": \"scattergeo\"}], \"scattergl\": [{\"marker\": {\"colorbar\": {\"outlinewidth\": 0, \"ticks\": \"\"}}, \"type\": \"scattergl\"}], \"scattermapbox\": [{\"marker\": {\"colorbar\": {\"outlinewidth\": 0, \"ticks\": \"\"}}, \"type\": \"scattermapbox\"}], \"scatterpolar\": [{\"marker\": {\"colorbar\": {\"outlinewidth\": 0, \"ticks\": \"\"}}, \"type\": \"scatterpolar\"}], \"scatterpolargl\": [{\"marker\": {\"colorbar\": {\"outlinewidth\": 0, \"ticks\": \"\"}}, \"type\": \"scatterpolargl\"}], \"scatterternary\": [{\"marker\": {\"colorbar\": {\"outlinewidth\": 0, \"ticks\": \"\"}}, \"type\": \"scatterternary\"}], \"surface\": [{\"colorbar\": {\"outlinewidth\": 0, \"ticks\": \"\"}, \"colorscale\": [[0.0, \"#0d0887\"], [0.1111111111111111, \"#46039f\"], [0.2222222222222222, \"#7201a8\"], [0.3333333333333333, \"#9c179e\"], [0.4444444444444444, \"#bd3786\"], [0.5555555555555556, \"#d8576b\"], [0.6666666666666666, \"#ed7953\"], [0.7777777777777778, \"#fb9f3a\"], [0.8888888888888888, \"#fdca26\"], [1.0, \"#f0f921\"]], \"type\": \"surface\"}], \"table\": [{\"cells\": {\"fill\": {\"color\": \"#EBF0F8\"}, \"line\": {\"color\": \"white\"}}, \"header\": {\"fill\": {\"color\": \"#C8D4E3\"}, \"line\": {\"color\": \"white\"}}, \"type\": \"table\"}]}, \"layout\": {\"annotationdefaults\": {\"arrowcolor\": \"#2a3f5f\", \"arrowhead\": 0, \"arrowwidth\": 1}, \"coloraxis\": {\"colorbar\": {\"outlinewidth\": 0, \"ticks\": \"\"}}, \"colorscale\": {\"diverging\": [[0, \"#8e0152\"], [0.1, \"#c51b7d\"], [0.2, \"#de77ae\"], [0.3, \"#f1b6da\"], [0.4, \"#fde0ef\"], [0.5, \"#f7f7f7\"], [0.6, \"#e6f5d0\"], [0.7, \"#b8e186\"], [0.8, \"#7fbc41\"], [0.9, \"#4d9221\"], [1, \"#276419\"]], \"sequential\": [[0.0, \"#0d0887\"], [0.1111111111111111, \"#46039f\"], [0.2222222222222222, \"#7201a8\"], [0.3333333333333333, \"#9c179e\"], [0.4444444444444444, \"#bd3786\"], [0.5555555555555556, \"#d8576b\"], [0.6666666666666666, \"#ed7953\"], [0.7777777777777778, \"#fb9f3a\"], [0.8888888888888888, \"#fdca26\"], [1.0, \"#f0f921\"]], \"sequentialminus\": [[0.0, \"#0d0887\"], [0.1111111111111111, \"#46039f\"], [0.2222222222222222, \"#7201a8\"], [0.3333333333333333, \"#9c179e\"], [0.4444444444444444, \"#bd3786\"], [0.5555555555555556, \"#d8576b\"], [0.6666666666666666, \"#ed7953\"], [0.7777777777777778, \"#fb9f3a\"], [0.8888888888888888, \"#fdca26\"], [1.0, \"#f0f921\"]]}, \"colorway\": [\"#636efa\", \"#EF553B\", \"#00cc96\", \"#ab63fa\", \"#FFA15A\", \"#19d3f3\", \"#FF6692\", \"#B6E880\", \"#FF97FF\", \"#FECB52\"], \"font\": {\"color\": \"#2a3f5f\"}, \"geo\": {\"bgcolor\": \"white\", \"lakecolor\": \"white\", \"landcolor\": \"#E5ECF6\", \"showlakes\": true, \"showland\": true, \"subunitcolor\": \"white\"}, \"hoverlabel\": {\"align\": \"left\"}, \"hovermode\": \"closest\", \"mapbox\": {\"style\": \"light\"}, \"paper_bgcolor\": \"white\", \"plot_bgcolor\": \"#E5ECF6\", \"polar\": {\"angularaxis\": {\"gridcolor\": \"white\", \"linecolor\": \"white\", \"ticks\": \"\"}, \"bgcolor\": \"#E5ECF6\", \"radialaxis\": {\"gridcolor\": \"white\", \"linecolor\": \"white\", \"ticks\": \"\"}}, \"scene\": {\"xaxis\": {\"backgroundcolor\": \"#E5ECF6\", \"gridcolor\": \"white\", \"gridwidth\": 2, \"linecolor\": \"white\", \"showbackground\": true, \"ticks\": \"\", \"zerolinecolor\": \"white\"}, \"yaxis\": {\"backgroundcolor\": \"#E5ECF6\", \"gridcolor\": \"white\", \"gridwidth\": 2, \"linecolor\": \"white\", \"showbackground\": true, \"ticks\": \"\", \"zerolinecolor\": \"white\"}, \"zaxis\": {\"backgroundcolor\": \"#E5ECF6\", \"gridcolor\": \"white\", \"gridwidth\": 2, \"linecolor\": \"white\", \"showbackground\": true, \"ticks\": \"\", \"zerolinecolor\": \"white\"}}, \"shapedefaults\": {\"line\": {\"color\": \"#2a3f5f\"}}, \"ternary\": {\"aaxis\": {\"gridcolor\": \"white\", \"linecolor\": \"white\", \"ticks\": \"\"}, \"baxis\": {\"gridcolor\": \"white\", \"linecolor\": \"white\", \"ticks\": \"\"}, \"bgcolor\": \"#E5ECF6\", \"caxis\": {\"gridcolor\": \"white\", \"linecolor\": \"white\", \"ticks\": \"\"}}, \"title\": {\"x\": 0.05}, \"xaxis\": {\"automargin\": true, \"gridcolor\": \"white\", \"linecolor\": \"white\", \"ticks\": \"\", \"title\": {\"standoff\": 15}, \"zerolinecolor\": \"white\", \"zerolinewidth\": 2}, \"yaxis\": {\"automargin\": true, \"gridcolor\": \"white\", \"linecolor\": \"white\", \"ticks\": \"\", \"title\": {\"standoff\": 15}, \"zerolinecolor\": \"white\", \"zerolinewidth\": 2}}}, \"title\": {\"text\": \"Daily Newborn and Dead UTXO\"}, \"xaxis\": {\"rangeselector\": {\"buttons\": [{\"count\": 1, \"label\": \"1m\", \"step\": \"month\", \"stepmode\": \"backward\"}, {\"count\": 6, \"label\": \"6m\", \"step\": \"month\", \"stepmode\": \"backward\"}, {\"count\": 1, \"label\": \"YTD\", \"step\": \"year\", \"stepmode\": \"todate\"}, {\"count\": 1, \"label\": \"1y\", \"step\": \"year\", \"stepmode\": \"backward\"}, {\"step\": \"all\"}]}, \"rangeslider\": {\"visible\": true}, \"title\": {\"text\": \"Date\"}, \"type\": \"date\"}, \"yaxis\": {\"title\": {\"text\": \"UTXO\"}, \"type\": \"log\"}},\n",
              "                        {\"responsive\": true}\n",
              "                    ).then(function(){\n",
              "                            \n",
              "var gd = document.getElementById('a6219af2-0c3a-4aeb-835d-220c4f5c4b1e');\n",
              "var x = new MutationObserver(function (mutations, observer) {{\n",
              "        var display = window.getComputedStyle(gd).display;\n",
              "        if (!display || display === 'none') {{\n",
              "            console.log([gd, 'removed!']);\n",
              "            Plotly.purge(gd);\n",
              "            observer.disconnect();\n",
              "        }}\n",
              "}});\n",
              "\n",
              "// Listen for the removal of the full notebook cells\n",
              "var notebookContainer = gd.closest('#notebook-container');\n",
              "if (notebookContainer) {{\n",
              "    x.observe(notebookContainer, {childList: true});\n",
              "}}\n",
              "\n",
              "// Listen for the clearing of the current output cell\n",
              "var outputEl = gd.closest('.output');\n",
              "if (outputEl) {{\n",
              "    x.observe(outputEl, {childList: true});\n",
              "}}\n",
              "\n",
              "                        })\n",
              "                };\n",
              "                \n",
              "            </script>\n",
              "        </div>\n",
              "</body>\n",
              "</html>"
            ]
          },
          "metadata": {
            "tags": []
          }
        }
      ]
    },
    {
      "cell_type": "code",
      "metadata": {
        "id": "ecn4PHgTqo48",
        "outputId": "442c0c44-c4b2-42e0-abf7-ec1af33289d2",
        "colab": {
          "base_uri": "https://localhost:8080/",
          "height": 542
        }
      },
      "source": [
        "import plotly.graph_objects as go\n",
        "from plotly.offline import iplot\n",
        "\n",
        "# Create traces\n",
        "fig1 = go.Figure()\n",
        "fig1.add_trace(go.Scatter(x=df_UTXO.date, y=df_UTXO.UTXO_Cum,\n",
        "                    mode='markers', name='UTXO Cum'))\n",
        "fig1.update_layout(title='The Accumulated UTXO',\n",
        "                   xaxis_title='Date',\n",
        "                   yaxis_title='UTXO')\n",
        "# Add range slider\n",
        "fig1.update_layout(\n",
        "    xaxis=dict(\n",
        "        rangeselector=dict(\n",
        "            buttons=list([\n",
        "                dict(count=1,\n",
        "                     label=\"1m\",\n",
        "                     step=\"month\",\n",
        "                     stepmode=\"backward\"),\n",
        "                dict(count=6,\n",
        "                     label=\"6m\",\n",
        "                     step=\"month\",\n",
        "                     stepmode=\"backward\"),\n",
        "                dict(count=1,\n",
        "                     label=\"YTD\",\n",
        "                     step=\"year\",\n",
        "                     stepmode=\"todate\"),\n",
        "                dict(count=1,\n",
        "                     label=\"1y\",\n",
        "                     step=\"year\",\n",
        "                     stepmode=\"backward\"),\n",
        "                dict(step=\"all\")\n",
        "            ])\n",
        "        ),\n",
        "        rangeslider=dict(\n",
        "            visible=True\n",
        "        ),\n",
        "        type=\"date\"\n",
        "    )\n",
        ")\n",
        "\n",
        "iplot(fig1)"
      ],
      "execution_count": 99,
      "outputs": [
        {
          "output_type": "display_data",
          "data": {
            "text/html": [
              "<html>\n",
              "<head><meta charset=\"utf-8\" /></head>\n",
              "<body>\n",
              "    <div>\n",
              "            <script src=\"https://cdnjs.cloudflare.com/ajax/libs/mathjax/2.7.5/MathJax.js?config=TeX-AMS-MML_SVG\"></script><script type=\"text/javascript\">if (window.MathJax) {MathJax.Hub.Config({SVG: {font: \"STIX-Web\"}});}</script>\n",
              "                <script type=\"text/javascript\">window.PlotlyConfig = {MathJaxConfig: 'local'};</script>\n",
              "        <script src=\"https://cdn.plot.ly/plotly-latest.min.js\"></script>    \n",
              "            <div id=\"4717eaab-f7b3-4115-b6bf-0e3d80f47902\" class=\"plotly-graph-div\" style=\"height:525px; width:100%;\"></div>\n",
              "            <script type=\"text/javascript\">\n",
              "                \n",
              "                    window.PLOTLYENV=window.PLOTLYENV || {};\n",
              "                    \n",
              "                if (document.getElementById(\"4717eaab-f7b3-4115-b6bf-0e3d80f47902\")) {\n",
              "                    Plotly.newPlot(\n",
              "                        '4717eaab-f7b3-4115-b6bf-0e3d80f47902',\n",
              "                        [{\"mode\": \"markers\", \"name\": \"UTXO Cum\", \"type\": \"scatter\", \"x\": [\"2009-01-09T00:00:00\", \"2009-01-10T00:00:00\", \"2009-01-11T00:00:00\", \"2009-01-12T00:00:00\", \"2009-01-13T00:00:00\", \"2009-01-14T00:00:00\", \"2009-01-15T00:00:00\", \"2009-01-16T00:00:00\", \"2009-01-17T00:00:00\", \"2009-01-18T00:00:00\", \"2009-01-19T00:00:00\", \"2009-01-20T00:00:00\", \"2009-01-21T00:00:00\", \"2009-01-22T00:00:00\", \"2009-01-23T00:00:00\", \"2009-01-24T00:00:00\", \"2009-01-25T00:00:00\", \"2009-01-26T00:00:00\", \"2009-01-27T00:00:00\", \"2009-01-28T00:00:00\", \"2009-01-29T00:00:00\", \"2009-01-30T00:00:00\", \"2009-01-31T00:00:00\", \"2009-02-01T00:00:00\", \"2009-02-02T00:00:00\", \"2009-02-03T00:00:00\", \"2009-02-04T00:00:00\", \"2009-02-05T00:00:00\", \"2009-02-06T00:00:00\", \"2009-02-07T00:00:00\", \"2009-02-08T00:00:00\", \"2009-02-09T00:00:00\", \"2009-02-10T00:00:00\", \"2009-02-11T00:00:00\", \"2009-02-12T00:00:00\", \"2009-02-13T00:00:00\", \"2009-02-14T00:00:00\", \"2009-02-15T00:00:00\", \"2009-02-16T00:00:00\", \"2009-02-17T00:00:00\", \"2009-02-18T00:00:00\", \"2009-02-19T00:00:00\", \"2009-02-20T00:00:00\", \"2009-02-21T00:00:00\", \"2009-02-22T00:00:00\", \"2009-02-23T00:00:00\", \"2009-02-24T00:00:00\", \"2009-02-25T00:00:00\", \"2009-02-26T00:00:00\", \"2009-02-27T00:00:00\", \"2009-02-28T00:00:00\", \"2009-03-01T00:00:00\", \"2009-03-02T00:00:00\", \"2009-03-03T00:00:00\", \"2009-03-04T00:00:00\", \"2009-03-05T00:00:00\", \"2009-03-06T00:00:00\", \"2009-03-07T00:00:00\", \"2009-03-08T00:00:00\", \"2009-03-09T00:00:00\", \"2009-03-10T00:00:00\", \"2009-03-11T00:00:00\", \"2009-03-12T00:00:00\", \"2009-03-13T00:00:00\", \"2009-03-14T00:00:00\", \"2009-03-15T00:00:00\", \"2009-03-16T00:00:00\", \"2009-03-17T00:00:00\", \"2009-03-18T00:00:00\", \"2009-03-19T00:00:00\", \"2009-03-20T00:00:00\", \"2009-03-21T00:00:00\", \"2009-03-22T00:00:00\", \"2009-03-23T00:00:00\", \"2009-03-24T00:00:00\", \"2009-03-25T00:00:00\", \"2009-03-26T00:00:00\", \"2009-03-27T00:00:00\", \"2009-03-28T00:00:00\", \"2009-03-29T00:00:00\", \"2009-03-30T00:00:00\", \"2009-03-31T00:00:00\", \"2009-04-01T00:00:00\", \"2009-04-02T00:00:00\", \"2009-04-03T00:00:00\", \"2009-04-04T00:00:00\", \"2009-04-05T00:00:00\", \"2009-04-06T00:00:00\", \"2009-04-07T00:00:00\", \"2009-04-08T00:00:00\", \"2009-04-09T00:00:00\", \"2009-04-10T00:00:00\", \"2009-04-11T00:00:00\", \"2009-04-12T00:00:00\", \"2009-04-13T00:00:00\", \"2009-04-14T00:00:00\", \"2009-04-15T00:00:00\", \"2009-04-16T00:00:00\", \"2009-04-17T00:00:00\", \"2009-04-18T00:00:00\", \"2009-04-19T00:00:00\", \"2009-04-20T00:00:00\", \"2009-04-21T00:00:00\", \"2009-04-22T00:00:00\", \"2009-04-23T00:00:00\", \"2009-04-24T00:00:00\", \"2009-04-25T00:00:00\", \"2009-04-26T00:00:00\", \"2009-04-27T00:00:00\", \"2009-04-28T00:00:00\", \"2009-04-29T00:00:00\", \"2009-04-30T00:00:00\", \"2009-05-01T00:00:00\", \"2009-05-02T00:00:00\", \"2009-05-03T00:00:00\", \"2009-05-04T00:00:00\", \"2009-05-05T00:00:00\", \"2009-05-06T00:00:00\", \"2009-05-07T00:00:00\", \"2009-05-08T00:00:00\", \"2009-05-09T00:00:00\", \"2009-05-10T00:00:00\", \"2009-05-11T00:00:00\", \"2009-05-12T00:00:00\", \"2009-05-13T00:00:00\", \"2009-05-14T00:00:00\", \"2009-05-15T00:00:00\", \"2009-05-16T00:00:00\", \"2009-05-17T00:00:00\", \"2009-05-18T00:00:00\", \"2009-05-19T00:00:00\", \"2009-05-20T00:00:00\", \"2009-05-21T00:00:00\", \"2009-05-22T00:00:00\", \"2009-05-23T00:00:00\", \"2009-05-24T00:00:00\", \"2009-05-25T00:00:00\", \"2009-05-26T00:00:00\", \"2009-05-27T00:00:00\", \"2009-05-28T00:00:00\", \"2009-05-29T00:00:00\", \"2009-05-30T00:00:00\", \"2009-05-31T00:00:00\", \"2009-06-01T00:00:00\", \"2009-06-02T00:00:00\", \"2009-06-03T00:00:00\", \"2009-06-04T00:00:00\", \"2009-06-05T00:00:00\", \"2009-06-06T00:00:00\", \"2009-06-07T00:00:00\", \"2009-06-08T00:00:00\", \"2009-06-09T00:00:00\", \"2009-06-10T00:00:00\", \"2009-06-11T00:00:00\", \"2009-06-12T00:00:00\", \"2009-06-13T00:00:00\", \"2009-06-14T00:00:00\", \"2009-06-15T00:00:00\", \"2009-06-16T00:00:00\", \"2009-06-17T00:00:00\", \"2009-06-18T00:00:00\", \"2009-06-19T00:00:00\", \"2009-06-20T00:00:00\", \"2009-06-21T00:00:00\", \"2009-06-22T00:00:00\", \"2009-06-23T00:00:00\", \"2009-06-24T00:00:00\", \"2009-06-25T00:00:00\", \"2009-06-26T00:00:00\", \"2009-06-27T00:00:00\", \"2009-06-28T00:00:00\", \"2009-06-29T00:00:00\", \"2009-06-30T00:00:00\", \"2009-07-01T00:00:00\", \"2009-07-02T00:00:00\", \"2009-07-03T00:00:00\", \"2009-07-04T00:00:00\", \"2009-07-05T00:00:00\", \"2009-07-06T00:00:00\", \"2009-07-07T00:00:00\", \"2009-07-08T00:00:00\", \"2009-07-09T00:00:00\", \"2009-07-10T00:00:00\", \"2009-07-11T00:00:00\", \"2009-07-12T00:00:00\", \"2009-07-13T00:00:00\", \"2009-07-14T00:00:00\", \"2009-07-15T00:00:00\", \"2009-07-16T00:00:00\", \"2009-07-17T00:00:00\", \"2009-07-18T00:00:00\", \"2009-07-19T00:00:00\", \"2009-07-20T00:00:00\", \"2009-07-21T00:00:00\", \"2009-07-22T00:00:00\", \"2009-07-23T00:00:00\", \"2009-07-24T00:00:00\", \"2009-07-25T00:00:00\", \"2009-07-26T00:00:00\", \"2009-07-27T00:00:00\", \"2009-07-28T00:00:00\", \"2009-07-29T00:00:00\", \"2009-07-30T00:00:00\", \"2009-07-31T00:00:00\", \"2009-08-01T00:00:00\", \"2009-08-02T00:00:00\", \"2009-08-03T00:00:00\", \"2009-08-04T00:00:00\", \"2009-08-05T00:00:00\", \"2009-08-06T00:00:00\", \"2009-08-07T00:00:00\", \"2009-08-08T00:00:00\", \"2009-08-09T00:00:00\", \"2009-08-10T00:00:00\", \"2009-08-11T00:00:00\", \"2009-08-12T00:00:00\", \"2009-08-13T00:00:00\", \"2009-08-14T00:00:00\", \"2009-08-15T00:00:00\", \"2009-08-16T00:00:00\", \"2009-08-17T00:00:00\", \"2009-08-18T00:00:00\", \"2009-08-19T00:00:00\", \"2009-08-20T00:00:00\", \"2009-08-21T00:00:00\", \"2009-08-22T00:00:00\", \"2009-08-23T00:00:00\", \"2009-08-24T00:00:00\", \"2009-08-25T00:00:00\", \"2009-08-26T00:00:00\", \"2009-08-27T00:00:00\", \"2009-08-28T00:00:00\", \"2009-08-29T00:00:00\", \"2009-08-30T00:00:00\", \"2009-08-31T00:00:00\", \"2009-09-01T00:00:00\", \"2009-09-02T00:00:00\", \"2009-09-03T00:00:00\", \"2009-09-04T00:00:00\", \"2009-09-05T00:00:00\", \"2009-09-06T00:00:00\", \"2009-09-07T00:00:00\", \"2009-09-08T00:00:00\", \"2009-09-09T00:00:00\", \"2009-09-10T00:00:00\", \"2009-09-11T00:00:00\", \"2009-09-12T00:00:00\", \"2009-09-13T00:00:00\", \"2009-09-14T00:00:00\", \"2009-09-15T00:00:00\", \"2009-09-16T00:00:00\", \"2009-09-17T00:00:00\", \"2009-09-18T00:00:00\", \"2009-09-19T00:00:00\", \"2009-09-20T00:00:00\", \"2009-09-21T00:00:00\", \"2009-09-22T00:00:00\", \"2009-09-23T00:00:00\", \"2009-09-24T00:00:00\", \"2009-09-25T00:00:00\", \"2009-09-26T00:00:00\", \"2009-09-27T00:00:00\", \"2009-09-28T00:00:00\", \"2009-09-29T00:00:00\", \"2009-09-30T00:00:00\", \"2009-10-01T00:00:00\", \"2009-10-02T00:00:00\", \"2009-10-03T00:00:00\", \"2009-10-04T00:00:00\", \"2009-10-05T00:00:00\", \"2009-10-06T00:00:00\", \"2009-10-07T00:00:00\", \"2009-10-08T00:00:00\", \"2009-10-09T00:00:00\", \"2009-10-10T00:00:00\", \"2009-10-11T00:00:00\", \"2009-10-12T00:00:00\", \"2009-10-13T00:00:00\", \"2009-10-14T00:00:00\", \"2009-10-15T00:00:00\", \"2009-10-16T00:00:00\", \"2009-10-17T00:00:00\", \"2009-10-18T00:00:00\", \"2009-10-19T00:00:00\", \"2009-10-20T00:00:00\", \"2009-10-21T00:00:00\", \"2009-10-22T00:00:00\", \"2009-10-23T00:00:00\", \"2009-10-24T00:00:00\", \"2009-10-25T00:00:00\", \"2009-10-26T00:00:00\", \"2009-10-27T00:00:00\", \"2009-10-28T00:00:00\", \"2009-10-29T00:00:00\", \"2009-10-30T00:00:00\", \"2009-10-31T00:00:00\", \"2009-11-01T00:00:00\", \"2009-11-02T00:00:00\", \"2009-11-03T00:00:00\", \"2009-11-04T00:00:00\", \"2009-11-05T00:00:00\", \"2009-11-06T00:00:00\", \"2009-11-07T00:00:00\", \"2009-11-08T00:00:00\", \"2009-11-09T00:00:00\", \"2009-11-10T00:00:00\", \"2009-11-11T00:00:00\", \"2009-11-12T00:00:00\", \"2009-11-13T00:00:00\", \"2009-11-14T00:00:00\", \"2009-11-15T00:00:00\", \"2009-11-16T00:00:00\", \"2009-11-17T00:00:00\", \"2009-11-18T00:00:00\", \"2009-11-19T00:00:00\", \"2009-11-20T00:00:00\", \"2009-11-21T00:00:00\", \"2009-11-22T00:00:00\", \"2009-11-23T00:00:00\", \"2009-11-24T00:00:00\", \"2009-11-25T00:00:00\", \"2009-11-26T00:00:00\", \"2009-11-27T00:00:00\", \"2009-11-28T00:00:00\", \"2009-11-29T00:00:00\", \"2009-11-30T00:00:00\", \"2009-12-01T00:00:00\", \"2009-12-02T00:00:00\", \"2009-12-03T00:00:00\", \"2009-12-04T00:00:00\", \"2009-12-05T00:00:00\", \"2009-12-06T00:00:00\", \"2009-12-07T00:00:00\", \"2009-12-08T00:00:00\", \"2009-12-09T00:00:00\", \"2009-12-10T00:00:00\", \"2009-12-11T00:00:00\", \"2009-12-12T00:00:00\", \"2009-12-13T00:00:00\", \"2009-12-14T00:00:00\", \"2009-12-15T00:00:00\", \"2009-12-16T00:00:00\", \"2009-12-17T00:00:00\", \"2009-12-18T00:00:00\", \"2009-12-19T00:00:00\", \"2009-12-20T00:00:00\", \"2009-12-21T00:00:00\", \"2009-12-22T00:00:00\", \"2009-12-23T00:00:00\", \"2009-12-24T00:00:00\", \"2009-12-25T00:00:00\", \"2009-12-26T00:00:00\", \"2009-12-27T00:00:00\", \"2009-12-28T00:00:00\", \"2009-12-29T00:00:00\", \"2009-12-30T00:00:00\", \"2009-12-31T00:00:00\", \"2010-01-01T00:00:00\", \"2010-01-02T00:00:00\", \"2010-01-03T00:00:00\", \"2010-01-04T00:00:00\", \"2010-01-05T00:00:00\", \"2010-01-06T00:00:00\", \"2010-01-07T00:00:00\", \"2010-01-08T00:00:00\", \"2010-01-09T00:00:00\", \"2010-01-10T00:00:00\", \"2010-01-11T00:00:00\", \"2010-01-12T00:00:00\", \"2010-01-13T00:00:00\", \"2010-01-14T00:00:00\", \"2010-01-15T00:00:00\", \"2010-01-16T00:00:00\", \"2010-01-17T00:00:00\", \"2010-01-18T00:00:00\", \"2010-01-19T00:00:00\", \"2010-01-20T00:00:00\", \"2010-01-21T00:00:00\", \"2010-01-22T00:00:00\", \"2010-01-23T00:00:00\", \"2010-01-24T00:00:00\", \"2010-01-25T00:00:00\", \"2010-01-26T00:00:00\", \"2010-01-27T00:00:00\", \"2010-01-28T00:00:00\", \"2010-01-29T00:00:00\", \"2010-01-30T00:00:00\", \"2010-01-31T00:00:00\", \"2010-02-01T00:00:00\", \"2010-02-02T00:00:00\", \"2010-02-03T00:00:00\", \"2010-02-04T00:00:00\", \"2010-02-05T00:00:00\", \"2010-02-06T00:00:00\", \"2010-02-07T00:00:00\", \"2010-02-08T00:00:00\", \"2010-02-09T00:00:00\", \"2010-02-10T00:00:00\", \"2010-02-11T00:00:00\", \"2010-02-12T00:00:00\", \"2010-02-13T00:00:00\", \"2010-02-14T00:00:00\", \"2010-02-15T00:00:00\", \"2010-02-16T00:00:00\", \"2010-02-17T00:00:00\", \"2010-02-18T00:00:00\", \"2010-02-19T00:00:00\", \"2010-02-20T00:00:00\", \"2010-02-21T00:00:00\", \"2010-02-22T00:00:00\", \"2010-02-23T00:00:00\", \"2010-02-24T00:00:00\", \"2010-02-25T00:00:00\", \"2010-02-26T00:00:00\", \"2010-02-27T00:00:00\", \"2010-02-28T00:00:00\", \"2010-03-01T00:00:00\", \"2010-03-02T00:00:00\", \"2010-03-03T00:00:00\", \"2010-03-04T00:00:00\", \"2010-03-05T00:00:00\", \"2010-03-06T00:00:00\", \"2010-03-07T00:00:00\", \"2010-03-08T00:00:00\", \"2010-03-09T00:00:00\", \"2010-03-10T00:00:00\", \"2010-03-11T00:00:00\", \"2010-03-12T00:00:00\", \"2010-03-13T00:00:00\", \"2010-03-14T00:00:00\", \"2010-03-15T00:00:00\", \"2010-03-16T00:00:00\", \"2010-03-17T00:00:00\", \"2010-03-18T00:00:00\", \"2010-03-19T00:00:00\", \"2010-03-20T00:00:00\", \"2010-03-21T00:00:00\", \"2010-03-22T00:00:00\", \"2010-03-23T00:00:00\", \"2010-03-24T00:00:00\", \"2010-03-25T00:00:00\", \"2010-03-26T00:00:00\", \"2010-03-27T00:00:00\", \"2010-03-28T00:00:00\", \"2010-03-29T00:00:00\", \"2010-03-30T00:00:00\", \"2010-03-31T00:00:00\", \"2010-04-01T00:00:00\", \"2010-04-02T00:00:00\", \"2010-04-03T00:00:00\", \"2010-04-04T00:00:00\", \"2010-04-05T00:00:00\", \"2010-04-06T00:00:00\", \"2010-04-07T00:00:00\", \"2010-04-08T00:00:00\", \"2010-04-09T00:00:00\", \"2010-04-10T00:00:00\", \"2010-04-11T00:00:00\", \"2010-04-12T00:00:00\", \"2010-04-13T00:00:00\", \"2010-04-14T00:00:00\", \"2010-04-15T00:00:00\", \"2010-04-16T00:00:00\", \"2010-04-17T00:00:00\", \"2010-04-18T00:00:00\", \"2010-04-19T00:00:00\", \"2010-04-20T00:00:00\", \"2010-04-21T00:00:00\", \"2010-04-22T00:00:00\", \"2010-04-23T00:00:00\", \"2010-04-24T00:00:00\", \"2010-04-25T00:00:00\", \"2010-04-26T00:00:00\", \"2010-04-27T00:00:00\", \"2010-04-28T00:00:00\", \"2010-04-29T00:00:00\", \"2010-04-30T00:00:00\", \"2010-05-01T00:00:00\", \"2010-05-02T00:00:00\", \"2010-05-03T00:00:00\", \"2010-05-04T00:00:00\", \"2010-05-05T00:00:00\", \"2010-05-06T00:00:00\", \"2010-05-07T00:00:00\", \"2010-05-08T00:00:00\", \"2010-05-09T00:00:00\", \"2010-05-10T00:00:00\", \"2010-05-11T00:00:00\", \"2010-05-12T00:00:00\", \"2010-05-13T00:00:00\", \"2010-05-14T00:00:00\", \"2010-05-15T00:00:00\", \"2010-05-16T00:00:00\", \"2010-05-17T00:00:00\", \"2010-05-18T00:00:00\", \"2010-05-19T00:00:00\", \"2010-05-20T00:00:00\", \"2010-05-21T00:00:00\", \"2010-05-22T00:00:00\", \"2010-05-23T00:00:00\", \"2010-05-24T00:00:00\", \"2010-05-25T00:00:00\", \"2010-05-26T00:00:00\", \"2010-05-27T00:00:00\", \"2010-05-28T00:00:00\", \"2010-05-29T00:00:00\", \"2010-05-30T00:00:00\", \"2010-05-31T00:00:00\", \"2010-06-01T00:00:00\", \"2010-06-02T00:00:00\", \"2010-06-03T00:00:00\", \"2010-06-04T00:00:00\", \"2010-06-05T00:00:00\", \"2010-06-06T00:00:00\", \"2010-06-07T00:00:00\", \"2010-06-08T00:00:00\", \"2010-06-09T00:00:00\", \"2010-06-10T00:00:00\", \"2010-06-11T00:00:00\", \"2010-06-12T00:00:00\", \"2010-06-13T00:00:00\", \"2010-06-14T00:00:00\", \"2010-06-15T00:00:00\", \"2010-06-16T00:00:00\", \"2010-06-17T00:00:00\", \"2010-06-18T00:00:00\", \"2010-06-19T00:00:00\", \"2010-06-20T00:00:00\", \"2010-06-21T00:00:00\", \"2010-06-22T00:00:00\", \"2010-06-23T00:00:00\", \"2010-06-24T00:00:00\", \"2010-06-25T00:00:00\", \"2010-06-26T00:00:00\", \"2010-06-27T00:00:00\", \"2010-06-28T00:00:00\", \"2010-06-29T00:00:00\", \"2010-06-30T00:00:00\", \"2010-07-01T00:00:00\", \"2010-07-02T00:00:00\", \"2010-07-03T00:00:00\", \"2010-07-04T00:00:00\", \"2010-07-05T00:00:00\", \"2010-07-06T00:00:00\", \"2010-07-07T00:00:00\", \"2010-07-08T00:00:00\", \"2010-07-09T00:00:00\", \"2010-07-10T00:00:00\", \"2010-07-11T00:00:00\", \"2010-07-12T00:00:00\", \"2010-07-13T00:00:00\", \"2010-07-14T00:00:00\", \"2010-07-15T00:00:00\", \"2010-07-16T00:00:00\", \"2010-07-17T00:00:00\", \"2010-07-18T00:00:00\", \"2010-07-19T00:00:00\", \"2010-07-20T00:00:00\", \"2010-07-21T00:00:00\", \"2010-07-22T00:00:00\", \"2010-07-23T00:00:00\", \"2010-07-24T00:00:00\", \"2010-07-25T00:00:00\", \"2010-07-26T00:00:00\", \"2010-07-27T00:00:00\", \"2010-07-28T00:00:00\", \"2010-07-29T00:00:00\", \"2010-07-30T00:00:00\", \"2010-07-31T00:00:00\", \"2010-08-01T00:00:00\", \"2010-08-02T00:00:00\", \"2010-08-03T00:00:00\", \"2010-08-04T00:00:00\", \"2010-08-05T00:00:00\", \"2010-08-06T00:00:00\", \"2010-08-07T00:00:00\", \"2010-08-08T00:00:00\", \"2010-08-09T00:00:00\", \"2010-08-10T00:00:00\", \"2010-08-11T00:00:00\", \"2010-08-12T00:00:00\", \"2010-08-13T00:00:00\", \"2010-08-14T00:00:00\", \"2010-08-15T00:00:00\", \"2010-08-16T00:00:00\", \"2010-08-17T00:00:00\", \"2010-08-18T00:00:00\", \"2010-08-19T00:00:00\", \"2010-08-20T00:00:00\", \"2010-08-21T00:00:00\", \"2010-08-22T00:00:00\", \"2010-08-23T00:00:00\", \"2010-08-24T00:00:00\", \"2010-08-25T00:00:00\", \"2010-08-26T00:00:00\", \"2010-08-27T00:00:00\", \"2010-08-28T00:00:00\", \"2010-08-29T00:00:00\", \"2010-08-30T00:00:00\", \"2010-08-31T00:00:00\", \"2010-09-01T00:00:00\", \"2010-09-02T00:00:00\", \"2010-09-03T00:00:00\", \"2010-09-04T00:00:00\", \"2010-09-05T00:00:00\", \"2010-09-06T00:00:00\", \"2010-09-07T00:00:00\", \"2010-09-08T00:00:00\", \"2010-09-09T00:00:00\", \"2010-09-10T00:00:00\", \"2010-09-11T00:00:00\", \"2010-09-12T00:00:00\", \"2010-09-13T00:00:00\", \"2010-09-14T00:00:00\", \"2010-09-15T00:00:00\", \"2010-09-16T00:00:00\", \"2010-09-17T00:00:00\", \"2010-09-18T00:00:00\", \"2010-09-19T00:00:00\", \"2010-09-20T00:00:00\", \"2010-09-21T00:00:00\", \"2010-09-22T00:00:00\", \"2010-09-23T00:00:00\", \"2010-09-24T00:00:00\", \"2010-09-25T00:00:00\", \"2010-09-26T00:00:00\", \"2010-09-27T00:00:00\", \"2010-09-28T00:00:00\", \"2010-09-29T00:00:00\", \"2010-09-30T00:00:00\", \"2010-10-01T00:00:00\", \"2010-10-02T00:00:00\", \"2010-10-03T00:00:00\", \"2010-10-04T00:00:00\", \"2010-10-05T00:00:00\", \"2010-10-06T00:00:00\", \"2010-10-07T00:00:00\", \"2010-10-08T00:00:00\", \"2010-10-09T00:00:00\", \"2010-10-10T00:00:00\", \"2010-10-11T00:00:00\", \"2010-10-12T00:00:00\", \"2010-10-13T00:00:00\", \"2010-10-14T00:00:00\", \"2010-10-15T00:00:00\", \"2010-10-16T00:00:00\", \"2010-10-17T00:00:00\", \"2010-10-18T00:00:00\", \"2010-10-19T00:00:00\", \"2010-10-20T00:00:00\", \"2010-10-21T00:00:00\", \"2010-10-22T00:00:00\", \"2010-10-23T00:00:00\", \"2010-10-24T00:00:00\", \"2010-10-25T00:00:00\", \"2010-10-26T00:00:00\", \"2010-10-27T00:00:00\", \"2010-10-28T00:00:00\", \"2010-10-29T00:00:00\", \"2010-10-30T00:00:00\", \"2010-10-31T00:00:00\", \"2010-11-01T00:00:00\", \"2010-11-02T00:00:00\", \"2010-11-03T00:00:00\", \"2010-11-04T00:00:00\", \"2010-11-05T00:00:00\", \"2010-11-06T00:00:00\", \"2010-11-07T00:00:00\", \"2010-11-08T00:00:00\", \"2010-11-09T00:00:00\", \"2010-11-10T00:00:00\", \"2010-11-11T00:00:00\", \"2010-11-12T00:00:00\", \"2010-11-13T00:00:00\", \"2010-11-14T00:00:00\", \"2010-11-15T00:00:00\", \"2010-11-16T00:00:00\", \"2010-11-17T00:00:00\", \"2010-11-18T00:00:00\", \"2010-11-19T00:00:00\", \"2010-11-20T00:00:00\", \"2010-11-21T00:00:00\", \"2010-11-22T00:00:00\", \"2010-11-23T00:00:00\", \"2010-11-24T00:00:00\", \"2010-11-25T00:00:00\", \"2010-11-26T00:00:00\", \"2010-11-27T00:00:00\", \"2010-11-28T00:00:00\", \"2010-11-29T00:00:00\", \"2010-11-30T00:00:00\", \"2010-12-01T00:00:00\", \"2010-12-02T00:00:00\", \"2010-12-03T00:00:00\", \"2010-12-04T00:00:00\", \"2010-12-05T00:00:00\", \"2010-12-06T00:00:00\", \"2010-12-07T00:00:00\", \"2010-12-08T00:00:00\", \"2010-12-09T00:00:00\", \"2010-12-10T00:00:00\", \"2010-12-11T00:00:00\", \"2010-12-12T00:00:00\", \"2010-12-13T00:00:00\", \"2010-12-14T00:00:00\", \"2010-12-15T00:00:00\", \"2010-12-16T00:00:00\", \"2010-12-17T00:00:00\", \"2010-12-18T00:00:00\", \"2010-12-19T00:00:00\", \"2010-12-20T00:00:00\", \"2010-12-21T00:00:00\", \"2010-12-22T00:00:00\", \"2010-12-23T00:00:00\", \"2010-12-24T00:00:00\", \"2010-12-25T00:00:00\", \"2010-12-26T00:00:00\", \"2010-12-27T00:00:00\", \"2010-12-28T00:00:00\", \"2010-12-29T00:00:00\", \"2010-12-30T00:00:00\", \"2010-12-31T00:00:00\", \"2011-01-01T00:00:00\", \"2011-01-02T00:00:00\", \"2011-01-03T00:00:00\", \"2011-01-04T00:00:00\", \"2011-01-05T00:00:00\", \"2011-01-06T00:00:00\", \"2011-01-07T00:00:00\", \"2011-01-08T00:00:00\", \"2011-01-09T00:00:00\", \"2011-01-10T00:00:00\", \"2011-01-11T00:00:00\", \"2011-01-12T00:00:00\", \"2011-01-13T00:00:00\", \"2011-01-14T00:00:00\", \"2011-01-15T00:00:00\", \"2011-01-16T00:00:00\", \"2011-01-17T00:00:00\", \"2011-01-18T00:00:00\", \"2011-01-19T00:00:00\", \"2011-01-20T00:00:00\", \"2011-01-21T00:00:00\", \"2011-01-22T00:00:00\", \"2011-01-23T00:00:00\", \"2011-01-24T00:00:00\", \"2011-01-25T00:00:00\", \"2011-01-26T00:00:00\", \"2011-01-27T00:00:00\", \"2011-01-28T00:00:00\", \"2011-01-29T00:00:00\", \"2011-01-30T00:00:00\", \"2011-01-31T00:00:00\", \"2011-02-01T00:00:00\", \"2011-02-02T00:00:00\", \"2011-02-03T00:00:00\", \"2011-02-04T00:00:00\", \"2011-02-05T00:00:00\", \"2011-02-06T00:00:00\", \"2011-02-07T00:00:00\", \"2011-02-08T00:00:00\", \"2011-02-09T00:00:00\", \"2011-02-10T00:00:00\", \"2011-02-11T00:00:00\", \"2011-02-12T00:00:00\", \"2011-02-13T00:00:00\", \"2011-02-14T00:00:00\", \"2011-02-15T00:00:00\", \"2011-02-16T00:00:00\", \"2011-02-17T00:00:00\", \"2011-02-18T00:00:00\", \"2011-02-19T00:00:00\", \"2011-02-20T00:00:00\", \"2011-02-21T00:00:00\", \"2011-02-22T00:00:00\", \"2011-02-23T00:00:00\", \"2011-02-24T00:00:00\", \"2011-02-25T00:00:00\", \"2011-02-26T00:00:00\", \"2011-02-27T00:00:00\", \"2011-02-28T00:00:00\", \"2011-03-01T00:00:00\", \"2011-03-02T00:00:00\", \"2011-03-03T00:00:00\", \"2011-03-04T00:00:00\", \"2011-03-05T00:00:00\", \"2011-03-06T00:00:00\", \"2011-03-07T00:00:00\", \"2011-03-08T00:00:00\", \"2011-03-09T00:00:00\", \"2011-03-10T00:00:00\", \"2011-03-11T00:00:00\", \"2011-03-12T00:00:00\", \"2011-03-13T00:00:00\", \"2011-03-14T00:00:00\", \"2011-03-15T00:00:00\", \"2011-03-16T00:00:00\", \"2011-03-17T00:00:00\", \"2011-03-18T00:00:00\", \"2011-03-19T00:00:00\", \"2011-03-20T00:00:00\", \"2011-03-21T00:00:00\", \"2011-03-22T00:00:00\", \"2011-03-23T00:00:00\", \"2011-03-24T00:00:00\", \"2011-03-25T00:00:00\", \"2011-03-26T00:00:00\", \"2011-03-27T00:00:00\", \"2011-03-28T00:00:00\", \"2011-03-29T00:00:00\", \"2011-03-30T00:00:00\", \"2011-03-31T00:00:00\", \"2011-04-01T00:00:00\", \"2011-04-02T00:00:00\", \"2011-04-03T00:00:00\", \"2011-04-04T00:00:00\", \"2011-04-05T00:00:00\", \"2011-04-06T00:00:00\", \"2011-04-07T00:00:00\", \"2011-04-08T00:00:00\", \"2011-04-09T00:00:00\", \"2011-04-10T00:00:00\", \"2011-04-11T00:00:00\", \"2011-04-12T00:00:00\", \"2011-04-13T00:00:00\", \"2011-04-14T00:00:00\", \"2011-04-15T00:00:00\", \"2011-04-16T00:00:00\", \"2011-04-17T00:00:00\", \"2011-04-18T00:00:00\", \"2011-04-19T00:00:00\", \"2011-04-20T00:00:00\", \"2011-04-21T00:00:00\", \"2011-04-22T00:00:00\", \"2011-04-23T00:00:00\", \"2011-04-24T00:00:00\", \"2011-04-25T00:00:00\", \"2011-04-26T00:00:00\", \"2011-04-27T00:00:00\", \"2011-04-28T00:00:00\", \"2011-04-29T00:00:00\", \"2011-04-30T00:00:00\", \"2011-05-01T00:00:00\", \"2011-05-02T00:00:00\", \"2011-05-03T00:00:00\", \"2011-05-04T00:00:00\", \"2011-05-05T00:00:00\", \"2011-05-06T00:00:00\", \"2011-05-07T00:00:00\", \"2011-05-08T00:00:00\", \"2011-05-09T00:00:00\", \"2011-05-10T00:00:00\", \"2011-05-11T00:00:00\", \"2011-05-12T00:00:00\", \"2011-05-13T00:00:00\", \"2011-05-14T00:00:00\", \"2011-05-15T00:00:00\", \"2011-05-16T00:00:00\", \"2011-05-17T00:00:00\", \"2011-05-18T00:00:00\", \"2011-05-19T00:00:00\", \"2011-05-20T00:00:00\", \"2011-05-21T00:00:00\", \"2011-05-22T00:00:00\", \"2011-05-23T00:00:00\", \"2011-05-24T00:00:00\", \"2011-05-25T00:00:00\", \"2011-05-26T00:00:00\", \"2011-05-27T00:00:00\", \"2011-05-28T00:00:00\", \"2011-05-29T00:00:00\", \"2011-05-30T00:00:00\", \"2011-05-31T00:00:00\", \"2011-06-01T00:00:00\", \"2011-06-02T00:00:00\", \"2011-06-03T00:00:00\", \"2011-06-04T00:00:00\", \"2011-06-05T00:00:00\", \"2011-06-06T00:00:00\", \"2011-06-07T00:00:00\", \"2011-06-08T00:00:00\", \"2011-06-09T00:00:00\", \"2011-06-10T00:00:00\", \"2011-06-11T00:00:00\", \"2011-06-12T00:00:00\", \"2011-06-13T00:00:00\", \"2011-06-14T00:00:00\", \"2011-06-15T00:00:00\", \"2011-06-16T00:00:00\", \"2011-06-17T00:00:00\", \"2011-06-18T00:00:00\", \"2011-06-19T00:00:00\", \"2011-06-20T00:00:00\", \"2011-06-21T00:00:00\", \"2011-06-22T00:00:00\", \"2011-06-23T00:00:00\", \"2011-06-24T00:00:00\", \"2011-06-25T00:00:00\", \"2011-06-26T00:00:00\", \"2011-06-27T00:00:00\", \"2011-06-28T00:00:00\", \"2011-06-29T00:00:00\", \"2011-06-30T00:00:00\", \"2011-07-01T00:00:00\", \"2011-07-02T00:00:00\", \"2011-07-03T00:00:00\", \"2011-07-04T00:00:00\", \"2011-07-05T00:00:00\", \"2011-07-06T00:00:00\", \"2011-07-07T00:00:00\", \"2011-07-08T00:00:00\", \"2011-07-09T00:00:00\", \"2011-07-10T00:00:00\", \"2011-07-11T00:00:00\", \"2011-07-12T00:00:00\", \"2011-07-13T00:00:00\", \"2011-07-14T00:00:00\", \"2011-07-15T00:00:00\", \"2011-07-16T00:00:00\", \"2011-07-17T00:00:00\", \"2011-07-18T00:00:00\", \"2011-07-19T00:00:00\", \"2011-07-20T00:00:00\", \"2011-07-21T00:00:00\", \"2011-07-22T00:00:00\", \"2011-07-23T00:00:00\", \"2011-07-24T00:00:00\", \"2011-07-25T00:00:00\", \"2011-07-26T00:00:00\", \"2011-07-27T00:00:00\", \"2011-07-28T00:00:00\", \"2011-07-29T00:00:00\", \"2011-07-30T00:00:00\", \"2011-07-31T00:00:00\", \"2011-08-01T00:00:00\", \"2011-08-02T00:00:00\", \"2011-08-03T00:00:00\", \"2011-08-04T00:00:00\", \"2011-08-05T00:00:00\", \"2011-08-06T00:00:00\"], \"y\": [700.0, 3750.0, 8400.0, 13100.0, 19250.0, 25700.0, 32000.0, 37400.0, 42850.0, 48200.0, 53950.0, 59650.0, 64750.0, 69300.0, 73500.0, 83550.0, 93100.0, 97900.0, 102750.0, 108350.0, 114400.0, 120250.0, 127150.0, 132800.0, 139200.0, 146150.0, 152100.0, 158400.0, 164500.0, 170950.0, 177550.0, 184250.0, 190250.0, 196900.0, 202850.0, 209050.0, 215850.0, 222250.0, 228350.0, 234200.0, 240100.0, 246300.0, 252400.0, 258100.0, 264150.0, 269550.0, 274850.0, 280100.0, 285450.0, 291200.0, 296150.0, 301400.0, 306800.0, 312050.0, 317250.0, 322850.0, 328700.0, 334150.0, 339900.0, 345300.0, 350650.0, 356350.0, 362250.0, 367900.0, 373400.0, 379550.0, 385600.0, 391300.0, 397000.0, 403100.0, 409000.0, 411500.0, 417450.0, 423950.0, 429200.0, 435050.0, 440900.0, 446200.0, 452150.0, 457950.0, 463950.0, 469450.0, 475150.0, 480900.0, 486700.0, 492350.0, 498850.0, 504300.0, 509300.0, 514550.0, 519500.0, 524900.0, 530900.0, 536800.0, 542550.0, 548750.0, 554400.0, 560550.0, 566150.0, 572450.0, 578400.0, 584350.0, 590500.0, 596550.0, 600300.0, 606050.0, 611950.0, 617550.0, 622750.0, 628600.0, 635000.0, 641550.0, 647600.0, 653900.0, 659200.0, 665600.0, 672350.0, 679100.0, 685200.0, 690550.0, 694450.0, 698700.0, 704700.0, 711200.0, 716750.0, 723700.0, 730500.0, 736450.0, 742800.0, 748700.0, 753000.0, 759000.0, 763100.0, 766150.0, 767750.0, 772750.0, 778200.0, 784450.0, 790400.0, 795150.0, 800450.0, 805900.0, 810700.0, 814250.0, 819800.0, 823350.0, 826650.0, 828150.0, 829550.0, 830350.0, 834450.0, 839000.0, 843100.0, 847550.0, 851850.0, 855750.0, 859350.0, 863550.0, 867100.0, 871050.0, 875050.0, 879400.0, 883300.0, 887350.0, 891150.0, 894950.0, 899700.0, 903100.0, 907600.0, 911800.0, 914100.0, 918250.0, 922500.0, 926200.0, 930350.0, 934450.0, 938900.0, 942850.0, 947050.0, 950500.0, 954200.0, 958500.0, 962550.0, 966700.0, 970550.0, 974450.0, 977900.0, 980150.0, 983700.0, 986050.0, 986250.0, 989750.0, 993250.0, 997350.0, 1000350.0, 1004150.0, 1007800.0, 1009400.0, 1010450.0, 1014150.0, 1016200.0, 1017150.0, 1017900.0, 1018750.0, 1020150.0, 1021300.0, 1021900.0, 1025950.0, 1030300.0, 1034800.0, 1038800.0, 1042800.0, 1047850.0, 1051600.0, 1055100.0, 1058250.0, 1062500.0, 1065650.0, 1066950.0, 1067900.0, 1068750.0, 1069250.0, 1070150.0, 1071250.0, 1071950.0, 1072300.0, 1073050.0, 1073800.0, 1076300.0, 1078700.0, 1080150.0, 1083900.0, 1087800.0, 1092650.0, 1096950.0, 1100850.0, 1104150.0, 1107200.0, 1110400.0, 1114200.0, 1117600.0, 1121500.0, 1124950.0, 1127650.0, 1131000.0, 1134350.0, 1137800.0, 1141550.0, 1145250.0, 1147450.0, 1151050.0, 1155250.0, 1159150.0, 1162850.0, 1166750.0, 1170200.0, 1171450.0, 1173250.0, 1178100.0, 1182650.0, 1187650.0, 1192000.0, 1196250.0, 1200650.0, 1204900.0, 1209000.0, 1212600.0, 1215500.0, 1218150.0, 1220900.0, 1223050.0, 1226050.0, 1229550.0, 1233500.0, 1237350.0, 1241050.0, 1243950.0, 1246800.0, 1250250.0, 1253800.0, 1256800.0, 1259650.0, 1263350.0, 1268950.0, 1273700.0, 1277700.0, 1282200.0, 1286650.0, 1289750.0, 1293550.0, 1297100.0, 1300300.0, 1303600.0, 1305900.0, 1308900.0, 1311200.0, 1312450.0, 1314100.0, 1317200.0, 1320350.0, 1323200.0, 1326300.0, 1329750.0, 1333400.0, 1336600.0, 1340500.0, 1343700.0, 1347000.0, 1351000.0, 1354950.0, 1359750.0, 1364600.0, 1369200.0, 1373150.0, 1376650.0, 1380950.0, 1384600.0, 1389900.0, 1394700.0, 1399350.0, 1403850.0, 1408050.0, 1411750.0, 1415300.0, 1418300.0, 1422050.0, 1425700.0, 1430400.0, 1434800.0, 1436600.0, 1439800.0, 1444950.0, 1450550.0, 1455800.0, 1460600.0, 1465800.0, 1471400.0, 1476900.0, 1482600.0, 1487700.0, 1493200.0, 1500000.0, 1508450.0, 1519700.0, 1529600.0, 1538350.0, 1547100.0, 1555200.0, 1562900.0, 1570600.0, 1578050.0, 1586750.0, 1595100.0, 1601950.0, 1610500.0, 1617550.0, 1624450.0, 1628900.0, 1633500.0, 1640350.0, 1646750.0, 1653850.0, 1659550.0, 1664450.0, 1669200.0, 1673950.0, 1681100.0, 1687000.0, 1693400.0, 1698993.0, 1703943.0, 1709093.0, 1713543.0, 1718293.0, 1723493.0, 1729193.0, 1736443.0, 1743343.0, 1748242.0, 1754592.0, 1760392.0, 1768892.0, 1776492.0, 1782742.0, 1789742.0, 1797392.0, 1805692.0, 1813292.0, 1821742.0, 1827942.0, 1838942.0, 1847842.0, 1856492.0, 1863292.0, 1872692.0, 1879242.0, 1887342.44, 1893692.44, 1900242.44, 1907442.44, 1917442.44, 1925492.44, 1932055.81, 1939906.81, 1946073.6400000001, 1953823.6400000001, 1961273.6400000001, 1969823.6400000001, 1978023.6400000001, 1987323.6400000001, 1997223.6400000001, 2002973.6400000001, 2008123.6400000001, 2014223.6400000001, 2020973.6400000001, 2027023.6400000001, 2034473.6400000001, 2041623.6400000001, 2047173.6400000001, 2053773.6400000001, 2059573.6400000001, 2065923.6400000001, 2072823.6400000001, 2077223.6300000001, 2082673.6300000001, 2088773.6300000001, 2094023.6300000001, 2098223.63, 2104223.63, 2108923.63, 2113673.63, 2118423.63, 2123473.63, 2128583.63, 2133633.63, 2141034.63, 2147933.63, 2153833.63, 2161230.21, 2166780.21, 2173080.21, 2180180.21, 2186880.21, 2193680.21, 2199630.21, 2207480.21, 2215230.21, 2221230.21, 2226480.21, 2231880.21, 2236530.21, 2239550.21, 2243086.84, 2245433.7399999998, 2252483.7399999998, 2260081.63, 2271181.36, 2276511.36, 2283911.42, 2291161.42, 2297411.42, 2305351.2199999997, 2312546.8699999996, 2321096.8699999996, 2329896.87, 2338996.87, 2346341.87, 2355092.87, 2360942.87, 2366592.87, 2365146.81, 2370936.81, 2377436.81, 2383474.79, 2390074.79, 2395324.79, 2394524.79, 2400424.79, 2406177.79, 2411927.79, 2417477.79, 2423277.79, 2426127.79, 2431877.79, 2438827.79, 2445227.79, 2450177.79, 2454927.79, 2454277.79, 2459727.79, 2464977.79, 2469027.79, 2473727.79, 2480077.79, 2487027.79, 2494497.79, 2503197.79, 2510787.79, 2519286.8000000003, 2528986.8000000003, 2536881.8000000003, 2546181.8000000003, 2555431.8000000003, 2563431.8000000003, 2573281.8000000003, 2581431.8000000003, 2588081.8000000003, 2594681.8000000003, 2600905.1, 2607805.1, 2614488.39, 2619988.39, 2626588.39, 2633288.39, 2640338.39, 2647338.39, 2645686.31, 2652876.2800000003, 2660721.2800000003, 2666871.2800000003, 2674684.6500000004, 2681469.6500000004, 2687904.6400000006, 2694224.5500000007, 2700420.8100000005, 2707220.8100000005, 2693045.8100000005, 2700735.8100000005, 2707585.8100000005, 2714385.8100000005, 2721155.8100000005, 2727899.8100000005, 2733529.8100000005, 2740269.8100000005, 2747889.8100000005, 2753759.8100000005, 2761134.8100000005, 2769263.8099999996, 2778707.8099999996, 2786247.809999999, 2795692.809999999, 2802278.309999999, 2809874.309999999, 2817114.309999999, 2823539.309999999, 2829759.309999999, 2837673.309999999, 2845493.309999999, 2853083.309999999, 2873433.349999999, 2898187.869999999, 2918101.290000005, 2942061.7600000044, 2960864.6500000046, 2967115.8400000045, 2974358.1400000043, 2981312.920000004, 2988146.6000000043, 2996434.170000004, 3002266.920000004, 3010572.220000004, 2993986.080000004, 3002974.7500000037, 3009892.5700000036, 3016381.9900000035, 3022338.9200000027, 3029928.6100000027, 3036277.6800000025, 3043757.0600000024, 3051855.4700000025, 3060349.980000003, 3067816.290000003, 3077054.5700000026, 3085028.8700000024, 3090705.9700000025, 3096149.0400000024, 3104678.5100000026, 3103500.250000002, 3110740.410000002, 3119114.380000002, 3127237.970000002, 3135607.200000002, 3146995.340000002, 3154719.4400000023, 3160392.8100000024, 3165624.4700000025, 3170598.120000003, 3175846.860000003, 3182875.700000003, 3189773.080000003, 3198822.290000003, 3207619.3400000026, 3215350.9200000027, 3224700.5700000026, 3232700.1200000024, 3238889.2700000023, 3245219.8199997023, 3251670.0599997025, 3258219.0099996026, 3265418.6699995026, 3271241.5099993027, 3277013.629999303, 3283700.599999303, 3290799.969999303, 3297487.389999303, 3303984.329999303, 3310549.109999303, 3316146.289999203, 3321446.9199992027, 3328183.889999203, 3334406.6699992027, 3341955.139999203, 3349152.599999203, 3357345.159999203, 3364344.0496027227, 3373592.7996027227, 3382736.6596027226, 3392720.4096027226, 3401409.2096027224, 3409905.8096027225, 3417543.2696027225, 3424855.1796027226, 3435091.0796027225, 3445620.5196027225, 3455099.0496027223, 3464037.2496027225, 3474430.7596027222, 3483309.639530742, 3487931.879530742, 3493661.339530742, 3499803.2195307417, 3504133.1995307417, 3509482.649530742, 3513696.9295307416, 3519482.399530742, 3525303.1595307416, 3531889.0995307416, 3537721.9695307417, 3544504.5195307415, 3552338.5095307417, 3559119.9895307417, 3565406.2895307415, 3572840.4395307414, 3581034.4395307414, 3589140.6895307414, 3600361.6895307414, 3612097.1495307414, 3622174.6395307416, 3632818.6395307416, 3643822.6595307416, 3650836.1217645914, 3657165.6217645914, 3664444.2117645913, 3673435.6917645913, 3681717.0017645913, 3691849.3117645914, 3697702.801764591, 3706802.651764591, 3716298.381764591, 3727437.3317645914, 3734677.631764591, 3742031.2717645913, 3749430.571764591, 3757300.071764591, 3765798.3117645914, 3775496.2117645913, 3785308.551764591, 3796351.881764591, 3799708.6017645914, 3808425.131764591, 3817415.8117645914, 3826954.571764591, 3834398.931764591, 3844093.681764591, 3855143.121764591, 3863963.1017645923, 3873105.2017645934, 3884553.5517645935, 3896146.8117645932, 3902895.8517645933, 3908190.5917645935, 3914736.3817645935, 3922281.7917645937, 3928361.531764594, 3935854.901764595, 3944223.2617645944, 3952920.8717645947, 3960917.4617645945, 3968664.3517645947, 3977712.6017645947, 3986908.7317645946, 3995726.3817645945, 4004373.2117645945, 4012721.2617645944, 4023161.371764594, 4033855.9317645943, 4045033.3017645944, 4054079.3417645944, 4064700.8617645944, 4074989.5917635043, 4082154.7917635045, 4090547.7253195643, 4097938.2913505943, 4104328.3313505943, 4111672.9313505944, 4120703.4313505944, 4128688.4313505944, 4135934.441350594, 4143255.971350594, 4151651.221350594, 4158700.1813505944, 4167896.0713505945, 4175016.3113505943, 4181615.4099614443, 4188659.9899614444, 4196491.509961444, 4203457.999961444, 4211340.489961444, 4218768.759961444, 4226411.994215774, 4234599.274215775, 4242321.774215775, 4231022.315063194, 4211500.232397654, 4192856.586773714, 4187470.589023894, 4174947.603744714, 4169296.395224044, 4155549.133698874, 4141379.3136988743, 4133038.2336988742, 4103262.9748541843, 4052377.658705274, 4046385.4720250843, 3988820.6104410444, 3974982.5720317843, 3968690.5646012644, 3954133.5366727444, 3931568.8918369845, 3912629.4022282744, 3890260.8222282743, 3884243.6324050245, 3875871.5813615443, 3865476.4219730343, 3841451.277445624, 3821433.538288074, 3817113.518288074, 3798420.7582880743, 3454876.658288074, 3445007.6082880744, 3423758.9363319944, 3418673.0976515743, 3376157.5776515743, 3352891.5276515745, 3329929.3276515743, 3323522.777641584, 3316157.9692969243, 3311325.4273716942, 3295844.157371694, 3255552.604250864, 3253112.044250864, 3238811.947757914, 3234004.167760014, 3222121.434716934, 3218731.7638890836, 3216849.693889084, 3189217.802511834, 3187071.832511834, 3185017.502511834, 3183495.432511834, 3179584.402511834, 3177261.5225118343, 3170547.422511834, 3167737.4825118342, 3159787.492511834, 3158689.744658064, 3152002.4446580643, 3150447.244658064, 3134823.7346580643, 3120324.554658064, 3115937.4446580643, 3022858.804658064, 3021815.854658064, 3021552.514658064, 3014353.024658064, 3009226.224658064, 3008716.164658064, 3008360.734658064, 3003158.1346580638, 3002997.1646580636, 3002449.5946580637, 3000729.6146580637, 2982915.8946580635, 2982604.1346580638, 2964854.754658064, 2956084.274658064, 2936011.164658064, 2934155.064658064, 2934050.994658064, 2932979.814658064, 2932374.087579364, 2926863.3475793637, 2926063.297579364, 2917508.627592254, 2900664.897592254, 2899776.317592254, 2887931.107592254, 2882547.767592254, 2881018.517592254, 2880360.577592254, 2879702.787592254, 2879292.517592254, 2877555.255474024, 2877554.205474024, 2877078.3054740243, 2863616.2954736245, 2853023.4954736247, 2851297.3354736245, 2850149.1554736244, 2849094.1154736243, 2848748.185473624, 2848550.811784414, 2847940.291784414, 2845807.911784414, 2843935.351784414, 2842115.251784414, 2835854.021784414, 2824995.361784414, 2824603.381784414, 2821341.791784414, 2819739.9517844142, 2816508.6717844144, 2816495.7217844143, 2814808.871784414, 2806973.731784414, 2805428.787872964, 2800279.207872964, 2795378.907872964, 2789941.648808694, 2783597.588808694, 2776867.528808694, 2769873.865834654, 2764316.035834654, 2756830.305834654, 2740746.5658346536, 2712101.5458346535, 2709555.3858346534, 2707459.6136669535, 2703689.5336669534, 2700654.8327666433, 2694937.8727666433, 2687083.4727666434, 2675268.3427666435, 2627766.1061916933, 2611120.915606913, 2603877.665606913, 2602113.025606913, 2557042.825606913, 2554589.405606913, 2550295.284133643, 2539909.344133643, 2532405.8741336428, 2527948.032627463, 2526141.742627463, 2522577.212627463, 2511702.822627463, 2503722.450429503, 2499278.300429503, 2495957.786626663, 2492908.186626663, 2491276.136626663, 2483248.286626663, 2480353.376582833, 2476869.776582833, 2458173.8265828327, 2418682.644682273, 2413329.559175463, 2385795.149175463, 2379865.979175463, 2373027.1291754628, 2313892.689175463, 2292538.4084202927, 2274417.885616393, 2238486.6842390127, 2227925.5270596026, 2195092.1470596027, 2122004.1970596025, 2037747.3470596024, 1995392.1370596024, 1989054.6960945225, 1987210.6460945224, 1970997.8211298424, 1965777.7411298424, 1964396.5305104624, 1963851.3305104624, 1962610.9605104623, 1958780.6110690022, 1957880.606148902, 1936820.856148902, 1928160.306148902, 1920248.410998692, 1914680.400998692, 1913667.200998692, 1911026.8009986922, 1910671.7909986922, 1908989.056015782, 1907632.256015782, 1899431.106015782, 1898217.9360157822, 1894665.826015782, 1892841.016015782, 1892481.966015782, 1878271.3560157819, 1873185.7360157818, 1871830.6860157817, 1871774.5060157818, 1870271.7260157818, 1868496.6760157817, 1868066.6260157817, 1866866.5760157816, 1864190.2760157816, 1862589.3260157816, 1862034.2460157815, 1861783.6260157814, 1861633.5760157814, 1861383.5260157813, 1861258.5260157813, 1860511.7360157813, 1859722.7360157813, 1858892.4860157813, 1858005.5760157814, 1857405.5160157813, 1855405.4660157813, 1855325.4060157812, 1853899.3560157812, 1851793.135198621, 1851450.105198621, 1845264.315198621, 1842612.725198621, 1841502.775198621]}],\n",
              "                        {\"template\": {\"data\": {\"bar\": [{\"error_x\": {\"color\": \"#2a3f5f\"}, \"error_y\": {\"color\": \"#2a3f5f\"}, \"marker\": {\"line\": {\"color\": \"#E5ECF6\", \"width\": 0.5}}, \"type\": \"bar\"}], \"barpolar\": [{\"marker\": {\"line\": {\"color\": \"#E5ECF6\", \"width\": 0.5}}, \"type\": \"barpolar\"}], \"carpet\": [{\"aaxis\": {\"endlinecolor\": \"#2a3f5f\", \"gridcolor\": \"white\", \"linecolor\": \"white\", \"minorgridcolor\": \"white\", \"startlinecolor\": \"#2a3f5f\"}, \"baxis\": {\"endlinecolor\": \"#2a3f5f\", \"gridcolor\": \"white\", \"linecolor\": \"white\", \"minorgridcolor\": \"white\", \"startlinecolor\": \"#2a3f5f\"}, \"type\": \"carpet\"}], \"choropleth\": [{\"colorbar\": {\"outlinewidth\": 0, \"ticks\": \"\"}, \"type\": \"choropleth\"}], \"contour\": [{\"colorbar\": {\"outlinewidth\": 0, \"ticks\": \"\"}, \"colorscale\": [[0.0, \"#0d0887\"], [0.1111111111111111, \"#46039f\"], [0.2222222222222222, \"#7201a8\"], [0.3333333333333333, \"#9c179e\"], [0.4444444444444444, \"#bd3786\"], [0.5555555555555556, \"#d8576b\"], [0.6666666666666666, \"#ed7953\"], [0.7777777777777778, \"#fb9f3a\"], [0.8888888888888888, \"#fdca26\"], [1.0, \"#f0f921\"]], \"type\": \"contour\"}], \"contourcarpet\": [{\"colorbar\": {\"outlinewidth\": 0, \"ticks\": \"\"}, \"type\": \"contourcarpet\"}], \"heatmap\": [{\"colorbar\": {\"outlinewidth\": 0, \"ticks\": \"\"}, \"colorscale\": [[0.0, \"#0d0887\"], [0.1111111111111111, \"#46039f\"], [0.2222222222222222, \"#7201a8\"], [0.3333333333333333, \"#9c179e\"], [0.4444444444444444, \"#bd3786\"], [0.5555555555555556, \"#d8576b\"], [0.6666666666666666, \"#ed7953\"], [0.7777777777777778, \"#fb9f3a\"], [0.8888888888888888, \"#fdca26\"], [1.0, \"#f0f921\"]], \"type\": \"heatmap\"}], \"heatmapgl\": [{\"colorbar\": {\"outlinewidth\": 0, \"ticks\": \"\"}, \"colorscale\": [[0.0, \"#0d0887\"], [0.1111111111111111, \"#46039f\"], [0.2222222222222222, \"#7201a8\"], [0.3333333333333333, \"#9c179e\"], [0.4444444444444444, \"#bd3786\"], [0.5555555555555556, \"#d8576b\"], [0.6666666666666666, \"#ed7953\"], [0.7777777777777778, \"#fb9f3a\"], [0.8888888888888888, \"#fdca26\"], [1.0, \"#f0f921\"]], \"type\": \"heatmapgl\"}], \"histogram\": [{\"marker\": {\"colorbar\": {\"outlinewidth\": 0, \"ticks\": \"\"}}, \"type\": \"histogram\"}], \"histogram2d\": [{\"colorbar\": {\"outlinewidth\": 0, \"ticks\": \"\"}, \"colorscale\": [[0.0, \"#0d0887\"], [0.1111111111111111, \"#46039f\"], [0.2222222222222222, \"#7201a8\"], [0.3333333333333333, \"#9c179e\"], [0.4444444444444444, \"#bd3786\"], [0.5555555555555556, \"#d8576b\"], [0.6666666666666666, \"#ed7953\"], [0.7777777777777778, \"#fb9f3a\"], [0.8888888888888888, \"#fdca26\"], [1.0, \"#f0f921\"]], \"type\": \"histogram2d\"}], \"histogram2dcontour\": [{\"colorbar\": {\"outlinewidth\": 0, \"ticks\": \"\"}, \"colorscale\": [[0.0, \"#0d0887\"], [0.1111111111111111, \"#46039f\"], [0.2222222222222222, \"#7201a8\"], [0.3333333333333333, \"#9c179e\"], [0.4444444444444444, \"#bd3786\"], [0.5555555555555556, \"#d8576b\"], [0.6666666666666666, \"#ed7953\"], [0.7777777777777778, \"#fb9f3a\"], [0.8888888888888888, \"#fdca26\"], [1.0, \"#f0f921\"]], \"type\": \"histogram2dcontour\"}], \"mesh3d\": [{\"colorbar\": {\"outlinewidth\": 0, \"ticks\": \"\"}, \"type\": \"mesh3d\"}], \"parcoords\": [{\"line\": {\"colorbar\": {\"outlinewidth\": 0, \"ticks\": \"\"}}, \"type\": \"parcoords\"}], \"pie\": [{\"automargin\": true, \"type\": \"pie\"}], \"scatter\": [{\"marker\": {\"colorbar\": {\"outlinewidth\": 0, \"ticks\": \"\"}}, \"type\": \"scatter\"}], \"scatter3d\": [{\"line\": {\"colorbar\": {\"outlinewidth\": 0, \"ticks\": \"\"}}, \"marker\": {\"colorbar\": {\"outlinewidth\": 0, \"ticks\": \"\"}}, \"type\": \"scatter3d\"}], \"scattercarpet\": [{\"marker\": {\"colorbar\": {\"outlinewidth\": 0, \"ticks\": \"\"}}, \"type\": \"scattercarpet\"}], \"scattergeo\": [{\"marker\": {\"colorbar\": {\"outlinewidth\": 0, \"ticks\": \"\"}}, \"type\": \"scattergeo\"}], \"scattergl\": [{\"marker\": {\"colorbar\": {\"outlinewidth\": 0, \"ticks\": \"\"}}, \"type\": \"scattergl\"}], \"scattermapbox\": [{\"marker\": {\"colorbar\": {\"outlinewidth\": 0, \"ticks\": \"\"}}, \"type\": \"scattermapbox\"}], \"scatterpolar\": [{\"marker\": {\"colorbar\": {\"outlinewidth\": 0, \"ticks\": \"\"}}, \"type\": \"scatterpolar\"}], \"scatterpolargl\": [{\"marker\": {\"colorbar\": {\"outlinewidth\": 0, \"ticks\": \"\"}}, \"type\": \"scatterpolargl\"}], \"scatterternary\": [{\"marker\": {\"colorbar\": {\"outlinewidth\": 0, \"ticks\": \"\"}}, \"type\": \"scatterternary\"}], \"surface\": [{\"colorbar\": {\"outlinewidth\": 0, \"ticks\": \"\"}, \"colorscale\": [[0.0, \"#0d0887\"], [0.1111111111111111, \"#46039f\"], [0.2222222222222222, \"#7201a8\"], [0.3333333333333333, \"#9c179e\"], [0.4444444444444444, \"#bd3786\"], [0.5555555555555556, \"#d8576b\"], [0.6666666666666666, \"#ed7953\"], [0.7777777777777778, \"#fb9f3a\"], [0.8888888888888888, \"#fdca26\"], [1.0, \"#f0f921\"]], \"type\": \"surface\"}], \"table\": [{\"cells\": {\"fill\": {\"color\": \"#EBF0F8\"}, \"line\": {\"color\": \"white\"}}, \"header\": {\"fill\": {\"color\": \"#C8D4E3\"}, \"line\": {\"color\": \"white\"}}, \"type\": \"table\"}]}, \"layout\": {\"annotationdefaults\": {\"arrowcolor\": \"#2a3f5f\", \"arrowhead\": 0, \"arrowwidth\": 1}, \"coloraxis\": {\"colorbar\": {\"outlinewidth\": 0, \"ticks\": \"\"}}, \"colorscale\": {\"diverging\": [[0, \"#8e0152\"], [0.1, \"#c51b7d\"], [0.2, \"#de77ae\"], [0.3, \"#f1b6da\"], [0.4, \"#fde0ef\"], [0.5, \"#f7f7f7\"], [0.6, \"#e6f5d0\"], [0.7, \"#b8e186\"], [0.8, \"#7fbc41\"], [0.9, \"#4d9221\"], [1, \"#276419\"]], \"sequential\": [[0.0, \"#0d0887\"], [0.1111111111111111, \"#46039f\"], [0.2222222222222222, \"#7201a8\"], [0.3333333333333333, \"#9c179e\"], [0.4444444444444444, \"#bd3786\"], [0.5555555555555556, \"#d8576b\"], [0.6666666666666666, \"#ed7953\"], [0.7777777777777778, \"#fb9f3a\"], [0.8888888888888888, \"#fdca26\"], [1.0, \"#f0f921\"]], \"sequentialminus\": [[0.0, \"#0d0887\"], [0.1111111111111111, \"#46039f\"], [0.2222222222222222, \"#7201a8\"], [0.3333333333333333, \"#9c179e\"], [0.4444444444444444, \"#bd3786\"], [0.5555555555555556, \"#d8576b\"], [0.6666666666666666, \"#ed7953\"], [0.7777777777777778, \"#fb9f3a\"], [0.8888888888888888, \"#fdca26\"], [1.0, \"#f0f921\"]]}, \"colorway\": [\"#636efa\", \"#EF553B\", \"#00cc96\", \"#ab63fa\", \"#FFA15A\", \"#19d3f3\", \"#FF6692\", \"#B6E880\", \"#FF97FF\", \"#FECB52\"], \"font\": {\"color\": \"#2a3f5f\"}, \"geo\": {\"bgcolor\": \"white\", \"lakecolor\": \"white\", \"landcolor\": \"#E5ECF6\", \"showlakes\": true, \"showland\": true, \"subunitcolor\": \"white\"}, \"hoverlabel\": {\"align\": \"left\"}, \"hovermode\": \"closest\", \"mapbox\": {\"style\": \"light\"}, \"paper_bgcolor\": \"white\", \"plot_bgcolor\": \"#E5ECF6\", \"polar\": {\"angularaxis\": {\"gridcolor\": \"white\", \"linecolor\": \"white\", \"ticks\": \"\"}, \"bgcolor\": \"#E5ECF6\", \"radialaxis\": {\"gridcolor\": \"white\", \"linecolor\": \"white\", \"ticks\": \"\"}}, \"scene\": {\"xaxis\": {\"backgroundcolor\": \"#E5ECF6\", \"gridcolor\": \"white\", \"gridwidth\": 2, \"linecolor\": \"white\", \"showbackground\": true, \"ticks\": \"\", \"zerolinecolor\": \"white\"}, \"yaxis\": {\"backgroundcolor\": \"#E5ECF6\", \"gridcolor\": \"white\", \"gridwidth\": 2, \"linecolor\": \"white\", \"showbackground\": true, \"ticks\": \"\", \"zerolinecolor\": \"white\"}, \"zaxis\": {\"backgroundcolor\": \"#E5ECF6\", \"gridcolor\": \"white\", \"gridwidth\": 2, \"linecolor\": \"white\", \"showbackground\": true, \"ticks\": \"\", \"zerolinecolor\": \"white\"}}, \"shapedefaults\": {\"line\": {\"color\": \"#2a3f5f\"}}, \"ternary\": {\"aaxis\": {\"gridcolor\": \"white\", \"linecolor\": \"white\", \"ticks\": \"\"}, \"baxis\": {\"gridcolor\": \"white\", \"linecolor\": \"white\", \"ticks\": \"\"}, \"bgcolor\": \"#E5ECF6\", \"caxis\": {\"gridcolor\": \"white\", \"linecolor\": \"white\", \"ticks\": \"\"}}, \"title\": {\"x\": 0.05}, \"xaxis\": {\"automargin\": true, \"gridcolor\": \"white\", \"linecolor\": \"white\", \"ticks\": \"\", \"title\": {\"standoff\": 15}, \"zerolinecolor\": \"white\", \"zerolinewidth\": 2}, \"yaxis\": {\"automargin\": true, \"gridcolor\": \"white\", \"linecolor\": \"white\", \"ticks\": \"\", \"title\": {\"standoff\": 15}, \"zerolinecolor\": \"white\", \"zerolinewidth\": 2}}}, \"title\": {\"text\": \"The Accumulated UTXO\"}, \"xaxis\": {\"rangeselector\": {\"buttons\": [{\"count\": 1, \"label\": \"1m\", \"step\": \"month\", \"stepmode\": \"backward\"}, {\"count\": 6, \"label\": \"6m\", \"step\": \"month\", \"stepmode\": \"backward\"}, {\"count\": 1, \"label\": \"YTD\", \"step\": \"year\", \"stepmode\": \"todate\"}, {\"count\": 1, \"label\": \"1y\", \"step\": \"year\", \"stepmode\": \"backward\"}, {\"step\": \"all\"}]}, \"rangeslider\": {\"visible\": true}, \"title\": {\"text\": \"Date\"}, \"type\": \"date\"}, \"yaxis\": {\"title\": {\"text\": \"UTXO\"}}},\n",
              "                        {\"responsive\": true}\n",
              "                    ).then(function(){\n",
              "                            \n",
              "var gd = document.getElementById('4717eaab-f7b3-4115-b6bf-0e3d80f47902');\n",
              "var x = new MutationObserver(function (mutations, observer) {{\n",
              "        var display = window.getComputedStyle(gd).display;\n",
              "        if (!display || display === 'none') {{\n",
              "            console.log([gd, 'removed!']);\n",
              "            Plotly.purge(gd);\n",
              "            observer.disconnect();\n",
              "        }}\n",
              "}});\n",
              "\n",
              "// Listen for the removal of the full notebook cells\n",
              "var notebookContainer = gd.closest('#notebook-container');\n",
              "if (notebookContainer) {{\n",
              "    x.observe(notebookContainer, {childList: true});\n",
              "}}\n",
              "\n",
              "// Listen for the clearing of the current output cell\n",
              "var outputEl = gd.closest('.output');\n",
              "if (outputEl) {{\n",
              "    x.observe(outputEl, {childList: true});\n",
              "}}\n",
              "\n",
              "                        })\n",
              "                };\n",
              "                \n",
              "            </script>\n",
              "        </div>\n",
              "</body>\n",
              "</html>"
            ]
          },
          "metadata": {
            "tags": []
          }
        }
      ]
    },
    {
      "cell_type": "markdown",
      "metadata": {
        "id": "_eWOK-2RGuAJ"
      },
      "source": [
        "# Save the Datasets"
      ]
    },
    {
      "cell_type": "markdown",
      "metadata": {
        "id": "YAor0iuSIOvu"
      },
      "source": [
        "### 1. The Datasets for Final Products"
      ]
    },
    {
      "cell_type": "code",
      "metadata": {
        "id": "t_C6yndhGXDR"
      },
      "source": [
        "df_UTXO.to_csv('/content/drive/My Drive/UTXO/df_UTXO.csv')"
      ],
      "execution_count": 100,
      "outputs": []
    },
    {
      "cell_type": "markdown",
      "metadata": {
        "id": "2UHJA9KxITrR"
      },
      "source": [
        "### 2. The Datasets for calculating Final Products in the future dates"
      ]
    },
    {
      "cell_type": "markdown",
      "metadata": {
        "id": "uvJ2jNWVIrs-"
      },
      "source": [
        "Note:  We need the dead dataset  for date beyond the current range 2010-12-31"
      ]
    },
    {
      "cell_type": "code",
      "metadata": {
        "id": "qJ_g-WAeKBnT",
        "outputId": "bfe5fff9-dff1-423b-8903-fe3f188f5629",
        "colab": {
          "base_uri": "https://localhost:8080/",
          "height": 204
        }
      },
      "source": [
        "df_dead.tail()"
      ],
      "execution_count": 102,
      "outputs": [
        {
          "output_type": "execute_result",
          "data": {
            "text/html": [
              "<div>\n",
              "<style scoped>\n",
              "    .dataframe tbody tr th:only-of-type {\n",
              "        vertical-align: middle;\n",
              "    }\n",
              "\n",
              "    .dataframe tbody tr th {\n",
              "        vertical-align: top;\n",
              "    }\n",
              "\n",
              "    .dataframe thead th {\n",
              "        text-align: right;\n",
              "    }\n",
              "</style>\n",
              "<table border=\"1\" class=\"dataframe\">\n",
              "  <thead>\n",
              "    <tr style=\"text-align: right;\">\n",
              "      <th></th>\n",
              "      <th>spent_block_date</th>\n",
              "      <th>UTXO_dead</th>\n",
              "    </tr>\n",
              "  </thead>\n",
              "  <tbody>\n",
              "    <tr>\n",
              "      <th>2115</th>\n",
              "      <td>2020-09-22</td>\n",
              "      <td>50.0</td>\n",
              "    </tr>\n",
              "    <tr>\n",
              "      <th>2116</th>\n",
              "      <td>2020-10-01</td>\n",
              "      <td>50.0</td>\n",
              "    </tr>\n",
              "    <tr>\n",
              "      <th>2117</th>\n",
              "      <td>2020-10-11</td>\n",
              "      <td>1050.0</td>\n",
              "    </tr>\n",
              "    <tr>\n",
              "      <th>2118</th>\n",
              "      <td>2020-10-14</td>\n",
              "      <td>50.0</td>\n",
              "    </tr>\n",
              "    <tr>\n",
              "      <th>2119</th>\n",
              "      <td>2020-10-17</td>\n",
              "      <td>50.0</td>\n",
              "    </tr>\n",
              "  </tbody>\n",
              "</table>\n",
              "</div>"
            ],
            "text/plain": [
              "     spent_block_date  UTXO_dead\n",
              "2115       2020-09-22       50.0\n",
              "2116       2020-10-01       50.0\n",
              "2117       2020-10-11     1050.0\n",
              "2118       2020-10-14       50.0\n",
              "2119       2020-10-17       50.0"
            ]
          },
          "metadata": {
            "tags": []
          },
          "execution_count": 102
        }
      ]
    },
    {
      "cell_type": "code",
      "metadata": {
        "id": "goTOdtBFKg1Y"
      },
      "source": [
        "df_dead=df_dead[df_dead['spent_block_date']>'2010-12-31']"
      ],
      "execution_count": 103,
      "outputs": []
    },
    {
      "cell_type": "code",
      "metadata": {
        "id": "5xp0y2kJK6xG",
        "outputId": "f77458c0-4580-4c5f-dea3-5cd5cc7a2ed8",
        "colab": {
          "base_uri": "https://localhost:8080/",
          "height": 204
        }
      },
      "source": [
        "df_dead.head()"
      ],
      "execution_count": 104,
      "outputs": [
        {
          "output_type": "execute_result",
          "data": {
            "text/html": [
              "<div>\n",
              "<style scoped>\n",
              "    .dataframe tbody tr th:only-of-type {\n",
              "        vertical-align: middle;\n",
              "    }\n",
              "\n",
              "    .dataframe tbody tr th {\n",
              "        vertical-align: top;\n",
              "    }\n",
              "\n",
              "    .dataframe thead th {\n",
              "        text-align: right;\n",
              "    }\n",
              "</style>\n",
              "<table border=\"1\" class=\"dataframe\">\n",
              "  <thead>\n",
              "    <tr style=\"text-align: right;\">\n",
              "      <th></th>\n",
              "      <th>spent_block_date</th>\n",
              "      <th>UTXO_dead</th>\n",
              "    </tr>\n",
              "  </thead>\n",
              "  <tbody>\n",
              "    <tr>\n",
              "      <th>468</th>\n",
              "      <td>2011-01-01</td>\n",
              "      <td>11299.459153</td>\n",
              "    </tr>\n",
              "    <tr>\n",
              "      <th>469</th>\n",
              "      <td>2011-01-02</td>\n",
              "      <td>19522.082666</td>\n",
              "    </tr>\n",
              "    <tr>\n",
              "      <th>470</th>\n",
              "      <td>2011-01-03</td>\n",
              "      <td>18643.645624</td>\n",
              "    </tr>\n",
              "    <tr>\n",
              "      <th>471</th>\n",
              "      <td>2011-01-04</td>\n",
              "      <td>5385.997750</td>\n",
              "    </tr>\n",
              "    <tr>\n",
              "      <th>472</th>\n",
              "      <td>2011-01-05</td>\n",
              "      <td>12522.985279</td>\n",
              "    </tr>\n",
              "  </tbody>\n",
              "</table>\n",
              "</div>"
            ],
            "text/plain": [
              "    spent_block_date     UTXO_dead\n",
              "468       2011-01-01  11299.459153\n",
              "469       2011-01-02  19522.082666\n",
              "470       2011-01-03  18643.645624\n",
              "471       2011-01-04   5385.997750\n",
              "472       2011-01-05  12522.985279"
            ]
          },
          "metadata": {
            "tags": []
          },
          "execution_count": 104
        }
      ]
    },
    {
      "cell_type": "code",
      "metadata": {
        "id": "ZqWeFXpFGzsL"
      },
      "source": [
        "df_dead.to_csv('/content/drive/My Drive/UTXO/df_dead1.csv')"
      ],
      "execution_count": 105,
      "outputs": []
    },
    {
      "cell_type": "code",
      "metadata": {
        "id": "ie5vW1xeLBlJ"
      },
      "source": [
        ""
      ],
      "execution_count": null,
      "outputs": []
    }
  ]
}